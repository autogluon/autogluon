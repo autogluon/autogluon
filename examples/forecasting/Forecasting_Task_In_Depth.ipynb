{
 "cells": [
  {
   "cell_type": "markdown",
   "metadata": {
    "collapsed": true
   },
   "source": [
    "This notebook introduce more advanced techniques in Forecasting tasks."
   ]
  },
  {
   "cell_type": "markdown",
   "metadata": {},
   "source": [
    "Similar to the quick start tutourial, we will do forecasting related to the COV19 dataset."
   ]
  },
  {
   "cell_type": "code",
   "execution_count": null,
   "metadata": {},
   "outputs": [],
   "source": [
    "from autogluon.forecasting import ForecastingPredictor\n",
    "from autogluon.forecasting import TabularDataset\n",
    "\n",
    "train_data = TabularDataset(\"https://autogluon.s3-us-west-2.amazonaws.com/datasets/CovidTimeSeries/train.csv\")\n",
    "test_data = TabularDataset(\"https://autogluon.s3-us-west-2.amazonaws.com/datasets/CovidTimeSeries/test.csv\")\n",
    "\n",
    "save_path = \"AutogluonModels/user/\"\n",
    "# uncessary as it's the default metric\n",
    "eval_metric = \"mean_wQuantileLoss\""
   ]
  },
  {
   "cell_type": "markdown",
   "metadata": {},
   "source": [
    "# Specify hyperparameters and tuning them"
   ]
  },
  {
   "cell_type": "markdown",
   "metadata": {},
   "source": [
    "We can do hyperparameter tuning using autogluon, and here the variable \"context_length\" is the one that we would like to tune."
   ]
  },
  {
   "cell_type": "code",
   "execution_count": null,
   "metadata": {},
   "outputs": [],
   "source": [
    "import autogluon.core as ag\n",
    "from gluonts.mx.distribution.neg_binomial import NegativeBinomialOutput\n",
    "\n",
    "\n",
    "mqcnn_params = {\n",
    "    \"context_length\": ag.Int(75, 100),\n",
    "    \"num_batches_per_epoch\": 10,\n",
    "    \"epochs\": 5\n",
    "}\n",
    "\n",
    "deepar_params = {\n",
    "    \"context_length\": ag.Int(75, 100),\n",
    "    \"num_batches_per_epoch\": 10,\n",
    "    \"distr_output\": NegativeBinomialOutput(),\n",
    "    \"epochs\": 5\n",
    "}\n",
    "\n",
    "sff_params = {\n",
    "    \"context_length\": ag.Int(75, 100),\n",
    "    \"num_batches_per_epoch\": 10,\n",
    "    \"epochs\": 5\n",
    "}\n",
    "\n",
    "predictor = ForecastingPredictor(path=save_path, eval_metric=eval_metric).fit(train_data,\n",
    "                                                                              prediction_length=19,\n",
    "                                                                              index_column=\"name\",\n",
    "                                                                              target_column=\"ConfirmedCases\",\n",
    "                                                                              time_column=\"Date\",\n",
    "                                                                              hyperparameter_tune_kwargs={ \n",
    "                                                                                 'scheduler': 'local',\n",
    "                                                                                 'searcher': 'random',\n",
    "                                                                                 \"num_trials\": 2\n",
    "                                                                              },\n",
    "                                                                              quantiles=[0.1, 0.5, 0.9],\n",
    "                                                                              hyperparameters={\n",
    "                                                                                  \"MQCNN\": mqcnn_params,\n",
    "                                                                                  \"DeepAR\": deepar_params,\n",
    "                                                                                  \"SFF\": sff_params,\n",
    "                                                                              },\n",
    "                                                                              )"
   ]
  },
  {
   "cell_type": "code",
   "execution_count": null,
   "metadata": {},
   "outputs": [],
   "source": [
    "predictor.fit_summary()"
   ]
  },
  {
   "cell_type": "markdown",
   "metadata": {},
   "source": [
    "# Evaluation and Predictions"
   ]
  },
  {
   "cell_type": "markdown",
   "metadata": {},
   "source": [
    "We again demonstrate how to use the trained models to predict on the test data."
   ]
  },
  {
   "cell_type": "markdown",
   "metadata": {},
   "source": [
    "To see the performance of each model on test data, we can use the leaderboard() method."
   ]
  },
  {
   "cell_type": "code",
   "execution_count": null,
   "metadata": {},
   "outputs": [],
   "source": [
    "predictor.leaderboard(test_data)"
   ]
  },
  {
   "cell_type": "markdown",
   "metadata": {},
   "source": [
    "By default, the predictor will use the best model on the validation set to do the prediction. The prediction results we get is a dictionary whose key is each time series's index and value is the corresponding prediction dataframe."
   ]
  },
  {
   "cell_type": "code",
   "execution_count": null,
   "metadata": {},
   "outputs": [],
   "source": [
    "predictions = predictor.predict(test_data)\n",
    "predictions[\"Afghanistan_\"]"
   ]
  },
  {
   "cell_type": "markdown",
   "metadata": {},
   "source": [
    "To see which model is the best, we can call the get_model_best() method for trainer."
   ]
  },
  {
   "cell_type": "code",
   "execution_count": null,
   "metadata": {},
   "outputs": [],
   "source": [
    "predictor._trainer.get_model_best()"
   ]
  },
  {
   "cell_type": "markdown",
   "metadata": {},
   "source": [
    "Besides using the best model on validation data, we can also specify which model we want to use for predictions."
   ]
  },
  {
   "cell_type": "code",
   "execution_count": null,
   "metadata": {},
   "outputs": [],
   "source": [
    "model_trained = predictor._trainer.get_model_names_all()\n",
    "specific_model = predictor._trainer.load_model(model_trained[0])\n",
    "specific_model.get_info()"
   ]
  },
  {
   "cell_type": "code",
   "execution_count": null,
   "metadata": {},
   "outputs": [],
   "source": [
    "specific_predictions = predictor.predict(test_data, model=specific_model)\n",
    "specific_predictions[\"Afghanistan_\"]"
   ]
  },
  {
   "cell_type": "markdown",
   "metadata": {},
   "source": [
    "# Static Features"
   ]
  },
  {
   "cell_type": "markdown",
   "metadata": {},
   "source": [
    "We allow users to input additional time series static features to help with the prediction."
   ]
  },
  {
   "cell_type": "code",
   "execution_count": null,
   "metadata": {},
   "outputs": [],
   "source": [
    "static_features = TabularDataset(\"https://autogluon.s3-us-west-2.amazonaws.com/datasets/CovidTimeSeries\"\n",
    "                                 \"/toy_static_features.csv\")\n",
    "static_features.head()"
   ]
  },
  {
   "cell_type": "code",
   "execution_count": null,
   "metadata": {},
   "outputs": [],
   "source": [
    "mqcnn_params = {\n",
    "    \"context_length\": ag.Int(75, 100),\n",
    "    \"num_batches_per_epoch\": 10,\n",
    "    \"epochs\": 5\n",
    "}\n",
    "\n",
    "deepar_params = {\n",
    "    \"context_length\": ag.Int(75, 100),\n",
    "    \"num_batches_per_epoch\": 10,\n",
    "    \"distr_output\": NegativeBinomialOutput(),\n",
    "    \"epochs\": 5\n",
    "}\n",
    "\n",
    "sff_params = {\n",
    "    \"context_length\": ag.Int(75, 100),\n",
    "    \"num_batches_per_epoch\": 10,\n",
    "    \"epochs\": 5\n",
    "}\n",
    "\n",
    "predictor = ForecastingPredictor(path=save_path, eval_metric=eval_metric).fit(train_data,\n",
    "                                                                              prediction_length=19,\n",
    "                                                                              index_column=\"name\",\n",
    "                                                                              target_column=\"ConfirmedCases\",\n",
    "                                                                              time_column=\"Date\",\n",
    "                                                                              static_features=static_features,\n",
    "                                                                              hyperparameter_tune_kwargs={                                                                         # hyperparameter_tune_kwargs={\n",
    "                                                                                 'scheduler': 'local',\n",
    "                                                                                 'searcher': 'random',\n",
    "                                                                                 \"num_trials\": 2\n",
    "                                                                              },\n",
    "                                                                              quantiles=[0.1, 0.5, 0.9],\n",
    "                                                                              hyperparameters={\n",
    "                                                                                  \"MQCNN\": mqcnn_params,\n",
    "                                                                                  \"DeepAR\": deepar_params,\n",
    "                                                                                  \"SFF\": sff_params,\n",
    "                                                                              },\n",
    "                                                                              )"
   ]
  },
  {
   "cell_type": "markdown",
   "metadata": {},
   "source": [
    "If you provide static features when training, then when using predictor.leaderboard(), predictor.evaluate(), and predictor.predict(), static features must be provided as well, otherwise, an exception will be raised."
   ]
  },
  {
   "cell_type": "code",
   "execution_count": null,
   "metadata": {},
   "outputs": [],
   "source": [
    "predictor.leaderboard(test_data, static_features=static_features)"
   ]
  },
  {
   "cell_type": "code",
   "execution_count": null,
   "metadata": {},
   "outputs": [],
   "source": [
    "specific_predictions = predictor.predict(test_data, static_features=static_features)\n",
    "specific_predictions[\"Afghanistan_\"]"
   ]
  },
  {
   "cell_type": "code",
   "execution_count": null,
   "metadata": {},
   "outputs": [],
   "source": []
  }
 ],
 "metadata": {
  "kernelspec": {
   "display_name": "Python 3",
   "language": "python",
   "name": "python3"
  },
  "language_info": {
   "codemirror_mode": {
    "name": "ipython",
    "version": 3
   },
   "file_extension": ".py",
   "mimetype": "text/x-python",
   "name": "python",
   "nbconvert_exporter": "python",
   "pygments_lexer": "ipython3",
   "version": "3.7.7"
  }
 },
 "nbformat": 4,
 "nbformat_minor": 1
}