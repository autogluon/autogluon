{
 "cells": [
  {
   "cell_type": "code",
   "execution_count": 1,
   "metadata": {},
   "outputs": [],
   "source": [
    "import autogluon as ag"
   ]
  },
  {
   "cell_type": "code",
   "execution_count": 2,
   "metadata": {},
   "outputs": [],
   "source": [
    "@ag.autogluon_method\n",
    "def myfaketest(args, reporter):\n",
    "    print(vars(args))\n",
    "    reporter(accuracy=args.value)"
   ]
  },
  {
   "cell_type": "code",
   "execution_count": 3,
   "metadata": {},
   "outputs": [],
   "source": [
    "import ConfigSpace as CS\n",
    "import ConfigSpace.hyperparameters as CSH\n",
    "\n",
    "cs = CS.ConfigurationSpace()\n",
    "value = CSH.UniformFloatHyperparameter('value', lower=0, upper=100)\n",
    "cs.add_hyperparameter(value)\n",
    "\n",
    "searcher1 = ag.searcher.RandomSampling(cs)\n",
    "searcher2 = ag.searcher.RandomSampling(cs)\n"
   ]
  },
  {
   "cell_type": "code",
   "execution_count": 4,
   "metadata": {},
   "outputs": [
    {
     "data": {
      "text/plain": [
       "RandomSampling(\n",
       "ConfigSpace: Configuration space object:\n",
       "  Hyperparameters:\n",
       "    value, Type: UniformFloat, Range: [0.0, 100.0], Default: 50.0\n",
       ".\n",
       "Number of Trials: 0.\n",
       "Best Config: {}\n",
       "Best Reward: 0.0)"
      ]
     },
     "execution_count": 4,
     "metadata": {},
     "output_type": "execute_result"
    }
   ],
   "source": [
    "searcher1"
   ]
  },
  {
   "cell_type": "code",
   "execution_count": 5,
   "metadata": {},
   "outputs": [
    {
     "name": "stdout",
     "output_type": "stream",
     "text": [
      "[\u001b[1m scheduler local\u001b[0m ] : distributed.scheduler - INFO - -----------------------------------------------\n",
      "[\u001b[1m worker local\u001b[0m ] : distributed.diskutils - INFO - Found stale lock file and directory '/home/ubuntu/git/AutoGluon/examples/worker-mzwmw_ly', purging\n",
      "[\u001b[1m scheduler local\u001b[0m ] : distributed.scheduler - INFO - Clear task state\n",
      "[\u001b[1m scheduler local\u001b[0m ] : distributed.dashboard.proxy - INFO - To route to workers diagnostics web server please install jupyter-server-proxy: pip install jupyter-server-proxy\n",
      "[\u001b[1m scheduler local\u001b[0m ] : distributed.scheduler - INFO -   Scheduler at:   tcp://172.31.23.33:8781\n",
      "[\u001b[1m scheduler local\u001b[0m ] : distributed.scheduler - INFO -   dashboard at:                     :8787\n",
      "[\u001b[1m scheduler local\u001b[0m ] : distributed.scheduler - INFO - Local Directory:    /tmp/scheduler-dva2ezbk\n",
      "[\u001b[1m scheduler local\u001b[0m ] : distributed.scheduler - INFO - -----------------------------------------------\n",
      "[\u001b[1m scheduler local\u001b[0m ] : distributed.scheduler - INFO - Receive client connection: Remote-9d3c99cc-d429-11e9-b226-2d7d8b8e2aa0\n",
      "[\u001b[1m scheduler local\u001b[0m ] : distributed.core - INFO - Starting established connection\n",
      "[\u001b[1m worker local\u001b[0m ] : distributed.worker - INFO -       Start worker at:   tcp://172.31.23.33:42714\n",
      "[\u001b[1m worker local\u001b[0m ] : distributed.worker - INFO -          Listening to:   tcp://172.31.23.33:42714\n",
      "[\u001b[1m worker local\u001b[0m ] : distributed.worker - INFO -          dashboard at:         172.31.23.33:45743\n",
      "[\u001b[1m worker local\u001b[0m ] : distributed.worker - INFO - Waiting to connect to:    tcp://172.31.23.33:8781\n",
      "[\u001b[1m worker local\u001b[0m ] : distributed.worker - INFO - -------------------------------------------------\n",
      "[\u001b[1m worker local\u001b[0m ] : distributed.worker - INFO -               Threads:                         64\n",
      "[\u001b[1m worker local\u001b[0m ] : distributed.worker - INFO -                Memory:                  515.70 GB\n",
      "[\u001b[1m worker local\u001b[0m ] : distributed.worker - INFO -       Local Directory: /home/ubuntu/git/AutoGluon/examples/worker-y3v2psf_\n",
      "[\u001b[1m worker local\u001b[0m ] : distributed.worker - INFO - -------------------------------------------------\n",
      "[\u001b[1m scheduler local\u001b[0m ] : distributed.scheduler - INFO - Register tcp://172.31.23.33:42714\n",
      "[\u001b[1m scheduler local\u001b[0m ] : distributed.scheduler - INFO - Starting worker compute stream, tcp://172.31.23.33:42714\n",
      "[\u001b[1m scheduler local\u001b[0m ] : distributed.core - INFO - Starting established connection\n",
      "[\u001b[1m worker local\u001b[0m ] : distributed.worker - INFO -         Registered to:    tcp://172.31.23.33:8781\n",
      "[\u001b[1m worker local\u001b[0m ] : distributed.worker - INFO - -------------------------------------------------\n",
      "[\u001b[1m worker local\u001b[0m ] : distributed.core - INFO - Starting established connection\n"
     ]
    }
   ],
   "source": [
    "import argparse\n",
    "args = argparse.Namespace()\n",
    "args.value = 0\n",
    "\n",
    "myscheduler1 = ag.distributed.DistributedFIFOScheduler(myfaketest, args,\n",
    "                                                       resource={'num_cpus': 2, 'num_gpus': 1},\n",
    "                                                       searcher=searcher1,\n",
    "                                                       num_trials=10,\n",
    "                                                       reward_attr=\"accuracy\")\n",
    "myscheduler2 = ag.distributed.DistributedFIFOScheduler(myfaketest, args,\n",
    "                                                       resource={'num_cpus': 2, 'num_gpus': 1},\n",
    "                                                       searcher=searcher2,\n",
    "                                                       num_trials=10,\n",
    "                                                       reward_attr=\"accuracy\")"
   ]
  },
  {
   "cell_type": "code",
   "execution_count": 6,
   "metadata": {},
   "outputs": [
    {
     "data": {
      "text/plain": [
       "DistributedFIFOScheduler(\n",
       "DistributedResourceManager{\n",
       "(Remote: Remote REMOTE_ID: 0, \n",
       "\t<Remote: scheduler='tcp://172.31.23.33:8781' processes=1 cores=64>, Resource: NodeResourceManager(64 CPUs, 8 GPUs))\n",
       "})"
      ]
     },
     "execution_count": 6,
     "metadata": {},
     "output_type": "execute_result"
    }
   ],
   "source": [
    "myscheduler1"
   ]
  },
  {
   "cell_type": "code",
   "execution_count": 7,
   "metadata": {},
   "outputs": [
    {
     "data": {
      "text/plain": [
       "DistributedFIFOScheduler(\n",
       "DistributedResourceManager{\n",
       "(Remote: Remote REMOTE_ID: 0, \n",
       "\t<Remote: scheduler='tcp://172.31.23.33:8781' processes=1 cores=64>, Resource: NodeResourceManager(64 CPUs, 8 GPUs))\n",
       "})"
      ]
     },
     "execution_count": 7,
     "metadata": {},
     "output_type": "execute_result"
    }
   ],
   "source": [
    "myscheduler2"
   ]
  },
  {
   "cell_type": "code",
   "execution_count": 8,
   "metadata": {},
   "outputs": [
    {
     "name": "stdout",
     "output_type": "stream",
     "text": [
      "[\u001b[1m scheduler local\u001b[0m ] : distributed.scheduler - INFO - Receive client connection: Client-worker-9f092ba2-d429-11e9-b2c9-795d6f4b59ac\n",
      "[\u001b[1m scheduler local\u001b[0m ] : distributed.core - INFO - Starting established connection\n",
      "[ worker local] : {'value': 70.80599896663361, 'task_id': 0}\n",
      "[ worker local] : {'value': 85.33424924654159, 'task_id': 2}\n",
      "[ worker local] : {'value': 11.776230130384613, 'task_id': 1}\n",
      "[ worker local] : {'value': 89.17383667487057, 'task_id': 5}\n"
     ]
    }
   ],
   "source": [
    "myscheduler1.run()"
   ]
  },
  {
   "cell_type": "code",
   "execution_count": 9,
   "metadata": {},
   "outputs": [
    {
     "name": "stdout",
     "output_type": "stream",
     "text": [
      "[ worker local] : {'value': 90.40165242050453, 'task_id': 3}\n",
      "[ worker local] : {'value': 25.8987803706377, 'task_id': 6}\n",
      "[ worker local] : {'value': 55.11623130816776, 'task_id': 7}\n",
      "[ worker local] : {'value': 58.60364563381175, 'task_id': 4}\n",
      "[ worker local] : {'value': 71.1934859783368, 'task_id': 8}\n",
      "[ worker local] : {'value': 45.65400732718562, 'task_id': 9}\n"
     ]
    }
   ],
   "source": [
    "myscheduler1.join_tasks()"
   ]
  },
  {
   "cell_type": "code",
   "execution_count": 10,
   "metadata": {},
   "outputs": [
    {
     "name": "stdout",
     "output_type": "stream",
     "text": [
      "[ worker local] : {'value': 42.26707694066803, 'task_id': 11}\n",
      "[ worker local] : {'value': 27.55015466787575, 'task_id': 10}\n",
      "[ worker local] : {'value': 23.202324753275192, 'task_id': 12}\n",
      "[ worker local] : {'value': 70.32969353942566, 'task_id': 13}\n",
      "[ worker local] : {'value': 91.1766535016539, 'task_id': 14}\n",
      "[ worker local] : {'value': 40.056612221382714, 'task_id': 15}\n",
      "[ worker local] : {'value': 78.23934442548637, 'task_id': 16}\n",
      "[ worker local] : {'value': 81.00888631782374, 'task_id': 17}\n",
      "[ worker local] : {'value': 43.53362896443377, 'task_id': 18}\n",
      "[ worker local] : {'value': 61.382607446031344, 'task_id': 19}\n"
     ]
    }
   ],
   "source": [
    "myscheduler2.run()\n",
    "myscheduler2.join_tasks()"
   ]
  },
  {
   "cell_type": "code",
   "execution_count": 11,
   "metadata": {},
   "outputs": [
    {
     "data": {
      "text/plain": [
       "90.40165242050453"
      ]
     },
     "execution_count": 11,
     "metadata": {},
     "output_type": "execute_result"
    }
   ],
   "source": [
    "myscheduler1.searcher.get_best_reward()"
   ]
  },
  {
   "cell_type": "code",
   "execution_count": 12,
   "metadata": {},
   "outputs": [
    {
     "data": {
      "text/plain": [
       "91.1766535016539"
      ]
     },
     "execution_count": 12,
     "metadata": {},
     "output_type": "execute_result"
    }
   ],
   "source": [
    "myscheduler2.searcher.get_best_reward()"
   ]
  },
  {
   "cell_type": "code",
   "execution_count": null,
   "metadata": {},
   "outputs": [],
   "source": []
  }
 ],
 "metadata": {
  "kernelspec": {
   "display_name": "Python 3",
   "language": "python",
   "name": "python3"
  },
  "language_info": {
   "codemirror_mode": {
    "name": "ipython",
    "version": 3
   },
   "file_extension": ".py",
   "mimetype": "text/x-python",
   "name": "python",
   "nbconvert_exporter": "python",
   "pygments_lexer": "ipython3",
   "version": "3.6.5"
  }
 },
 "nbformat": 4,
 "nbformat_minor": 2
}
