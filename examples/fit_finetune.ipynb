{
 "cells": [
  {
   "cell_type": "markdown",
   "metadata": {},
   "source": [
    "# AutoGluon Image Classification Finetuning"
   ]
  },
  {
   "cell_type": "markdown",
   "metadata": {},
   "source": [
    "**Import the basic packages**"
   ]
  },
  {
   "cell_type": "code",
   "execution_count": 1,
   "metadata": {},
   "outputs": [],
   "source": [
    "import autogluon as ag\n",
    "from gluoncv.model_zoo import get_model\n",
    "from autogluon import image_classification as task"
   ]
  },
  {
   "cell_type": "markdown",
   "metadata": {},
   "source": [
    "**Create dataset**"
   ]
  },
  {
   "cell_type": "code",
   "execution_count": 2,
   "metadata": {},
   "outputs": [
    {
     "name": "stdout",
     "output_type": "stream",
     "text": [
      "AutoGluon Dataset: \n",
      " ======== \n",
      " name = apparel\n",
      " ======== \n"
     ]
    }
   ],
   "source": [
    "dataset = task.Dataset(name='apparel',\n",
    "                       train_path='datasets/apparel/train/',\n",
    "                       val_path='datasets/apparel/val/',\n",
    "                       num_classes=18)\n",
    "print(dataset)"
   ]
  },
  {
   "cell_type": "markdown",
   "metadata": {},
   "source": [
    "**Required resources per trial**"
   ]
  },
  {
   "cell_type": "code",
   "execution_count": 3,
   "metadata": {},
   "outputs": [],
   "source": [
    "resources_per_trial = {\n",
    "    'max_num_gpus': 4,\n",
    "    'max_num_cpus': 32,\n",
    "    'max_training_epochs': 80\n",
    "}"
   ]
  },
  {
   "cell_type": "markdown",
   "metadata": {},
   "source": [
    "**Start Fitting**"
   ]
  },
  {
   "cell_type": "code",
   "execution_count": 4,
   "metadata": {},
   "outputs": [],
   "source": [
    "results = task.fit(dataset, resources_per_trial=resources_per_trial)"
   ]
  },
  {
   "cell_type": "code",
   "execution_count": 5,
   "metadata": {},
   "outputs": [
    {
     "name": "stdout",
     "output_type": "stream",
     "text": [
      "67.62 acc\n",
      "{'loss': 'SoftmaxCrossEntropyLoss', 'metric': 'Accuracy', 'model': 'resnet50_v1b', 'optimizer': 'sgd', 'lr': 0.004933784345432528, 'momentum': 0.8669032341970383, 'norm_layer': 'BatchNorm', 'pretrained': True, 'pretrained_base': True, 'wd': 0.00019788152102079938}\n"
     ]
    }
   ],
   "source": [
    "print('%.2f acc' % (results.metric * 100))\n",
    "print(results.config)"
   ]
  },
  {
   "cell_type": "markdown",
   "metadata": {},
   "source": [
    "## Customized Hyperparameters for Search\n",
    "search learning rate and weight decay"
   ]
  },
  {
   "cell_type": "code",
   "execution_count": 6,
   "metadata": {},
   "outputs": [
    {
     "name": "stdout",
     "output_type": "stream",
     "text": [
      "AutoGluon Optimizers ['sgd'] with Configuration space object:\n",
      "  Hyperparameters:\n",
      "    lr, Type: UniformFloat, Range: [0.001, 0.01], Default: 0.0031622777, on log-scale\n",
      "    optimizer, Type: Categorical, Choices: {sgd}, Default: sgd\n",
      "    wd, Type: UniformFloat, Range: [1e-05, 0.001], Default: 0.0001, on log-scale\n",
      "  Conditions:\n",
      "    lr | optimizer in {'sgd'}\n",
      "    wd | optimizer in {'sgd'}\n",
      "\n"
     ]
    }
   ],
   "source": [
    "opt = ag.optims.SGD(lr=ag.Log('lr', 0.001, 0.01),\n",
    "                    wd=ag.Log('wd', 1e-5, 1e-3))\n",
    "optimizers = ag.Optimizers([opt])\n",
    "print(optimizers)"
   ]
  },
  {
   "cell_type": "code",
   "execution_count": 7,
   "metadata": {},
   "outputs": [],
   "source": [
    "stop_criterion = {\n",
    "    'time_limits': 1*60*60,\n",
    "    'max_metric': 1.0,\n",
    "    'max_trial_count': 20,\n",
    "}\n",
    "\n",
    "results = task.fit(dataset, optimizers=optimizers,\n",
    "                   resources_per_trial=resources_per_trial,\n",
    "                   stop_criterion=stop_criterion,\n",
    "                   trial_scheduler='hyperband')"
   ]
  },
  {
   "cell_type": "code",
   "execution_count": 8,
   "metadata": {},
   "outputs": [
    {
     "name": "stdout",
     "output_type": "stream",
     "text": [
      "68.14 acc\n",
      "{'loss': 'SoftmaxCrossEntropyLoss', 'metric': 'Accuracy', 'model': 'resnet18_v1b', 'optimizer': 'sgd', 'lr': 0.00676362356656999, 'norm_layer': 'BatchNorm', 'pretrained': True, 'pretrained_base': False, 'wd': 1.1926031323492988e-05}\n"
     ]
    }
   ],
   "source": [
    "print('%.2f acc' % (results.metric * 100))\n",
    "print(results.config)"
   ]
  }
 ],
 "metadata": {
  "kernelspec": {
   "display_name": "Python 3",
   "language": "python",
   "name": "python3"
  },
  "language_info": {
   "codemirror_mode": {
    "name": "ipython",
    "version": 3
   },
   "file_extension": ".py",
   "mimetype": "text/x-python",
   "name": "python",
   "nbconvert_exporter": "python",
   "pygments_lexer": "ipython3",
   "version": "3.6.5"
  }
 },
 "nbformat": 4,
 "nbformat_minor": 2
}
