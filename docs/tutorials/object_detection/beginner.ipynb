{
 "cells": [
  {
   "cell_type": "markdown",
   "id": "e68510a3",
   "metadata": {},
   "source": [
    "# Object Detection - Quick Start\n",
    "\n",
    "[![Open In Colab](https://colab.research.google.com/assets/colab-badge.svg)](https://colab.research.google.com/github/autogluon/autogluon/blob/new/docs/tutorials/object_detection/beginner.ipynb)\n",
    "[![Open In SageMaker Studio Lab](https://studiolab.sagemaker.aws/studiolab.svg)](https://studiolab.sagemaker.aws/import/github/autogluon/autogluon/blob/new/docs/tutorials/object_detection/beginner.ipynb)\n",
    "\n",
    "\n",
    "\n",
    "**Note**: AutoGluon ObjectDetector will be deprecated in v0.7. Please try our [AutoGluon MultiModalPredictor](https://auto.gluon.ai/stable/tutorials/multimodal/object_detection/quick_start/quick_start_coco.html) for more functionalities and better support for your object detection  need.\n",
    "\n",
    "Object detection is the process of identifying and localizing objects in an image and is an important task in computer vision. Follow this tutorial to learn how to use AutoGluon for object detection.\n",
    "\n",
    "**Tip**: If you are new to AutoGluon, review [Image Prediction - Quick Start](http://auto.gluon.ai/new/tutorials/image_prediction/beginner.ipynb#image-prediction---quick-start) first to learn the basics of the AutoGluon API.\n",
    "\n",
    "Our goal is to detect motorbike in images by [YOLOv3 model](https://pjreddie.com/media/files/papers/YOLOv3.pdf). A tiny dataset is collected from VOC dataset, which only contains the motorbike category. The model pretrained on the COCO dataset is used to fine-tune our small dataset. With the help of AutoGluon, we are able to try many models with different hyperparameters automatically, and return the best one as our final model.\n",
    "\n",
    "To start, import ObjectDetector:"
   ]
  },
  {
   "cell_type": "code",
   "execution_count": null,
   "id": "ab3c157f",
   "metadata": {},
   "outputs": [],
   "source": [
    "from autogluon.vision import ObjectDetector"
   ]
  },
  {
   "cell_type": "markdown",
   "id": "8c24c07b",
   "metadata": {},
   "source": [
    "## Tiny_motorbike Dataset\n",
    "We collect a toy dataset for detecting motorbikes in images. From the VOC dataset, images are randomly selected for training, validation, and testing - 120 images for training, 50 images for validation, and 50 for testing. This tiny dataset follows the same format as VOC.\n",
    "\n",
    "Using the commands below, we can download this dataset, which is only 23M. The name of unzipped folder is called `tiny_motorbike`. Anyway, the task dataset helper can perform the download and extraction automatically, and load the dataset according to the detection formats."
   ]
  },
  {
   "cell_type": "code",
   "execution_count": null,
   "id": "94eaf94c",
   "metadata": {},
   "outputs": [],
   "source": [
    "url = 'https://autogluon.s3.amazonaws.com/datasets/tiny_motorbike.zip'\n",
    "dataset_train = ObjectDetector.Dataset.from_voc(url, splits='trainval')"
   ]
  },
  {
   "cell_type": "markdown",
   "id": "8abaac82",
   "metadata": {},
   "source": [
    "## Fit Models by AutoGluon\n",
    "In this section, we demonstrate how to apply AutoGluon to fit our detection models. We use mobilenet as the backbone for the YOLOv3 model. Two different learning rates are used to fine-tune the network. The best model is the one that obtains the best performance on the validation dataset. You can also try using more networks and hyperparameters to create a larger searching space.\n",
    "\n",
    "We `fit` a classifier using AutoGluon as follows. In each experiment (one trial in our searching space), we train the model for 5 epochs to avoid bursting our tutorial runtime."
   ]
  },
  {
   "cell_type": "code",
   "execution_count": null,
   "id": "b7ca8884",
   "metadata": {},
   "outputs": [],
   "source": [
    "time_limit = 60*30  # at most 0.5 hour\n",
    "detector = ObjectDetector()\n",
    "hyperparameters = {'epochs': 5, 'batch_size': 8}\n",
    "hyperparameter_tune_kwargs={'num_trials': 2}\n",
    "detector.fit(dataset_train, time_limit=time_limit, hyperparameters=hyperparameters, hyperparameter_tune_kwargs=hyperparameter_tune_kwargs)\n"
   ]
  },
  {
   "cell_type": "markdown",
   "id": "5e7383df",
   "metadata": {},
   "source": [
    "Note that `num_trials=2` above is only used to speed up the tutorial. In normal\n",
    "practice, it is common to only use `time_limit` and drop `num_trials`. Also note\n",
    "that hyperparameter tuning defaults to random search.\n",
    "\n",
    "After fitting, AutoGluon automatically returns the best model among all models in the searching space. From the output, we know the best model is the one trained with the second learning rate. To see how well the returned model performed on test dataset, call detector.evaluate()."
   ]
  },
  {
   "cell_type": "code",
   "execution_count": null,
   "id": "78943521",
   "metadata": {},
   "outputs": [],
   "source": [
    "dataset_test = ObjectDetector.Dataset.from_voc(url, splits='test')\n",
    "\n",
    "test_map = detector.evaluate(dataset_test)\n",
    "print(\"mAP on test dataset: {}\".format(test_map[1][-1]))"
   ]
  },
  {
   "cell_type": "markdown",
   "id": "e574846a",
   "metadata": {},
   "source": [
    "Below, we randomly select an image from test dataset and show the predicted class, box and probability over the origin image, stored in `predict_class`, `predict_rois` and `predict_score` columns, respectively. You can interpret `predict_rois` as a dict of (`xmin`, `ymin`, `xmax`, `ymax`) proportional to original image size."
   ]
  },
  {
   "cell_type": "code",
   "execution_count": null,
   "id": "43da6c68",
   "metadata": {},
   "outputs": [],
   "source": [
    "image_path = dataset_test.iloc[0]['image']\n",
    "result = detector.predict(image_path)\n",
    "print(result)"
   ]
  },
  {
   "cell_type": "markdown",
   "id": "3dee1e5d",
   "metadata": {},
   "source": [
    "Prediction with multiple images is permitted:"
   ]
  },
  {
   "cell_type": "code",
   "execution_count": null,
   "id": "a5a8428f",
   "metadata": {},
   "outputs": [],
   "source": [
    "bulk_result = detector.predict(dataset_test)\n",
    "print(bulk_result)"
   ]
  },
  {
   "cell_type": "markdown",
   "id": "1b67128d",
   "metadata": {},
   "source": [
    "We can also save the trained model, and use it later.\n",
    "\n",
    "```{warning}\n",
    "\n",
    "`ObjectDetector.load()` uses `pickle` module implicitly, which is known to be insecure. It is possible to construct malicious pickle data which will execute arbitrary code during unpickling. Never load data that could have come from an untrusted source, or that could have been tampered with. **Only load data you trust.**\n",
    "\n",
    "```"
   ]
  },
  {
   "cell_type": "code",
   "execution_count": null,
   "id": "52ccf66b",
   "metadata": {},
   "outputs": [],
   "source": [
    "savefile = 'detector.ag'\n",
    "detector.save(savefile)\n",
    "new_detector = ObjectDetector.load(savefile)"
   ]
  }
 ],
 "metadata": {
  "language_info": {
   "name": "python"
  }
 },
 "nbformat": 4,
 "nbformat_minor": 5
}