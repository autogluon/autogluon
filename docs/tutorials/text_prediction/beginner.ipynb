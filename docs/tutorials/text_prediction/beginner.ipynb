{
 "cells": [
  {
   "cell_type": "markdown",
   "id": "3c164148",
   "metadata": {},
   "source": [
    "# Text Prediction - Quick Start\n",
    "\n",
    "[![Open In Colab](https://colab.research.google.com/assets/colab-badge.svg)](https://colab.research.google.com/github/autogluon/autogluon/blob/new/docs/tutorials/text_prediction/beginner.ipynb)\n",
    "[![Open In SageMaker Studio Lab](https://studiolab.sagemaker.aws/studiolab.svg)](https://studiolab.sagemaker.aws/import/github/autogluon/autogluon/blob/new/docs/tutorials/text_prediction/beginner.ipynb)\n",
    "\n",
    ":label:`sec_textprediction_beginner`\n",
    "\n",
    "\n",
    "*Starting from AutoGluon 0.6, we recommend to adopt `MultiModalPredictor` if you are looking for automatically finetuning foundational models for text problems. See more in :ref:`sec_automm_textprediction_beginner_`* \n",
    "\n",
    "Here we briefly demonstrate the `TextPredictor`, which helps you automatically train and deploy models for various Natural Language Processing (NLP) tasks.\n",
    "This tutorial presents two examples of NLP tasks:\n",
    "\n",
    "- [Sentiment Analysis](https://en.wikipedia.org/wiki/Sentiment_analysis)\n",
    "- [Sentence Similarity](https://arxiv.org/abs/1910.03940)\n",
    "\n",
    "The general usage of the `TextPredictor` is similar to AutoGluon's `TabularPredictor`. We format NLP datasets as tables where certain columns contain text fields and a special column contains the labels to predict, and each row corresponds to one training example.\n",
    "Here, the labels can be discrete categories (classification) or numerical values (regression). In fact, `TextPredictor` also enables training on multi-modal data tables that contain text, numeric and categorical columns\n",
    "and also support solving multilingual problems."
   ]
  },
  {
   "cell_type": "code",
   "execution_count": null,
   "id": "5ff30bb8",
   "metadata": {},
   "outputs": [],
   "source": [
    "%matplotlib inline\n",
    "\n",
    "import numpy as np\n",
    "import warnings\n",
    "import matplotlib.pyplot as plt\n",
    "\n",
    "warnings.filterwarnings('ignore')\n",
    "np.random.seed(123)"
   ]
  },
  {
   "cell_type": "markdown",
   "id": "7a8fd5d1",
   "metadata": {},
   "source": [
    "## Sentiment Analysis Task\n",
    "\n",
    "First, we consider the Stanford Sentiment Treebank ([SST](https://nlp.stanford.edu/sentiment/)) dataset, which consists of movie reviews and their associated sentiment. \n",
    "Given a new movie review, the goal is to predict the sentiment reflected in the text (in this case a **binary classification**, where reviews are labeled as 1 if they convey a positive opinion and labeled as 0 otherwise). Let's first load and look at the data, noting the labels are stored in a column called **label**."
   ]
  },
  {
   "cell_type": "code",
   "execution_count": null,
   "id": "6f62fdc0",
   "metadata": {},
   "outputs": [],
   "source": [
    "from autogluon.core.utils.loaders import load_pd\n",
    "train_data = load_pd.load('https://autogluon-text.s3-accelerate.amazonaws.com/glue/sst/train.parquet')\n",
    "test_data = load_pd.load('https://autogluon-text.s3-accelerate.amazonaws.com/glue/sst/dev.parquet')\n",
    "subsample_size = 1000  # subsample data for faster demo, try setting this to larger values\n",
    "train_data = train_data.sample(n=subsample_size, random_state=0)\n",
    "train_data.head(10)"
   ]
  },
  {
   "cell_type": "markdown",
   "id": "bcba3d60",
   "metadata": {},
   "source": [
    "Above the data happen to be stored in a [Parquet](https://databricks.com/glossary/what-is-parquet) table format, but you can also directly `load()` data from a [CSV](https://en.wikipedia.org/wiki/Comma-separated_values) file instead. While here we load files from [AWS S3 cloud storage](https://docs.aws.amazon.com/AmazonS3/latest/dev/Welcome.html), these could instead be local files on your machine. After loading, `train_data` is simply a [Pandas DataFrame](https://pandas.pydata.org/pandas-docs/stable/reference/api/pandas.DataFrame.html), where each row represents a different training example (for machine learning to be appropriate, the rows should be independent and identically distributed).\n",
    "\n",
    "### Training\n",
    "\n",
    "To ensure this tutorial runs quickly, we simply call `fit()` with a subset of 1000 training examples and limit its runtime to approximately 1 minute.\n",
    "To achieve reasonable performance in your applications, you are recommended to set much longer `time_limit` (eg. 1 hour), or do not specify `time_limit` at all (`time_limit=None`)."
   ]
  },
  {
   "cell_type": "code",
   "execution_count": null,
   "id": "1a8e8f7e",
   "metadata": {},
   "outputs": [],
   "source": [
    "from autogluon.text import TextPredictor\n",
    "\n",
    "predictor = TextPredictor(label='label', eval_metric='acc', path='./ag_sst')\n",
    "predictor.fit(train_data, time_limit=60)"
   ]
  },
  {
   "cell_type": "markdown",
   "id": "fbc8c25b",
   "metadata": {},
   "source": [
    "Above we specify that: the column named **label** contains the label values to predict, AutoGluon should optimize its predictions for the accuracy evaluation metric,  trained models should be saved in the **ag_sst** folder, and training should run for around 60 seconds.\n",
    "\n",
    "### Evaluation\n",
    "\n",
    "After training, we can easily evaluate our predictor on separate test data formatted similarly to our training data."
   ]
  },
  {
   "cell_type": "code",
   "execution_count": null,
   "id": "d36355fc",
   "metadata": {},
   "outputs": [],
   "source": [
    "test_score = predictor.evaluate(test_data)\n",
    "print(test_score)"
   ]
  },
  {
   "cell_type": "markdown",
   "id": "f4aaed9f",
   "metadata": {},
   "source": [
    "By default, `evaluate()` will report the evaluation metric previously specified, which is `accuracy` in our example. You may also specify additional metrics, e.g. F1 score, when calling evaluate."
   ]
  },
  {
   "cell_type": "code",
   "execution_count": null,
   "id": "74a0a8c9",
   "metadata": {},
   "outputs": [],
   "source": [
    "test_score = predictor.evaluate(test_data, metrics=['acc', 'f1'])\n",
    "print(test_score)"
   ]
  },
  {
   "cell_type": "markdown",
   "id": "2db5fad8",
   "metadata": {},
   "source": [
    "### Prediction\n",
    "\n",
    "And you can easily obtain predictions from these models by calling `predictor.predict()`."
   ]
  },
  {
   "cell_type": "code",
   "execution_count": null,
   "id": "486fbba7",
   "metadata": {},
   "outputs": [],
   "source": [
    "sentence1 = \"it's a charming and often affecting journey.\"\n",
    "sentence2 = \"It's slow, very, very, very slow.\"\n",
    "predictions = predictor.predict({'sentence': [sentence1, sentence2]})\n",
    "print('\"Sentence\":', sentence1, '\"Predicted Sentiment\":', predictions.iloc[0])\n",
    "print('\"Sentence\":', sentence2, '\"Predicted Sentiment\":', predictions.iloc[1])"
   ]
  },
  {
   "cell_type": "markdown",
   "id": "e30c7baa",
   "metadata": {},
   "source": [
    "For classification tasks, you can ask for predicted class-probabilities instead of predicted classes."
   ]
  },
  {
   "cell_type": "code",
   "execution_count": null,
   "id": "3c63e37c",
   "metadata": {},
   "outputs": [],
   "source": [
    "probs = predictor.predict_proba({'sentence': [sentence1, sentence2]})\n",
    "print('\"Sentence\":', sentence1, '\"Predicted Class-Probabilities\":', probs.iloc[0])\n",
    "print('\"Sentence\":', sentence2, '\"Predicted Class-Probabilities\":', probs.iloc[1])"
   ]
  },
  {
   "cell_type": "markdown",
   "id": "5b1fb3ec",
   "metadata": {},
   "source": [
    "We can just as easily produce predictions over an entire dataset."
   ]
  },
  {
   "cell_type": "code",
   "execution_count": null,
   "id": "5b83e24d",
   "metadata": {},
   "outputs": [],
   "source": [
    "test_predictions = predictor.predict(test_data)\n",
    "test_predictions.head()"
   ]
  },
  {
   "cell_type": "markdown",
   "id": "7a9a8aaf",
   "metadata": {},
   "source": [
    "### Save and Load\n",
    "\n",
    "The trained predictor is automatically saved at the end of `fit()`, and you can easily reload it.\n",
    "\n",
    ":::warning\n",
    "\n",
    "`TextPredictor.load()` used `pickle` module implicitly, which is known to be insecure. It is possible to construct malicious pickle data which will execute arbitrary code during unpickling. Never load data that could have come from an untrusted source, or that could have been tampered with. **Only load data you trust.**\n",
    "\n",
    ":::"
   ]
  },
  {
   "cell_type": "code",
   "execution_count": null,
   "id": "4c4c1d02",
   "metadata": {},
   "outputs": [],
   "source": [
    "loaded_predictor = TextPredictor.load('ag_sst')\n",
    "loaded_predictor.predict_proba({'sentence': [sentence1, sentence2]})"
   ]
  },
  {
   "cell_type": "markdown",
   "id": "d2c78c7a",
   "metadata": {},
   "source": [
    "You can also save the predictor to any location by calling `.save()`."
   ]
  },
  {
   "cell_type": "code",
   "execution_count": null,
   "id": "2d9eb9d7",
   "metadata": {},
   "outputs": [],
   "source": [
    "loaded_predictor.save('my_saved_dir')\n",
    "loaded_predictor2 = TextPredictor.load('my_saved_dir')\n",
    "loaded_predictor2.predict_proba({'sentence': [sentence1, sentence2]})"
   ]
  },
  {
   "cell_type": "markdown",
   "id": "5a7993fc",
   "metadata": {},
   "source": [
    "### Extract Embeddings\n",
    "\n",
    ":label:`sec_textprediction_extract_embedding`\n",
    "\n",
    "\n",
    "You can also use a trained predictor to extract embeddings that maps each row of the data table to an embedding vector extracted from intermediate neural network representations of the row."
   ]
  },
  {
   "cell_type": "code",
   "execution_count": null,
   "id": "be25bd04",
   "metadata": {},
   "outputs": [],
   "source": [
    "embeddings = predictor.extract_embedding(test_data)\n",
    "print(embeddings)"
   ]
  },
  {
   "cell_type": "markdown",
   "id": "7299bf91",
   "metadata": {},
   "source": [
    "Here, we use TSNE to visualize these extracted embeddings. We can see that there are two clusters corresponding to our two labels, since this network has been trained to discriminate between these labels."
   ]
  },
  {
   "cell_type": "code",
   "execution_count": null,
   "id": "70337d43",
   "metadata": {},
   "outputs": [],
   "source": [
    "from sklearn.manifold import TSNE\n",
    "X_embedded = TSNE(n_components=2, random_state=123).fit_transform(embeddings)\n",
    "for val, color in [(0, 'red'), (1, 'blue')]:\n",
    "    idx = (test_data['label'].to_numpy() == val).nonzero()\n",
    "    plt.scatter(X_embedded[idx, 0], X_embedded[idx, 1], c=color, label=f'label={val}')\n",
    "plt.legend(loc='best')"
   ]
  },
  {
   "cell_type": "markdown",
   "id": "f85643a5",
   "metadata": {},
   "source": [
    "### Continuous Training\n",
    "\n",
    ":label:`sec_textprediction_continuous_training`\n",
    "\n",
    "\n",
    "You can also load a predictor and call `.fit()` again to continue training the same predictor with new data."
   ]
  },
  {
   "cell_type": "code",
   "execution_count": null,
   "id": "0efed8f4",
   "metadata": {},
   "outputs": [],
   "source": [
    "new_predictor = TextPredictor.load('ag_sst')\n",
    "new_predictor.fit(train_data, time_limit=30, save_path='ag_sst_continue_train')\n",
    "test_score = new_predictor.evaluate(test_data, metrics=['acc', 'f1'])\n",
    "print(test_score)"
   ]
  },
  {
   "cell_type": "markdown",
   "id": "5a7415b7",
   "metadata": {},
   "source": [
    "## Sentence Similarity Task\n",
    "\n",
    "Next, let's use AutoGluon to train a model for evaluating how semantically similar two sentences are.\n",
    "We use the [Semantic Textual Similarity Benchmark](http://ixa2.si.ehu.es/stswiki/index.php/STSbenchmark) dataset for illustration."
   ]
  },
  {
   "cell_type": "code",
   "execution_count": null,
   "id": "3f00967f",
   "metadata": {},
   "outputs": [],
   "source": [
    "sts_train_data = load_pd.load('https://autogluon-text.s3-accelerate.amazonaws.com/glue/sts/train.parquet')[['sentence1', 'sentence2', 'score']]\n",
    "sts_test_data = load_pd.load('https://autogluon-text.s3-accelerate.amazonaws.com/glue/sts/dev.parquet')[['sentence1', 'sentence2', 'score']]\n",
    "sts_train_data.head(10)"
   ]
  },
  {
   "cell_type": "markdown",
   "id": "85655d51",
   "metadata": {},
   "source": [
    "In this data, the column named **score** contains numerical values (which we'd like to predict) that are human-annotated similarity scores for each given pair of sentences."
   ]
  },
  {
   "cell_type": "code",
   "execution_count": null,
   "id": "f81c62ec",
   "metadata": {},
   "outputs": [],
   "source": [
    "print('Min score=', min(sts_train_data['score']), ', Max score=', max(sts_train_data['score']))"
   ]
  },
  {
   "cell_type": "markdown",
   "id": "36a98eb0",
   "metadata": {},
   "source": [
    "Let's train a regression model to predict these scores. Note that we only need to specify the label column and AutoGluon automatically determines the type of prediction problem and an appropriate loss function. Once again, you should increase the short `time_limit` below to obtain reasonable performance in your own applications."
   ]
  },
  {
   "cell_type": "code",
   "execution_count": null,
   "id": "b1227739",
   "metadata": {},
   "outputs": [],
   "source": [
    "predictor_sts = TextPredictor(label='score', path='./ag_sts')\n",
    "predictor_sts.fit(sts_train_data, time_limit=60)"
   ]
  },
  {
   "cell_type": "markdown",
   "id": "ae2bb30e",
   "metadata": {},
   "source": [
    "We again evaluate our trained model's performance on separate test data. Below we choose to compute the following metrics: RMSE, Pearson Correlation, and Spearman Correlation."
   ]
  },
  {
   "cell_type": "code",
   "execution_count": null,
   "id": "ab1c215a",
   "metadata": {},
   "outputs": [],
   "source": [
    "test_score = predictor_sts.evaluate(sts_test_data, metrics=['rmse', 'pearsonr', 'spearmanr'])\n",
    "print('RMSE = {:.2f}'.format(test_score['rmse']))\n",
    "print('PEARSONR = {:.4f}'.format(test_score['pearsonr']))\n",
    "print('SPEARMANR = {:.4f}'.format(test_score['spearmanr']))"
   ]
  },
  {
   "cell_type": "markdown",
   "id": "e2b5d8b0",
   "metadata": {},
   "source": [
    "Let's use our model to predict the similarity score between a few sentences."
   ]
  },
  {
   "cell_type": "code",
   "execution_count": null,
   "id": "0bd4e9ce",
   "metadata": {},
   "outputs": [],
   "source": [
    "sentences = ['The child is riding a horse.',\n",
    "             'The young boy is riding a horse.',\n",
    "             'The young man is riding a horse.',\n",
    "             'The young man is riding a bicycle.']\n",
    "\n",
    "score1 = predictor_sts.predict({'sentence1': [sentences[0]],\n",
    "                                'sentence2': [sentences[1]]}, as_pandas=False)\n",
    "\n",
    "score2 = predictor_sts.predict({'sentence1': [sentences[0]],\n",
    "                                'sentence2': [sentences[2]]}, as_pandas=False)\n",
    "\n",
    "score3 = predictor_sts.predict({'sentence1': [sentences[0]],\n",
    "                                'sentence2': [sentences[3]]}, as_pandas=False)\n",
    "print(score1, score2, score3)"
   ]
  },
  {
   "cell_type": "markdown",
   "id": "2f60dcf2",
   "metadata": {},
   "source": [
    "Although the `TextPredictor` currently supports classification and regression tasks, it can directly be used for \n",
    "many NLP tasks if you properly format them into a data table. Note that there can be many text columns in this data table. \n",
    "Refer to the [TextPredictor documentation](../../api/autogluon.predictor.html#autogluon.text.TextPredictor.fit) to see all available methods/options.\n",
    "\n",
    "Unlike `TabularPredictor` which trains/ensembles many different types of models,\n",
    "`TextPredictor` focuses on fine-tuning deep learning based models. It supports transfer learning from pretrained NLP models like: [BERT](https://arxiv.org/pdf/1810.04805.pdf),\n",
    "[ALBERT](https://arxiv.org/pdf/1909.11942.pdf), and [ELECTRA](https://openreview.net/pdf?id=r1xMH1BtvB).\n",
    "\n",
    "**Note:** `TextPredictor` uses `pytorch` as the default backend."
   ]
  }
 ],
 "metadata": {
  "language_info": {
   "name": "python"
  }
 },
 "nbformat": 4,
 "nbformat_minor": 5
}