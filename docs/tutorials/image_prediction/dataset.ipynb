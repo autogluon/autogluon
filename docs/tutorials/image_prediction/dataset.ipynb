{
 "cells": [
  {
   "cell_type": "markdown",
   "id": "79df2052",
   "metadata": {},
   "source": [
    "# Image Prediction - Properly load any image dataset as ImageDataset\n",
    "\n",
    "[![Open In Colab](https://colab.research.google.com/assets/colab-badge.svg)](https://colab.research.google.com/github/autogluon/autogluon/blob/new/docs/tutorials/image_prediction/dataset.ipynb)\n",
    "[![Open In SageMaker Studio Lab](https://studiolab.sagemaker.aws/studiolab.svg)](https://studiolab.sagemaker.aws/import/github/autogluon/autogluon/blob/new/docs/tutorials/image_prediction/dataset.ipynb)\n",
    "\n",
    ":label:`sec_imgdataset`\n",
    "\n",
    "\n",
    "Preparing the dataset for ImagePredictor is not difficult at all, however, we'd like to introduce the\n",
    "recommended ways to initialize the dataset, so you will have a smoother experience using `autogluon.vision.ImagePredictor`.\n",
    "\n",
    "There are generally three ways to load a dataset for ImagePredictor:\n",
    "\n",
    "- Load a csv file or construct your own pandas `DataFrame` with `image` and `label` columns\n",
    "\n",
    "- Load a image folder directly with `ImageDataset`\n",
    "\n",
    "- Convert a list of images into a dataset directly with `ImageDataset`\n",
    "\n",
    "We will go through these four methods one by one. First of all, let's import AutoGluon:"
   ]
  },
  {
   "cell_type": "code",
   "execution_count": null,
   "id": "c2805c2e",
   "metadata": {},
   "outputs": [],
   "source": [
    "%matplotlib inline\n",
    "import autogluon.core as ag\n",
    "from autogluon.vision import ImageDataset\n",
    "import pandas as pd"
   ]
  },
  {
   "cell_type": "markdown",
   "id": "9de8b2f1",
   "metadata": {},
   "source": [
    "## Load a csv file or construct a DataFrame object\n",
    "\n",
    "We use a csv file from PetFinder competition as an example. You may use any tabular data as long as you can\n",
    "create `image`(absolute or relative paths to images) and `label`(category for each image) columns."
   ]
  },
  {
   "cell_type": "code",
   "execution_count": null,
   "id": "85f400af",
   "metadata": {},
   "outputs": [],
   "source": [
    "csv_file = ag.utils.download('https://autogluon.s3-us-west-2.amazonaws.com/datasets/petfinder_example.csv')\n",
    "df = pd.read_csv(csv_file)\n",
    "df.head()"
   ]
  },
  {
   "cell_type": "markdown",
   "id": "64cec934",
   "metadata": {},
   "source": [
    "If the image paths are not relative to the current working directory, you may use the helper function to prepend a prefix for each image. Using absolute paths can reduce the chance of an OSError happening during file access:"
   ]
  },
  {
   "cell_type": "code",
   "execution_count": null,
   "id": "33b7e1ab",
   "metadata": {},
   "outputs": [],
   "source": [
    "df = ImageDataset.from_csv(csv_file, root='/home/ubuntu')\n",
    "df.head()"
   ]
  },
  {
   "cell_type": "markdown",
   "id": "de7f032f",
   "metadata": {},
   "source": [
    "Or you can perform the correction by yourself:"
   ]
  },
  {
   "cell_type": "code",
   "execution_count": null,
   "id": "d5a55df3",
   "metadata": {},
   "outputs": [],
   "source": [
    "import os\n",
    "df['image'] = df['image'].apply(lambda x: os.path.join('/home/ubuntu', x))\n",
    "df.head()"
   ]
  },
  {
   "cell_type": "markdown",
   "id": "d0059c0a",
   "metadata": {},
   "source": [
    "Otherwise you may use the `DataFrame` as-is, `ImagePredictor` will apply auto conversion during `fit` to ensure other metadata is available for training. You can have multiple columns in the `DataFrame`, `ImagePredictor` only cares about `image` and `label` columns during training.\n",
    "\n",
    "## Load an image directory\n",
    "\n",
    "It's pretty common that sometimes you only have a folder of images, organized by the category names. Recursively looping through images is tedious. You can use `ImageDataset.from_folders` or `ImageDataset.from_folder` to avoid implementing recursive search.\n",
    "\n",
    "The difference between `from_folders` and `from_folder` is the targeting folder structure.\n",
    "If you have a folder with splits, e.g., `train`, `test`, like:\n",
    "\n",
    "- root/train/car/0001.jpg\n",
    "- root/train/car/xxxa.jpg\n",
    "- root/val/bus/123.png\n",
    "- root/test/bus/023.jpg\n",
    "\n",
    "Then you can load the splits with `from_folders`:"
   ]
  },
  {
   "cell_type": "code",
   "execution_count": null,
   "id": "efd786fb",
   "metadata": {},
   "outputs": [],
   "source": [
    "train_data, _, test_data = ImageDataset.from_folders('https://autogluon.s3.amazonaws.com/datasets/shopee-iet.zip', train='train', test='test')\n",
    "print('train #', len(train_data), 'test #', len(test_data))\n",
    "train_data.head()"
   ]
  },
  {
   "cell_type": "markdown",
   "id": "bb153b3a",
   "metadata": {},
   "source": [
    "If you have a folder without `train` or `test` root folders, like:\n",
    "\n",
    "- root/car/0001.jpg\n",
    "- root/car/xxxa.jpg\n",
    "- root/bus/123.png\n",
    "- root/bus/023.jpg\n",
    "\n",
    "Then you can load the splits with `from_folder`:"
   ]
  },
  {
   "cell_type": "code",
   "execution_count": null,
   "id": "964bbfa9",
   "metadata": {},
   "outputs": [],
   "source": [
    "# use the train from shopee-iet as new root\n",
    "root = os.path.join(os.path.dirname(train_data.iloc[0]['image']), '..')\n",
    "all_data = ImageDataset.from_folder(root)\n",
    "all_data.head()"
   ]
  },
  {
   "cell_type": "code",
   "execution_count": null,
   "id": "09b3d512",
   "metadata": {},
   "outputs": [],
   "source": [
    "# you can manually split the dataset or use `random_split`\n",
    "train, val, test = all_data.random_split(val_size=0.1, test_size=0.1)\n",
    "print('train #:', len(train), 'test #:', len(test))"
   ]
  },
  {
   "cell_type": "markdown",
   "id": "d1b70adc",
   "metadata": {},
   "source": [
    "## Convert a list of images to dataset\n",
    "\n",
    "You can create a dataset from a list of images with a function, the function is used to determine the label of each image. We use the Oxford-IIIT Pet Dataset mini pack as an example, where images are scattered in `images` directory but with a unique pattern: filenames of cats start with a capital letter, otherwise they are dogs. So we can use a function to distinguish and assign a label to each image:"
   ]
  },
  {
   "cell_type": "code",
   "execution_count": null,
   "id": "25d1c63f",
   "metadata": {},
   "outputs": [],
   "source": [
    "pets = ag.utils.download('https://autogluon.s3-us-west-2.amazonaws.com/datasets/oxford-iiit-pet-mini.zip')\n",
    "pets = ag.utils.unzip(pets)\n",
    "image_list = [x for x in os.listdir(os.path.join(pets, 'images')) if x.endswith('jpg')]\n",
    "def label_fn(x):\n",
    "    return 'cat' if os.path.basename(x)[0].isupper() else 'dog'\n",
    "new_data = ImageDataset.from_name_func(image_list, label_fn, root=os.path.join(os.getcwd(), pets, 'images'))\n",
    "new_data"
   ]
  },
  {
   "cell_type": "markdown",
   "id": "24ddc1b8",
   "metadata": {},
   "source": [
    "## Visualize images\n",
    "\n",
    "You can use `show_images` to visualize the images, as well as the corresponding labels:"
   ]
  },
  {
   "cell_type": "code",
   "execution_count": null,
   "id": "76badb64",
   "metadata": {},
   "outputs": [],
   "source": [
    "new_data.show_images()"
   ]
  },
  {
   "cell_type": "markdown",
   "id": "7593e890",
   "metadata": {},
   "source": [
    "For raw DataFrame objects, you can convert them to Dataset first to use `show_images`.\n",
    "\n",
    "Congratulations, you can now proceed to :ref:`sec_imgquick` to start training the `ImagePredictor`."
   ]
  }
 ],
 "metadata": {
  "language_info": {
   "name": "python"
  }
 },
 "nbformat": 4,
 "nbformat_minor": 5
}