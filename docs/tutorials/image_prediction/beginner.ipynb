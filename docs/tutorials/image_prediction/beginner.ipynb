{
 "cells": [
  {
   "cell_type": "markdown",
   "id": "4f99e42f",
   "metadata": {},
   "source": [
    "# Image Prediction - Quick Start\n",
    "\n",
    ":label:`sec_imgquick`\n",
    "\n",
    "\n",
    "**Note**: AutoGluon ImagePredictor will be deprecated in v0.7. Please try our [AutoGluon MultiModalPredictor](https://auto.gluon.ai/stable/tutorials/multimodal/image_prediction/beginner_image_cls.html) for more functionalities and better support for your image classification need.\n",
    "\n",
    "In this quick start, we'll use the task of image classification to illustrate how to use AutoGluon’s APIs. This tutorial demonstrates how to load images and corresponding labels into AutoGluon and use this data to obtain a neural network that can classify new images. This is different from traditional machine learning where we need to manually define the neural network and then specify the hyperparameters in the training process. Instead, with just a single call to AutoGluon's [fit](../../api/autogluon.predictor.html#autogluon.vision.ImagePredictor.fit) function, AutoGluon automatically trains many models with different hyperparameter configurations and returns the model that achieved the highest level of accuracy."
   ]
  },
  {
   "cell_type": "code",
   "execution_count": null,
   "id": "1c50d2fe",
   "metadata": {},
   "outputs": [],
   "source": [
    "import autogluon.core as ag\n",
    "from autogluon.vision import ImagePredictor, ImageDataset"
   ]
  },
  {
   "cell_type": "markdown",
   "id": "7c129a60",
   "metadata": {},
   "source": [
    "## Create Image Dataset\n",
    "\n",
    "For demonstration purposes, we use a subset of the [Shopee-IET dataset](https://www.kaggle.com/c/shopee-iet-machine-learning-competition/data) from Kaggle.\n",
    "Each image in this data depicts a clothing item and the corresponding label specifies its clothing category.\n",
    "Our subset of the data contains the following possible labels: `BabyPants`, `BabyShirt`, `womencasualshoes`, `womenchiffontop`.\n",
    "\n",
    "We can load a dataset by downloading a url data automatically:"
   ]
  },
  {
   "cell_type": "code",
   "execution_count": null,
   "id": "a72d28e5",
   "metadata": {},
   "outputs": [],
   "source": [
    "train_dataset, _, test_dataset = ImageDataset.from_folders('https://autogluon.s3.amazonaws.com/datasets/shopee-iet.zip')\n",
    "print(train_dataset)"
   ]
  },
  {
   "cell_type": "markdown",
   "id": "ddc7c158",
   "metadata": {},
   "source": [
    "## Use AutoGluon to Fit Models\n",
    "\n",
    "Now, we fit a classifier using AutoGluon as follows:"
   ]
  },
  {
   "cell_type": "code",
   "execution_count": null,
   "id": "ef41a66a",
   "metadata": {},
   "outputs": [],
   "source": [
    "predictor = ImagePredictor()\n",
    "# since the original dataset does not provide validation split, the `fit` function splits it randomly with 90/10 ratio\n",
    "predictor.fit(train_dataset, hyperparameters={'epochs': 2})  # you can trust the default config, we reduce the # epoch to save some build time"
   ]
  },
  {
   "cell_type": "markdown",
   "id": "c100a77a",
   "metadata": {},
   "source": [
    "Within `fit`, the dataset is automatically split into training and validation sets.\n",
    "The model with the best hyperparameter configuration is selected based on its performance on the validation set.\n",
    "The best model is finally retrained on our entire dataset (i.e., merging training+validation) using the best configuration.\n",
    "\n",
    "The best Top-1 accuracy achieved on the validation set is as follows:"
   ]
  },
  {
   "cell_type": "code",
   "execution_count": null,
   "id": "45565724",
   "metadata": {},
   "outputs": [],
   "source": [
    "fit_result = predictor.fit_summary()\n",
    "print('Top-1 train acc: %.3f, val acc: %.3f' %(fit_result['train_acc'], fit_result['valid_acc']))"
   ]
  },
  {
   "cell_type": "markdown",
   "id": "4d0abc95",
   "metadata": {},
   "source": [
    "## Predict on a New Image\n",
    "\n",
    "Given an example image, we can easily use the final model to `predict` the label (and the conditional class-probability denoted as `score`):"
   ]
  },
  {
   "cell_type": "code",
   "execution_count": null,
   "id": "033fa583",
   "metadata": {},
   "outputs": [],
   "source": [
    "image_path = test_dataset.iloc[0]['image']\n",
    "result = predictor.predict(image_path)\n",
    "print(result)"
   ]
  },
  {
   "cell_type": "markdown",
   "id": "77377071",
   "metadata": {},
   "source": [
    "If probabilities of all categories are needed, you can call `predict_proba`:"
   ]
  },
  {
   "cell_type": "code",
   "execution_count": null,
   "id": "2e957cbe",
   "metadata": {},
   "outputs": [],
   "source": [
    "proba = predictor.predict_proba(image_path)\n",
    "print(proba)"
   ]
  },
  {
   "cell_type": "markdown",
   "id": "cb50f395",
   "metadata": {},
   "source": [
    "You can also feed in multiple images all together, let's use images in test dataset as an example:"
   ]
  },
  {
   "cell_type": "code",
   "execution_count": null,
   "id": "2ad9dbbe",
   "metadata": {},
   "outputs": [],
   "source": [
    "bulk_result = predictor.predict(test_dataset)\n",
    "print(bulk_result)"
   ]
  },
  {
   "cell_type": "markdown",
   "id": "03f289e7",
   "metadata": {},
   "source": [
    "An extra column will be included in bulk prediction, to indicate the corresponding image for the row. There will be (# image) rows in the result, each row includes `class`, `score`, `id` and `image` for prediction class, prediction confidence, class id, and image path respectively.\n",
    "\n",
    "\n",
    "## Generate image features with a classifier\n",
    "\n",
    "Extracting representation from the whole image learned by a model is also very useful. We provide `predict_feature` function to allow predictor to return the N-dimensional image feature where `N` depends on the model(usually a 512 to 2048 length vector)"
   ]
  },
  {
   "cell_type": "code",
   "execution_count": null,
   "id": "66c1ebac",
   "metadata": {},
   "outputs": [],
   "source": [
    "image_path = test_dataset.iloc[0]['image']\n",
    "feature = predictor.predict_feature(image_path)\n",
    "print(feature)"
   ]
  },
  {
   "cell_type": "markdown",
   "id": "3454b9b1",
   "metadata": {},
   "source": [
    "## Evaluate on Test Dataset\n",
    "\n",
    "You can evaluate the classifier on a test dataset rather than retrieving the predictions.\n",
    "\n",
    "The validation and test top-1 accuracy are:"
   ]
  },
  {
   "cell_type": "code",
   "execution_count": null,
   "id": "0a21dd5e",
   "metadata": {},
   "outputs": [],
   "source": [
    "test_acc = predictor.evaluate(test_dataset)\n",
    "print('Top-1 test acc: %.3f' % test_acc['top1'])"
   ]
  },
  {
   "cell_type": "markdown",
   "id": "cf2fc538",
   "metadata": {},
   "source": [
    "## Save and load classifiers\n",
    "\n",
    "You can directly save the instances of classifiers:\n",
    "\n",
    ":::warning\n",
    "\n",
    "`ImagePredictor.load()` used `pickle` module implicitly, which is known to be insecure. It is possible to construct malicious pickle data which will execute arbitrary code during unpickling. Never load data that could have come from an untrusted source, or that could have been tampered with. **Only load data you trust.**\n",
    "\n",
    ":::"
   ]
  },
  {
   "cell_type": "code",
   "execution_count": null,
   "id": "b1e09dd6",
   "metadata": {},
   "outputs": [],
   "source": [
    "filename = 'predictor.ag'\n",
    "predictor.save(filename)\n",
    "predictor_loaded = ImagePredictor.load(filename)\n",
    "# use predictor_loaded as usual\n",
    "result = predictor_loaded.predict(image_path)\n",
    "print(result)"
   ]
  }
 ],
 "metadata": {
  "language_info": {
   "name": "python"
  }
 },
 "nbformat": 4,
 "nbformat_minor": 5
}