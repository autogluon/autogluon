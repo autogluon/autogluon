{
 "cells": [
  {
   "cell_type": "markdown",
   "id": "222aa95a",
   "metadata": {},
   "source": [
    "# Deploying AutoGluon models with serverless templates\n",
    "\n",
    "[![Open In Colab](https://colab.research.google.com/assets/colab-badge.svg)](https://colab.research.google.com/github/autogluon/autogluon/blob/master/docs/tutorials/cloud_fit_deploy/cloud-aws-lambda-deployment.ipynb)\n",
    "[![Open In SageMaker Studio Lab](https://studiolab.sagemaker.aws/studiolab.svg)](https://studiolab.sagemaker.aws/import/github/autogluon/autogluon/blob/master/docs/tutorials/cloud_fit_deploy/cloud-aws-lambda-deployment.ipynb)\n",
    "\n",
    "\n",
    "\n",
    "After learning how to train/deploy models using AWS SageMaker [Cloud Training with Amazon SageMaker](cloud-aws-sagemaker-train-deploy.ipynb), in this section we will learn how to deploy\n",
    "trained models using AWS Lambda.\n",
    "\n",
    "## Reducing the model size to minimize AWS Lambda startup times\n",
    "\n",
    "When the Lambda service receives a request to run a function via the Lambda API, the service first prepares an execution environment. During this step, the service \n",
    "downloads the code for the function, which is stored in Amazon Elastic Container Registry. It then creates an environment with the memory, runtime, and configuration \n",
    "specified. Once complete, Lambda runs any initialization code outside of the event handler before finally running the handler code. The steps of setting up the \n",
    "environment and the code are frequently referred to as a \"cold start\".\n",
    "\n",
    "After the execution completes, the execution environment is frozen. To improve resource management and performance, the Lambda service retains the execution environment \n",
    "for a non-deterministic period of time. During this time, if another request arrives for the same function, the service may reuse the environment. This second request \n",
    "typically finishes more quickly, since the execution environment already exists and it’s not necessary to download the code and run the initialization code. \n",
    "This is called a \"warm start\".\n",
    "\n",
    "Because AutoGluon containers are larger than a typical Lambda container, it might take some time (60+ seconds) to perform steps required for a \"cold start\".  \n",
    "This could be limiting factor when used with latency-sensitive applications. To reduce start up times with AWS Lambda it is important to reduce model size to a minimum. \n",
    "This can be done by applying deployment-optimized presets as described in section \"Faster presets or hyperparameters\" of [Predicting Columns in a Table - In Depth](../tabular/tabular-indepth.ipynb):"
   ]
  },
  {
   "cell_type": "markdown",
   "id": "e1a9af96",
   "metadata": {},
   "source": [
    "```python\n",
    "presets = ['good_quality_faster_inference_only_refit', 'optimize_for_deployment']\n",
    "```\n"
   ]
  },
  {
   "cell_type": "markdown",
   "id": "60767770",
   "metadata": {},
   "source": [
    "If the cold boot latency cannot be tolerated, it is recommended to reserve concurrent capacity as described in this article:\n",
    "[Managing Lambda reserved concurrency](https://docs.aws.amazon.com/lambda/latest/dg/configuration-concurrency.html).\n",
    "\n",
    "More details on the lambda performance optimizations can be found in the following article: \n",
    "[Operating Lambda: Performance optimization](https://aws.amazon.com/blogs/compute/operating-lambda-performance-optimization-part-1/)\n",
    "\n",
    "## Creating a base project\n",
    "\n",
    "To start the project, please follow the setup steps of the tutorial: \n",
    "[Deploying machine learning models with serverless templates](https://aws.amazon.com/blogs/compute/deploying-machine-learning-models-with-serverless-templates/).\n",
    "\n",
    "To deploy AutoGluon, the following adjustments would be required:\n",
    "\n",
    "- the trained model is expected to be in `ag_models` directory.\n",
    "\n",
    "- `Dockerfile` to package AutoGluon runtimes and model files\n",
    "\n",
    "- Modify serving `app/app.py` script to use AutoGluon\n",
    "\n",
    "When building a docker container it's size can be reduced using the following optimizations: \n",
    "\n",
    "- use CPU versions of `pytorch`; if the models to be deployed don't use `pytorch`, then don't install it.\n",
    "\n",
    "- install only the AutoGluon sub-modules required for inference - specifically `autogluon.tabular[all]` will deploy only all tabular models \n",
    "without `text` and `vision` modules and their extra dependencies. This instruction can be further narrowed down to a combination of \n",
    "the following options are: `lightgbm`, `catboost`, `xgboost`, `fastai` and `skex`.\n",
    "\n",
    "The following `Dockerfile` can be used as a starting point:"
   ]
  },
  {
   "cell_type": "markdown",
   "id": "e39dc75f",
   "metadata": {},
   "source": [
    "```\n",
    "FROM public.ecr.aws/lambda/python:3.8\n",
    "\n",
    "RUN yum install libgomp git -y \\\n",
    " && yum clean all -y && rm -rf /var/cache/yum\n",
    "\n",
    "ARG TORCH_VER=1.9.1+cpu\n",
    "ARG TORCH_VISION_VER=0.10.1+cpu\n",
    "ARG NUMPY_VER=1.19.5\n",
    "RUN python3.8 -m pip --no-cache-dir install --upgrade --trusted-host pypi.org --trusted-host files.pythonhosted.org pip \\\n",
    " && python3.8 -m pip --no-cache-dir install --upgrade wheel setuptools \\\n",
    " && python3.8 -m pip uninstall -y dataclasses \\\n",
    " && python3.8 -m pip --no-cache-dir install --upgrade torch==\"${TORCH_VER}\" torchvision==\"${TORCH_VISION_VER}\" -f https://download.pytorch.org/whl/torch_stable.html \\\n",
    " && python3.8 -m pip --no-cache-dir install --upgrade numpy==${NUMPY_VER} \\\n",
    " && python3.8 -m pip --no-cache-dir install --upgrade autogluon.tabular[all]\"\n",
    "\n",
    "COPY app.py ./\n",
    "COPY ag_models /opt/ml/model/\n",
    "\n",
    "CMD [\"app.lambda_handler\"]\n",
    "```\n"
   ]
  },
  {
   "cell_type": "markdown",
   "id": "cff71541",
   "metadata": {},
   "source": [
    "Lambda serving script (`app/app.py`):"
   ]
  },
  {
   "cell_type": "markdown",
   "id": "609500f9",
   "metadata": {},
   "source": [
    "```python\n",
    "import pandas as pd\n",
    "from autogluon.tabular import TabularPredictor\n",
    "\n",
    "model = TabularPredictor.load('/opt/ml/model')\n",
    "model.persist(models='all')\n",
    "\n",
    "\n",
    "# Lambda handler code\n",
    "def lambda_handler(event, context):\n",
    "    df = pd.read_json(event['body'])\n",
    "    pred_probs = model.predict_proba(df)\n",
    "    return {\n",
    "        'statusCode': 200,\n",
    "        'body': pred_probs.to_json()\n",
    "    }\n",
    "```\n"
   ]
  },
  {
   "cell_type": "markdown",
   "id": "37a0b3c2",
   "metadata": {},
   "source": [
    "Once the necessary modifications to the projects are done, proceed with the steps described in \"Deploying the application to Lambda\" section of the \n",
    "[tutorial](https://aws.amazon.com/blogs/compute/deploying-machine-learning-models-with-serverless-templates/).\n",
    "\n",
    "## Conclusion\n",
    "\n",
    "In this tutorial we explored how to deploy AutoGluon models as a serverless application. To explore more, refer to the following documentation:\n",
    "\n",
    "- [Deploying machine learning models with serverless templates](https://aws.amazon.com/blogs/compute/deploying-machine-learning-models-with-serverless-templates/).\n",
    "\n",
    "- [Operating Lambda: Performance optimization](https://aws.amazon.com/blogs/compute/operating-lambda-performance-optimization-part-1/)\n",
    "\n",
    "- [Managing Lambda reserved concurrency](https://docs.aws.amazon.com/lambda/latest/dg/configuration-concurrency.html)\n",
    "\n",
    "- [AWS Serverless Application Model (AWS SAM)](https://github.com/aws/serverless-application-model)"
   ]
  }
 ],
 "metadata": {
  "language_info": {
   "name": "python"
  }
 },
 "nbformat": 4,
 "nbformat_minor": 5
}
