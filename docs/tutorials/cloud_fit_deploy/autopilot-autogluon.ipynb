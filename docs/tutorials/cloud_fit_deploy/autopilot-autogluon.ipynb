{
 "cells": [
  {
   "cell_type": "markdown",
   "id": "3e701bf3",
   "metadata": {},
   "source": [
    "# New managed AutoGluon-Tabular experience on Amazon SageMaker Autopilot\n",
    "\n",
    "[![Open In Colab](https://colab.research.google.com/assets/colab-badge.svg)](https://colab.research.google.com/github/autogluon/autogluon/blob/master/docs/tutorials/cloud_fit_deploy/autopilot-autogluon.ipynb)\n",
    "[![Open In SageMaker Studio Lab](https://studiolab.sagemaker.aws/studiolab.svg)](https://studiolab.sagemaker.aws/import/github/autogluon/autogluon/blob/master/docs/tutorials/cloud_fit_deploy/autopilot-autogluon.ipynb)\n",
    "\n",
    "\n",
    "\n",
    "[Checkout managed AutoGluon-Tabular experience on Amazon SageMaker Autopilot](https://aws.amazon.com/blogs/machine-learning/amazon-sagemaker-autopilot-is-up-to-eight-times-faster-with-new-ensemble-training-mode-powered-by-autogluon/)\n",
    "\n",
    "\n",
    "## What is Amazon SageMaker Autopilot\n",
    "Amazon SageMaker Autopilot automatically trains and tunes the best machine learning models for classification or regression, based on your data while allowing to maintain full control and visibility.\n",
    "\n",
    "To learn more, checkout it out [here](https://www.amazonaws.cn/en/sagemaker/autopilot/)"
   ]
  }
 ],
 "metadata": {
  "language_info": {
   "name": "python"
  }
 },
 "nbformat": 4,
 "nbformat_minor": 5
}