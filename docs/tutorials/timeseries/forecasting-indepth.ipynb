{
 "cells": [
  {
   "cell_type": "markdown",
   "id": "63c0d0ed",
   "metadata": {},
   "source": [
    "# Forecasting Time Series - In Depth\n",
    "\n",
    ":label:`sec_forecasting_indepth`\n",
    "\n",
    "\n",
    "This tutorial provides an in-depth overview of the time series forecasting capabilities in AutoGluon.\n",
    "Specifically, we will cover:\n",
    "\n",
    "- What is probabilistic time series forecasting?\n",
    "- Forecasting time series with additional information\n",
    "- Which forecasting models are available in AutoGluon?\n",
    "- How does AutoGluon evaluate performance of time series models?\n",
    "- What functionality does `TimeSeriesPredictor` offer?\n",
    "    - Basic configuration with `presets` and `time_limit`\n",
    "    - Manually selecting what models to train\n",
    "    - Hyperparameter tuning\n",
    "    - Forecasting irregularly-sampled time series\n",
    "\n",
    "This tutorial assumes that you are familiar with the contents of :ref:`sec_forecasting_quickstart`.\n",
    "\n",
    "## What is probabilistic time series forecasting?\n",
    "A time series is a sequence of measurements made at regular intervals.\n",
    "The main objective of time series forecasting is to predict the future values of a time series given the past observations.\n",
    "A typical example of this task is demand forecasting.\n",
    "For example, we can represent the number of daily purchases of a certain product as a time series.\n",
    "The goal in this case could be predicting the demand for each of the next 14 days (i.e., the forecast horizon) given the historical purchase data.\n",
    "In AutoGluon, the `prediction_length` argument of the `TimeSeriesPredictor` determines the length of the forecast horizon.\n",
    "\n",
    "![Main goal of forecasting is to predict the future values of a time series given the past observations.](https://autogluon-timeseries-datasets.s3.us-west-2.amazonaws.com/public/figures/forecasting-indepth1.png)\n",
    "\n",
    ":width:`800px`\n",
    "\n",
    "\n",
    "The objective of forecasting could be to predict future averages of a given time series, as well as establishing prediction intervals within which the future values will likely lie.\n",
    "In AutoGluon, the `TimeSeriesPredictor` generates two types of forecasts:\n",
    "\n",
    "- **mean forecast** represents the expected value of the time series at each time step in the forecast horizon.\n",
    "- **quantile forecast** represents the quantiles of the forecast distribution.\n",
    "For example, if the `0.1` quantile (also known as P10, or the 10th percentile) is equal to `x`, it means that the time series value is predicted to be below `x` 10% of the time. As another example, the `0.5` quantile (P50) corresponds to the median forecast.\n",
    "Quantiles can be used to reason about the range of possible outcomes.\n",
    "For instance, by the definition of the quantiles, the time series is predicted to be between the P10 and P90 values with 80% probability.\n",
    "\n",
    "\n",
    "![Mean and quantile (P10 and P90) forecasts.](https://autogluon-timeseries-datasets.s3.us-west-2.amazonaws.com/public/figures/forecasting-indepth2.png)\n",
    "\n",
    ":width:`800px`\n",
    "\n",
    "\n",
    "By default, the `TimeSeriesPredictor` outputs the quantiles `[0.1, 0.2, 0.3, 0.4, 0.5, 0.6, 0.7, 0.8, 0.9]`. Custom quantiles can be provided with the `quantile_levels` argument"
   ]
  },
  {
   "cell_type": "markdown",
   "id": "2a674ea7",
   "metadata": {},
   "source": [
    "```python\n",
    "predictor = TimeSeriesPredictor(quantile_levels=[0.05, 0.5, 0.95])\n",
    "```\n"
   ]
  },
  {
   "cell_type": "markdown",
   "id": "c84fa6e7",
   "metadata": {},
   "source": [
    "## Forecasting time series with additional information\n",
    "In real-world forecasting problems we often have access to additional information, beyond just the raw time series values.\n",
    "AutoGluon supports two types of such additional information: static features and known covariates.\n",
    "\n",
    "### Static features\n",
    "Static features are the time-independent attributes (metadata) of a time series.\n",
    "These may include information such as:\n",
    "\n",
    "- location, where the time series was recorded (country, state, city)\n",
    "- fixed properties of a product (brand name, color, size, weight)\n",
    "- store ID or product ID\n",
    "\n",
    "Providing this information may, for instance, help forecasting models generate similar demand forecasts for stores located in the same city.\n",
    "\n",
    "In AutoGluon, static features are stored as an attribute of a `TimeSeriesDataFrame` object.\n",
    "As an example, let's have a look at the M4 Daily dataset."
   ]
  },
  {
   "cell_type": "code",
   "execution_count": null,
   "id": "fb0d4e89",
   "metadata": {},
   "outputs": [],
   "source": [
    "# Hide code \n",
    "import warnings\n",
    "warnings.filterwarnings(action=\"ignore\")"
   ]
  },
  {
   "cell_type": "code",
   "execution_count": null,
   "id": "1b3bf794",
   "metadata": {},
   "outputs": [],
   "source": [
    "import pandas as pd\n",
    "from autogluon.timeseries import TimeSeriesDataFrame, TimeSeriesPredictor"
   ]
  },
  {
   "cell_type": "markdown",
   "id": "d02a69bf",
   "metadata": {},
   "source": [
    "We download a subset of 100 time series and the related metadata, similar to the Quickstart tutorial (click on the arrow to show the preprocessing code).\n",
    "\n",
    ".. raw:: html\n",
    "\n",
    "   <details>\n",
    "   <summary><a>Loader for M4 Daily dataset</a></summary>"
   ]
  },
  {
   "cell_type": "code",
   "execution_count": null,
   "id": "a37695c5",
   "metadata": {},
   "outputs": [],
   "source": [
    "pd.set_option('display.max_rows', 6)  # Save space when printing\n",
    "\n",
    "M4_INFO_URL = \"https://github.com/Mcompetitions/M4-methods/raw/master/Dataset/M4-info.csv\"\n",
    "M4_DAILY_URL = \"https://github.com/Mcompetitions/M4-methods/raw/master/Dataset/Train/Daily-train.csv\"\n",
    "\n",
    "def download_m4_daily_dataset(save_path, metadata_save_path=None, num_items_to_load=100):\n",
    "    metadata = pd.read_csv(M4_INFO_URL)\n",
    "    metadata = metadata[metadata[\"SP\"] == \"Daily\"].set_index(\"M4id\")\n",
    "    # Select a subset of time series for faster processing\n",
    "    metadata = metadata.sample(num_items_to_load, random_state=42)\n",
    "    if metadata_save_path is not None:\n",
    "        metadata[\"Domain\"] = metadata[\"category\"]\n",
    "        metadata[[\"Domain\"]].to_csv(metadata_save_path)\n",
    "\n",
    "    data = pd.read_csv(M4_DAILY_URL, index_col=\"V1\")\n",
    "    results = []\n",
    "    for item_id in metadata.index:\n",
    "        time_series = data.loc[item_id].dropna().values\n",
    "        start_time = pd.Timestamp(metadata.loc[item_id][\"StartingDate\"])\n",
    "        timestamps = pd.date_range(start_time, freq=\"D\", periods=len(time_series))\n",
    "        results.append(pd.DataFrame({\"M4id\": [item_id] * len(time_series), \"Date\": timestamps, \"Value\": time_series}))\n",
    "    result = pd.concat(results, ignore_index=True)\n",
    "    result.to_csv(save_path, index=False)\n",
    "\n",
    "download_m4_daily_dataset(save_path=\"m4_daily.csv\", metadata_save_path=\"m4_daily_metadata.csv\")"
   ]
  },
  {
   "cell_type": "markdown",
   "id": "eb9a5a6e",
   "metadata": {},
   "source": [
    ".. raw:: html\n",
    "\n",
    "   </details>\n",
    "\n",
    "\n",
    "We load the individual time series into a `TimeSeriesDataFrame`:"
   ]
  },
  {
   "cell_type": "code",
   "execution_count": null,
   "id": "98ea7b73",
   "metadata": {},
   "outputs": [],
   "source": [
    "ts_dataframe = TimeSeriesDataFrame.from_data_frame(\n",
    "    pd.read_csv(\"m4_daily.csv\", parse_dates=[\"Date\"]),\n",
    "    id_column=\"M4id\",\n",
    "    timestamp_column=\"Date\",\n",
    ")\n",
    "ts_dataframe"
   ]
  },
  {
   "cell_type": "markdown",
   "id": "71d7e860",
   "metadata": {},
   "source": [
    "AutoGluon expects static features as a pandas.DataFrame object, where the index column\n",
    "\n",
    "- is called `\"item_id\"`\n",
    "- includes all the `item_id`s present in the respective TimeSeriesDataFrame."
   ]
  },
  {
   "cell_type": "code",
   "execution_count": null,
   "id": "975c56a7",
   "metadata": {},
   "outputs": [],
   "source": [
    "static_features = pd.read_csv(\"m4_daily_metadata.csv\", index_col=\"M4id\")\n",
    "static_features.index.rename(\"item_id\", inplace=True)\n",
    "static_features"
   ]
  },
  {
   "cell_type": "markdown",
   "id": "b99f93f4",
   "metadata": {},
   "source": [
    "In the M4 Daily dataset, there is a single categorical static feature that denotes the domain of origin for each time series.\n",
    "\n",
    "We attach the static features to a TimeSeriesDataFrame as follows"
   ]
  },
  {
   "cell_type": "markdown",
   "id": "7118ca6a",
   "metadata": {},
   "source": [
    "```python\n",
    "ts_dataframe.static_features = static_features\n",
    "```\n"
   ]
  },
  {
   "cell_type": "markdown",
   "id": "429aeae4",
   "metadata": {},
   "source": [
    "If `static_features` doesn't contain some `item_id`s that are present in `ts_dataframe`, an exception will be raised.\n",
    "\n",
    "Now, when we fit the predictor, all models that support static features will automatically use the static features included in `ts_dataframe`."
   ]
  },
  {
   "cell_type": "markdown",
   "id": "22e18078",
   "metadata": {},
   "source": [
    "```python\n",
    "predictor = TimeSeriesPredictor(target=\"Value\").fit(ts_dataframe)\n",
    "```\n"
   ]
  },
  {
   "cell_type": "markdown",
   "id": "70c335b3",
   "metadata": {},
   "source": [
    "During fitting, the predictor will log how each static feature was interpreted as follows:"
   ]
  },
  {
   "cell_type": "markdown",
   "id": "e2c3d694",
   "metadata": {},
   "source": [
    "```\n",
    "...\n",
    "Following types of static features have been inferred:\n",
    "\tcategorical: ['Domain']\n",
    "\tcontinuous (float): []\n",
    "...\n",
    "```\n"
   ]
  },
  {
   "cell_type": "markdown",
   "id": "53f05531",
   "metadata": {},
   "source": [
    "This message confirms that columns `'Domain'` was interpreted as a categorical feature.\n",
    "In general, AutoGluon-TimeSeries supports two types of static features:\n",
    "\n",
    "- `categorical`: columns of dtype `object`, `string` and `category` are interpreted as discrete categories\n",
    "- `continuous`: columns of dtype `int` and `float` are interpreted as continuous (real-valued) numbers\n",
    "- columns with other dtypes are ignored\n",
    "\n",
    "To override this logic, we need to manually change the columns dtype.\n",
    "For example, suppose the static features data frame contained an integer-valued column `\"store_id\"`."
   ]
  },
  {
   "cell_type": "markdown",
   "id": "13db8c44",
   "metadata": {},
   "source": [
    "```python\n",
    "ts_dataframe.static_features[\"store_id\"] = list(range(len(ts_dataframe)))\n",
    "```\n"
   ]
  },
  {
   "cell_type": "markdown",
   "id": "86fc2628",
   "metadata": {},
   "source": [
    "By default, this column will be interpreted as a continuous number.\n",
    "We can force AutoGluon to interpret it a a categorical feature by changing the dtype to `category`."
   ]
  },
  {
   "cell_type": "markdown",
   "id": "027f846b",
   "metadata": {},
   "source": [
    "```python\n",
    "ts_dataframe.static_features[\"store_id\"] = ts_dataframe.static_features[\"store_id\"].astype(\"category\")\n",
    "```\n"
   ]
  },
  {
   "cell_type": "markdown",
   "id": "dd18a2fb",
   "metadata": {},
   "source": [
    "**Note:** If training data contained static features, the predictor will expect that data passed to `predictor.predict()`, `predictor.leaderboard()`, and `predictor.evaluate()` also includes static features with the exact same column names and data types.\n",
    "\n",
    "\n",
    "### Known covariates\n",
    "Covariates are the time-varying features that may influence the target time series.\n",
    "They are sometimes also referred to as dynamic features, exogenous regressors, or related time series.\n",
    "AutoGluon currently supports covariates that are _known in advance_ for the forecast horizon.\n",
    "Examples of such covariates include:\n",
    "\n",
    "- holidays\n",
    "- day of the week, month, year\n",
    "- promotions \n",
    "- weather forecasts (available in the future via weather forecasts)\n",
    "\n",
    "![Target time series with one known covariate.](https://autogluon-timeseries-datasets.s3.us-west-2.amazonaws.com/public/figures/forecasting-indepth4.png)\n",
    "\n",
    ":width:`800px`\n",
    "\n",
    "\n",
    "As an example, we will again use the M4 Daily dataset."
   ]
  },
  {
   "cell_type": "code",
   "execution_count": null,
   "id": "d2db9a74",
   "metadata": {},
   "outputs": [],
   "source": [
    "prediction_length = 48\n",
    "ts_dataframe = TimeSeriesDataFrame.from_data_frame(\n",
    "    pd.read_csv(\"m4_daily.csv\", parse_dates=[\"Date\"]),\n",
    "    id_column=\"M4id\",\n",
    "    timestamp_column=\"Date\",\n",
    ")\n",
    "ts_dataframe"
   ]
  },
  {
   "cell_type": "markdown",
   "id": "a7bfd26c",
   "metadata": {},
   "source": [
    "In this example, we will generate a known covariate `Weekend` that equals to 1 if a given day is a weekend, and 0 otherwise.\n",
    "First, we generate the covariate for the training set."
   ]
  },
  {
   "cell_type": "code",
   "execution_count": null,
   "id": "9de82e34",
   "metadata": {},
   "outputs": [],
   "source": [
    "WEEKEND_INDICES = [5, 6]\n",
    "timestamps = ts_dataframe.index.get_level_values(\"timestamp\")\n",
    "ts_dataframe[\"Weekend\"] = timestamps.weekday.isin(WEEKEND_INDICES).astype(float)\n",
    "ts_dataframe"
   ]
  },
  {
   "cell_type": "markdown",
   "id": "5772720a",
   "metadata": {},
   "source": [
    "When creating the TimeSeriesPredictor, we specify that the column `\"Value\"` is our prediction target, and the\n",
    "column `\"Weekend\"` contains a covariate that will be known at prediction time."
   ]
  },
  {
   "cell_type": "markdown",
   "id": "fe164f08",
   "metadata": {},
   "source": [
    "```python\n",
    "predictor = TimeSeriesPredictor(\n",
    "    prediction_length=prediction_length,\n",
    "    target=\"Value\",\n",
    "    known_covariates_names=[\"Weekend\"],\n",
    ")\n",
    "predictor.fit(ts_dataframe)\n",
    "```\n"
   ]
  },
  {
   "cell_type": "markdown",
   "id": "283c7b83",
   "metadata": {},
   "source": [
    "If the data frame contained additional columns (other than those specified in `target` and `known_covariates_names`), they would be ignored.\n",
    "\n",
    "Next, to make predictions, we generate the known covariates for the forecast horizon"
   ]
  },
  {
   "cell_type": "code",
   "execution_count": null,
   "id": "d5545020",
   "metadata": {},
   "outputs": [],
   "source": [
    "# Time difference between consecutive timesteps\n",
    "offset = pd.tseries.frequencies.to_offset(ts_dataframe.freq)\n",
    "\n",
    "known_covariates_per_item = []\n",
    "for item_id in ts_dataframe.item_ids:\n",
    "    time_series = ts_dataframe.loc[item_id]\n",
    "    last_day = time_series.index[-1]\n",
    "    future_timestamps = pd.date_range(start=last_day + offset, freq=offset, periods=prediction_length)\n",
    "    weekend = future_timestamps.weekday.isin(WEEKEND_INDICES).astype(float)\n",
    "\n",
    "    index = pd.MultiIndex.from_product([[item_id], future_timestamps], names=[\"item_id\", \"timestamp\"])\n",
    "    known_covariates_per_item.append(pd.DataFrame(weekend, index=index, columns=[\"Weekend\"]))\n",
    "\n",
    "known_covariates = TimeSeriesDataFrame(pd.concat(known_covariates_per_item))\n",
    "known_covariates"
   ]
  },
  {
   "cell_type": "markdown",
   "id": "16fc3e0d",
   "metadata": {},
   "source": [
    "Note that `known_covariates` must satisfy the following conditions:\n",
    "\n",
    "- The columns must include all columns listed in ``predictor.known_covariates_names``\n",
    "- The ``item_id`` index must include all item ids present in ``ts_dataframe``\n",
    "- The ``timestamp`` index must include the values for ``prediction_length`` many time steps into the future from the end of each time series in ``ts_dataframe``\n",
    "\n",
    "If `known_covariates` contain more information than necessary (e.g., contain additional columns, item_ids, or timestamps),\n",
    "AutoGluon will automatically select the necessary rows and columns.\n",
    "\n",
    "Finally, we pass the `known_covariates` to the `predict` function to generate predictions"
   ]
  },
  {
   "cell_type": "markdown",
   "id": "1b35e1ed",
   "metadata": {},
   "source": [
    "```python\n",
    "predictor.predict(ts_dataframe, known_covariates=known_covariates)\n",
    "```\n"
   ]
  },
  {
   "cell_type": "markdown",
   "id": "450a9ae9",
   "metadata": {},
   "source": [
    "The list of models that support static features and covariates is available in :ref:`forecasting_zoo`.\n",
    "\n",
    "\n",
    "## Which forecasting models are available in AutoGluon?\n",
    "Forecasting models in AutoGluon can be divided into three broad categories: local, global, and ensemble models.\n",
    "\n",
    "**Local models** are simple statistical models that are specifically designed to capture patterns such as trend or seasonality.\n",
    "Despite their simplicity, these models often produce reasonable forecasts and serve as a strong baseline.\n",
    "Some examples of available local models:\n",
    "\n",
    "- `ETS`\n",
    "- `ARIMA`\n",
    "- `Theta`\n",
    "- `SeasonalNaive`\n",
    "\n",
    "If the dataset consists of multiple time series, we fit a separate local model to each time series — hence the name \"local\".\n",
    "This means, if we want to make a forecast for a new time series that wasn't part of the training set, all local models will be fit from scratch for the new time series.\n",
    "\n",
    "**Global models** are machine learning algorithms that learn a single model from the entire training set consisting of multiple time series.\n",
    "Most global models in AutoGluon are provided by the [GluonTS](https://ts.gluon.ai/stable/) library.\n",
    "These are neural-network algorithms (implemented in PyTorch or MXNet), such as:\n",
    "\n",
    "- `DeepAR`\n",
    "- `SimpleFeedForward`\n",
    "- `TemporalFusionTransformerMXNet`\n",
    "\n",
    "AutoGluon also offers a tree-based global model `AutoGluonTabular`.\n",
    "Under the hood, this model converts the forecasting task into a regression problem and uses a :class:`autogluon.tabular.TabularPredictor` to fit gradient-boosted tree algorithms like XGBoost, CatBoost, and LightGBM.\n",
    "\n",
    "Finally, an **ensemble** model works by combining predictions of all other models.\n",
    "By default, `TimeSeriesPredictor` always fits a `WeightedEnsemble` on top of other models.\n",
    "This can be disabled by setting `enable_ensemble=False` when calling the `fit` method.\n",
    "\n",
    "For a list of tunable hyperparameters for each model, their default values, and other details see :ref:`forecasting_zoo`.\n",
    "\n",
    "## How does AutoGluon evaluate performance of time series models?\n",
    "AutoGluon evaluates the performance of forecasting models by measuring how well their forecasts align with the actually observed time series.\n",
    "We can evaluate the performance of a trained predictor on `test_data` using the `evaluate` method"
   ]
  },
  {
   "cell_type": "markdown",
   "id": "195095e4",
   "metadata": {},
   "source": [
    "```python\n",
    "# Fit a predictor to training data\n",
    "predictor = TimeSeriesPredictor(prediction_length=3, eval_metric=\"MAPE\")\n",
    "predictor.fit(train_data=train_data)\n",
    "# Evaluate the predictor on test data\n",
    "predictor.evaluate(test_data)\n",
    "```\n"
   ]
  },
  {
   "cell_type": "markdown",
   "id": "3fce2b1c",
   "metadata": {},
   "source": [
    "For each time series in `test_data`, the predictor does the following:\n",
    "\n",
    "1. Hold out the last `prediction_length` values of the time series.\n",
    "2. Generate a forecast for the held out part of the time series, i.e., the forecast horizon.\n",
    "3. Quantify how well the forecast matches the actually observed (held out) values of the time series using the `eval_metric`.\n",
    "\n",
    "Finally, the scores are averaged over all time series in the dataset.\n",
    "\n",
    "The crucial detail here is that `evaluate` always computes the score on the last `prediction_length` time steps of each time series.\n",
    "The beginning of each time series (except the last `prediction_length` time steps) is only used to initialize the models before forecasting.\n",
    "\n",
    "### Multi-window backtesting\n",
    "\n",
    "If we want to perform _multi-window backtesting_ (i.e., evaluate performance on multiple forecast horizons generated from the same time series), we need to generate a new test set with multiple copies for each original time series.\n",
    "This can be done using a `MultiWindowSplitter`."
   ]
  },
  {
   "cell_type": "markdown",
   "id": "e5980866",
   "metadata": {},
   "source": [
    "```python\n",
    "from autogluon.timeseries.splitter import MultiWindowSplitter\n",
    "\n",
    "splitter = MultiWindowSplitter(num_windows=5)\n",
    "_, test_data_multi_window = splitter.split(test_data, prediction_length)\n",
    "\n",
    "predictor.evaluate(test_data_multi_window)\n",
    "```\n"
   ]
  },
  {
   "cell_type": "markdown",
   "id": "bc2b010d",
   "metadata": {},
   "source": [
    "The new test set `test_data_multi_window` will now contain up to `num_windows` time series for each original time series in `test_data`.\n",
    "The score will be computed on the last `prediction_length` time steps of each time series (marked in orange).\n",
    "\n",
    "![MultiWindowSplitter splits each original time series into multiple evaluation instances. Forecast is evaluated on the last `prediction_length` timesteps (orange).](https://autogluon-timeseries-datasets.s3.us-west-2.amazonaws.com/public/figures/forecasting-indepth3.png)\n",
    "\n",
    ":width:`450px`\n",
    "\n",
    "\n",
    "Multi-window backtesting typically results in more accurate estimation of the forecast quality on unseen data.\n",
    "However, this strategy decreases the amount of training data available for fitting models, so we recommend using single-window backtesting if the training time series are short.\n",
    "\n",
    "\n",
    "### How to choose and interpret the evaluation metric?\n",
    "Different evaluation metrics capture different properties of the forecast, and therefore depend on the application that the user has in mind.\n",
    "For example, weighted quantile loss (`\"mean_wQuantileLoss\"`) measures how well-calibrated the quantile forecast is; mean absolute scaled error (`\"MASE\"`) compares the mean forecast to the performance of a naive baseline.\n",
    "For more details about the available metrics, see the documentation for [autogluon.timeseries.evaluator.TimeSeriesEvaluator](https://github.com/autogluon/autogluon/blob/master/timeseries/src/autogluon/timeseries/evaluator.py#L53).\n",
    "\n",
    "Note that AutoGluon always reports all metrics in a **higher-is-better** format.\n",
    "For this purpose, some metrics are multiplied by -1.\n",
    "For example, if we set `eval_metric=\"MASE\"`, the predictor will actually report `-MASE` (i.e., MASE score multiplied by -1). This means the `test_score` will be between 0 (best possible forecast) and $-\\infty$ (worst possible forecast).\n",
    "\n",
    "\n",
    "### How does AutoGluon perform validation?\n",
    "When we fit the predictor with `predictor.fit(train_data=train_data)`, under the hood AutoGluon further splits the original dataset `train_data` into train and validation parts.\n",
    "\n",
    "Performance of different models on the validation set is evaluated using the `evaluate` method, just like described [above](#how-does-autogluon-evaluate-performance-of-time-series-models).\n",
    "The model that achieves the best validation score will be used for prediction in the end.\n",
    "\n",
    "<!-- **TODO: Multi-window backtesting as default in 0.6.0?** -->\n",
    "\n",
    "By default, the internal validation set uses the last `prediction_length` time steps of each time series (i.e., single-window backtesting).\n",
    "To use multi-window backtesting instead, set the `validation_splitter` argument to `\"multi_window\"`"
   ]
  },
  {
   "cell_type": "markdown",
   "id": "57c7cfec",
   "metadata": {},
   "source": [
    "```python\n",
    "# Defaults to 3 windows\n",
    "predictor = TimeSeriesPredictor(..., validation_splitter=\"multi_window\")\n",
    "```\n"
   ]
  },
  {
   "cell_type": "markdown",
   "id": "47c12625",
   "metadata": {},
   "source": [
    "or pass a `MultiWindowSplitter` object"
   ]
  },
  {
   "cell_type": "markdown",
   "id": "51e9a025",
   "metadata": {},
   "source": [
    "```python\n",
    "from autogluon.timeseries.splitter import MultiWindowSplitter\n",
    "\n",
    "splitter = MultiWindowSplitter(num_windows=5)\n",
    "predictor = TimeSeriesPredictor(..., validation_splitter=splitter)\n",
    "```\n"
   ]
  },
  {
   "cell_type": "markdown",
   "id": "639d83f9",
   "metadata": {},
   "source": [
    "Alternatively, a user can provide their own validation set to the `fit` method and forego using the splitter completely. In this case it's important to remember that the validation score is computed on the last `prediction_length` time steps of each time series."
   ]
  },
  {
   "cell_type": "markdown",
   "id": "45bb9d93",
   "metadata": {},
   "source": [
    "```\n",
    "predictor = TimeSeriesPredictor(...)\n",
    "predictor.fit(train_data=train_data, tuning_data=my_validation_dataset)\n",
    "```\n"
   ]
  },
  {
   "cell_type": "markdown",
   "id": "c0ca37f8",
   "metadata": {},
   "source": [
    "## What functionality does `TimeSeriesPredictor` offer?\n",
    "AutoGluon offers multiple ways to configure the behavior of a `TimeSeriesPredictor` that are suitable for both beginners and expert users.\n",
    "\n",
    "### Basic configuration with `presets` and `time_limit`\n",
    "We can fit `TimeSeriesPredictor` with different pre-defined configurations using the `presets` argument of the `fit` method."
   ]
  },
  {
   "cell_type": "markdown",
   "id": "a6a9a1e9",
   "metadata": {},
   "source": [
    "```python\n",
    "predictor = TimeSeriesPredictor(...)\n",
    "predictor.fit(train_data, presets=\"medium_quality\")\n",
    "```\n"
   ]
  },
  {
   "cell_type": "markdown",
   "id": "e0b3b011",
   "metadata": {},
   "source": [
    "Higher quality presets usually result in better forecasts but take longer to train.\n",
    "The following presets are available:\n",
    "\n",
    "- ``\"fast_training\"``: fit simple \"local\" statistical models (``ETS``, ``ARIMA``, ``Theta``, ``Naive``, ``SeasonalNaive``). These models are fast to train, but cannot capture more complex patters in the data.\n",
    "- ``\"medium_quality\"``: all models in ``\"fast_training\"`` in addition to the tree-based ``AutoGluonTabular`` and the ``DeepAR`` deep learning model. Default setting that produces good forecasts with reasonable training time.\n",
    "- ``\"high_quality\"``: all models in ``\"medium_quality\"`` in addition to two more deep learning models: ``TemporalFusionTransformerMXNet`` (if MXNet is available) and ``SimpleFeedForward``. Moreover, this preset will enable hyperparameter optimization for local statistical models. Usually more accurate than ``medium_quality``, but takes longer to train.\n",
    "- ``\"best_quality\"``: all models in ``\"high_quality\"`` in addition to the transformer-based ``TransformerMXNet`` model (if MXNet is available). This setting also enables hyperparameter optimization for deep learning models. Usually better than ``high_quality``, but takes much longer to train.\n",
    "\n",
    "Another way to control the training time is using the `time_limit` argument."
   ]
  },
  {
   "cell_type": "markdown",
   "id": "5f7268a6",
   "metadata": {},
   "source": [
    "```python\n",
    "predictor.fit(\n",
    "    train_data,\n",
    "    time_limit=60 * 60,  # total training time in seconds\n",
    ")\n",
    "```\n"
   ]
  },
  {
   "cell_type": "markdown",
   "id": "024e1904",
   "metadata": {},
   "source": [
    "If no `time_limit` is provided, the predictor will train until all models have been fit.\n",
    "\n",
    "\n",
    "### Manually configuring models\n",
    "\n",
    ":label:`sec_forecasting_indepth_manual_config`\n",
    "\n",
    "\n",
    "Advanced users can override the presets and manually specify what models should be trained by the predictor using the `hyperparameters` argument."
   ]
  },
  {
   "cell_type": "markdown",
   "id": "32be56cb",
   "metadata": {},
   "source": [
    "```python\n",
    "predictor = TimeSeriesPredictor(...)\n",
    "\n",
    "predictor.fit(\n",
    "    train_data,\n",
    "    hyperparameters={\n",
    "        \"DeepAR\": {},\n",
    "        \"ETS\": {\"seasonal_period\": 7},\n",
    "    }\n",
    ")\n",
    "```\n"
   ]
  },
  {
   "cell_type": "markdown",
   "id": "248fd35a",
   "metadata": {},
   "source": [
    "The code above will only train two models:\n",
    "\n",
    "- `DeepAR` (with default hyperparameters)\n",
    "- `ETS` (with the given `seasonal_period`; all other parameters set to their defaults).\n",
    "\n",
    "For the full list of available models and the respective hyperparameters, see :ref:`forecasting_zoo`.\n",
    "\n",
    "### Hyperparameter tuning\n",
    "\n",
    ":label:`sec_forecasting_indepth_hpo`\n",
    "\n",
    "\n",
    "Advanced users can define search spaces for model hyperparameters and let AutoGluon automatically determine the best configuration for the model."
   ]
  },
  {
   "cell_type": "markdown",
   "id": "79c76d37",
   "metadata": {},
   "source": [
    "```python\n",
    "import autogluon.core as ag\n",
    "\n",
    "predictor = TimeSeriesPredictor()\n",
    "\n",
    "predictor.fit(\n",
    "    train_data,\n",
    "    hyperparameters={\n",
    "        \"DeepAR\": {\n",
    "            \"hidden_size\": ag.space.Int(20, 100),\n",
    "            \"dropout_rate\": ag.space.Categorical(0.1, 0.3),\n",
    "        },\n",
    "    },\n",
    "    hyperparameter_tune_kwargs=\"auto\",\n",
    "    enable_ensemble=False,\n",
    ")\n",
    "```\n"
   ]
  },
  {
   "cell_type": "markdown",
   "id": "a60fc908",
   "metadata": {},
   "source": [
    "This code will train multiple versions of the `DeepAR` model with 10 different hyperparameter configurations.\n",
    "AutGluon will automatically select the best model configuration that achieves the highest validation score and use it for prediction.\n",
    "\n",
    "AutoGluon uses different hyperparameter optimization (HPO) backends for different models:\n",
    "\n",
    "- Ray Tune for GluonTS models implemented in `MXNet` (e.g., `DeepARMXNet`, `TemporalFusionTransformerMXNet`)\n",
    "- Custom backend implementing random search for all other models\n",
    "\n",
    "We can change the number of random search runs by passing a dictionary as `hyperparameter_tune_kwargs`"
   ]
  },
  {
   "cell_type": "markdown",
   "id": "01660020",
   "metadata": {},
   "source": [
    "```python\n",
    "predictor.fit(\n",
    "    ...\n",
    "    hyperparameter_tune_kwargs={\n",
    "        \"scheduler\": \"local\",\n",
    "        \"searcher\": \"random\",\n",
    "        \"num_trials\": 20,\n",
    "    },\n",
    "    ...\n",
    ")\n",
    "```\n"
   ]
  },
  {
   "cell_type": "markdown",
   "id": "cc6996f5",
   "metadata": {},
   "source": [
    "The `hyperparameter_tune_kwargs` dict must include the following keys:\n",
    "\n",
    "- ``\"num_trials\"``: int, number of configurations to train for each tuned model\n",
    "- ``\"searcher\"``: one of ``\"random\"`` (random search), ``\"bayes\"`` (bayesian optimization for GluonTS MXNet models, random search for other models) and ``\"auto\"`` (same as ``\"bayes\"``).\n",
    "- ``\"scheduler\"``: the only supported option is ``\"local\"`` (all models trained on the same machine)\n",
    "\n",
    "**Note:** HPO significantly increases the training time for most models, but often provides only modest performance gains.\n",
    "\n",
    "\n",
    "### Forecasting irregularly-sampled time series\n",
    "By default, `TimeSeriesPredictor` expects the time series data to be regularly sampled (e.g., measurements done every day).\n",
    "However, in some applications, like finance, data often comes with irregular measurements (e.g., no stock price is available for weekends or holidays).\n",
    "\n",
    "To train on such irregularly-sampled time series, we can set the `ignore_time_index` flag in the predictor."
   ]
  },
  {
   "cell_type": "markdown",
   "id": "2e842113",
   "metadata": {},
   "source": [
    "```python\n",
    "predictor = TimeSeriesPredictor(..., ignore_time_index=True)\n",
    "predictor.fit(train_data=train_data)\n",
    "```\n"
   ]
  },
  {
   "cell_type": "markdown",
   "id": "5b2b1620",
   "metadata": {},
   "source": [
    "In this case, the predictor will completely ignore the timestamps in `train_data`, and the predictions made by the model will have a dummy `timestamp` index with frequency equal to 1 second.\n",
    "Also, the seasonality will be disabled for models like as `ETS` and `ARIMA`."
   ]
  }
 ],
 "metadata": {
  "language_info": {
   "name": "python"
  }
 },
 "nbformat": 4,
 "nbformat_minor": 5
}