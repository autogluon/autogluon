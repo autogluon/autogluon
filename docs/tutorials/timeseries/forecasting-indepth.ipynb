{
 "cells": [
  {
   "cell_type": "markdown",
   "id": "9cea8c7c-36b2-4af5-afd5-27cabbe650c1",
   "metadata": {},
   "source": [
    "# Forecasting Time Series - In Depth\n",
    "\n",
    "[![Open In Colab](https://colab.research.google.com/assets/colab-badge.svg)](https://colab.research.google.com/github/autogluon/autogluon/blob/new/docs/tutorials/timeseries/forecasting-indepth.ipynb)\n",
    "[![Open In SageMaker Studio Lab](https://studiolab.sagemaker.aws/studiolab.svg)](https://studiolab.sagemaker.aws/import/github/autogluon/autogluon/blob/new/docs/tutorials/timeseries/forecasting-indepth.ipynb)\n",
    "\n",
    "\n",
    "This tutorial provides an in-depth overview of the time series forecasting capabilities in AutoGluon.\n",
    "Specifically, we will cover:\n",
    "\n",
    "- What is probabilistic time series forecasting?\n",
    "- Forecasting time series with additional information\n",
    "- Which forecasting models are available in AutoGluon?\n",
    "- How does AutoGluon evaluate performance of time series models?\n",
    "- What functionality does `TimeSeriesPredictor` offer?\n",
    "    - Basic configuration with `presets` and `time_limit`\n",
    "    - Manually selecting what models to train\n",
    "    - Hyperparameter tuning\n",
    "    - Forecasting irregularly-sampled time series\n",
    "\n",
    "This tutorial assumes that you are familiar with the contents of [Forecasting Time Series - Quick Start](forecasting-quick-start.ipynb)."
   ]
  },
  {
   "cell_type": "markdown",
   "id": "0ad8269e-2302-4123-a9d6-c43e127c5ce6",
   "metadata": {},
   "source": [
    "## What is probabilistic time series forecasting?\n",
    "A time series is a sequence of measurements made at regular intervals.\n",
    "The main objective of time series forecasting is to predict the future values of a time series given the past observations.\n",
    "A typical example of this task is demand forecasting.\n",
    "For example, we can represent the number of daily purchases of a certain product as a time series.\n",
    "The goal in this case could be predicting the demand for each of the next 14 days (i.e., the forecast horizon) given the historical purchase data.\n",
    "In AutoGluon, the `prediction_length` argument of the `TimeSeriesPredictor` determines the length of the forecast horizon.\n",
    "\n",
    "![Main goal of forecasting is to predict the future values of a time series given the past observations.](https://autogluon-timeseries-datasets.s3.us-west-2.amazonaws.com/public/figures/forecasting-indepth1.png)\n",
    "\n",
    "The objective of forecasting could be to predict future averages of a given time series, as well as establishing prediction intervals within which the future values will likely lie.\n",
    "In AutoGluon, the `TimeSeriesPredictor` generates two types of forecasts:\n",
    "\n",
    "- **mean forecast** represents the expected value of the time series at each time step in the forecast horizon.\n",
    "- **quantile forecast** represents the quantiles of the forecast distribution.\n",
    "For example, if the `0.1` quantile (also known as P10, or the 10th percentile) is equal to `x`, it means that the time series value is predicted to be below `x` 10% of the time. As another example, the `0.5` quantile (P50) corresponds to the median forecast.\n",
    "Quantiles can be used to reason about the range of possible outcomes.\n",
    "For instance, by the definition of the quantiles, the time series is predicted to be between the P10 and P90 values with 80% probability.\n",
    "\n",
    "![Mean and quantile (P10 and P90) forecasts.](https://autogluon-timeseries-datasets.s3.us-west-2.amazonaws.com/public/figures/forecasting-indepth2.png)\n",
    "\n",
    "By default, the `TimeSeriesPredictor` outputs the quantiles `[0.1, 0.2, 0.3, 0.4, 0.5, 0.6, 0.7, 0.8, 0.9]`. Custom quantiles can be provided with the `quantile_levels` argument\n",
    "\n",
    "```python\n",
    "predictor = TimeSeriesPredictor(quantile_levels=[0.05, 0.5, 0.95])\n",
    "```"
   ]
  },
  {
   "cell_type": "markdown",
   "id": "0f955a33-fe4e-48ec-8791-951a699d0ee1",
   "metadata": {
    "lines_to_next_cell": 0
   },
   "source": [
    "## Forecasting time series with additional information\n",
    "In real-world forecasting problems we often have access to additional information, beyond just the raw time series values.\n",
    "AutoGluon supports two types of such additional information: static features and time-varying covariates.\n",
    "\n",
    "### Static features\n",
    "Static features are the time-independent attributes (metadata) of a time series.\n",
    "These may include information such as:\n",
    "\n",
    "- location, where the time series was recorded (country, state, city)\n",
    "- fixed properties of a product (brand name, color, size, weight)\n",
    "- store ID or product ID\n",
    "\n",
    "Providing this information may, for instance, help forecasting models generate similar demand forecasts for stores located in the same city.\n",
    "\n",
    "In AutoGluon, static features are stored as an attribute of a `TimeSeriesDataFrame` object.\n",
    "As an example, let's have a look at the M4 Daily dataset."
   ]
  },
  {
   "cell_type": "code",
   "execution_count": null,
   "id": "040ec4fd-636f-430d-bbf9-946898203c8c",
   "metadata": {},
   "outputs": [],
   "source": [
    "import warnings\n",
    "warnings.filterwarnings(action=\"ignore\")\n",
    "\n",
    "import pandas as pd\n",
    "from autogluon.timeseries import TimeSeriesDataFrame, TimeSeriesPredictor"
   ]
  },
  {
   "cell_type": "markdown",
   "id": "4db718c3-2dad-4fbe-a065-0c311065eb1e",
   "metadata": {
    "lines_to_next_cell": 0
   },
   "source": [
    "We download a subset of 100 time series as a TimeSeriesDataFrame"
   ]
  },
  {
   "cell_type": "code",
   "execution_count": null,
   "id": "548fff16-a7c8-45a7-939a-d3c6720e23c2",
   "metadata": {
    "lines_to_next_cell": 0
   },
   "outputs": [],
   "source": [
    "train_data = TimeSeriesDataFrame.from_path(\n",
    "    \"https://autogluon.s3.amazonaws.com/datasets/timeseries/m4_daily_subset/train.csv\",\n",
    ")\n",
    "train_data.head()"
   ]
  },
  {
   "cell_type": "markdown",
   "id": "39c7415a-45ee-4ec2-b528-f4b41f86d42a",
   "metadata": {
    "lines_to_next_cell": 0
   },
   "source": [
    "AutoGluon expects static features as a pandas.DataFrame object, where the index column includes all the `item_id`s present in the respective TimeSeriesDataFrame."
   ]
  },
  {
   "cell_type": "code",
   "execution_count": null,
   "id": "179c7b5f-a88c-4405-9763-ab83b896a051",
   "metadata": {
    "lines_to_next_cell": 0
   },
   "outputs": [],
   "source": [
    "static_features = pd.read_csv(\n",
    "    \"https://autogluon.s3.amazonaws.com/datasets/timeseries/m4_daily_subset/metadata.csv\",\n",
    "    index_col=\"item_id\",\n",
    ")\n",
    "static_features.head()"
   ]
  },
  {
   "cell_type": "markdown",
   "id": "da03d843-a07f-469a-a1e0-89139c6c1d50",
   "metadata": {
    "lines_to_next_cell": 0
   },
   "source": [
    "In the M4 Daily dataset, there is a single categorical static feature that denotes the domain of origin for each time series.\n",
    "\n",
    "We attach the static features to a TimeSeriesDataFrame as follows"
   ]
  },
  {
   "cell_type": "code",
   "execution_count": null,
   "id": "cf2c279b",
   "metadata": {
    "lines_to_next_cell": 0
   },
   "outputs": [],
   "source": [
    "train_data.static_features = static_features"
   ]
  },
  {
   "cell_type": "markdown",
   "id": "373372c7",
   "metadata": {
    "lines_to_next_cell": 0
   },
   "source": [
    "If `static_features` doesn't contain some `item_id`s that are present in `train_data`, an exception will be raised.\n",
    "\n",
    "Now, when we fit the predictor, all models that support static features will automatically use the static features included in `train_data`."
   ]
  },
  {
   "cell_type": "code",
   "execution_count": null,
   "id": "055af047",
   "metadata": {
    "lines_to_next_cell": 0
   },
   "outputs": [],
   "source": [
    "predictor = TimeSeriesPredictor(prediction_length=14).fit(train_data)"
   ]
  },
  {
   "cell_type": "markdown",
   "id": "6028608a",
   "metadata": {
    "lines_to_next_cell": 0
   },
   "source": [
    "During fitting, the predictor will log how each static feature was interpreted as follows:\n",
    "```python\n",
    "...\n",
    "Following types of static features have been inferred:\n",
    "\tcategorical: ['domain']\n",
    "\tcontinuous (float): []\n",
    "...\n",
    "```\n",
    "This message confirms that column `'domain'` was interpreted as a categorical feature.\n",
    "In general, AutoGluon-TimeSeries supports two types of static features:\n",
    "\n",
    "- `categorical`: columns of dtype `object`, `string` and `category` are interpreted as discrete categories\n",
    "- `continuous`: columns of dtype `int` and `float` are interpreted as continuous (real-valued) numbers\n",
    "- columns with other dtypes are ignored\n",
    "\n",
    "To override this logic, we need to manually change the columns dtype.\n",
    "For example, suppose the static features data frame contained an integer-valued column `\"store_id\"`."
   ]
  },
  {
   "cell_type": "code",
   "execution_count": null,
   "id": "b3e20c11",
   "metadata": {
    "lines_to_next_cell": 0
   },
   "outputs": [],
   "source": [
    "train_data.static_features[\"store_id\"] = list(range(len(train_data)))"
   ]
  },
  {
   "cell_type": "markdown",
   "id": "9b9258a6",
   "metadata": {
    "lines_to_next_cell": 0
   },
   "source": [
    "By default, this column will be interpreted as a continuous number.\n",
    "We can force AutoGluon to interpret it a a categorical feature by changing the dtype to `category`."
   ]
  },
  {
   "cell_type": "code",
   "execution_count": null,
   "id": "53eebd6a",
   "metadata": {
    "lines_to_next_cell": 0
   },
   "outputs": [],
   "source": [
    "train_data.static_features[\"store_id\"] = train_data.static_features[\"store_id\"].astype(\"category\")"
   ]
  },
  {
   "cell_type": "markdown",
   "id": "6c0729eb",
   "metadata": {},
   "source": [
    "**Note:** If training data contained static features, the predictor will expect that data passed to `predictor.predict()`, `predictor.leaderboard()`, and `predictor.evaluate()` also includes static features with the same column names and data types."
   ]
  },
  {
   "cell_type": "markdown",
   "id": "34300b0f",
   "metadata": {},
   "source": [
    "### Time-varying covariates\n",
    "Covariates are the time-varying features that may influence the target time series.\n",
    "They are sometimes also referred to as dynamic features, exogenous regressors, or related time series.\n",
    "AutoGluon supports two types of covariates:\n",
    "\n",
    "- *known* covariates that are known for the entire forecast horizon, such as\n",
    "    - holidays\n",
    "    - day of the week, month, year\n",
    "    - promotions\n",
    "\n",
    "- *past* covariates that are only known up to the start of the forecast horizon, such as\n",
    "    - sales of other products\n",
    "    - temperature, precipitation\n",
    "    - transformed target time series\n",
    "    \n",
    "![Target time series with one past covariate and one known covariate.](https://autogluon-timeseries-datasets.s3.us-west-2.amazonaws.com/public/figures/forecasting-indepth5.png)\n",
    "\n",
    "In AutoGluon, both `known_covariates` and `past_covariates` are stored as additional columns in the `TimeSeriesDataFrame`.\n",
    "\n",
    "We will again use the M4 Daily dataset as an example and generate both types of covariates:\n",
    "\n",
    "- a `past_covariate` equal to the logarithm of the target time series:\n",
    "- a `known_covariate` that equals to 1 if a given day is a weekend, and 0 otherwise."
   ]
  },
  {
   "cell_type": "code",
   "execution_count": null,
   "id": "1ab802a6-d6d0-4b7d-924e-666bcf7d4684",
   "metadata": {
    "lines_to_next_cell": 0
   },
   "outputs": [],
   "source": [
    "import numpy as np\n",
    "train_data[\"log_target\"] = np.log(train_data[\"target\"])\n",
    "\n",
    "WEEKEND_INDICES = [5, 6]\n",
    "timestamps = train_data.index.get_level_values(\"timestamp\")\n",
    "train_data[\"weekend\"] = timestamps.weekday.isin(WEEKEND_INDICES).astype(float)\n",
    "\n",
    "train_data.head()"
   ]
  },
  {
   "cell_type": "markdown",
   "id": "43bc5e88-391c-41c9-b2fa-dcb8fb9768ce",
   "metadata": {
    "lines_to_next_cell": 0
   },
   "source": [
    "When creating the TimeSeriesPredictor, we specify that the column `\"target\"` is our prediction target, and the\n",
    "column `\"weekend\"` contains a covariate that will be known at prediction time."
   ]
  },
  {
   "cell_type": "code",
   "execution_count": null,
   "id": "93628446",
   "metadata": {
    "lines_to_next_cell": 0
   },
   "outputs": [],
   "source": [
    "predictor = TimeSeriesPredictor(\n",
    "    prediction_length=14,\n",
    "    target=\"target\",\n",
    "    known_covariates_names=[\"weekend\"],\n",
    ").fit(train_data)"
   ]
  },
  {
   "cell_type": "markdown",
   "id": "3dd9e9c3-58eb-4049-9fda-6d19844041fe",
   "metadata": {},
   "source": [
    "Predictor will automatically interpret the remaining columns (except target and known covariates) as past covariates.\n",
    "This information is logged during fitting:\n",
    "\n",
    "```python\n",
    "...\n",
    "Provided dataset contains following columns:\n",
    "\ttarget:           'target'\n",
    "\tknown covariates: ['weekend']\n",
    "\tpast covariates:  ['log_target']\n",
    "...\n",
    "```\n",
    "\n",
    "Finally, to make predictions, we generate the known covariates for the forecast horizon"
   ]
  },
  {
   "cell_type": "code",
   "execution_count": null,
   "id": "b2d9de9e-3270-485f-b786-50c67f230b3d",
   "metadata": {},
   "outputs": [],
   "source": [
    "# Time difference between consecutive timesteps\n",
    "offset = pd.tseries.frequencies.to_offset(train_data.freq)\n",
    "prediction_length = 14\n",
    "\n",
    "known_covariates_per_item = []\n",
    "for item_id in train_data.item_ids:\n",
    "    time_series = train_data.loc[item_id]\n",
    "    last_day = time_series.index[-1]\n",
    "    future_timestamps = pd.date_range(start=last_day + offset, freq=offset, periods=prediction_length)\n",
    "    weekend = future_timestamps.weekday.isin(WEEKEND_INDICES).astype(float)\n",
    "\n",
    "    index = pd.MultiIndex.from_product([[item_id], future_timestamps], names=[\"item_id\", \"timestamp\"])\n",
    "    known_covariates_per_item.append(pd.DataFrame(weekend, index=index, columns=[\"weekend\"]))\n",
    "\n",
    "known_covariates = TimeSeriesDataFrame(pd.concat(known_covariates_per_item))\n",
    "known_covariates.head()"
   ]
  },
  {
   "cell_type": "markdown",
   "id": "3f9c5474-cade-4b06-ad8a-92e2997bc423",
   "metadata": {},
   "source": [
    "Note that `known_covariates` must satisfy the following conditions:\n",
    "\n",
    "- The columns must include all columns listed in ``predictor.known_covariates_names``\n",
    "- The ``item_id`` index must include all item ids present in ``train_data``\n",
    "- The ``timestamp`` index must include the values for ``prediction_length`` many time steps into the future from the end of each time series in ``train_data``\n",
    "\n",
    "If `known_covariates` contain more information than necessary (e.g., contain additional columns, item_ids, or timestamps),\n",
    "AutoGluon will automatically select the necessary rows and columns.\n",
    "\n",
    "Finally, we pass the `known_covariates` to the `predict` function to generate predictions"
   ]
  },
  {
   "cell_type": "code",
   "execution_count": null,
   "id": "2b450fb2",
   "metadata": {},
   "outputs": [],
   "source": [
    "predictor.predict(train_data, known_covariates=known_covariates)"
   ]
  },
  {
   "cell_type": "markdown",
   "id": "8545bbc6",
   "metadata": {},
   "source": [
    "The list of models that support static features and covariates is available in [Forecasting Model Zoo](forecasting-model-zoo.md)."
   ]
  },
  {
   "cell_type": "markdown",
   "id": "e63d4fdf-f85f-42eb-b4ed-f446d832f8ea",
   "metadata": {
    "lines_to_next_cell": 0
   },
   "source": [
    "## Which forecasting models are available in AutoGluon?\n",
    "Forecasting models in AutoGluon can be divided into three broad categories: local, global, and ensemble models.\n",
    "\n",
    "**Local models** are simple statistical models that are specifically designed to capture patterns such as trend or seasonality.\n",
    "Despite their simplicity, these models often produce reasonable forecasts and serve as a strong baseline.\n",
    "Some examples of available local models:\n",
    "\n",
    "- `ETS`\n",
    "- `ARIMA`\n",
    "- `Theta`\n",
    "- `SeasonalNaive`\n",
    "\n",
    "If the dataset consists of multiple time series, we fit a separate local model to each time series — hence the name \"local\".\n",
    "This means, if we want to make a forecast for a new time series that wasn't part of the training set, all local models will be fit from scratch for the new time series.\n",
    "\n",
    "**Global models** are machine learning algorithms that learn a single model from the entire training set consisting of multiple time series.\n",
    "Most global models in AutoGluon are provided by the [GluonTS](https://ts.gluon.ai/stable/) library.\n",
    "These are neural-network algorithms (implemented in PyTorch or MXNet), such as:\n",
    "\n",
    "- `DeepAR`\n",
    "- `SimpleFeedForward`\n",
    "- `TemporalFusionTransformer`\n",
    "\n",
    "AutoGluon also offers a tree-based global model `AutoGluonTabular`.\n",
    "Under the hood, this model converts the forecasting task into a regression problem and uses a [TabularPredictor](../../api/_autogen/autogluon.tabular.TabularPredictor.rst) to fit gradient-boosted tree algorithms like XGBoost, CatBoost, and LightGBM.\n",
    "\n",
    "Finally, an **ensemble** model works by combining predictions of all other models.\n",
    "By default, `TimeSeriesPredictor` always fits a `WeightedEnsemble` on top of other models.\n",
    "This can be disabled by setting `enable_ensemble=False` when calling the `fit` method.\n",
    "\n",
    "For a list of tunable hyperparameters for each model, their default values, and other details see [Forecasting Model Zoo](forecasting-model-zoo.md)."
   ]
  },
  {
   "cell_type": "markdown",
   "id": "20a43095-479e-471c-b029-0d1d179c8bd5",
   "metadata": {
    "lines_to_next_cell": 0
   },
   "source": [
    "## How does AutoGluon evaluate performance of time series models?\n",
    "AutoGluon evaluates the performance of forecasting models by measuring how well their forecasts align with the actually observed time series.\n",
    "We can evaluate the performance of a trained predictor on `test_data` using the `evaluate` method\n",
    "\n",
    "```python\n",
    "# Fit a predictor to training data\n",
    "predictor = TimeSeriesPredictor(prediction_length=3, eval_metric=\"MAPE\")\n",
    "predictor.fit(train_data=train_data)\n",
    "# Evaluate the predictor on test data\n",
    "predictor.evaluate(test_data)\n",
    "```\n",
    "\n",
    "For each time series in `test_data`, the predictor does the following:\n",
    "\n",
    "1. Hold out the last `prediction_length` values of the time series.\n",
    "2. Generate a forecast for the held out part of the time series, i.e., the forecast horizon.\n",
    "3. Quantify how well the forecast matches the actually observed (held out) values of the time series using the `eval_metric`.\n",
    "\n",
    "Finally, the scores are averaged over all time series in the dataset.\n",
    "\n",
    "The crucial detail here is that `evaluate` always computes the score on the last `prediction_length` time steps of each time series.\n",
    "The beginning of each time series (except the last `prediction_length` time steps) is only used to initialize the models before forecasting."
   ]
  },
  {
   "cell_type": "markdown",
   "id": "84198132",
   "metadata": {
    "lines_to_next_cell": 0
   },
   "source": [
    "### Multi-window backtesting\n",
    "\n",
    "If we want to perform _multi-window backtesting_ (i.e., evaluate performance on multiple forecast horizons generated from the same time series), we need to generate a new test set with multiple copies for each original time series.\n",
    "This can be done using a `MultiWindowSplitter`.\n",
    "\n",
    "```python\n",
    "from autogluon.timeseries.splitter import MultiWindowSplitter\n",
    "\n",
    "splitter = MultiWindowSplitter(num_windows=5)\n",
    "_, test_data_multi_window = splitter.split(test_data, prediction_length)\n",
    "\n",
    "predictor.evaluate(test_data_multi_window)\n",
    "```\n",
    "\n",
    "The new test set `test_data_multi_window` will now contain up to `num_windows` time series for each original time series in `test_data`.\n",
    "The score will be computed on the last `prediction_length` time steps of each time series (marked in orange).\n",
    "\n",
    "![MultiWindowSplitter splits each original time series into multiple evaluation instances. Forecast is evaluated on the last `prediction_length` timesteps (orange).](https://autogluon-timeseries-datasets.s3.us-west-2.amazonaws.com/public/figures/forecasting-indepth3.png)\n",
    "\n",
    "Multi-window backtesting typically results in more accurate estimation of the forecast quality on unseen data.\n",
    "However, this strategy decreases the amount of training data available for fitting models, so we recommend using single-window backtesting if the training time series are short."
   ]
  },
  {
   "cell_type": "markdown",
   "id": "d4bd9d23",
   "metadata": {},
   "source": [
    "### How to choose and interpret the evaluation metric?\n",
    "Different evaluation metrics capture different properties of the forecast, and therefore depend on the application that the user has in mind.\n",
    "For example, weighted quantile loss (`\"mean_wQuantileLoss\"`) measures how well-calibrated the quantile forecast is; mean absolute scaled error (`\"MASE\"`) compares the mean forecast to the performance of a naive baseline.\n",
    "For more details about the available metrics, see the documentation for [autogluon.timeseries.evaluator.TimeSeriesEvaluator](https://github.com/autogluon/autogluon/blob/master/timeseries/src/autogluon/timeseries/evaluator.py#L53).\n",
    "\n",
    "Note that AutoGluon always reports all metrics in a **higher-is-better** format.\n",
    "For this purpose, some metrics are multiplied by -1.\n",
    "For example, if we set `eval_metric=\"MASE\"`, the predictor will actually report `-MASE` (i.e., MASE score multiplied by -1). This means the `test_score` will be between 0 (best possible forecast) and $-\\infty$ (worst possible forecast)."
   ]
  },
  {
   "cell_type": "markdown",
   "id": "7e46b9b7-ff0a-4707-9048-10066c95bf03",
   "metadata": {
    "lines_to_next_cell": 0
   },
   "source": [
    "### How does AutoGluon perform validation?\n",
    "When we fit the predictor with `predictor.fit(train_data=train_data)`, under the hood AutoGluon further splits the original dataset `train_data` into train and validation parts.\n",
    "\n",
    "Performance of different models on the validation set is evaluated using the `evaluate` method, as described above in Section \"How does AutoGluon evaluate performance of time series models?\".\n",
    "The model that achieves the best validation score will be used for prediction in the end.\n",
    "\n",
    "By default, the internal validation set uses the last `prediction_length` time steps of each time series (i.e., single-window backtesting).\n",
    "To use multi-window backtesting instead, set the `validation_splitter` argument to `\"multi_window\"`\n",
    "\n",
    "```python\n",
    "# Defaults to 3 windows\n",
    "predictor = TimeSeriesPredictor(..., validation_splitter=\"multi_window\")\n",
    "```\n",
    "\n",
    "or pass a `MultiWindowSplitter` object\n",
    "\n",
    "```python\n",
    "from autogluon.timeseries.splitter import MultiWindowSplitter\n",
    "\n",
    "splitter = MultiWindowSplitter(num_windows=5)\n",
    "predictor = TimeSeriesPredictor(..., validation_splitter=splitter)\n",
    "```\n",
    "\n",
    "Alternatively, a user can provide their own validation set to the `fit` method and forego using the splitter completely. In this case it's important to remember that the validation score is computed on the last `prediction_length` time steps of each time series.\n",
    "\n",
    "```python\n",
    "predictor = TimeSeriesPredictor(...)\n",
    "predictor.fit(train_data=train_data, tuning_data=my_validation_dataset)\n",
    "```"
   ]
  },
  {
   "cell_type": "markdown",
   "id": "ddaefaf2-0a07-47e7-ac5f-af3620f02313",
   "metadata": {
    "lines_to_next_cell": 0
   },
   "source": [
    "## What functionality does `TimeSeriesPredictor` offer?\n",
    "AutoGluon offers multiple ways to configure the behavior of a `TimeSeriesPredictor` that are suitable for both beginners and expert users."
   ]
  },
  {
   "cell_type": "markdown",
   "id": "1382fade-abbe-4119-ab5d-a4542465759f",
   "metadata": {
    "lines_to_next_cell": 0
   },
   "source": [
    "### Basic configuration with `presets` and `time_limit`\n",
    "We can fit `TimeSeriesPredictor` with different pre-defined configurations using the `presets` argument of the `fit` method.\n",
    "\n",
    "```python\n",
    "predictor = TimeSeriesPredictor(...)\n",
    "predictor.fit(train_data, presets=\"medium_quality\")\n",
    "```\n",
    "\n",
    "Higher quality presets usually result in better forecasts but take longer to train.\n",
    "The following presets are available:\n",
    "\n",
    "- ``\"fast_training\"``: fit simple \"local\" statistical models (``ETS``, ``ARIMA``, ``Theta``, ``Naive``, ``SeasonalNaive``). These models are fast to train, but cannot capture more complex patters in the data.\n",
    "- ``\"medium_quality\"``: all models in ``\"fast_training\"`` in addition to the tree-based ``AutoGluonTabular`` and the ``DeepAR`` deep learning model. Default setting that produces good forecasts with reasonable training time.\n",
    "- ``\"high_quality\"``: all models in ``\"medium_quality\"`` in addition to two more deep learning models: ``TemporalFusionTransformerMXNet`` (if MXNet is available) and ``SimpleFeedForward``. Moreover, this preset will enable hyperparameter optimization for local statistical models. Usually more accurate than ``medium_quality``, but takes longer to train.\n",
    "- ``\"best_quality\"``: all models in ``\"high_quality\"`` in addition to the transformer-based ``TransformerMXNet`` model (if MXNet is available). This setting also enables hyperparameter optimization for deep learning models. Usually better than ``high_quality``, but takes much longer to train.\n",
    "\n",
    "Another way to control the training time is using the `time_limit` argument.\n",
    "\n",
    "```python\n",
    "predictor.fit(\n",
    "    train_data,\n",
    "    time_limit=60 * 60,  # total training time in seconds\n",
    ")\n",
    "```\n",
    "\n",
    "If no `time_limit` is provided, the predictor will train until all models have been fit."
   ]
  },
  {
   "cell_type": "markdown",
   "id": "5da9479c",
   "metadata": {},
   "source": [
    "### Manually configuring models\n",
    "\n",
    "Advanced users can override the presets and manually specify what models should be trained by the predictor using the `hyperparameters` argument.\n",
    "\n",
    "```python\n",
    "predictor = TimeSeriesPredictor(...)\n",
    "\n",
    "predictor.fit(\n",
    "    train_data,\n",
    "    hyperparameters={\n",
    "        \"DeepAR\": {},\n",
    "        \"ETS\": {\"seasonal_period\": 7},\n",
    "    }\n",
    ")\n",
    "```\n",
    "\n",
    "The code above will only train two models:\n",
    "\n",
    "- `DeepAR` (with default hyperparameters)\n",
    "- `ETS` (with the given `seasonal_period`; all other parameters set to their defaults).\n",
    "\n",
    "For the full list of available models and the respective hyperparameters, see [Forecasting Model Zoo](forecasting-model-zoo.md)."
   ]
  },
  {
   "cell_type": "markdown",
   "id": "164781f7",
   "metadata": {},
   "source": [
    "### Hyperparameter tuning\n",
    "\n",
    "Advanced users can define search spaces for model hyperparameters and let AutoGluon automatically determine the best configuration for the model.\n",
    "\n",
    "```python\n",
    "import autogluon.core as ag\n",
    "\n",
    "predictor = TimeSeriesPredictor()\n",
    "\n",
    "predictor.fit(\n",
    "    train_data,\n",
    "    hyperparameters={\n",
    "        \"DeepAR\": {\n",
    "            \"hidden_size\": ag.space.Int(20, 100),\n",
    "            \"dropout_rate\": ag.space.Categorical(0.1, 0.3),\n",
    "        },\n",
    "    },\n",
    "    hyperparameter_tune_kwargs=\"auto\",\n",
    "    enable_ensemble=False,\n",
    ")\n",
    "```\n",
    "\n",
    "This code will train multiple versions of the `DeepAR` model with 10 different hyperparameter configurations.\n",
    "AutGluon will automatically select the best model configuration that achieves the highest validation score and use it for prediction.\n",
    "\n",
    "AutoGluon uses different hyperparameter optimization (HPO) backends for different models:\n",
    "\n",
    "- Ray Tune for GluonTS models implemented in `MXNet` (e.g., `DeepARMXNet`, `TemporalFusionTransformerMXNet`)\n",
    "- Custom backend implementing random search for all other models\n",
    "\n",
    "We can change the number of random search runs by passing a dictionary as `hyperparameter_tune_kwargs`\n",
    "\n",
    "```python\n",
    "predictor.fit(\n",
    "    ...\n",
    "    hyperparameter_tune_kwargs={\n",
    "        \"scheduler\": \"local\",\n",
    "        \"searcher\": \"random\",\n",
    "        \"num_trials\": 20,\n",
    "    },\n",
    "    ...\n",
    ")\n",
    "```\n",
    "\n",
    "The `hyperparameter_tune_kwargs` dict must include the following keys:\n",
    "\n",
    "- ``\"num_trials\"``: int, number of configurations to train for each tuned model\n",
    "- ``\"searcher\"``: one of ``\"random\"`` (random search), ``\"bayes\"`` (bayesian optimization for GluonTS MXNet models, random search for other models) and ``\"auto\"`` (same as ``\"bayes\"``).\n",
    "- ``\"scheduler\"``: the only supported option is ``\"local\"`` (all models trained on the same machine)\n",
    "\n",
    "**Note:** HPO significantly increases the training time for most models, but often provides only modest performance gains."
   ]
  },
  {
   "cell_type": "markdown",
   "id": "ef8260b6",
   "metadata": {
    "lines_to_next_cell": 0
   },
   "source": [
    "### Forecasting irregularly-sampled time series & handling missing data\n",
    "By default, `TimeSeriesPredictor` expects the time series data to be regularly sampled (e.g., measurements done every day).\n",
    "However, in some applications, like finance, data often comes with irregular measurements (e.g., no stock price is available for weekends or holidays).\n",
    "AutoGluon provides two options for working with such data.\n",
    "\n",
    "#### Option 1: Extend the index and fill missing values\n",
    "\n",
    "Here is an example of a dataset with an irregular time index:\n",
    "```python\n",
    "df_irregular = TimeSeriesDataFrame(\n",
    "    pd.DataFrame(\n",
    "        {\n",
    "            \"item_id\": [0, 0, 0, 1, 1],\n",
    "            \"timestamp\": [\"2022-01-01\", \"2022-01-02\", \"2022-01-04\", \"2022-01-01\", \"2022-01-04\"],\n",
    "            \"target\": [1, 2, 3, 4, 5],\n",
    "        }\n",
    "    )\n",
    ")\n",
    "df_irregular\n",
    "```\n",
    "\n",
    "We can fill the gaps in the time index using the method :meth:`autogluon.timeseries.TimeSeriesDataFrame.to_regular_index`.\n",
    "Here we specify `freq=\"D\"` to indicate that the filled index must have a daily frequency\n",
    "(see [other possible choices in pandas documentation](https://pandas.pydata.org/docs/user_guide/timeseries.html#timeseries-offset-aliases)).\n",
    "\n",
    "```python\n",
    "df_regular = df_irregular.to_regular_index(freq=\"D\")\n",
    "df_regular\n",
    "```\n",
    "\n",
    "We can verify that the index is now regular and has a daily frequency\n",
    "\n",
    "```python\n",
    "print(f\"Data has frequency '{df_regular.freq}'\")\n",
    "```\n",
    "\n",
    "However, now the data contains missing values represented by `NaN`.\n",
    "To fill the NaNs, we use the method :meth:`autogluon.timeseries.TimeSeriesDataFrame.fill_missing_values` that implements various imputation strategies.\n",
    "\n",
    "```python\n",
    "df_filled = df_regular.fill_missing_values()\n",
    "df_filled\n",
    "```\n",
    "\n",
    "Now the data has a regular index and contains no missing values, so it can be used to train a `TimeSeriesPredictor`.\n",
    "\n",
    "#### Option 2: Completely ignore the time index\n",
    "\n",
    "This can be done by setting the `ignore_time_index` flag in the predictor.\n",
    "\n",
    "```python\n",
    "predictor = TimeSeriesPredictor(..., ignore_time_index=True)\n",
    "predictor.fit(train_data=train_data)\n",
    "```\n",
    "\n",
    "In this case, the following will happen\n",
    "\n",
    "- the predictor will completely ignore the timestamps in `train_data`;\n",
    "- predictions will have a dummy `timestamp` index with an arbitrary starting date and frequency equal to 1 second;\n",
    "- seasonality will be disabled for models like as `ETS` and `ARIMA`."
   ]
  }
 ],
 "metadata": {
  "language_info": {
   "name": "python"
  }
 },
 "nbformat": 4,
 "nbformat_minor": 5
}