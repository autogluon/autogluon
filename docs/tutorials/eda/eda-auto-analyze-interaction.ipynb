{
 "cells": [
  {
   "cell_type": "markdown",
   "id": "52c7d686-b387-406d-9140-a841c5e37e02",
   "metadata": {},
   "source": [
    "# Feature Interaction Charting\n",
    "[![Open In Colab](https://colab.research.google.com/assets/colab-badge.svg)](https://colab.research.google.com/github/autogluon/autogluon/blob/master/docs/tutorials/eda/eda-auto-analyze-interaction.ipynb)\n",
    "[![Open In SageMaker Studio Lab](https://studiolab.sagemaker.aws/studiolab.svg)](https://studiolab.sagemaker.aws/import/github/autogluon/autogluon/blob/master/docs/tutorials/eda/eda-auto-analyze-interaction.ipynb)\n",
    "\n",
    "This tool is made for quick interactions visualization between variables in a dataset. User can specify the variables to\n",
    "be plotted on the x, y and hue (color) parameters. The tool automatically picks chart type to render based on the\n",
    "detected variable types and renders 1/2/3-way interactions.\n",
    "\n",
    "This feature can be useful in exploring patterns, trends, and outliers and potentially identify good predictors for the\n",
    "task."
   ]
  },
  {
   "cell_type": "markdown",
   "id": "65680a5d-6f91-4f6e-8050-f08c67b7c27a",
   "metadata": {},
   "source": [
    "## Using Interaction Charts for Missing Values Filling\n",
    "\n",
    "Let's load the titanic dataset:"
   ]
  },
  {
   "cell_type": "code",
   "execution_count": null,
   "id": "aa00faab-252f-44c9-b8f7-57131aa8251c",
   "metadata": {
    "tags": [
     "remove-cell"
    ]
   },
   "outputs": [],
   "source": [
    "!pip install autogluon.eda\n"
   ]
  },
  {
   "cell_type": "code",
   "execution_count": null,
   "id": "0611db8c",
   "metadata": {},
   "outputs": [],
   "source": [
    "import pandas as pd\n",
    "\n",
    "df_train = pd.read_csv('https://autogluon.s3.amazonaws.com/datasets/titanic/train.csv')\n",
    "df_test = pd.read_csv('https://autogluon.s3.amazonaws.com/datasets/titanic/test.csv')\n",
    "target_col = 'Survived'"
   ]
  },
  {
   "cell_type": "markdown",
   "id": "e2030bc2-4d7a-4dd9-8bd5-455692750025",
   "metadata": {},
   "source": [
    "Next we will look at missing data in the variables:"
   ]
  },
  {
   "cell_type": "code",
   "execution_count": null,
   "id": "e57e3bb6-5e0a-4d11-91bc-d3a75662b631",
   "metadata": {},
   "outputs": [],
   "source": [
    "import autogluon.eda.auto as auto\n",
    "\n",
    "auto.missing_values_analysis(train_data=df_train)"
   ]
  },
  {
   "cell_type": "markdown",
   "id": "35a3ca6e-8015-40e1-9183-345a0e75eaa8",
   "metadata": {},
   "source": [
    "It looks like there are only two null values in the `Embarked` feature. Let's see what those two null values are:"
   ]
  },
  {
   "cell_type": "code",
   "execution_count": null,
   "id": "1fbcc9fa-009b-4af8-88df-bd11545ff0be",
   "metadata": {},
   "outputs": [],
   "source": [
    "df_train[df_train.Embarked.isna()]"
   ]
  },
  {
   "cell_type": "markdown",
   "id": "0d4dd498-4ee2-4ac8-98a4-c7ac46cf1e30",
   "metadata": {},
   "source": [
    "We may be able to fill these by looking at other independent variables. Both passengers paid a `Fare` of `$80`, are\n",
    "of `Pclass` `1` and `female` `Sex`. Let's see how the `Fare` is distributed among all `Pclass` and `Embarked` feature\n",
    "values:"
   ]
  },
  {
   "cell_type": "code",
   "execution_count": null,
   "id": "4b31c3ea-c73f-4f01-8965-24c0c2c03e0a",
   "metadata": {},
   "outputs": [],
   "source": [
    "auto.analyze_interaction(train_data=df_train, x='Embarked', y='Fare', hue='Pclass')"
   ]
  },
  {
   "cell_type": "markdown",
   "id": "9f683f1c-22d6-460e-9835-a0a6ae998432",
   "metadata": {},
   "source": [
    "The average `Fare` closest to `$80` are in the `C` `Embarked` values where `Pclass` is `1`. Let's fill in the missing\n",
    "values as `C`.\n",
    "\n",
    "## Using Interaction Charts To Learn Information About the Data"
   ]
  },
  {
   "cell_type": "code",
   "execution_count": null,
   "id": "40d16e12",
   "metadata": {},
   "outputs": [],
   "source": [
    "state = auto.partial_dependence_plots(df_train, label='Survived', return_state=True)"
   ]
  },
  {
   "cell_type": "markdown",
   "id": "19ad3184",
   "metadata": {},
   "source": [
    "A few observations can be made from the charts above:\n",
    "- `Sex` feature has a very strong impact on the prediction result\n",
    "- `Parch` has almost no impact on the outcome except when it is `0` or `1` - this is a candidate for clipping\n",
    "- `Fare` and `Age`: both have a non-linear relationship with the outcome; `Fare` has two modes (density of blue lines) - these are good candidates to explore for feature interaction with other properties"
   ]
  },
  {
   "cell_type": "code",
   "execution_count": null,
   "id": "72b18885",
   "metadata": {},
   "outputs": [],
   "source": [
    "auto.analyze_interaction(x='Parch', hue='Survived', train_data=df_train)"
   ]
  },
  {
   "cell_type": "code",
   "execution_count": null,
   "id": "89b61529-8a63-40b6-b894-ebfebd2bcb6a",
   "metadata": {},
   "outputs": [],
   "source": [
    "auto.analyze_interaction(x='Pclass', y='Survived', train_data=df_train, test_data=df_test)"
   ]
  },
  {
   "cell_type": "markdown",
   "id": "74f87759-aa16-4ef9-a69b-66c73ad805fe",
   "metadata": {},
   "source": [
    "It looks like `63%` of first class passengers survived, while; `48%` of second class and only `24%` of third class \n",
    "passengers survived. Similar information is visible via `Fare` variable:"
   ]
  },
  {
   "cell_type": "markdown",
   "id": "64bb054c",
   "metadata": {},
   "source": [
    "### `Fare` and `Age` features exploration"
   ]
  },
  {
   "cell_type": "markdown",
   "id": "3a9cbcc5",
   "metadata": {},
   "source": [
    "Because PDP plots hinted non-linear interaction in these two variables, let's take a closer look and visualize them individually and in jointly."
   ]
  },
  {
   "cell_type": "code",
   "execution_count": null,
   "id": "48e6b2fa-ccfd-4706-9d5e-45c600b8dfa3",
   "metadata": {},
   "outputs": [],
   "source": [
    "auto.analyze_interaction(x='Fare', hue='Survived', train_data=df_train, test_data=df_test, chart_args=dict(fill=True))"
   ]
  },
  {
   "cell_type": "code",
   "execution_count": null,
   "id": "252ad863-ad66-4e24-ab1e-3181c2e8fd2d",
   "metadata": {},
   "outputs": [],
   "source": [
    "auto.analyze_interaction(x='Age', hue='Survived', train_data=df_train, test_data=df_test)"
   ]
  },
  {
   "cell_type": "markdown",
   "id": "53ba75ae-f8bb-4a0d-9a74-98bd42381952",
   "metadata": {},
   "source": [
    "The very left part of the distribution on this chart possibly hints that children and infants were the priority."
   ]
  },
  {
   "cell_type": "code",
   "execution_count": null,
   "id": "d59a64a5-b5b4-4c73-8b53-1940fc578df4",
   "metadata": {},
   "outputs": [],
   "source": [
    "auto.analyze_interaction(x='Fare', y='Age', hue='Survived', train_data=df_train, test_data=df_test)"
   ]
  },
  {
   "cell_type": "markdown",
   "id": "794c7783-0339-468c-a4bf-ed1004f7a6d9",
   "metadata": {},
   "source": [
    "This chart highlights three outliers with a Fare of over `$500`. Let's take a look at these:"
   ]
  },
  {
   "cell_type": "code",
   "execution_count": null,
   "id": "d40fd4f2-496e-44d2-8f48-88649c4351b4",
   "metadata": {},
   "outputs": [],
   "source": [
    "df_train[df_train.Fare > 400]"
   ]
  },
  {
   "cell_type": "markdown",
   "id": "e9e6f9b6-5ad3-4e36-a827-321eb70a77fd",
   "metadata": {},
   "source": [
    "As you can see all 4 passengers share the same ticket. Per-person fare would be 1/4 of this value. Looks like we can \n",
    "add a new feature to the dataset fare per person; also this allows us to see if some passengers travelled in larger \n",
    "groups. Let's create two new features and take at the Fare-Age relationship once again."
   ]
  },
  {
   "cell_type": "code",
   "execution_count": null,
   "id": "c8379c40-74f6-4df8-a5df-ce730e3baabf",
   "metadata": {},
   "outputs": [],
   "source": [
    "ticket_to_count = df_train.groupby(by='Ticket')['Embarked'].count().to_dict()\n",
    "data = df_train.copy()\n",
    "data['GroupSize'] = data.Ticket.map(ticket_to_count)\n",
    "data['FarePerPerson'] = data.Fare / data.GroupSize\n",
    "\n",
    "auto.analyze_interaction(x='FarePerPerson', y='Age', hue='Survived', train_data=data)\n",
    "auto.analyze_interaction(x='FarePerPerson', y='Age', hue='Pclass', train_data=data)"
   ]
  },
  {
   "cell_type": "markdown",
   "id": "ebcac2ce-28f7-451a-b7fb-1cbed9687185",
   "metadata": {},
   "source": [
    "You can see cleaner separation between `Fare`, `Pclass` and `Survived` now."
   ]
  }
 ],
 "metadata": {
  "language_info": {
   "name": "python"
  }
 },
 "nbformat": 4,
 "nbformat_minor": 5
}
