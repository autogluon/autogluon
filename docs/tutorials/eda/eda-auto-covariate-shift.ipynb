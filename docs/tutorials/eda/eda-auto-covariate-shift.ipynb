{
 "cells": [
  {
   "cell_type": "markdown",
   "id": "2630b0dc-bc7f-4f9b-8f9c-32c52a9ab8d1",
   "metadata": {},
   "source": [
    "# Covariate Shift Analysis\n",
    "[![Open In Colab](https://colab.research.google.com/assets/colab-badge.svg)](https://colab.research.google.com/github/autogluon/autogluon/blob/master/docs/tutorials/eda/eda-auto-covariate-shift.ipynb)\n",
    "[![Open In SageMaker Studio Lab](https://studiolab.sagemaker.aws/studiolab.svg)](https://studiolab.sagemaker.aws/import/github/autogluon/autogluon/blob/master/docs/tutorials/eda/eda-auto-covariate-shift.ipynb)\n",
    "\n",
    "Covariate shift is a phenomenon in machine learning where the distribution of the independent variables in the training\n",
    "and testing data is different. This can occur when the training data and testing data come from different sources,\n",
    "regions or changes over time. This can result in biased model performance, as the model is not generalizing well to the\n",
    "test data.\n",
    "\n",
    "To address covariate shift, various techniques can be used, such as re-sampling the data, adjusting the model to account\n",
    "for the shift, transforming the data to a form not exposed to the shift (i.e. car year make -> car age) or obtaining\n",
    "additional data to balance the distribution of the independent variables. The goal is to ensure that the model is\n",
    "trained and tested on similar data distributions, so that the model is generalizing well when deployed into production.\n",
    "\n",
    "## Example\n",
    "\n",
    "Let's load the titanic dataset:"
   ]
  },
  {
   "cell_type": "code",
   "execution_count": null,
   "id": "aa00faab-252f-44c9-b8f7-57131aa8251c",
   "metadata": {
    "tags": [
     "remove-cell"
    ]
   },
   "outputs": [],
   "source": [
    "!pip install autogluon.eda\n",
    "!pip install autogluon.tabular[lightgbm]\n"
   ]
  },
  {
   "cell_type": "code",
   "execution_count": null,
   "id": "7fb01cc5-e37f-4dd9-ab4f-3225582b7baf",
   "metadata": {},
   "outputs": [],
   "source": [
    "import pandas as pd\n",
    "\n",
    "df_train = pd.read_csv('https://autogluon.s3.amazonaws.com/datasets/titanic/train.csv')\n",
    "df_test = pd.read_csv('https://autogluon.s3.amazonaws.com/datasets/titanic/test.csv')\n",
    "target_col = 'Survived'"
   ]
  },
  {
   "cell_type": "markdown",
   "id": "bbd01982-3fa0-437b-933e-35c6fccc488f",
   "metadata": {},
   "source": [
    "Now we can perform analysis:"
   ]
  },
  {
   "cell_type": "code",
   "execution_count": null,
   "id": "e6f3b0a2-be1f-4e57-99a9-94950d78db6c",
   "metadata": {},
   "outputs": [],
   "source": [
    "import autogluon.eda.auto as auto\n",
    "\n",
    "auto.covariate_shift_detection(train_data=df_train, test_data=df_test, label=target_col)"
   ]
  },
  {
   "cell_type": "markdown",
   "id": "5b1f061e-304b-48c1-adf2-2985ad1b0a00",
   "metadata": {},
   "source": [
    "The detector found that `Name` and `PassengerId` with a very high certainty (`roc_auc` is `1`) can distinguish if the\n",
    "row came from a train or test parts of the dataset. We'll ignore `Name` for now - it's importance is relatively low, \n",
    "and instead we'll look first at `PassengerId`. The graph shows that the feature is uniformly distributed across \n",
    "different ranges between train and test datasets. In this specific case it is just a monotonically increasing ID, \n",
    "which carries no practical value for this task. Let's drop it and try the run again:"
   ]
  },
  {
   "cell_type": "code",
   "execution_count": null,
   "id": "bd05ff1b-ce75-4f2c-a33a-07b900e94ef7",
   "metadata": {},
   "outputs": [],
   "source": [
    "df_train = df_train.drop(columns='PassengerId')\n",
    "df_test = df_test.drop(columns='PassengerId')\n",
    "auto.covariate_shift_detection(train_data=df_train, test_data=df_test, label=target_col)"
   ]
  }
 ],
 "metadata": {
  "language_info": {
   "name": "python"
  }
 },
 "nbformat": 4,
 "nbformat_minor": 5
}