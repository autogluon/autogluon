{
 "cells": [
  {
   "cell_type": "markdown",
   "id": "df6f46e3-af8a-4e7e-bcb6-67fe202a2514",
   "metadata": {},
   "source": [
    "# Automated Target Variable Analysis\n",
    "[![Open In Colab](https://colab.research.google.com/assets/colab-badge.svg)](https://colab.research.google.com/github/autogluon/autogluon/blob/master/docs/tutorials/eda/eda-auto-target-analysis.ipynb)\n",
    "[![Open In SageMaker Studio Lab](https://studiolab.sagemaker.aws/studiolab.svg)](https://studiolab.sagemaker.aws/import/github/autogluon/autogluon/blob/master/docs/tutorials/eda/eda-auto-target-analysis.ipynb)\n",
    "\n",
    "In this section we explore automated dataset overview functionality.\n",
    "\n",
    "Automated target variable analysis aims to automatically analyze and summarize the variable we are trying to predict\n",
    "(label). The goal of this analysis is to take a deeper look into target variable structure and its relationship with\n",
    "other important variables in the dataset.\n",
    "\n",
    "To simplify discovery of outliers and useful patterns, this functionality introduces components which allow generating\n",
    "descriptive statistics and visualizing the target distribution and relationships between the target variable and other\n",
    "variables in the dataset.\n",
    "\n",
    "## Classification Example\n",
    "\n",
    "We will start with getting the titanic dataset and performing a quick one-line overview to get the information."
   ]
  },
  {
   "cell_type": "code",
   "execution_count": null,
   "id": "aa00faab-252f-44c9-b8f7-57131aa8251c",
   "metadata": {
    "tags": [
     "remove-cell"
    ]
   },
   "outputs": [],
   "source": [
    "!pip install autogluon.eda\n"
   ]
  },
  {
   "cell_type": "code",
   "execution_count": null,
   "id": "a6097285-eabc-4ba2-8433-cc5e182cbaec",
   "metadata": {},
   "outputs": [],
   "source": [
    "import pandas as pd\n",
    "\n",
    "df_train = pd.read_csv('https://autogluon.s3.amazonaws.com/datasets/titanic/train.csv')\n",
    "df_test = pd.read_csv('https://autogluon.s3.amazonaws.com/datasets/titanic/test.csv')\n",
    "target_col = 'Survived'"
   ]
  },
  {
   "cell_type": "markdown",
   "id": "c2678620-2a38-4e82-a6f4-305f03cb7563",
   "metadata": {},
   "source": [
    "The report consists of multiple parts: statistical information overview enriched with feature types detection and\n",
    "missing value counts focused only on the target variable.\n",
    "\n",
    "Label Insights will highlight dataset features which require attention (i.e. class imbalance or out-of-domain data in\n",
    "test dataset).\n",
    "\n",
    "The next component is feature distribution visualization. This is helpful for choosing data transformations and/or\n",
    "model selection. For regression tasks, the framework automatically fits multiple distributions available in scipy. The\n",
    "distributions with the best fit will be displayed on the chart. Distributions information will be displayed below the\n",
    "chart.\n",
    "\n",
    "Next, the report will provide correlation analysis focusing only on highly-correlated features and visualization of\n",
    "their relationships with the target.\n",
    "\n",
    "To perform the analysis, we need just one line:"
   ]
  },
  {
   "cell_type": "code",
   "execution_count": null,
   "id": "906e4a9e-27b2-41d2-840b-b2217469e2da",
   "metadata": {},
   "outputs": [],
   "source": [
    "import autogluon.eda.auto as auto\n",
    "\n",
    "auto.target_analysis(train_data=df_train, label=target_col)"
   ]
  },
  {
   "cell_type": "markdown",
   "id": "5b8488c0-9e8d-4b72-a031-b0024a7ce2fc",
   "metadata": {},
   "source": [
    "## Regression Example\n",
    "\n",
    "In the previous section we tried a classification example. Let's try a regression. It has a few differences."
   ]
  },
  {
   "cell_type": "code",
   "execution_count": null,
   "id": "413709f4-261b-4bb6-a705-a6f6a33d8a03",
   "metadata": {},
   "outputs": [],
   "source": [
    "df_train = pd.read_csv('https://autogluon.s3.amazonaws.com/datasets/AmesHousingPriceRegression/train_data.csv')\n",
    "df_test = pd.read_csv('https://autogluon.s3.amazonaws.com/datasets/AmesHousingPriceRegression/test_data.csv')\n",
    "target_col = 'SalePrice'\n",
    "\n",
    "auto.target_analysis(\n",
    "    train_data=df_train, label=target_col, \n",
    "    # Optional; default will try to fit all available distributions\n",
    "    fit_distributions=['laplace_asymmetric', 'johnsonsu', 'exponnorm']  \n",
    ")"
   ]
  }
 ],
 "metadata": {
  "language_info": {
   "name": "python"
  }
 },
 "nbformat": 4,
 "nbformat_minor": 5
}
