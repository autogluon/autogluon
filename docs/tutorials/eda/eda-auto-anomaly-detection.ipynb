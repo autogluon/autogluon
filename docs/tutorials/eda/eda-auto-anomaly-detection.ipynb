{
 "cells": [
  {
   "cell_type": "markdown",
   "id": "88438d0b-ef52-4a4a-97ae-b8d3dc342c50",
   "metadata": {},
   "source": [
    "# Anomaly Detection Analysis\n",
    "[![Open In Colab](https://colab.research.google.com/assets/colab-badge.svg)](https://colab.research.google.com/github/autogluon/autogluon/blob/master/docs/tutorials/eda/eda-auto-anomaly-detection.ipynb)\n",
    "[![Open In SageMaker Studio Lab](https://studiolab.sagemaker.aws/studiolab.svg)](https://studiolab.sagemaker.aws/import/github/autogluon/autogluon/blob/master/docs/tutorials/eda/eda-auto-anomaly-detection.ipynb)\n",
    "\n",
    "Anomaly detection is a powerful technique used in data analysis and machine learning to identify unusual patterns or behaviors that deviate from the norm. These deviations, known as anomalies or outliers, can be indicative of errors, fraud, system failures, or other exceptional events. By detecting these anomalies early, organizations can take proactive measures to address potential issues, enhance security, optimize processes, and make more informed decisions. In this tutorial, we will introduce anomaly detection tools available in AutoGluon EDA package and showcase how to identify these irregularities within your data, even if you're new to the subject."
   ]
  },
  {
   "cell_type": "code",
   "execution_count": null,
   "id": "022a9f9f-d664-48c9-b180-c438884c67c4",
   "metadata": {
    "tags": [
     "remove-cell"
    ]
   },
   "outputs": [],
   "source": [
    "!pip install autogluon.eda\n",
    "!pip install autogluon.tabular[lightgbm]"
   ]
  },
  {
   "cell_type": "code",
   "execution_count": null,
   "id": "2acf7c90-efc9-4759-bbf1-767a7997f1ac",
   "metadata": {
    "tags": []
   },
   "outputs": [],
   "source": [
    "import pandas as pd\n",
    "import seaborn as sns\n",
    "\n",
    "import autogluon.eda.auto as auto"
   ]
  },
  {
   "cell_type": "markdown",
   "id": "59715cc1-a8c1-4681-b234-1dec860cd41e",
   "metadata": {
    "tags": []
   },
   "source": [
    "### Loading and pre-processing the data\n",
    "\n",
    "First we will load the data. We will use the Titanic dataset."
   ]
  },
  {
   "cell_type": "code",
   "execution_count": null,
   "id": "5a79863d-df66-4823-a853-45309e0c3395",
   "metadata": {
    "tags": []
   },
   "outputs": [],
   "source": [
    "df_train = pd.read_csv('https://autogluon.s3.amazonaws.com/datasets/titanic/train.csv')\n",
    "df_test = pd.read_csv('https://autogluon.s3.amazonaws.com/datasets/titanic/test.csv')\n",
    "target_col = 'Survived'"
   ]
  },
  {
   "cell_type": "markdown",
   "id": "ad3df283-c70c-4114-9134-6c130d7bbe77",
   "metadata": {},
   "source": [
    "`auto.detect_anomalies` will automatically preprocess the data, but it doesn't fill in missing numeric values by default. We'll take care of filling those in ourselves before feeding the data into the anomaly detector."
   ]
  },
  {
   "cell_type": "code",
   "execution_count": null,
   "id": "1094bf8d-5d8e-4312-bc14-67927948beed",
   "metadata": {
    "tags": []
   },
   "outputs": [],
   "source": [
    "x = df_train\n",
    "x_test = df_test\n",
    "x.Age.fillna(x.Age.mean(), inplace=True)\n",
    "x_test.Age.fillna(x.Age.mean(), inplace=True)\n",
    "x_test.Fare.fillna(x.Fare.mean(), inplace=True)"
   ]
  },
  {
   "cell_type": "markdown",
   "source": [
    "### Running Initial Anomaly Analysis"
   ],
   "metadata": {
    "collapsed": false
   }
  },
  {
   "cell_type": "code",
   "execution_count": null,
   "id": "35d1daf4-d67c-4705-ae5b-103dc317b21b",
   "metadata": {
    "tags": []
   },
   "outputs": [],
   "source": [
    "# This parameter specifies how many standard deviations above mean anomaly score are considered\n",
    "# to be anomalies (only needed for visualization, does not affect scores calculation).\n",
    "threshold_stds = 3"
   ]
  },
  {
   "cell_type": "code",
   "execution_count": null,
   "id": "3411c72c-3767-4930-8b8c-0e84e1b05b22",
   "metadata": {
    "tags": []
   },
   "outputs": [],
   "source": [
    "auto.detect_anomalies(\n",
    "    train_data=x,\n",
    "    test_data=x_test,\n",
    "    label=target_col,\n",
    "    threshold_stds=threshold_stds,\n",
    "    show_top_n_anomalies=None,\n",
    "    fig_args={\n",
    "        'figsize': (6, 4)\n",
    "    },\n",
    "    chart_args={\n",
    "        'normal.color': 'lightgrey',\n",
    "        'anomaly.color': 'orange',\n",
    "    }\n",
    ")"
   ]
  },
  {
   "cell_type": "markdown",
   "id": "77974412-29f0-40a2-839a-4e091b102d6b",
   "metadata": {},
   "source": [
    "### Handling Covariate Shift\n",
    "The test data chart appears to show increasing anomaly scores as we move through the records. This is not normal; let's check for a covariate shift."
   ]
  },
  {
   "cell_type": "code",
   "execution_count": null,
   "id": "743bef33-c0db-4277-a69f-6846c82b7cb9",
   "metadata": {
    "tags": []
   },
   "outputs": [],
   "source": [
    "auto.covariate_shift_detection(train_data=x, test_data=x_test, label=target_col)"
   ]
  },
  {
   "cell_type": "code",
   "execution_count": null,
   "id": "b2c98412-8f08-4b32-8a9f-472b72481677",
   "metadata": {
    "tags": []
   },
   "outputs": [],
   "source": [
    "ax = sns.lineplot(data=df_train[['PassengerId']].reset_index(), x='index', y='PassengerId', label='Train')\n",
    "sns.lineplot(ax=ax, data=df_test[['PassengerId']].reset_index(), x='index', y='PassengerId', label='Test');"
   ]
  },
  {
   "cell_type": "markdown",
   "id": "a9d008a7-3cbf-43e6-9fad-c89e070e9307",
   "metadata": {},
   "source": [
    "This feature looks like a monotonically increasing ID and carries no value for our problem; we are going to remove it."
   ]
  },
  {
   "cell_type": "code",
   "execution_count": null,
   "id": "9eb257f2-4d4c-470e-b3c1-420da5c7caa6",
   "metadata": {
    "tags": []
   },
   "outputs": [],
   "source": [
    "x = x.drop(columns=['PassengerId'], errors='ignore')\n",
    "x_test = x_test.drop(columns=['PassengerId'], errors='ignore')"
   ]
  },
  {
   "cell_type": "code",
   "execution_count": null,
   "id": "b2a17438-9240-49e5-a744-4c493c107d93",
   "metadata": {
    "tags": []
   },
   "outputs": [],
   "source": [
    "auto.covariate_shift_detection(train_data=x, test_data=x_test, label=target_col)"
   ]
  },
  {
   "cell_type": "markdown",
   "id": "bf718a4f-6f30-4ae5-892d-34d24f29f8f9",
   "metadata": {},
   "source": [
    "### Run Anomaly Analysis on Cleaned Data"
   ]
  },
  {
   "cell_type": "code",
   "execution_count": null,
   "id": "ba405f85-08ce-42a6-b261-63d5f64b9b3a",
   "metadata": {
    "tags": []
   },
   "outputs": [],
   "source": [
    "state = auto.detect_anomalies(\n",
    "    train_data=x,\n",
    "    test_data=x_test,\n",
    "    label=target_col,\n",
    "    threshold_stds=3,\n",
    "    show_top_n_anomalies=5,\n",
    "    explain_top_n_anomalies=1,\n",
    "    return_state=True,\n",
    "    show_help_text=False,\n",
    "    fig_args={\n",
    "        'figsize': (6, 4)\n",
    "    },\n",
    "    chart_args={\n",
    "        'normal.color': 'lightgrey',\n",
    "        'anomaly.color': 'orange',\n",
    "    }    \n",
    ")"
   ]
  },
  {
   "cell_type": "markdown",
   "id": "bfa8d85f-8cb9-48c7-bf6c-b0d43a969206",
   "metadata": {},
   "source": [
    "### Visualize Anomalies"
   ]
  },
  {
   "cell_type": "markdown",
   "id": "b3a9bca5-6620-4e79-b72b-34ac7f291e0b",
   "metadata": {},
   "source": [
    "As we can see from the feature impact charts, the anomaly scores are primarily influenced by the Fare and Age features. Let's take a look at a visual slice of the feature space. We can get the scores from state under `anomaly_detection.scores.<dataset>` keys:"
   ]
  },
  {
   "cell_type": "code",
   "execution_count": null,
   "id": "f8a31963-0a03-4bbe-b86f-3c06074aa029",
   "metadata": {
    "tags": []
   },
   "outputs": [],
   "source": [
    "train_anomaly_scores = state.anomaly_detection.scores.train_data\n",
    "test_anomaly_scores = state.anomaly_detection.scores.test_data"
   ]
  },
  {
   "cell_type": "code",
   "execution_count": null,
   "id": "375eb43f-44c8-455b-ba1f-724de6604837",
   "metadata": {
    "tags": []
   },
   "outputs": [],
   "source": [
    "auto.analyze_interaction(train_data=df_train.join(train_anomaly_scores), x=\"Fare\", y=\"Age\", hue=\"score\", chart_args=dict(palette='viridis'))"
   ]
  },
  {
   "cell_type": "code",
   "execution_count": null,
   "id": "75c5c37d-9826-4ebe-a557-90cc1a2e9328",
   "metadata": {
    "tags": []
   },
   "outputs": [],
   "source": [
    "auto.analyze_interaction(train_data=df_test.join(test_anomaly_scores), x=\"Fare\", y=\"Age\", hue=\"score\", chart_args=dict(palette='viridis'))"
   ]
  },
  {
   "cell_type": "markdown",
   "id": "28aa2359-69a2-4e5c-9cae-56ddd523ef70",
   "metadata": {},
   "source": [
    "The data points in the lower left corner don't appear to be anomalies. However, this is only because we are looking at a slice of the 11-dimensional data. While it might not seem like an anomaly in this slice, it is salient in other dimensions."
   ]
  },
  {
   "cell_type": "markdown",
   "id": "37f4d0b1-6a24-4bca-b831-83349c906f2f",
   "metadata": {},
   "source": [
    "In conclusion, in this tutorial we've guided you through the process of using AutoGluon for anomaly detection. We've covered how to automatically detect anomalies with just a few lines of code. We also explored finding and visualizing the top detected anomalies, which can help you better understand and address the underlying issues. Lastly, we explored how to find the main contributing factors that led to a data point being marked as an anomaly, allowing you to pinpoint the root causes and take appropriate action."
   ]
  }
 ],
 "metadata": {
  "language_info": {
   "name": "python"
  }
 },
 "nbformat": 4,
 "nbformat_minor": 5
}
