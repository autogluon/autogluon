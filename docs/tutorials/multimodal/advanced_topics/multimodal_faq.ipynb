{
 "cells": [
  {
   "cell_type": "markdown",
   "id": "2e4b64d3",
   "metadata": {},
   "source": [
    "# FAQ\n",
    "\n",
    "[![Open In Colab](https://colab.research.google.com/assets/colab-badge.svg)](https://colab.research.google.com/github/autogluon/autogluon/blob/new/docs/tutorials/multimodal/advanced_topics/multimodal_faq.ipynb)\n",
    "[![Open In SageMaker Studio Lab](https://studiolab.sagemaker.aws/studiolab.svg)](https://studiolab.sagemaker.aws/import/github/autogluon/autogluon/blob/new/docs/tutorials/multimodal/advanced_topics/multimodal_faq.ipynb)\n",
    "\n",
    "\n",
    "\n",
    "\n",
    "## There is no internet access in my deployment environment. What should I do? \n",
    "\n",
    "When you have trained the predictor, try to save it with"
   ]
  },
  {
   "cell_type": "markdown",
   "id": "409b87d9",
   "metadata": {},
   "source": [
    "```python\n",
    "predictor.save(SAVE_PATH, standalone=True)\n",
    "```\n"
   ]
  },
  {
   "cell_type": "markdown",
   "id": "7e1b9e20",
   "metadata": {},
   "source": [
    "Afterwards, the following `.load()` call can happen without internet access:"
   ]
  },
  {
   "cell_type": "markdown",
   "id": "52a8b2ef",
   "metadata": {},
   "source": [
    "```python\n",
    "from autogluon.multimodal import MultiModalPredictor\n",
    "\n",
    "predictor = MultiModalPredictor.load(SAVE_PATH)\n",
    "```\n"
   ]
  },
  {
   "cell_type": "markdown",
   "id": "ba388ee0",
   "metadata": {},
   "source": [
    "## Do I need to preprocess my text or image data before using AutoGluon Multimodal?\n",
    "\n",
    "Usually you do not need to preprocess the text / image data. AutoGluon Multimodal has built-in \n",
    "support of text / image preprocessing. However, this won't block you from appending custom preprocessing logic before \n",
    "feeding in the dataframe to AutoGluon Multimodal.\n",
    "\n",
    "\n",
    "## Is it possible to customize AutoGluon Multimodal?\n",
    "\n",
    "Yes, check our tutorial at [Customize AutoMM](http://auto.gluon.ai/new/tutorials/multimodal/advanced_topics/customization.ipynb#customize-automm). \n",
    "\n",
    "## Can I use AutoGluon Multimodal in Kaggle Competitions?\n",
    "\n",
    "Yes, we provided a script for building a standalone runnable package of AutoGluon: [AutoGluon Multimodal Kaggle Standalone Package](https://www.kaggle.com/code/linuxdex/get-autogluon-standalone). \n",
    "We used this script in our examples about [Petfinder Pawpularity](https://github.com/autogluon/autogluon/tree/master/examples/automm/kaggle_pawpularity) \n",
    "and [Feedback Prize - Predicting Effective Arguments](https://github.com/autogluon/autogluon/tree/master/examples/automm/kaggle_feedback_prize). \n",
    "You may refer to these examples for more details.\n",
    "\n",
    "##"
   ]
  }
 ],
 "metadata": {
  "language_info": {
   "name": "python"
  }
 },
 "nbformat": 4,
 "nbformat_minor": 5
}