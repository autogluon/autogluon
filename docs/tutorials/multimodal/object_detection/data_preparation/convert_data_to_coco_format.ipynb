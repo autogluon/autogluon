{
 "cells": [
  {
   "cell_type": "markdown",
   "id": "b4e332db",
   "metadata": {},
   "source": [
    "# Convert Data to COCO Format\n",
    "\n",
    "[![Open In Colab](https://colab.research.google.com/assets/colab-badge.svg)](https://colab.research.google.com/github/autogluon/autogluon/blob/master/docs/tutorials/multimodal/object_detection/data_preparation/convert_data_to_coco_format.ipynb)\n",
    "[![Open In SageMaker Studio Lab](https://studiolab.sagemaker.aws/studiolab.svg)](https://studiolab.sagemaker.aws/import/github/autogluon/autogluon/blob/master/docs/tutorials/multimodal/object_detection/data_preparation/convert_data_to_coco_format.ipynb)\n",
    "\n",
    "\n",
    "\n",
    "\n",
    "COCO is one of the most popular datasets for object detection\n",
    "and its annotation format, usually referred to as the \"COCO format\", has also been widely adopted.\n",
    "The \"COCO format\" is a json structure that governs how labels and metadata are formatted for a dataset.\n",
    "We use COCO format as the standard data format for training and inference in object detection tasks, and \n",
    "require that all data related to object detection tasks should conform to the \"COCO format\".  \n",
    "For details regarding COCO dataset, please see this page.\n",
    "\n",
    "## How to prepare COCO format\n",
    "### 1. Formatting folder Structure\n",
    "Under the COCO format, the overall folder structure of a dataset should follow:"
   ]
  },
  {
   "cell_type": "markdown",
   "id": "4ce3d46c",
   "metadata": {},
   "source": [
    "```\n",
    "<dataset_dir>/\n",
    "    images/\n",
    "        <imagename0>.<ext>\n",
    "        <imagename1>.<ext>\n",
    "        <imagename2>.<ext>\n",
    "        ...\n",
    "    annotations/\n",
    "        train_labels.json\n",
    "        val_labels.json\n",
    "        test_labels.json\n",
    "        ...\n",
    "```\n"
   ]
  },
  {
   "cell_type": "markdown",
   "id": "bc80e667",
   "metadata": {},
   "source": [
    "### 2. Formatting ``*_labels.json``\n",
    "Below are the key names and value definitions inside ``*_labels.json``:"
   ]
  },
  {
   "cell_type": "markdown",
   "id": "82ca3b6c",
   "metadata": {},
   "source": [
    "```javascript\n",
    "{\n",
    "    \"info\": info,\n",
    "    \"licenses\": [license], \n",
    "    \"images\": [image],  // list of all images in the dataset\n",
    "    \"annotations\": [annotation],  // list of all annotations in the dataset\n",
    "    \"categories\": [category]  // list of all categories\n",
    "}\n",
    "\n",
    "where:\n",
    "\n",
    "info = {\n",
    "    \"year\": int, \n",
    "    \"version\": str, \n",
    "    \"description\": str, \n",
    "    \"contributor\": str, \n",
    "    \"url\": str, \n",
    "    \"date_created\": datetime,\n",
    "}\n",
    "\n",
    "license = {\n",
    "    \"id\": int, \n",
    "    \"name\": str, \n",
    "    \"url\": str,\n",
    "}\n",
    "\n",
    "image = {\n",
    "    \"id\": int, \n",
    "    \"width\": int, \n",
    "    \"height\": int, \n",
    "    \"file_name\": str, \n",
    "    \"license\": int,  // the id of the license\n",
    "    \"date_captured\": datetime,\n",
    "}\n",
    "\n",
    "category = {\n",
    "    \"id\": int, \n",
    "    \"name\": str, \n",
    "    \"supercategory\": str,\n",
    "}\n",
    "\n",
    "annotation = {\n",
    "    \"id\": int, \n",
    "    \"image_id\": int,  // the id of the image that the annotation belongs to\n",
    "    \"category_id\": int,  // the id of the category that the annotation belongs to\n",
    "    \"segmentation\": RLE or [polygon], \n",
    "    \"area\": float, \n",
    "    \"bbox\": [x,y,width,height], \n",
    "    \"iscrowd\": int,  // 0 or 1,\n",
    "}\n",
    "```\n"
   ]
  },
  {
   "attachments": {},
   "cell_type": "markdown",
   "id": "485f505e",
   "metadata": {},
   "source": [
    "For the sole purpose of running AutoMM, the fields ``\"info\"`` and ``\"licenses\"`` are optional. \n",
    "``\"images\"``, ``\"categories\"``, and ``\"annotations\"`` are required for training and evaluation, while for prediction only the ``\"images\"`` field is required."
   ]
  },
  {
   "cell_type": "markdown",
   "id": "b4d6d70b",
   "metadata": {},
   "source": [
    "```json\n",
    "{\n",
    "    \"info\": {...},\n",
    "    \"licenses\": [\n",
    "        {\n",
    "            \"url\": \"http://creativecommons.org/licenses/by-nc-sa/2.0/\", \n",
    "            \"id\": 1, \n",
    "            \"name\": \"Attribution-NonCommercial-ShareAlike License\"\n",
    "        },\n",
    "        ...\n",
    "    ],\n",
    "    \"categories\": [\n",
    "        {\"supercategory\": \"person\", \"id\": 1, \"name\": \"person\"},\n",
    "        {\"supercategory\": \"vehicle\", \"id\": 2, \"name\": \"bicycle\"},\n",
    "        {\"supercategory\": \"vehicle\", \"id\": 3, \"name\": \"car\"},\n",
    "        {\"supercategory\": \"vehicle\", \"id\": 4, \"name\": \"motorcycle\"},\n",
    "        ...\n",
    "    ],\n",
    "        \n",
    "    \"images\": [\n",
    "        {\n",
    "            \"license\": 4, \n",
    "            \"file_name\": \"<imagename0>.<ext>\", \n",
    "            \"height\": 427, \n",
    "            \"width\": 640, \n",
    "            \"date_captured\": null, \n",
    "            \"id\": 397133\n",
    "        },\n",
    "        ...\n",
    "    ],\n",
    "    \"annotations\": [\n",
    "        \n",
    "        ...\n",
    "    ]\n",
    "}\n",
    "```\n"
   ]
  },
  {
   "cell_type": "markdown",
   "id": "d2e6c264",
   "metadata": {},
   "source": [
    "The following is an example of one sample annotated with COCO format\n",
    "\n",
    "## Converting VOC format to COCO format\n",
    "[Pascal VOC](http://host.robots.ox.ac.uk/pascal/VOC/) is a collection of datasets for object detection. \n",
    "And VOC format refers to the specific format (in `.xml` file) the Pascal VOC dataset is using.\n",
    "\n",
    "We have a tutorial guiding you convert your VOC format dataset, i.e. either Pascal VOC Dataset or other datasets in VOC format, to COCO format: [AutoMM Detection - Convert VOC Format Dataset to COCO Format](voc_to_coco.ipynb)\n",
    "\n",
    "In short, assuming your VOC dataset has the following structure"
   ]
  },
  {
   "cell_type": "markdown",
   "id": "6246a2f4",
   "metadata": {},
   "source": [
    "```\n",
    "<path_to_VOCdevkit>/\n",
    "    VOC2007/\n",
    "        Annotations/\n",
    "        ImageSets/\n",
    "        JPEGImages/\n",
    "        labels.txt\n",
    "    VOC2012/\n",
    "        Annotations/\n",
    "        ImageSets/\n",
    "        JPEGImages/\n",
    "        labels.txt\n",
    "    ...\n",
    "```\n"
   ]
  },
  {
   "cell_type": "markdown",
   "id": "a2b127c9",
   "metadata": {},
   "source": [
    "### Run the following command:"
   ]
  },
  {
   "cell_type": "markdown",
   "id": "4eb6f62d",
   "metadata": {},
   "source": [
    "```python\n",
    "# If you'd like to customize train/val/test ratio. Note test_ratio = 1 - train_ratio - val_ratio.\n",
    "python3 -m autogluon.multimodal.cli.voc2coco --root_dir <root_dir> --train_ratio <train_ratio> --val_ratio <val_ratio>  \n",
    "# If you'd like to use the dataset provided train/val/test splits:\n",
    "python3 -m autogluon.multimodal.cli.voc2coco --root_dir <root_dir>\n",
    "```\n"
   ]
  },
  {
   "cell_type": "markdown",
   "id": "5dd5771a",
   "metadata": {},
   "source": [
    "For more details, please see the tutorial: [AutoMM Detection - Convert VOC Format Dataset to COCO Format](voc_to_coco.ipynb).\n",
    "\n",
    "## Converting other formats to COCO format\n",
    "We have demonstrated the COCO format and feel free to write your own code to convert your data into the COCO format.\n",
    "As long as your data conforms to COCO format, it'll work perfectly with the AutoMM pipelines.\n",
    "In addition, there are a number of 3rd party tools to convert data into COCO format. \n",
    "For example, [FiftyOne](https://github.com/voxel51/fiftyone) provides functionalities to convert other formats such as CVAT, YOLO, \n",
    "and KITTI etc. into COCO format."
   ]
  }
 ],
 "metadata": {
  "language_info": {
   "name": "python"
  }
 },
 "nbformat": 4,
 "nbformat_minor": 5
}
