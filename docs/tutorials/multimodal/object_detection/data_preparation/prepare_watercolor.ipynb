{
 "cells": [
  {
   "cell_type": "markdown",
   "id": "15872c3f",
   "metadata": {},
   "source": [
    "# AutoMM Detection - Prepare Watercolor Dataset\n",
    "\n",
    "[![Open In Colab](https://colab.research.google.com/assets/colab-badge.svg)](https://colab.research.google.com/github/autogluon/autogluon/blob/master/docs/tutorials/multimodal/object_detection/data_preparation/prepare_watercolor.ipynb)\n",
    "[![Open In SageMaker Studio Lab](https://studiolab.sagemaker.aws/studiolab.svg)](https://studiolab.sagemaker.aws/import/github/autogluon/autogluon/blob/master/docs/tutorials/multimodal/object_detection/data_preparation/prepare_watercolor.ipynb)\n",
    "\n",
    "\n",
    "\n",
    "[Watercolor](https://naoto0804.github.io/cross_domain_detection/) is a small object detection dataset with 1,000 training images and 1,000 testing images,\n",
    "and has a specific domain, i.e. watercolor images. This dataset will be used to show how to \\[Fast Finetune on Custom Dataset].\n",
    "\n",
    "You need 7.5 GB disk space to download and extract this dataset. SSD is preferred over HDD because of its better performance.\n",
    "The total time to prepare the dataset depends on your Internet speed and disk performance. For example, it often takes 8 min on AWS EC2 with EBS.\n",
    "\n",
    "You can download the dataset from its [official project page](https://naoto0804.github.io/cross_domain_detection/).\n",
    "We also prepared a bash script for one-step downloading the dataset: \n",
    "[download_watercolor.sh](https://raw.githubusercontent.com/autogluon/autogluon/master/examples/automm/object_detection/download_watercolor.sh).\n",
    "Or you can also use our cli tool `prepare_detection_dataset` that can download all datasets mentioned in our tutorials.\n",
    "This python script is in our code: \n",
    "[prepare_detection_dataset.py](https://raw.githubusercontent.com/autogluon/autogluon/master/multimodal/src/autogluon/multimodal/cli/prepare_detection_dataset.py),\n",
    "and you can also run it as a cli: `python3 -m autogluon.multimodal.cli.prepare_detection_dataset`.\n",
    "\n",
    "## Download with Python Script\n",
    "\n",
    "The python script does not show progress bar, but is promised to work on all major platforms.\n",
    "If you are working on a Unix system and needs a progress bar, try the bash script!\n",
    "\n",
    "You could either extract it in coco17 folder under current directory by running:"
   ]
  },
  {
   "cell_type": "markdown",
   "id": "026c15a6",
   "metadata": {},
   "source": [
    "```\n",
    "python3 -m autogluon.multimodal.cli.prepare_detection_dataset --dataset_name watercolor\n",
    "```\n"
   ]
  },
  {
   "cell_type": "markdown",
   "id": "c45c54a5",
   "metadata": {},
   "source": [
    "or extract it in coco17 folder under a provided output path:"
   ]
  },
  {
   "cell_type": "markdown",
   "id": "745b2ce8",
   "metadata": {},
   "source": [
    "```\n",
    "python3 -m autogluon.multimodal.cli.prepare_detection_dataset --dataset_name watercolor --output_path ~/data\n",
    "```\n"
   ]
  },
  {
   "cell_type": "markdown",
   "id": "7a8692b0",
   "metadata": {},
   "source": [
    "or make it shorter:"
   ]
  },
  {
   "cell_type": "markdown",
   "id": "309c1def",
   "metadata": {},
   "source": [
    "```\n",
    "python3 -m autogluon.multimodal.cli.prepare_detection_dataset -d watercolor -o ~/data\n",
    "```\n"
   ]
  },
  {
   "cell_type": "markdown",
   "id": "adfaa2e0",
   "metadata": {},
   "source": [
    "## Download with Bash Script\n",
    "You could either extract it under current directory by running:"
   ]
  },
  {
   "cell_type": "markdown",
   "id": "e3bf5fdf",
   "metadata": {},
   "source": [
    "```\n",
    "bash download_watercolor.sh\n",
    "```\n"
   ]
  },
  {
   "cell_type": "markdown",
   "id": "54403690",
   "metadata": {},
   "source": [
    "or extract it under a provided output path:"
   ]
  },
  {
   "cell_type": "markdown",
   "id": "5b51e7fa",
   "metadata": {},
   "source": [
    "```\n",
    "bash download_watercolor.sh ~/data\n",
    "```\n"
   ]
  },
  {
   "cell_type": "markdown",
   "id": "d17ca74a",
   "metadata": {},
   "source": [
    "The command line output will show the progress bar:"
   ]
  },
  {
   "cell_type": "markdown",
   "id": "a6bc6b84",
   "metadata": {},
   "source": [
    "```\n",
    "% Total    % Received % Xferd  Average Speed   Time    Time     Time  Current\n",
    "                               Dload  Upload   Total   Spent    Left  Speed\n",
    "4 3713M    4  170M    0     0  9627k      0  0:06:34  0:00:18  0:06:16 11.2M\n",
    "```\n"
   ]
  },
  {
   "cell_type": "markdown",
   "id": "10715cee",
   "metadata": {},
   "source": [
    "And after it finished, VOC datasets are extracted in folder `watercolor`, it contains"
   ]
  },
  {
   "cell_type": "markdown",
   "id": "b0ef9ed1",
   "metadata": {},
   "source": [
    "```\n",
    "Annotations  ImageSets  JPEGImages\n",
    "```\n"
   ]
  },
  {
   "cell_type": "markdown",
   "id": "307a8a36",
   "metadata": {},
   "source": [
    "## Dataset Format\n",
    "\n",
    "Watercolor is in VOC format. **In Autogluon MultiModalPredictor, we strongly recommend using COCO as your data format instead.\n",
    "Check [AutoMM Detection - Prepare COCO2017 Dataset](prepare_coco17.ipynb) and [Convert Data to COCO Format](convert_data_to_coco_format.ipynb) for more information\n",
    "about COCO dataset and how to convert a VOC dataset to COCO.**\n",
    "\n",
    "However, for fast proof testing we also have limit support for VOC format.\n",
    "While using VOC format dataset, the input is the root path of the dataset, and contains at least:"
   ]
  },
  {
   "cell_type": "markdown",
   "id": "fb65c292",
   "metadata": {},
   "source": [
    "```\n",
    "Annotations  ImageSets  JPEGImages\n",
    "```\n"
   ]
  },
  {
   "cell_type": "markdown",
   "id": "6ade3524",
   "metadata": {},
   "source": [
    "## Other Examples\n",
    "\n",
    "You may go to [AutoMM Examples](https://github.com/autogluon/autogluon/tree/master/examples/automm) to explore other examples about AutoMM.\n",
    "\n",
    "## Customization\n",
    "To learn how to customize AutoMM, please refer to [Customize AutoMM](../../advanced_topics/customization.ipynb).\n",
    "\n",
    "## Citation\n",
    "```\n",
    "@inproceedings{inoue_2018_cvpr,\n",
    "    author = {Inoue, Naoto and Furuta, Ryosuke and Yamasaki, Toshihiko and Aizawa, Kiyoharu},\n",
    "    title = {Cross-Domain Weakly-Supervised Object Detection Through Progressive Domain Adaptation},\n",
    "    booktitle = {The IEEE Conference on Computer Vision and Pattern Recognition (CVPR)},\n",
    "    month = {June},\n",
    "    year = {2018}\n",
    "}\n",
    "```"
   ]
  }
 ],
 "metadata": {
  "language_info": {
   "name": "python"
  }
 },
 "nbformat": 4,
 "nbformat_minor": 5
}