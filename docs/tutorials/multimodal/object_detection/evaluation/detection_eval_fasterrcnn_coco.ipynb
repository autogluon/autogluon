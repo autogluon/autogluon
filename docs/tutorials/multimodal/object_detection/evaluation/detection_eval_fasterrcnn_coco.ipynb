{
 "cells": [
  {
   "cell_type": "markdown",
   "id": "1a2d353a",
   "metadata": {},
   "source": [
    "# AutoMM Detection - Evaluate Pretrained Faster R-CNN on COCO Format Dataset\n",
    "\n",
    "[![Open In Colab](https://colab.research.google.com/assets/colab-badge.svg)](https://colab.research.google.com/github/autogluon/autogluon/blob/master/docs/tutorials/multimodal/object_detection/evaluation/detection_eval_fasterrcnn_coco.ipynb)\n",
    "[![Open In SageMaker Studio Lab](https://studiolab.sagemaker.aws/studiolab.svg)](https://studiolab.sagemaker.aws/import/github/autogluon/autogluon/blob/master/docs/tutorials/multimodal/object_detection/evaluation/detection_eval_fasterrcnn_coco.ipynb)\n",
    "\n",
    "\n",
    "\n",
    "[COCO](https://cocodataset.org/#home) is a large-scale object detection, segmentation, and captioning dataset. \n",
    "This tutorial will walk through the steps of preparing this dataset for Autogluon MultiModalPredictor.\n",
    "\n",
    "To start, let's import MultiModalPredictor:"
   ]
  },
  {
   "cell_type": "markdown",
   "id": "4df6235a",
   "metadata": {},
   "source": [
    "```python\n",
    "from autogluon.multimodal import MultiModalPredictor\n",
    "```\n"
   ]
  },
  {
   "cell_type": "markdown",
   "id": "839dacc1",
   "metadata": {},
   "source": [
    "We select the Faster R-CNN with ResNet50 as backbone and Feature Pyramid Network (FPN) as neck,\n",
    "this model has **23.9 frames per second (FPS)** on single A10e GPU with `batch_size=1`.\n",
    "And we still use all the GPUs (if any):"
   ]
  },
  {
   "cell_type": "markdown",
   "id": "917eed7d",
   "metadata": {},
   "source": [
    "```python\n",
    "checkpoint_name = \"faster_rcnn_r50_fpn_2x_coco\"\n",
    "num_gpus = -1  # use all GPUs\n",
    "```\n"
   ]
  },
  {
   "cell_type": "markdown",
   "id": "2be3bdaf",
   "metadata": {},
   "source": [
    "As before, we create the MultiModalPredictor with selected checkpoint name and number of GPUs.\n",
    "We also need to specify the problem_type to `\"object_detection\"`."
   ]
  },
  {
   "cell_type": "markdown",
   "id": "87d5418b",
   "metadata": {},
   "source": [
    "```python\n",
    "predictor = MultiModalPredictor(\n",
    "    hyperparameters={\n",
    "        \"model.mmdet_image.checkpoint_name\": checkpoint_name,\n",
    "        \"env.num_gpus\": num_gpus,\n",
    "    },\n",
    "    problem_type=\"object_detection\",\n",
    ")\n",
    "```\n"
   ]
  },
  {
   "cell_type": "markdown",
   "id": "7ec514e9",
   "metadata": {},
   "source": [
    "Here we use COCO17 for testing. \n",
    "See other tutorials for [AutoMM Detection - Prepare COCO2017 Dataset](../data_preparation/prepare_coco17.ipynb).\n",
    "While using COCO dataset, the input is the json annotation file of the dataset split.\n",
    "In this example, `instances_val2017.json` is the annotation file of validation split of COCO17 dataset."
   ]
  },
  {
   "cell_type": "markdown",
   "id": "3d017098",
   "metadata": {},
   "source": [
    "```python\n",
    "test_path = \"coco17/annotations/instances_val2017.json\"\n",
    "```\n"
   ]
  },
  {
   "cell_type": "markdown",
   "id": "74391833",
   "metadata": {},
   "source": [
    "To evaluate the pretrained Faster R-CNN model we loaded, run:"
   ]
  },
  {
   "cell_type": "markdown",
   "id": "f107aa4f",
   "metadata": {},
   "source": [
    "```python\n",
    "predictor.evaluate(test_path)\n",
    "```\n"
   ]
  },
  {
   "cell_type": "markdown",
   "id": "13ebda0a",
   "metadata": {},
   "source": [
    "And the evaluation results are shown in command line output. The first value `0.385` is mAP in COCO standard, and the second one `0.591` is mAP in VOC standard (or mAP50). For more details about these metrics, see [COCO's evaluation guideline](https://cocodataset.org/#detection-eval)."
   ]
  },
  {
   "cell_type": "markdown",
   "id": "df9e8b32",
   "metadata": {},
   "source": [
    "```\n",
    " Average Precision  (AP) @[ IoU=0.50:0.95 | area=   all | maxDets=100 ] = 0.385\n",
    " Average Precision  (AP) @[ IoU=0.50      | area=   all | maxDets=100 ] = 0.591\n",
    " Average Precision  (AP) @[ IoU=0.75      | area=   all | maxDets=100 ] = 0.421\n",
    " Average Precision  (AP) @[ IoU=0.50:0.95 | area= small | maxDets=100 ] = 0.215\n",
    " Average Precision  (AP) @[ IoU=0.50:0.95 | area=medium | maxDets=100 ] = 0.422\n",
    " Average Precision  (AP) @[ IoU=0.50:0.95 | area= large | maxDets=100 ] = 0.505\n",
    " Average Recall     (AR) @[ IoU=0.50:0.95 | area=   all | maxDets=  1 ] = 0.319\n",
    " Average Recall     (AR) @[ IoU=0.50:0.95 | area=   all | maxDets= 10 ] = 0.500\n",
    " Average Recall     (AR) @[ IoU=0.50:0.95 | area=   all | maxDets=100 ] = 0.521\n",
    " Average Recall     (AR) @[ IoU=0.50:0.95 | area= small | maxDets=100 ] = 0.326\n",
    " Average Recall     (AR) @[ IoU=0.50:0.95 | area=medium | maxDets=100 ] = 0.558\n",
    " Average Recall     (AR) @[ IoU=0.50:0.95 | area= large | maxDets=100 ] = 0.667\n",
    "time usage: 257.45\n",
    "```\n"
   ]
  },
  {
   "cell_type": "markdown",
   "id": "d6faca5b",
   "metadata": {},
   "source": [
    "Faster R-CNN balances speed and performance. \n",
    "But in case that faster speed or higher performance is required, \n",
    "see [AutoMM Detection - Evaluate Pretrained YOLOv3 on COCO Format Dataset](detection_eval_yolov3_coco.ipynb) for faster speed,\n",
    "or [AutoMM Detection - Evaluate Pretrained Deformable DETR on COCO Format Dataset](detection_eval_ddetr_coco.ipynb) for higher performance.\n",
    "You can also see other tutorials for [AutoMM Detection - Fast Finetune on COCO Format Dataset](../finetune/detection_fast_finetune_coco.ipynb) or [AutoMM Detection - High Performance Finetune on COCO Format Dataset](../finetune/detection_high_performance_finetune_coco.ipynb).\n",
    "\n",
    "## Other Examples\n",
    "\n",
    "You may go to [AutoMM Examples](https://github.com/autogluon/autogluon/tree/master/examples/automm) to explore other examples about AutoMM.\n",
    "\n",
    "## Customization\n",
    "To learn how to customize AutoMM, please refer to [Customize AutoMM](../../advanced_topics/customization.ipynb).\n",
    "\n",
    "## Citation"
   ]
  },
  {
   "cell_type": "markdown",
   "id": "f0a55245",
   "metadata": {},
   "source": [
    "```\n",
    "@article{Ren_2017,\n",
    "   title={Faster R-CNN: Towards Real-Time Object Detection with Region Proposal Networks},\n",
    "   journal={IEEE Transactions on Pattern Analysis and Machine Intelligence},\n",
    "   publisher={Institute of Electrical and Electronics Engineers (IEEE)},\n",
    "   author={Ren, Shaoqing and He, Kaiming and Girshick, Ross and Sun, Jian},\n",
    "   year={2017},\n",
    "   month={Jun},\n",
    "}\n",
    "```\n"
   ]
  }
 ],
 "metadata": {
  "language_info": {
   "name": "python"
  }
 },
 "nbformat": 4,
 "nbformat_minor": 5
}