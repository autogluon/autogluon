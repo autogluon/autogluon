{
 "cells": [
  {
   "cell_type": "markdown",
   "metadata": {
    "id": "zcGYEaIQKiql"
   },
   "source": [
    "# Multimodal Quickstart\n",
    "\n",
    "[![Open In Colab](https://colab.research.google.com/assets/colab-badge.svg)](https://colab.research.google.com/github/mli/ag-docs/blob/main/get_started/tabular_quick_start.ipynb)\n",
    "[![Open In SageMaker Studio Lab](https://studiolab.sagemaker.aws/studiolab.svg)](https://studiolab.sagemaker.aws/import/github/mli/ag-docs/blob/main/get_started/tabular_quick_start.ipynb)\n",
    "\n",
    "AutoGluon's `MultiModalPredictor` can handle text or image or both."
   ]
  },
  {
   "cell_type": "code",
   "execution_count": 2,
   "metadata": {
    "ExecuteTime": {
     "end_time": "2022-07-09T04:46:27.980581Z",
     "start_time": "2022-07-09T04:46:22.414086Z"
    },
    "colab": {
     "base_uri": "https://localhost:8080/"
    },
    "collapsed": true,
    "id": "ppnLJmzsKYu5",
    "outputId": "34540c95-cc34-4f59-a888-b19e870fb6ca"
   },
   "outputs": [
    {
     "name": "stdout",
     "output_type": "stream",
     "text": [
      "Requirement already satisfied: autogluon==0.5.0 in /home/ubuntu/miniconda3/envs/ag/lib/python3.9/site-packages (0.5.0)\n",
      "Requirement already satisfied: autogluon.timeseries[all]==0.5.0 in /home/ubuntu/miniconda3/envs/ag/lib/python3.9/site-packages (from autogluon==0.5.0) (0.5.0)\n",
      "Requirement already satisfied: autogluon.core[all]==0.5.0 in /home/ubuntu/miniconda3/envs/ag/lib/python3.9/site-packages (from autogluon==0.5.0) (0.5.0)\n",
      "Requirement already satisfied: autogluon.features==0.5.0 in /home/ubuntu/miniconda3/envs/ag/lib/python3.9/site-packages (from autogluon==0.5.0) (0.5.0)\n",
      "Requirement already satisfied: autogluon.multimodal==0.5.0 in /home/ubuntu/miniconda3/envs/ag/lib/python3.9/site-packages (from autogluon==0.5.0) (0.5.0)\n",
      "Requirement already satisfied: autogluon.vision==0.5.0 in /home/ubuntu/miniconda3/envs/ag/lib/python3.9/site-packages (from autogluon==0.5.0) (0.5.0)\n",
      "Requirement already satisfied: autogluon.tabular[all]==0.5.0 in /home/ubuntu/miniconda3/envs/ag/lib/python3.9/site-packages (from autogluon==0.5.0) (0.5.0)\n",
      "Requirement already satisfied: autogluon.text==0.5.0 in /home/ubuntu/miniconda3/envs/ag/lib/python3.9/site-packages (from autogluon==0.5.0) (0.5.0)\n",
      "Requirement already satisfied: dask<=2021.11.2,>=2021.09.1 in /home/ubuntu/miniconda3/envs/ag/lib/python3.9/site-packages (from autogluon.core[all]==0.5.0->autogluon==0.5.0) (2021.11.2)\n",
      "Requirement already satisfied: distributed<=2021.11.2,>=2021.09.1 in /home/ubuntu/miniconda3/envs/ag/lib/python3.9/site-packages (from autogluon.core[all]==0.5.0->autogluon==0.5.0) (2021.11.2)\n",
      "Requirement already satisfied: scipy<1.8.0,>=1.5.4 in /home/ubuntu/miniconda3/envs/ag/lib/python3.9/site-packages (from autogluon.core[all]==0.5.0->autogluon==0.5.0) (1.7.3)\n",
      "Requirement already satisfied: pandas!=1.4.0,<1.5,>=1.2.5 in /home/ubuntu/miniconda3/envs/ag/lib/python3.9/site-packages (from autogluon.core[all]==0.5.0->autogluon==0.5.0) (1.4.3)\n",
      "Requirement already satisfied: boto3 in /home/ubuntu/miniconda3/envs/ag/lib/python3.9/site-packages (from autogluon.core[all]==0.5.0->autogluon==0.5.0) (1.24.26)\n",
      "Requirement already satisfied: numpy<1.23,>=1.21 in /home/ubuntu/miniconda3/envs/ag/lib/python3.9/site-packages (from autogluon.core[all]==0.5.0->autogluon==0.5.0) (1.21.6)\n",
      "Requirement already satisfied: tqdm>=4.38.0 in /home/ubuntu/miniconda3/envs/ag/lib/python3.9/site-packages (from autogluon.core[all]==0.5.0->autogluon==0.5.0) (4.64.0)\n",
      "Requirement already satisfied: scikit-learn<1.1,>=1.0.0 in /home/ubuntu/miniconda3/envs/ag/lib/python3.9/site-packages (from autogluon.core[all]==0.5.0->autogluon==0.5.0) (1.0.2)\n",
      "Requirement already satisfied: requests in /home/ubuntu/miniconda3/envs/ag/lib/python3.9/site-packages (from autogluon.core[all]==0.5.0->autogluon==0.5.0) (2.28.1)\n",
      "Requirement already satisfied: matplotlib in /home/ubuntu/miniconda3/envs/ag/lib/python3.9/site-packages (from autogluon.core[all]==0.5.0->autogluon==0.5.0) (3.5.2)\n",
      "Requirement already satisfied: autogluon.common==0.5.0 in /home/ubuntu/miniconda3/envs/ag/lib/python3.9/site-packages (from autogluon.core[all]==0.5.0->autogluon==0.5.0) (0.5.0)\n",
      "Requirement already satisfied: ray[tune]<1.14,>=1.13 in /home/ubuntu/miniconda3/envs/ag/lib/python3.9/site-packages (from autogluon.core[all]==0.5.0->autogluon==0.5.0) (1.13.0)\n",
      "Requirement already satisfied: hyperopt<0.2.8,>=0.2.7 in /home/ubuntu/miniconda3/envs/ag/lib/python3.9/site-packages (from autogluon.core[all]==0.5.0->autogluon==0.5.0) (0.2.7)\n",
      "Requirement already satisfied: psutil<6,>=5.7.3 in /home/ubuntu/miniconda3/envs/ag/lib/python3.9/site-packages (from autogluon.features==0.5.0->autogluon==0.5.0) (5.8.0)\n",
      "Requirement already satisfied: autogluon-contrib-nlp==0.0.1b20220208 in /home/ubuntu/miniconda3/envs/ag/lib/python3.9/site-packages (from autogluon.multimodal==0.5.0->autogluon==0.5.0) (0.0.1b20220208)\n",
      "Requirement already satisfied: pytorch-lightning<1.7.0,>=1.5.10 in /home/ubuntu/miniconda3/envs/ag/lib/python3.9/site-packages (from autogluon.multimodal==0.5.0->autogluon==0.5.0) (1.6.4)\n",
      "Requirement already satisfied: smart-open<5.3.0,>=5.2.1 in /home/ubuntu/miniconda3/envs/ag/lib/python3.9/site-packages (from autogluon.multimodal==0.5.0->autogluon==0.5.0) (5.2.1)\n",
      "Requirement already satisfied: timm<0.6.0 in /home/ubuntu/miniconda3/envs/ag/lib/python3.9/site-packages (from autogluon.multimodal==0.5.0->autogluon==0.5.0) (0.5.4)\n",
      "Requirement already satisfied: fairscale<0.5.0,>=0.4.5 in /home/ubuntu/miniconda3/envs/ag/lib/python3.9/site-packages (from autogluon.multimodal==0.5.0->autogluon==0.5.0) (0.4.6)\n",
      "Requirement already satisfied: nptyping<1.5.0,>=1.4.4 in /home/ubuntu/miniconda3/envs/ag/lib/python3.9/site-packages (from autogluon.multimodal==0.5.0->autogluon==0.5.0) (1.4.4)\n",
      "Requirement already satisfied: sentencepiece<0.2.0,>=0.1.95 in /home/ubuntu/miniconda3/envs/ag/lib/python3.9/site-packages (from autogluon.multimodal==0.5.0->autogluon==0.5.0) (0.1.95)\n",
      "Requirement already satisfied: omegaconf<2.2.0,>=2.1.1 in /home/ubuntu/miniconda3/envs/ag/lib/python3.9/site-packages (from autogluon.multimodal==0.5.0->autogluon==0.5.0) (2.1.2)\n",
      "Requirement already satisfied: pytorch-metric-learning<1.4.0,>=1.3.0 in /home/ubuntu/miniconda3/envs/ag/lib/python3.9/site-packages (from autogluon.multimodal==0.5.0->autogluon==0.5.0) (1.3.2)\n",
      "Requirement already satisfied: transformers<4.21.0,>=4.18.0 in /home/ubuntu/miniconda3/envs/ag/lib/python3.9/site-packages (from autogluon.multimodal==0.5.0->autogluon==0.5.0) (4.20.1)\n",
      "Requirement already satisfied: Pillow<9.1.0,>=9.0.1 in /home/ubuntu/miniconda3/envs/ag/lib/python3.9/site-packages (from autogluon.multimodal==0.5.0->autogluon==0.5.0) (9.0.1)\n",
      "Requirement already satisfied: torch<1.12,>=1.0 in /home/ubuntu/miniconda3/envs/ag/lib/python3.9/site-packages (from autogluon.multimodal==0.5.0->autogluon==0.5.0) (1.11.0)\n",
      "Requirement already satisfied: scikit-image<0.20.0,>=0.19.1 in /home/ubuntu/miniconda3/envs/ag/lib/python3.9/site-packages (from autogluon.multimodal==0.5.0->autogluon==0.5.0) (0.19.3)\n",
      "Requirement already satisfied: protobuf<=3.18.1 in /home/ubuntu/miniconda3/envs/ag/lib/python3.9/site-packages (from autogluon.multimodal==0.5.0->autogluon==0.5.0) (3.18.1)\n",
      "Requirement already satisfied: nlpaug<2.0.0,>=1.1.10 in /home/ubuntu/miniconda3/envs/ag/lib/python3.9/site-packages (from autogluon.multimodal==0.5.0->autogluon==0.5.0) (1.1.11)\n",
      "Requirement already satisfied: torchmetrics<0.8.0,>=0.7.2 in /home/ubuntu/miniconda3/envs/ag/lib/python3.9/site-packages (from autogluon.multimodal==0.5.0->autogluon==0.5.0) (0.7.3)\n",
      "Requirement already satisfied: nltk<4.0.0,>=3.4.5 in /home/ubuntu/miniconda3/envs/ag/lib/python3.9/site-packages (from autogluon.multimodal==0.5.0->autogluon==0.5.0) (3.7)\n",
      "Requirement already satisfied: sacrebleu in /home/ubuntu/miniconda3/envs/ag/lib/python3.9/site-packages (from autogluon-contrib-nlp==0.0.1b20220208->autogluon.multimodal==0.5.0->autogluon==0.5.0) (2.1.0)\n",
      "Requirement already satisfied: sacremoses>=0.0.38 in /home/ubuntu/miniconda3/envs/ag/lib/python3.9/site-packages (from autogluon-contrib-nlp==0.0.1b20220208->autogluon.multimodal==0.5.0->autogluon==0.5.0) (0.0.53)\n",
      "Requirement already satisfied: tokenizers>=0.9.4 in /home/ubuntu/miniconda3/envs/ag/lib/python3.9/site-packages (from autogluon-contrib-nlp==0.0.1b20220208->autogluon.multimodal==0.5.0->autogluon==0.5.0) (0.12.1)\n",
      "Requirement already satisfied: pyarrow in /home/ubuntu/miniconda3/envs/ag/lib/python3.9/site-packages (from autogluon-contrib-nlp==0.0.1b20220208->autogluon.multimodal==0.5.0->autogluon==0.5.0) (8.0.0)\n",
      "Requirement already satisfied: regex in /home/ubuntu/miniconda3/envs/ag/lib/python3.9/site-packages (from autogluon-contrib-nlp==0.0.1b20220208->autogluon.multimodal==0.5.0->autogluon==0.5.0) (2022.7.9)\n",
      "Requirement already satisfied: flake8 in /home/ubuntu/miniconda3/envs/ag/lib/python3.9/site-packages (from autogluon-contrib-nlp==0.0.1b20220208->autogluon.multimodal==0.5.0->autogluon==0.5.0) (4.0.1)\n",
      "Requirement already satisfied: contextvars in /home/ubuntu/miniconda3/envs/ag/lib/python3.9/site-packages (from autogluon-contrib-nlp==0.0.1b20220208->autogluon.multimodal==0.5.0->autogluon==0.5.0) (2.4)\n",
      "Requirement already satisfied: yacs>=0.1.6 in /home/ubuntu/miniconda3/envs/ag/lib/python3.9/site-packages (from autogluon-contrib-nlp==0.0.1b20220208->autogluon.multimodal==0.5.0->autogluon==0.5.0) (0.1.8)\n",
      "\u001b[33mWARNING: autogluon-core 0.5.0 does not provide the extra 'ray-tune'\u001b[0m\n"
     ]
    },
    {
     "name": "stdout",
     "output_type": "stream",
     "text": [
      "Requirement already satisfied: networkx<3.0,>=2.3 in /home/ubuntu/miniconda3/envs/ag/lib/python3.9/site-packages (from autogluon.tabular[all]==0.5.0->autogluon==0.5.0) (2.8.4)\n",
      "Requirement already satisfied: fastai<2.6,>=2.3.1 in /home/ubuntu/miniconda3/envs/ag/lib/python3.9/site-packages (from autogluon.tabular[all]==0.5.0->autogluon==0.5.0) (2.5.6)\n",
      "Requirement already satisfied: catboost<1.1,>=1.0 in /home/ubuntu/miniconda3/envs/ag/lib/python3.9/site-packages (from autogluon.tabular[all]==0.5.0->autogluon==0.5.0) (1.0.6)\n",
      "Requirement already satisfied: xgboost<1.5,>=1.4 in /home/ubuntu/miniconda3/envs/ag/lib/python3.9/site-packages (from autogluon.tabular[all]==0.5.0->autogluon==0.5.0) (1.4.2)\n",
      "Requirement already satisfied: lightgbm<3.4,>=3.3 in /home/ubuntu/miniconda3/envs/ag/lib/python3.9/site-packages (from autogluon.tabular[all]==0.5.0->autogluon==0.5.0) (3.3.2)\n",
      "Requirement already satisfied: gluonts>=0.8.0 in /home/ubuntu/miniconda3/envs/ag/lib/python3.9/site-packages (from autogluon.timeseries[all]==0.5.0->autogluon==0.5.0) (0.10.1)\n",
      "Requirement already satisfied: sktime~=0.12 in /home/ubuntu/miniconda3/envs/ag/lib/python3.9/site-packages (from autogluon.timeseries[all]==0.5.0->autogluon==0.5.0) (0.12.1)\n",
      "Requirement already satisfied: pmdarima~=1.8 in /home/ubuntu/miniconda3/envs/ag/lib/python3.9/site-packages (from autogluon.timeseries[all]==0.5.0->autogluon==0.5.0) (1.8.5)\n",
      "Requirement already satisfied: tbats~=1.1 in /home/ubuntu/miniconda3/envs/ag/lib/python3.9/site-packages (from autogluon.timeseries[all]==0.5.0->autogluon==0.5.0) (1.1.0)\n",
      "Requirement already satisfied: gluoncv<0.10.6,>=0.10.5 in /home/ubuntu/miniconda3/envs/ag/lib/python3.9/site-packages (from autogluon.vision==0.5.0->autogluon==0.5.0) (0.10.5.post0)\n",
      "Requirement already satisfied: graphviz in /home/ubuntu/miniconda3/envs/ag/lib/python3.9/site-packages (from catboost<1.1,>=1.0->autogluon.tabular[all]==0.5.0->autogluon==0.5.0) (0.20)\n",
      "Requirement already satisfied: six in /home/ubuntu/miniconda3/envs/ag/lib/python3.9/site-packages (from catboost<1.1,>=1.0->autogluon.tabular[all]==0.5.0->autogluon==0.5.0) (1.16.0)\n",
      "Requirement already satisfied: plotly in /home/ubuntu/miniconda3/envs/ag/lib/python3.9/site-packages (from catboost<1.1,>=1.0->autogluon.tabular[all]==0.5.0->autogluon==0.5.0) (5.9.0)\n",
      "Requirement already satisfied: cloudpickle>=1.1.1 in /home/ubuntu/miniconda3/envs/ag/lib/python3.9/site-packages (from dask<=2021.11.2,>=2021.09.1->autogluon.core[all]==0.5.0->autogluon==0.5.0) (2.1.0)\n",
      "Requirement already satisfied: packaging>=20.0 in /home/ubuntu/miniconda3/envs/ag/lib/python3.9/site-packages (from dask<=2021.11.2,>=2021.09.1->autogluon.core[all]==0.5.0->autogluon==0.5.0) (21.3)\n",
      "Requirement already satisfied: toolz>=0.8.2 in /home/ubuntu/miniconda3/envs/ag/lib/python3.9/site-packages (from dask<=2021.11.2,>=2021.09.1->autogluon.core[all]==0.5.0->autogluon==0.5.0) (0.11.2)\n",
      "Requirement already satisfied: pyyaml in /home/ubuntu/miniconda3/envs/ag/lib/python3.9/site-packages (from dask<=2021.11.2,>=2021.09.1->autogluon.core[all]==0.5.0->autogluon==0.5.0) (6.0)\n",
      "Requirement already satisfied: partd>=0.3.10 in /home/ubuntu/miniconda3/envs/ag/lib/python3.9/site-packages (from dask<=2021.11.2,>=2021.09.1->autogluon.core[all]==0.5.0->autogluon==0.5.0) (1.2.0)\n",
      "Requirement already satisfied: fsspec>=0.6.0 in /home/ubuntu/miniconda3/envs/ag/lib/python3.9/site-packages (from dask<=2021.11.2,>=2021.09.1->autogluon.core[all]==0.5.0->autogluon==0.5.0) (2022.5.0)\n",
      "Requirement already satisfied: jinja2 in /home/ubuntu/miniconda3/envs/ag/lib/python3.9/site-packages (from distributed<=2021.11.2,>=2021.09.1->autogluon.core[all]==0.5.0->autogluon==0.5.0) (3.1.2)\n",
      "Requirement already satisfied: zict>=0.1.3 in /home/ubuntu/miniconda3/envs/ag/lib/python3.9/site-packages (from distributed<=2021.11.2,>=2021.09.1->autogluon.core[all]==0.5.0->autogluon==0.5.0) (2.2.0)\n",
      "Requirement already satisfied: tornado>=6.0.3 in /home/ubuntu/miniconda3/envs/ag/lib/python3.9/site-packages (from distributed<=2021.11.2,>=2021.09.1->autogluon.core[all]==0.5.0->autogluon==0.5.0) (6.2)\n",
      "Requirement already satisfied: tblib>=1.6.0 in /home/ubuntu/miniconda3/envs/ag/lib/python3.9/site-packages (from distributed<=2021.11.2,>=2021.09.1->autogluon.core[all]==0.5.0->autogluon==0.5.0) (1.7.0)\n",
      "Requirement already satisfied: setuptools in /home/ubuntu/miniconda3/envs/ag/lib/python3.9/site-packages (from distributed<=2021.11.2,>=2021.09.1->autogluon.core[all]==0.5.0->autogluon==0.5.0) (61.2.0)\n",
      "Requirement already satisfied: msgpack>=0.6.0 in /home/ubuntu/miniconda3/envs/ag/lib/python3.9/site-packages (from distributed<=2021.11.2,>=2021.09.1->autogluon.core[all]==0.5.0->autogluon==0.5.0) (1.0.4)\n",
      "Requirement already satisfied: click>=6.6 in /home/ubuntu/miniconda3/envs/ag/lib/python3.9/site-packages (from distributed<=2021.11.2,>=2021.09.1->autogluon.core[all]==0.5.0->autogluon==0.5.0) (8.0.4)\n",
      "Requirement already satisfied: sortedcontainers!=2.0.0,!=2.0.1 in /home/ubuntu/miniconda3/envs/ag/lib/python3.9/site-packages (from distributed<=2021.11.2,>=2021.09.1->autogluon.core[all]==0.5.0->autogluon==0.5.0) (2.4.0)\n",
      "Requirement already satisfied: fastcore<1.5,>=1.3.27 in /home/ubuntu/miniconda3/envs/ag/lib/python3.9/site-packages (from fastai<2.6,>=2.3.1->autogluon.tabular[all]==0.5.0->autogluon==0.5.0) (1.4.5)\n",
      "Requirement already satisfied: torchvision>=0.8.2 in /home/ubuntu/miniconda3/envs/ag/lib/python3.9/site-packages (from fastai<2.6,>=2.3.1->autogluon.tabular[all]==0.5.0->autogluon==0.5.0) (0.12.0)\n",
      "Requirement already satisfied: pip in /home/ubuntu/miniconda3/envs/ag/lib/python3.9/site-packages (from fastai<2.6,>=2.3.1->autogluon.tabular[all]==0.5.0->autogluon==0.5.0) (21.2.4)\n",
      "Requirement already satisfied: fastdownload<2,>=0.0.5 in /home/ubuntu/miniconda3/envs/ag/lib/python3.9/site-packages (from fastai<2.6,>=2.3.1->autogluon.tabular[all]==0.5.0->autogluon==0.5.0) (0.0.7)\n",
      "Requirement already satisfied: fastprogress>=0.2.4 in /home/ubuntu/miniconda3/envs/ag/lib/python3.9/site-packages (from fastai<2.6,>=2.3.1->autogluon.tabular[all]==0.5.0->autogluon==0.5.0) (1.0.2)\n",
      "Requirement already satisfied: spacy<4 in /home/ubuntu/miniconda3/envs/ag/lib/python3.9/site-packages (from fastai<2.6,>=2.3.1->autogluon.tabular[all]==0.5.0->autogluon==0.5.0) (3.3.1)\n",
      "Requirement already satisfied: portalocker in /home/ubuntu/miniconda3/envs/ag/lib/python3.9/site-packages (from gluoncv<0.10.6,>=0.10.5->autogluon.vision==0.5.0->autogluon==0.5.0) (2.4.0)\n",
      "Requirement already satisfied: opencv-python in /home/ubuntu/miniconda3/envs/ag/lib/python3.9/site-packages (from gluoncv<0.10.6,>=0.10.5->autogluon.vision==0.5.0->autogluon==0.5.0) (4.6.0.66)\n",
      "Requirement already satisfied: autocfg in /home/ubuntu/miniconda3/envs/ag/lib/python3.9/site-packages (from gluoncv<0.10.6,>=0.10.5->autogluon.vision==0.5.0->autogluon==0.5.0) (0.0.8)\n",
      "Requirement already satisfied: holidays>=0.9 in /home/ubuntu/miniconda3/envs/ag/lib/python3.9/site-packages (from gluonts>=0.8.0->autogluon.timeseries[all]==0.5.0->autogluon==0.5.0) (0.14.2)\n",
      "Requirement already satisfied: typing-extensions~=4.0 in /home/ubuntu/miniconda3/envs/ag/lib/python3.9/site-packages (from gluonts>=0.8.0->autogluon.timeseries[all]==0.5.0->autogluon==0.5.0) (4.3.0)\n",
      "Requirement already satisfied: pydantic~=1.7 in /home/ubuntu/miniconda3/envs/ag/lib/python3.9/site-packages (from gluonts>=0.8.0->autogluon.timeseries[all]==0.5.0->autogluon==0.5.0) (1.8.2)\n",
      "Requirement already satisfied: korean-lunar-calendar in /home/ubuntu/miniconda3/envs/ag/lib/python3.9/site-packages (from holidays>=0.9->gluonts>=0.8.0->autogluon.timeseries[all]==0.5.0->autogluon==0.5.0) (0.2.1)\n",
      "Requirement already satisfied: python-dateutil in /home/ubuntu/miniconda3/envs/ag/lib/python3.9/site-packages (from holidays>=0.9->gluonts>=0.8.0->autogluon.timeseries[all]==0.5.0->autogluon==0.5.0) (2.8.2)\n",
      "Requirement already satisfied: hijri-converter in /home/ubuntu/miniconda3/envs/ag/lib/python3.9/site-packages (from holidays>=0.9->gluonts>=0.8.0->autogluon.timeseries[all]==0.5.0->autogluon==0.5.0) (2.2.4)\n",
      "Requirement already satisfied: convertdate>=2.3.0 in /home/ubuntu/miniconda3/envs/ag/lib/python3.9/site-packages (from holidays>=0.9->gluonts>=0.8.0->autogluon.timeseries[all]==0.5.0->autogluon==0.5.0) (2.4.0)\n"
     ]
    },
    {
     "name": "stdout",
     "output_type": "stream",
     "text": [
      "Requirement already satisfied: pymeeus<=1,>=0.3.13 in /home/ubuntu/miniconda3/envs/ag/lib/python3.9/site-packages (from convertdate>=2.3.0->holidays>=0.9->gluonts>=0.8.0->autogluon.timeseries[all]==0.5.0->autogluon==0.5.0) (0.5.11)\n",
      "Requirement already satisfied: py4j in /home/ubuntu/miniconda3/envs/ag/lib/python3.9/site-packages (from hyperopt<0.2.8,>=0.2.7->autogluon.core[all]==0.5.0->autogluon==0.5.0) (0.10.9.5)\n",
      "Requirement already satisfied: future in /home/ubuntu/miniconda3/envs/ag/lib/python3.9/site-packages (from hyperopt<0.2.8,>=0.2.7->autogluon.core[all]==0.5.0->autogluon==0.5.0) (0.18.2)\n",
      "Requirement already satisfied: wheel in /home/ubuntu/miniconda3/envs/ag/lib/python3.9/site-packages (from lightgbm<3.4,>=3.3->autogluon.tabular[all]==0.5.0->autogluon==0.5.0) (0.37.1)\n",
      "Requirement already satisfied: pyparsing>=2.2.1 in /home/ubuntu/miniconda3/envs/ag/lib/python3.9/site-packages (from matplotlib->autogluon.core[all]==0.5.0->autogluon==0.5.0) (3.0.9)\n",
      "Requirement already satisfied: fonttools>=4.22.0 in /home/ubuntu/miniconda3/envs/ag/lib/python3.9/site-packages (from matplotlib->autogluon.core[all]==0.5.0->autogluon==0.5.0) (4.34.4)\n",
      "Requirement already satisfied: kiwisolver>=1.0.1 in /home/ubuntu/miniconda3/envs/ag/lib/python3.9/site-packages (from matplotlib->autogluon.core[all]==0.5.0->autogluon==0.5.0) (1.4.3)\n",
      "Requirement already satisfied: cycler>=0.10 in /home/ubuntu/miniconda3/envs/ag/lib/python3.9/site-packages (from matplotlib->autogluon.core[all]==0.5.0->autogluon==0.5.0) (0.11.0)\n",
      "Requirement already satisfied: gdown>=4.0.0 in /home/ubuntu/miniconda3/envs/ag/lib/python3.9/site-packages (from nlpaug<2.0.0,>=1.1.10->autogluon.multimodal==0.5.0->autogluon==0.5.0) (4.5.1)\n",
      "Requirement already satisfied: filelock in /home/ubuntu/miniconda3/envs/ag/lib/python3.9/site-packages (from gdown>=4.0.0->nlpaug<2.0.0,>=1.1.10->autogluon.multimodal==0.5.0->autogluon==0.5.0) (3.7.1)\n",
      "Requirement already satisfied: beautifulsoup4 in /home/ubuntu/miniconda3/envs/ag/lib/python3.9/site-packages (from gdown>=4.0.0->nlpaug<2.0.0,>=1.1.10->autogluon.multimodal==0.5.0->autogluon==0.5.0) (4.11.1)\n",
      "Requirement already satisfied: joblib in /home/ubuntu/miniconda3/envs/ag/lib/python3.9/site-packages (from nltk<4.0.0,>=3.4.5->autogluon.multimodal==0.5.0->autogluon==0.5.0) (1.1.0)\n",
      "Requirement already satisfied: typish>=1.7.0 in /home/ubuntu/miniconda3/envs/ag/lib/python3.9/site-packages (from nptyping<1.5.0,>=1.4.4->autogluon.multimodal==0.5.0->autogluon==0.5.0) (1.9.3)\n",
      "Requirement already satisfied: antlr4-python3-runtime==4.8 in /home/ubuntu/miniconda3/envs/ag/lib/python3.9/site-packages (from omegaconf<2.2.0,>=2.1.1->autogluon.multimodal==0.5.0->autogluon==0.5.0) (4.8)\n",
      "Requirement already satisfied: pytz>=2020.1 in /home/ubuntu/miniconda3/envs/ag/lib/python3.9/site-packages (from pandas!=1.4.0,<1.5,>=1.2.5->autogluon.core[all]==0.5.0->autogluon==0.5.0) (2022.1)\n",
      "Requirement already satisfied: locket in /home/ubuntu/miniconda3/envs/ag/lib/python3.9/site-packages (from partd>=0.3.10->dask<=2021.11.2,>=2021.09.1->autogluon.core[all]==0.5.0->autogluon==0.5.0) (1.0.0)\n",
      "Requirement already satisfied: statsmodels!=0.12.0,>=0.11 in /home/ubuntu/miniconda3/envs/ag/lib/python3.9/site-packages (from pmdarima~=1.8->autogluon.timeseries[all]==0.5.0->autogluon==0.5.0) (0.13.2)\n",
      "Requirement already satisfied: urllib3 in /home/ubuntu/miniconda3/envs/ag/lib/python3.9/site-packages (from pmdarima~=1.8->autogluon.timeseries[all]==0.5.0->autogluon==0.5.0) (1.26.10)\n",
      "Requirement already satisfied: Cython!=0.29.18,>=0.29 in /home/ubuntu/miniconda3/envs/ag/lib/python3.9/site-packages (from pmdarima~=1.8->autogluon.timeseries[all]==0.5.0->autogluon==0.5.0) (0.29.30)\n",
      "Requirement already satisfied: pyDeprecate>=0.3.1 in /home/ubuntu/miniconda3/envs/ag/lib/python3.9/site-packages (from pytorch-lightning<1.7.0,>=1.5.10->autogluon.multimodal==0.5.0->autogluon==0.5.0) (0.3.2)\n",
      "Requirement already satisfied: tensorboard>=2.2.0 in /home/ubuntu/miniconda3/envs/ag/lib/python3.9/site-packages (from pytorch-lightning<1.7.0,>=1.5.10->autogluon.multimodal==0.5.0->autogluon==0.5.0) (2.9.1)\n",
      "Requirement already satisfied: aiohttp in /home/ubuntu/miniconda3/envs/ag/lib/python3.9/site-packages (from fsspec>=0.6.0->dask<=2021.11.2,>=2021.09.1->autogluon.core[all]==0.5.0->autogluon==0.5.0) (3.8.1)\n",
      "Requirement already satisfied: grpcio<=1.43.0,>=1.28.1 in /home/ubuntu/miniconda3/envs/ag/lib/python3.9/site-packages (from ray[tune]<1.14,>=1.13->autogluon.core[all]==0.5.0->autogluon==0.5.0) (1.43.0)\n",
      "Requirement already satisfied: virtualenv in /home/ubuntu/miniconda3/envs/ag/lib/python3.9/site-packages (from ray[tune]<1.14,>=1.13->autogluon.core[all]==0.5.0->autogluon==0.5.0) (20.15.1)\n",
      "Requirement already satisfied: jsonschema in /home/ubuntu/miniconda3/envs/ag/lib/python3.9/site-packages (from ray[tune]<1.14,>=1.13->autogluon.core[all]==0.5.0->autogluon==0.5.0) (4.6.2)\n",
      "Requirement already satisfied: frozenlist in /home/ubuntu/miniconda3/envs/ag/lib/python3.9/site-packages (from ray[tune]<1.14,>=1.13->autogluon.core[all]==0.5.0->autogluon==0.5.0) (1.3.0)\n",
      "Requirement already satisfied: aiosignal in /home/ubuntu/miniconda3/envs/ag/lib/python3.9/site-packages (from ray[tune]<1.14,>=1.13->autogluon.core[all]==0.5.0->autogluon==0.5.0) (1.2.0)\n",
      "Requirement already satisfied: attrs in /home/ubuntu/miniconda3/envs/ag/lib/python3.9/site-packages (from ray[tune]<1.14,>=1.13->autogluon.core[all]==0.5.0->autogluon==0.5.0) (21.4.0)\n",
      "Requirement already satisfied: tensorboardX>=1.9 in /home/ubuntu/miniconda3/envs/ag/lib/python3.9/site-packages (from ray[tune]<1.14,>=1.13->autogluon.core[all]==0.5.0->autogluon==0.5.0) (2.5.1)\n",
      "Requirement already satisfied: tabulate in /home/ubuntu/miniconda3/envs/ag/lib/python3.9/site-packages (from ray[tune]<1.14,>=1.13->autogluon.core[all]==0.5.0->autogluon==0.5.0) (0.8.10)\n",
      "Requirement already satisfied: charset-normalizer<3,>=2 in /home/ubuntu/miniconda3/envs/ag/lib/python3.9/site-packages (from requests->autogluon.core[all]==0.5.0->autogluon==0.5.0) (2.1.0)\n",
      "Requirement already satisfied: idna<4,>=2.5 in /home/ubuntu/miniconda3/envs/ag/lib/python3.9/site-packages (from requests->autogluon.core[all]==0.5.0->autogluon==0.5.0) (3.3)\n",
      "Requirement already satisfied: certifi>=2017.4.17 in /home/ubuntu/miniconda3/envs/ag/lib/python3.9/site-packages (from requests->autogluon.core[all]==0.5.0->autogluon==0.5.0) (2022.6.15)\n",
      "Requirement already satisfied: imageio>=2.4.1 in /home/ubuntu/miniconda3/envs/ag/lib/python3.9/site-packages (from scikit-image<0.20.0,>=0.19.1->autogluon.multimodal==0.5.0->autogluon==0.5.0) (2.19.3)\n",
      "Requirement already satisfied: tifffile>=2019.7.26 in /home/ubuntu/miniconda3/envs/ag/lib/python3.9/site-packages (from scikit-image<0.20.0,>=0.19.1->autogluon.multimodal==0.5.0->autogluon==0.5.0) (2022.5.4)\n",
      "Requirement already satisfied: PyWavelets>=1.1.1 in /home/ubuntu/miniconda3/envs/ag/lib/python3.9/site-packages (from scikit-image<0.20.0,>=0.19.1->autogluon.multimodal==0.5.0->autogluon==0.5.0) (1.3.0)\n",
      "Requirement already satisfied: threadpoolctl>=2.0.0 in /home/ubuntu/miniconda3/envs/ag/lib/python3.9/site-packages (from scikit-learn<1.1,>=1.0.0->autogluon.core[all]==0.5.0->autogluon==0.5.0) (3.1.0)\n",
      "Requirement already satisfied: deprecated>=1.2.13 in /home/ubuntu/miniconda3/envs/ag/lib/python3.9/site-packages (from sktime~=0.12->autogluon.timeseries[all]==0.5.0->autogluon==0.5.0) (1.2.13)\n",
      "Requirement already satisfied: numba>=0.53 in /home/ubuntu/miniconda3/envs/ag/lib/python3.9/site-packages (from sktime~=0.12->autogluon.timeseries[all]==0.5.0->autogluon==0.5.0) (0.55.2)\n",
      "Requirement already satisfied: wrapt<2,>=1.10 in /home/ubuntu/miniconda3/envs/ag/lib/python3.9/site-packages (from deprecated>=1.2.13->sktime~=0.12->autogluon.timeseries[all]==0.5.0->autogluon==0.5.0) (1.14.1)\n",
      "Requirement already satisfied: llvmlite<0.39,>=0.38.0rc1 in /home/ubuntu/miniconda3/envs/ag/lib/python3.9/site-packages (from numba>=0.53->sktime~=0.12->autogluon.timeseries[all]==0.5.0->autogluon==0.5.0) (0.38.1)\n",
      "Requirement already satisfied: typer<0.5.0,>=0.3.0 in /home/ubuntu/miniconda3/envs/ag/lib/python3.9/site-packages (from spacy<4->fastai<2.6,>=2.3.1->autogluon.tabular[all]==0.5.0->autogluon==0.5.0) (0.4.2)\n",
      "Requirement already satisfied: murmurhash<1.1.0,>=0.28.0 in /home/ubuntu/miniconda3/envs/ag/lib/python3.9/site-packages (from spacy<4->fastai<2.6,>=2.3.1->autogluon.tabular[all]==0.5.0->autogluon==0.5.0) (1.0.7)\n",
      "Requirement already satisfied: wasabi<1.1.0,>=0.9.1 in /home/ubuntu/miniconda3/envs/ag/lib/python3.9/site-packages (from spacy<4->fastai<2.6,>=2.3.1->autogluon.tabular[all]==0.5.0->autogluon==0.5.0) (0.9.1)\n",
      "Requirement already satisfied: thinc<8.1.0,>=8.0.14 in /home/ubuntu/miniconda3/envs/ag/lib/python3.9/site-packages (from spacy<4->fastai<2.6,>=2.3.1->autogluon.tabular[all]==0.5.0->autogluon==0.5.0) (8.0.17)\n",
      "Requirement already satisfied: cymem<2.1.0,>=2.0.2 in /home/ubuntu/miniconda3/envs/ag/lib/python3.9/site-packages (from spacy<4->fastai<2.6,>=2.3.1->autogluon.tabular[all]==0.5.0->autogluon==0.5.0) (2.0.6)\n",
      "Requirement already satisfied: spacy-legacy<3.1.0,>=3.0.9 in /home/ubuntu/miniconda3/envs/ag/lib/python3.9/site-packages (from spacy<4->fastai<2.6,>=2.3.1->autogluon.tabular[all]==0.5.0->autogluon==0.5.0) (3.0.9)\n",
      "Requirement already satisfied: pathy>=0.3.5 in /home/ubuntu/miniconda3/envs/ag/lib/python3.9/site-packages (from spacy<4->fastai<2.6,>=2.3.1->autogluon.tabular[all]==0.5.0->autogluon==0.5.0) (0.6.2)\n",
      "Requirement already satisfied: langcodes<4.0.0,>=3.2.0 in /home/ubuntu/miniconda3/envs/ag/lib/python3.9/site-packages (from spacy<4->fastai<2.6,>=2.3.1->autogluon.tabular[all]==0.5.0->autogluon==0.5.0) (3.3.0)\n",
      "Requirement already satisfied: srsly<3.0.0,>=2.4.3 in /home/ubuntu/miniconda3/envs/ag/lib/python3.9/site-packages (from spacy<4->fastai<2.6,>=2.3.1->autogluon.tabular[all]==0.5.0->autogluon==0.5.0) (2.4.3)\n",
      "Requirement already satisfied: blis<0.8.0,>=0.4.0 in /home/ubuntu/miniconda3/envs/ag/lib/python3.9/site-packages (from spacy<4->fastai<2.6,>=2.3.1->autogluon.tabular[all]==0.5.0->autogluon==0.5.0) (0.7.8)\n",
      "Requirement already satisfied: spacy-loggers<2.0.0,>=1.0.0 in /home/ubuntu/miniconda3/envs/ag/lib/python3.9/site-packages (from spacy<4->fastai<2.6,>=2.3.1->autogluon.tabular[all]==0.5.0->autogluon==0.5.0) (1.0.2)\n",
      "Requirement already satisfied: preshed<3.1.0,>=3.0.2 in /home/ubuntu/miniconda3/envs/ag/lib/python3.9/site-packages (from spacy<4->fastai<2.6,>=2.3.1->autogluon.tabular[all]==0.5.0->autogluon==0.5.0) (3.0.6)\n",
      "Requirement already satisfied: catalogue<2.1.0,>=2.0.6 in /home/ubuntu/miniconda3/envs/ag/lib/python3.9/site-packages (from spacy<4->fastai<2.6,>=2.3.1->autogluon.tabular[all]==0.5.0->autogluon==0.5.0) (2.0.7)\n"
     ]
    },
    {
     "name": "stdout",
     "output_type": "stream",
     "text": [
      "Requirement already satisfied: patsy>=0.5.2 in /home/ubuntu/miniconda3/envs/ag/lib/python3.9/site-packages (from statsmodels!=0.12.0,>=0.11->pmdarima~=1.8->autogluon.timeseries[all]==0.5.0->autogluon==0.5.0) (0.5.2)\n",
      "Requirement already satisfied: google-auth-oauthlib<0.5,>=0.4.1 in /home/ubuntu/miniconda3/envs/ag/lib/python3.9/site-packages (from tensorboard>=2.2.0->pytorch-lightning<1.7.0,>=1.5.10->autogluon.multimodal==0.5.0->autogluon==0.5.0) (0.4.6)\n",
      "Requirement already satisfied: markdown>=2.6.8 in /home/ubuntu/miniconda3/envs/ag/lib/python3.9/site-packages (from tensorboard>=2.2.0->pytorch-lightning<1.7.0,>=1.5.10->autogluon.multimodal==0.5.0->autogluon==0.5.0) (3.3.7)\n",
      "Requirement already satisfied: google-auth<3,>=1.6.3 in /home/ubuntu/miniconda3/envs/ag/lib/python3.9/site-packages (from tensorboard>=2.2.0->pytorch-lightning<1.7.0,>=1.5.10->autogluon.multimodal==0.5.0->autogluon==0.5.0) (2.9.0)\n",
      "Requirement already satisfied: werkzeug>=1.0.1 in /home/ubuntu/miniconda3/envs/ag/lib/python3.9/site-packages (from tensorboard>=2.2.0->pytorch-lightning<1.7.0,>=1.5.10->autogluon.multimodal==0.5.0->autogluon==0.5.0) (2.1.2)\n",
      "Requirement already satisfied: tensorboard-data-server<0.7.0,>=0.6.0 in /home/ubuntu/miniconda3/envs/ag/lib/python3.9/site-packages (from tensorboard>=2.2.0->pytorch-lightning<1.7.0,>=1.5.10->autogluon.multimodal==0.5.0->autogluon==0.5.0) (0.6.1)\n",
      "Requirement already satisfied: absl-py>=0.4 in /home/ubuntu/miniconda3/envs/ag/lib/python3.9/site-packages (from tensorboard>=2.2.0->pytorch-lightning<1.7.0,>=1.5.10->autogluon.multimodal==0.5.0->autogluon==0.5.0) (1.1.0)\n",
      "Requirement already satisfied: tensorboard-plugin-wit>=1.6.0 in /home/ubuntu/miniconda3/envs/ag/lib/python3.9/site-packages (from tensorboard>=2.2.0->pytorch-lightning<1.7.0,>=1.5.10->autogluon.multimodal==0.5.0->autogluon==0.5.0) (1.8.1)\n",
      "Requirement already satisfied: rsa<5,>=3.1.4 in /home/ubuntu/miniconda3/envs/ag/lib/python3.9/site-packages (from google-auth<3,>=1.6.3->tensorboard>=2.2.0->pytorch-lightning<1.7.0,>=1.5.10->autogluon.multimodal==0.5.0->autogluon==0.5.0) (4.8)\n",
      "Requirement already satisfied: pyasn1-modules>=0.2.1 in /home/ubuntu/miniconda3/envs/ag/lib/python3.9/site-packages (from google-auth<3,>=1.6.3->tensorboard>=2.2.0->pytorch-lightning<1.7.0,>=1.5.10->autogluon.multimodal==0.5.0->autogluon==0.5.0) (0.2.8)\n",
      "Requirement already satisfied: cachetools<6.0,>=2.0.0 in /home/ubuntu/miniconda3/envs/ag/lib/python3.9/site-packages (from google-auth<3,>=1.6.3->tensorboard>=2.2.0->pytorch-lightning<1.7.0,>=1.5.10->autogluon.multimodal==0.5.0->autogluon==0.5.0) (5.2.0)\n",
      "Requirement already satisfied: requests-oauthlib>=0.7.0 in /home/ubuntu/miniconda3/envs/ag/lib/python3.9/site-packages (from google-auth-oauthlib<0.5,>=0.4.1->tensorboard>=2.2.0->pytorch-lightning<1.7.0,>=1.5.10->autogluon.multimodal==0.5.0->autogluon==0.5.0) (1.3.1)\n",
      "Requirement already satisfied: importlib-metadata>=4.4 in /home/ubuntu/miniconda3/envs/ag/lib/python3.9/site-packages (from markdown>=2.6.8->tensorboard>=2.2.0->pytorch-lightning<1.7.0,>=1.5.10->autogluon.multimodal==0.5.0->autogluon==0.5.0) (4.12.0)\n",
      "Requirement already satisfied: zipp>=0.5 in /home/ubuntu/miniconda3/envs/ag/lib/python3.9/site-packages (from importlib-metadata>=4.4->markdown>=2.6.8->tensorboard>=2.2.0->pytorch-lightning<1.7.0,>=1.5.10->autogluon.multimodal==0.5.0->autogluon==0.5.0) (3.8.0)\n",
      "Requirement already satisfied: pyasn1<0.5.0,>=0.4.6 in /home/ubuntu/miniconda3/envs/ag/lib/python3.9/site-packages (from pyasn1-modules>=0.2.1->google-auth<3,>=1.6.3->tensorboard>=2.2.0->pytorch-lightning<1.7.0,>=1.5.10->autogluon.multimodal==0.5.0->autogluon==0.5.0) (0.4.8)\n",
      "Requirement already satisfied: oauthlib>=3.0.0 in /home/ubuntu/miniconda3/envs/ag/lib/python3.9/site-packages (from requests-oauthlib>=0.7.0->google-auth-oauthlib<0.5,>=0.4.1->tensorboard>=2.2.0->pytorch-lightning<1.7.0,>=1.5.10->autogluon.multimodal==0.5.0->autogluon==0.5.0) (3.2.0)\n",
      "Requirement already satisfied: huggingface-hub<1.0,>=0.1.0 in /home/ubuntu/miniconda3/envs/ag/lib/python3.9/site-packages (from transformers<4.21.0,>=4.18.0->autogluon.multimodal==0.5.0->autogluon==0.5.0) (0.8.1)\n",
      "Requirement already satisfied: heapdict in /home/ubuntu/miniconda3/envs/ag/lib/python3.9/site-packages (from zict>=0.1.3->distributed<=2021.11.2,>=2021.09.1->autogluon.core[all]==0.5.0->autogluon==0.5.0) (1.0.1)\n",
      "Requirement already satisfied: async-timeout<5.0,>=4.0.0a3 in /home/ubuntu/miniconda3/envs/ag/lib/python3.9/site-packages (from aiohttp->fsspec>=0.6.0->dask<=2021.11.2,>=2021.09.1->autogluon.core[all]==0.5.0->autogluon==0.5.0) (4.0.2)\n",
      "Requirement already satisfied: multidict<7.0,>=4.5 in /home/ubuntu/miniconda3/envs/ag/lib/python3.9/site-packages (from aiohttp->fsspec>=0.6.0->dask<=2021.11.2,>=2021.09.1->autogluon.core[all]==0.5.0->autogluon==0.5.0) (6.0.2)\n",
      "Requirement already satisfied: yarl<2.0,>=1.0 in /home/ubuntu/miniconda3/envs/ag/lib/python3.9/site-packages (from aiohttp->fsspec>=0.6.0->dask<=2021.11.2,>=2021.09.1->autogluon.core[all]==0.5.0->autogluon==0.5.0) (1.7.2)\n",
      "Requirement already satisfied: soupsieve>1.2 in /home/ubuntu/miniconda3/envs/ag/lib/python3.9/site-packages (from beautifulsoup4->gdown>=4.0.0->nlpaug<2.0.0,>=1.1.10->autogluon.multimodal==0.5.0->autogluon==0.5.0) (2.3.2.post1)\n",
      "Requirement already satisfied: jmespath<2.0.0,>=0.7.1 in /home/ubuntu/miniconda3/envs/ag/lib/python3.9/site-packages (from boto3->autogluon.core[all]==0.5.0->autogluon==0.5.0) (1.0.1)\n",
      "Requirement already satisfied: botocore<1.28.0,>=1.27.26 in /home/ubuntu/miniconda3/envs/ag/lib/python3.9/site-packages (from boto3->autogluon.core[all]==0.5.0->autogluon==0.5.0) (1.27.26)\n",
      "Requirement already satisfied: s3transfer<0.7.0,>=0.6.0 in /home/ubuntu/miniconda3/envs/ag/lib/python3.9/site-packages (from boto3->autogluon.core[all]==0.5.0->autogluon==0.5.0) (0.6.0)\n",
      "Requirement already satisfied: immutables>=0.9 in /home/ubuntu/miniconda3/envs/ag/lib/python3.9/site-packages (from contextvars->autogluon-contrib-nlp==0.0.1b20220208->autogluon.multimodal==0.5.0->autogluon==0.5.0) (0.18)\n",
      "Requirement already satisfied: mccabe<0.7.0,>=0.6.0 in /home/ubuntu/miniconda3/envs/ag/lib/python3.9/site-packages (from flake8->autogluon-contrib-nlp==0.0.1b20220208->autogluon.multimodal==0.5.0->autogluon==0.5.0) (0.6.1)\n",
      "Requirement already satisfied: pycodestyle<2.9.0,>=2.8.0 in /home/ubuntu/miniconda3/envs/ag/lib/python3.9/site-packages (from flake8->autogluon-contrib-nlp==0.0.1b20220208->autogluon.multimodal==0.5.0->autogluon==0.5.0) (2.8.0)\n",
      "Requirement already satisfied: pyflakes<2.5.0,>=2.4.0 in /home/ubuntu/miniconda3/envs/ag/lib/python3.9/site-packages (from flake8->autogluon-contrib-nlp==0.0.1b20220208->autogluon.multimodal==0.5.0->autogluon==0.5.0) (2.4.0)\n",
      "Requirement already satisfied: MarkupSafe>=2.0 in /home/ubuntu/miniconda3/envs/ag/lib/python3.9/site-packages (from jinja2->distributed<=2021.11.2,>=2021.09.1->autogluon.core[all]==0.5.0->autogluon==0.5.0) (2.1.1)\n",
      "Requirement already satisfied: pyrsistent!=0.17.0,!=0.17.1,!=0.17.2,>=0.14.0 in /home/ubuntu/miniconda3/envs/ag/lib/python3.9/site-packages (from jsonschema->ray[tune]<1.14,>=1.13->autogluon.core[all]==0.5.0->autogluon==0.5.0) (0.18.1)\n",
      "Requirement already satisfied: tenacity>=6.2.0 in /home/ubuntu/miniconda3/envs/ag/lib/python3.9/site-packages (from plotly->catboost<1.1,>=1.0->autogluon.tabular[all]==0.5.0->autogluon==0.5.0) (8.0.1)\n",
      "Requirement already satisfied: PySocks!=1.5.7,>=1.5.6 in /home/ubuntu/miniconda3/envs/ag/lib/python3.9/site-packages (from requests->autogluon.core[all]==0.5.0->autogluon==0.5.0) (1.7.1)\n",
      "Requirement already satisfied: colorama in /home/ubuntu/miniconda3/envs/ag/lib/python3.9/site-packages (from sacrebleu->autogluon-contrib-nlp==0.0.1b20220208->autogluon.multimodal==0.5.0->autogluon==0.5.0) (0.4.5)\n",
      "Requirement already satisfied: distlib<1,>=0.3.1 in /home/ubuntu/miniconda3/envs/ag/lib/python3.9/site-packages (from virtualenv->ray[tune]<1.14,>=1.13->autogluon.core[all]==0.5.0->autogluon==0.5.0) (0.3.4)\n",
      "Requirement already satisfied: platformdirs<3,>=2 in /home/ubuntu/miniconda3/envs/ag/lib/python3.9/site-packages (from virtualenv->ray[tune]<1.14,>=1.13->autogluon.core[all]==0.5.0->autogluon==0.5.0) (2.5.2)\n"
     ]
    }
   ],
   "source": [
    "#@title Install autogluon\n",
    "!python -m pip install autogluon"
   ]
  },
  {
   "cell_type": "code",
   "execution_count": 4,
   "metadata": {
    "ExecuteTime": {
     "end_time": "2022-07-09T04:47:05.526762Z",
     "start_time": "2022-07-09T04:47:04.436407Z"
    },
    "id": "Mv1_TnxKLtYn"
   },
   "outputs": [],
   "source": [
    "from autogluon.multimodal import MultiModalPredictor"
   ]
  }
 ],
 "metadata": {
  "colab": {
   "collapsed_sections": [],
   "name": "tabular_quick_start.ipynb",
   "provenance": []
  },
  "kernelspec": {
   "display_name": "Python 3.9.7 ('base')",
   "language": "python",
   "name": "python3"
  },
  "language_info": {
   "codemirror_mode": {
    "name": "ipython",
    "version": 3
   },
   "file_extension": ".py",
   "mimetype": "text/x-python",
   "name": "python",
   "nbconvert_exporter": "python",
   "pygments_lexer": "ipython3",
   "version": "3.9.7"
  },
  "toc": {
   "base_numbering": 1,
   "nav_menu": {},
   "number_sections": true,
   "sideBar": true,
   "skip_h1_title": true,
   "title_cell": "Table of Contents",
   "title_sidebar": "Contents",
   "toc_cell": false,
   "toc_position": {},
   "toc_section_display": true,
   "toc_window_display": false
  },
  "vscode": {
   "interpreter": {
    "hash": "f7bc0839522284c9a892b98610e89887142f14aaecf82d540f4079f05f0bb734"
   }
  }
 },
 "nbformat": 4,
 "nbformat_minor": 1
}
