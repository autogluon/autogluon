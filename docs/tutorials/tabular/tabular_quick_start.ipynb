{
 "cells": [
  {
   "cell_type": "markdown",
   "metadata": {
    "id": "zcGYEaIQKiql"
   },
   "source": [
    "# Tabluar Quickstart\n",
    "\n",
    "[![Open In Colab](https://colab.research.google.com/assets/colab-badge.svg)](https://colab.research.google.com/github/awslabs/autogluon/blob/new/docs/tutorials/tabular/tabular_quick_start.ipynb)\n",
    "[![Open In SageMaker Studio Lab](https://studiolab.sagemaker.aws/studiolab.svg)](https://studiolab.sagemaker.aws/import/github/awslabs/autogluon/blob/new/docs/tutorials/tabular/tabular_quick_start.ipynb)\n",
    "\n",
    "In this tutorial, we will see how to use AutoGluon's `TabularPredictor` to predict the values of a target column based on the other columns in a tabular dataset.\n",
    "\n",
    "To begin, make sure AutoGluon is installed, and then import AutoGluon's `TabularDataset` and `TabularPredictor`. We will use the former to load data and the latter to train models and make predictions. "
   ]
  },
  {
   "cell_type": "code",
   "execution_count": null,
   "metadata": {
    "ExecuteTime": {
     "end_time": "2022-07-09T04:46:27.980581Z",
     "start_time": "2022-07-09T04:46:22.414086Z"
    },
    "colab": {
     "base_uri": "https://localhost:8080/"
    },
    "collapsed": true,
    "id": "ppnLJmzsKYu5",
    "outputId": "34540c95-cc34-4f59-a888-b19e870fb6ca"
   },
   "outputs": [],
   "source": [
    "!python -m pip --upgrade pip\n",
    "!python -m pip install autogluon"
   ]
  },
  {
   "cell_type": "code",
   "execution_count": 4,
   "metadata": {
    "ExecuteTime": {
     "end_time": "2022-07-09T04:47:05.526762Z",
     "start_time": "2022-07-09T04:47:04.436407Z"
    },
    "id": "Mv1_TnxKLtYn"
   },
   "outputs": [],
   "source": [
    "from autogluon.tabular import TabularDataset, TabularPredictor"
   ]
  },
  {
   "cell_type": "markdown",
   "metadata": {
    "id": "MirV7-SjgMcZ"
   },
   "source": [
    "The dataset we will use is from the cover story of [Nature issue 7887](https://www.nature.com/nature/volumes/600/issues/7887): [AI guided tuition for math theorems](https://www.nature.com/articles/s41586-021-04086-x.pdf). The task is to predict a knot's signature based on its properties. We sampled 10K training and 5K test examples from the [original data](https://github.com/deepmind/mathematics_conjectures/blob/main/knot_theory.ipynb). The sampled dataset make this tutorial run quickly, but AutoGluon can handle the full dataset if desired.\n",
    "\n",
    "We load this dataset directly from a URL. Note that the `TabularDataset` class is a subclass of [pandas DataFrame](https://pandas.pydata.org/docs/reference/api/pandas.DataFrame.html), and any pandas `DataFrame` methods can be used on it as well."
   ]
  },
  {
   "cell_type": "code",
   "execution_count": null,
   "metadata": {
    "ExecuteTime": {
     "end_time": "2022-07-09T05:10:21.069529Z",
     "start_time": "2022-07-09T05:10:20.533611Z"
    },
    "colab": {
     "base_uri": "https://localhost:8080/",
     "height": 253
    },
    "executionInfo": {
     "elapsed": 606,
     "status": "ok",
     "timestamp": 1657334595523,
     "user": {
      "displayName": "Mu Li",
      "userId": "07665802281081973826"
     },
     "user_tz": 420
    },
    "id": "cDycnTbgLxBU",
    "outputId": "5180e4c0-d8e6-4a96-9cc3-c3d39bb1fe95"
   },
   "outputs": [],
   "source": [
    "data_url = 'https://raw.githubusercontent.com/mli/ag-docs/main/knot_theory/'\n",
    "train_data = TabularDataset(f'{data_url}train.csv')\n",
    "train_data.head()"
   ]
  },
  {
   "cell_type": "markdown",
   "metadata": {
    "id": "t9Hz4B5Al8Nz"
   },
   "source": [
    "Our targets are stored in the \"signature\" column, which has 18 unique integers. Even though Pandas didn't correctly recognize this data type as categorical, AutoGluon will fix this issue.\n"
   ]
  },
  {
   "cell_type": "code",
   "execution_count": null,
   "metadata": {
    "ExecuteTime": {
     "end_time": "2022-07-09T05:10:28.198087Z",
     "start_time": "2022-07-09T05:10:28.190174Z"
    },
    "colab": {
     "base_uri": "https://localhost:8080/"
    },
    "executionInfo": {
     "elapsed": 172,
     "status": "ok",
     "timestamp": 1657334601445,
     "user": {
      "displayName": "Mu Li",
      "userId": "07665802281081973826"
     },
     "user_tz": 420
    },
    "id": "h1f3KEG7L1fr",
    "outputId": "25dfe641-b794-4fbb-e416-213ce8b7f3fc"
   },
   "outputs": [],
   "source": [
    "label = 'signature'\n",
    "train_data[label].describe()"
   ]
  },
  {
   "cell_type": "markdown",
   "metadata": {
    "id": "oE0p8wOJmYxt"
   },
   "source": [
    "We now construct a `TabularPredictor` by specifying the label column name and then train on the dataset with `TabularPredictor.fit()`. We don't need to specify any other hyperparameters. AutoGluon will recognize this is a multi-class classification task, perform automatic feature engineering, train multiple models, and then ensemble them to form the final predictions. "
   ]
  },
  {
   "cell_type": "code",
   "execution_count": null,
   "metadata": {
    "ExecuteTime": {
     "end_time": "2022-07-09T05:12:21.055590Z",
     "start_time": "2022-07-09T05:10:40.136310Z"
    },
    "colab": {
     "base_uri": "https://localhost:8080/"
    },
    "collapsed": true,
    "executionInfo": {
     "elapsed": 39623,
     "status": "ok",
     "timestamp": 1657334645914,
     "user": {
      "displayName": "Mu Li",
      "userId": "07665802281081973826"
     },
     "user_tz": 420
    },
    "id": "0EtF04QJL8CS",
    "outputId": "14736664-7e94-4f61-e117-4ab7d5311e0b"
   },
   "outputs": [],
   "source": [
    "predictor = TabularPredictor(label=label).fit(train_data)"
   ]
  },
  {
   "cell_type": "markdown",
   "metadata": {
    "id": "BvPHH8aQnXBk"
   },
   "source": [
    "Model fitting should take a few minutes or less depending on your CPU. You can make training faster by specifying the `time_limit` argument. For example, `fit(..., time_limit=60)` will stop training after 60 seconds. Higher time limits will generally result in better prediction performance, and excessively low time limits will prevent AutoGluon from training and ensembling a reasonable set of models.\n",
    "\n",
    "Once training is done, we can load a separate set of data to use for prediction and evaulation."
   ]
  },
  {
   "cell_type": "code",
   "execution_count": 26,
   "metadata": {
    "ExecuteTime": {
     "end_time": "2022-07-09T05:32:02.338844Z",
     "start_time": "2022-07-09T05:32:01.721431Z"
    },
    "colab": {
     "base_uri": "https://localhost:8080/"
    },
    "executionInfo": {
     "elapsed": 616,
     "status": "ok",
     "timestamp": 1657334646512,
     "user": {
      "displayName": "Mu Li",
      "userId": "07665802281081973826"
     },
     "user_tz": 420
    },
    "id": "bdSqGoJ5L-ho",
    "outputId": "2b3720c0-ece3-4372-ab66-fcd65302e64d"
   },
   "outputs": [
    {
     "name": "stderr",
     "output_type": "stream",
     "text": [
      "Loaded data from: https://raw.githubusercontent.com/mli/ag-docs/main/knot_theory/test.csv | Columns = 19 / 19 | Rows = 5000 -> 5000\n"
     ]
    },
    {
     "data": {
      "text/plain": [
       "0   -4\n",
       "1   -2\n",
       "2    0\n",
       "3    4\n",
       "4    2\n",
       "Name: signature, dtype: int64"
      ]
     },
     "execution_count": 26,
     "metadata": {},
     "output_type": "execute_result"
    }
   ],
   "source": [
    "test_data = TabularDataset(f'{data_url}test.csv')\n",
    "\n",
    "y_pred = predictor.predict(test_data.drop(columns=[label]))\n",
    "y_pred.head()"
   ]
  },
  {
   "cell_type": "markdown",
   "metadata": {
    "id": "S7mstqfgosu3"
   },
   "source": [
    "If you just want to evaluate the model performance, you can call the {func}`autogluon.tabular.TabularPredictor.evaluate` method."
   ]
  },
  {
   "cell_type": "code",
   "execution_count": 27,
   "metadata": {
    "ExecuteTime": {
     "end_time": "2022-07-09T05:32:04.286478Z",
     "start_time": "2022-07-09T05:32:03.892143Z"
    }
   },
   "outputs": [
    {
     "data": {
      "text/plain": [
       "{'accuracy': 0.95,\n",
       " 'balanced_accuracy': 0.7619277504882699,\n",
       " 'mcc': 0.9387411901257484}"
      ]
     },
     "execution_count": 27,
     "metadata": {},
     "output_type": "execute_result"
    }
   ],
   "source": [
    "predictor.evaluate(test_data, silent=True)"
   ]
  },
  {
   "cell_type": "markdown",
   "metadata": {
    "id": "I-da0PXvpD96"
   },
   "source": [
    "Now we did a quick through about using AutoGluon for tabular prediction. We used two classes, {class}`autogluon.tabular.TabularDataset` (essentially a pandas DataFrame) to load data and {class}`autogluon.tabular.TabularPredictor` to train (via the `fit` method) and predict (via the `predict` method). You will see similar APIs for other tasks, namely a `Dataset` class to load data and a `Prediction` class to train and predict. \n",
    "\n",
    "\n",
    "In addition, AutoGluon simplifies the model training by not requiring feature engineering and specifying model hyperparameters. AutoGluon automatically performs these jobs when running `fit`. You may worry about the resulted longer training time, AutoGluon balances the computational cost and model quality. You can benchmark AutoGluon's performance on the whole dataset loaded above against your favorite machine learning model. But to be fair, you also need to count the time you spend on preprocessing data and tuning your models. \n",
    "\n",
    "```{seealso}\n",
    "To know more about AutoGluon, next you can read\n",
    "\n",
    "- the cheetsheet for a quick overview of the APIs\n",
    "- tutorials to customize the training and inference\n",
    "- understand how AutoGluon performs feature engineering and model ensemble. \n",
    "```"
   ]
  }
 ],
 "metadata": {
  "colab": {
   "collapsed_sections": [],
   "name": "tabular_quick_start.ipynb",
   "provenance": []
  },
  "kernelspec": {
   "display_name": "Python 3.9.7 ('base')",
   "language": "python",
   "name": "python3"
  },
  "language_info": {
   "codemirror_mode": {
    "name": "ipython",
    "version": 3
   },
   "file_extension": ".py",
   "mimetype": "text/x-python",
   "name": "python",
   "nbconvert_exporter": "python",
   "pygments_lexer": "ipython3",
   "version": "3.9.7"
  },
  "toc": {
   "base_numbering": 1,
   "nav_menu": {},
   "number_sections": true,
   "sideBar": true,
   "skip_h1_title": true,
   "title_cell": "Table of Contents",
   "title_sidebar": "Contents",
   "toc_cell": false,
   "toc_position": {},
   "toc_section_display": true,
   "toc_window_display": false
  },
  "vscode": {
   "interpreter": {
    "hash": "f7bc0839522284c9a892b98610e89887142f14aaecf82d540f4079f05f0bb734"
   }
  }
 },
 "nbformat": 4,
 "nbformat_minor": 1
}
