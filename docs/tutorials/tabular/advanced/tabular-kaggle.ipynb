{
 "cells": [
  {
   "attachments": {},
   "cell_type": "markdown",
   "id": "0fa7eb3d",
   "metadata": {},
   "source": [
    "# How to use AutoGluon for Kaggle competitions\n",
    "\n",
    "[![Open In Colab](https://colab.research.google.com/assets/colab-badge.svg)](https://colab.research.google.com/github/autogluon/autogluon/blob/master/docs/tutorials/tabular/advanced/tabular-kaggle.ipynb)\n",
    "[![Open In SageMaker Studio Lab](https://studiolab.sagemaker.aws/studiolab.svg)](https://studiolab.sagemaker.aws/import/github/autogluon/autogluon/blob/master/docs/tutorials/tabular/advanced/tabular-kaggle.ipynb)\n",
    "\n",
    "\n",
    "\n",
    "This tutorial will teach you how to use AutoGluon to become a serious Kaggle competitor without writing lots of code.\n",
    "We first outline the general steps to use AutoGluon in Kaggle contests. Here, we assume the competition involves tabular data which are stored in one (or more) CSV files.\n",
    "\n",
    "1) Run Bash command: pip install kaggle\n",
    "\n",
    "2) Navigate to: https://www.kaggle.com/account and create an account (if necessary).\n",
    "Then , click on \"Create New API Token\" and move downloaded file to this location on your machine: `~/.kaggle/kaggle.json`. For troubleshooting, see [Kaggle API instructions](https://www.kaggle.com/docs/api).\n",
    "\n",
    "3) To download data programmatically: Execute this Bash command in your terminal:\n",
    "\n",
    "`kaggle competitions download -c [COMPETITION]`\n",
    "\n",
    "Here, [COMPETITION] should be replaced by the name of the competition you wish to enter.\n",
    "Alternatively, you can download data manually: Just navigate to website of the Kaggle competition you wish to enter, click \"Download All\", and accept the competition's terms.\n",
    "\n",
    "4) If the competition's training data is comprised of multiple CSV files, use [pandas](https://pandas.pydata.org/pandas-docs/stable/user_guide/merging.html) to properly merge/join them into a single data table where rows = training examples, columns = features.\n",
    "\n",
    "5) Run autogluon `fit()` on the resulting data table.\n",
    "\n",
    "6) Load the test dataset from competition (again making the necessary merges/joins to ensure it is in the exact same format as the training data table), and then call autogluon `predict()`.  Subsequently use [pandas.read_csv](https://pandas.pydata.org/pandas-docs/stable/reference/api/pandas.read_csv.html) to load the competition's `sample_submission.csv` file into a DataFrame, put the AutoGluon predictions in the right column of this DataFrame, and finally save it as a CSV file via [pandas.to_csv](https://pandas.pydata.org/pandas-docs/stable/reference/api/pandas.DataFrame.to_csv.html). If the competition does not offer a sample submission file, you will need to create the submission file yourself by appropriately reformatting AutoGluon's test predictions.\n",
    "\n",
    "7) Submit your predictions via Bash command:\n",
    "\n",
    "`kaggle competitions submit -c [COMPETITION] -f [FILE] -m [\"MESSAGE\"]`\n",
    "\n",
    "Here, [COMPETITION] again is the competition's name, [FILE] is the name of the CSV file you created with your predictions, and [\"MESSAGE\"] is a string message you want to record with this submitted entry. Alternatively, you can  manually upload your file of predictions on the competition website.\n",
    "\n",
    "8) Finally, navigate to competition leaderboard website to see how well your submission performed!\n",
    "It may take time for your submission to appear.\n",
    "\n",
    "\n",
    "\n",
    "Below, we demonstrate how to do steps (4)-(6) in Python for a specific Kaggle competition: [ieee-fraud-detection](https://www.kaggle.com/c/ieee-fraud-detection/).\n",
    "This means you'll need to run the above steps with `[COMPETITION]` replaced by `ieee-fraud-detection` in each command.  Here, we assume you've already completed steps (1)-(3) and the data CSV files are available on your computer. To begin step (4), we first load the competition's training data into Python:"
   ]
  },
  {
   "cell_type": "markdown",
   "id": "a6057bf4",
   "metadata": {},
   "source": [
    "```\n",
    "import pandas as pd\n",
    "import numpy as np\n",
    "from autogluon.tabular import TabularPredictor\n",
    "\n",
    "directory = '~/IEEEfraud/'  # directory where you have downloaded the data CSV files from the competition\n",
    "label = 'isFraud'  # name of target variable to predict in this competition\n",
    "eval_metric = 'roc_auc'  # Optional: specify that competition evaluation metric is AUC\n",
    "save_path = directory + 'AutoGluonModels/'  # where to store trained models\n",
    "\n",
    "train_identity = pd.read_csv(directory+'train_identity.csv')\n",
    "train_transaction = pd.read_csv(directory+'train_transaction.csv')\n",
    "```\n"
   ]
  },
  {
   "cell_type": "markdown",
   "id": "1b046735",
   "metadata": {},
   "source": [
    "Since the training data for this competition is comprised of multiple CSV files, we just first join them into a single large table (with rows = examples, columns = features) before applying AutoGluon:"
   ]
  },
  {
   "cell_type": "markdown",
   "id": "9ddbf2bd",
   "metadata": {},
   "source": [
    "```\n",
    "train_data = pd.merge(train_transaction, train_identity, on='TransactionID', how='left')\n",
    "```\n"
   ]
  },
  {
   "cell_type": "markdown",
   "id": "7de8c287",
   "metadata": {},
   "source": [
    "Note that a left-join on the `TransactionID` key happened to be most appropriate for this Kaggle competition, but for others involving multiple training data files, you will likely need to use a different join strategy (always consider this very carefully). Now that all our training data resides within a single table, we can apply AutoGluon. Below, we specify the `presets` argument to maximize AutoGluon's predictive accuracy which usually requires that you run `fit()` with longer time limits (3600s below should likely be increased in your run):"
   ]
  },
  {
   "cell_type": "markdown",
   "id": "aaad348b",
   "metadata": {},
   "source": [
    "```\n",
    "predictor = TabularPredictor(label=label, eval_metric=eval_metric, path=save_path, verbosity=3).fit(\n",
    "    train_data, presets='best_quality', time_limit=3600\n",
    ")\n",
    "\n",
    "results = predictor.fit_summary()\n",
    "```\n"
   ]
  },
  {
   "cell_type": "markdown",
   "id": "010f5fef",
   "metadata": {},
   "source": [
    "Now, we use the trained AutoGluon Predictor to make predictions on the competition's test data. It is imperative that multiple test data files are joined together in the exact same manner as the training data. Because this competition is evaluated based on the AUC (Area under the ROC curve) metric, we ask AutoGluon for predicted class-probabilities rather than class predictions. In general, when to use `predict` vs `predict_proba` will depend on the particular competition."
   ]
  },
  {
   "cell_type": "markdown",
   "id": "75bc10a9",
   "metadata": {},
   "source": [
    "```\n",
    "test_identity = pd.read_csv(directory+'test_identity.csv')\n",
    "test_transaction = pd.read_csv(directory+'test_transaction.csv')\n",
    "test_data = pd.merge(test_transaction, test_identity, on='TransactionID', how='left')  # same join applied to training files\n",
    "\n",
    "y_predproba = predictor.predict_proba(test_data)\n",
    "y_predproba.head(5)  # some example predicted fraud-probabilities\n",
    "```\n"
   ]
  },
  {
   "cell_type": "markdown",
   "id": "2cd379db",
   "metadata": {},
   "source": [
    "When submitting predicted probabilities for classification competitions, it is imperative these correspond to the same class expected by Kaggle. For binary classification tasks, you can see which class AutoGluon's predicted probabilities correspond to via:"
   ]
  },
  {
   "cell_type": "markdown",
   "id": "79b65205",
   "metadata": {},
   "source": [
    "```\n",
    "predictor.positive_class\n",
    "```\n"
   ]
  },
  {
   "cell_type": "markdown",
   "id": "bb03739b",
   "metadata": {},
   "source": [
    "For multiclass classification tasks, you can see which classes AutoGluon's predicted probabilities correspond to via:"
   ]
  },
  {
   "cell_type": "markdown",
   "id": "9020a4f9",
   "metadata": {},
   "source": [
    "```\n",
    "predictor.class_labels  # classes in this list correspond to columns of predict_proba() output\n",
    "```\n"
   ]
  },
  {
   "cell_type": "markdown",
   "id": "8cb84c3e",
   "metadata": {},
   "source": [
    "Now, let's get prediction probabilities for the entire test data, while only getting the positive class predictions by specifying:"
   ]
  },
  {
   "cell_type": "markdown",
   "id": "3e82e4c9",
   "metadata": {},
   "source": [
    "```\n",
    "y_predproba = predictor.predict_proba(test_data, as_multiclass=False)\n",
    "```\n"
   ]
  },
  {
   "cell_type": "markdown",
   "id": "9f26a317",
   "metadata": {},
   "source": [
    "Now that we have made a prediction for each row in the test dataset, we can submit these predictions to Kaggle. Most Kaggle competitions provide a sample submission file, in which you can simply overwrite the sample predictions with your own as we do below:"
   ]
  },
  {
   "cell_type": "markdown",
   "id": "ef9ae74e",
   "metadata": {},
   "source": [
    "```\n",
    "submission = pd.read_csv(directory+'sample_submission.csv')\n",
    "submission['isFraud'] = y_predproba\n",
    "submission.head()\n",
    "submission.to_csv(directory+'my_submission.csv', index=False)\n",
    "```\n"
   ]
  },
  {
   "cell_type": "markdown",
   "id": "2fd99892",
   "metadata": {},
   "source": [
    "We have now completed steps (4)-(6) from the top of this tutorial. To submit your predictions to Kaggle, you can run the following command in your terminal (from the appropriate directory):\n",
    "\n",
    "`kaggle competitions submit -c ieee-fraud-detection -f sample_submission.csv -m \"my first submission\"`\n",
    "\n",
    "You can now play with different `fit()` arguments and feature-engineering techniques to try and maximize the rank of your submissions in the Kaggle Leaderboard!\n",
    "\n",
    "\n",
    "**Tips to maximize predictive performance:**\n",
    "\n",
    "   - Be sure to specify the appropriate evaluation metric if one is specified on the competition website! If you are unsure which metric is best, then simply do not specify this argument when invoking `fit()`; AutoGluon should still produce high-quality models by automatically inferring which metric to use.\n",
    "\n",
    "   - If the training examples are time-based and the competition test examples come from future data, we recommend you reserve the most recently-collected training examples as a separate validation dataset passed to `fit()`. Otherwise, you do not need to specify a validation set yourself and AutoGluon will automatically partition the competition training data into its own training/validation sets.\n",
    "\n",
    "   - Beyond simply specifying `presets = 'best_quality'`, you may play with more advanced `fit()` arguments such as: `num_bag_folds`, `num_stack_levels`, `num_bag_sets`, `hyperparameter_tune_kwargs`, `hyperparameters`, `refit_full`. However we recommend spending most of your time on feature-engineering and just specify `presets = 'best_quality'` inside the call to `fit()`.\n",
    "\n",
    "\n",
    "**Troubleshooting:**\n",
    "\n",
    "- Check that you have the right user-permissions on your computer to access the data files downloaded from Kaggle.\n",
    "\n",
    "- For issues downloading Kaggle data or submitting predictions, check your Kaggle account setup and the [Kaggle FAQ](https://www.kaggle.com/general/14438)."
   ]
  }
 ],
 "metadata": {
  "language_info": {
   "name": "python"
  }
 },
 "nbformat": 4,
 "nbformat_minor": 5
}
