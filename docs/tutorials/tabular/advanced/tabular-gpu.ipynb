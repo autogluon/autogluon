{
 "cells": [
  {
   "attachments": {},
   "cell_type": "markdown",
   "id": "d38c131d",
   "metadata": {},
   "source": [
    "# Training models with GPU support\n",
    "\n",
    "[![Open In Colab](https://colab.research.google.com/assets/colab-badge.svg)](https://colab.research.google.com/github/autogluon/autogluon/blob/master/docs/tutorials/tabular/advanced/tabular-gpu.ipynb)\n",
    "[![Open In SageMaker Studio Lab](https://studiolab.sagemaker.aws/studiolab.svg)](https://studiolab.sagemaker.aws/import/github/autogluon/autogluon/blob/master/docs/tutorials/tabular/advanced/tabular-gpu.ipynb)\n",
    "\n",
    "\n",
    "\n",
    "Training with GPU can significantly speed up base algorithms, and is a necessity for text and vision models where training without GPU is infeasibly slow. \n",
    "CUDA toolkit is required for GPU training. Please refer to the [official documentation](https://docs.nvidia.com/cuda/) for the installation instructions."
   ]
  },
  {
   "cell_type": "markdown",
   "id": "02f1b04a",
   "metadata": {},
   "source": [
    "```python\n",
    "predictor = TabularPredictor(label=label).fit(\n",
    "    train_data,\n",
    "    num_gpus=1,  # Grant 1 gpu for the entire Tabular Predictor\n",
    ")\n",
    "```\n"
   ]
  },
  {
   "cell_type": "markdown",
   "id": "63f17ef2",
   "metadata": {},
   "source": [
    "To enable GPU acceleration on only specific models, the same parameter can be passed into model `hyperparameters`:"
   ]
  },
  {
   "cell_type": "markdown",
   "id": "311d63d1",
   "metadata": {},
   "source": [
    "```python\n",
    "hyperparameters = {\n",
    "    'GBM': [\n",
    "        {'ag_args_fit': {'num_gpus': 0}},  # Train with CPU\n",
    "        {'ag_args_fit': {'num_gpus': 1}}   # Train with GPU. This amount needs to be <= total num_gpus granted to TabularPredictor\n",
    "    ]\n",
    "}\n",
    "predictor = TabularPredictor(label=label).fit(\n",
    "    train_data, \n",
    "    num_gpus=1,\n",
    "    hyperparameters=hyperparameters, \n",
    ")\n",
    "```\n"
   ]
  },
  {
   "cell_type": "markdown",
   "id": "0a224409",
   "metadata": {},
   "source": [
    "## Multi-modal\n",
    "\n",
    "In [Multimodal Data Tables: Tabular, Text, and Image](../tabular-multimodal.ipynb) tutorial we presented how to train an ensemble which can utilize tabular, text and images. \n",
    "If available GPUs don't have enough VRAM to fit the default model, or it is needed to speedup testing, different backends can be used:\n",
    "\n",
    "Regular configuration is retrieved like this:"
   ]
  },
  {
   "cell_type": "code",
   "execution_count": null,
   "id": "aa00faab-252f-44c9-b8f7-57131aa8251c",
   "metadata": {
    "tags": [
     "remove-cell"
    ]
   },
   "outputs": [],
   "source": [
    "!pip install autogluon.tabular[all]\n"
   ]
  },
  {
   "cell_type": "code",
   "execution_count": null,
   "id": "3d2b81ab",
   "metadata": {},
   "outputs": [],
   "source": [
    "from autogluon.tabular.configs.hyperparameter_configs import get_hyperparameter_config\n",
    "hyperparameters = get_hyperparameter_config('multimodal')\n",
    "hyperparameters"
   ]
  },
  {
   "cell_type": "markdown",
   "id": "4397b21d",
   "metadata": {},
   "source": [
    "## Enabling GPU for LightGBM\n",
    "\n",
    "The default installation of LightGBM does not support GPU training, however GPU support can be enabled via a special install. If `num_gpus` is set, the following warning will be displayed:"
   ]
  },
  {
   "cell_type": "markdown",
   "id": "d4ae2d7b",
   "metadata": {},
   "source": [
    "```\n",
    "Warning: GPU mode might not be installed for LightGBM, GPU training raised an exception. Falling back to CPU training...Refer to LightGBM GPU documentation: https://github.com/Microsoft/LightGBM/tree/master/python-package#build-gpu-versionOne possible method is:\tpip uninstall lightgbm -y\tpip install lightgbm --install-option=--gpu\n",
    "```\n"
   ]
  },
  {
   "cell_type": "markdown",
   "id": "0c2549a5",
   "metadata": {},
   "source": [
    "If the suggested commands do not work, uninstall existing lightgbm `pip uninstall -y lightgbm` and install from sources following the instructions in the [official guide](https://lightgbm.readthedocs.io/en/latest/GPU-Tutorial.html). The\n",
    "optional [Install Python Interface](https://lightgbm.readthedocs.io/en/latest/GPU-Tutorial.html#install-python-interface-optional) section is also required to make it work with AutoGluon.\n",
    "\n",
    "## Advanced Resource Allocation\n",
    "\n",
    "Most of the time, you would only need to set `num_cpus` and `num_gpus` at the predictor `fit` level to control the total resources you granted to the TabularPredictor.\n",
    "However, if you want to have more detailed control, we offer the following options.\n",
    "\n",
    "`ag_args_ensemble: ag_args_fit: { RESOURCES }` allows you to control the total resources granted to a bagged model.\n",
    "If using parallel folding strategy, individual base model's resources will be calculated respectively.\n",
    "This value needs to be <= total resources granted to TabularPredictor\n",
    "This parameter will be ignored if bagging model is not enabled.\n",
    "\n",
    "`ag_args_fit: { RESOURCES }` allows you to control the total resources granted to a single base model.\n",
    "This value needs to be <= total resources granted to TabularPredictor and <= total resources granted to a bagged model if applicable.\n",
    "\n",
    "As an example, consider the following scenario"
   ]
  },
  {
   "cell_type": "markdown",
   "id": "fb52a296",
   "metadata": {},
   "source": [
    "```python\n",
    "predictor.fit(\n",
    "    num_cpus=32,\n",
    "    num_gpus=4,\n",
    "    hyperparameters={\n",
    "        'NN_TORCH': {},\n",
    "    },\n",
    "    num_bag_folds=2,\n",
    "    ag_args_ensemble={\n",
    "        'ag_args_fit': {\n",
    "            'num_cpus': 10,\n",
    "            'num_gpus': 2,\n",
    "        }\n",
    "    },\n",
    "    ag_args_fit={\n",
    "        'num_cpus': 4,\n",
    "        'num_gpus': 0.5,\n",
    "    }\n",
    "    hyperparameter_tune_kwargs={\n",
    "        'searcher': 'random',\n",
    "        'scheduler': 'local',\n",
    "        'num_trials': 2\n",
    "    }\n",
    ")\n",
    "```\n"
   ]
  },
  {
   "cell_type": "markdown",
   "id": "5d885004",
   "metadata": {},
   "source": [
    "We train 2 HPO trials, which trains 2 folds in parallel at the same time. The total resources granted to the TabularPredictor is 32 cpus and 4 gpus.\n",
    "\n",
    "For a bagged model, we grant 10 cpus and 2 gpus.\n",
    "This means we would run two HPO trials in parallel, each granted 10 cpus and 2 gpus -> 20 cpus and 4 gpus in total.\n",
    "\n",
    "We also specified that for an individual model base we want 4 cpus and 0.5 gpus and we can train two folds in parallel according to the bagged level resources -> 8 cpus and 1 gpus for a bagged model -> 16 cpus and 2 gpus when two trials running in parallel.\n",
    "\n",
    "Therefore, we will use 16 cpus and 2 gpus in total and have two trials of bagged model running in parallel each running two folds in parallel -> 4 models training in parallel.\n",
    "\n",
    "## Troubleshooting"
   ]
  },
  {
   "cell_type": "markdown",
   "id": "561cf8ec",
   "metadata": {},
   "source": [
    "```\n",
    "OSError: libcudnn.so.X: cannot open shared object file: No such file or directory\n",
    "OSError: libcudart.so.XX.Y: cannot open shared object file: No such file or directory\n",
    "```\n"
   ]
  }
 ],
 "metadata": {
  "language_info": {
   "name": "python"
  }
 },
 "nbformat": 4,
 "nbformat_minor": 5
}
