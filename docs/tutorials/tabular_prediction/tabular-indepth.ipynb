{
 "cells": [
  {
   "cell_type": "markdown",
   "metadata": {},
   "source": [
    "# Predicting Columns in a Table - In Depth"
   ]
  },
  {
   "cell_type": "markdown",
   "metadata": {},
   "source": [
    "This tutorial describes how you can exert greater control over `fit()` by specifying the appropriate arguments. Let's start by loading the same census data table, and try to predict the `occupation` variable in order to demonstrate a multiclass classification problem."
   ]
  },
  {
   "cell_type": "code",
   "execution_count": 1,
   "metadata": {},
   "outputs": [
    {
     "name": "stderr",
     "output_type": "stream",
     "text": [
      "/Users/jonasmue/virtual/ag/lib/python3.7/site-packages/botocore/vendored/requests/packages/urllib3/_collections.py:1: DeprecationWarning: Using or importing the ABCs from 'collections' instead of from 'collections.abc' is deprecated since Python 3.3,and in 3.9 it will stop working\n",
      "  from collections import Mapping, MutableMapping\n",
      "/Users/jonasmue/virtual/ag/lib/python3.7/site-packages/lightgbm/__init__.py:48: UserWarning: Starting from version 2.2.1, the library file in distribution wheels for macOS is built by the Apple Clang (Xcode_8.3.3) compiler.\n",
      "This means that in case of installing LightGBM from PyPI via the ``pip install lightgbm`` command, you don't need to install the gcc compiler anymore.\n",
      "Instead of that, you need to install the OpenMP library, which is required for running LightGBM on the system with the Apple Clang compiler.\n",
      "You can install the OpenMP library by the following command: ``brew install libomp``.\n",
      "  \"You can install the OpenMP library by the following command: ``brew install libomp``.\", UserWarning)\n",
      "/Users/jonasmue/WorkDocs/AutoGluon/githubAutogluon/autogluon/autogluon/utils/deprecate.py:17: AutoGluonWarning: autogluon.autogluon_register_args is now deprecated in favor of autogluon.args.\n",
      "  .format(old_name, new_name), AutoGluonWarning)\n",
      "/Users/jonasmue/virtual/ag/lib/python3.7/site-packages/google/protobuf/descriptor.py:47: DeprecationWarning: Using or importing the ABCs from 'collections' instead of from 'collections.abc' is deprecated since Python 3.3,and in 3.9 it will stop working\n",
      "  from google.protobuf.pyext import _message\n"
     ]
    },
    {
     "name": "stdout",
     "output_type": "stream",
     "text": [
      "Loaded https://autogluon.s3-us-west-2.amazonaws.com/datasets/AdultIncomeBinaryClassification/train_data.csv | Columns = 15 / 15 | Rows = 39073  ->  39073\n",
      "   age   workclass  fnlwgt   education  education-num       marital-status  \\\n",
      "0   25     Private  178478   Bachelors             13        Never-married   \n",
      "1   23   State-gov   61743     5th-6th              3        Never-married   \n",
      "2   46     Private  376789     HS-grad              9        Never-married   \n",
      "3   55           ?  200235     HS-grad              9   Married-civ-spouse   \n",
      "4   36     Private  224541     7th-8th              4   Married-civ-spouse   \n",
      "\n",
      "           occupation    relationship    race      sex  capital-gain  \\\n",
      "0        Tech-support       Own-child   White   Female             0   \n",
      "1    Transport-moving   Not-in-family   White     Male             0   \n",
      "2       Other-service   Not-in-family   White     Male             0   \n",
      "3                   ?         Husband   White     Male             0   \n",
      "4   Handlers-cleaners         Husband   White     Male             0   \n",
      "\n",
      "   capital-loss  hours-per-week  native-country   class  \n",
      "0             0              40   United-States   <=50K  \n",
      "1             0              35   United-States   <=50K  \n",
      "2             0              15   United-States   <=50K  \n",
      "3             0              50   United-States    >50K  \n",
      "4             0              40     El-Salvador   <=50K  \n",
      "Loaded https://autogluon.s3-us-west-2.amazonaws.com/datasets/AdultIncomeBinaryClassification/test_data.csv | Columns = 15 / 15 | Rows = 9769  ->  9769\n",
      "count                  500\n",
      "unique                  14\n",
      "top        Exec-managerial\n",
      "freq                    69\n",
      "Name: occupation, dtype: object\n"
     ]
    }
   ],
   "source": [
    "import autogluon as ag\n",
    "from autogluon import TabularPrediction as task\n",
    "\n",
    "train_data = task.Dataset(file_path='https://autogluon.s3-us-west-2.amazonaws.com/datasets/AdultIncomeBinaryClassification/train_data.csv') # can be local CSV file as well, returns Pandas object.\n",
    "train_data = train_data.head(500) # subsample 500 data points for faster demo\n",
    "print(train_data.head())\n",
    "\n",
    "val_data = task.Dataset(file_path='https://autogluon.s3-us-west-2.amazonaws.com/datasets/AdultIncomeBinaryClassification/test_data.csv')\n",
    "\n",
    "label_column = 'occupation'\n",
    "print(train_data['occupation'].describe())"
   ]
  },
  {
   "cell_type": "markdown",
   "metadata": {},
   "source": [
    "Let's use AutoGluon to train some models, this time exerting greater control over the process via user-specified arguments. To demonstrate how you can provide your own validation dataset against which AutoGluon tunes hyperparameters, we'll use the previous test dataset as validation data this time. If you do not have any particular validation dataset of interest, we recommend omitting the `tuning_data` argument and letting AutoGluon automatically select validation data from your provided training set (as it uses smart strategies such as stratified sampling in classification problems).  For greater control, you can specify the `holdout_frac` argument to tell AutoGluon what fraction of the provided training data to hold out for validation. \n",
    "\n",
    "**Caution:** Since AutoGluon tunes internal knobs based on this validation data, performance estimates reported on this data may be over-optimistic. For unbiased performance estimates, you should always call `predict()` on an entirely separate dataset (that was never given to `fit()`), as we did in the previous **Quick-Start** tutorial. \n",
    "\n",
    "`fit()` trains neural networks and gradient boosted tree models by default, and we can specify various hyperparameter values for each type of model. For each hyperparameter, we can either specify a single fixed value, or a search space of values to consider during the hyperparameter optimization. Hyperparameters which we do not specify are left at default settings chosen by AutoGluon, which may be fixed values or search spaces, depending on the particular hyperparameter and the setting of `hyperparameter_tune`."
   ]
  },
  {
   "cell_type": "code",
   "execution_count": 2,
   "metadata": {},
   "outputs": [
    {
     "name": "stdout",
     "output_type": "stream",
     "text": [
      "First 10 unique y values: [' Tech-support' ' Transport-moving' ' Other-service' ' ?'\n",
      " ' Handlers-cleaners' ' Sales' ' Craft-repair' ' Adm-clerical'\n",
      " ' Exec-managerial' ' Prof-specialty']\n",
      "\n",
      "AutoGluon infers your prediction problem is: multiclass  (because dtype of label-column == object)\n",
      "If this is wrong, please specify `problem_type` argument in fit() instead (You may specify problem_type as one of: ['binary', 'multiclass', 'regression'])\n",
      "\n",
      "classes kept: 13 / 14\n",
      "percent of data kept: 0.998\n",
      "Performing general data processing with merged train & test data. Validation performance may not accurately reflect performance on new test data.\n",
      "Feature Generator processed  10223 data points with 14 features\n",
      "Original Features:\n",
      "\tint features: 6\n",
      "\tobject features: 8\n",
      "Generated Features:\n",
      "\tint features: 0\n",
      "All Features:\n",
      "\tint features: 6\n",
      "\tobject features: 8\n",
      "Total time taken in :  fit_transform 0.07703208923339844\n",
      "Saving agModels-predictOccupation/learner.pkl\n",
      "Beginning hyperparameter tuning for Gradient Boosting Model...\n",
      "Hyperparameter search space for Gradient Boosting Model: \n",
      "learning_rate:   Real: lower=0.005, upper=0.2\n",
      "num_leaves:   Int: lower=26, upper=66\n",
      "feature_fraction:   Real: lower=0.75, upper=1.0\n",
      "min_data_in_leaf:   Int: lower=2, upper=30\n"
     ]
    },
    {
     "data": {
      "application/vnd.jupyter.widget-view+json": {
       "model_id": "6a5b3cc952144e359bd6b4b994a353ae",
       "version_major": 2,
       "version_minor": 0
      },
      "text/plain": [
       "HBox(children=(IntProgress(value=0, max=3), HTML(value='')))"
      ]
     },
     "metadata": {},
     "output_type": "display_data"
    },
    {
     "name": "stdout",
     "output_type": "stream",
     "text": [
      "\n",
      "Saving agModels-predictOccupation/models/GradientBoostClassifier/trial_1_model.pkl\n",
      "Saving agModels-predictOccupation/models/GradientBoostClassifier/trial_0_model.pkl\n",
      "Saving agModels-predictOccupation/models/GradientBoostClassifier/trial_2_model.pkl\n",
      "Time for Gradient Boosting hyperparameter optimization: 15.478951930999756\n",
      "Best hyperparameter configuration for Gradient Boosting Model: \n",
      "{'feature_fraction': 0.9257837077007836, 'learning_rate': 0.18038269042001423, 'min_data_in_leaf': 17, 'num_leaves': 40}\n",
      "Saving agModels-predictOccupation/models/trainer.pkl\n",
      "Beginning hyperparameter tuning for Tabular Neural Network...\n",
      "Hyperparameter search space for Tabular Neural Network: \n",
      "network_type:   Categorical['widedeep', 'feedforward']\n",
      "layers:   Categorical[[100], [1000], [200, 100], [300, 200, 100], [400, 300, 200, 100], [400, 400, 400]]\n",
      "activation:   Categorical['relu', 'softrelu', 'tanh']\n",
      "embedding_size_factor:   Real: lower=0.5, upper=1.5\n",
      "use_batchnorm:   Categorical[True, False]\n",
      "dropout_prob:   Real: lower=0.0, upper=0.5\n",
      "learning_rate:   Real: lower=0.0001, upper=0.01\n",
      "weight_decay:   Real: lower=1e-12, upper=0.5\n",
      "AutoGluon infers your features are of the following types:\n",
      "{\n",
      "    \"continuous\": [\n",
      "        \"age\",\n",
      "        \"education-num\",\n",
      "        \"hours-per-week\"\n",
      "    ],\n",
      "    \"skewed\": [\n",
      "        \"fnlwgt\",\n",
      "        \"capital-gain\",\n",
      "        \"capital-loss\"\n",
      "    ],\n",
      "    \"onehot\": [\n",
      "        \"sex\",\n",
      "        \"class\"\n",
      "    ],\n",
      "    \"embed\": [\n",
      "        \"workclass\",\n",
      "        \"education\",\n",
      "        \"marital-status\",\n",
      "        \"relationship\",\n",
      "        \"race\",\n",
      "        \"native-country\"\n",
      "    ],\n",
      "    \"language\": []\n",
      "}\n",
      "\n",
      "\n",
      "\n"
     ]
    },
    {
     "name": "stderr",
     "output_type": "stream",
     "text": [
      "/Users/jonasmue/virtual/ag/lib/python3.7/site-packages/sklearn/preprocessing/data.py:2239: UserWarning: n_quantiles (1000) is greater than the total number of samples (499). n_quantiles is set to n_samples.\n",
      "  % (self.n_quantiles, n_samples))\n"
     ]
    },
    {
     "name": "stdout",
     "output_type": "stream",
     "text": [
      "Saving agModels-predictOccupation/models/NeuralNetClassifier/train_tabNNdataset.pkl\n",
      "Saving agModels-predictOccupation/models/NeuralNetClassifier/validation_tabNNdataset.pkl\n"
     ]
    },
    {
     "data": {
      "application/vnd.jupyter.widget-view+json": {
       "model_id": "43101499b10942bcada648886634e66b",
       "version_major": 2,
       "version_minor": 0
      },
      "text/plain": [
       "HBox(children=(IntProgress(value=0, max=3), HTML(value='')))"
      ]
     },
     "metadata": {},
     "output_type": "display_data"
    },
    {
     "name": "stdout",
     "output_type": "stream",
     "text": [
      "\n",
      "Loading agModels-predictOccupation/models/NeuralNetClassifier/train_tabNNdataset.pkl\n",
      "Loading agModels-predictOccupation/models/NeuralNetClassifier/validation_tabNNdataset.pkl\n",
      "Loading agModels-predictOccupation/models/NeuralNetClassifier/train_tabNNdataset.pkl\n",
      "Loading agModels-predictOccupation/models/NeuralNetClassifier/validation_tabNNdataset.pkl\n",
      "Loading agModels-predictOccupation/models/NeuralNetClassifier/train_tabNNdataset.pkl\n",
      "Loading agModels-predictOccupation/models/NeuralNetClassifier/validation_tabNNdataset.pkl\n",
      "Saving agModels-predictOccupation/models/NeuralNetClassifier/trial_3_tabularNN.pkl\n",
      "Saving agModels-predictOccupation/models/NeuralNetClassifier/trial_4_tabularNN.pkl\n",
      "Saving agModels-predictOccupation/models/NeuralNetClassifier/trial_5_tabularNN.pkl\n"
     ]
    },
    {
     "name": "stderr",
     "output_type": "stream",
     "text": [
      "Please either provide filename or allow plot in get_training_curves\n"
     ]
    },
    {
     "name": "stdout",
     "output_type": "stream",
     "text": [
      "Time for TabularNN hyperparameter optimization: 25.158283948898315\n",
      "Best hyperparameter configuration for Tabular Neural Network: \n",
      "{'activation.choice': 2, 'dropout_prob': 0.28690403482948235, 'embedding_size_factor': 1.4725211089104118, 'layers.choice': 0, 'learning_rate': 0.007045818441005358, 'network_type.choice': 0, 'use_batchnorm.choice': 1, 'weight_decay': 3.997070603602934e-09}\n",
      "Saving agModels-predictOccupation/models/trainer.pkl\n",
      "Performance of GradientBoostClassifier_trial_0 model: 0.28661044837515426\n",
      "Performance of GradientBoostClassifier_trial_1 model: 0.2781777046482929\n",
      "Performance of GradientBoostClassifier_trial_2 model: 0.28722747840394897\n",
      "Performance of NeuralNetClassifier_trial_3 model: 0.12484574249280132\n",
      "Performance of NeuralNetClassifier_trial_4 model: 0.27426984779925956\n",
      "Performance of NeuralNetClassifier_trial_5 model: 0.14747017688194158\n",
      "Loading agModels-predictOccupation/models/GradientBoostClassifier/trial_0_model.pkl\n",
      "Loading agModels-predictOccupation/models/GradientBoostClassifier/trial_1_model.pkl\n",
      "Loading agModels-predictOccupation/models/GradientBoostClassifier/trial_2_model.pkl\n",
      "Loading agModels-predictOccupation/models/NeuralNetClassifier/trial_3_tabularNN.pkl\n",
      "Loading agModels-predictOccupation/models/NeuralNetClassifier/trial_4_tabularNN.pkl\n",
      "Loading agModels-predictOccupation/models/NeuralNetClassifier/trial_5_tabularNN.pkl\n",
      "Score of voting ensemble: 0.29874537227478404\n",
      "Loading agModels-predictOccupation/models/GradientBoostClassifier/trial_0_model.pkl\n",
      "Loading agModels-predictOccupation/models/GradientBoostClassifier/trial_1_model.pkl\n",
      "Loading agModels-predictOccupation/models/GradientBoostClassifier/trial_2_model.pkl\n",
      "Loading agModels-predictOccupation/models/NeuralNetClassifier/trial_3_tabularNN.pkl\n",
      "Loading agModels-predictOccupation/models/NeuralNetClassifier/trial_4_tabularNN.pkl\n",
      "Loading agModels-predictOccupation/models/NeuralNetClassifier/trial_5_tabularNN.pkl\n",
      "[2, 4, 0, 3, 0, 1, 3, 3, 3, 3, 3, 0, 1, 3, 4, 2, 0, 3, 3, 3, 0, 2, 4, 0, 1, 0, 0, 4, 0, 3, 3, 0, 1, 3, 0, 3, 3, 4, 2, 0, 1, 3, 0, 3, 0, 4, 3, 3, 2, 0, 1, 3, 3, 4, 2, 0, 3, 0, 3, 1, 3, 4, 0, 3, 0, 3, 0, 3, 3, 3, 3, 3, 3, 3, 3, 3, 3, 0, 2, 3, 4, 0, 1, 0, 0, 4, 2, 1, 1, 3, 3, 1, 3, 3, 3, 2, 3, 3, 3, 3]\n",
      "weights:\n",
      "[0.24 0.11 0.09 0.46 0.1  0.  ]\n",
      "Loading agModels-predictOccupation/models/GradientBoostClassifier/trial_0_model.pkl\n",
      "Loading agModels-predictOccupation/models/GradientBoostClassifier/trial_1_model.pkl\n",
      "Loading agModels-predictOccupation/models/GradientBoostClassifier/trial_2_model.pkl\n",
      "Loading agModels-predictOccupation/models/NeuralNetClassifier/trial_3_tabularNN.pkl\n",
      "Loading agModels-predictOccupation/models/NeuralNetClassifier/trial_4_tabularNN.pkl\n",
      "Score of weighted ensemble: 0.3016248457424928\n",
      "optimal weights: [0.24 0.11 0.09 0.46 0.1  0.  ]\n",
      "Saving agModels-predictOccupation/models/trainer.pkl\n",
      "Saving agModels-predictOccupation/models/trainer.pkl\n"
     ]
    },
    {
     "data": {
      "image/png": "[encoded data removed]",
      "text/plain": [
       "<Figure size 432x288 with 1 Axes>"
      ]
     },
     "metadata": {
      "needs_background": "light"
     },
     "output_type": "display_data"
    }
   ],
   "source": [
    "hyperparameter_tune = True # whether or not to do hyperparameter optimization\n",
    "\n",
    "nn_options = { # specifies non-default hyperparameter values for neural network models\n",
    "    'num_epochs': 10, # number of training epochs (controls training time of NN models)\n",
    "    'learning_rate': ag.space.Real(1e-4, 1e-2, default=5e-4, log=True), # learning rate used in training (real-valued hyperparameter searched on log-scale)\n",
    "    'activation': ag.space.Categorical('relu', 'softrelu', 'tanh'), # activation function used in NN (categorical hyperparameter, default = first entry)\n",
    "    'layers': ag.space.Categorical([100],[1000],[200,100],[300,200,100],[400,300,200,100],[400]*3), \n",
    "      # Each choice for categorical hyperparameter 'layers' corresponds to list of sizes for each NN layer (length of list determines # of hidden layers)\n",
    "    'dropout_prob': ag.space.Real(0.0, 0.5, default=0.1), # dropout probability (real-valued hyperparameter)\n",
    "}\n",
    "\n",
    "gbm_options = { # specifies non-default hyperparameter values for gradient boosted tree models\n",
    "    'num_boost_round': 100, # number of boosting rounds (controls training time of GBM models)\n",
    "    'num_leaves': ag.space.Int(lower=26, upper=66, default=36), # number of leaves in trees (integer hyperparameter)\n",
    "}\n",
    "\n",
    "hyperparameters = {'NN': nn_options, 'GBM': gbm_options} # hyperparameters of each model type\n",
    "# If one of these keys is missing from hyperparameters dict, then no models of that type are trained.\n",
    "\n",
    "feature_prune = False # whether or not to perform feature selection (fit may take a while if True)\n",
    "time_limits = 2*60 # train various models for under ~2 min\n",
    "num_trials = 3 # try at most 3 different hyperparameter configurations for each type of model\n",
    "nthreads_per_trial = 1 # use this many CPU threads per training trial (ie. evaluation of one hyperparameter configuration)\n",
    "search_strategy = 'skopt' # to tune hyperparameters using SKopt Bayesian optimization routine\n",
    "output_directory = 'agModels-predictOccupation' # folder where to store trained models\n",
    "\n",
    "predictor = task.fit(train_data=train_data, tuning_data=val_data, label=label_column, output_directory=output_directory, \n",
    "                     time_limits=time_limits, num_trials=num_trials, nthreads_per_trial=nthreads_per_trial,\n",
    "                     hyperparameter_tune=hyperparameter_tune, feature_prune=feature_prune,\n",
    "                     hyperparameters=hyperparameters, search_strategy=search_strategy)"
   ]
  },
  {
   "cell_type": "markdown",
   "metadata": {},
   "source": [
    "For posteriority, we again demonstrate how to use the trained models to predict on the validation data. We caution again that performance estimates from this data may be biased since it was used to tune hyperparameters."
   ]
  },
  {
   "cell_type": "code",
   "execution_count": 3,
   "metadata": {},
   "outputs": [
    {
     "name": "stdout",
     "output_type": "stream",
     "text": [
      "Loading agModels-predictOccupation/learner.pkl\n",
      "Loading agModels-predictOccupation/models/trainer.pkl\n",
      "Total time taken in :  transform 0.024589061737060547\n",
      "Loading agModels-predictOccupation/models/GradientBoostClassifier/trial_0_model.pkl\n",
      "Loading agModels-predictOccupation/models/GradientBoostClassifier/trial_1_model.pkl\n",
      "Loading agModels-predictOccupation/models/GradientBoostClassifier/trial_2_model.pkl\n",
      "Loading agModels-predictOccupation/models/NeuralNetClassifier/trial_3_tabularNN.pkl\n",
      "Loading agModels-predictOccupation/models/NeuralNetClassifier/trial_4_tabularNN.pkl\n",
      "Predictions:   [' Other-service', ' ?', ' Exec-managerial', ' Sales', ' Other-service']\n",
      "Actual labels:   [' Sales', ' Sales', ' Exec-managerial', ' Exec-managerial', ' Prof-specialty']\n",
      "Evaluation: accuracy on test data: 0.300235\n",
      "Evaluations on test data:\n",
      "{\n",
      "    \"accuracy\": 0.30023543863240865,\n",
      "    \"accuracy_score\": 0.30023543863240865,\n",
      "    \"balanced_accuracy_score\": 0.18372250541688587,\n",
      "    \"matthews_corrcoef\": 0.21228170777356578\n",
      "}\n",
      "Detailed (per-class) classification report:\n",
      "{\n",
      "    \" ?\": {\n",
      "        \"precision\": 0.4755877034358047,\n",
      "        \"recall\": 0.4465195246179966,\n",
      "        \"f1-score\": 0.4605954465849387,\n",
      "        \"support\": 589\n",
      "    },\n",
      "    \" Adm-clerical\": {\n",
      "        \"precision\": 0.2879399884593191,\n",
      "        \"recall\": 0.43017241379310345,\n",
      "        \"f1-score\": 0.34497061873487733,\n",
      "        \"support\": 1160\n",
      "    },\n",
      "    \" Armed-Forces\": {\n",
      "        \"precision\": 0.0,\n",
      "        \"recall\": 0.0,\n",
      "        \"f1-score\": 0.0,\n",
      "        \"support\": 2\n",
      "    },\n",
      "    \" Craft-repair\": {\n",
      "        \"precision\": 0.2865995352439969,\n",
      "        \"recall\": 0.5794831636648394,\n",
      "        \"f1-score\": 0.3835190463850738,\n",
      "        \"support\": 1277\n",
      "    },\n",
      "    \" Exec-managerial\": {\n",
      "        \"precision\": 0.2588126159554731,\n",
      "        \"recall\": 0.4449760765550239,\n",
      "        \"f1-score\": 0.32727272727272727,\n",
      "        \"support\": 1254\n",
      "    },\n",
      "    \" Farming-fishing\": {\n",
      "        \"precision\": 0.5833333333333334,\n",
      "        \"recall\": 0.027131782945736434,\n",
      "        \"f1-score\": 0.05185185185185184,\n",
      "        \"support\": 258\n",
      "    },\n",
      "    \" Handlers-cleaners\": {\n",
      "        \"precision\": 0.0,\n",
      "        \"recall\": 0.0,\n",
      "        \"f1-score\": 0.0,\n",
      "        \"support\": 411\n",
      "    },\n",
      "    \" Machine-op-inspct\": {\n",
      "        \"precision\": 0.19863013698630136,\n",
      "        \"recall\": 0.047775947281713346,\n",
      "        \"f1-score\": 0.07702523240371846,\n",
      "        \"support\": 607\n",
      "    },\n",
      "    \" Other-service\": {\n",
      "        \"precision\": 0.2801664355062413,\n",
      "        \"recall\": 0.21908893709327548,\n",
      "        \"f1-score\": 0.24589166159464393,\n",
      "        \"support\": 922\n",
      "    },\n",
      "    \" Priv-house-serv\": {\n",
      "        \"precision\": 0.0,\n",
      "        \"recall\": 0.0,\n",
      "        \"f1-score\": 0.0,\n",
      "        \"support\": 43\n",
      "    },\n",
      "    \" Prof-specialty\": {\n",
      "        \"precision\": 0.4320585842148088,\n",
      "        \"recall\": 0.43417825020441536,\n",
      "        \"f1-score\": 0.433115823817292,\n",
      "        \"support\": 1223\n",
      "    },\n",
      "    \" Protective-serv\": {\n",
      "        \"precision\": 0.0,\n",
      "        \"recall\": 0.0,\n",
      "        \"f1-score\": 0.0,\n",
      "        \"support\": 210\n",
      "    },\n",
      "    \" Sales\": {\n",
      "        \"precision\": 0.15708812260536398,\n",
      "        \"recall\": 0.07735849056603773,\n",
      "        \"f1-score\": 0.10366624525916561,\n",
      "        \"support\": 1060\n",
      "    },\n",
      "    \" Tech-support\": {\n",
      "        \"precision\": 0.2,\n",
      "        \"recall\": 0.003401360544217687,\n",
      "        \"f1-score\": 0.006688963210702341,\n",
      "        \"support\": 294\n",
      "    },\n",
      "    \" Transport-moving\": {\n",
      "        \"precision\": 0.22580645161290322,\n",
      "        \"recall\": 0.0457516339869281,\n",
      "        \"f1-score\": 0.07608695652173914,\n",
      "        \"support\": 459\n",
      "    },\n",
      "    \"accuracy\": 0.30023543863240865,\n",
      "    \"macro avg\": {\n",
      "        \"precision\": 0.2257348604902364,\n",
      "        \"recall\": 0.18372250541688587,\n",
      "        \"f1-score\": 0.16737897157578202,\n",
      "        \"support\": 9769\n",
      "    },\n",
      "    \"weighted avg\": {\n",
      "        \"precision\": 0.2755060228565263,\n",
      "        \"recall\": 0.30023543863240865,\n",
      "        \"f1-score\": 0.25948735843714926,\n",
      "        \"support\": 9769\n",
      "    }\n",
      "}\n"
     ]
    },
    {
     "name": "stderr",
     "output_type": "stream",
     "text": [
      "/Users/jonasmue/virtual/ag/lib/python3.7/site-packages/sklearn/metrics/classification.py:1437: UndefinedMetricWarning: Precision and F-score are ill-defined and being set to 0.0 in labels with no predicted samples.\n",
      "  'precision', 'predicted', average, warn_for)\n"
     ]
    }
   ],
   "source": [
    "test_data = val_data.copy()\n",
    "y_test = test_data[label_column]\n",
    "test_data = test_data.drop(labels=[label_column],axis=1) # delete label column to prove we are not cheating\n",
    "\n",
    "predictor = task.load(output_directory) # unnecessary, just demonstrates how to load previously-trained predictor from file\n",
    "\n",
    "y_pred = predictor.predict(test_data)\n",
    "print(\"Predictions:  \", list(y_pred)[:5])\n",
    "print(\"Actual labels:  \", list(y_test)[:5])\n",
    "perf = predictor.evaluate(y_true=y_test, y_pred=y_pred, auxiliary_metrics=True)"
   ]
  },
  {
   "cell_type": "markdown",
   "metadata": {},
   "source": [
    "`predictor` can also make a prediction on just an individual example rather than a full dataset:"
   ]
  },
  {
   "cell_type": "code",
   "execution_count": 4,
   "metadata": {},
   "outputs": [
    {
     "name": "stdout",
     "output_type": "stream",
     "text": [
      "   age workclass  fnlwgt education  education-num       marital-status  \\\n",
      "0   31   Private  169085      11th              7   Married-civ-spouse   \n",
      "\n",
      "  relationship    race      sex  capital-gain  capital-loss  hours-per-week  \\\n",
      "0         Wife   White   Female             0             0              20   \n",
      "\n",
      "   native-country   class  \n",
      "0   United-States   <=50K  \n",
      "Loading agModels-predictOccupation/models/trainer.pkl\n",
      "Total time taken in :  transform 0.031119108200073242\n",
      "Loading agModels-predictOccupation/models/GradientBoostClassifier/trial_0_model.pkl\n",
      "Loading agModels-predictOccupation/models/GradientBoostClassifier/trial_1_model.pkl\n",
      "Loading agModels-predictOccupation/models/GradientBoostClassifier/trial_2_model.pkl\n",
      "Loading agModels-predictOccupation/models/NeuralNetClassifier/trial_3_tabularNN.pkl\n",
      "Loading agModels-predictOccupation/models/NeuralNetClassifier/trial_4_tabularNN.pkl\n"
     ]
    }
   ],
   "source": [
    "datapoint = test_data.iloc[[0]] # Note: .iloc[0] will not work because it returns pandas Series instead of DataFrame\n",
    "print(datapoint)\n",
    "y_pred = predictor.predict(datapoint)"
   ]
  },
  {
   "cell_type": "markdown",
   "metadata": {},
   "source": [
    "In the above example, the predictive performance may be poor because we specified very little training to ensure quick runtimes.  You can call `fit()` multiple times playing with the above settings to better understand how these choices affect things."
   ]
  },
  {
   "cell_type": "markdown",
   "metadata": {},
   "source": [
    "Finally, don't forget to shutdown AutoGluon's remote workers:"
   ]
  },
  {
   "cell_type": "code",
   "execution_count": 5,
   "metadata": {},
   "outputs": [],
   "source": [
    "ag.done()"
   ]
  },
  {
   "cell_type": "markdown",
   "metadata": {},
   "source": [
    "**TODO**: Show plots summarizing fit(). Include detailed description of the HPO process dump in trainer.hpo_results"
   ]
  }
 ],
 "metadata": {
  "kernelspec": {
   "display_name": "ag",
   "language": "python",
   "name": "ag"
  },
  "language_info": {
   "codemirror_mode": {
    "name": "ipython",
    "version": 3
   },
   "file_extension": ".py",
   "mimetype": "text/x-python",
   "name": "python",
   "nbconvert_exporter": "python",
   "pygments_lexer": "ipython3",
   "version": "3.7.5"
  }
 },
 "nbformat": 4,
 "nbformat_minor": 2
}
