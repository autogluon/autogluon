{
 "cells": [
  {
   "cell_type": "markdown",
   "id": "9b743f9e",
   "metadata": {},
   "source": [
    "# Kaggle Competition \n",
    "\n",
    "This tutorial walk you through using AutoGluon to participant [Kaggle competition](https://www.kaggle.com/). Let's start with the most basic way: download data, fit, submit results. We will use the [IEEE-CIS Fraud Detection](https://www.kaggle.com/c/ieee-fraud-detection/) as the example. \n",
    "\n",
    "First, join the competition to download Kaggle dataset. You can either click the download button on its website or use its [API](https://www.kaggle.com/docs/api). For the latter, once you installed `kaggle` and configured your credential, you can download through "
   ]
  },
  {
   "cell_type": "code",
   "execution_count": 11,
   "id": "474d97c6",
   "metadata": {
    "ExecuteTime": {
     "end_time": "2022-07-14T04:31:23.569674Z",
     "start_time": "2022-07-14T04:31:13.368180Z"
    }
   },
   "outputs": [
    {
     "name": "stdout",
     "output_type": "stream",
     "text": [
      "ieee-fraud-detection.zip: Skipping, found more recently modified local copy (use --force to force download)\n",
      "Archive:  ieee-fraud-detection.zip\n",
      "  inflating: sample_submission.csv   \n",
      "  inflating: test_identity.csv       \n",
      "  inflating: test_transaction.csv    \n",
      "  inflating: train_identity.csv      \n",
      "  inflating: train_transaction.csv   \n",
      "sample_submission.csv  test_transaction.csv  train_transaction.csv\n",
      "test_identity.csv      train_identity.csv\n"
     ]
    }
   ],
   "source": [
    "!kaggle competitions download -c ieee-fraud-detection \n",
    "!unzip -o ieee-fraud-detection.zip"
   ]
  },
  {
   "cell_type": "markdown",
   "id": "e2dddace",
   "metadata": {},
   "source": [
    "Then let's load the data. Since the training data for this competition is comprised of multiple CSV files, we need to join them into a single large table."
   ]
  },
  {
   "cell_type": "code",
   "execution_count": 13,
   "id": "5a751714",
   "metadata": {
    "ExecuteTime": {
     "end_time": "2022-07-14T04:34:08.042801Z",
     "start_time": "2022-07-14T04:33:33.812702Z"
    }
   },
   "outputs": [
    {
     "data": {
      "text/plain": [
       "(590540, 434)"
      ]
     },
     "execution_count": 13,
     "metadata": {},
     "output_type": "execute_result"
    }
   ],
   "source": [
    "import pandas as pd\n",
    "import numpy as np\n",
    "from autogluon.tabular import TabularPredictor\n",
    "\n",
    "label = 'isFraud'  # name of target variable to predict.\n",
    "eval_metric = 'roc_auc'  # Optional: the competition evaluation metric is AUC\n",
    "\n",
    "train_identity = pd.read_csv('train_identity.csv')\n",
    "train_transaction = pd.read_csv('train_transaction.csv')\n",
    "train_data = pd.merge(train_transaction, train_identity, on='TransactionID', how='left')\n",
    "train_data.shape"
   ]
  },
  {
   "cell_type": "markdown",
   "id": "b06aec7a",
   "metadata": {},
   "source": [
    "Note that a left-join on the `TransactionID` key is appropriate for this dataset. For others involving multiple tables, you likely need to use a different join strategy. It could be time-consuming. Unfortunately AutoGluon cannot automatically do it for you yet. \n",
    "\n",
    "Now we train our model with `best_quality`. For demo purpose, we limit the training time to be 5 minutes. You need to change it to a larger number, e.g. 1 hour, to get high quality predictions."
   ]
  },
  {
   "cell_type": "code",
   "execution_count": 16,
   "id": "67a6a3c9",
   "metadata": {
    "ExecuteTime": {
     "end_time": "2022-07-14T04:41:05.628568Z",
     "start_time": "2022-07-14T04:35:53.836808Z"
    },
    "collapsed": true
   },
   "outputs": [
    {
     "name": "stderr",
     "output_type": "stream",
     "text": [
      "No path specified. Models will be saved in: \"AutogluonModels/ag-20220714_043553/\"\n",
      "Presets specified: ['best_quality']\n",
      "Beginning AutoGluon training ... Time limit = 300s\n",
      "AutoGluon will save models to \"AutogluonModels/ag-20220714_043553/\"\n",
      "AutoGluon Version:  0.5.0\n",
      "Python Version:     3.9.12\n",
      "Operating System:   Linux\n",
      "Train Data Rows:    590540\n",
      "Train Data Columns: 433\n",
      "Label Column: isFraud\n",
      "Preprocessing data ...\n",
      "AutoGluon infers your prediction problem is: 'binary' (because only two unique label-values observed).\n",
      "\t2 unique label values:  [0, 1]\n",
      "\tIf 'binary' is not the correct problem_type, please manually specify the problem_type parameter during predictor init (You may specify problem_type as one of: ['binary', 'multiclass', 'regression'])\n",
      "Selected class <--> label mapping:  class 1 = 1, class 0 = 0\n",
      "Using Feature Generators to preprocess the data ...\n",
      "Fitting AutoMLPipelineFeatureGenerator...\n",
      "\tAvailable Memory:                    230786.61 MB\n",
      "\tTrain Data (Original)  Memory Usage: 2715.97 MB (1.2% of available memory)\n",
      "\tInferring data type of each feature based on column values. Set feature_metadata_in to manually specify special dtypes of the features.\n",
      "\tStage 1 Generators:\n",
      "\t\tFitting AsTypeFeatureGenerator...\n",
      "\tStage 2 Generators:\n",
      "\t\tFitting FillNaFeatureGenerator...\n",
      "\tStage 3 Generators:\n",
      "\t\tFitting IdentityFeatureGenerator...\n",
      "\t\tFitting CategoryFeatureGenerator...\n",
      "\t\t\tFitting CategoryMemoryMinimizeFeatureGenerator...\n",
      "\tStage 4 Generators:\n",
      "\t\tFitting DropUniqueFeatureGenerator...\n",
      "\tTypes of features in original data (raw dtype, special dtypes):\n",
      "\t\t('float', [])  : 399 | ['TransactionAmt', 'card2', 'card3', 'card5', 'addr1', ...]\n",
      "\t\t('int', [])    :   3 | ['TransactionID', 'TransactionDT', 'card1']\n",
      "\t\t('object', []) :  31 | ['ProductCD', 'card4', 'card6', 'P_emaildomain', 'R_emaildomain', ...]\n",
      "\tTypes of features in processed data (raw dtype, special dtypes):\n",
      "\t\t('category', []) :  31 | ['ProductCD', 'card4', 'card6', 'P_emaildomain', 'R_emaildomain', ...]\n",
      "\t\t('float', [])    : 399 | ['TransactionAmt', 'card2', 'card3', 'card5', 'addr1', ...]\n",
      "\t\t('int', [])      :   3 | ['TransactionID', 'TransactionDT', 'card1']\n",
      "\t35.2s = Fit runtime\n",
      "\t433 features in original data used to generate 433 features in processed data.\n",
      "\tTrain Data (Processed) Memory Usage: 1918.68 MB (0.8% of available memory)\n",
      "Data preprocessing and feature engineering runtime = 44.39s ...\n",
      "AutoGluon will gauge predictive performance using evaluation metric: 'roc_auc'\n",
      "\tThis metric expects predicted probabilities rather than predicted class labels, so you'll need to use predict_proba() instead of predict()\n",
      "\tTo change this, specify the eval_metric parameter of Predictor()\n",
      "AutoGluon will fit 2 stack levels (L1 to L2) ...\n",
      "Fitting 13 L1 models ...\n",
      "Fitting model: KNeighborsUnif_BAG_L1 ... Training model for up to 170.37s of the 255.61s of remaining time.\n",
      "\tNot enough time to generate out-of-fold predictions for model. Estimated time required was 23276.77s compared to 207.34s of available time.\n",
      "\tTime limit exceeded... Skipping KNeighborsUnif_BAG_L1.\n",
      "Fitting model: KNeighborsDist_BAG_L1 ... Training model for up to 132.9s of the 218.15s of remaining time.\n",
      "\tNot enough time to generate out-of-fold predictions for model. Estimated time required was 21724.06s compared to 158.73s of available time.\n",
      "\tTime limit exceeded... Skipping KNeighborsDist_BAG_L1.\n",
      "Fitting model: LightGBMXT_BAG_L1 ... Training model for up to 96.84s of the 182.08s of remaining time.\n",
      "\tFitting 8 child models (S1F1 - S1F8) | Fitting with ParallelLocalFoldFittingStrategy\n",
      "\t0.9289\t = Validation score   (roc_auc)\n",
      "\t76.61s\t = Training   runtime\n",
      "\t14.41s\t = Validation runtime\n",
      "Fitting model: LightGBM_BAG_L1 ... Training model for up to 3.57s of the 88.81s of remaining time.\n",
      "\tFitting 8 child models (S1F1 - S1F8) | Fitting with ParallelLocalFoldFittingStrategy\n",
      "\tTime limit exceeded... Skipping LightGBM_BAG_L1.\n",
      "Completed 1/20 k-fold bagging repeats ...\n",
      "Fitting model: WeightedEnsemble_L2 ... Training model for up to 255.61s of the 76.19s of remaining time.\n",
      "\t0.9289\t = Validation score   (roc_auc)\n",
      "\t0.18s\t = Training   runtime\n",
      "\t0.18s\t = Validation runtime\n",
      "Fitting 11 L2 models ...\n",
      "Fitting model: LightGBMXT_BAG_L2 ... Training model for up to 75.8s of the 71.4s of remaining time.\n",
      "\tFitting 8 child models (S1F1 - S1F8) | Fitting with ParallelLocalFoldFittingStrategy\n",
      "\t0.9394\t = Validation score   (roc_auc)\n",
      "\t64.2s\t = Training   runtime\n",
      "\t10.76s\t = Validation runtime\n",
      "Completed 1/20 k-fold bagging repeats ...\n",
      "Fitting model: WeightedEnsemble_L3 ... Training model for up to 255.61s of the -8.57s of remaining time.\n",
      "\t0.9394\t = Validation score   (roc_auc)\n",
      "\t0.18s\t = Training   runtime\n",
      "\t0.18s\t = Validation runtime\n",
      "AutoGluon training complete, total runtime = 311.67s ... Best model: \"WeightedEnsemble_L3\"\n",
      "TabularPredictor saved. To load, use: predictor = TabularPredictor.load(\"AutogluonModels/ag-20220714_043553/\")\n"
     ]
    }
   ],
   "source": [
    "predictor = TabularPredictor(label=label, eval_metric=eval_metric).fit(\n",
    "    train_data, presets='best_quality', time_limit=300)"
   ]
  },
  {
   "cell_type": "markdown",
   "id": "2f86f21f",
   "metadata": {},
   "source": [
    "We load and join test example as the training data. But column names starts with `id_` (e.g. `id_01`) are changed to `id-` (e.g. `id-01`) in the test data. We rename them to match the training data names."
   ]
  },
  {
   "cell_type": "code",
   "execution_count": null,
   "id": "2a5c74b6",
   "metadata": {
    "ExecuteTime": {
     "start_time": "2022-07-14T04:56:57.226Z"
    }
   },
   "outputs": [],
   "source": [
    "test_identity = pd.read_csv('test_identity.csv')\n",
    "test_transaction = pd.read_csv('test_transaction.csv')\n",
    "test_data = pd.merge(test_transaction, test_identity, on='TransactionID', how='left')\n",
    "rename = {c : c.replace('-', '_') for c in test_data.columns if c.startswith('id')}\n",
    "test_data.rename(columns=rename, inplace=True)"
   ]
  },
  {
   "cell_type": "markdown",
   "id": "acf768ca",
   "metadata": {
    "ExecuteTime": {
     "end_time": "2022-07-14T04:53:28.640618Z",
     "start_time": "2022-07-14T04:53:28.636230Z"
    }
   },
   "source": [
    "Now let's predict. As this competition requires us to submit the predicted probabilities for the positive class. We use `predict_proba` to obtain these probabilities. "
   ]
  },
  {
   "cell_type": "code",
   "execution_count": 45,
   "id": "6457a7a2",
   "metadata": {
    "ExecuteTime": {
     "end_time": "2022-07-14T04:56:09.578161Z",
     "start_time": "2022-07-14T04:53:41.715261Z"
    }
   },
   "outputs": [
    {
     "data": {
      "text/plain": [
       "0    0.002866\n",
       "1    0.002976\n",
       "2    0.005579\n",
       "3    0.002728\n",
       "4    0.003901\n",
       "Name: isFraud, dtype: float32"
      ]
     },
     "execution_count": 45,
     "metadata": {},
     "output_type": "execute_result"
    }
   ],
   "source": [
    "y_pred = predictor.predict_proba(test_data, as_multiclass=False)\n",
    "y_pred.head(5)"
   ]
  },
  {
   "cell_type": "markdown",
   "id": "11a1a282",
   "metadata": {},
   "source": [
    "Note we set `as_multiclass=False` to indicate it's binary classification to only return the positive class probabilities. In default it will return a table, each column stores the probabilities for a class label. \n",
    "\n",
    "Last, we prepare the submission. "
   ]
  },
  {
   "cell_type": "code",
   "execution_count": 48,
   "id": "0dcab2d9",
   "metadata": {
    "ExecuteTime": {
     "end_time": "2022-07-14T04:56:44.937490Z",
     "start_time": "2022-07-14T04:56:43.886761Z"
    }
   },
   "outputs": [],
   "source": [
    "submission = pd.read_csv('sample_submission.csv')\n",
    "submission['isFraud'] = y_pred\n",
    "submission.to_csv('my_submission.csv', index=False)"
   ]
  },
  {
   "cell_type": "markdown",
   "id": "f56a6e90",
   "metadata": {},
   "source": [
    "You can submit through the competition page, or using the following command"
   ]
  },
  {
   "cell_type": "code",
   "execution_count": null,
   "id": "fe2e3846",
   "metadata": {},
   "outputs": [],
   "source": [
    "!kaggle competitions submit -c ieee-fraud-detection -f my_submission.csv -m \"my first submission\""
   ]
  },
  {
   "cell_type": "markdown",
   "id": "978cc73e",
   "metadata": {},
   "source": [
    "Now we went through how to use AutoGluon to participant a Kaggle competition. Often the `best_quality` preset will you reasonable results, but unlikely win the competition. To improve your results, you can \n",
    "\n",
    "1. tuning hyperparameters, refer to {doc}`./model_hyperparameters`\n",
    "1. do more feature engineering (TODO, ref)\n",
    "1. add custom models, refer to {doc}`./custom_model`\n",
    "\n",
    "```{seealso}\n",
    "Check Kaggle kernels that use AutoGluon (TODO, links). \n",
    "\n",
    "Please add your AutoGluon-based Kaggle kernels here.\n",
    "```"
   ]
  }
 ],
 "metadata": {
  "kernelspec": {
   "display_name": "Python 3 (ipykernel)",
   "language": "python",
   "name": "python3"
  },
  "language_info": {
   "codemirror_mode": {
    "name": "ipython",
    "version": 3
   },
   "file_extension": ".py",
   "mimetype": "text/x-python",
   "name": "python",
   "nbconvert_exporter": "python",
   "pygments_lexer": "ipython3",
   "version": "3.9.12"
  },
  "toc": {
   "base_numbering": 1,
   "nav_menu": {},
   "number_sections": true,
   "sideBar": true,
   "skip_h1_title": true,
   "title_cell": "Table of Contents",
   "title_sidebar": "Contents",
   "toc_cell": false,
   "toc_position": {},
   "toc_section_display": true,
   "toc_window_display": false
  }
 },
 "nbformat": 4,
 "nbformat_minor": 5
}
