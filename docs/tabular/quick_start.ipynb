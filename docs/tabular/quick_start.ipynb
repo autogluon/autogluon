{
 "cells": [
  {
   "cell_type": "markdown",
   "metadata": {
    "id": "zcGYEaIQKiql"
   },
   "source": [
    "# Tabluar Prediction\n",
    "\n",
    "[![Open In Colab](https://colab.research.google.com/assets/colab-badge.svg)](https://colab.research.google.com/github/mli/ag-docs/blob/main/get_started/tabular_quick_start.ipynb)\n",
    "\n",
    "\n",
    "In a tabular prediction task, we predict the values in a column based on the rest columns' values. This tutorial demonstrates how to use AutoGluon for this task. \n",
    "\n",
    "To start, import the {class}`autogluon.tabular.TabularDataset` and \n",
    "{class}`autogluon.tabular.TabularPredictor` classes. We will use the former to load data and the latter to train models and predict. \n",
    "\n"
   ]
  },
  {
   "cell_type": "code",
   "execution_count": 2,
   "metadata": {
    "ExecuteTime": {
     "end_time": "2022-07-09T04:46:27.980581Z",
     "start_time": "2022-07-09T04:46:22.414086Z"
    },
    "colab": {
     "base_uri": "https://localhost:8080/"
    },
    "collapsed": true,
    "id": "ppnLJmzsKYu5",
    "outputId": "34540c95-cc34-4f59-a888-b19e870fb6ca"
   },
   "outputs": [
    {
     "name": "stdout",
     "output_type": "stream",
     "text": [
      "Requirement already satisfied: autogluon==0.5.0 in /home/ubuntu/miniconda3/envs/ag/lib/python3.9/site-packages (0.5.0)\n",
      "Requirement already satisfied: autogluon.timeseries[all]==0.5.0 in /home/ubuntu/miniconda3/envs/ag/lib/python3.9/site-packages (from autogluon==0.5.0) (0.5.0)\n",
      "Requirement already satisfied: autogluon.core[all]==0.5.0 in /home/ubuntu/miniconda3/envs/ag/lib/python3.9/site-packages (from autogluon==0.5.0) (0.5.0)\n",
      "Requirement already satisfied: autogluon.features==0.5.0 in /home/ubuntu/miniconda3/envs/ag/lib/python3.9/site-packages (from autogluon==0.5.0) (0.5.0)\n",
      "Requirement already satisfied: autogluon.multimodal==0.5.0 in /home/ubuntu/miniconda3/envs/ag/lib/python3.9/site-packages (from autogluon==0.5.0) (0.5.0)\n",
      "Requirement already satisfied: autogluon.vision==0.5.0 in /home/ubuntu/miniconda3/envs/ag/lib/python3.9/site-packages (from autogluon==0.5.0) (0.5.0)\n",
      "Requirement already satisfied: autogluon.tabular[all]==0.5.0 in /home/ubuntu/miniconda3/envs/ag/lib/python3.9/site-packages (from autogluon==0.5.0) (0.5.0)\n",
      "Requirement already satisfied: autogluon.text==0.5.0 in /home/ubuntu/miniconda3/envs/ag/lib/python3.9/site-packages (from autogluon==0.5.0) (0.5.0)\n",
      "Requirement already satisfied: dask<=2021.11.2,>=2021.09.1 in /home/ubuntu/miniconda3/envs/ag/lib/python3.9/site-packages (from autogluon.core[all]==0.5.0->autogluon==0.5.0) (2021.11.2)\n",
      "Requirement already satisfied: distributed<=2021.11.2,>=2021.09.1 in /home/ubuntu/miniconda3/envs/ag/lib/python3.9/site-packages (from autogluon.core[all]==0.5.0->autogluon==0.5.0) (2021.11.2)\n",
      "Requirement already satisfied: scipy<1.8.0,>=1.5.4 in /home/ubuntu/miniconda3/envs/ag/lib/python3.9/site-packages (from autogluon.core[all]==0.5.0->autogluon==0.5.0) (1.7.3)\n",
      "Requirement already satisfied: pandas!=1.4.0,<1.5,>=1.2.5 in /home/ubuntu/miniconda3/envs/ag/lib/python3.9/site-packages (from autogluon.core[all]==0.5.0->autogluon==0.5.0) (1.4.3)\n",
      "Requirement already satisfied: boto3 in /home/ubuntu/miniconda3/envs/ag/lib/python3.9/site-packages (from autogluon.core[all]==0.5.0->autogluon==0.5.0) (1.24.26)\n",
      "Requirement already satisfied: numpy<1.23,>=1.21 in /home/ubuntu/miniconda3/envs/ag/lib/python3.9/site-packages (from autogluon.core[all]==0.5.0->autogluon==0.5.0) (1.21.6)\n",
      "Requirement already satisfied: tqdm>=4.38.0 in /home/ubuntu/miniconda3/envs/ag/lib/python3.9/site-packages (from autogluon.core[all]==0.5.0->autogluon==0.5.0) (4.64.0)\n",
      "Requirement already satisfied: scikit-learn<1.1,>=1.0.0 in /home/ubuntu/miniconda3/envs/ag/lib/python3.9/site-packages (from autogluon.core[all]==0.5.0->autogluon==0.5.0) (1.0.2)\n",
      "Requirement already satisfied: requests in /home/ubuntu/miniconda3/envs/ag/lib/python3.9/site-packages (from autogluon.core[all]==0.5.0->autogluon==0.5.0) (2.28.1)\n",
      "Requirement already satisfied: matplotlib in /home/ubuntu/miniconda3/envs/ag/lib/python3.9/site-packages (from autogluon.core[all]==0.5.0->autogluon==0.5.0) (3.5.2)\n",
      "Requirement already satisfied: autogluon.common==0.5.0 in /home/ubuntu/miniconda3/envs/ag/lib/python3.9/site-packages (from autogluon.core[all]==0.5.0->autogluon==0.5.0) (0.5.0)\n",
      "Requirement already satisfied: ray[tune]<1.14,>=1.13 in /home/ubuntu/miniconda3/envs/ag/lib/python3.9/site-packages (from autogluon.core[all]==0.5.0->autogluon==0.5.0) (1.13.0)\n",
      "Requirement already satisfied: hyperopt<0.2.8,>=0.2.7 in /home/ubuntu/miniconda3/envs/ag/lib/python3.9/site-packages (from autogluon.core[all]==0.5.0->autogluon==0.5.0) (0.2.7)\n",
      "Requirement already satisfied: psutil<6,>=5.7.3 in /home/ubuntu/miniconda3/envs/ag/lib/python3.9/site-packages (from autogluon.features==0.5.0->autogluon==0.5.0) (5.8.0)\n",
      "Requirement already satisfied: autogluon-contrib-nlp==0.0.1b20220208 in /home/ubuntu/miniconda3/envs/ag/lib/python3.9/site-packages (from autogluon.multimodal==0.5.0->autogluon==0.5.0) (0.0.1b20220208)\n",
      "Requirement already satisfied: pytorch-lightning<1.7.0,>=1.5.10 in /home/ubuntu/miniconda3/envs/ag/lib/python3.9/site-packages (from autogluon.multimodal==0.5.0->autogluon==0.5.0) (1.6.4)\n",
      "Requirement already satisfied: smart-open<5.3.0,>=5.2.1 in /home/ubuntu/miniconda3/envs/ag/lib/python3.9/site-packages (from autogluon.multimodal==0.5.0->autogluon==0.5.0) (5.2.1)\n",
      "Requirement already satisfied: timm<0.6.0 in /home/ubuntu/miniconda3/envs/ag/lib/python3.9/site-packages (from autogluon.multimodal==0.5.0->autogluon==0.5.0) (0.5.4)\n",
      "Requirement already satisfied: fairscale<0.5.0,>=0.4.5 in /home/ubuntu/miniconda3/envs/ag/lib/python3.9/site-packages (from autogluon.multimodal==0.5.0->autogluon==0.5.0) (0.4.6)\n",
      "Requirement already satisfied: nptyping<1.5.0,>=1.4.4 in /home/ubuntu/miniconda3/envs/ag/lib/python3.9/site-packages (from autogluon.multimodal==0.5.0->autogluon==0.5.0) (1.4.4)\n",
      "Requirement already satisfied: sentencepiece<0.2.0,>=0.1.95 in /home/ubuntu/miniconda3/envs/ag/lib/python3.9/site-packages (from autogluon.multimodal==0.5.0->autogluon==0.5.0) (0.1.95)\n",
      "Requirement already satisfied: omegaconf<2.2.0,>=2.1.1 in /home/ubuntu/miniconda3/envs/ag/lib/python3.9/site-packages (from autogluon.multimodal==0.5.0->autogluon==0.5.0) (2.1.2)\n",
      "Requirement already satisfied: pytorch-metric-learning<1.4.0,>=1.3.0 in /home/ubuntu/miniconda3/envs/ag/lib/python3.9/site-packages (from autogluon.multimodal==0.5.0->autogluon==0.5.0) (1.3.2)\n",
      "Requirement already satisfied: transformers<4.21.0,>=4.18.0 in /home/ubuntu/miniconda3/envs/ag/lib/python3.9/site-packages (from autogluon.multimodal==0.5.0->autogluon==0.5.0) (4.20.1)\n",
      "Requirement already satisfied: Pillow<9.1.0,>=9.0.1 in /home/ubuntu/miniconda3/envs/ag/lib/python3.9/site-packages (from autogluon.multimodal==0.5.0->autogluon==0.5.0) (9.0.1)\n",
      "Requirement already satisfied: torch<1.12,>=1.0 in /home/ubuntu/miniconda3/envs/ag/lib/python3.9/site-packages (from autogluon.multimodal==0.5.0->autogluon==0.5.0) (1.11.0)\n",
      "Requirement already satisfied: scikit-image<0.20.0,>=0.19.1 in /home/ubuntu/miniconda3/envs/ag/lib/python3.9/site-packages (from autogluon.multimodal==0.5.0->autogluon==0.5.0) (0.19.3)\n",
      "Requirement already satisfied: protobuf<=3.18.1 in /home/ubuntu/miniconda3/envs/ag/lib/python3.9/site-packages (from autogluon.multimodal==0.5.0->autogluon==0.5.0) (3.18.1)\n",
      "Requirement already satisfied: nlpaug<2.0.0,>=1.1.10 in /home/ubuntu/miniconda3/envs/ag/lib/python3.9/site-packages (from autogluon.multimodal==0.5.0->autogluon==0.5.0) (1.1.11)\n",
      "Requirement already satisfied: torchmetrics<0.8.0,>=0.7.2 in /home/ubuntu/miniconda3/envs/ag/lib/python3.9/site-packages (from autogluon.multimodal==0.5.0->autogluon==0.5.0) (0.7.3)\n",
      "Requirement already satisfied: nltk<4.0.0,>=3.4.5 in /home/ubuntu/miniconda3/envs/ag/lib/python3.9/site-packages (from autogluon.multimodal==0.5.0->autogluon==0.5.0) (3.7)\n",
      "Requirement already satisfied: sacrebleu in /home/ubuntu/miniconda3/envs/ag/lib/python3.9/site-packages (from autogluon-contrib-nlp==0.0.1b20220208->autogluon.multimodal==0.5.0->autogluon==0.5.0) (2.1.0)\n",
      "Requirement already satisfied: sacremoses>=0.0.38 in /home/ubuntu/miniconda3/envs/ag/lib/python3.9/site-packages (from autogluon-contrib-nlp==0.0.1b20220208->autogluon.multimodal==0.5.0->autogluon==0.5.0) (0.0.53)\n",
      "Requirement already satisfied: tokenizers>=0.9.4 in /home/ubuntu/miniconda3/envs/ag/lib/python3.9/site-packages (from autogluon-contrib-nlp==0.0.1b20220208->autogluon.multimodal==0.5.0->autogluon==0.5.0) (0.12.1)\n",
      "Requirement already satisfied: pyarrow in /home/ubuntu/miniconda3/envs/ag/lib/python3.9/site-packages (from autogluon-contrib-nlp==0.0.1b20220208->autogluon.multimodal==0.5.0->autogluon==0.5.0) (8.0.0)\n",
      "Requirement already satisfied: regex in /home/ubuntu/miniconda3/envs/ag/lib/python3.9/site-packages (from autogluon-contrib-nlp==0.0.1b20220208->autogluon.multimodal==0.5.0->autogluon==0.5.0) (2022.7.9)\n",
      "Requirement already satisfied: flake8 in /home/ubuntu/miniconda3/envs/ag/lib/python3.9/site-packages (from autogluon-contrib-nlp==0.0.1b20220208->autogluon.multimodal==0.5.0->autogluon==0.5.0) (4.0.1)\n",
      "Requirement already satisfied: contextvars in /home/ubuntu/miniconda3/envs/ag/lib/python3.9/site-packages (from autogluon-contrib-nlp==0.0.1b20220208->autogluon.multimodal==0.5.0->autogluon==0.5.0) (2.4)\n",
      "Requirement already satisfied: yacs>=0.1.6 in /home/ubuntu/miniconda3/envs/ag/lib/python3.9/site-packages (from autogluon-contrib-nlp==0.0.1b20220208->autogluon.multimodal==0.5.0->autogluon==0.5.0) (0.1.8)\n",
      "\u001b[33mWARNING: autogluon-core 0.5.0 does not provide the extra 'ray-tune'\u001b[0m\n"
     ]
    },
    {
     "name": "stdout",
     "output_type": "stream",
     "text": [
      "Requirement already satisfied: networkx<3.0,>=2.3 in /home/ubuntu/miniconda3/envs/ag/lib/python3.9/site-packages (from autogluon.tabular[all]==0.5.0->autogluon==0.5.0) (2.8.4)\n",
      "Requirement already satisfied: fastai<2.6,>=2.3.1 in /home/ubuntu/miniconda3/envs/ag/lib/python3.9/site-packages (from autogluon.tabular[all]==0.5.0->autogluon==0.5.0) (2.5.6)\n",
      "Requirement already satisfied: catboost<1.1,>=1.0 in /home/ubuntu/miniconda3/envs/ag/lib/python3.9/site-packages (from autogluon.tabular[all]==0.5.0->autogluon==0.5.0) (1.0.6)\n",
      "Requirement already satisfied: xgboost<1.5,>=1.4 in /home/ubuntu/miniconda3/envs/ag/lib/python3.9/site-packages (from autogluon.tabular[all]==0.5.0->autogluon==0.5.0) (1.4.2)\n",
      "Requirement already satisfied: lightgbm<3.4,>=3.3 in /home/ubuntu/miniconda3/envs/ag/lib/python3.9/site-packages (from autogluon.tabular[all]==0.5.0->autogluon==0.5.0) (3.3.2)\n",
      "Requirement already satisfied: gluonts>=0.8.0 in /home/ubuntu/miniconda3/envs/ag/lib/python3.9/site-packages (from autogluon.timeseries[all]==0.5.0->autogluon==0.5.0) (0.10.1)\n",
      "Requirement already satisfied: sktime~=0.12 in /home/ubuntu/miniconda3/envs/ag/lib/python3.9/site-packages (from autogluon.timeseries[all]==0.5.0->autogluon==0.5.0) (0.12.1)\n",
      "Requirement already satisfied: pmdarima~=1.8 in /home/ubuntu/miniconda3/envs/ag/lib/python3.9/site-packages (from autogluon.timeseries[all]==0.5.0->autogluon==0.5.0) (1.8.5)\n",
      "Requirement already satisfied: tbats~=1.1 in /home/ubuntu/miniconda3/envs/ag/lib/python3.9/site-packages (from autogluon.timeseries[all]==0.5.0->autogluon==0.5.0) (1.1.0)\n",
      "Requirement already satisfied: gluoncv<0.10.6,>=0.10.5 in /home/ubuntu/miniconda3/envs/ag/lib/python3.9/site-packages (from autogluon.vision==0.5.0->autogluon==0.5.0) (0.10.5.post0)\n",
      "Requirement already satisfied: graphviz in /home/ubuntu/miniconda3/envs/ag/lib/python3.9/site-packages (from catboost<1.1,>=1.0->autogluon.tabular[all]==0.5.0->autogluon==0.5.0) (0.20)\n",
      "Requirement already satisfied: six in /home/ubuntu/miniconda3/envs/ag/lib/python3.9/site-packages (from catboost<1.1,>=1.0->autogluon.tabular[all]==0.5.0->autogluon==0.5.0) (1.16.0)\n",
      "Requirement already satisfied: plotly in /home/ubuntu/miniconda3/envs/ag/lib/python3.9/site-packages (from catboost<1.1,>=1.0->autogluon.tabular[all]==0.5.0->autogluon==0.5.0) (5.9.0)\n",
      "Requirement already satisfied: cloudpickle>=1.1.1 in /home/ubuntu/miniconda3/envs/ag/lib/python3.9/site-packages (from dask<=2021.11.2,>=2021.09.1->autogluon.core[all]==0.5.0->autogluon==0.5.0) (2.1.0)\n",
      "Requirement already satisfied: packaging>=20.0 in /home/ubuntu/miniconda3/envs/ag/lib/python3.9/site-packages (from dask<=2021.11.2,>=2021.09.1->autogluon.core[all]==0.5.0->autogluon==0.5.0) (21.3)\n",
      "Requirement already satisfied: toolz>=0.8.2 in /home/ubuntu/miniconda3/envs/ag/lib/python3.9/site-packages (from dask<=2021.11.2,>=2021.09.1->autogluon.core[all]==0.5.0->autogluon==0.5.0) (0.11.2)\n",
      "Requirement already satisfied: pyyaml in /home/ubuntu/miniconda3/envs/ag/lib/python3.9/site-packages (from dask<=2021.11.2,>=2021.09.1->autogluon.core[all]==0.5.0->autogluon==0.5.0) (6.0)\n",
      "Requirement already satisfied: partd>=0.3.10 in /home/ubuntu/miniconda3/envs/ag/lib/python3.9/site-packages (from dask<=2021.11.2,>=2021.09.1->autogluon.core[all]==0.5.0->autogluon==0.5.0) (1.2.0)\n",
      "Requirement already satisfied: fsspec>=0.6.0 in /home/ubuntu/miniconda3/envs/ag/lib/python3.9/site-packages (from dask<=2021.11.2,>=2021.09.1->autogluon.core[all]==0.5.0->autogluon==0.5.0) (2022.5.0)\n",
      "Requirement already satisfied: jinja2 in /home/ubuntu/miniconda3/envs/ag/lib/python3.9/site-packages (from distributed<=2021.11.2,>=2021.09.1->autogluon.core[all]==0.5.0->autogluon==0.5.0) (3.1.2)\n",
      "Requirement already satisfied: zict>=0.1.3 in /home/ubuntu/miniconda3/envs/ag/lib/python3.9/site-packages (from distributed<=2021.11.2,>=2021.09.1->autogluon.core[all]==0.5.0->autogluon==0.5.0) (2.2.0)\n",
      "Requirement already satisfied: tornado>=6.0.3 in /home/ubuntu/miniconda3/envs/ag/lib/python3.9/site-packages (from distributed<=2021.11.2,>=2021.09.1->autogluon.core[all]==0.5.0->autogluon==0.5.0) (6.2)\n",
      "Requirement already satisfied: tblib>=1.6.0 in /home/ubuntu/miniconda3/envs/ag/lib/python3.9/site-packages (from distributed<=2021.11.2,>=2021.09.1->autogluon.core[all]==0.5.0->autogluon==0.5.0) (1.7.0)\n",
      "Requirement already satisfied: setuptools in /home/ubuntu/miniconda3/envs/ag/lib/python3.9/site-packages (from distributed<=2021.11.2,>=2021.09.1->autogluon.core[all]==0.5.0->autogluon==0.5.0) (61.2.0)\n",
      "Requirement already satisfied: msgpack>=0.6.0 in /home/ubuntu/miniconda3/envs/ag/lib/python3.9/site-packages (from distributed<=2021.11.2,>=2021.09.1->autogluon.core[all]==0.5.0->autogluon==0.5.0) (1.0.4)\n",
      "Requirement already satisfied: click>=6.6 in /home/ubuntu/miniconda3/envs/ag/lib/python3.9/site-packages (from distributed<=2021.11.2,>=2021.09.1->autogluon.core[all]==0.5.0->autogluon==0.5.0) (8.0.4)\n",
      "Requirement already satisfied: sortedcontainers!=2.0.0,!=2.0.1 in /home/ubuntu/miniconda3/envs/ag/lib/python3.9/site-packages (from distributed<=2021.11.2,>=2021.09.1->autogluon.core[all]==0.5.0->autogluon==0.5.0) (2.4.0)\n",
      "Requirement already satisfied: fastcore<1.5,>=1.3.27 in /home/ubuntu/miniconda3/envs/ag/lib/python3.9/site-packages (from fastai<2.6,>=2.3.1->autogluon.tabular[all]==0.5.0->autogluon==0.5.0) (1.4.5)\n",
      "Requirement already satisfied: torchvision>=0.8.2 in /home/ubuntu/miniconda3/envs/ag/lib/python3.9/site-packages (from fastai<2.6,>=2.3.1->autogluon.tabular[all]==0.5.0->autogluon==0.5.0) (0.12.0)\n",
      "Requirement already satisfied: pip in /home/ubuntu/miniconda3/envs/ag/lib/python3.9/site-packages (from fastai<2.6,>=2.3.1->autogluon.tabular[all]==0.5.0->autogluon==0.5.0) (21.2.4)\n",
      "Requirement already satisfied: fastdownload<2,>=0.0.5 in /home/ubuntu/miniconda3/envs/ag/lib/python3.9/site-packages (from fastai<2.6,>=2.3.1->autogluon.tabular[all]==0.5.0->autogluon==0.5.0) (0.0.7)\n",
      "Requirement already satisfied: fastprogress>=0.2.4 in /home/ubuntu/miniconda3/envs/ag/lib/python3.9/site-packages (from fastai<2.6,>=2.3.1->autogluon.tabular[all]==0.5.0->autogluon==0.5.0) (1.0.2)\n",
      "Requirement already satisfied: spacy<4 in /home/ubuntu/miniconda3/envs/ag/lib/python3.9/site-packages (from fastai<2.6,>=2.3.1->autogluon.tabular[all]==0.5.0->autogluon==0.5.0) (3.3.1)\n",
      "Requirement already satisfied: portalocker in /home/ubuntu/miniconda3/envs/ag/lib/python3.9/site-packages (from gluoncv<0.10.6,>=0.10.5->autogluon.vision==0.5.0->autogluon==0.5.0) (2.4.0)\n",
      "Requirement already satisfied: opencv-python in /home/ubuntu/miniconda3/envs/ag/lib/python3.9/site-packages (from gluoncv<0.10.6,>=0.10.5->autogluon.vision==0.5.0->autogluon==0.5.0) (4.6.0.66)\n",
      "Requirement already satisfied: autocfg in /home/ubuntu/miniconda3/envs/ag/lib/python3.9/site-packages (from gluoncv<0.10.6,>=0.10.5->autogluon.vision==0.5.0->autogluon==0.5.0) (0.0.8)\n",
      "Requirement already satisfied: holidays>=0.9 in /home/ubuntu/miniconda3/envs/ag/lib/python3.9/site-packages (from gluonts>=0.8.0->autogluon.timeseries[all]==0.5.0->autogluon==0.5.0) (0.14.2)\n",
      "Requirement already satisfied: typing-extensions~=4.0 in /home/ubuntu/miniconda3/envs/ag/lib/python3.9/site-packages (from gluonts>=0.8.0->autogluon.timeseries[all]==0.5.0->autogluon==0.5.0) (4.3.0)\n",
      "Requirement already satisfied: pydantic~=1.7 in /home/ubuntu/miniconda3/envs/ag/lib/python3.9/site-packages (from gluonts>=0.8.0->autogluon.timeseries[all]==0.5.0->autogluon==0.5.0) (1.8.2)\n",
      "Requirement already satisfied: korean-lunar-calendar in /home/ubuntu/miniconda3/envs/ag/lib/python3.9/site-packages (from holidays>=0.9->gluonts>=0.8.0->autogluon.timeseries[all]==0.5.0->autogluon==0.5.0) (0.2.1)\n",
      "Requirement already satisfied: python-dateutil in /home/ubuntu/miniconda3/envs/ag/lib/python3.9/site-packages (from holidays>=0.9->gluonts>=0.8.0->autogluon.timeseries[all]==0.5.0->autogluon==0.5.0) (2.8.2)\n",
      "Requirement already satisfied: hijri-converter in /home/ubuntu/miniconda3/envs/ag/lib/python3.9/site-packages (from holidays>=0.9->gluonts>=0.8.0->autogluon.timeseries[all]==0.5.0->autogluon==0.5.0) (2.2.4)\n",
      "Requirement already satisfied: convertdate>=2.3.0 in /home/ubuntu/miniconda3/envs/ag/lib/python3.9/site-packages (from holidays>=0.9->gluonts>=0.8.0->autogluon.timeseries[all]==0.5.0->autogluon==0.5.0) (2.4.0)\n"
     ]
    },
    {
     "name": "stdout",
     "output_type": "stream",
     "text": [
      "Requirement already satisfied: pymeeus<=1,>=0.3.13 in /home/ubuntu/miniconda3/envs/ag/lib/python3.9/site-packages (from convertdate>=2.3.0->holidays>=0.9->gluonts>=0.8.0->autogluon.timeseries[all]==0.5.0->autogluon==0.5.0) (0.5.11)\n",
      "Requirement already satisfied: py4j in /home/ubuntu/miniconda3/envs/ag/lib/python3.9/site-packages (from hyperopt<0.2.8,>=0.2.7->autogluon.core[all]==0.5.0->autogluon==0.5.0) (0.10.9.5)\n",
      "Requirement already satisfied: future in /home/ubuntu/miniconda3/envs/ag/lib/python3.9/site-packages (from hyperopt<0.2.8,>=0.2.7->autogluon.core[all]==0.5.0->autogluon==0.5.0) (0.18.2)\n",
      "Requirement already satisfied: wheel in /home/ubuntu/miniconda3/envs/ag/lib/python3.9/site-packages (from lightgbm<3.4,>=3.3->autogluon.tabular[all]==0.5.0->autogluon==0.5.0) (0.37.1)\n",
      "Requirement already satisfied: pyparsing>=2.2.1 in /home/ubuntu/miniconda3/envs/ag/lib/python3.9/site-packages (from matplotlib->autogluon.core[all]==0.5.0->autogluon==0.5.0) (3.0.9)\n",
      "Requirement already satisfied: fonttools>=4.22.0 in /home/ubuntu/miniconda3/envs/ag/lib/python3.9/site-packages (from matplotlib->autogluon.core[all]==0.5.0->autogluon==0.5.0) (4.34.4)\n",
      "Requirement already satisfied: kiwisolver>=1.0.1 in /home/ubuntu/miniconda3/envs/ag/lib/python3.9/site-packages (from matplotlib->autogluon.core[all]==0.5.0->autogluon==0.5.0) (1.4.3)\n",
      "Requirement already satisfied: cycler>=0.10 in /home/ubuntu/miniconda3/envs/ag/lib/python3.9/site-packages (from matplotlib->autogluon.core[all]==0.5.0->autogluon==0.5.0) (0.11.0)\n",
      "Requirement already satisfied: gdown>=4.0.0 in /home/ubuntu/miniconda3/envs/ag/lib/python3.9/site-packages (from nlpaug<2.0.0,>=1.1.10->autogluon.multimodal==0.5.0->autogluon==0.5.0) (4.5.1)\n",
      "Requirement already satisfied: filelock in /home/ubuntu/miniconda3/envs/ag/lib/python3.9/site-packages (from gdown>=4.0.0->nlpaug<2.0.0,>=1.1.10->autogluon.multimodal==0.5.0->autogluon==0.5.0) (3.7.1)\n",
      "Requirement already satisfied: beautifulsoup4 in /home/ubuntu/miniconda3/envs/ag/lib/python3.9/site-packages (from gdown>=4.0.0->nlpaug<2.0.0,>=1.1.10->autogluon.multimodal==0.5.0->autogluon==0.5.0) (4.11.1)\n",
      "Requirement already satisfied: joblib in /home/ubuntu/miniconda3/envs/ag/lib/python3.9/site-packages (from nltk<4.0.0,>=3.4.5->autogluon.multimodal==0.5.0->autogluon==0.5.0) (1.1.0)\n",
      "Requirement already satisfied: typish>=1.7.0 in /home/ubuntu/miniconda3/envs/ag/lib/python3.9/site-packages (from nptyping<1.5.0,>=1.4.4->autogluon.multimodal==0.5.0->autogluon==0.5.0) (1.9.3)\n",
      "Requirement already satisfied: antlr4-python3-runtime==4.8 in /home/ubuntu/miniconda3/envs/ag/lib/python3.9/site-packages (from omegaconf<2.2.0,>=2.1.1->autogluon.multimodal==0.5.0->autogluon==0.5.0) (4.8)\n",
      "Requirement already satisfied: pytz>=2020.1 in /home/ubuntu/miniconda3/envs/ag/lib/python3.9/site-packages (from pandas!=1.4.0,<1.5,>=1.2.5->autogluon.core[all]==0.5.0->autogluon==0.5.0) (2022.1)\n",
      "Requirement already satisfied: locket in /home/ubuntu/miniconda3/envs/ag/lib/python3.9/site-packages (from partd>=0.3.10->dask<=2021.11.2,>=2021.09.1->autogluon.core[all]==0.5.0->autogluon==0.5.0) (1.0.0)\n",
      "Requirement already satisfied: statsmodels!=0.12.0,>=0.11 in /home/ubuntu/miniconda3/envs/ag/lib/python3.9/site-packages (from pmdarima~=1.8->autogluon.timeseries[all]==0.5.0->autogluon==0.5.0) (0.13.2)\n",
      "Requirement already satisfied: urllib3 in /home/ubuntu/miniconda3/envs/ag/lib/python3.9/site-packages (from pmdarima~=1.8->autogluon.timeseries[all]==0.5.0->autogluon==0.5.0) (1.26.10)\n",
      "Requirement already satisfied: Cython!=0.29.18,>=0.29 in /home/ubuntu/miniconda3/envs/ag/lib/python3.9/site-packages (from pmdarima~=1.8->autogluon.timeseries[all]==0.5.0->autogluon==0.5.0) (0.29.30)\n",
      "Requirement already satisfied: pyDeprecate>=0.3.1 in /home/ubuntu/miniconda3/envs/ag/lib/python3.9/site-packages (from pytorch-lightning<1.7.0,>=1.5.10->autogluon.multimodal==0.5.0->autogluon==0.5.0) (0.3.2)\n",
      "Requirement already satisfied: tensorboard>=2.2.0 in /home/ubuntu/miniconda3/envs/ag/lib/python3.9/site-packages (from pytorch-lightning<1.7.0,>=1.5.10->autogluon.multimodal==0.5.0->autogluon==0.5.0) (2.9.1)\n",
      "Requirement already satisfied: aiohttp in /home/ubuntu/miniconda3/envs/ag/lib/python3.9/site-packages (from fsspec>=0.6.0->dask<=2021.11.2,>=2021.09.1->autogluon.core[all]==0.5.0->autogluon==0.5.0) (3.8.1)\n",
      "Requirement already satisfied: grpcio<=1.43.0,>=1.28.1 in /home/ubuntu/miniconda3/envs/ag/lib/python3.9/site-packages (from ray[tune]<1.14,>=1.13->autogluon.core[all]==0.5.0->autogluon==0.5.0) (1.43.0)\n",
      "Requirement already satisfied: virtualenv in /home/ubuntu/miniconda3/envs/ag/lib/python3.9/site-packages (from ray[tune]<1.14,>=1.13->autogluon.core[all]==0.5.0->autogluon==0.5.0) (20.15.1)\n",
      "Requirement already satisfied: jsonschema in /home/ubuntu/miniconda3/envs/ag/lib/python3.9/site-packages (from ray[tune]<1.14,>=1.13->autogluon.core[all]==0.5.0->autogluon==0.5.0) (4.6.2)\n",
      "Requirement already satisfied: frozenlist in /home/ubuntu/miniconda3/envs/ag/lib/python3.9/site-packages (from ray[tune]<1.14,>=1.13->autogluon.core[all]==0.5.0->autogluon==0.5.0) (1.3.0)\n",
      "Requirement already satisfied: aiosignal in /home/ubuntu/miniconda3/envs/ag/lib/python3.9/site-packages (from ray[tune]<1.14,>=1.13->autogluon.core[all]==0.5.0->autogluon==0.5.0) (1.2.0)\n",
      "Requirement already satisfied: attrs in /home/ubuntu/miniconda3/envs/ag/lib/python3.9/site-packages (from ray[tune]<1.14,>=1.13->autogluon.core[all]==0.5.0->autogluon==0.5.0) (21.4.0)\n",
      "Requirement already satisfied: tensorboardX>=1.9 in /home/ubuntu/miniconda3/envs/ag/lib/python3.9/site-packages (from ray[tune]<1.14,>=1.13->autogluon.core[all]==0.5.0->autogluon==0.5.0) (2.5.1)\n",
      "Requirement already satisfied: tabulate in /home/ubuntu/miniconda3/envs/ag/lib/python3.9/site-packages (from ray[tune]<1.14,>=1.13->autogluon.core[all]==0.5.0->autogluon==0.5.0) (0.8.10)\n",
      "Requirement already satisfied: charset-normalizer<3,>=2 in /home/ubuntu/miniconda3/envs/ag/lib/python3.9/site-packages (from requests->autogluon.core[all]==0.5.0->autogluon==0.5.0) (2.1.0)\n",
      "Requirement already satisfied: idna<4,>=2.5 in /home/ubuntu/miniconda3/envs/ag/lib/python3.9/site-packages (from requests->autogluon.core[all]==0.5.0->autogluon==0.5.0) (3.3)\n",
      "Requirement already satisfied: certifi>=2017.4.17 in /home/ubuntu/miniconda3/envs/ag/lib/python3.9/site-packages (from requests->autogluon.core[all]==0.5.0->autogluon==0.5.0) (2022.6.15)\n",
      "Requirement already satisfied: imageio>=2.4.1 in /home/ubuntu/miniconda3/envs/ag/lib/python3.9/site-packages (from scikit-image<0.20.0,>=0.19.1->autogluon.multimodal==0.5.0->autogluon==0.5.0) (2.19.3)\n",
      "Requirement already satisfied: tifffile>=2019.7.26 in /home/ubuntu/miniconda3/envs/ag/lib/python3.9/site-packages (from scikit-image<0.20.0,>=0.19.1->autogluon.multimodal==0.5.0->autogluon==0.5.0) (2022.5.4)\n",
      "Requirement already satisfied: PyWavelets>=1.1.1 in /home/ubuntu/miniconda3/envs/ag/lib/python3.9/site-packages (from scikit-image<0.20.0,>=0.19.1->autogluon.multimodal==0.5.0->autogluon==0.5.0) (1.3.0)\n",
      "Requirement already satisfied: threadpoolctl>=2.0.0 in /home/ubuntu/miniconda3/envs/ag/lib/python3.9/site-packages (from scikit-learn<1.1,>=1.0.0->autogluon.core[all]==0.5.0->autogluon==0.5.0) (3.1.0)\n",
      "Requirement already satisfied: deprecated>=1.2.13 in /home/ubuntu/miniconda3/envs/ag/lib/python3.9/site-packages (from sktime~=0.12->autogluon.timeseries[all]==0.5.0->autogluon==0.5.0) (1.2.13)\n",
      "Requirement already satisfied: numba>=0.53 in /home/ubuntu/miniconda3/envs/ag/lib/python3.9/site-packages (from sktime~=0.12->autogluon.timeseries[all]==0.5.0->autogluon==0.5.0) (0.55.2)\n",
      "Requirement already satisfied: wrapt<2,>=1.10 in /home/ubuntu/miniconda3/envs/ag/lib/python3.9/site-packages (from deprecated>=1.2.13->sktime~=0.12->autogluon.timeseries[all]==0.5.0->autogluon==0.5.0) (1.14.1)\n",
      "Requirement already satisfied: llvmlite<0.39,>=0.38.0rc1 in /home/ubuntu/miniconda3/envs/ag/lib/python3.9/site-packages (from numba>=0.53->sktime~=0.12->autogluon.timeseries[all]==0.5.0->autogluon==0.5.0) (0.38.1)\n",
      "Requirement already satisfied: typer<0.5.0,>=0.3.0 in /home/ubuntu/miniconda3/envs/ag/lib/python3.9/site-packages (from spacy<4->fastai<2.6,>=2.3.1->autogluon.tabular[all]==0.5.0->autogluon==0.5.0) (0.4.2)\n",
      "Requirement already satisfied: murmurhash<1.1.0,>=0.28.0 in /home/ubuntu/miniconda3/envs/ag/lib/python3.9/site-packages (from spacy<4->fastai<2.6,>=2.3.1->autogluon.tabular[all]==0.5.0->autogluon==0.5.0) (1.0.7)\n",
      "Requirement already satisfied: wasabi<1.1.0,>=0.9.1 in /home/ubuntu/miniconda3/envs/ag/lib/python3.9/site-packages (from spacy<4->fastai<2.6,>=2.3.1->autogluon.tabular[all]==0.5.0->autogluon==0.5.0) (0.9.1)\n",
      "Requirement already satisfied: thinc<8.1.0,>=8.0.14 in /home/ubuntu/miniconda3/envs/ag/lib/python3.9/site-packages (from spacy<4->fastai<2.6,>=2.3.1->autogluon.tabular[all]==0.5.0->autogluon==0.5.0) (8.0.17)\n",
      "Requirement already satisfied: cymem<2.1.0,>=2.0.2 in /home/ubuntu/miniconda3/envs/ag/lib/python3.9/site-packages (from spacy<4->fastai<2.6,>=2.3.1->autogluon.tabular[all]==0.5.0->autogluon==0.5.0) (2.0.6)\n",
      "Requirement already satisfied: spacy-legacy<3.1.0,>=3.0.9 in /home/ubuntu/miniconda3/envs/ag/lib/python3.9/site-packages (from spacy<4->fastai<2.6,>=2.3.1->autogluon.tabular[all]==0.5.0->autogluon==0.5.0) (3.0.9)\n",
      "Requirement already satisfied: pathy>=0.3.5 in /home/ubuntu/miniconda3/envs/ag/lib/python3.9/site-packages (from spacy<4->fastai<2.6,>=2.3.1->autogluon.tabular[all]==0.5.0->autogluon==0.5.0) (0.6.2)\n",
      "Requirement already satisfied: langcodes<4.0.0,>=3.2.0 in /home/ubuntu/miniconda3/envs/ag/lib/python3.9/site-packages (from spacy<4->fastai<2.6,>=2.3.1->autogluon.tabular[all]==0.5.0->autogluon==0.5.0) (3.3.0)\n",
      "Requirement already satisfied: srsly<3.0.0,>=2.4.3 in /home/ubuntu/miniconda3/envs/ag/lib/python3.9/site-packages (from spacy<4->fastai<2.6,>=2.3.1->autogluon.tabular[all]==0.5.0->autogluon==0.5.0) (2.4.3)\n",
      "Requirement already satisfied: blis<0.8.0,>=0.4.0 in /home/ubuntu/miniconda3/envs/ag/lib/python3.9/site-packages (from spacy<4->fastai<2.6,>=2.3.1->autogluon.tabular[all]==0.5.0->autogluon==0.5.0) (0.7.8)\n",
      "Requirement already satisfied: spacy-loggers<2.0.0,>=1.0.0 in /home/ubuntu/miniconda3/envs/ag/lib/python3.9/site-packages (from spacy<4->fastai<2.6,>=2.3.1->autogluon.tabular[all]==0.5.0->autogluon==0.5.0) (1.0.2)\n",
      "Requirement already satisfied: preshed<3.1.0,>=3.0.2 in /home/ubuntu/miniconda3/envs/ag/lib/python3.9/site-packages (from spacy<4->fastai<2.6,>=2.3.1->autogluon.tabular[all]==0.5.0->autogluon==0.5.0) (3.0.6)\n",
      "Requirement already satisfied: catalogue<2.1.0,>=2.0.6 in /home/ubuntu/miniconda3/envs/ag/lib/python3.9/site-packages (from spacy<4->fastai<2.6,>=2.3.1->autogluon.tabular[all]==0.5.0->autogluon==0.5.0) (2.0.7)\n"
     ]
    },
    {
     "name": "stdout",
     "output_type": "stream",
     "text": [
      "Requirement already satisfied: patsy>=0.5.2 in /home/ubuntu/miniconda3/envs/ag/lib/python3.9/site-packages (from statsmodels!=0.12.0,>=0.11->pmdarima~=1.8->autogluon.timeseries[all]==0.5.0->autogluon==0.5.0) (0.5.2)\n",
      "Requirement already satisfied: google-auth-oauthlib<0.5,>=0.4.1 in /home/ubuntu/miniconda3/envs/ag/lib/python3.9/site-packages (from tensorboard>=2.2.0->pytorch-lightning<1.7.0,>=1.5.10->autogluon.multimodal==0.5.0->autogluon==0.5.0) (0.4.6)\n",
      "Requirement already satisfied: markdown>=2.6.8 in /home/ubuntu/miniconda3/envs/ag/lib/python3.9/site-packages (from tensorboard>=2.2.0->pytorch-lightning<1.7.0,>=1.5.10->autogluon.multimodal==0.5.0->autogluon==0.5.0) (3.3.7)\n",
      "Requirement already satisfied: google-auth<3,>=1.6.3 in /home/ubuntu/miniconda3/envs/ag/lib/python3.9/site-packages (from tensorboard>=2.2.0->pytorch-lightning<1.7.0,>=1.5.10->autogluon.multimodal==0.5.0->autogluon==0.5.0) (2.9.0)\n",
      "Requirement already satisfied: werkzeug>=1.0.1 in /home/ubuntu/miniconda3/envs/ag/lib/python3.9/site-packages (from tensorboard>=2.2.0->pytorch-lightning<1.7.0,>=1.5.10->autogluon.multimodal==0.5.0->autogluon==0.5.0) (2.1.2)\n",
      "Requirement already satisfied: tensorboard-data-server<0.7.0,>=0.6.0 in /home/ubuntu/miniconda3/envs/ag/lib/python3.9/site-packages (from tensorboard>=2.2.0->pytorch-lightning<1.7.0,>=1.5.10->autogluon.multimodal==0.5.0->autogluon==0.5.0) (0.6.1)\n",
      "Requirement already satisfied: absl-py>=0.4 in /home/ubuntu/miniconda3/envs/ag/lib/python3.9/site-packages (from tensorboard>=2.2.0->pytorch-lightning<1.7.0,>=1.5.10->autogluon.multimodal==0.5.0->autogluon==0.5.0) (1.1.0)\n",
      "Requirement already satisfied: tensorboard-plugin-wit>=1.6.0 in /home/ubuntu/miniconda3/envs/ag/lib/python3.9/site-packages (from tensorboard>=2.2.0->pytorch-lightning<1.7.0,>=1.5.10->autogluon.multimodal==0.5.0->autogluon==0.5.0) (1.8.1)\n",
      "Requirement already satisfied: rsa<5,>=3.1.4 in /home/ubuntu/miniconda3/envs/ag/lib/python3.9/site-packages (from google-auth<3,>=1.6.3->tensorboard>=2.2.0->pytorch-lightning<1.7.0,>=1.5.10->autogluon.multimodal==0.5.0->autogluon==0.5.0) (4.8)\n",
      "Requirement already satisfied: pyasn1-modules>=0.2.1 in /home/ubuntu/miniconda3/envs/ag/lib/python3.9/site-packages (from google-auth<3,>=1.6.3->tensorboard>=2.2.0->pytorch-lightning<1.7.0,>=1.5.10->autogluon.multimodal==0.5.0->autogluon==0.5.0) (0.2.8)\n",
      "Requirement already satisfied: cachetools<6.0,>=2.0.0 in /home/ubuntu/miniconda3/envs/ag/lib/python3.9/site-packages (from google-auth<3,>=1.6.3->tensorboard>=2.2.0->pytorch-lightning<1.7.0,>=1.5.10->autogluon.multimodal==0.5.0->autogluon==0.5.0) (5.2.0)\n",
      "Requirement already satisfied: requests-oauthlib>=0.7.0 in /home/ubuntu/miniconda3/envs/ag/lib/python3.9/site-packages (from google-auth-oauthlib<0.5,>=0.4.1->tensorboard>=2.2.0->pytorch-lightning<1.7.0,>=1.5.10->autogluon.multimodal==0.5.0->autogluon==0.5.0) (1.3.1)\n",
      "Requirement already satisfied: importlib-metadata>=4.4 in /home/ubuntu/miniconda3/envs/ag/lib/python3.9/site-packages (from markdown>=2.6.8->tensorboard>=2.2.0->pytorch-lightning<1.7.0,>=1.5.10->autogluon.multimodal==0.5.0->autogluon==0.5.0) (4.12.0)\n",
      "Requirement already satisfied: zipp>=0.5 in /home/ubuntu/miniconda3/envs/ag/lib/python3.9/site-packages (from importlib-metadata>=4.4->markdown>=2.6.8->tensorboard>=2.2.0->pytorch-lightning<1.7.0,>=1.5.10->autogluon.multimodal==0.5.0->autogluon==0.5.0) (3.8.0)\n",
      "Requirement already satisfied: pyasn1<0.5.0,>=0.4.6 in /home/ubuntu/miniconda3/envs/ag/lib/python3.9/site-packages (from pyasn1-modules>=0.2.1->google-auth<3,>=1.6.3->tensorboard>=2.2.0->pytorch-lightning<1.7.0,>=1.5.10->autogluon.multimodal==0.5.0->autogluon==0.5.0) (0.4.8)\n",
      "Requirement already satisfied: oauthlib>=3.0.0 in /home/ubuntu/miniconda3/envs/ag/lib/python3.9/site-packages (from requests-oauthlib>=0.7.0->google-auth-oauthlib<0.5,>=0.4.1->tensorboard>=2.2.0->pytorch-lightning<1.7.0,>=1.5.10->autogluon.multimodal==0.5.0->autogluon==0.5.0) (3.2.0)\n",
      "Requirement already satisfied: huggingface-hub<1.0,>=0.1.0 in /home/ubuntu/miniconda3/envs/ag/lib/python3.9/site-packages (from transformers<4.21.0,>=4.18.0->autogluon.multimodal==0.5.0->autogluon==0.5.0) (0.8.1)\n",
      "Requirement already satisfied: heapdict in /home/ubuntu/miniconda3/envs/ag/lib/python3.9/site-packages (from zict>=0.1.3->distributed<=2021.11.2,>=2021.09.1->autogluon.core[all]==0.5.0->autogluon==0.5.0) (1.0.1)\n",
      "Requirement already satisfied: async-timeout<5.0,>=4.0.0a3 in /home/ubuntu/miniconda3/envs/ag/lib/python3.9/site-packages (from aiohttp->fsspec>=0.6.0->dask<=2021.11.2,>=2021.09.1->autogluon.core[all]==0.5.0->autogluon==0.5.0) (4.0.2)\n",
      "Requirement already satisfied: multidict<7.0,>=4.5 in /home/ubuntu/miniconda3/envs/ag/lib/python3.9/site-packages (from aiohttp->fsspec>=0.6.0->dask<=2021.11.2,>=2021.09.1->autogluon.core[all]==0.5.0->autogluon==0.5.0) (6.0.2)\n",
      "Requirement already satisfied: yarl<2.0,>=1.0 in /home/ubuntu/miniconda3/envs/ag/lib/python3.9/site-packages (from aiohttp->fsspec>=0.6.0->dask<=2021.11.2,>=2021.09.1->autogluon.core[all]==0.5.0->autogluon==0.5.0) (1.7.2)\n",
      "Requirement already satisfied: soupsieve>1.2 in /home/ubuntu/miniconda3/envs/ag/lib/python3.9/site-packages (from beautifulsoup4->gdown>=4.0.0->nlpaug<2.0.0,>=1.1.10->autogluon.multimodal==0.5.0->autogluon==0.5.0) (2.3.2.post1)\n",
      "Requirement already satisfied: jmespath<2.0.0,>=0.7.1 in /home/ubuntu/miniconda3/envs/ag/lib/python3.9/site-packages (from boto3->autogluon.core[all]==0.5.0->autogluon==0.5.0) (1.0.1)\n",
      "Requirement already satisfied: botocore<1.28.0,>=1.27.26 in /home/ubuntu/miniconda3/envs/ag/lib/python3.9/site-packages (from boto3->autogluon.core[all]==0.5.0->autogluon==0.5.0) (1.27.26)\n",
      "Requirement already satisfied: s3transfer<0.7.0,>=0.6.0 in /home/ubuntu/miniconda3/envs/ag/lib/python3.9/site-packages (from boto3->autogluon.core[all]==0.5.0->autogluon==0.5.0) (0.6.0)\n",
      "Requirement already satisfied: immutables>=0.9 in /home/ubuntu/miniconda3/envs/ag/lib/python3.9/site-packages (from contextvars->autogluon-contrib-nlp==0.0.1b20220208->autogluon.multimodal==0.5.0->autogluon==0.5.0) (0.18)\n",
      "Requirement already satisfied: mccabe<0.7.0,>=0.6.0 in /home/ubuntu/miniconda3/envs/ag/lib/python3.9/site-packages (from flake8->autogluon-contrib-nlp==0.0.1b20220208->autogluon.multimodal==0.5.0->autogluon==0.5.0) (0.6.1)\n",
      "Requirement already satisfied: pycodestyle<2.9.0,>=2.8.0 in /home/ubuntu/miniconda3/envs/ag/lib/python3.9/site-packages (from flake8->autogluon-contrib-nlp==0.0.1b20220208->autogluon.multimodal==0.5.0->autogluon==0.5.0) (2.8.0)\n",
      "Requirement already satisfied: pyflakes<2.5.0,>=2.4.0 in /home/ubuntu/miniconda3/envs/ag/lib/python3.9/site-packages (from flake8->autogluon-contrib-nlp==0.0.1b20220208->autogluon.multimodal==0.5.0->autogluon==0.5.0) (2.4.0)\n",
      "Requirement already satisfied: MarkupSafe>=2.0 in /home/ubuntu/miniconda3/envs/ag/lib/python3.9/site-packages (from jinja2->distributed<=2021.11.2,>=2021.09.1->autogluon.core[all]==0.5.0->autogluon==0.5.0) (2.1.1)\n",
      "Requirement already satisfied: pyrsistent!=0.17.0,!=0.17.1,!=0.17.2,>=0.14.0 in /home/ubuntu/miniconda3/envs/ag/lib/python3.9/site-packages (from jsonschema->ray[tune]<1.14,>=1.13->autogluon.core[all]==0.5.0->autogluon==0.5.0) (0.18.1)\n",
      "Requirement already satisfied: tenacity>=6.2.0 in /home/ubuntu/miniconda3/envs/ag/lib/python3.9/site-packages (from plotly->catboost<1.1,>=1.0->autogluon.tabular[all]==0.5.0->autogluon==0.5.0) (8.0.1)\n",
      "Requirement already satisfied: PySocks!=1.5.7,>=1.5.6 in /home/ubuntu/miniconda3/envs/ag/lib/python3.9/site-packages (from requests->autogluon.core[all]==0.5.0->autogluon==0.5.0) (1.7.1)\n",
      "Requirement already satisfied: colorama in /home/ubuntu/miniconda3/envs/ag/lib/python3.9/site-packages (from sacrebleu->autogluon-contrib-nlp==0.0.1b20220208->autogluon.multimodal==0.5.0->autogluon==0.5.0) (0.4.5)\n",
      "Requirement already satisfied: distlib<1,>=0.3.1 in /home/ubuntu/miniconda3/envs/ag/lib/python3.9/site-packages (from virtualenv->ray[tune]<1.14,>=1.13->autogluon.core[all]==0.5.0->autogluon==0.5.0) (0.3.4)\n",
      "Requirement already satisfied: platformdirs<3,>=2 in /home/ubuntu/miniconda3/envs/ag/lib/python3.9/site-packages (from virtualenv->ray[tune]<1.14,>=1.13->autogluon.core[all]==0.5.0->autogluon==0.5.0) (2.5.2)\n"
     ]
    }
   ],
   "source": [
    "#@title Install autogluon\n",
    "!pip install autogluon==0.5.0"
   ]
  },
  {
   "cell_type": "code",
   "execution_count": 4,
   "metadata": {
    "ExecuteTime": {
     "end_time": "2022-07-09T04:47:05.526762Z",
     "start_time": "2022-07-09T04:47:04.436407Z"
    },
    "id": "Mv1_TnxKLtYn"
   },
   "outputs": [],
   "source": [
    "from autogluon.tabular import TabularDataset, TabularPredictor"
   ]
  },
  {
   "cell_type": "markdown",
   "metadata": {
    "id": "MirV7-SjgMcZ"
   },
   "source": [
    "The dataset we will use is from the cover story of [Nature issue 7887](https://www.nature.com/nature/volumes/600/issues/7887): [AI guided tuition for math theorems](https://www.nature.com/articles/s41586-021-04086-x.pdf). The task is to predict knot's signature based on its properties. We sampled 10K training and 5K test examples from the [original data](https://github.com/deepmind/mathematics_conjectures/blob/main/knot_theory.ipynb). The sampled dataset makes this tutorial runs fast, but you can try the full dataset. \n",
    "\n",
    "We load this dataset directly from a URL. Note that the `TabularDataset` class is a subclass of [pandas DataFrame](https://pandas.pydata.org/docs/reference/api/pandas.DataFrame.html), any pandas methods can be applied here. "
   ]
  },
  {
   "cell_type": "code",
   "execution_count": 20,
   "metadata": {
    "ExecuteTime": {
     "end_time": "2022-07-09T05:10:21.069529Z",
     "start_time": "2022-07-09T05:10:20.533611Z"
    },
    "colab": {
     "base_uri": "https://localhost:8080/",
     "height": 253
    },
    "executionInfo": {
     "elapsed": 606,
     "status": "ok",
     "timestamp": 1657334595523,
     "user": {
      "displayName": "Mu Li",
      "userId": "07665802281081973826"
     },
     "user_tz": 420
    },
    "id": "cDycnTbgLxBU",
    "outputId": "5180e4c0-d8e6-4a96-9cc3-c3d39bb1fe95"
   },
   "outputs": [
    {
     "name": "stderr",
     "output_type": "stream",
     "text": [
      "Loaded data from: https://raw.githubusercontent.com/mli/ag-docs/main/knot_theory/train.csv | Columns = 19 / 19 | Rows = 10000 -> 10000\n"
     ]
    },
    {
     "data": {
      "text/html": [
       "<div>\n",
       "<style scoped>\n",
       "    .dataframe tbody tr th:only-of-type {\n",
       "        vertical-align: middle;\n",
       "    }\n",
       "\n",
       "    .dataframe tbody tr th {\n",
       "        vertical-align: top;\n",
       "    }\n",
       "\n",
       "    .dataframe thead th {\n",
       "        text-align: right;\n",
       "    }\n",
       "</style>\n",
       "<table border=\"1\" class=\"dataframe\">\n",
       "  <thead>\n",
       "    <tr style=\"text-align: right;\">\n",
       "      <th></th>\n",
       "      <th>Unnamed: 0</th>\n",
       "      <th>chern_simons</th>\n",
       "      <th>cusp_volume</th>\n",
       "      <th>hyperbolic_adjoint_torsion_degree</th>\n",
       "      <th>hyperbolic_torsion_degree</th>\n",
       "      <th>injectivity_radius</th>\n",
       "      <th>longitudinal_translation</th>\n",
       "      <th>meridinal_translation_imag</th>\n",
       "      <th>meridinal_translation_real</th>\n",
       "      <th>short_geodesic_imag_part</th>\n",
       "      <th>short_geodesic_real_part</th>\n",
       "      <th>Symmetry_0</th>\n",
       "      <th>Symmetry_D3</th>\n",
       "      <th>Symmetry_D4</th>\n",
       "      <th>Symmetry_D6</th>\n",
       "      <th>Symmetry_D8</th>\n",
       "      <th>Symmetry_Z/2 + Z/2</th>\n",
       "      <th>volume</th>\n",
       "      <th>signature</th>\n",
       "    </tr>\n",
       "  </thead>\n",
       "  <tbody>\n",
       "    <tr>\n",
       "      <th>0</th>\n",
       "      <td>70746</td>\n",
       "      <td>0.090530</td>\n",
       "      <td>12.226322</td>\n",
       "      <td>0</td>\n",
       "      <td>10</td>\n",
       "      <td>0.507756</td>\n",
       "      <td>10.685555</td>\n",
       "      <td>1.144192</td>\n",
       "      <td>-0.519157</td>\n",
       "      <td>-2.760601</td>\n",
       "      <td>1.015512</td>\n",
       "      <td>0.0</td>\n",
       "      <td>0.0</td>\n",
       "      <td>0.0</td>\n",
       "      <td>0.0</td>\n",
       "      <td>0.0</td>\n",
       "      <td>1.0</td>\n",
       "      <td>11.393225</td>\n",
       "      <td>-2</td>\n",
       "    </tr>\n",
       "    <tr>\n",
       "      <th>1</th>\n",
       "      <td>240827</td>\n",
       "      <td>0.232453</td>\n",
       "      <td>13.800773</td>\n",
       "      <td>0</td>\n",
       "      <td>14</td>\n",
       "      <td>0.413645</td>\n",
       "      <td>10.453156</td>\n",
       "      <td>1.320249</td>\n",
       "      <td>-0.158522</td>\n",
       "      <td>-3.013258</td>\n",
       "      <td>0.827289</td>\n",
       "      <td>0.0</td>\n",
       "      <td>0.0</td>\n",
       "      <td>0.0</td>\n",
       "      <td>0.0</td>\n",
       "      <td>0.0</td>\n",
       "      <td>1.0</td>\n",
       "      <td>12.742782</td>\n",
       "      <td>0</td>\n",
       "    </tr>\n",
       "    <tr>\n",
       "      <th>2</th>\n",
       "      <td>155659</td>\n",
       "      <td>-0.144099</td>\n",
       "      <td>14.761030</td>\n",
       "      <td>0</td>\n",
       "      <td>14</td>\n",
       "      <td>0.436928</td>\n",
       "      <td>13.405199</td>\n",
       "      <td>1.101142</td>\n",
       "      <td>0.768894</td>\n",
       "      <td>2.233106</td>\n",
       "      <td>0.873856</td>\n",
       "      <td>0.0</td>\n",
       "      <td>0.0</td>\n",
       "      <td>0.0</td>\n",
       "      <td>0.0</td>\n",
       "      <td>0.0</td>\n",
       "      <td>0.0</td>\n",
       "      <td>15.236505</td>\n",
       "      <td>2</td>\n",
       "    </tr>\n",
       "    <tr>\n",
       "      <th>3</th>\n",
       "      <td>239963</td>\n",
       "      <td>-0.171668</td>\n",
       "      <td>13.738019</td>\n",
       "      <td>0</td>\n",
       "      <td>22</td>\n",
       "      <td>0.249481</td>\n",
       "      <td>27.819496</td>\n",
       "      <td>0.493827</td>\n",
       "      <td>-1.188718</td>\n",
       "      <td>-2.042771</td>\n",
       "      <td>0.498961</td>\n",
       "      <td>0.0</td>\n",
       "      <td>0.0</td>\n",
       "      <td>0.0</td>\n",
       "      <td>0.0</td>\n",
       "      <td>0.0</td>\n",
       "      <td>0.0</td>\n",
       "      <td>17.279890</td>\n",
       "      <td>-8</td>\n",
       "    </tr>\n",
       "    <tr>\n",
       "      <th>4</th>\n",
       "      <td>90504</td>\n",
       "      <td>0.235188</td>\n",
       "      <td>15.896359</td>\n",
       "      <td>0</td>\n",
       "      <td>10</td>\n",
       "      <td>0.389329</td>\n",
       "      <td>15.330971</td>\n",
       "      <td>1.036879</td>\n",
       "      <td>0.722828</td>\n",
       "      <td>-3.056138</td>\n",
       "      <td>0.778658</td>\n",
       "      <td>0.0</td>\n",
       "      <td>0.0</td>\n",
       "      <td>0.0</td>\n",
       "      <td>0.0</td>\n",
       "      <td>0.0</td>\n",
       "      <td>0.0</td>\n",
       "      <td>16.749298</td>\n",
       "      <td>4</td>\n",
       "    </tr>\n",
       "  </tbody>\n",
       "</table>\n",
       "</div>"
      ],
      "text/plain": [
       "   Unnamed: 0  chern_simons  cusp_volume  hyperbolic_adjoint_torsion_degree  \\\n",
       "0       70746      0.090530    12.226322                                  0   \n",
       "1      240827      0.232453    13.800773                                  0   \n",
       "2      155659     -0.144099    14.761030                                  0   \n",
       "3      239963     -0.171668    13.738019                                  0   \n",
       "4       90504      0.235188    15.896359                                  0   \n",
       "\n",
       "   hyperbolic_torsion_degree  injectivity_radius  longitudinal_translation  \\\n",
       "0                         10            0.507756                 10.685555   \n",
       "1                         14            0.413645                 10.453156   \n",
       "2                         14            0.436928                 13.405199   \n",
       "3                         22            0.249481                 27.819496   \n",
       "4                         10            0.389329                 15.330971   \n",
       "\n",
       "   meridinal_translation_imag  meridinal_translation_real  \\\n",
       "0                    1.144192                   -0.519157   \n",
       "1                    1.320249                   -0.158522   \n",
       "2                    1.101142                    0.768894   \n",
       "3                    0.493827                   -1.188718   \n",
       "4                    1.036879                    0.722828   \n",
       "\n",
       "   short_geodesic_imag_part  short_geodesic_real_part  Symmetry_0  \\\n",
       "0                 -2.760601                  1.015512         0.0   \n",
       "1                 -3.013258                  0.827289         0.0   \n",
       "2                  2.233106                  0.873856         0.0   \n",
       "3                 -2.042771                  0.498961         0.0   \n",
       "4                 -3.056138                  0.778658         0.0   \n",
       "\n",
       "   Symmetry_D3  Symmetry_D4  Symmetry_D6  Symmetry_D8  Symmetry_Z/2 + Z/2  \\\n",
       "0          0.0          0.0          0.0          0.0                 1.0   \n",
       "1          0.0          0.0          0.0          0.0                 1.0   \n",
       "2          0.0          0.0          0.0          0.0                 0.0   \n",
       "3          0.0          0.0          0.0          0.0                 0.0   \n",
       "4          0.0          0.0          0.0          0.0                 0.0   \n",
       "\n",
       "      volume  signature  \n",
       "0  11.393225         -2  \n",
       "1  12.742782          0  \n",
       "2  15.236505          2  \n",
       "3  17.279890         -8  \n",
       "4  16.749298          4  "
      ]
     },
     "execution_count": 20,
     "metadata": {},
     "output_type": "execute_result"
    }
   ],
   "source": [
    "url = 'https://raw.githubusercontent.com/mli/ag-docs/main/knot_theory/'\n",
    "train_data = TabularDataset(url+'train.csv')\n",
    "train_data.head()"
   ]
  },
  {
   "cell_type": "markdown",
   "metadata": {
    "id": "t9Hz4B5Al8Nz"
   },
   "source": [
    "Our targets are stored in the `signature` column, which has 18 unique integers. Though Pandas didn't correctly recognize its data type, AutoGluon will fix this issue.\n"
   ]
  },
  {
   "cell_type": "code",
   "execution_count": 21,
   "metadata": {
    "ExecuteTime": {
     "end_time": "2022-07-09T05:10:28.198087Z",
     "start_time": "2022-07-09T05:10:28.190174Z"
    },
    "colab": {
     "base_uri": "https://localhost:8080/"
    },
    "executionInfo": {
     "elapsed": 172,
     "status": "ok",
     "timestamp": 1657334601445,
     "user": {
      "displayName": "Mu Li",
      "userId": "07665802281081973826"
     },
     "user_tz": 420
    },
    "id": "h1f3KEG7L1fr",
    "outputId": "25dfe641-b794-4fbb-e416-213ce8b7f3fc"
   },
   "outputs": [
    {
     "data": {
      "text/plain": [
       "count    10000.000000\n",
       "mean        -0.022000\n",
       "std          3.025166\n",
       "min        -12.000000\n",
       "25%         -2.000000\n",
       "50%          0.000000\n",
       "75%          2.000000\n",
       "max         12.000000\n",
       "Name: signature, dtype: float64"
      ]
     },
     "execution_count": 21,
     "metadata": {},
     "output_type": "execute_result"
    }
   ],
   "source": [
    "label = 'signature'\n",
    "train_data[label].describe()"
   ]
  },
  {
   "cell_type": "markdown",
   "metadata": {
    "id": "oE0p8wOJmYxt"
   },
   "source": [
    "Now construct a `TabularPredictor` instance by specifying the label column name, then train on the dataset with the {func}`autogluon.tabular.TabularPredictor.fit` method. We don't need to specify any other hyperparameters. This method will recognize it as a multi-class classification task, perform automatic feature engineering, train multiple models, and then ensemble them to form the final predictions. \n",
    "\n"
   ]
  },
  {
   "cell_type": "code",
   "execution_count": 22,
   "metadata": {
    "ExecuteTime": {
     "end_time": "2022-07-09T05:12:21.055590Z",
     "start_time": "2022-07-09T05:10:40.136310Z"
    },
    "colab": {
     "base_uri": "https://localhost:8080/"
    },
    "collapsed": true,
    "executionInfo": {
     "elapsed": 39623,
     "status": "ok",
     "timestamp": 1657334645914,
     "user": {
      "displayName": "Mu Li",
      "userId": "07665802281081973826"
     },
     "user_tz": 420
    },
    "id": "0EtF04QJL8CS",
    "outputId": "14736664-7e94-4f61-e117-4ab7d5311e0b"
   },
   "outputs": [
    {
     "name": "stderr",
     "output_type": "stream",
     "text": [
      "No path specified. Models will be saved in: \"AutogluonModels/ag-20220709_051040/\"\n",
      "Beginning AutoGluon training ...\n",
      "AutoGluon will save models to \"AutogluonModels/ag-20220709_051040/\"\n",
      "AutoGluon Version:  0.5.0\n",
      "Python Version:     3.9.12\n",
      "Operating System:   Linux\n",
      "Train Data Rows:    10000\n",
      "Train Data Columns: 18\n",
      "Label Column: signature\n",
      "Preprocessing data ...\n",
      "AutoGluon infers your prediction problem is: 'multiclass' (because dtype of label-column == int, but few unique label-values observed).\n",
      "\tFirst 10 (of 13) unique label values:  [-2, 0, 2, -8, 4, -4, -6, 8, 6, 10]\n",
      "\tIf 'multiclass' is not the correct problem_type, please manually specify the problem_type parameter during predictor init (You may specify problem_type as one of: ['binary', 'multiclass', 'regression'])\n",
      "Warning: Some classes in the training set have fewer than 10 examples. AutoGluon will only keep 9 out of 13 classes for training and will not try to predict the rare classes. To keep more classes, increase the number of datapoints from these rare classes in the training data or reduce label_count_threshold.\n",
      "Fraction of data from classes with at least 10 examples that will be kept for training models: 0.9984\n",
      "Train Data Class Count: 9\n",
      "Using Feature Generators to preprocess the data ...\n",
      "Fitting AutoMLPipelineFeatureGenerator...\n",
      "\tAvailable Memory:                    249401.59 MB\n",
      "\tTrain Data (Original)  Memory Usage: 1.44 MB (0.0% of available memory)\n",
      "\tInferring data type of each feature based on column values. Set feature_metadata_in to manually specify special dtypes of the features.\n",
      "\tStage 1 Generators:\n",
      "\t\tFitting AsTypeFeatureGenerator...\n",
      "\t\t\tNote: Converting 5 features to boolean dtype as they only contain 2 unique values.\n",
      "\tStage 2 Generators:\n",
      "\t\tFitting FillNaFeatureGenerator...\n",
      "\tStage 3 Generators:\n",
      "\t\tFitting IdentityFeatureGenerator...\n",
      "\tStage 4 Generators:\n",
      "\t\tFitting DropUniqueFeatureGenerator...\n",
      "\tUseless Original Features (Count: 1): ['Symmetry_D8']\n",
      "\t\tThese features carry no predictive signal and should be manually investigated.\n",
      "\t\tThis is typically a feature which has the same value for all rows.\n",
      "\t\tThese features do not need to be present at inference time.\n",
      "\tTypes of features in original data (raw dtype, special dtypes):\n",
      "\t\t('float', []) : 14 | ['chern_simons', 'cusp_volume', 'injectivity_radius', 'longitudinal_translation', 'meridinal_translation_imag', ...]\n",
      "\t\t('int', [])   :  3 | ['Unnamed: 0', 'hyperbolic_adjoint_torsion_degree', 'hyperbolic_torsion_degree']\n",
      "\tTypes of features in processed data (raw dtype, special dtypes):\n",
      "\t\t('float', [])     : 9 | ['chern_simons', 'cusp_volume', 'injectivity_radius', 'longitudinal_translation', 'meridinal_translation_imag', ...]\n",
      "\t\t('int', [])       : 3 | ['Unnamed: 0', 'hyperbolic_adjoint_torsion_degree', 'hyperbolic_torsion_degree']\n",
      "\t\t('int', ['bool']) : 5 | ['Symmetry_0', 'Symmetry_D3', 'Symmetry_D4', 'Symmetry_D6', 'Symmetry_Z/2 + Z/2']\n",
      "\t0.1s = Fit runtime\n",
      "\t17 features in original data used to generate 17 features in processed data.\n",
      "\tTrain Data (Processed) Memory Usage: 1.01 MB (0.0% of available memory)\n",
      "Data preprocessing and feature engineering runtime = 0.08s ...\n",
      "AutoGluon will gauge predictive performance using evaluation metric: 'accuracy'\n",
      "\tTo change this, specify the eval_metric parameter of Predictor()\n",
      "Automatically generating train/validation split with holdout_frac=0.1, Train Rows: 8985, Val Rows: 999\n",
      "Fitting 13 L1 models ...\n",
      "Fitting model: KNeighborsUnif ...\n",
      "\t0.2232\t = Validation score   (accuracy)\n",
      "\t0.02s\t = Training   runtime\n",
      "\t0.02s\t = Validation runtime\n",
      "Fitting model: KNeighborsDist ...\n",
      "\t0.2132\t = Validation score   (accuracy)\n",
      "\t0.02s\t = Training   runtime\n",
      "\t0.02s\t = Validation runtime\n",
      "Fitting model: NeuralNetFastAI ...\n",
      "\t0.9439\t = Validation score   (accuracy)\n",
      "\t8.95s\t = Training   runtime\n",
      "\t0.02s\t = Validation runtime\n",
      "Fitting model: LightGBMXT ...\n",
      "\t0.9459\t = Validation score   (accuracy)\n",
      "\t5.1s\t = Training   runtime\n",
      "\t0.03s\t = Validation runtime\n",
      "Fitting model: LightGBM ...\n",
      "\t0.956\t = Validation score   (accuracy)\n",
      "\t4.11s\t = Training   runtime\n",
      "\t0.03s\t = Validation runtime\n",
      "Fitting model: RandomForestGini ...\n",
      "\t0.9429\t = Validation score   (accuracy)\n",
      "\t0.95s\t = Training   runtime\n",
      "\t0.12s\t = Validation runtime\n",
      "Fitting model: RandomForestEntr ...\n",
      "\t0.9499\t = Validation score   (accuracy)\n",
      "\t1.06s\t = Training   runtime\n",
      "\t0.12s\t = Validation runtime\n",
      "Fitting model: CatBoost ...\n",
      "\t0.956\t = Validation score   (accuracy)\n",
      "\t18.18s\t = Training   runtime\n",
      "\t0.01s\t = Validation runtime\n",
      "Fitting model: ExtraTreesGini ...\n",
      "\t0.9469\t = Validation score   (accuracy)\n",
      "\t0.9s\t = Training   runtime\n",
      "\t0.12s\t = Validation runtime\n",
      "Fitting model: ExtraTreesEntr ...\n",
      "\t0.9399\t = Validation score   (accuracy)\n",
      "\t0.9s\t = Training   runtime\n",
      "\t0.12s\t = Validation runtime\n",
      "Fitting model: XGBoost ...\n",
      "\t0.957\t = Validation score   (accuracy)\n",
      "\t6.03s\t = Training   runtime\n",
      "\t0.03s\t = Validation runtime\n",
      "Fitting model: NeuralNetTorch ...\n",
      "\t0.9389\t = Validation score   (accuracy)\n",
      "\t41.06s\t = Training   runtime\n",
      "\t0.01s\t = Validation runtime\n",
      "Fitting model: LightGBMLarge ...\n",
      "\t0.9499\t = Validation score   (accuracy)\n",
      "\t10.02s\t = Training   runtime\n",
      "\t0.04s\t = Validation runtime\n",
      "Fitting model: WeightedEnsemble_L2 ...\n",
      "\t0.965\t = Validation score   (accuracy)\n",
      "\t0.65s\t = Training   runtime\n",
      "\t0.0s\t = Validation runtime\n",
      "AutoGluon training complete, total runtime = 100.9s ... Best model: \"WeightedEnsemble_L2\"\n",
      "TabularPredictor saved. To load, use: predictor = TabularPredictor.load(\"AutogluonModels/ag-20220709_051040/\")\n"
     ]
    }
   ],
   "source": [
    "predictor = TabularPredictor(label=label).fit(train_data)"
   ]
  },
  {
   "cell_type": "markdown",
   "metadata": {
    "id": "BvPHH8aQnXBk"
   },
   "source": [
    "The training takes one or a few minuets, depends on your CPU speed. It explored several models, including decision trees and neural networks. The training is often fast, as AutoGluon will not use deep neural networks in the default setting.  \n",
    "\n",
    "```{hint}\n",
    "If you can stop `fit` earlier to make the training faster. In particular, you can specify the `time_limit` argument in the `fit` method. For example, `fit(..., time_limit=60, ...)` means training at most 1 minute. But note that a too small value will impact the model quality.\n",
    "```\n",
    "\n",
    "Once training is done, load separate test data to predict."
   ]
  },
  {
   "cell_type": "code",
   "execution_count": 26,
   "metadata": {
    "ExecuteTime": {
     "end_time": "2022-07-09T05:32:02.338844Z",
     "start_time": "2022-07-09T05:32:01.721431Z"
    },
    "colab": {
     "base_uri": "https://localhost:8080/"
    },
    "executionInfo": {
     "elapsed": 616,
     "status": "ok",
     "timestamp": 1657334646512,
     "user": {
      "displayName": "Mu Li",
      "userId": "07665802281081973826"
     },
     "user_tz": 420
    },
    "id": "bdSqGoJ5L-ho",
    "outputId": "2b3720c0-ece3-4372-ab66-fcd65302e64d"
   },
   "outputs": [
    {
     "name": "stderr",
     "output_type": "stream",
     "text": [
      "Loaded data from: https://raw.githubusercontent.com/mli/ag-docs/main/knot_theory/test.csv | Columns = 19 / 19 | Rows = 5000 -> 5000\n"
     ]
    },
    {
     "data": {
      "text/plain": [
       "0   -4\n",
       "1   -2\n",
       "2    0\n",
       "3    4\n",
       "4    2\n",
       "Name: signature, dtype: int64"
      ]
     },
     "execution_count": 26,
     "metadata": {},
     "output_type": "execute_result"
    }
   ],
   "source": [
    "test_data = TabularDataset(url+'test.csv')\n",
    "# Optional: delete the label column for safety check.\n",
    "y_pred = predictor.predict(test_data.drop(columns=[label]))\n",
    "y_pred.head()"
   ]
  },
  {
   "cell_type": "markdown",
   "metadata": {
    "id": "S7mstqfgosu3"
   },
   "source": [
    "If you just want to evaluate the model performance, you can call the {func}`autogluon.tabular.TabularPredictor.evaluate` method."
   ]
  },
  {
   "cell_type": "code",
   "execution_count": 27,
   "metadata": {
    "ExecuteTime": {
     "end_time": "2022-07-09T05:32:04.286478Z",
     "start_time": "2022-07-09T05:32:03.892143Z"
    }
   },
   "outputs": [
    {
     "data": {
      "text/plain": [
       "{'accuracy': 0.95,\n",
       " 'balanced_accuracy': 0.7619277504882699,\n",
       " 'mcc': 0.9387411901257484}"
      ]
     },
     "execution_count": 27,
     "metadata": {},
     "output_type": "execute_result"
    }
   ],
   "source": [
    "predictor.evaluate(test_data, silent=True)"
   ]
  },
  {
   "cell_type": "markdown",
   "metadata": {
    "id": "I-da0PXvpD96"
   },
   "source": [
    "Now we did a quick through about using AutoGluon for tabular prediction. We used two classes, {class}`autogluon.tabular.TabularDataset` (essentially a pandas DataFrame) to load data and {class}`autogluon.tabular.TabularPredictor` to train (via the `fit` method) and predict (via the `predict` method). You will see similar APIs for other tasks, namely a `Dataset` class to load data and a `Prediction` class to train and predict. \n",
    "\n",
    "\n",
    "In addition, AutoGluon simplifies the model training by not requiring feature engineering and specifying model hyperparameters. AutoGluon automatically performs these jobs when running `fit`. You may worry about the resulted longer training time, AutoGluon balances the computational cost and model quality. You can benchmark AutoGluon's performance on the whole dataset loaded above against your favorite machine learning model. But to be fair, you also need to count the time you spend on preprocessing data and tuning your models. \n",
    "\n",
    "```{seealso}\n",
    "To know more about AutoGluon, next you can read\n",
    "\n",
    "- the cheetsheet for a quick overview of the APIs\n",
    "- tutorials to customize the training and inference\n",
    "- understand how AutoGluon performs feature engineering and model ensemble. \n",
    "```"
   ]
  }
 ],
 "metadata": {
  "colab": {
   "collapsed_sections": [],
   "name": "tabular_quick_start.ipynb",
   "provenance": []
  },
  "kernelspec": {
   "display_name": "Python 3 (ipykernel)",
   "language": "python",
   "name": "python3"
  },
  "language_info": {
   "codemirror_mode": {
    "name": "ipython",
    "version": 3
   },
   "file_extension": ".py",
   "mimetype": "text/x-python",
   "name": "python",
   "nbconvert_exporter": "python",
   "pygments_lexer": "ipython3",
   "version": "3.9.12"
  },
  "toc": {
   "base_numbering": 1,
   "nav_menu": {},
   "number_sections": true,
   "sideBar": true,
   "skip_h1_title": true,
   "title_cell": "Table of Contents",
   "title_sidebar": "Contents",
   "toc_cell": false,
   "toc_position": {},
   "toc_section_display": true,
   "toc_window_display": false
  }
 },
 "nbformat": 4,
 "nbformat_minor": 1
}
