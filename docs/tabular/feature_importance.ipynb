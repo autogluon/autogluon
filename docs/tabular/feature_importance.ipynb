{
 "cells": [
  {
   "cell_type": "markdown",
   "id": "1cbec0cc",
   "metadata": {},
   "source": [
    "# Feature Importance\n",
    "\n",
    "WIP"
   ]
  },
  {
   "cell_type": "code",
   "execution_count": 1,
   "id": "7354fffa",
   "metadata": {
    "ExecuteTime": {
     "end_time": "2022-07-11T05:16:37.348187Z",
     "start_time": "2022-07-11T05:14:55.413428Z"
    },
    "collapsed": true
   },
   "outputs": [
    {
     "name": "stderr",
     "output_type": "stream",
     "text": [
      "No path specified. Models will be saved in: \"AutogluonModels/ag-20220711_051456/\"\n",
      "Beginning AutoGluon training ...\n",
      "AutoGluon will save models to \"AutogluonModels/ag-20220711_051456/\"\n",
      "AutoGluon Version:  0.5.0\n",
      "Python Version:     3.9.12\n",
      "Operating System:   Linux\n",
      "Train Data Rows:    10000\n",
      "Train Data Columns: 18\n",
      "Label Column: signature\n",
      "Preprocessing data ...\n",
      "AutoGluon infers your prediction problem is: 'multiclass' (because dtype of label-column == int, but few unique label-values observed).\n",
      "\tFirst 10 (of 13) unique label values:  [-2, 0, 2, -8, 4, -4, -6, 8, 6, 10]\n",
      "\tIf 'multiclass' is not the correct problem_type, please manually specify the problem_type parameter during predictor init (You may specify problem_type as one of: ['binary', 'multiclass', 'regression'])\n",
      "Warning: Some classes in the training set have fewer than 10 examples. AutoGluon will only keep 9 out of 13 classes for training and will not try to predict the rare classes. To keep more classes, increase the number of datapoints from these rare classes in the training data or reduce label_count_threshold.\n",
      "Fraction of data from classes with at least 10 examples that will be kept for training models: 0.9984\n",
      "Train Data Class Count: 9\n",
      "Using Feature Generators to preprocess the data ...\n",
      "Fitting AutoMLPipelineFeatureGenerator...\n",
      "\tAvailable Memory:                    243827.1 MB\n",
      "\tTrain Data (Original)  Memory Usage: 1.44 MB (0.0% of available memory)\n",
      "\tInferring data type of each feature based on column values. Set feature_metadata_in to manually specify special dtypes of the features.\n",
      "\tStage 1 Generators:\n",
      "\t\tFitting AsTypeFeatureGenerator...\n",
      "\t\t\tNote: Converting 5 features to boolean dtype as they only contain 2 unique values.\n",
      "\tStage 2 Generators:\n",
      "\t\tFitting FillNaFeatureGenerator...\n",
      "\tStage 3 Generators:\n",
      "\t\tFitting IdentityFeatureGenerator...\n",
      "\tStage 4 Generators:\n",
      "\t\tFitting DropUniqueFeatureGenerator...\n",
      "\tUseless Original Features (Count: 1): ['Symmetry_D8']\n",
      "\t\tThese features carry no predictive signal and should be manually investigated.\n",
      "\t\tThis is typically a feature which has the same value for all rows.\n",
      "\t\tThese features do not need to be present at inference time.\n",
      "\tTypes of features in original data (raw dtype, special dtypes):\n",
      "\t\t('float', []) : 14 | ['chern_simons', 'cusp_volume', 'injectivity_radius', 'longitudinal_translation', 'meridinal_translation_imag', ...]\n",
      "\t\t('int', [])   :  3 | ['Unnamed: 0', 'hyperbolic_adjoint_torsion_degree', 'hyperbolic_torsion_degree']\n",
      "\tTypes of features in processed data (raw dtype, special dtypes):\n",
      "\t\t('float', [])     : 9 | ['chern_simons', 'cusp_volume', 'injectivity_radius', 'longitudinal_translation', 'meridinal_translation_imag', ...]\n",
      "\t\t('int', [])       : 3 | ['Unnamed: 0', 'hyperbolic_adjoint_torsion_degree', 'hyperbolic_torsion_degree']\n",
      "\t\t('int', ['bool']) : 5 | ['Symmetry_0', 'Symmetry_D3', 'Symmetry_D4', 'Symmetry_D6', 'Symmetry_Z/2 + Z/2']\n",
      "\t0.1s = Fit runtime\n",
      "\t17 features in original data used to generate 17 features in processed data.\n",
      "\tTrain Data (Processed) Memory Usage: 1.01 MB (0.0% of available memory)\n",
      "Data preprocessing and feature engineering runtime = 0.08s ...\n",
      "AutoGluon will gauge predictive performance using evaluation metric: 'accuracy'\n",
      "\tTo change this, specify the eval_metric parameter of Predictor()\n",
      "Automatically generating train/validation split with holdout_frac=0.1, Train Rows: 8985, Val Rows: 999\n",
      "Fitting 13 L1 models ...\n",
      "Fitting model: KNeighborsUnif ...\n",
      "\t0.2232\t = Validation score   (accuracy)\n",
      "\t0.07s\t = Training   runtime\n",
      "\t0.02s\t = Validation runtime\n",
      "Fitting model: KNeighborsDist ...\n",
      "\t0.2132\t = Validation score   (accuracy)\n",
      "\t0.02s\t = Training   runtime\n",
      "\t0.02s\t = Validation runtime\n",
      "Fitting model: NeuralNetFastAI ...\n",
      "/home/ubuntu/miniconda3/envs/ag/lib/python3.9/site-packages/torch/cuda/__init__.py:82: UserWarning: CUDA initialization: The NVIDIA driver on your system is too old (found version 10010). Please update your GPU driver by downloading and installing a new version from the URL: http://www.nvidia.com/Download/index.aspx Alternatively, go to: https://pytorch.org to install a PyTorch version that has been compiled with your version of the CUDA driver. (Triggered internally at  ../c10/cuda/CUDAFunctions.cpp:112.)\n",
      "  return torch._C._cuda_getDeviceCount() > 0\n",
      "\t0.9439\t = Validation score   (accuracy)\n",
      "\t10.64s\t = Training   runtime\n",
      "\t0.03s\t = Validation runtime\n",
      "Fitting model: LightGBMXT ...\n",
      "\t0.9459\t = Validation score   (accuracy)\n",
      "\t5.29s\t = Training   runtime\n",
      "\t0.03s\t = Validation runtime\n",
      "Fitting model: LightGBM ...\n",
      "\t0.956\t = Validation score   (accuracy)\n",
      "\t3.83s\t = Training   runtime\n",
      "\t0.02s\t = Validation runtime\n",
      "Fitting model: RandomForestGini ...\n",
      "\t0.9429\t = Validation score   (accuracy)\n",
      "\t1.2s\t = Training   runtime\n",
      "\t0.12s\t = Validation runtime\n",
      "Fitting model: RandomForestEntr ...\n",
      "\t0.9499\t = Validation score   (accuracy)\n",
      "\t1.24s\t = Training   runtime\n",
      "\t0.12s\t = Validation runtime\n",
      "Fitting model: CatBoost ...\n",
      "/home/ubuntu/miniconda3/envs/ag/lib/python3.9/site-packages/xgboost/compat.py:31: FutureWarning: pandas.Int64Index is deprecated and will be removed from pandas in a future version. Use pandas.Index with the appropriate dtype instead.\n",
      "  from pandas import MultiIndex, Int64Index\n",
      "\t0.956\t = Validation score   (accuracy)\n",
      "\t17.96s\t = Training   runtime\n",
      "\t0.01s\t = Validation runtime\n",
      "Fitting model: ExtraTreesGini ...\n",
      "\t0.9469\t = Validation score   (accuracy)\n",
      "\t1.16s\t = Training   runtime\n",
      "\t0.12s\t = Validation runtime\n",
      "Fitting model: ExtraTreesEntr ...\n",
      "\t0.9399\t = Validation score   (accuracy)\n",
      "\t1.13s\t = Training   runtime\n",
      "\t0.12s\t = Validation runtime\n",
      "Fitting model: XGBoost ...\n",
      "\t0.957\t = Validation score   (accuracy)\n",
      "\t6.16s\t = Training   runtime\n",
      "\t0.04s\t = Validation runtime\n",
      "Fitting model: NeuralNetTorch ...\n",
      "\t0.9389\t = Validation score   (accuracy)\n",
      "\t38.96s\t = Training   runtime\n",
      "\t0.01s\t = Validation runtime\n",
      "Fitting model: LightGBMLarge ...\n",
      "\t0.9499\t = Validation score   (accuracy)\n",
      "\t8.88s\t = Training   runtime\n",
      "\t0.04s\t = Validation runtime\n",
      "Fitting model: WeightedEnsemble_L2 ...\n",
      "\t0.965\t = Validation score   (accuracy)\n",
      "\t0.64s\t = Training   runtime\n",
      "\t0.0s\t = Validation runtime\n",
      "AutoGluon training complete, total runtime = 100.44s ... Best model: \"WeightedEnsemble_L2\"\n",
      "TabularPredictor saved. To load, use: predictor = TabularPredictor.load(\"AutogluonModels/ag-20220711_051456/\")\n"
     ]
    }
   ],
   "source": [
    "#@title Load the knot theory data and fit\n",
    "from autogluon.tabular import TabularDataset, TabularPredictor\n",
    "\n",
    "url = 'https://raw.githubusercontent.com/mli/ag-docs/main/knot_theory/'\n",
    "train_data = TabularDataset(url+'train.csv')\n",
    "test_data = TabularDataset(url+'test.csv')\n",
    "label = 'signature'\n",
    "\n",
    "predictor = TabularPredictor(label=label).fit(train_data)"
   ]
  },
  {
   "cell_type": "code",
   "execution_count": 4,
   "id": "d3ceb252",
   "metadata": {
    "ExecuteTime": {
     "end_time": "2022-07-11T05:17:38.606307Z",
     "start_time": "2022-07-11T05:17:38.602085Z"
    }
   },
   "outputs": [
    {
     "data": {
      "text/plain": [
       "['Unnamed: 0',\n",
       " 'chern_simons',\n",
       " 'cusp_volume',\n",
       " 'hyperbolic_adjoint_torsion_degree',\n",
       " 'hyperbolic_torsion_degree',\n",
       " 'injectivity_radius',\n",
       " 'longitudinal_translation',\n",
       " 'meridinal_translation_imag',\n",
       " 'meridinal_translation_real',\n",
       " 'short_geodesic_imag_part',\n",
       " 'short_geodesic_real_part',\n",
       " 'Symmetry_0',\n",
       " 'Symmetry_D3',\n",
       " 'Symmetry_D4',\n",
       " 'Symmetry_D6',\n",
       " 'Symmetry_Z/2 + Z/2',\n",
       " 'volume']"
      ]
     },
     "execution_count": 4,
     "metadata": {},
     "output_type": "execute_result"
    }
   ],
   "source": [
    "predictor.features()"
   ]
  },
  {
   "cell_type": "code",
   "execution_count": 17,
   "id": "5e7009f7",
   "metadata": {
    "ExecuteTime": {
     "end_time": "2022-07-11T05:37:17.168477Z",
     "start_time": "2022-07-11T05:36:56.297422Z"
    }
   },
   "outputs": [
    {
     "name": "stderr",
     "output_type": "stream",
     "text": [
      "These features in provided data are not utilized by the predictor and will be ignored: ['Symmetry_D8']\n"
     ]
    },
    {
     "data": {
      "text/html": [
       "<div>\n",
       "<style scoped>\n",
       "    .dataframe tbody tr th:only-of-type {\n",
       "        vertical-align: middle;\n",
       "    }\n",
       "\n",
       "    .dataframe tbody tr th {\n",
       "        vertical-align: top;\n",
       "    }\n",
       "\n",
       "    .dataframe thead th {\n",
       "        text-align: right;\n",
       "    }\n",
       "</style>\n",
       "<table border=\"1\" class=\"dataframe\">\n",
       "  <thead>\n",
       "    <tr style=\"text-align: right;\">\n",
       "      <th></th>\n",
       "      <th>importance</th>\n",
       "      <th>stddev</th>\n",
       "      <th>p_value</th>\n",
       "      <th>n</th>\n",
       "      <th>p99_high</th>\n",
       "      <th>p99_low</th>\n",
       "    </tr>\n",
       "  </thead>\n",
       "  <tbody>\n",
       "    <tr>\n",
       "      <th>meridinal_translation_real</th>\n",
       "      <td>0.535284</td>\n",
       "      <td>0.002687</td>\n",
       "      <td>7.614831e-11</td>\n",
       "      <td>5</td>\n",
       "      <td>0.540815</td>\n",
       "      <td>0.529752</td>\n",
       "    </tr>\n",
       "    <tr>\n",
       "      <th>meridinal_translation_imag</th>\n",
       "      <td>0.350270</td>\n",
       "      <td>0.011875</td>\n",
       "      <td>1.582828e-07</td>\n",
       "      <td>5</td>\n",
       "      <td>0.374721</td>\n",
       "      <td>0.325820</td>\n",
       "    </tr>\n",
       "    <tr>\n",
       "      <th>longitudinal_translation</th>\n",
       "      <td>0.280305</td>\n",
       "      <td>0.007623</td>\n",
       "      <td>6.557215e-08</td>\n",
       "      <td>5</td>\n",
       "      <td>0.296000</td>\n",
       "      <td>0.264609</td>\n",
       "    </tr>\n",
       "    <tr>\n",
       "      <th>short_geodesic_imag_part</th>\n",
       "      <td>0.066440</td>\n",
       "      <td>0.002377</td>\n",
       "      <td>1.964207e-07</td>\n",
       "      <td>5</td>\n",
       "      <td>0.071335</td>\n",
       "      <td>0.061544</td>\n",
       "    </tr>\n",
       "    <tr>\n",
       "      <th>hyperbolic_torsion_degree</th>\n",
       "      <td>0.053096</td>\n",
       "      <td>0.004111</td>\n",
       "      <td>4.278568e-06</td>\n",
       "      <td>5</td>\n",
       "      <td>0.061560</td>\n",
       "      <td>0.044631</td>\n",
       "    </tr>\n",
       "  </tbody>\n",
       "</table>\n",
       "</div>"
      ],
      "text/plain": [
       "                            importance    stddev       p_value  n  p99_high  \\\n",
       "meridinal_translation_real    0.535284  0.002687  7.614831e-11  5  0.540815   \n",
       "meridinal_translation_imag    0.350270  0.011875  1.582828e-07  5  0.374721   \n",
       "longitudinal_translation      0.280305  0.007623  6.557215e-08  5  0.296000   \n",
       "short_geodesic_imag_part      0.066440  0.002377  1.964207e-07  5  0.071335   \n",
       "hyperbolic_torsion_degree     0.053096  0.004111  4.278568e-06  5  0.061560   \n",
       "\n",
       "                             p99_low  \n",
       "meridinal_translation_real  0.529752  \n",
       "meridinal_translation_imag  0.325820  \n",
       "longitudinal_translation    0.264609  \n",
       "short_geodesic_imag_part    0.061544  \n",
       "hyperbolic_torsion_degree   0.044631  "
      ]
     },
     "execution_count": 17,
     "metadata": {},
     "output_type": "execute_result"
    }
   ],
   "source": [
    "predictor.feature_importance(test_data, silent=True).head()"
   ]
  },
  {
   "cell_type": "markdown",
   "id": "13a50252",
   "metadata": {},
   "source": [
    "TODO, evaluate a particular model"
   ]
  },
  {
   "cell_type": "code",
   "execution_count": 13,
   "id": "4cfc91f2",
   "metadata": {
    "ExecuteTime": {
     "end_time": "2022-07-11T05:24:57.335714Z",
     "start_time": "2022-07-11T05:24:57.331387Z"
    }
   },
   "outputs": [
    {
     "data": {
      "text/plain": [
       "'LightGBM'"
      ]
     },
     "execution_count": 13,
     "metadata": {},
     "output_type": "execute_result"
    }
   ],
   "source": [
    "model_name = predictor.get_model_names()[4]\n",
    "model_name"
   ]
  },
  {
   "cell_type": "code",
   "execution_count": 16,
   "id": "09225b4a",
   "metadata": {
    "ExecuteTime": {
     "end_time": "2022-07-11T05:36:53.940261Z",
     "start_time": "2022-07-11T05:36:51.389554Z"
    }
   },
   "outputs": [
    {
     "name": "stderr",
     "output_type": "stream",
     "text": [
      "These features in provided data are not utilized by the predictor and will be ignored: ['Symmetry_D8']\n"
     ]
    },
    {
     "data": {
      "text/html": [
       "<div>\n",
       "<style scoped>\n",
       "    .dataframe tbody tr th:only-of-type {\n",
       "        vertical-align: middle;\n",
       "    }\n",
       "\n",
       "    .dataframe tbody tr th {\n",
       "        vertical-align: top;\n",
       "    }\n",
       "\n",
       "    .dataframe thead th {\n",
       "        text-align: right;\n",
       "    }\n",
       "</style>\n",
       "<table border=\"1\" class=\"dataframe\">\n",
       "  <thead>\n",
       "    <tr style=\"text-align: right;\">\n",
       "      <th></th>\n",
       "      <th>importance</th>\n",
       "      <th>stddev</th>\n",
       "      <th>p_value</th>\n",
       "      <th>n</th>\n",
       "      <th>p99_high</th>\n",
       "      <th>p99_low</th>\n",
       "    </tr>\n",
       "  </thead>\n",
       "  <tbody>\n",
       "    <tr>\n",
       "      <th>meridinal_translation_real</th>\n",
       "      <td>0.553276</td>\n",
       "      <td>0.004327</td>\n",
       "      <td>4.487034e-10</td>\n",
       "      <td>5</td>\n",
       "      <td>0.562184</td>\n",
       "      <td>0.544367</td>\n",
       "    </tr>\n",
       "    <tr>\n",
       "      <th>meridinal_translation_imag</th>\n",
       "      <td>0.300942</td>\n",
       "      <td>0.012561</td>\n",
       "      <td>3.633110e-07</td>\n",
       "      <td>5</td>\n",
       "      <td>0.326804</td>\n",
       "      <td>0.275079</td>\n",
       "    </tr>\n",
       "    <tr>\n",
       "      <th>longitudinal_translation</th>\n",
       "      <td>0.287397</td>\n",
       "      <td>0.010815</td>\n",
       "      <td>2.402149e-07</td>\n",
       "      <td>5</td>\n",
       "      <td>0.309666</td>\n",
       "      <td>0.265128</td>\n",
       "    </tr>\n",
       "    <tr>\n",
       "      <th>short_geodesic_imag_part</th>\n",
       "      <td>0.064196</td>\n",
       "      <td>0.001569</td>\n",
       "      <td>4.275496e-08</td>\n",
       "      <td>5</td>\n",
       "      <td>0.067426</td>\n",
       "      <td>0.060966</td>\n",
       "    </tr>\n",
       "    <tr>\n",
       "      <th>injectivity_radius</th>\n",
       "      <td>0.024644</td>\n",
       "      <td>0.001770</td>\n",
       "      <td>3.167893e-06</td>\n",
       "      <td>5</td>\n",
       "      <td>0.028288</td>\n",
       "      <td>0.021001</td>\n",
       "    </tr>\n",
       "  </tbody>\n",
       "</table>\n",
       "</div>"
      ],
      "text/plain": [
       "                            importance    stddev       p_value  n  p99_high  \\\n",
       "meridinal_translation_real    0.553276  0.004327  4.487034e-10  5  0.562184   \n",
       "meridinal_translation_imag    0.300942  0.012561  3.633110e-07  5  0.326804   \n",
       "longitudinal_translation      0.287397  0.010815  2.402149e-07  5  0.309666   \n",
       "short_geodesic_imag_part      0.064196  0.001569  4.275496e-08  5  0.067426   \n",
       "injectivity_radius            0.024644  0.001770  3.167893e-06  5  0.028288   \n",
       "\n",
       "                             p99_low  \n",
       "meridinal_translation_real  0.544367  \n",
       "meridinal_translation_imag  0.275079  \n",
       "longitudinal_translation    0.265128  \n",
       "short_geodesic_imag_part    0.060966  \n",
       "injectivity_radius          0.021001  "
      ]
     },
     "execution_count": 16,
     "metadata": {},
     "output_type": "execute_result"
    }
   ],
   "source": [
    "predictor.feature_importance(test_data, model=model_name, silent=True).head()"
   ]
  },
  {
   "cell_type": "markdown",
   "id": "7cd681f5",
   "metadata": {},
   "source": [
    "Consistent with the science paper."
   ]
  }
 ],
 "metadata": {
  "kernelspec": {
   "display_name": "Python 3 (ipykernel)",
   "language": "python",
   "name": "python3"
  },
  "language_info": {
   "codemirror_mode": {
    "name": "ipython",
    "version": 3
   },
   "file_extension": ".py",
   "mimetype": "text/x-python",
   "name": "python",
   "nbconvert_exporter": "python",
   "pygments_lexer": "ipython3",
   "version": "3.9.12"
  },
  "toc": {
   "base_numbering": 1,
   "nav_menu": {},
   "number_sections": true,
   "sideBar": true,
   "skip_h1_title": true,
   "title_cell": "Table of Contents",
   "title_sidebar": "Contents",
   "toc_cell": false,
   "toc_position": {},
   "toc_section_display": true,
   "toc_window_display": false
  }
 },
 "nbformat": 4,
 "nbformat_minor": 5
}
