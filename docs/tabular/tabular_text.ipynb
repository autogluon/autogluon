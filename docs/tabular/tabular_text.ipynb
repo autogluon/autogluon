{
 "cells": [
  {
   "cell_type": "markdown",
   "id": "fa901707",
   "metadata": {},
   "source": [
    "# Tabular with Text\n",
    "\n"
   ]
  },
  {
   "cell_type": "code",
   "execution_count": 15,
   "id": "a564111b",
   "metadata": {
    "ExecuteTime": {
     "end_time": "2022-07-14T21:51:27.733901Z",
     "start_time": "2022-07-14T21:51:26.669963Z"
    }
   },
   "outputs": [
    {
     "data": {
      "text/plain": [
       "((5727, 4), (637, 4))"
      ]
     },
     "execution_count": 15,
     "metadata": {},
     "output_type": "execute_result"
    }
   ],
   "source": [
    "import pandas as pd\n",
    "\n",
    "url = 'https://autogluon-text-data.s3.amazonaws.com/multimodal_text/machine_hack_product_sentiment/'\n",
    "train_data = pd.read_csv(url+'train.csv', index_col=0)\n",
    "test_data = pd.read_csv(url+'dev.csv', index_col=0)\n",
    "train_data.shape, test_data.shape"
   ]
  },
  {
   "cell_type": "code",
   "execution_count": 16,
   "id": "07152af6",
   "metadata": {
    "ExecuteTime": {
     "end_time": "2022-07-14T21:51:36.667712Z",
     "start_time": "2022-07-14T21:51:36.659915Z"
    }
   },
   "outputs": [
    {
     "data": {
      "text/html": [
       "<div>\n",
       "<style scoped>\n",
       "    .dataframe tbody tr th:only-of-type {\n",
       "        vertical-align: middle;\n",
       "    }\n",
       "\n",
       "    .dataframe tbody tr th {\n",
       "        vertical-align: top;\n",
       "    }\n",
       "\n",
       "    .dataframe thead th {\n",
       "        text-align: right;\n",
       "    }\n",
       "</style>\n",
       "<table border=\"1\" class=\"dataframe\">\n",
       "  <thead>\n",
       "    <tr style=\"text-align: right;\">\n",
       "      <th></th>\n",
       "      <th>Text_ID</th>\n",
       "      <th>Product_Description</th>\n",
       "      <th>Product_Type</th>\n",
       "      <th>Sentiment</th>\n",
       "    </tr>\n",
       "  </thead>\n",
       "  <tbody>\n",
       "    <tr>\n",
       "      <th>2461</th>\n",
       "      <td>2471</td>\n",
       "      <td>Just heard that Apple is opening a store in do...</td>\n",
       "      <td>2</td>\n",
       "      <td>3</td>\n",
       "    </tr>\n",
       "    <tr>\n",
       "      <th>198</th>\n",
       "      <td>1382</td>\n",
       "      <td>Tristan H, apture: being fast &amp;amp; iterative ...</td>\n",
       "      <td>9</td>\n",
       "      <td>2</td>\n",
       "    </tr>\n",
       "    <tr>\n",
       "      <th>5740</th>\n",
       "      <td>4238</td>\n",
       "      <td>Hey, you lucky dogs at #SXSW with iPads -- che...</td>\n",
       "      <td>6</td>\n",
       "      <td>3</td>\n",
       "    </tr>\n",
       "    <tr>\n",
       "      <th>3794</th>\n",
       "      <td>6795</td>\n",
       "      <td>RT @mention THIS was the best thing I saw at #...</td>\n",
       "      <td>9</td>\n",
       "      <td>2</td>\n",
       "    </tr>\n",
       "    <tr>\n",
       "      <th>3151</th>\n",
       "      <td>7094</td>\n",
       "      <td>Apple is opening temp retail store in Austin t...</td>\n",
       "      <td>2</td>\n",
       "      <td>3</td>\n",
       "    </tr>\n",
       "  </tbody>\n",
       "</table>\n",
       "</div>"
      ],
      "text/plain": [
       "      Text_ID                                Product_Description  \\\n",
       "2461     2471  Just heard that Apple is opening a store in do...   \n",
       "198      1382  Tristan H, apture: being fast &amp; iterative ...   \n",
       "5740     4238  Hey, you lucky dogs at #SXSW with iPads -- che...   \n",
       "3794     6795  RT @mention THIS was the best thing I saw at #...   \n",
       "3151     7094  Apple is opening temp retail store in Austin t...   \n",
       "\n",
       "      Product_Type  Sentiment  \n",
       "2461             2          3  \n",
       "198              9          2  \n",
       "5740             6          3  \n",
       "3794             9          2  \n",
       "3151             2          3  "
      ]
     },
     "execution_count": 16,
     "metadata": {},
     "output_type": "execute_result"
    }
   ],
   "source": [
    "train_data.head(n=5)"
   ]
  },
  {
   "cell_type": "markdown",
   "id": "f171899a",
   "metadata": {},
   "source": []
  },
  {
   "cell_type": "code",
   "execution_count": 17,
   "id": "933e2ee7",
   "metadata": {
    "ExecuteTime": {
     "end_time": "2022-07-14T21:51:50.126224Z",
     "start_time": "2022-07-14T21:51:50.121274Z"
    }
   },
   "outputs": [],
   "source": [
    "train_data.drop(columns=['Text_ID'], inplace=True)\n",
    "test_data.drop(columns=['Text_ID'], inplace=True)"
   ]
  },
  {
   "cell_type": "code",
   "execution_count": 19,
   "id": "b7e9789f",
   "metadata": {
    "ExecuteTime": {
     "end_time": "2022-07-14T21:55:18.096282Z",
     "start_time": "2022-07-14T21:54:38.095479Z"
    }
   },
   "outputs": [
    {
     "name": "stderr",
     "output_type": "stream",
     "text": [
      "No path specified. Models will be saved in: \"AutogluonModels/ag-20220714_215438/\"\n",
      "Beginning AutoGluon training ...\n",
      "AutoGluon will save models to \"AutogluonModels/ag-20220714_215438/\"\n",
      "AutoGluon Version:  0.5.0\n",
      "Python Version:     3.9.12\n",
      "Operating System:   Linux\n",
      "Train Data Rows:    5727\n",
      "Train Data Columns: 2\n",
      "Label Column: Sentiment\n",
      "Preprocessing data ...\n",
      "AutoGluon infers your prediction problem is: 'multiclass' (because dtype of label-column == int, but few unique label-values observed).\n",
      "\t4 unique label values:  [3, 2, 1, 0]\n",
      "\tIf 'multiclass' is not the correct problem_type, please manually specify the problem_type parameter during predictor init (You may specify problem_type as one of: ['binary', 'multiclass', 'regression'])\n",
      "Train Data Class Count: 4\n",
      "Using Feature Generators to preprocess the data ...\n",
      "Fitting AutoMLPipelineFeatureGenerator...\n",
      "\tAvailable Memory:                    223234.33 MB\n",
      "\tTrain Data (Original)  Memory Usage: 0.97 MB (0.0% of available memory)\n",
      "\tInferring data type of each feature based on column values. Set feature_metadata_in to manually specify special dtypes of the features.\n",
      "\tStage 1 Generators:\n",
      "\t\tFitting AsTypeFeatureGenerator...\n",
      "\tStage 2 Generators:\n",
      "\t\tFitting FillNaFeatureGenerator...\n",
      "\tStage 3 Generators:\n",
      "\t\tFitting IdentityFeatureGenerator...\n",
      "\t\tFitting IdentityFeatureGenerator...\n",
      "\t\t\tFitting RenameFeatureGenerator...\n",
      "\t\tFitting CategoryFeatureGenerator...\n",
      "\t\t\tFitting CategoryMemoryMinimizeFeatureGenerator...\n",
      "\t\tFitting TextSpecialFeatureGenerator...\n",
      "\t\t\tFitting BinnedFeatureGenerator...\n",
      "\t\t\tFitting DropDuplicatesFeatureGenerator...\n",
      "\t\tFitting TextNgramFeatureGenerator...\n",
      "\t\t\tFitting CountVectorizer for text features: ['Product_Description']\n",
      "\t\t\tCountVectorizer fit with vocabulary size = 725\n",
      "\tStage 4 Generators:\n",
      "\t\tFitting DropUniqueFeatureGenerator...\n",
      "\tTypes of features in original data (raw dtype, special dtypes):\n",
      "\t\t('int', [])          : 1 | ['Product_Type']\n",
      "\t\t('object', ['text']) : 1 | ['Product_Description']\n",
      "\tTypes of features in processed data (raw dtype, special dtypes):\n",
      "\t\t('category', ['text_as_category'])  :   1 | ['Product_Description']\n",
      "\t\t('int', [])                         :   1 | ['Product_Type']\n",
      "\t\t('int', ['binned', 'text_special']) :  32 | ['Product_Description.char_count', 'Product_Description.word_count', 'Product_Description.capital_ratio', 'Product_Description.lower_ratio', 'Product_Description.digit_ratio', ...]\n",
      "\t\t('int', ['text_ngram'])             : 726 | ['__nlp__.00', '__nlp__.03', '__nlp__.10', '__nlp__.11', '__nlp__.11 infektd', ...]\n",
      "\t\t('object', ['text'])                :   1 | ['Product_Description_raw_text']\n",
      "\t1.5s = Fit runtime\n",
      "\t2 features in original data used to generate 761 features in processed data.\n",
      "\tTrain Data (Processed) Memory Usage: 9.51 MB (0.0% of available memory)\n",
      "Data preprocessing and feature engineering runtime = 1.58s ...\n",
      "AutoGluon will gauge predictive performance using evaluation metric: 'accuracy'\n",
      "\tTo change this, specify the eval_metric parameter of Predictor()\n",
      "Automatically generating train/validation split with holdout_frac=0.1, Train Rows: 5154, Val Rows: 573\n",
      "Fitting 9 L1 models ...\n",
      "Fitting model: LightGBM ...\n",
      "\t0.8796\t = Validation score   (accuracy)\n",
      "\t3.23s\t = Training   runtime\n",
      "\t0.02s\t = Validation runtime\n",
      "Fitting model: LightGBMXT ...\n",
      "\t0.8569\t = Validation score   (accuracy)\n",
      "\t3.06s\t = Training   runtime\n",
      "\t0.02s\t = Validation runtime\n",
      "Fitting model: CatBoost ...\n",
      "/home/ubuntu/miniconda3/envs/ag/lib/python3.9/site-packages/xgboost/compat.py:31: FutureWarning: pandas.Int64Index is deprecated and will be removed from pandas in a future version. Use pandas.Index with the appropriate dtype instead.\n",
      "  from pandas import MultiIndex, Int64Index\n",
      "\t0.8726\t = Validation score   (accuracy)\n",
      "\t2.91s\t = Training   runtime\n",
      "\t0.05s\t = Validation runtime\n",
      "Fitting model: XGBoost ...\n",
      "\t0.8761\t = Validation score   (accuracy)\n",
      "\t1.74s\t = Training   runtime\n",
      "\t0.03s\t = Validation runtime\n",
      "Fitting model: NeuralNetTorch ...\n",
      "/home/ubuntu/miniconda3/envs/ag/lib/python3.9/site-packages/torch/autograd/__init__.py:173: UserWarning: CUDA initialization: The NVIDIA driver on your system is too old (found version 10010). Please update your GPU driver by downloading and installing a new version from the URL: http://www.nvidia.com/Download/index.aspx Alternatively, go to: https://pytorch.org to install a PyTorch version that has been compiled with your version of the CUDA driver. (Triggered internally at  ../c10/cuda/CUDAFunctions.cpp:112.)\n",
      "  Variable._execution_engine.run_backward(  # Calls into the C++ engine to run the backward pass\n",
      "\t0.8796\t = Validation score   (accuracy)\n",
      "\t17.46s\t = Training   runtime\n",
      "\t0.03s\t = Validation runtime\n",
      "Fitting model: VowpalWabbit ...\n",
      "\tWarning: Exception caused VowpalWabbit to fail during training (ImportError)... Skipping this model.\n",
      "\t\t`import vowpalwabbit` failed.\n",
      "A quick tip is to install via `pip install vowpalwabbit==8.10.1\n",
      "Fitting model: LightGBMLarge ...\n",
      "\t0.8778\t = Validation score   (accuracy)\n",
      "\t7.97s\t = Training   runtime\n",
      "\t0.02s\t = Validation runtime\n",
      "Fitting model: TextPredictor ...\n",
      "\tWarning: Exception caused TextPredictor to fail during training... Skipping this model.\n",
      "\t\tModel requires 1 num_gpus to fit, but 0 are available.\n",
      "Detailed Traceback:\n",
      "Traceback (most recent call last):\n",
      "  File \"/home/ubuntu/miniconda3/envs/ag/lib/python3.9/site-packages/autogluon/core/trainer/abstract_trainer.py\", line 1086, in _train_and_save\n",
      "    model = self._train_single(X, y, model, X_val, y_val, **model_fit_kwargs)\n",
      "  File \"/home/ubuntu/miniconda3/envs/ag/lib/python3.9/site-packages/autogluon/core/trainer/abstract_trainer.py\", line 1044, in _train_single\n",
      "    model = model.fit(X=X, y=y, X_val=X_val, y_val=y_val, **model_fit_kwargs)\n",
      "  File \"/home/ubuntu/miniconda3/envs/ag/lib/python3.9/site-packages/autogluon/core/models/abstract/abstract_model.py\", line 577, in fit\n",
      "    self.validate_fit_resources(**kwargs)\n",
      "  File \"/home/ubuntu/miniconda3/envs/ag/lib/python3.9/site-packages/autogluon/core/models/abstract/abstract_model.py\", line 1073, in validate_fit_resources\n",
      "    self._validate_fit_resources(**resources)\n",
      "  File \"/home/ubuntu/miniconda3/envs/ag/lib/python3.9/site-packages/autogluon/core/models/abstract/abstract_model.py\", line 1081, in _validate_fit_resources\n",
      "    raise AssertionError(f'Model requires {res_min[resource_name]} {resource_name} to fit, but {resources[resource_name]} are available.')\n",
      "AssertionError: Model requires 1 num_gpus to fit, but 0 are available.\n",
      "Fitting model: ImagePredictor ...\n",
      "\tNo valid features to train ImagePredictor... Skipping this model.\n",
      "Fitting model: WeightedEnsemble_L2 ...\n",
      "\t0.8796\t = Validation score   (accuracy)\n",
      "\t0.24s\t = Training   runtime\n",
      "\t0.0s\t = Validation runtime\n",
      "AutoGluon training complete, total runtime = 39.98s ... Best model: \"WeightedEnsemble_L2\"\n",
      "TabularPredictor saved. To load, use: predictor = TabularPredictor.load(\"AutogluonModels/ag-20220714_215438/\")\n"
     ]
    }
   ],
   "source": [
    "from autogluon.tabular import TabularPredictor\n",
    "\n",
    "predictor = TabularPredictor(label='Sentiment').fit(\n",
    "    train_data, hyperparameters='multimodal')"
   ]
  },
  {
   "cell_type": "code",
   "execution_count": 20,
   "id": "fc7d685e",
   "metadata": {
    "ExecuteTime": {
     "end_time": "2022-07-14T21:57:20.853582Z",
     "start_time": "2022-07-14T21:57:20.849532Z"
    }
   },
   "outputs": [
    {
     "data": {
      "text/plain": [
       "'1.11.0+cu102'"
      ]
     },
     "execution_count": 20,
     "metadata": {},
     "output_type": "execute_result"
    }
   ],
   "source": [
    "import torch\n",
    "torch.__version__"
   ]
  },
  {
   "cell_type": "code",
   "execution_count": 21,
   "id": "decb48ea",
   "metadata": {
    "ExecuteTime": {
     "end_time": "2022-07-14T21:57:29.691541Z",
     "start_time": "2022-07-14T21:57:29.687225Z"
    }
   },
   "outputs": [
    {
     "data": {
      "text/plain": [
       "0"
      ]
     },
     "execution_count": 21,
     "metadata": {},
     "output_type": "execute_result"
    }
   ],
   "source": [
    "torch.cuda.device_count()\n"
   ]
  },
  {
   "cell_type": "code",
   "execution_count": null,
   "id": "1b6ff7cd",
   "metadata": {},
   "outputs": [],
   "source": []
  }
 ],
 "metadata": {
  "kernelspec": {
   "display_name": "Python 3 (ipykernel)",
   "language": "python",
   "name": "python3"
  },
  "language_info": {
   "codemirror_mode": {
    "name": "ipython",
    "version": 3
   },
   "file_extension": ".py",
   "mimetype": "text/x-python",
   "name": "python",
   "nbconvert_exporter": "python",
   "pygments_lexer": "ipython3",
   "version": "3.9.12"
  },
  "toc": {
   "base_numbering": 1,
   "nav_menu": {},
   "number_sections": true,
   "sideBar": true,
   "skip_h1_title": true,
   "title_cell": "Table of Contents",
   "title_sidebar": "Contents",
   "toc_cell": false,
   "toc_position": {},
   "toc_section_display": true,
   "toc_window_display": false
  }
 },
 "nbformat": 4,
 "nbformat_minor": 5
}
