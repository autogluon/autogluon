{
 "cells": [
  {
   "cell_type": "markdown",
   "metadata": {},
   "source": [
    "# AutoGluon"
   ]
  },
  {
   "cell_type": "markdown",
   "metadata": {},
   "source": [
    "## Preparation\n",
    "\n",
    "### Install AutoGluon\n",
    "\n",
    "```bash\n",
    "git clone ssh://git.amazon.com/pkg/AutoGluon\n",
    "cd AutoGluon\n",
    "python setup.py develop\n",
    "```"
   ]
  },
  {
   "cell_type": "markdown",
   "metadata": {},
   "source": [
    "### Import Task\n",
    "\n",
    "We are using text classification as an example in this notebook."
   ]
  },
  {
   "cell_type": "code",
   "execution_count": 1,
   "metadata": {},
   "outputs": [
    {
     "name": "stdout",
     "output_type": "stream",
     "text": [
      "WARNING: Not monitoring node memory since `psutil` is not installed. Install this with `pip install psutil` (or ray[debug]) to enable debugging of memory-related crashes.\n"
     ]
    }
   ],
   "source": [
    "from autogluon import text_classification as task\n",
    "\n",
    "import logging\n",
    "logging.basicConfig(level=logging.INFO)"
   ]
  },
  {
   "cell_type": "markdown",
   "metadata": {},
   "source": [
    "## A Quick Text Classification Example\n",
    "\n",
    "We first show the most basic usage by first creating a dataset and then fiting the dataset to generate the results with the text classification example. We will use Stanford Sentiment Treebank Dataset for this tutorial."
   ]
  },
  {
   "cell_type": "markdown",
   "metadata": {},
   "source": [
    "### Create AutoGluon Dataset\n",
    "\n",
    "We use Stanford Sentiment Treebank - 2 (SST2) dataset."
   ]
  },
  {
   "cell_type": "code",
   "execution_count": 2,
   "metadata": {},
   "outputs": [],
   "source": [
    "dataset = task.Dataset(name='sst_2') # case insentive \n",
    "# TODO. show a quick summary of the dataset, e.g. #example for train, #classes"
   ]
  },
  {
   "cell_type": "markdown",
   "metadata": {},
   "source": [
    "The constructed dataset contains the `gluon.data.DataLoader` for training and validation datasets."
   ]
  },
  {
   "cell_type": "markdown",
   "metadata": {},
   "source": [
    "Then we will use the default configuration of the text classification to generate:\n",
    "* Best result of the search in terms of validation accuracy\n",
    "* Get the best configuration corresponding to the best result obtained.\n",
    "    \n",
    "To acheive this, we are using `fit` function to generate the above results based on the datasets.\n",
    "\n",
    "The default configruation is based on `max_trial_count=5` and `max_training_epochs=5`."
   ]
  },
  {
   "cell_type": "code",
   "execution_count": 4,
   "metadata": {},
   "outputs": [
    {
     "name": "stderr",
     "output_type": "stream",
     "text": [
      "INFO:autogluon.scheduler.fifo:Starting Experiments\n",
      "INFO:autogluon.scheduler.fifo:Num of Finished Tasks is 0\n",
      "INFO:autogluon.scheduler.fifo:Num of Pending Tasks is 5\n",
      "INFO:autogluon.scheduler.fifo:Adding A New Task Task(TASK_ID: 0) Task(fn=<function train_text_classification at 0x7f5f2df51c80>, args={'args': Namespace(data_name='sst_2', epochs=4, num_gpus=4, pretrained=True, train_path='/home/ubuntu/automodel/tutorials/data/train.json', val_path='/home/ubuntu/automodel/tutorials/data/test.json'), 'config': {'batch_size': 64, 'model': 'awd_lstm_lm_600', 'optimizer': 'sgd', 'dense_layers': 3, 'dropout': 0.2463208171138117, 'lr': 0.047013605353489696, 'momentum': 0.8502797339366056, 'pretrained': True}}, resources=Resources(nCPUs = 4, nGPUs = 4)))\n",
      "INFO:autogluon.scheduler.fifo:Adding A New Task Task(TASK_ID: 1) Task(fn=<function train_text_classification at 0x7f5f2df51c80>, args={'args': Namespace(data_name='sst_2', epochs=4, num_gpus=4, pretrained=True, train_path='/home/ubuntu/automodel/tutorials/data/train.json', val_path='/home/ubuntu/automodel/tutorials/data/test.json'), 'config': {'batch_size': 16, 'model': 'standard_lstm_lm_1500', 'optimizer': 'sgd', 'dense_layers': 3, 'dropout': 0.29339026585594496, 'lr': 0.019515954577238186, 'momentum': 0.889995020156713, 'pretrained': True}}, resources=Resources(nCPUs = 4, nGPUs = 4)))\n",
      "INFO:autogluon.task.text_classification.pipeline:Task ID : 0, args : Namespace(batch_size=64, data_name='sst_2', dense_layers=3, dropout=0.2463208171138117, epochs=4, lr=0.047013605353489696, model='awd_lstm_lm_600', momentum=0.8502797339366056, num_gpus=4, optimizer='sgd', pretrained=True, train_path='/home/ubuntu/automodel/tutorials/data/train.json', val_path='/home/ubuntu/automodel/tutorials/data/test.json')\n",
      "INFO:autogluon.scheduler.fifo:Adding A New Task Task(TASK_ID: 2) Task(fn=<function train_text_classification at 0x7f5f2df51c80>, args={'args': Namespace(data_name='sst_2', epochs=4, num_gpus=4, pretrained=True, train_path='/home/ubuntu/automodel/tutorials/data/train.json', val_path='/home/ubuntu/automodel/tutorials/data/test.json'), 'config': {'batch_size': 8, 'model': 'standard_lstm_lm_650', 'optimizer': 'ftml', 'dense_layers': 2, 'dropout': 0.35362640673371476, 'lr': 0.001161410641902784, 'momentum': 0.8807446661297759, 'pretrained': True}}, resources=Resources(nCPUs = 4, nGPUs = 4)))\n",
      "INFO:autogluon.task.text_classification.pipeline:Task ID : 1, args : Namespace(batch_size=16, data_name='sst_2', dense_layers=3, dropout=0.29339026585594496, epochs=4, lr=0.019515954577238186, model='standard_lstm_lm_1500', momentum=0.889995020156713, num_gpus=4, optimizer='sgd', pretrained=True, train_path='/home/ubuntu/automodel/tutorials/data/train.json', val_path='/home/ubuntu/automodel/tutorials/data/test.json')\n",
      "/home/ubuntu/anaconda3/envs/ag/lib/python3.7/site-packages/mxnet/gluon/block.py:520: UserWarning: All children of this Sequential layer 'textclassificationnet0_sequential0_' are HybridBlocks. Consider using HybridSequential for the best performance.\n",
      "  cld.hybridize(active, **kwargs)\n",
      "/home/ubuntu/anaconda3/envs/ag/lib/python3.7/site-packages/mxnet/gluon/block.py:520: UserWarning: All children of this Sequential layer 'awdrnn0_sequential0_' are HybridBlocks. Consider using HybridSequential for the best performance.\n",
      "  cld.hybridize(active, **kwargs)\n",
      "INFO:autogluon.task.text_classification.pipeline:Task ID : 0, network : TextClassificationNet(\n",
      "  (embedding): HybridSequential(\n",
      "    (0): Embedding(33278 -> 200, float32)\n",
      "    (1): Dropout(p = 0.3, axes=(0,))\n",
      "  )\n",
      "  (encoder): Sequential(\n",
      "    (0): LSTM(200 -> 600, TNC)\n",
      "    (1): LSTM(600 -> 600, TNC)\n",
      "    (2): LSTM(600 -> 200, TNC)\n",
      "  )\n",
      "  (agg_layer): MeanPoolingLayer(\n",
      "  \n",
      "  )\n",
      "  (output): Sequential(\n",
      "    (0): Dropout(p = 0.2463208171138117, axes=())\n",
      "    (1): Dense(None -> 40, linear)\n",
      "    (2): Dropout(p = 0.2463208171138117, axes=())\n",
      "    (3): Dense(None -> 20, linear)\n",
      "    (4): Dropout(p = 0.2463208171138117, axes=())\n",
      "    (5): Dense(None -> 10, linear)\n",
      "    (6): Dropout(p = 0.2463208171138117, axes=())\n",
      "    (7): Dense(None -> 2, linear)\n",
      "  )\n",
      ")\n",
      "/home/ubuntu/automodel/autogluon/estimator/estimator.py:355: UserWarning: You are training with the following default event handlers: MetricHandler, ValidationHandler, LoggingHandler, DataLoaderHandler. They use loss and metrics from estimator.prepare_loss_and_metrics(). Please use the same set of metrics for all your other handlers.\n",
      "  warnings.warn(msg)\n",
      "Training begin: using optimizer FTML with current learning rate 0.0470 \n",
      "INFO:autogluon.estimator.event_handler:Training begin: using optimizer FTML with current learning rate 0.0470 \n",
      "Train for 4 epochs.\n",
      "INFO:autogluon.estimator.event_handler:Train for 4 epochs.\n",
      "[Epoch 0] Begin, current learning rate: 0.0470\n",
      "INFO:autogluon.estimator.event_handler:[Epoch 0] Begin, current learning rate: 0.0470\n",
      "/home/ubuntu/anaconda3/envs/ag/lib/python3.7/site-packages/mxnet/gluon/block.py:520: UserWarning: All children of this Sequential layer 'textclassificationnet0_sequential0_' are HybridBlocks. Consider using HybridSequential for the best performance.\n",
      "  cld.hybridize(active, **kwargs)\n",
      "INFO:autogluon.task.text_classification.pipeline:Task ID : 1, network : TextClassificationNet(\n",
      "  (embedding): HybridSequential(\n",
      "    (0): Embedding(33278 -> 1500, float32)\n",
      "    (1): Dropout(p = 0.65, axes=())\n",
      "  )\n",
      "  (encoder): LSTM(1500 -> 1500, TNC, num_layers=2, dropout=0.65)\n",
      "  (agg_layer): MeanPoolingLayer(\n",
      "  \n",
      "  )\n",
      "  (output): Sequential(\n",
      "    (0): Dropout(p = 0.29339026585594496, axes=())\n",
      "    (1): Dense(None -> 40, linear)\n",
      "    (2): Dropout(p = 0.29339026585594496, axes=())\n",
      "    (3): Dense(None -> 20, linear)\n",
      "    (4): Dropout(p = 0.29339026585594496, axes=())\n",
      "    (5): Dense(None -> 10, linear)\n",
      "    (6): Dropout(p = 0.29339026585594496, axes=())\n",
      "    (7): Dense(None -> 2, linear)\n",
      "  )\n",
      ")\n",
      "/home/ubuntu/automodel/autogluon/estimator/estimator.py:355: UserWarning: You are training with the following default event handlers: MetricHandler, ValidationHandler, LoggingHandler, DataLoaderHandler. They use loss and metrics from estimator.prepare_loss_and_metrics(). Please use the same set of metrics for all your other handlers.\n",
      "  warnings.warn(msg)\n",
      "Training begin: using optimizer FTML with current learning rate 0.0195 \n",
      "INFO:autogluon.estimator.event_handler:Training begin: using optimizer FTML with current learning rate 0.0195 \n",
      "Train for 4 epochs.\n",
      "INFO:autogluon.estimator.event_handler:Train for 4 epochs.\n",
      "[Epoch 0] Begin, current learning rate: 0.0195\n",
      "INFO:autogluon.estimator.event_handler:[Epoch 0] Begin, current learning rate: 0.0195\n",
      "INFO:autogluon.scheduler.reporter:StatusReporter reporting: {\"task_id\": 0, \"epoch\": 1, \"accuracy\": 0.73810888252149, \"time_this_iter\": 88.24145317077637}\n",
      "[Epoch 0] Finished in 38.709s, train accuracy: 0.7082, train softmaxcrossentropyloss: 0.5698, validation accuracy: 0.7381, validation softmaxcrossentropyloss: 0.5605\n",
      "INFO:autogluon.estimator.event_handler:[Epoch 0] Finished in 38.709s, train accuracy: 0.7082, train softmaxcrossentropyloss: 0.5698, validation accuracy: 0.7381, validation softmaxcrossentropyloss: 0.5605\n",
      "[Epoch 1] Begin, current learning rate: 0.0470\n",
      "INFO:autogluon.estimator.event_handler:[Epoch 1] Begin, current learning rate: 0.0470\n",
      "INFO:autogluon.scheduler.reporter:StatusReporter reporting: {\"task_id\": 0, \"epoch\": 2, \"accuracy\": 0.6836676217765043, \"time_this_iter\": 29.393804788589478}\n",
      "[Epoch 1] Finished in 29.392s, train accuracy: 0.6687, train softmaxcrossentropyloss: 0.6104, validation accuracy: 0.6837, validation softmaxcrossentropyloss: 0.5996\n",
      "INFO:autogluon.estimator.event_handler:[Epoch 1] Finished in 29.392s, train accuracy: 0.6687, train softmaxcrossentropyloss: 0.6104, validation accuracy: 0.6837, validation softmaxcrossentropyloss: 0.5996\n",
      "[Epoch 2] Begin, current learning rate: 0.0470\n",
      "INFO:autogluon.estimator.event_handler:[Epoch 2] Begin, current learning rate: 0.0470\n",
      "INFO:autogluon.scheduler.reporter:StatusReporter reporting: {\"task_id\": 0, \"epoch\": 3, \"accuracy\": 0.673352435530086, \"time_this_iter\": 27.21599817276001}\n",
      "[Epoch 2] Finished in 27.207s, train accuracy: 0.6583, train softmaxcrossentropyloss: 0.6216, validation accuracy: 0.6734, validation softmaxcrossentropyloss: 0.6061\n",
      "INFO:autogluon.estimator.event_handler:[Epoch 2] Finished in 27.207s, train accuracy: 0.6583, train softmaxcrossentropyloss: 0.6216, validation accuracy: 0.6734, validation softmaxcrossentropyloss: 0.6061\n"
     ]
    },
    {
     "name": "stderr",
     "output_type": "stream",
     "text": [
      "[Epoch 3] Begin, current learning rate: 0.0470\n",
      "INFO:autogluon.estimator.event_handler:[Epoch 3] Begin, current learning rate: 0.0470\n",
      "INFO:autogluon.scheduler.reporter:StatusReporter reporting: {\"task_id\": 0, \"epoch\": 4, \"accuracy\": 0.5392550143266476, \"time_this_iter\": 27.494879245758057}\n",
      "[Epoch 3] Finished in 27.494s, train accuracy: 0.6419, train softmaxcrossentropyloss: 0.6366, validation accuracy: 0.5393, validation softmaxcrossentropyloss: 0.6658\n",
      "INFO:autogluon.estimator.event_handler:[Epoch 3] Finished in 27.494s, train accuracy: 0.6419, train softmaxcrossentropyloss: 0.6366, validation accuracy: 0.5393, validation softmaxcrossentropyloss: 0.6658\n",
      "Train finished using total 122s with 4 epochs. train accuracy: 0.6419, train softmaxcrossentropyloss: 0.6366, validation accuracy: 0.5393, validation softmaxcrossentropyloss: 0.6658\n",
      "INFO:autogluon.estimator.event_handler:Train finished using total 122s with 4 epochs. train accuracy: 0.6419, train softmaxcrossentropyloss: 0.6366, validation accuracy: 0.5393, validation softmaxcrossentropyloss: 0.6658\n",
      "INFO:autogluon.scheduler.reporter:StatusReporter reporting: {\"done\": true, \"time_this_iter\": 0.7149641513824463}\n",
      "INFO:autogluon.scheduler.fifo:Adding A New Task Task(TASK_ID: 3) Task(fn=<function train_text_classification at 0x7f5f2df51c80>, args={'args': Namespace(data_name='sst_2', epochs=4, num_gpus=4, pretrained=True, train_path='/home/ubuntu/automodel/tutorials/data/train.json', val_path='/home/ubuntu/automodel/tutorials/data/test.json'), 'config': {'batch_size': 32, 'model': 'awd_lstm_lm_1150', 'optimizer': 'sgd', 'dense_layers': 1, 'dropout': 0.18564246558916925, 'lr': 0.007985869408257396, 'momentum': 0.9194723466916177, 'pretrained': False}}, resources=Resources(nCPUs = 4, nGPUs = 4)))\n",
      "INFO:autogluon.task.text_classification.pipeline:Task ID : 2, args : Namespace(batch_size=8, data_name='sst_2', dense_layers=2, dropout=0.35362640673371476, epochs=4, lr=0.001161410641902784, model='standard_lstm_lm_650', momentum=0.8807446661297759, num_gpus=4, optimizer='ftml', pretrained=True, train_path='/home/ubuntu/automodel/tutorials/data/train.json', val_path='/home/ubuntu/automodel/tutorials/data/test.json')\n",
      "INFO:autogluon.searcher.searcher: INSIDE UPDATE METHOD \n",
      "INFO:autogluon.searcher.searcher:Finished Task with config: {\"batch_size\": 64, \"model\": \"awd_lstm_lm_600\", \"optimizer\": \"sgd\", \"dense_layers\": 3, \"dropout\": 0.2463208171138117, \"lr\": 0.047013605353489696, \"momentum\": 0.8502797339366056, \"pretrained\": true} and reward: 0.5392550143266476\n",
      "/home/ubuntu/anaconda3/envs/ag/lib/python3.7/site-packages/mxnet/gluon/block.py:520: UserWarning: All children of this Sequential layer 'textclassificationnet0_sequential0_' are HybridBlocks. Consider using HybridSequential for the best performance.\n",
      "  cld.hybridize(active, **kwargs)\n",
      "INFO:autogluon.task.text_classification.pipeline:Task ID : 2, network : TextClassificationNet(\n",
      "  (embedding): HybridSequential(\n",
      "    (0): Embedding(33278 -> 650, float32)\n",
      "    (1): Dropout(p = 0.5, axes=())\n",
      "  )\n",
      "  (encoder): LSTM(650 -> 650, TNC, num_layers=2, dropout=0.5)\n",
      "  (agg_layer): MeanPoolingLayer(\n",
      "  \n",
      "  )\n",
      "  (output): Sequential(\n",
      "    (0): Dropout(p = 0.35362640673371476, axes=())\n",
      "    (1): Dense(None -> 40, linear)\n",
      "    (2): Dropout(p = 0.35362640673371476, axes=())\n",
      "    (3): Dense(None -> 20, linear)\n",
      "    (4): Dropout(p = 0.35362640673371476, axes=())\n",
      "    (5): Dense(None -> 2, linear)\n",
      "  )\n",
      ")\n",
      "/home/ubuntu/automodel/autogluon/estimator/estimator.py:355: UserWarning: You are training with the following default event handlers: MetricHandler, ValidationHandler, LoggingHandler, DataLoaderHandler. They use loss and metrics from estimator.prepare_loss_and_metrics(). Please use the same set of metrics for all your other handlers.\n",
      "  warnings.warn(msg)\n",
      "Training begin: using optimizer FTML with current learning rate 0.0012 \n",
      "INFO:autogluon.estimator.event_handler:Training begin: using optimizer FTML with current learning rate 0.0012 \n",
      "Train for 4 epochs.\n",
      "INFO:autogluon.estimator.event_handler:Train for 4 epochs.\n",
      "[Epoch 0] Begin, current learning rate: 0.0012\n",
      "INFO:autogluon.estimator.event_handler:[Epoch 0] Begin, current learning rate: 0.0012\n",
      "INFO:autogluon.scheduler.reporter:StatusReporter reporting: {\"task_id\": 1, \"epoch\": 1, \"accuracy\": 0.6492836676217765, \"time_this_iter\": 269.7526021003723}\n",
      "[Epoch 0] Finished in 215.873s, train accuracy: 0.6994, train softmaxcrossentropyloss: 0.5802, validation accuracy: 0.6493, validation softmaxcrossentropyloss: 0.6183\n",
      "INFO:autogluon.estimator.event_handler:[Epoch 0] Finished in 215.873s, train accuracy: 0.6994, train softmaxcrossentropyloss: 0.5802, validation accuracy: 0.6493, validation softmaxcrossentropyloss: 0.6183\n",
      "[Epoch 1] Begin, current learning rate: 0.0195\n",
      "INFO:autogluon.estimator.event_handler:[Epoch 1] Begin, current learning rate: 0.0195\n",
      "INFO:autogluon.scheduler.reporter:StatusReporter reporting: {\"task_id\": 1, \"epoch\": 2, \"accuracy\": 0.6813753581661891, \"time_this_iter\": 241.6351466178894}\n",
      "[Epoch 1] Finished in 241.641s, train accuracy: 0.6399, train softmaxcrossentropyloss: 0.6394, validation accuracy: 0.6814, validation softmaxcrossentropyloss: 0.6073\n",
      "INFO:autogluon.estimator.event_handler:[Epoch 1] Finished in 241.641s, train accuracy: 0.6399, train softmaxcrossentropyloss: 0.6394, validation accuracy: 0.6814, validation softmaxcrossentropyloss: 0.6073\n",
      "[Epoch 2] Begin, current learning rate: 0.0195\n",
      "INFO:autogluon.estimator.event_handler:[Epoch 2] Begin, current learning rate: 0.0195\n",
      "INFO:autogluon.scheduler.reporter:StatusReporter reporting: {\"task_id\": 2, \"epoch\": 1, \"accuracy\": 0.8888252148997134, \"time_this_iter\": 449.6100697517395}\n",
      "[Epoch 0] Finished in 393.995s, train accuracy: 0.7557, train softmaxcrossentropyloss: 0.4856, validation accuracy: 0.8888, validation softmaxcrossentropyloss: 0.2869\n",
      "INFO:autogluon.estimator.event_handler:[Epoch 0] Finished in 393.995s, train accuracy: 0.7557, train softmaxcrossentropyloss: 0.4856, validation accuracy: 0.8888, validation softmaxcrossentropyloss: 0.2869\n",
      "[Epoch 1] Begin, current learning rate: 0.0012\n",
      "INFO:autogluon.estimator.event_handler:[Epoch 1] Begin, current learning rate: 0.0012\n",
      "INFO:autogluon.scheduler.reporter:StatusReporter reporting: {\"task_id\": 1, \"epoch\": 3, \"accuracy\": 0.5025787965616045, \"time_this_iter\": 242.56523895263672}\n",
      "[Epoch 2] Finished in 242.546s, train accuracy: 0.6099, train softmaxcrossentropyloss: 0.6591, validation accuracy: 0.5026, validation softmaxcrossentropyloss: 0.6862\n",
      "INFO:autogluon.estimator.event_handler:[Epoch 2] Finished in 242.546s, train accuracy: 0.6099, train softmaxcrossentropyloss: 0.6591, validation accuracy: 0.5026, validation softmaxcrossentropyloss: 0.6862\n",
      "[Epoch 3] Begin, current learning rate: 0.0195\n",
      "INFO:autogluon.estimator.event_handler:[Epoch 3] Begin, current learning rate: 0.0195\n",
      "INFO:autogluon.scheduler.reporter:StatusReporter reporting: {\"task_id\": 1, \"epoch\": 4, \"accuracy\": 0.5415472779369628, \"time_this_iter\": 242.68001008033752}\n",
      "[Epoch 3] Finished in 242.713s, train accuracy: 0.5920, train softmaxcrossentropyloss: 0.6688, validation accuracy: 0.5415, validation softmaxcrossentropyloss: 0.6749\n",
      "INFO:autogluon.estimator.event_handler:[Epoch 3] Finished in 242.713s, train accuracy: 0.5920, train softmaxcrossentropyloss: 0.6688, validation accuracy: 0.5415, validation softmaxcrossentropyloss: 0.6749\n",
      "Train finished using total 942s with 4 epochs. train accuracy: 0.5920, train softmaxcrossentropyloss: 0.6688, validation accuracy: 0.5415, validation softmaxcrossentropyloss: 0.6749\n",
      "INFO:autogluon.estimator.event_handler:Train finished using total 942s with 4 epochs. train accuracy: 0.5920, train softmaxcrossentropyloss: 0.6688, validation accuracy: 0.5415, validation softmaxcrossentropyloss: 0.6749\n",
      "INFO:autogluon.scheduler.reporter:StatusReporter reporting: {\"done\": true, \"time_this_iter\": 0.6774694919586182}\n",
      "INFO:autogluon.scheduler.fifo:Adding A New Task Task(TASK_ID: 4) Task(fn=<function train_text_classification at 0x7f5f2df51c80>, args={'args': Namespace(data_name='sst_2', epochs=4, num_gpus=4, pretrained=True, train_path='/home/ubuntu/automodel/tutorials/data/train.json', val_path='/home/ubuntu/automodel/tutorials/data/test.json'), 'config': {'batch_size': 8, 'model': 'standard_lstm_lm_650', 'optimizer': 'ftml', 'dense_layers': 1, 'dropout': 0.35351743351561354, 'lr': 0.014971932423016922, 'momentum': 0.8793796364469876, 'pretrained': True}}, resources=Resources(nCPUs = 4, nGPUs = 4)))\n"
     ]
    },
    {
     "name": "stderr",
     "output_type": "stream",
     "text": [
      "INFO:autogluon.task.text_classification.pipeline:Task ID : 3, args : Namespace(batch_size=32, data_name='sst_2', dense_layers=1, dropout=0.18564246558916925, epochs=4, lr=0.007985869408257396, model='awd_lstm_lm_1150', momentum=0.9194723466916177, num_gpus=4, optimizer='sgd', pretrained=False, train_path='/home/ubuntu/automodel/tutorials/data/train.json', val_path='/home/ubuntu/automodel/tutorials/data/test.json')\n",
      "INFO:autogluon.searcher.searcher: INSIDE UPDATE METHOD \n",
      "INFO:autogluon.searcher.searcher:Finished Task with config: {\"batch_size\": 16, \"model\": \"standard_lstm_lm_1500\", \"optimizer\": \"sgd\", \"dense_layers\": 3, \"dropout\": 0.29339026585594496, \"lr\": 0.019515954577238186, \"momentum\": 0.889995020156713, \"pretrained\": true} and reward: 0.5415472779369628\n",
      "INFO:autogluon.scheduler.reporter:StatusReporter reporting: {\"task_id\": 2, \"epoch\": 2, \"accuracy\": 0.9174785100286533, \"time_this_iter\": 381.6315231323242}\n",
      "[Epoch 1] Finished in 381.613s, train accuracy: 0.8555, train softmaxcrossentropyloss: 0.3278, validation accuracy: 0.9175, validation softmaxcrossentropyloss: 0.2137\n",
      "INFO:autogluon.estimator.event_handler:[Epoch 1] Finished in 381.613s, train accuracy: 0.8555, train softmaxcrossentropyloss: 0.3278, validation accuracy: 0.9175, validation softmaxcrossentropyloss: 0.2137\n",
      "[Epoch 2] Begin, current learning rate: 0.0012\n",
      "INFO:autogluon.estimator.event_handler:[Epoch 2] Begin, current learning rate: 0.0012\n",
      "/home/ubuntu/anaconda3/envs/ag/lib/python3.7/site-packages/mxnet/gluon/block.py:520: UserWarning: All children of this Sequential layer 'textclassificationnet0_sequential0_' are HybridBlocks. Consider using HybridSequential for the best performance.\n",
      "  cld.hybridize(active, **kwargs)\n",
      "/home/ubuntu/anaconda3/envs/ag/lib/python3.7/site-packages/mxnet/gluon/block.py:520: UserWarning: All children of this Sequential layer 'awdrnn0_sequential0_' are HybridBlocks. Consider using HybridSequential for the best performance.\n",
      "  cld.hybridize(active, **kwargs)\n",
      "INFO:autogluon.task.text_classification.pipeline:Task ID : 3, network : TextClassificationNet(\n",
      "  (embedding): HybridSequential(\n",
      "    (0): Embedding(33278 -> 400, float32)\n",
      "    (1): Dropout(p = 0.65, axes=(0,))\n",
      "  )\n",
      "  (encoder): Sequential(\n",
      "    (0): LSTM(400 -> 1150, TNC)\n",
      "    (1): LSTM(1150 -> 1150, TNC)\n",
      "    (2): LSTM(1150 -> 400, TNC)\n",
      "  )\n",
      "  (agg_layer): MeanPoolingLayer(\n",
      "  \n",
      "  )\n",
      "  (output): Sequential(\n",
      "    (0): Dropout(p = 0.18564246558916925, axes=())\n",
      "    (1): Dense(None -> 40, linear)\n",
      "    (2): Dropout(p = 0.18564246558916925, axes=())\n",
      "    (3): Dense(None -> 2, linear)\n",
      "  )\n",
      ")\n",
      "/home/ubuntu/automodel/autogluon/estimator/estimator.py:355: UserWarning: You are training with the following default event handlers: MetricHandler, ValidationHandler, LoggingHandler, DataLoaderHandler. They use loss and metrics from estimator.prepare_loss_and_metrics(). Please use the same set of metrics for all your other handlers.\n",
      "  warnings.warn(msg)\n",
      "Training begin: using optimizer FTML with current learning rate 0.0080 \n",
      "INFO:autogluon.estimator.event_handler:Training begin: using optimizer FTML with current learning rate 0.0080 \n",
      "Train for 4 epochs.\n",
      "INFO:autogluon.estimator.event_handler:Train for 4 epochs.\n",
      "[Epoch 0] Begin, current learning rate: 0.0080\n",
      "INFO:autogluon.estimator.event_handler:[Epoch 0] Begin, current learning rate: 0.0080\n",
      "INFO:autogluon.scheduler.reporter:StatusReporter reporting: {\"task_id\": 3, \"epoch\": 1, \"accuracy\": 0.8687679083094556, \"time_this_iter\": 120.42192435264587}\n",
      "[Epoch 0] Finished in 76.009s, train accuracy: 0.7577, train softmaxcrossentropyloss: 0.4899, validation accuracy: 0.8688, validation softmaxcrossentropyloss: 0.3113\n",
      "INFO:autogluon.estimator.event_handler:[Epoch 0] Finished in 76.009s, train accuracy: 0.7577, train softmaxcrossentropyloss: 0.4899, validation accuracy: 0.8688, validation softmaxcrossentropyloss: 0.3113\n",
      "[Epoch 1] Begin, current learning rate: 0.0080\n",
      "INFO:autogluon.estimator.event_handler:[Epoch 1] Begin, current learning rate: 0.0080\n",
      "INFO:autogluon.scheduler.reporter:StatusReporter reporting: {\"task_id\": 3, \"epoch\": 2, \"accuracy\": 0.8968481375358166, \"time_this_iter\": 64.76329898834229}\n",
      "[Epoch 1] Finished in 64.749s, train accuracy: 0.8514, train softmaxcrossentropyloss: 0.3351, validation accuracy: 0.8968, validation softmaxcrossentropyloss: 0.2432\n",
      "INFO:autogluon.estimator.event_handler:[Epoch 1] Finished in 64.749s, train accuracy: 0.8514, train softmaxcrossentropyloss: 0.3351, validation accuracy: 0.8968, validation softmaxcrossentropyloss: 0.2432\n",
      "[Epoch 2] Begin, current learning rate: 0.0080\n",
      "INFO:autogluon.estimator.event_handler:[Epoch 2] Begin, current learning rate: 0.0080\n",
      "INFO:autogluon.scheduler.reporter:StatusReporter reporting: {\"task_id\": 3, \"epoch\": 3, \"accuracy\": 0.9117478510028654, \"time_this_iter\": 62.59972548484802}\n",
      "[Epoch 2] Finished in 62.610s, train accuracy: 0.8691, train softmaxcrossentropyloss: 0.2962, validation accuracy: 0.9117, validation softmaxcrossentropyloss: 0.2381\n",
      "INFO:autogluon.estimator.event_handler:[Epoch 2] Finished in 62.610s, train accuracy: 0.8691, train softmaxcrossentropyloss: 0.2962, validation accuracy: 0.9117, validation softmaxcrossentropyloss: 0.2381\n",
      "[Epoch 3] Begin, current learning rate: 0.0080\n",
      "INFO:autogluon.estimator.event_handler:[Epoch 3] Begin, current learning rate: 0.0080\n",
      "INFO:autogluon.scheduler.reporter:StatusReporter reporting: {\"task_id\": 3, \"epoch\": 4, \"accuracy\": 0.9186246418338109, \"time_this_iter\": 63.56088829040527}\n",
      "[Epoch 3] Finished in 63.545s, train accuracy: 0.8796, train softmaxcrossentropyloss: 0.2708, validation accuracy: 0.9186, validation softmaxcrossentropyloss: 0.2287\n",
      "INFO:autogluon.estimator.event_handler:[Epoch 3] Finished in 63.545s, train accuracy: 0.8796, train softmaxcrossentropyloss: 0.2708, validation accuracy: 0.9186, validation softmaxcrossentropyloss: 0.2287\n",
      "Train finished using total 266s with 4 epochs. train accuracy: 0.8796, train softmaxcrossentropyloss: 0.2708, validation accuracy: 0.9186, validation softmaxcrossentropyloss: 0.2287\n",
      "INFO:autogluon.estimator.event_handler:Train finished using total 266s with 4 epochs. train accuracy: 0.8796, train softmaxcrossentropyloss: 0.2708, validation accuracy: 0.9186, validation softmaxcrossentropyloss: 0.2287\n",
      "INFO:autogluon.scheduler.reporter:StatusReporter reporting: {\"done\": true, \"time_this_iter\": 0.5421617031097412}\n",
      "INFO:autogluon.scheduler.reporter:StatusReporter reporting: {\"task_id\": 2, \"epoch\": 3, \"accuracy\": 0.929512893982808, \"time_this_iter\": 304.9258303642273}\n",
      "[Epoch 2] Finished in 304.924s, train accuracy: 0.8835, train softmaxcrossentropyloss: 0.2735, validation accuracy: 0.9295, validation softmaxcrossentropyloss: 0.1876\n",
      "INFO:autogluon.estimator.event_handler:[Epoch 2] Finished in 304.924s, train accuracy: 0.8835, train softmaxcrossentropyloss: 0.2735, validation accuracy: 0.9295, validation softmaxcrossentropyloss: 0.1876\n",
      "[Epoch 3] Begin, current learning rate: 0.0012\n",
      "INFO:autogluon.estimator.event_handler:[Epoch 3] Begin, current learning rate: 0.0012\n",
      "INFO:autogluon.task.text_classification.pipeline:Task ID : 4, args : Namespace(batch_size=8, data_name='sst_2', dense_layers=1, dropout=0.35351743351561354, epochs=4, lr=0.014971932423016922, model='standard_lstm_lm_650', momentum=0.8793796364469876, num_gpus=4, optimizer='ftml', pretrained=True, train_path='/home/ubuntu/automodel/tutorials/data/train.json', val_path='/home/ubuntu/automodel/tutorials/data/test.json')\n",
      "INFO:autogluon.searcher.searcher: INSIDE UPDATE METHOD \n",
      "INFO:autogluon.searcher.searcher:Finished Task with config: {\"batch_size\": 32, \"model\": \"awd_lstm_lm_1150\", \"optimizer\": \"sgd\", \"dense_layers\": 1, \"dropout\": 0.18564246558916925, \"lr\": 0.007985869408257396, \"momentum\": 0.9194723466916177, \"pretrained\": false} and reward: 0.9186246418338109\n",
      "/home/ubuntu/anaconda3/envs/ag/lib/python3.7/site-packages/mxnet/gluon/block.py:520: UserWarning: All children of this Sequential layer 'textclassificationnet0_sequential0_' are HybridBlocks. Consider using HybridSequential for the best performance.\n",
      "  cld.hybridize(active, **kwargs)\n",
      "INFO:autogluon.task.text_classification.pipeline:Task ID : 4, network : TextClassificationNet(\n",
      "  (embedding): HybridSequential(\n",
      "    (0): Embedding(33278 -> 650, float32)\n",
      "    (1): Dropout(p = 0.5, axes=())\n",
      "  )\n",
      "  (encoder): LSTM(650 -> 650, TNC, num_layers=2, dropout=0.5)\n",
      "  (agg_layer): MeanPoolingLayer(\n",
      "  \n",
      "  )\n",
      "  (output): Sequential(\n",
      "    (0): Dropout(p = 0.35351743351561354, axes=())\n",
      "    (1): Dense(None -> 40, linear)\n",
      "    (2): Dropout(p = 0.35351743351561354, axes=())\n",
      "    (3): Dense(None -> 2, linear)\n",
      "  )\n",
      ")\n"
     ]
    },
    {
     "name": "stderr",
     "output_type": "stream",
     "text": [
      "/home/ubuntu/automodel/autogluon/estimator/estimator.py:355: UserWarning: You are training with the following default event handlers: MetricHandler, ValidationHandler, LoggingHandler, DataLoaderHandler. They use loss and metrics from estimator.prepare_loss_and_metrics(). Please use the same set of metrics for all your other handlers.\n",
      "  warnings.warn(msg)\n",
      "Training begin: using optimizer FTML with current learning rate 0.0150 \n",
      "INFO:autogluon.estimator.event_handler:Training begin: using optimizer FTML with current learning rate 0.0150 \n",
      "Train for 4 epochs.\n",
      "INFO:autogluon.estimator.event_handler:Train for 4 epochs.\n",
      "[Epoch 0] Begin, current learning rate: 0.0150\n",
      "INFO:autogluon.estimator.event_handler:[Epoch 0] Begin, current learning rate: 0.0150\n",
      "INFO:autogluon.scheduler.reporter:StatusReporter reporting: {\"task_id\": 2, \"epoch\": 4, \"accuracy\": 0.9426934097421203, \"time_this_iter\": 425.7347855567932}\n",
      "[Epoch 3] Finished in 425.735s, train accuracy: 0.8978, train softmaxcrossentropyloss: 0.2404, validation accuracy: 0.9427, validation softmaxcrossentropyloss: 0.1615\n",
      "INFO:autogluon.estimator.event_handler:[Epoch 3] Finished in 425.735s, train accuracy: 0.8978, train softmaxcrossentropyloss: 0.2404, validation accuracy: 0.9427, validation softmaxcrossentropyloss: 0.1615\n",
      "Train finished using total 1506s with 4 epochs. train accuracy: 0.8978, train softmaxcrossentropyloss: 0.2404, validation accuracy: 0.9427, validation softmaxcrossentropyloss: 0.1615\n",
      "INFO:autogluon.estimator.event_handler:Train finished using total 1506s with 4 epochs. train accuracy: 0.8978, train softmaxcrossentropyloss: 0.2404, validation accuracy: 0.9427, validation softmaxcrossentropyloss: 0.1615\n",
      "INFO:autogluon.scheduler.reporter:StatusReporter reporting: {\"done\": true, \"time_this_iter\": 0.6559875011444092}\n",
      "INFO:autogluon.searcher.searcher: INSIDE UPDATE METHOD \n",
      "INFO:autogluon.searcher.searcher:Finished Task with config: {\"batch_size\": 8, \"model\": \"standard_lstm_lm_650\", \"optimizer\": \"ftml\", \"dense_layers\": 2, \"dropout\": 0.35362640673371476, \"lr\": 0.001161410641902784, \"momentum\": 0.8807446661297759, \"pretrained\": true} and reward: 0.9426934097421203\n",
      "INFO:autogluon.scheduler.reporter:StatusReporter reporting: {\"task_id\": 4, \"epoch\": 1, \"accuracy\": 0.7684813753581662, \"time_this_iter\": 494.3805754184723}\n",
      "[Epoch 0] Finished in 436.920s, train accuracy: 0.7748, train softmaxcrossentropyloss: 0.4719, validation accuracy: 0.7685, validation softmaxcrossentropyloss: 0.4871\n",
      "INFO:autogluon.estimator.event_handler:[Epoch 0] Finished in 436.920s, train accuracy: 0.7748, train softmaxcrossentropyloss: 0.4719, validation accuracy: 0.7685, validation softmaxcrossentropyloss: 0.4871\n",
      "[Epoch 1] Begin, current learning rate: 0.0150\n",
      "INFO:autogluon.estimator.event_handler:[Epoch 1] Begin, current learning rate: 0.0150\n",
      "INFO:autogluon.scheduler.reporter:StatusReporter reporting: {\"task_id\": 4, \"epoch\": 2, \"accuracy\": 0.7329512893982808, \"time_this_iter\": 342.2826888561249}\n",
      "[Epoch 1] Finished in 342.309s, train accuracy: 0.7009, train softmaxcrossentropyloss: 0.5759, validation accuracy: 0.7330, validation softmaxcrossentropyloss: 0.5229\n",
      "INFO:autogluon.estimator.event_handler:[Epoch 1] Finished in 342.309s, train accuracy: 0.7009, train softmaxcrossentropyloss: 0.5759, validation accuracy: 0.7330, validation softmaxcrossentropyloss: 0.5229\n",
      "[Epoch 2] Begin, current learning rate: 0.0150\n",
      "INFO:autogluon.estimator.event_handler:[Epoch 2] Begin, current learning rate: 0.0150\n",
      "INFO:autogluon.scheduler.reporter:StatusReporter reporting: {\"task_id\": 4, \"epoch\": 3, \"accuracy\": 0.7042979942693409, \"time_this_iter\": 343.82026386260986}\n",
      "[Epoch 2] Finished in 343.794s, train accuracy: 0.6831, train softmaxcrossentropyloss: 0.5981, validation accuracy: 0.7043, validation softmaxcrossentropyloss: 0.5712\n",
      "INFO:autogluon.estimator.event_handler:[Epoch 2] Finished in 343.794s, train accuracy: 0.6831, train softmaxcrossentropyloss: 0.5981, validation accuracy: 0.7043, validation softmaxcrossentropyloss: 0.5712\n",
      "[Epoch 3] Begin, current learning rate: 0.0150\n",
      "INFO:autogluon.estimator.event_handler:[Epoch 3] Begin, current learning rate: 0.0150\n",
      "INFO:autogluon.scheduler.reporter:StatusReporter reporting: {\"task_id\": 4, \"epoch\": 4, \"accuracy\": 0.6361031518624641, \"time_this_iter\": 342.4800636768341}\n",
      "[Epoch 3] Finished in 342.470s, train accuracy: 0.6497, train softmaxcrossentropyloss: 0.6345, validation accuracy: 0.6361, validation softmaxcrossentropyloss: 0.6168\n",
      "INFO:autogluon.estimator.event_handler:[Epoch 3] Finished in 342.470s, train accuracy: 0.6497, train softmaxcrossentropyloss: 0.6345, validation accuracy: 0.6361, validation softmaxcrossentropyloss: 0.6168\n",
      "Train finished using total 1465s with 4 epochs. train accuracy: 0.6497, train softmaxcrossentropyloss: 0.6345, validation accuracy: 0.6361, validation softmaxcrossentropyloss: 0.6168\n",
      "INFO:autogluon.estimator.event_handler:Train finished using total 1465s with 4 epochs. train accuracy: 0.6497, train softmaxcrossentropyloss: 0.6345, validation accuracy: 0.6361, validation softmaxcrossentropyloss: 0.6168\n",
      "INFO:autogluon.scheduler.reporter:StatusReporter reporting: {\"done\": true, \"time_this_iter\": 0.7112941741943359}\n",
      "INFO:autogluon.searcher.searcher: INSIDE UPDATE METHOD \n",
      "INFO:autogluon.searcher.searcher:Finished Task with config: {\"batch_size\": 8, \"model\": \"standard_lstm_lm_650\", \"optimizer\": \"ftml\", \"dense_layers\": 1, \"dropout\": 0.35351743351561354, \"lr\": 0.014971932423016922, \"momentum\": 0.8793796364469876, \"pretrained\": true} and reward: 0.6361031518624641\n",
      "INFO:autogluon.scheduler.fifo:Training History : OrderedDict([(0, [0.73810888252149, 0.6836676217765043, 0.673352435530086, 0.5392550143266476]), (1, [0.6492836676217765, 0.6813753581661891, 0.5025787965616045, 0.5415472779369628]), (2, [0.8888252148997134, 0.9174785100286533, 0.929512893982808, 0.9426934097421203]), (3, [0.8687679083094556, 0.8968481375358166, 0.9117478510028654, 0.9186246418338109]), (4, [0.7684813753581662, 0.7329512893982808, 0.7042979942693409, 0.6361031518624641])])\n",
      "INFO:autogluon.scheduler.fifo:Saving Training Curve in checkpoint/exp1_tc.png\n",
      "INFO:autogluon.searcher.searcher: INSIDE GET_BEST_REWARD \n",
      "INFO:autogluon.searcher.searcher: INSIDE GET_BEST_CONFIG : RUN\n"
     ]
    },
    {
     "data": {
      "image/png": "[encoded data removed]",
      "text/plain": [
       "<Figure size 432x288 with 1 Axes>"
      ]
     },
     "metadata": {
      "needs_background": "light"
     },
     "output_type": "display_data"
    }
   ],
   "source": [
    "results = task.fit(dataset)"
   ]
  },
  {
   "cell_type": "markdown",
   "metadata": {},
   "source": [
    "The best accuracy is:"
   ]
  },
  {
   "cell_type": "code",
   "execution_count": 5,
   "metadata": {},
   "outputs": [
    {
     "name": "stdout",
     "output_type": "stream",
     "text": [
      "0.9426934097421203\n"
     ]
    }
   ],
   "source": [
    "print(results.metric)"
   ]
  },
  {
   "cell_type": "markdown",
   "metadata": {},
   "source": [
    "The associated best configuration is:"
   ]
  },
  {
   "cell_type": "code",
   "execution_count": 6,
   "metadata": {},
   "outputs": [
    {
     "name": "stdout",
     "output_type": "stream",
     "text": [
      "{'batch_size': 8, 'model': 'standard_lstm_lm_650', 'optimizer': 'ftml', 'dense_layers': 2, 'dropout': 0.35362640673371476, 'lr': 0.001161410641902784, 'momentum': 0.8807446661297759, 'pretrained': True}\n"
     ]
    }
   ],
   "source": [
    "print(results.config)"
   ]
  },
  {
   "cell_type": "markdown",
   "metadata": {},
   "source": [
    "Total time cost is:"
   ]
  },
  {
   "cell_type": "code",
   "execution_count": 7,
   "metadata": {},
   "outputs": [
    {
     "name": "stdout",
     "output_type": "stream",
     "text": [
      "2835.40 s\n"
     ]
    }
   ],
   "source": [
    "print('%.2f s' % results.time)"
   ]
  },
  {
   "cell_type": "markdown",
   "metadata": {},
   "source": [
    "## A Step-by-step Text Classification Example\n",
    "\n",
    "We first introduce the basic configuration `autogluon.space`, which is used to represent the search space of each task components, we will then go throught each components, including \n",
    "\n",
    "* `autogluon.Dataset`\n",
    "* `autogluon.Nets`\n",
    "* `autogluon.Optimizers`\n",
    "* `autogluon.Losses`\n",
    "* `autogluon.Metrics`\n",
    "\n",
    "and finally put all together to `fit` to generate best results."
   ]
  },
  {
   "cell_type": "markdown",
   "metadata": {},
   "source": [
    "### Import AutoGluon"
   ]
  },
  {
   "cell_type": "code",
   "execution_count": 3,
   "metadata": {},
   "outputs": [],
   "source": [
    "import warnings\n",
    "warnings.filterwarnings(\"ignore\")\n",
    "\n",
    "import autogluon as ag"
   ]
  },
  {
   "cell_type": "markdown",
   "metadata": {},
   "source": [
    "### Create AutoGluon Space\n",
    "\n",
    "\n",
    "`autogluon.space` is a search space containing a set of configuration candidates.\n",
    "We provide three basic space types.\n",
    "\n",
    "* Categorical Space"
   ]
  },
  {
   "cell_type": "code",
   "execution_count": 4,
   "metadata": {},
   "outputs": [
    {
     "name": "stdout",
     "output_type": "stream",
     "text": [
      "AutoGluon List Space listspace: ['0', '1', '2']\n"
     ]
    }
   ],
   "source": [
    "list_space = ag.space.List('listspace', ['0', '1', '2'])\n",
    "print(list_space)"
   ]
  },
  {
   "cell_type": "markdown",
   "metadata": {},
   "source": [
    "* Linear Space"
   ]
  },
  {
   "cell_type": "code",
   "execution_count": 5,
   "metadata": {},
   "outputs": [
    {
     "name": "stdout",
     "output_type": "stream",
     "text": [
      "AutoGluon Linear Space linspace: lower 0, upper 10\n"
     ]
    }
   ],
   "source": [
    "linear_space = ag.space.Linear('linspace', 0, 10)\n",
    "print(linear_space)"
   ]
  },
  {
   "cell_type": "markdown",
   "metadata": {},
   "source": [
    "* Log Space"
   ]
  },
  {
   "cell_type": "code",
   "execution_count": 6,
   "metadata": {},
   "outputs": [
    {
     "name": "stdout",
     "output_type": "stream",
     "text": [
      "AutoGluon Log Space logspace: lower 0.000000, upper 0.100000\n"
     ]
    }
   ],
   "source": [
    "log_space = ag.space.Log('logspace', 10**-10, 10**-1)\n",
    "print(log_space)"
   ]
  },
  {
   "cell_type": "markdown",
   "metadata": {},
   "source": [
    "* An Example of Random Sample from the Combined Space"
   ]
  },
  {
   "cell_type": "code",
   "execution_count": 7,
   "metadata": {},
   "outputs": [
    {
     "name": "stdout",
     "output_type": "stream",
     "text": [
      "Configuration:\n",
      "  linspace, Value: 9\n",
      "  listspace, Value: '2'\n",
      "  logspace, Value: 0.08100477968810121\n",
      "\n"
     ]
    }
   ],
   "source": [
    "print(ag.space.sample_configuration([list_space, linear_space, log_space]))"
   ]
  },
  {
   "cell_type": "markdown",
   "metadata": {},
   "source": [
    "We then will use `autogluon.Nets` and `autogluon.Optimizers` as examples to show the usage of auto objects. The remainining auto objects are using default value.\n",
    "\n",
    "### Create AutoGluon Nets\n",
    "\n",
    "`autogluon.Nets` is a list of auto networks, and allows search for the best net\n",
    "\n",
    "* from a list of provided (or default) networks\n",
    "* by choosing the best architecture regarding to each auto net."
   ]
  },
  {
   "cell_type": "code",
   "execution_count": 8,
   "metadata": {},
   "outputs": [
    {
     "name": "stdout",
     "output_type": "stream",
     "text": [
      "AutoGluon Nets ['standard_lstm_lm_200', 'awd_lstm_lm_1150'] with Configuration space object:\n",
      "  Hyperparameters:\n",
      "    dense_layers, Type: UniformInteger, Range: [1, 3], Default: 2\n",
      "    dropout, Type: UniformFloat, Range: [0.0, 0.5], Default: 0.25\n",
      "    model, Type: Categorical, Choices: {standard_lstm_lm_200, awd_lstm_lm_1150}, Default: standard_lstm_lm_200\n",
      "    pretrained, Type: Categorical, Choices: {True, False}, Default: True\n",
      "  Conditions:\n",
      "    dense_layers | model in {'standard_lstm_lm_200', 'awd_lstm_lm_1150'}\n",
      "    dropout | model in {'standard_lstm_lm_200', 'awd_lstm_lm_1150'}\n",
      "    pretrained | model in {'standard_lstm_lm_200', 'awd_lstm_lm_1150'}\n",
      "\n"
     ]
    }
   ],
   "source": [
    "nets = ag.Nets([\n",
    "    task.get_model('standard_lstm_lm_200', **{'classification_layers': ag.space.Linear('dense', lower=1, upper=2)}),\n",
    "    task.get_model('awd_lstm_lm_1150', **{'classification_layers': ag.space.Linear('dense', lower=1, upper=2)})\n",
    "])\n",
    "\n",
    "print(nets)"
   ]
  },
  {
   "cell_type": "markdown",
   "metadata": {},
   "source": [
    "### Create AutoGluon Optimizers\n",
    "\n",
    "`autogluon.Optimizers` defines a list of optimization algorithms that allows search for the best optimization algorithm \n",
    "\n",
    "* from a list of provided (or default) optimizers\n",
    "* by choosing the best hyper-parameters regarding to each auto optimizer"
   ]
  },
  {
   "cell_type": "code",
   "execution_count": 9,
   "metadata": {},
   "outputs": [
    {
     "name": "stdout",
     "output_type": "stream",
     "text": [
      "AutoGluon Optimizers ['sgd', 'ftml'] with Configuration space object:\n",
      "  Hyperparameters:\n",
      "    lr, Type: UniformFloat, Range: [0.0001, 0.1], Default: 0.0031622777, on log-scale\n",
      "    momentum, Type: UniformFloat, Range: [0.85, 0.95], Default: 0.9\n",
      "    optimizer, Type: Categorical, Choices: {sgd, ftml}, Default: sgd\n",
      "  Conditions:\n",
      "    lr | optimizer in {'sgd', 'ftml'}\n",
      "    momentum | optimizer in {'sgd', 'ftml'}\n",
      "\n"
     ]
    }
   ],
   "source": [
    "optimizers = ag.Optimizers(['sgd', 'ftml'])\n",
    "\n",
    "print(optimizers)"
   ]
  },
  {
   "cell_type": "markdown",
   "metadata": {},
   "source": [
    "### Create AutoGluon Fit - Put all together"
   ]
  },
  {
   "cell_type": "code",
   "execution_count": 10,
   "metadata": {},
   "outputs": [
    {
     "name": "stderr",
     "output_type": "stream",
     "text": [
      "INFO:autogluon.scheduler.fifo:Starting Experiments\n",
      "INFO:autogluon.scheduler.fifo:Num of Finished Tasks is 0\n",
      "INFO:autogluon.scheduler.fifo:Num of Pending Tasks is 2\n",
      "INFO:autogluon.scheduler.fifo:Adding A New Task Task(TASK_ID: 0) Task(fn=<function train_text_classification at 0x7f3b03715c80>, args={'args': Namespace(data_name='sst_2', epochs=2, num_gpus=4, pretrained=True, train_path='/home/ubuntu/automodel/tutorials/data/train.json', val_path='/home/ubuntu/automodel/tutorials/data/test.json'), 'config': {'batch_size': 64, 'model': 'awd_lstm_lm_1150', 'optimizer': 'ftml', 'dense_layers': 1, 'dropout': 0.2595345363990322, 'lr': 0.0005865043124781794, 'momentum': 0.9212723496422937, 'pretrained': False}}, resources=Resources(nCPUs = 4, nGPUs = 4)))\n",
      "INFO:autogluon.scheduler.fifo:Adding A New Task Task(TASK_ID: 1) Task(fn=<function train_text_classification at 0x7f3b03715c80>, args={'args': Namespace(data_name='sst_2', epochs=2, num_gpus=4, pretrained=True, train_path='/home/ubuntu/automodel/tutorials/data/train.json', val_path='/home/ubuntu/automodel/tutorials/data/test.json'), 'config': {'batch_size': 32, 'model': 'awd_lstm_lm_1150', 'optimizer': 'sgd', 'dense_layers': 1, 'dropout': 0.3605075961335555, 'lr': 0.0007291030760438884, 'momentum': 0.9348128690260213, 'pretrained': True}}, resources=Resources(nCPUs = 4, nGPUs = 4)))\n",
      "INFO:autogluon.task.text_classification.pipeline:Task ID : 0, args : Namespace(batch_size=64, data_name='sst_2', dense_layers=1, dropout=0.2595345363990322, epochs=2, lr=0.0005865043124781794, model='awd_lstm_lm_1150', momentum=0.9212723496422937, num_gpus=4, optimizer='ftml', pretrained=False, train_path='/home/ubuntu/automodel/tutorials/data/train.json', val_path='/home/ubuntu/automodel/tutorials/data/test.json')\n",
      "INFO:autogluon.task.text_classification.pipeline:Task ID : 1, args : Namespace(batch_size=32, data_name='sst_2', dense_layers=1, dropout=0.3605075961335555, epochs=2, lr=0.0007291030760438884, model='awd_lstm_lm_1150', momentum=0.9348128690260213, num_gpus=4, optimizer='sgd', pretrained=True, train_path='/home/ubuntu/automodel/tutorials/data/train.json', val_path='/home/ubuntu/automodel/tutorials/data/test.json')\n",
      "INFO:autogluon.task.text_classification.pipeline:Task ID : 0, network : TextClassificationNet(\n",
      "  (embedding): HybridSequential(\n",
      "    (0): Embedding(33278 -> 400, float32)\n",
      "    (1): Dropout(p = 0.65, axes=(0,))\n",
      "  )\n",
      "  (encoder): Sequential(\n",
      "    (0): LSTM(400 -> 1150, TNC)\n",
      "    (1): LSTM(1150 -> 1150, TNC)\n",
      "    (2): LSTM(1150 -> 400, TNC)\n",
      "  )\n",
      "  (agg_layer): MeanPoolingLayer(\n",
      "  \n",
      "  )\n",
      "  (output): Sequential(\n",
      "    (0): Dropout(p = 0.2595345363990322, axes=())\n",
      "    (1): Dense(None -> 40, linear)\n",
      "    (2): Dropout(p = 0.2595345363990322, axes=())\n",
      "    (3): Dense(None -> 2, linear)\n",
      "  )\n",
      ")\n",
      "Training begin: using optimizer FTML with current learning rate 0.0006 \n",
      "INFO:autogluon.estimator.event_handler:Training begin: using optimizer FTML with current learning rate 0.0006 \n",
      "Train for 2 epochs.\n",
      "INFO:autogluon.estimator.event_handler:Train for 2 epochs.\n",
      "[Epoch 0] Begin, current learning rate: 0.0006\n",
      "INFO:autogluon.estimator.event_handler:[Epoch 0] Begin, current learning rate: 0.0006\n",
      "INFO:autogluon.task.text_classification.pipeline:Task ID : 1, network : TextClassificationNet(\n",
      "  (embedding): HybridSequential(\n",
      "    (0): Embedding(33278 -> 400, float32)\n",
      "    (1): Dropout(p = 0.65, axes=(0,))\n",
      "  )\n",
      "  (encoder): Sequential(\n",
      "    (0): LSTM(400 -> 1150, TNC)\n",
      "    (1): LSTM(1150 -> 1150, TNC)\n",
      "    (2): LSTM(1150 -> 400, TNC)\n",
      "  )\n",
      "  (agg_layer): MeanPoolingLayer(\n",
      "  \n",
      "  )\n",
      "  (output): Sequential(\n",
      "    (0): Dropout(p = 0.3605075961335555, axes=())\n",
      "    (1): Dense(None -> 40, linear)\n",
      "    (2): Dropout(p = 0.3605075961335555, axes=())\n",
      "    (3): Dense(None -> 2, linear)\n",
      "  )\n",
      ")\n",
      "Training begin: using optimizer FTML with current learning rate 0.0007 \n",
      "INFO:autogluon.estimator.event_handler:Training begin: using optimizer FTML with current learning rate 0.0007 \n",
      "Train for 2 epochs.\n",
      "INFO:autogluon.estimator.event_handler:Train for 2 epochs.\n",
      "[Epoch 0] Begin, current learning rate: 0.0007\n",
      "INFO:autogluon.estimator.event_handler:[Epoch 0] Begin, current learning rate: 0.0007\n",
      "INFO:autogluon.scheduler.reporter:StatusReporter reporting: {\"task_id\": 0, \"epoch\": 1, \"accuracy\": 0.8544412607449857, \"time_this_iter\": 76.77513813972473}\n",
      "[Epoch 0] Finished in 38.778s, train accuracy: 0.7151, train softmaxcrossentropyloss: 0.5414, validation accuracy: 0.8544, validation softmaxcrossentropyloss: 0.3684\n",
      "INFO:autogluon.estimator.event_handler:[Epoch 0] Finished in 38.778s, train accuracy: 0.7151, train softmaxcrossentropyloss: 0.5414, validation accuracy: 0.8544, validation softmaxcrossentropyloss: 0.3684\n",
      "[Epoch 1] Begin, current learning rate: 0.0006\n",
      "INFO:autogluon.estimator.event_handler:[Epoch 1] Begin, current learning rate: 0.0006\n",
      "INFO:autogluon.scheduler.reporter:StatusReporter reporting: {\"task_id\": 0, \"epoch\": 2, \"accuracy\": 0.8653295128939829, \"time_this_iter\": 32.14394474029541}\n",
      "[Epoch 1] Finished in 32.139s, train accuracy: 0.8030, train softmaxcrossentropyloss: 0.4199, validation accuracy: 0.8653, validation softmaxcrossentropyloss: 0.3344\n",
      "INFO:autogluon.estimator.event_handler:[Epoch 1] Finished in 32.139s, train accuracy: 0.8030, train softmaxcrossentropyloss: 0.4199, validation accuracy: 0.8653, validation softmaxcrossentropyloss: 0.3344\n",
      "Train finished using total 70s with 2 epochs. train accuracy: 0.8030, train softmaxcrossentropyloss: 0.4199, validation accuracy: 0.8653, validation softmaxcrossentropyloss: 0.3344\n",
      "INFO:autogluon.estimator.event_handler:Train finished using total 70s with 2 epochs. train accuracy: 0.8030, train softmaxcrossentropyloss: 0.4199, validation accuracy: 0.8653, validation softmaxcrossentropyloss: 0.3344\n",
      "INFO:autogluon.scheduler.reporter:StatusReporter reporting: {\"done\": true, \"time_this_iter\": 0.47008633613586426}\n",
      "INFO:autogluon.searcher.searcher: INSIDE UPDATE METHOD \n",
      "INFO:autogluon.searcher.searcher:Finished Task with config: {\"batch_size\": 64, \"model\": \"awd_lstm_lm_1150\", \"optimizer\": \"ftml\", \"dense_layers\": 1, \"dropout\": 0.2595345363990322, \"lr\": 0.0005865043124781794, \"momentum\": 0.9212723496422937, \"pretrained\": false} and reward: 0.8653295128939829\n",
      "INFO:autogluon.scheduler.reporter:StatusReporter reporting: {\"task_id\": 1, \"epoch\": 1, \"accuracy\": 0.8813753581661891, \"time_this_iter\": 118.0043592453003}\n",
      "[Epoch 0] Finished in 68.087s, train accuracy: 0.7473, train softmaxcrossentropyloss: 0.4959, validation accuracy: 0.8814, validation softmaxcrossentropyloss: 0.2952\n",
      "INFO:autogluon.estimator.event_handler:[Epoch 0] Finished in 68.087s, train accuracy: 0.7473, train softmaxcrossentropyloss: 0.4959, validation accuracy: 0.8814, validation softmaxcrossentropyloss: 0.2952\n",
      "[Epoch 1] Begin, current learning rate: 0.0007\n",
      "INFO:autogluon.estimator.event_handler:[Epoch 1] Begin, current learning rate: 0.0007\n",
      "INFO:autogluon.scheduler.reporter:StatusReporter reporting: {\"task_id\": 1, \"epoch\": 2, \"accuracy\": 0.9277936962750717, \"time_this_iter\": 65.18226861953735}\n",
      "[Epoch 1] Finished in 65.168s, train accuracy: 0.8393, train softmaxcrossentropyloss: 0.3520, validation accuracy: 0.9278, validation softmaxcrossentropyloss: 0.1937\n",
      "INFO:autogluon.estimator.event_handler:[Epoch 1] Finished in 65.168s, train accuracy: 0.8393, train softmaxcrossentropyloss: 0.3520, validation accuracy: 0.9278, validation softmaxcrossentropyloss: 0.1937\n",
      "Train finished using total 133s with 2 epochs. train accuracy: 0.8393, train softmaxcrossentropyloss: 0.3520, validation accuracy: 0.9278, validation softmaxcrossentropyloss: 0.1937\n",
      "INFO:autogluon.estimator.event_handler:Train finished using total 133s with 2 epochs. train accuracy: 0.8393, train softmaxcrossentropyloss: 0.3520, validation accuracy: 0.9278, validation softmaxcrossentropyloss: 0.1937\n",
      "INFO:autogluon.scheduler.reporter:StatusReporter reporting: {\"done\": true, \"time_this_iter\": 0.7333245277404785}\n",
      "INFO:autogluon.searcher.searcher: INSIDE UPDATE METHOD \n",
      "INFO:autogluon.searcher.searcher:Finished Task with config: {\"batch_size\": 32, \"model\": \"awd_lstm_lm_1150\", \"optimizer\": \"sgd\", \"dense_layers\": 1, \"dropout\": 0.3605075961335555, \"lr\": 0.0007291030760438884, \"momentum\": 0.9348128690260213, \"pretrained\": true} and reward: 0.9277936962750717\n"
     ]
    },
    {
     "name": "stderr",
     "output_type": "stream",
     "text": [
      "INFO:autogluon.scheduler.fifo:Training History : OrderedDict([(0, [0.8544412607449857, 0.8653295128939829]), (1, [0.8813753581661891, 0.9277936962750717])])\n",
      "INFO:autogluon.scheduler.fifo:Saving Training Curve in checkpoint/exp1_tc.png\n",
      "INFO:autogluon.searcher.searcher: INSIDE GET_BEST_REWARD \n",
      "INFO:autogluon.searcher.searcher: INSIDE GET_BEST_CONFIG : RUN\n"
     ]
    },
    {
     "data": {
      "image/png": "[encoded data removed]",
      "text/plain": [
       "<Figure size 432x288 with 1 Axes>"
      ]
     },
     "metadata": {
      "needs_background": "light"
     },
     "output_type": "display_data"
    }
   ],
   "source": [
    "stop_criterion = {\n",
    "    'time_limits': 1*60*60,\n",
    "    'max_metric': 0.80,\n",
    "    'max_trial_count': 2\n",
    "}\n",
    "\n",
    "resources_per_trial = {\n",
    "    'max_num_gpus': 4,\n",
    "    'max_num_cpus': 4,\n",
    "    'max_training_epochs': 2\n",
    "}\n",
    "\n",
    "results = task.fit(dataset,\n",
    "                   nets,\n",
    "                   optimizers,\n",
    "                   stop_criterion=stop_criterion,\n",
    "                   resources_per_trial=resources_per_trial)"
   ]
  },
  {
   "cell_type": "markdown",
   "metadata": {},
   "source": [
    "The best accuracy is:"
   ]
  },
  {
   "cell_type": "code",
   "execution_count": 12,
   "metadata": {},
   "outputs": [
    {
     "name": "stdout",
     "output_type": "stream",
     "text": [
      "0.9277936962750717\n"
     ]
    }
   ],
   "source": [
    "print(results.metric)"
   ]
  },
  {
   "cell_type": "markdown",
   "metadata": {},
   "source": [
    "The best associated configuration is:"
   ]
  },
  {
   "cell_type": "code",
   "execution_count": 13,
   "metadata": {},
   "outputs": [
    {
     "name": "stdout",
     "output_type": "stream",
     "text": [
      "{'batch_size': 32, 'model': 'awd_lstm_lm_1150', 'optimizer': 'sgd', 'dense_layers': 1, 'dropout': 0.3605075961335555, 'lr': 0.0007291030760438884, 'momentum': 0.9348128690260213, 'pretrained': True}\n"
     ]
    }
   ],
   "source": [
    "print(results.config)"
   ]
  },
  {
   "cell_type": "markdown",
   "metadata": {},
   "source": [
    "Total time cost is:"
   ]
  },
  {
   "cell_type": "code",
   "execution_count": 14,
   "metadata": {},
   "outputs": [
    {
     "name": "stdout",
     "output_type": "stream",
     "text": [
      "186.20 s\n"
     ]
    }
   ],
   "source": [
    "print('%.2f s' % results.time)"
   ]
  },
  {
   "cell_type": "markdown",
   "metadata": {},
   "source": [
    "## Refereces"
   ]
  },
  {
   "cell_type": "markdown",
   "metadata": {},
   "source": [
    "* code: https://code.amazon.com/packages/AutoGluon/trees/heads/mainline \n",
    "* API design: https://quip-amazon.com/aaGsAS9lY3WU/AutoGluon-API\n",
    "* Implementation roadmap: https://quip-amazon.com/zlQUAjSWBc3c/AutoGluon-System-Implementation-Roadmap"
   ]
  }
 ],
 "metadata": {
  "kernelspec": {
   "display_name": "Python 3",
   "language": "python",
   "name": "python3"
  },
  "language_info": {
   "codemirror_mode": {
    "name": "ipython",
    "version": 3
   },
   "file_extension": ".py",
   "mimetype": "text/x-python",
   "name": "python",
   "nbconvert_exporter": "python",
   "pygments_lexer": "ipython3",
   "version": "3.7.3"
  }
 },
 "nbformat": 4,
 "nbformat_minor": 2
}
