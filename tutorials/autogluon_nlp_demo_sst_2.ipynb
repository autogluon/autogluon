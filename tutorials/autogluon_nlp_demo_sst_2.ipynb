{
 "cells": [
  {
   "cell_type": "markdown",
   "metadata": {},
   "source": [
    "# AutoGluon"
   ]
  },
  {
   "cell_type": "markdown",
   "metadata": {},
   "source": [
    "## Preparation\n",
    "\n",
    "### Install AutoGluon\n",
    "\n",
    "```bash\n",
    "git clone ssh://git.amazon.com/pkg/AutoGluon\n",
    "cd AutoGluon\n",
    "python setup.py develop\n",
    "```"
   ]
  },
  {
   "cell_type": "markdown",
   "metadata": {},
   "source": [
    "### Import Task\n",
    "\n",
    "We are using text classification as an example in this notebook."
   ]
  },
  {
   "cell_type": "code",
   "execution_count": null,
   "metadata": {},
   "outputs": [],
   "source": [
    "from autogluon import text_classification as task\n",
    "\n",
    "import logging\n",
    "logging.basicConfig(level=logging.INFO)"
   ]
  },
  {
   "cell_type": "markdown",
   "metadata": {},
   "source": [
    "## A Quick Text Classification Example\n",
    "\n",
    "We first show the most basic usage by first creating a dataset and then fiting the dataset to generate the results with the text classification example. We will use Stanford Sentiment Treebank Dataset for this tutorial."
   ]
  },
  {
   "cell_type": "markdown",
   "metadata": {},
   "source": [
    "### Create AutoGluon Dataset\n",
    "\n",
    "We use Stanford Sentiment Treebank - 2 (SST2) dataset."
   ]
  },
  {
   "cell_type": "code",
   "execution_count": null,
   "metadata": {},
   "outputs": [],
   "source": [
    "dataset = task.Dataset(name='sst_2') # case insentive \n",
    "# TODO. show a quick summary of the dataset, e.g. #example for train, #classes"
   ]
  },
  {
   "cell_type": "markdown",
   "metadata": {},
   "source": [
    "The constructed dataset contains the `gluon.data.DataLoader` for training and validation datasets."
   ]
  },
  {
   "cell_type": "markdown",
   "metadata": {},
   "source": [
    "Then we will use the default configuration of the text classification to generate:\n",
    "* Best result of the search in terms of validation accuracy\n",
    "* Get the best configuration corresponding to the best result obtained.\n",
    "    \n",
    "To acheive this, we are using `fit` function to generate the above results based on the datasets.\n",
    "\n",
    "The default configruation is based on `max_trial_count=5` and `max_training_epochs=5`."
   ]
  },
  {
   "cell_type": "code",
   "execution_count": null,
   "metadata": {},
   "outputs": [],
   "source": [
    "results = task.fit(dataset)"
   ]
  },
  {
   "cell_type": "markdown",
   "metadata": {},
   "source": [
    "The best accuracy is:"
   ]
  },
  {
   "cell_type": "code",
   "execution_count": null,
   "metadata": {},
   "outputs": [],
   "source": [
    "print(results.metric)"
   ]
  },
  {
   "cell_type": "markdown",
   "metadata": {},
   "source": [
    "The associated best configuration is:"
   ]
  },
  {
   "cell_type": "code",
   "execution_count": null,
   "metadata": {},
   "outputs": [],
   "source": [
    "print(results.config)"
   ]
  },
  {
   "cell_type": "markdown",
   "metadata": {},
   "source": [
    "Total time cost is:"
   ]
  },
  {
   "cell_type": "code",
   "execution_count": null,
   "metadata": {},
   "outputs": [],
   "source": [
    "print('%.2f s' % results.time)"
   ]
  },
  {
   "cell_type": "markdown",
   "metadata": {},
   "source": [
    "## A Step-by-step Text Classification Example\n",
    "\n",
    "We first introduce the basic configuration `autogluon.space`, which is used to represent the search space of each task components, we will then go throught each components, including \n",
    "\n",
    "* `autogluon.Dataset`\n",
    "* `autogluon.Nets`\n",
    "* `autogluon.Optimizers`\n",
    "* `autogluon.Losses`\n",
    "* `autogluon.Metrics`\n",
    "\n",
    "and finally put all together to `fit` to generate best results."
   ]
  },
  {
   "cell_type": "markdown",
   "metadata": {},
   "source": [
    "### Import AutoGluon"
   ]
  },
  {
   "cell_type": "code",
   "execution_count": null,
   "metadata": {},
   "outputs": [],
   "source": [
    "import warnings\n",
    "warnings.filterwarnings(\"ignore\")\n",
    "\n",
    "import autogluon as ag"
   ]
  },
  {
   "cell_type": "markdown",
   "metadata": {},
   "source": [
    "### Create AutoGluon Space\n",
    "\n",
    "\n",
    "`autogluon.space` is a search space containing a set of configuration candidates.\n",
    "We provide three basic space types.\n",
    "\n",
    "* Categorical Space"
   ]
  },
  {
   "cell_type": "code",
   "execution_count": null,
   "metadata": {},
   "outputs": [],
   "source": [
    "list_space = ag.space.List('listspace', ['0', '1', '2'])\n",
    "print(list_space)"
   ]
  },
  {
   "cell_type": "markdown",
   "metadata": {},
   "source": [
    "* Linear Space"
   ]
  },
  {
   "cell_type": "code",
   "execution_count": null,
   "metadata": {},
   "outputs": [],
   "source": [
    "linear_space = ag.space.Linear('linspace', 0, 10)\n",
    "print(linear_space)"
   ]
  },
  {
   "cell_type": "markdown",
   "metadata": {},
   "source": [
    "* Log Space"
   ]
  },
  {
   "cell_type": "code",
   "execution_count": null,
   "metadata": {},
   "outputs": [],
   "source": [
    "log_space = ag.space.Log('logspace', 10**-10, 10**-1)\n",
    "print(log_space)"
   ]
  },
  {
   "cell_type": "markdown",
   "metadata": {},
   "source": [
    "* An Example of Random Sample from the Combined Space"
   ]
  },
  {
   "cell_type": "code",
   "execution_count": null,
   "metadata": {},
   "outputs": [],
   "source": [
    "print(ag.space.sample_configuration([list_space, linear_space, log_space]))"
   ]
  },
  {
   "cell_type": "markdown",
   "metadata": {},
   "source": [
    "We then will use `autogluon.Nets` and `autogluon.Optimizers` as examples to show the usage of auto objects. The remainining auto objects are using default value.\n",
    "\n",
    "### Create AutoGluon Nets\n",
    "\n",
    "`autogluon.Nets` is a list of auto networks, and allows search for the best net\n",
    "\n",
    "* from a list of provided (or default) networks\n",
    "* by choosing the best architecture regarding to each auto net."
   ]
  },
  {
   "cell_type": "code",
   "execution_count": null,
   "metadata": {},
   "outputs": [],
   "source": [
    "# type of net_list is ag.space.List\n",
    "\n",
    "# method 1 (complex but flexiable): specify the net_list using get_model\n",
    "# net_list = [task.model_zoo.get_model('cifar_resnet20_v1'), # TODO: pretrained and pretrained_dataset would be supported\n",
    "#             task.model_zoo.get_model('cifar_resnet56_v1'),\n",
    "#             task.model_zoo.get_model('cifar_resnet110_v1')]\n",
    "\n",
    "# method 2 (easy and less flexiable): specify the net_list using model name\n",
    "net_list = ['standard_lstm_lm_200',\n",
    "            'awd_lstm_lm_600',\n",
    "            'awd_lstm_lm_1150']\n",
    "\n",
    "# default net list for text classification would be overwritten \n",
    "# if net_list is provided\n",
    "nets = ag.Nets(net_list)\n",
    "\n",
    "print(nets)"
   ]
  },
  {
   "cell_type": "markdown",
   "metadata": {},
   "source": [
    "### Create AutoGluon Optimizers\n",
    "\n",
    "`autogluon.Optimizers` defines a list of optimization algorithms that allows search for the best optimization algorithm \n",
    "\n",
    "* from a list of provided (or default) optimizers\n",
    "* by choosing the best hyper-parameters regarding to each auto optimizer"
   ]
  },
  {
   "cell_type": "code",
   "execution_count": null,
   "metadata": {},
   "outputs": [],
   "source": [
    "# method 1 (complex but flexiable): specify the optim_list using get_optim\n",
    "# optimizers = ag.Optimizers([ag.optim.get_optim('sgd'),\n",
    "#                             ag.optim.get_optim('adam')])\n",
    "\n",
    "# method 2 (easy and less flexiable): specify the optim_list using get_model\n",
    "optimizers = ag.Optimizers(['sgd', 'adam', 'ftml'])\n",
    "\n",
    "print(optimizers)"
   ]
  },
  {
   "cell_type": "markdown",
   "metadata": {},
   "source": [
    "### Create AutoGluon Fit - Put all together"
   ]
  },
  {
   "cell_type": "code",
   "execution_count": null,
   "metadata": {},
   "outputs": [],
   "source": [
    "stop_criterion = {\n",
    "    'time_limits': 1*60*60,\n",
    "    'max_metric': 0.80,\n",
    "    'max_trial_count': 5\n",
    "}\n",
    "\n",
    "resources_per_trial = {\n",
    "    'max_num_gpus': 4,\n",
    "    'max_num_cpus': 4,\n",
    "    'max_training_epochs': 5\n",
    "}\n",
    "\n",
    "results = task.fit(dataset,\n",
    "                   nets,\n",
    "                   optimizers,\n",
    "                   stop_criterion=stop_criterion,\n",
    "                   resources_per_trial=resources_per_trial)"
   ]
  },
  {
   "cell_type": "markdown",
   "metadata": {},
   "source": [
    "The best accuracy is:"
   ]
  },
  {
   "cell_type": "code",
   "execution_count": null,
   "metadata": {},
   "outputs": [],
   "source": [
    "print(results.val_accuracy)"
   ]
  },
  {
   "cell_type": "markdown",
   "metadata": {},
   "source": [
    "The best associated configuration is:"
   ]
  },
  {
   "cell_type": "code",
   "execution_count": null,
   "metadata": {},
   "outputs": [],
   "source": [
    "print(results.config)"
   ]
  },
  {
   "cell_type": "markdown",
   "metadata": {},
   "source": [
    "Total time cost is:"
   ]
  },
  {
   "cell_type": "code",
   "execution_count": null,
   "metadata": {},
   "outputs": [],
   "source": [
    "print('%.2f s' % results.time)"
   ]
  },
  {
   "cell_type": "markdown",
   "metadata": {},
   "source": [
    "## Refereces"
   ]
  },
  {
   "cell_type": "markdown",
   "metadata": {},
   "source": [
    "* code: https://code.amazon.com/packages/AutoGluon/trees/heads/mainline \n",
    "* API design: https://quip-amazon.com/aaGsAS9lY3WU/AutoGluon-API\n",
    "* Implementation roadmap: https://quip-amazon.com/zlQUAjSWBc3c/AutoGluon-System-Implementation-Roadmap"
   ]
  }
 ],
 "metadata": {
  "kernelspec": {
   "display_name": "Python 3",
   "language": "python",
   "name": "python3"
  },
  "language_info": {
   "codemirror_mode": {
    "name": "ipython",
    "version": 3
   },
   "file_extension": ".py",
   "mimetype": "text/x-python",
   "name": "python",
   "nbconvert_exporter": "python",
   "pygments_lexer": "ipython3",
   "version": "3.7.3"
  }
 },
 "nbformat": 4,
 "nbformat_minor": 2
}
