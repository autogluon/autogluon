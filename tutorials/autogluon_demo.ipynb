{
 "cells": [
  {
   "cell_type": "markdown",
   "metadata": {},
   "source": [
    "# AutoGluon"
   ]
  },
  {
   "cell_type": "markdown",
   "metadata": {},
   "source": [
    "AutoGluon aims to provide automatic machine learning (Auto ML) support for MXNet and Gluon. AutoGluon focuses on automatic deep learning (Auto DL). AutoGluon targets: \n",
    "\n",
    "* *Beginners *are* *70~80% of the customers who would be interested in AutoGluon. The basic Auto ML  scenario: customers have a traditional machine learning task by hand, provide own raw data, watch the search process, and finally obtain a good quality model. The beginners include but not limited to engineers and students, who are generally new to machine learning. \n",
    "* *Advanced users *aim to own full control and access to the Auto ML overall process as well as each important component, such as constructing own networks, metrics, losses, optimizers, searcher and trial scheduler. The advanced users could potentially have more specified constraints regarding to the automatic searching procedure. The advanced users include but not limited to experienced machine learning researchers and engineers.\n",
    "* *Contributors: *Contributors are Advanced users who will create strategies that are useful for beginners either extending to new datasets, new domains, new algorithms or bringing state of art results to save time and effort.\n",
    "\n",
    "The AutoGluon's design principles are:\n",
    "\n",
    "* *Easy to use: *Deep learning framework users could use AutoGluon almost right away. The only usage difference between AutoGluon and Gluon is that: rather than providing a fixed value to different deep learning components, we enable a searchable range to let Auto ML decides which are the best, whereas all the major APIs' usage stays the same.\n",
    "* *Easy to extend: *From user perspective, we organize the AutoGluon by tasks, users could easily use all the task specific components, such as data preprocessing, model zoo, metrics and losses, so that adding a new task could very straightforward. In this way, advanced ML tasks, such as GAN ,could be easily incorporated by providing a new task module. From system perspective, multiple back-ends could be used since the front-end are designed to be separate from the backends, this could be beneficial to extend to production-level Auto ML.\n",
    "\n",
    "In the following*, we use Image Classification as a running example* to illustrate the usage of AutoGluon's main APIs.\n"
   ]
  },
  {
   "cell_type": "markdown",
   "metadata": {},
   "source": [
    "## Preparation\n",
    "\n",
    "### Install AutoGluon\n",
    "\n",
    "```bash\n",
    "git clone ssh://git.amazon.com/pkg/AutoGluon\n",
    "cd AutoGluon\n",
    "python setup.py develop\n",
    "```"
   ]
  },
  {
   "cell_type": "markdown",
   "metadata": {},
   "source": [
    "### Import Task\n",
    "\n",
    "We are using image classification as an example in this notebook."
   ]
  },
  {
   "cell_type": "code",
   "execution_count": 1,
   "metadata": {},
   "outputs": [],
   "source": [
    "from autogluon import image_classification as task\n",
    "\n",
    "import logging\n",
    "logging.basicConfig(level=logging.INFO)"
   ]
  },
  {
   "cell_type": "markdown",
   "metadata": {},
   "source": [
    "## A Quick Image Classification Example\n",
    "\n",
    "We first show the most basic usage by first creating a dataset and then fiting the dataset to generate the results with the image classification example."
   ]
  },
  {
   "cell_type": "markdown",
   "metadata": {},
   "source": [
    "### Create AutoGluon Dataset\n",
    "\n",
    "We use CIFAR10 for image classfication for demo purpose."
   ]
  },
  {
   "cell_type": "code",
   "execution_count": 2,
   "metadata": {},
   "outputs": [],
   "source": [
    "dataset = task.Dataset(name='cifar10') # case insentive \n",
    "# TODO. show a quick summary of the dataset, e.g. #example for train, #classes"
   ]
  },
  {
   "cell_type": "markdown",
   "metadata": {},
   "source": [
    "The constructed dataset contains the `gluon.data.DataLoader` for the CIFAR10 training and validation datasets."
   ]
  },
  {
   "cell_type": "code",
   "execution_count": 3,
   "metadata": {},
   "outputs": [
    {
     "data": {
      "text/plain": [
       "(\n",
       " [[[[ 84 120  98]\n",
       "    [ 98 125 103]\n",
       "    [ 99 125 105]\n",
       "    ...\n",
       "    [178 190 169]\n",
       "    [166 169 152]\n",
       "    [160 170 145]]\n",
       " \n",
       "   [[142 158 145]\n",
       "    [187 182 170]\n",
       "    [171 168 153]\n",
       "    ...\n",
       "    [190 200 179]\n",
       "    [176 177 161]\n",
       "    [178 185 161]]\n",
       " \n",
       "   [[181 192 183]\n",
       "    [190 196 184]\n",
       "    [177 185 175]\n",
       "    ...\n",
       "    [175 184 169]\n",
       "    [169 169 156]\n",
       "    [181 186 166]]\n",
       " \n",
       "   ...\n",
       " \n",
       "   [[ 17  16  11]\n",
       "    [ 12  11  11]\n",
       "    [ 22  19  15]\n",
       "    ...\n",
       "    [114 118 107]\n",
       "    [117 120 112]\n",
       "    [115 125 113]]\n",
       " \n",
       "   [[  8   9   7]\n",
       "    [ 28  22  20]\n",
       "    [ 91  83  65]\n",
       "    ...\n",
       "    [123 128 118]\n",
       "    [110 113 104]\n",
       "    [114 123 113]]\n",
       " \n",
       "   [[ 44  38  31]\n",
       "    [104  97  79]\n",
       "    [137 142 128]\n",
       "    ...\n",
       "    [141 148 141]\n",
       "    [127 132 127]\n",
       "    [ 85  90  81]]]\n",
       " \n",
       " \n",
       "  [[[114 142 197]\n",
       "    [115 143 197]\n",
       "    [116 144 199]\n",
       "    ...\n",
       "    [120 147 201]\n",
       "    [120 147 201]\n",
       "    [119 146 200]]\n",
       " \n",
       "   [[118 145 198]\n",
       "    [119 146 199]\n",
       "    [120 146 201]\n",
       "    ...\n",
       "    [124 150 201]\n",
       "    [124 149 201]\n",
       "    [124 149 201]]\n",
       " \n",
       "   [[122 147 201]\n",
       "    [123 149 202]\n",
       "    [124 149 203]\n",
       "    ...\n",
       "    [129 152 204]\n",
       "    [129 152 203]\n",
       "    [129 151 203]]\n",
       " \n",
       "   ...\n",
       " \n",
       "   [[ 96  89  91]\n",
       "    [ 95  88  91]\n",
       "    [ 98  90  92]\n",
       "    ...\n",
       "    [ 84  75  76]\n",
       "    [ 86  77  78]\n",
       "    [ 91  83  84]]\n",
       " \n",
       "   [[113 107 109]\n",
       "    [119 112 115]\n",
       "    [119 109 112]\n",
       "    ...\n",
       "    [ 82  74  75]\n",
       "    [ 77  71  71]\n",
       "    [ 65  60  60]]\n",
       " \n",
       "   [[108 102 104]\n",
       "    [106  99 101]\n",
       "    [105  95  98]\n",
       "    ...\n",
       "    [ 82  76  76]\n",
       "    [ 51  47  46]\n",
       "    [ 11   8   6]]]\n",
       " \n",
       " \n",
       "  [[[ 17   3   3]\n",
       "    [ 23   2   3]\n",
       "    [ 28   1   3]\n",
       "    ...\n",
       "    [ 46  29  12]\n",
       "    [ 49  34  17]\n",
       "    [ 50  31  13]]\n",
       " \n",
       "   [[ 13   5   4]\n",
       "    [ 15   1   1]\n",
       "    [ 17   0   1]\n",
       "    ...\n",
       "    [ 59  35  19]\n",
       "    [ 58  40  24]\n",
       "    [ 53  38  19]]\n",
       " \n",
       "   [[ 23  15  13]\n",
       "    [ 16   5   3]\n",
       "    [ 14   1   1]\n",
       "    ...\n",
       "    [ 63  26  16]\n",
       "    [ 60  36  24]\n",
       "    [ 53  38  21]]\n",
       " \n",
       "   ...\n",
       " \n",
       "   [[ 28  37  46]\n",
       "    [ 28  37  48]\n",
       "    [ 31  39  52]\n",
       "    ...\n",
       "    [219 250 253]\n",
       "    [220 251 254]\n",
       "    [224 251 255]]\n",
       " \n",
       "   [[ 54  68  73]\n",
       "    [ 56  69  76]\n",
       "    [ 60  74  83]\n",
       "    ...\n",
       "    [199 237 243]\n",
       "    [190 235 244]\n",
       "    [190 236 248]]\n",
       " \n",
       "   [[ 54  73  75]\n",
       "    [ 56  74  78]\n",
       "    [ 62  78  85]\n",
       "    ...\n",
       "    [214 251 253]\n",
       "    [200 244 250]\n",
       "    [197 239 249]]]\n",
       " \n",
       " \n",
       "  ...\n",
       " \n",
       " \n",
       "  [[[ 20  15  12]\n",
       "    [ 19  14  11]\n",
       "    [ 15  14  11]\n",
       "    ...\n",
       "    [ 10   9   7]\n",
       "    [ 12  11   9]\n",
       "    [ 13  12  10]]\n",
       " \n",
       "   [[ 21  16  13]\n",
       "    [ 20  16  13]\n",
       "    [ 18  17  12]\n",
       "    ...\n",
       "    [ 10   9   7]\n",
       "    [ 10   9   7]\n",
       "    [ 12  11   9]]\n",
       " \n",
       "   [[ 21  16  13]\n",
       "    [ 21  17  12]\n",
       "    [ 20  18  11]\n",
       "    ...\n",
       "    [ 12  11   9]\n",
       "    [ 12  11   9]\n",
       "    [ 13  12  10]]\n",
       " \n",
       "   ...\n",
       " \n",
       "   [[ 33  25  13]\n",
       "    [ 34  26  15]\n",
       "    [ 34  26  15]\n",
       "    ...\n",
       "    [ 28  25  52]\n",
       "    [ 29  25  58]\n",
       "    [ 23  20  42]]\n",
       " \n",
       "   [[ 33  25  14]\n",
       "    [ 34  26  15]\n",
       "    [ 34  26  15]\n",
       "    ...\n",
       "    [ 27  24  52]\n",
       "    [ 27  24  56]\n",
       "    [ 25  22  47]]\n",
       " \n",
       "   [[ 31  23  12]\n",
       "    [ 32  24  13]\n",
       "    [ 33  25  14]\n",
       "    ...\n",
       "    [ 24  23  50]\n",
       "    [ 26  23  53]\n",
       "    [ 25  20  47]]]\n",
       " \n",
       " \n",
       "  [[[ 25  40  12]\n",
       "    [ 15  36   3]\n",
       "    [ 23  41  18]\n",
       "    ...\n",
       "    [ 61  82  78]\n",
       "    [ 92 113 112]\n",
       "    [ 75  89  92]]\n",
       " \n",
       "   [[ 12  25   6]\n",
       "    [ 20  37   7]\n",
       "    [ 24  36  15]\n",
       "    ...\n",
       "    [115 134 138]\n",
       "    [149 168 177]\n",
       "    [104 117 131]]\n",
       " \n",
       "   [[ 12  25  11]\n",
       "    [ 15  29   6]\n",
       "    [ 34  40  24]\n",
       "    ...\n",
       "    [154 172 182]\n",
       "    [157 175 192]\n",
       "    [116 129 151]]\n",
       " \n",
       "   ...\n",
       " \n",
       "   [[100 129  81]\n",
       "    [103 132  84]\n",
       "    [104 134  86]\n",
       "    ...\n",
       "    [ 97 128  84]\n",
       "    [ 98 126  84]\n",
       "    [ 91 121  79]]\n",
       " \n",
       "   [[103 132  83]\n",
       "    [104 131  83]\n",
       "    [107 135  87]\n",
       "    ...\n",
       "    [101 132  87]\n",
       "    [ 99 127  84]\n",
       "    [ 92 121  79]]\n",
       " \n",
       "   [[ 95 126  78]\n",
       "    [ 95 123  76]\n",
       "    [101 128  81]\n",
       "    ...\n",
       "    [ 93 124  80]\n",
       "    [ 95 123  81]\n",
       "    [ 92 120  80]]]\n",
       " \n",
       " \n",
       "  [[[ 73  78  75]\n",
       "    [ 98 103 113]\n",
       "    [ 99 106 114]\n",
       "    ...\n",
       "    [135 150 152]\n",
       "    [135 149 154]\n",
       "    [203 215 223]]\n",
       " \n",
       "   [[ 69  73  70]\n",
       "    [ 84  89  97]\n",
       "    [ 68  75  81]\n",
       "    ...\n",
       "    [ 85  95  89]\n",
       "    [ 71  82  80]\n",
       "    [120 133 135]]\n",
       " \n",
       "   [[ 69  73  70]\n",
       "    [ 90  95 100]\n",
       "    [ 62  71  74]\n",
       "    ...\n",
       "    [ 74  81  70]\n",
       "    [ 53  62  54]\n",
       "    [ 62  74  69]]\n",
       " \n",
       "   ...\n",
       " \n",
       "   [[123 128  96]\n",
       "    [132 132 102]\n",
       "    [129 128 100]\n",
       "    ...\n",
       "    [108 107  88]\n",
       "    [ 62  60  55]\n",
       "    [ 27  27  28]]\n",
       " \n",
       "   [[115 121  91]\n",
       "    [123 124  95]\n",
       "    [129 126  99]\n",
       "    ...\n",
       "    [115 116  94]\n",
       "    [ 66  65  59]\n",
       "    [ 27  27  27]]\n",
       " \n",
       "   [[116 120  90]\n",
       "    [121 122  94]\n",
       "    [129 128 101]\n",
       "    ...\n",
       "    [116 115  94]\n",
       "    [ 68  65  58]\n",
       "    [ 27  26  26]]]]\n",
       " <NDArray 10x32x32x3 @cpu(0)>,\n",
       " array([7, 0, 3, 5, 3, 8, 3, 5, 1, 7], dtype=int32))"
      ]
     },
     "execution_count": 3,
     "metadata": {},
     "output_type": "execute_result"
    }
   ],
   "source": [
    "dataset.train[0] # access the first example\n",
    "dataset.val[-10:] # access the last 10 validation examples"
   ]
  },
  {
   "cell_type": "markdown",
   "metadata": {},
   "source": [
    "Then we will use the default configuration of the image classification to generate:\n",
    "* Best result of the search in terms of accuracy\n",
    "* According best configuration regarding to the best result\n",
    "    \n",
    "To acheive this, we are using `fit` function to generate the above results based on the datasets.\n",
    "\n",
    "The default configruation is based on `max_trial_count=2` and `max_training_epochs=10`. This will take approximately 10min to finish."
   ]
  },
  {
   "cell_type": "code",
   "execution_count": 4,
   "metadata": {},
   "outputs": [
    {
     "name": "stderr",
     "output_type": "stream",
     "text": [
      "INFO:autogluon.scheduler.fifo:Starting Experiments\n",
      "INFO:autogluon.scheduler.fifo:Num of Finished Tasks is 0\n",
      "INFO:autogluon.scheduler.fifo:Num of Pending Tasks is 2\n",
      "INFO:autogluon.searcher.searcher:Finished Task with config: {\"fitspace:model\": \"cifar_resnet20_v1\", \"fitspace:optimizer\": \"adam\", \"fitspace:lr\": 0.06417074631491246, \"fitspace:momentum\": 0.8736173807889697, \"fitspace:pretrained\": true} and reward: 0.41876\n",
      "INFO:autogluon.searcher.searcher:Finished Task with config: {\"fitspace:model\": \"cifar_resnet110_v1\", \"fitspace:optimizer\": \"adam\", \"fitspace:lr\": 0.0008893578173207074, \"fitspace:momentum\": 0.9366694137744673, \"fitspace:pretrained\": false} and reward: 0.41779\n",
      "INFO:autogluon.scheduler.fifo:Saving Training Curve in checkpoint/exp1.png\n"
     ]
    },
    {
     "data": {
      "image/png": "[encoded data removed]",
      "text/plain": [
       "<Figure size 432x288 with 1 Axes>"
      ]
     },
     "metadata": {},
     "output_type": "display_data"
    }
   ],
   "source": [
    "results = task.fit(dataset)"
   ]
  },
  {
   "cell_type": "markdown",
   "metadata": {},
   "source": [
    "The best accuracy is:"
   ]
  },
  {
   "cell_type": "code",
   "execution_count": 5,
   "metadata": {},
   "outputs": [
    {
     "name": "stdout",
     "output_type": "stream",
     "text": [
      "0.41876\n"
     ]
    }
   ],
   "source": [
    "print(results.val_accuracy)"
   ]
  },
  {
   "cell_type": "markdown",
   "metadata": {},
   "source": [
    "The associated best configuration is:"
   ]
  },
  {
   "cell_type": "code",
   "execution_count": 6,
   "metadata": {},
   "outputs": [
    {
     "name": "stdout",
     "output_type": "stream",
     "text": [
      "{'fitspace:model': 'cifar_resnet20_v1', 'fitspace:optimizer': 'adam', 'fitspace:lr': 0.06417074631491246, 'fitspace:momentum': 0.8736173807889697, 'fitspace:pretrained': True}\n"
     ]
    }
   ],
   "source": [
    "print(results.config)"
   ]
  },
  {
   "cell_type": "markdown",
   "metadata": {},
   "source": [
    "Total time cost is:"
   ]
  },
  {
   "cell_type": "code",
   "execution_count": 7,
   "metadata": {},
   "outputs": [
    {
     "name": "stdout",
     "output_type": "stream",
     "text": [
      "163.99 s\n"
     ]
    }
   ],
   "source": [
    "print('%.2f s' % results.time)"
   ]
  },
  {
   "cell_type": "markdown",
   "metadata": {},
   "source": [
    "## A Step-by-step Image Classification Example\n",
    "\n",
    "We first introduce the basic configuration `autogluon.space`, which is used to represent the search space of each task components, we will then go throught each components, including \n",
    "\n",
    "* `autogluon.Dataset`\n",
    "* `autogluon.Nets`\n",
    "* `autogluon.Optimizers`\n",
    "* `autogluon.Losses`\n",
    "* `autogluon.Metrics`\n",
    "\n",
    "and finally put all together to `fit` to generate best results."
   ]
  },
  {
   "cell_type": "markdown",
   "metadata": {},
   "source": [
    "### Import AutoGluon"
   ]
  },
  {
   "cell_type": "code",
   "execution_count": 8,
   "metadata": {},
   "outputs": [],
   "source": [
    "import warnings\n",
    "warnings.filterwarnings(\"ignore\")\n",
    "\n",
    "import autogluon as ag"
   ]
  },
  {
   "cell_type": "markdown",
   "metadata": {},
   "source": [
    "### Create AutoGluon Space\n",
    "\n",
    "\n",
    "`autogluon.space` is a search space containing a set of configuration candidates.\n",
    "We provide three basic space types.\n",
    "\n",
    "* Categorical Space"
   ]
  },
  {
   "cell_type": "code",
   "execution_count": 9,
   "metadata": {},
   "outputs": [
    {
     "name": "stdout",
     "output_type": "stream",
     "text": [
      "AutoGluon List Space listspace: ['0', '1', '2']\n"
     ]
    }
   ],
   "source": [
    "list_space = ag.space.List('listspace', ['0', '1', '2'])\n",
    "print(list_space)"
   ]
  },
  {
   "cell_type": "markdown",
   "metadata": {},
   "source": [
    "* Linear Space"
   ]
  },
  {
   "cell_type": "code",
   "execution_count": 10,
   "metadata": {},
   "outputs": [
    {
     "name": "stdout",
     "output_type": "stream",
     "text": [
      "AutoGluon Linear Space linspace: lower 0, upper 10\n"
     ]
    }
   ],
   "source": [
    "linear_space = ag.space.Linear('linspace', 0, 10)\n",
    "print(linear_space)"
   ]
  },
  {
   "cell_type": "markdown",
   "metadata": {},
   "source": [
    "* Log Space"
   ]
  },
  {
   "cell_type": "code",
   "execution_count": 11,
   "metadata": {},
   "outputs": [
    {
     "name": "stdout",
     "output_type": "stream",
     "text": [
      "AutoGluon Log Space logspace: lower 0.000000, upper 0.100000\n"
     ]
    }
   ],
   "source": [
    "log_space = ag.space.Log('logspace', 10**-10, 10**-1)\n",
    "print(log_space)"
   ]
  },
  {
   "cell_type": "markdown",
   "metadata": {},
   "source": [
    "* An Example of Random Sample from the Combined Space"
   ]
  },
  {
   "cell_type": "code",
   "execution_count": 12,
   "metadata": {},
   "outputs": [
    {
     "name": "stdout",
     "output_type": "stream",
     "text": [
      "Configuration:\n",
      "  linspace, Value: 1\n",
      "  listspace, Value: '0'\n",
      "  logspace, Value: 9.099340845095782e-05\n",
      "\n"
     ]
    }
   ],
   "source": [
    "print(ag.space.sample_configuration([list_space, linear_space, log_space]))"
   ]
  },
  {
   "cell_type": "markdown",
   "metadata": {},
   "source": [
    "We then will use `autogluon.Nets` and `autogluon.Optimizers` as examples to show the usage of auto objects. The remainining auto objects are using default value.\n",
    "\n",
    "### Create AutoGluon Nets\n",
    "\n",
    "`autogluon.Nets` is a list of auto networks, and allows search for the best net\n",
    "\n",
    "* from a list of provided (or default) networks\n",
    "* by choosing the best architecture regarding to each auto net."
   ]
  },
  {
   "cell_type": "code",
   "execution_count": 13,
   "metadata": {},
   "outputs": [
    {
     "name": "stdout",
     "output_type": "stream",
     "text": [
      "AutoGluon Nets ['cifar_resnet20_v1', 'cifar_resnet56_v1', 'cifar_resnet110_v1'] with Configuration space object:\n",
      "  Hyperparameters:\n",
      "    model, Type: Categorical, Choices: {cifar_resnet20_v1, cifar_resnet56_v1, cifar_resnet110_v1}, Default: cifar_resnet20_v1\n",
      "    pretrained, Type: Categorical, Choices: {True, False}, Default: True\n",
      "  Conditions:\n",
      "    pretrained | model in {'cifar_resnet20_v1', 'cifar_resnet56_v1', 'cifar_resnet110_v1'}\n",
      "\n"
     ]
    }
   ],
   "source": [
    "# type of net_list is ag.space.List\n",
    "\n",
    "# method 1 (complex but flexiable): specify the net_list using get_model\n",
    "# net_list = [task.model_zoo.get_model('cifar_resnet20_v1'), # TODO: pretrained and pretrained_dataset would be supported\n",
    "#             task.model_zoo.get_model('cifar_resnet56_v1'),\n",
    "#             task.model_zoo.get_model('cifar_resnet110_v1')]\n",
    "\n",
    "# method 2 (easy and less flexiable): specify the net_list using model name\n",
    "net_list = ['cifar_resnet20_v1',\n",
    "            'cifar_resnet56_v1',\n",
    "            'cifar_resnet110_v1']\n",
    "\n",
    "# default net list for image classification would be overwritten \n",
    "# if net_list is provided\n",
    "nets = ag.Nets(net_list)\n",
    "\n",
    "print(nets)"
   ]
  },
  {
   "cell_type": "markdown",
   "metadata": {},
   "source": [
    "### Create AutoGluon Optimizers\n",
    "\n",
    "`autogluon.Optimizers` defines a list of optimization algorithms that allows search for the best optimization algorithm \n",
    "\n",
    "* from a list of provided (or default) optimizers\n",
    "* by choosing the best hyper-parameters regarding to each auto optimizer"
   ]
  },
  {
   "cell_type": "code",
   "execution_count": 14,
   "metadata": {},
   "outputs": [
    {
     "name": "stdout",
     "output_type": "stream",
     "text": [
      "AutoGluon Optimizers ['sgd', 'adam'] with Configuration space object:\n",
      "  Hyperparameters:\n",
      "    lr, Type: UniformFloat, Range: [0.0001, 0.1], Default: 0.0031622777, on log-scale\n",
      "    momentum, Type: UniformFloat, Range: [0.85, 0.95], Default: 0.9\n",
      "    optimizer, Type: Categorical, Choices: {sgd, adam}, Default: sgd\n",
      "  Conditions:\n",
      "    lr | optimizer in {'sgd', 'adam'}\n",
      "    momentum | optimizer in {'sgd', 'adam'}\n",
      "\n"
     ]
    }
   ],
   "source": [
    "# method 1 (complex but flexiable): specify the optim_list using get_optim\n",
    "# optimizers = ag.Optimizers([ag.optim.get_optim('sgd'),\n",
    "#                             ag.optim.get_optim('adam')])\n",
    "\n",
    "# method 2 (easy and less flexiable): specify the optim_list using get_model\n",
    "optimizers = ag.Optimizers(['sgd', 'adam'])\n",
    "\n",
    "print(optimizers)"
   ]
  },
  {
   "cell_type": "markdown",
   "metadata": {},
   "source": [
    "### Create AutoGluon Fit - Put all together"
   ]
  },
  {
   "cell_type": "code",
   "execution_count": 15,
   "metadata": {},
   "outputs": [
    {
     "name": "stderr",
     "output_type": "stream",
     "text": [
      "INFO:autogluon.scheduler.fifo:Starting Experiments\n",
      "INFO:autogluon.scheduler.fifo:Num of Finished Tasks is 0\n",
      "INFO:autogluon.scheduler.fifo:Num of Pending Tasks is 6\n",
      "INFO:autogluon.searcher.searcher:Finished Task with config: {\"fitspace:model\": \"cifar_resnet20_v1\", \"fitspace:optimizer\": \"sgd\", \"fitspace:lr\": 0.0006970816809350348, \"fitspace:momentum\": 0.8663384345806123, \"fitspace:pretrained\": true} and reward: 0.2444\n",
      "INFO:autogluon.searcher.searcher:Finished Task with config: {\"fitspace:model\": \"cifar_resnet110_v1\", \"fitspace:optimizer\": \"sgd\", \"fitspace:lr\": 0.009726943900092279, \"fitspace:momentum\": 0.9405356358123225, \"fitspace:pretrained\": true} and reward: 0.2464\n",
      "INFO:autogluon.searcher.searcher:Finished Task with config: {\"fitspace:model\": \"cifar_resnet56_v1\", \"fitspace:optimizer\": \"sgd\", \"fitspace:lr\": 0.010734554017152979, \"fitspace:momentum\": 0.8832474627323881, \"fitspace:pretrained\": false} and reward: 0.333675\n",
      "INFO:autogluon.searcher.searcher:Finished Task with config: {\"fitspace:model\": \"cifar_resnet110_v1\", \"fitspace:optimizer\": \"adam\", \"fitspace:lr\": 0.005050966569920548, \"fitspace:momentum\": 0.8972957743966343, \"fitspace:pretrained\": false} and reward: 0.331725\n",
      "INFO:autogluon.searcher.searcher:Finished Task with config: {\"fitspace:model\": \"cifar_resnet20_v1\", \"fitspace:optimizer\": \"adam\", \"fitspace:lr\": 0.08424751177252776, \"fitspace:momentum\": 0.9403903110536888, \"fitspace:pretrained\": true} and reward: 0.41999\n",
      "INFO:autogluon.searcher.searcher:Finished Task with config: {\"fitspace:model\": \"cifar_resnet110_v1\", \"fitspace:optimizer\": \"sgd\", \"fitspace:lr\": 0.008531515529543102, \"fitspace:momentum\": 0.8734194376647796, \"fitspace:pretrained\": false} and reward: 0.41767\n",
      "INFO:autogluon.scheduler.fifo:Saving Training Curve in checkpoint/exp1.png\n"
     ]
    },
    {
     "data": {
      "image/png": "[encoded data removed]",
      "text/plain": [
       "<Figure size 432x288 with 1 Axes>"
      ]
     },
     "metadata": {},
     "output_type": "display_data"
    }
   ],
   "source": [
    "stop_criterion = {\n",
    "    'time_limits': 1*60*60,\n",
    "    'max_metric': 0.80,\n",
    "    'max_trial_count': 6\n",
    "}\n",
    "\n",
    "resources_per_trial = {\n",
    "    'max_num_gpus': 1,\n",
    "    'max_num_cpus': 4,\n",
    "    'max_training_epochs': 10\n",
    "}\n",
    "\n",
    "results = task.fit(dataset,\n",
    "                   nets,\n",
    "                   optimizers,\n",
    "                   trial_scheduler='hyperband', # early stopping based on hyperband\n",
    "                   stop_criterion=stop_criterion,\n",
    "                   resources_per_trial=resources_per_trial)"
   ]
  },
  {
   "cell_type": "markdown",
   "metadata": {},
   "source": [
    "The best accuracy is:"
   ]
  },
  {
   "cell_type": "code",
   "execution_count": 17,
   "metadata": {},
   "outputs": [
    {
     "name": "stdout",
     "output_type": "stream",
     "text": [
      "0.41999\n"
     ]
    }
   ],
   "source": [
    "print(results.val_accuracy)"
   ]
  },
  {
   "cell_type": "markdown",
   "metadata": {},
   "source": [
    "The best associated configuration is:"
   ]
  },
  {
   "cell_type": "code",
   "execution_count": 18,
   "metadata": {},
   "outputs": [
    {
     "name": "stdout",
     "output_type": "stream",
     "text": [
      "{'fitspace:model': 'cifar_resnet20_v1', 'fitspace:optimizer': 'adam', 'fitspace:lr': 0.08424751177252776, 'fitspace:momentum': 0.9403903110536888, 'fitspace:pretrained': True}\n"
     ]
    }
   ],
   "source": [
    "print(results.config)"
   ]
  },
  {
   "cell_type": "markdown",
   "metadata": {},
   "source": [
    "Total time cost is:"
   ]
  },
  {
   "cell_type": "code",
   "execution_count": 19,
   "metadata": {},
   "outputs": [
    {
     "name": "stdout",
     "output_type": "stream",
     "text": [
      "207.93 s\n"
     ]
    }
   ],
   "source": [
    "print('%.2f s' % results.time)"
   ]
  },
  {
   "cell_type": "markdown",
   "metadata": {},
   "source": [
    "## Refereces"
   ]
  },
  {
   "cell_type": "markdown",
   "metadata": {},
   "source": [
    "* code: https://code.amazon.com/packages/AutoGluon/trees/heads/mainline \n",
    "* API design: https://quip-amazon.com/aaGsAS9lY3WU/AutoGluon-API\n",
    "* Implementation roadmap: https://quip-amazon.com/zlQUAjSWBc3c/AutoGluon-System-Implementation-Roadmap"
   ]
  }
 ],
 "metadata": {
  "kernelspec": {
   "display_name": "Python 3",
   "language": "python",
   "name": "python3"
  },
  "language_info": {
   "codemirror_mode": {
    "name": "ipython",
    "version": 3
   },
   "file_extension": ".py",
   "mimetype": "text/x-python",
   "name": "python",
   "nbconvert_exporter": "python",
   "pygments_lexer": "ipython3",
   "version": "3.6.5"
  }
 },
 "nbformat": 4,
 "nbformat_minor": 2
}
