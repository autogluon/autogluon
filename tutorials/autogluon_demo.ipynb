{
 "cells": [
  {
   "cell_type": "markdown",
   "metadata": {},
   "source": [
    "# AutoGluon"
   ]
  },
  {
   "cell_type": "markdown",
   "metadata": {},
   "source": [
    "AutoGluon aims to provide automatic machine learning (Auto ML) support for MXNet and Gluon. AutoGluon focuses on automatic deep learning (Auto DL). AutoGluon targets: \n",
    "\n",
    "* *Beginners *are* *70~80% of the customers who would be interested in AutoGluon. The basic Auto ML  scenario: customers have a traditional machine learning task by hand, provide own raw data, watch the search process, and finally obtain a good quality model. The beginners include but not limited to engineers and students, who are generally new to machine learning. \n",
    "* *Advanced users *aim to own full control and access to the Auto ML overall process as well as each important component, such as constructing own networks, metrics, losses, optimizers, searcher and trial scheduler. The advanced users could potentially have more specified constraints regarding to the automatic searching procedure. The advanced users include but not limited to experienced machine learning researchers and engineers.\n",
    "* *Contributors: *Contributors are Advanced users who will create strategies that are useful for beginners either extending to new datasets, new domains, new algorithms or bringing state of art results to save time and effort.\n",
    "\n",
    "The AutoGluon's design principles are:\n",
    "\n",
    "* *Easy to use: *Deep learning framework users could use AutoGluon almost right away. The only usage difference between AutoGluon and Gluon is that: rather than providing a fixed value to different deep learning components, we enable a searchable range to let Auto ML decides which are the best, whereas all the major APIs' usage stays the same.\n",
    "* *Easy to extend: *From user perspective, we organize the AutoGluon by tasks, users could easily use all the task specific components, such as data preprocessing, model zoo, metrics and losses, so that adding a new task could very straightforward. In this way, advanced ML tasks, such as GAN ,could be easily incorporated by providing a new task module. From system perspective, multiple back-ends could be used since the front-end are designed to be separate from the backends, this could be beneficial to extend to production-level Auto ML.\n",
    "\n",
    "In the following*, we use Image Classification as a running example* to illustrate the usage of AutoGluon's main APIs.\n"
   ]
  },
  {
   "cell_type": "markdown",
   "metadata": {},
   "source": [
    "## Preparation"
   ]
  },
  {
   "cell_type": "markdown",
   "metadata": {},
   "source": [
    "### Import AutoGluon"
   ]
  },
  {
   "cell_type": "code",
   "execution_count": 1,
   "metadata": {},
   "outputs": [
    {
     "name": "stderr",
     "output_type": "stream",
     "text": [
      "DEBUG:matplotlib.backends:backend module://ipykernel.pylab.backend_inline version unknown\n"
     ]
    }
   ],
   "source": [
    "import warnings\n",
    "warnings.filterwarnings(\"ignore\")\n",
    "\n",
    "import autogluon as ag"
   ]
  },
  {
   "cell_type": "markdown",
   "metadata": {},
   "source": [
    "### Import Task\n",
    "\n",
    "We are using image classification as an example in this notebook."
   ]
  },
  {
   "cell_type": "code",
   "execution_count": 2,
   "metadata": {},
   "outputs": [],
   "source": [
    "from autogluon import image_classification as task"
   ]
  },
  {
   "cell_type": "markdown",
   "metadata": {},
   "source": [
    "## A Quick Image Classification Example\n",
    "\n",
    "We first show the most basic usage by first creating a dataset and then fiting the dataset to generate the results with the image classification example."
   ]
  },
  {
   "cell_type": "markdown",
   "metadata": {},
   "source": [
    "### Create AutoGluon Dataset\n",
    "\n",
    "We use CIFAR10 for image classfication for demo purpose."
   ]
  },
  {
   "cell_type": "code",
   "execution_count": 3,
   "metadata": {},
   "outputs": [
    {
     "name": "stdout",
     "output_type": "stream",
     "text": [
      "<autogluon.task.image_classification.dataset.Dataset object at 0x7fc60e28d860>\n"
     ]
    }
   ],
   "source": [
    "dataset = task.Dataset(train_path='./CIFAR10/train', val_path='./CIFAR10/valid')\n",
    "\n",
    "print(dataset)"
   ]
  },
  {
   "cell_type": "markdown",
   "metadata": {},
   "source": [
    "The constructed dataset contains the `gluon.data.DataLoader` for the CIFAR10 training and validation datasets."
   ]
  },
  {
   "cell_type": "code",
   "execution_count": 4,
   "metadata": {},
   "outputs": [
    {
     "name": "stdout",
     "output_type": "stream",
     "text": [
      "<mxnet.gluon.data.dataloader.DataLoader object at 0x7fc60e22f390>\n",
      "<mxnet.gluon.data.dataloader.DataLoader object at 0x7fc60e236198>\n"
     ]
    }
   ],
   "source": [
    "print(dataset.train_data)\n",
    "print(dataset.val_data)"
   ]
  },
  {
   "cell_type": "markdown",
   "metadata": {},
   "source": [
    "The number of classes are automatically inferred."
   ]
  },
  {
   "cell_type": "code",
   "execution_count": 5,
   "metadata": {},
   "outputs": [
    {
     "name": "stdout",
     "output_type": "stream",
     "text": [
      "10\n"
     ]
    }
   ],
   "source": [
    "print(dataset.num_classes)"
   ]
  },
  {
   "cell_type": "markdown",
   "metadata": {},
   "source": [
    "Then we will use the default configuration of the image classification to generate:\n",
    "* Best result of the search in terms of accuracy\n",
    "* According best configuration regarding to the best result\n",
    "    \n",
    "To acheive this, we are using `fit` function to generate the above results based on the datasets.\n",
    "\n",
    "The default configruation is based on `max_trial_count=10` and `max_training_epochs=1`. This will take approximately 10min to finish."
   ]
  },
  {
   "cell_type": "code",
   "execution_count": 6,
   "metadata": {},
   "outputs": [
    {
     "name": "stderr",
     "output_type": "stream",
     "text": [
      "DEBUG:autogluon.task.image_classification.core:Start fitting\n",
      "DEBUG:autogluon.task.image_classification.core:Start constructing search space\n",
      "DEBUG:autogluon.task.image_classification.core:Finished.\n",
      "DEBUG:autogluon.task.image_classification.core:Start using default backend.\n",
      "INFO:autogluon.scheduler.fifo:Starting Experiments\n",
      "INFO:autogluon.scheduler.fifo:Num of Finished Tasks is 0\n",
      "INFO:autogluon.scheduler.fifo:Num of Pending Tasks is 10\n",
      "DEBUG:autogluon.scheduler.fifo:Adding A New Task Task(TASK_ID: 0) Task(fn=<function train_image_classification at 0x7fc60f3129d8>, args={'args': Namespace(epochs=1, lr=0.0001, model='resnet18_v1', optimizer='sgd', pretrained=True, train_data='./CIFAR10/train', val_data='./CIFAR10/valid'), 'config': {'fitspace:model': 'resnet34_v1', 'fitspace:optimizer': 'sgd', 'fitspace:lr': 0.00010478116717265095, 'fitspace:momentum': 0.8816854227138787, 'fitspace:pretrained': True}}, resources=Resources(nCPUs = 4, nGPUs = 1)))\n",
      "DEBUG:autogluon.scheduler.resource_manager:Reqeust succeed Resources(nCPUs = 4, CPU_IDs = {[0, 1, 2, 3]}, nGPUs = 1, GPU_IDs = {[0]})\n",
      "DEBUG:autogluon.scheduler.fifo:Adding A New Task Task(TASK_ID: 1) Task(fn=<function train_image_classification at 0x7fc60f3129d8>, args={'args': Namespace(epochs=1, lr=0.0001, model='resnet18_v1', optimizer='sgd', pretrained=True, train_data='./CIFAR10/train', val_data='./CIFAR10/valid'), 'config': {'fitspace:model': 'resnet101_v1', 'fitspace:optimizer': 'adam', 'fitspace:lr': 0.0007320528860097534, 'fitspace:momentum': 0.8963548623074746, 'fitspace:pretrained': True}}, resources=Resources(nCPUs = 4, nGPUs = 1)))\n",
      "DEBUG:autogluon.scheduler.resource_manager:Reqeust succeed Resources(nCPUs = 4, CPU_IDs = {[4, 5, 6, 7]}, nGPUs = 1, GPU_IDs = {[1]})\n",
      "DEBUG:autogluon.scheduler.fifo:Adding A New Task Task(TASK_ID: 2) Task(fn=<function train_image_classification at 0x7fc60f3129d8>, args={'args': Namespace(epochs=1, lr=0.0001, model='resnet18_v1', optimizer='sgd', pretrained=True, train_data='./CIFAR10/train', val_data='./CIFAR10/valid'), 'config': {'fitspace:model': 'resnet101_v1', 'fitspace:optimizer': 'adam', 'fitspace:lr': 0.00023908109292535915, 'fitspace:momentum': 0.9076814210325074, 'fitspace:pretrained': True}}, resources=Resources(nCPUs = 4, nGPUs = 1)))\n",
      "DEBUG:autogluon.scheduler.resource_manager:Reqeust succeed Resources(nCPUs = 4, CPU_IDs = {[8, 9, 10, 11]}, nGPUs = 1, GPU_IDs = {[2]})\n",
      "DEBUG:autogluon.scheduler.fifo:Adding A New Task Task(TASK_ID: 3) Task(fn=<function train_image_classification at 0x7fc60f3129d8>, args={'args': Namespace(epochs=1, lr=0.0001, model='resnet18_v1', optimizer='sgd', pretrained=True, train_data='./CIFAR10/train', val_data='./CIFAR10/valid'), 'config': {'fitspace:model': 'resnet34_v1', 'fitspace:optimizer': 'adam', 'fitspace:lr': 0.0005079539351678317, 'fitspace:momentum': 0.8778933467495841, 'fitspace:pretrained': False}}, resources=Resources(nCPUs = 4, nGPUs = 1)))\n",
      "DEBUG:autogluon.scheduler.resource_manager:Reqeust succeed Resources(nCPUs = 4, CPU_IDs = {[12, 13, 14, 15]}, nGPUs = 1, GPU_IDs = {[3]})\n",
      "DEBUG:autogluon.scheduler.fifo:Adding A New Task Task(TASK_ID: 4) Task(fn=<function train_image_classification at 0x7fc60f3129d8>, args={'args': Namespace(epochs=1, lr=0.0001, model='resnet18_v1', optimizer='sgd', pretrained=True, train_data='./CIFAR10/train', val_data='./CIFAR10/valid'), 'config': {'fitspace:model': 'resnet101_v1', 'fitspace:optimizer': 'sgd', 'fitspace:lr': 0.00011439853150538504, 'fitspace:momentum': 0.8976251690765387, 'fitspace:pretrained': True}}, resources=Resources(nCPUs = 4, nGPUs = 1)))\n",
      "DEBUG:autogluon.scheduler.resource_manager:Reqeust succeed Resources(nCPUs = 4, CPU_IDs = {[16, 17, 18, 19]}, nGPUs = 1, GPU_IDs = {[4]})\n",
      "DEBUG:autogluon.scheduler.fifo:Adding A New Task Task(TASK_ID: 5) Task(fn=<function train_image_classification at 0x7fc60f3129d8>, args={'args': Namespace(epochs=1, lr=0.0001, model='resnet18_v1', optimizer='sgd', pretrained=True, train_data='./CIFAR10/train', val_data='./CIFAR10/valid'), 'config': {'fitspace:model': 'resnet50_v1', 'fitspace:optimizer': 'adam', 'fitspace:lr': 0.051449363058242444, 'fitspace:momentum': 0.949490038379711, 'fitspace:pretrained': True}}, resources=Resources(nCPUs = 4, nGPUs = 1)))\n",
      "DEBUG:autogluon.scheduler.resource_manager:Reqeust succeed Resources(nCPUs = 4, CPU_IDs = {[20, 21, 22, 23]}, nGPUs = 1, GPU_IDs = {[5]})\n",
      "DEBUG:autogluon.scheduler.fifo:Adding A New Task Task(TASK_ID: 6) Task(fn=<function train_image_classification at 0x7fc60f3129d8>, args={'args': Namespace(epochs=1, lr=0.0001, model='resnet18_v1', optimizer='sgd', pretrained=True, train_data='./CIFAR10/train', val_data='./CIFAR10/valid'), 'config': {'fitspace:model': 'resnet101_v1', 'fitspace:optimizer': 'adam', 'fitspace:lr': 0.054054546569617355, 'fitspace:momentum': 0.8933316015571741, 'fitspace:pretrained': False}}, resources=Resources(nCPUs = 4, nGPUs = 1)))\n",
      "DEBUG:autogluon.scheduler.resource_manager:Reqeust succeed Resources(nCPUs = 4, CPU_IDs = {[24, 25, 26, 27]}, nGPUs = 1, GPU_IDs = {[6]})\n",
      "DEBUG:autogluon.scheduler.fifo:Adding A New Task Task(TASK_ID: 7) Task(fn=<function train_image_classification at 0x7fc60f3129d8>, args={'args': Namespace(epochs=1, lr=0.0001, model='resnet18_v1', optimizer='sgd', pretrained=True, train_data='./CIFAR10/train', val_data='./CIFAR10/valid'), 'config': {'fitspace:model': 'resnet101_v1', 'fitspace:optimizer': 'adam', 'fitspace:lr': 0.05940524465608096, 'fitspace:momentum': 0.9046463734282049, 'fitspace:pretrained': True}}, resources=Resources(nCPUs = 4, nGPUs = 1)))\n",
      "DEBUG:autogluon.scheduler.resource_manager:Reqeust succeed Resources(nCPUs = 4, CPU_IDs = {[28, 29, 30, 31]}, nGPUs = 1, GPU_IDs = {[7]})\n",
      "DEBUG:autogluon.scheduler.fifo:Adding A New Task Task(TASK_ID: 8) Task(fn=<function train_image_classification at 0x7fc60f3129d8>, args={'args': Namespace(epochs=1, lr=0.0001, model='resnet18_v1', optimizer='sgd', pretrained=True, train_data='./CIFAR10/train', val_data='./CIFAR10/valid'), 'config': {'fitspace:model': 'resnet18_v1', 'fitspace:optimizer': 'sgd', 'fitspace:lr': 0.00039744248054141424, 'fitspace:momentum': 0.9389562843488237, 'fitspace:pretrained': False}}, resources=Resources(nCPUs = 4, nGPUs = 1)))\n",
      "DEBUG:autogluon.scheduler.reporter:StatusReporter reporting: {\"epoch\": 1, \"accuracy\": 0.245, \"time_this_iter\": 33.16060924530029}\n",
      "DEBUG:autogluon.basic.decorators:Reporter Done!\n",
      "DEBUG:autogluon.scheduler.reporter:StatusReporter reporting: {\"done\": true, \"time_this_iter\": 0.044864654541015625}\n",
      "DEBUG:autogluon.scheduler.resource_manager:Reqeust succeed Resources(nCPUs = 4, CPU_IDs = {[32, 33, 34, 35]}, nGPUs = 1, GPU_IDs = {[6]})\n",
      "DEBUG:autogluon.scheduler.fifo:Adding A New Task Task(TASK_ID: 9) Task(fn=<function train_image_classification at 0x7fc60f3129d8>, args={'args': Namespace(epochs=1, lr=0.0001, model='resnet18_v1', optimizer='sgd', pretrained=True, train_data='./CIFAR10/train', val_data='./CIFAR10/valid'), 'config': {'fitspace:model': 'resnet18_v1', 'fitspace:optimizer': 'sgd', 'fitspace:lr': 0.02190646089905803, 'fitspace:momentum': 0.8722154198942891, 'fitspace:pretrained': True}}, resources=Resources(nCPUs = 4, nGPUs = 1)))\n",
      "DEBUG:autogluon.scheduler.reporter:StatusReporter reporting: {\"epoch\": 1, \"accuracy\": 0.2478, \"time_this_iter\": 33.929259300231934}\n",
      "DEBUG:autogluon.scheduler.reporter:StatusReporter reporting: {\"epoch\": 1, \"accuracy\": 0.2463, \"time_this_iter\": 34.09216785430908}\n",
      "DEBUG:autogluon.scheduler.reporter:StatusReporter reporting: {\"epoch\": 1, \"accuracy\": 0.2471, \"time_this_iter\": 34.08140683174133}\n",
      "DEBUG:autogluon.scheduler.reporter:StatusReporter reporting: {\"epoch\": 1, \"accuracy\": 0.2478, \"time_this_iter\": 34.12753129005432}\n",
      "DEBUG:autogluon.basic.decorators:Reporter Done!\n",
      "DEBUG:autogluon.scheduler.reporter:StatusReporter reporting: {\"done\": true, \"time_this_iter\": 0.18279743194580078}\n",
      "DEBUG:autogluon.scheduler.resource_manager:Reqeust succeed Resources(nCPUs = 4, CPU_IDs = {[36, 37, 38, 39]}, nGPUs = 1, GPU_IDs = {[5]})\n",
      "DEBUG:autogluon.basic.decorators:Reporter Done!\n",
      "DEBUG:autogluon.scheduler.reporter:StatusReporter reporting: {\"done\": true, \"time_this_iter\": 0.12737774848937988}\n",
      "DEBUG:autogluon.scheduler.reporter:StatusReporter reporting: {\"epoch\": 1, \"accuracy\": 0.2434, \"time_this_iter\": 34.09282851219177}\n"
     ]
    },
    {
     "name": "stderr",
     "output_type": "stream",
     "text": [
      "DEBUG:autogluon.basic.decorators:Reporter Done!\n",
      "DEBUG:autogluon.scheduler.reporter:StatusReporter reporting: {\"done\": true, \"time_this_iter\": 0.18712639808654785}\n",
      "DEBUG:autogluon.basic.decorators:Reporter Done!\n",
      "DEBUG:autogluon.scheduler.reporter:StatusReporter reporting: {\"done\": true, \"time_this_iter\": 0.12806344032287598}\n",
      "DEBUG:autogluon.basic.decorators:Reporter Done!\n",
      "DEBUG:autogluon.scheduler.reporter:StatusReporter reporting: {\"done\": true, \"time_this_iter\": 0.11692070960998535}\n",
      "INFO:autogluon.searcher.searcher:Finished Task with config: {\"fitspace:model\": \"resnet101_v1\", \"fitspace:optimizer\": \"adam\", \"fitspace:lr\": 0.054054546569617355, \"fitspace:momentum\": 0.8933316015571741, \"fitspace:pretrained\": false} and reward: 0.245\n",
      "DEBUG:autogluon.scheduler.fifo:Saving Checkerpoint\n",
      "DEBUG:autogluon.scheduler.scheduler:State_Dict cls.FINISHED_TASKS: [{'TASK_ID': 6, 'Config': {'fitspace:model': 'resnet101_v1', 'fitspace:optimizer': 'adam', 'fitspace:lr': 0.054054546569617355, 'fitspace:momentum': 0.8933316015571741, 'fitspace:pretrained': False}}]\n",
      "DEBUG:autogluon.scheduler.reporter:StatusReporter reporting: {\"epoch\": 1, \"accuracy\": 0.2441, \"time_this_iter\": 34.43428444862366}\n",
      "DEBUG:autogluon.basic.decorators:Reporter Done!\n",
      "DEBUG:autogluon.scheduler.reporter:StatusReporter reporting: {\"done\": true, \"time_this_iter\": 0.14569520950317383}\n",
      "DEBUG:autogluon.scheduler.reporter:StatusReporter reporting: {\"epoch\": 1, \"accuracy\": 0.2457, \"time_this_iter\": 34.938047647476196}\n",
      "DEBUG:autogluon.basic.decorators:Reporter Done!\n",
      "DEBUG:autogluon.scheduler.reporter:StatusReporter reporting: {\"done\": true, \"time_this_iter\": 0.16356396675109863}\n",
      "INFO:autogluon.searcher.searcher:Finished Task with config: {\"fitspace:model\": \"resnet50_v1\", \"fitspace:optimizer\": \"adam\", \"fitspace:lr\": 0.051449363058242444, \"fitspace:momentum\": 0.949490038379711, \"fitspace:pretrained\": true} and reward: 0.2478\n",
      "DEBUG:autogluon.scheduler.fifo:Saving Checkerpoint\n",
      "DEBUG:autogluon.scheduler.scheduler:State_Dict cls.FINISHED_TASKS: [{'TASK_ID': 6, 'Config': {'fitspace:model': 'resnet101_v1', 'fitspace:optimizer': 'adam', 'fitspace:lr': 0.054054546569617355, 'fitspace:momentum': 0.8933316015571741, 'fitspace:pretrained': False}}, {'TASK_ID': 5, 'Config': {'fitspace:model': 'resnet50_v1', 'fitspace:optimizer': 'adam', 'fitspace:lr': 0.051449363058242444, 'fitspace:momentum': 0.949490038379711, 'fitspace:pretrained': True}}]\n",
      "INFO:autogluon.searcher.searcher:Finished Task with config: {\"fitspace:model\": \"resnet101_v1\", \"fitspace:optimizer\": \"adam\", \"fitspace:lr\": 0.0007320528860097534, \"fitspace:momentum\": 0.8963548623074746, \"fitspace:pretrained\": true} and reward: 0.2463\n",
      "DEBUG:autogluon.scheduler.fifo:Saving Checkerpoint\n",
      "DEBUG:autogluon.scheduler.scheduler:State_Dict cls.FINISHED_TASKS: [{'TASK_ID': 6, 'Config': {'fitspace:model': 'resnet101_v1', 'fitspace:optimizer': 'adam', 'fitspace:lr': 0.054054546569617355, 'fitspace:momentum': 0.8933316015571741, 'fitspace:pretrained': False}}, {'TASK_ID': 5, 'Config': {'fitspace:model': 'resnet50_v1', 'fitspace:optimizer': 'adam', 'fitspace:lr': 0.051449363058242444, 'fitspace:momentum': 0.949490038379711, 'fitspace:pretrained': True}}, {'TASK_ID': 1, 'Config': {'fitspace:model': 'resnet101_v1', 'fitspace:optimizer': 'adam', 'fitspace:lr': 0.0007320528860097534, 'fitspace:momentum': 0.8963548623074746, 'fitspace:pretrained': True}}]\n",
      "INFO:autogluon.searcher.searcher:Finished Task with config: {\"fitspace:model\": \"resnet101_v1\", \"fitspace:optimizer\": \"sgd\", \"fitspace:lr\": 0.00011439853150538504, \"fitspace:momentum\": 0.8976251690765387, \"fitspace:pretrained\": true} and reward: 0.2478\n",
      "DEBUG:autogluon.scheduler.fifo:Saving Checkerpoint\n",
      "DEBUG:autogluon.scheduler.scheduler:State_Dict cls.FINISHED_TASKS: [{'TASK_ID': 6, 'Config': {'fitspace:model': 'resnet101_v1', 'fitspace:optimizer': 'adam', 'fitspace:lr': 0.054054546569617355, 'fitspace:momentum': 0.8933316015571741, 'fitspace:pretrained': False}}, {'TASK_ID': 5, 'Config': {'fitspace:model': 'resnet50_v1', 'fitspace:optimizer': 'adam', 'fitspace:lr': 0.051449363058242444, 'fitspace:momentum': 0.949490038379711, 'fitspace:pretrained': True}}, {'TASK_ID': 1, 'Config': {'fitspace:model': 'resnet101_v1', 'fitspace:optimizer': 'adam', 'fitspace:lr': 0.0007320528860097534, 'fitspace:momentum': 0.8963548623074746, 'fitspace:pretrained': True}}, {'TASK_ID': 4, 'Config': {'fitspace:model': 'resnet101_v1', 'fitspace:optimizer': 'sgd', 'fitspace:lr': 0.00011439853150538504, 'fitspace:momentum': 0.8976251690765387, 'fitspace:pretrained': True}}]\n",
      "INFO:autogluon.searcher.searcher:Finished Task with config: {\"fitspace:model\": \"resnet101_v1\", \"fitspace:optimizer\": \"adam\", \"fitspace:lr\": 0.00023908109292535915, \"fitspace:momentum\": 0.9076814210325074, \"fitspace:pretrained\": true} and reward: 0.2471\n",
      "DEBUG:autogluon.scheduler.fifo:Saving Checkerpoint\n",
      "DEBUG:autogluon.scheduler.scheduler:State_Dict cls.FINISHED_TASKS: [{'TASK_ID': 6, 'Config': {'fitspace:model': 'resnet101_v1', 'fitspace:optimizer': 'adam', 'fitspace:lr': 0.054054546569617355, 'fitspace:momentum': 0.8933316015571741, 'fitspace:pretrained': False}}, {'TASK_ID': 5, 'Config': {'fitspace:model': 'resnet50_v1', 'fitspace:optimizer': 'adam', 'fitspace:lr': 0.051449363058242444, 'fitspace:momentum': 0.949490038379711, 'fitspace:pretrained': True}}, {'TASK_ID': 1, 'Config': {'fitspace:model': 'resnet101_v1', 'fitspace:optimizer': 'adam', 'fitspace:lr': 0.0007320528860097534, 'fitspace:momentum': 0.8963548623074746, 'fitspace:pretrained': True}}, {'TASK_ID': 4, 'Config': {'fitspace:model': 'resnet101_v1', 'fitspace:optimizer': 'sgd', 'fitspace:lr': 0.00011439853150538504, 'fitspace:momentum': 0.8976251690765387, 'fitspace:pretrained': True}}, {'TASK_ID': 2, 'Config': {'fitspace:model': 'resnet101_v1', 'fitspace:optimizer': 'adam', 'fitspace:lr': 0.00023908109292535915, 'fitspace:momentum': 0.9076814210325074, 'fitspace:pretrained': True}}]\n",
      "INFO:autogluon.searcher.searcher:Finished Task with config: {\"fitspace:model\": \"resnet101_v1\", \"fitspace:optimizer\": \"adam\", \"fitspace:lr\": 0.05940524465608096, \"fitspace:momentum\": 0.9046463734282049, \"fitspace:pretrained\": true} and reward: 0.2434\n",
      "DEBUG:autogluon.scheduler.fifo:Saving Checkerpoint\n",
      "DEBUG:autogluon.scheduler.scheduler:State_Dict cls.FINISHED_TASKS: [{'TASK_ID': 6, 'Config': {'fitspace:model': 'resnet101_v1', 'fitspace:optimizer': 'adam', 'fitspace:lr': 0.054054546569617355, 'fitspace:momentum': 0.8933316015571741, 'fitspace:pretrained': False}}, {'TASK_ID': 5, 'Config': {'fitspace:model': 'resnet50_v1', 'fitspace:optimizer': 'adam', 'fitspace:lr': 0.051449363058242444, 'fitspace:momentum': 0.949490038379711, 'fitspace:pretrained': True}}, {'TASK_ID': 1, 'Config': {'fitspace:model': 'resnet101_v1', 'fitspace:optimizer': 'adam', 'fitspace:lr': 0.0007320528860097534, 'fitspace:momentum': 0.8963548623074746, 'fitspace:pretrained': True}}, {'TASK_ID': 4, 'Config': {'fitspace:model': 'resnet101_v1', 'fitspace:optimizer': 'sgd', 'fitspace:lr': 0.00011439853150538504, 'fitspace:momentum': 0.8976251690765387, 'fitspace:pretrained': True}}, {'TASK_ID': 2, 'Config': {'fitspace:model': 'resnet101_v1', 'fitspace:optimizer': 'adam', 'fitspace:lr': 0.00023908109292535915, 'fitspace:momentum': 0.9076814210325074, 'fitspace:pretrained': True}}, {'TASK_ID': 7, 'Config': {'fitspace:model': 'resnet101_v1', 'fitspace:optimizer': 'adam', 'fitspace:lr': 0.05940524465608096, 'fitspace:momentum': 0.9046463734282049, 'fitspace:pretrained': True}}]\n",
      "INFO:autogluon.searcher.searcher:Finished Task with config: {\"fitspace:model\": \"resnet34_v1\", \"fitspace:optimizer\": \"adam\", \"fitspace:lr\": 0.0005079539351678317, \"fitspace:momentum\": 0.8778933467495841, \"fitspace:pretrained\": false} and reward: 0.2441\n",
      "DEBUG:autogluon.scheduler.fifo:Saving Checkerpoint\n",
      "DEBUG:autogluon.scheduler.scheduler:State_Dict cls.FINISHED_TASKS: [{'TASK_ID': 6, 'Config': {'fitspace:model': 'resnet101_v1', 'fitspace:optimizer': 'adam', 'fitspace:lr': 0.054054546569617355, 'fitspace:momentum': 0.8933316015571741, 'fitspace:pretrained': False}}, {'TASK_ID': 5, 'Config': {'fitspace:model': 'resnet50_v1', 'fitspace:optimizer': 'adam', 'fitspace:lr': 0.051449363058242444, 'fitspace:momentum': 0.949490038379711, 'fitspace:pretrained': True}}, {'TASK_ID': 1, 'Config': {'fitspace:model': 'resnet101_v1', 'fitspace:optimizer': 'adam', 'fitspace:lr': 0.0007320528860097534, 'fitspace:momentum': 0.8963548623074746, 'fitspace:pretrained': True}}, {'TASK_ID': 4, 'Config': {'fitspace:model': 'resnet101_v1', 'fitspace:optimizer': 'sgd', 'fitspace:lr': 0.00011439853150538504, 'fitspace:momentum': 0.8976251690765387, 'fitspace:pretrained': True}}, {'TASK_ID': 2, 'Config': {'fitspace:model': 'resnet101_v1', 'fitspace:optimizer': 'adam', 'fitspace:lr': 0.00023908109292535915, 'fitspace:momentum': 0.9076814210325074, 'fitspace:pretrained': True}}, {'TASK_ID': 7, 'Config': {'fitspace:model': 'resnet101_v1', 'fitspace:optimizer': 'adam', 'fitspace:lr': 0.05940524465608096, 'fitspace:momentum': 0.9046463734282049, 'fitspace:pretrained': True}}, {'TASK_ID': 3, 'Config': {'fitspace:model': 'resnet34_v1', 'fitspace:optimizer': 'adam', 'fitspace:lr': 0.0005079539351678317, 'fitspace:momentum': 0.8778933467495841, 'fitspace:pretrained': False}}]\n"
     ]
    },
    {
     "name": "stderr",
     "output_type": "stream",
     "text": [
      "INFO:autogluon.searcher.searcher:Finished Task with config: {\"fitspace:model\": \"resnet34_v1\", \"fitspace:optimizer\": \"sgd\", \"fitspace:lr\": 0.00010478116717265095, \"fitspace:momentum\": 0.8816854227138787, \"fitspace:pretrained\": true} and reward: 0.2457\n",
      "DEBUG:autogluon.scheduler.fifo:Saving Checkerpoint\n",
      "DEBUG:autogluon.scheduler.scheduler:State_Dict cls.FINISHED_TASKS: [{'TASK_ID': 6, 'Config': {'fitspace:model': 'resnet101_v1', 'fitspace:optimizer': 'adam', 'fitspace:lr': 0.054054546569617355, 'fitspace:momentum': 0.8933316015571741, 'fitspace:pretrained': False}}, {'TASK_ID': 5, 'Config': {'fitspace:model': 'resnet50_v1', 'fitspace:optimizer': 'adam', 'fitspace:lr': 0.051449363058242444, 'fitspace:momentum': 0.949490038379711, 'fitspace:pretrained': True}}, {'TASK_ID': 1, 'Config': {'fitspace:model': 'resnet101_v1', 'fitspace:optimizer': 'adam', 'fitspace:lr': 0.0007320528860097534, 'fitspace:momentum': 0.8963548623074746, 'fitspace:pretrained': True}}, {'TASK_ID': 4, 'Config': {'fitspace:model': 'resnet101_v1', 'fitspace:optimizer': 'sgd', 'fitspace:lr': 0.00011439853150538504, 'fitspace:momentum': 0.8976251690765387, 'fitspace:pretrained': True}}, {'TASK_ID': 2, 'Config': {'fitspace:model': 'resnet101_v1', 'fitspace:optimizer': 'adam', 'fitspace:lr': 0.00023908109292535915, 'fitspace:momentum': 0.9076814210325074, 'fitspace:pretrained': True}}, {'TASK_ID': 7, 'Config': {'fitspace:model': 'resnet101_v1', 'fitspace:optimizer': 'adam', 'fitspace:lr': 0.05940524465608096, 'fitspace:momentum': 0.9046463734282049, 'fitspace:pretrained': True}}, {'TASK_ID': 3, 'Config': {'fitspace:model': 'resnet34_v1', 'fitspace:optimizer': 'adam', 'fitspace:lr': 0.0005079539351678317, 'fitspace:momentum': 0.8778933467495841, 'fitspace:pretrained': False}}, {'TASK_ID': 0, 'Config': {'fitspace:model': 'resnet34_v1', 'fitspace:optimizer': 'sgd', 'fitspace:lr': 0.00010478116717265095, 'fitspace:momentum': 0.8816854227138787, 'fitspace:pretrained': True}}]\n",
      "DEBUG:autogluon.scheduler.reporter:StatusReporter reporting: {\"epoch\": 1, \"accuracy\": 0.2435, \"time_this_iter\": 31.16961169242859}\n",
      "DEBUG:autogluon.basic.decorators:Reporter Done!\n",
      "DEBUG:autogluon.scheduler.reporter:StatusReporter reporting: {\"done\": true, \"time_this_iter\": 0.08736848831176758}\n",
      "DEBUG:autogluon.scheduler.reporter:StatusReporter reporting: {\"epoch\": 1, \"accuracy\": 0.2502, \"time_this_iter\": 32.20253849029541}\n",
      "DEBUG:autogluon.basic.decorators:Reporter Done!\n",
      "DEBUG:autogluon.scheduler.reporter:StatusReporter reporting: {\"done\": true, \"time_this_iter\": 0.1267995834350586}\n",
      "INFO:autogluon.searcher.searcher:Finished Task with config: {\"fitspace:model\": \"resnet18_v1\", \"fitspace:optimizer\": \"sgd\", \"fitspace:lr\": 0.02190646089905803, \"fitspace:momentum\": 0.8722154198942891, \"fitspace:pretrained\": true} and reward: 0.2435\n",
      "DEBUG:autogluon.scheduler.fifo:Saving Checkerpoint\n",
      "DEBUG:autogluon.scheduler.scheduler:State_Dict cls.FINISHED_TASKS: [{'TASK_ID': 6, 'Config': {'fitspace:model': 'resnet101_v1', 'fitspace:optimizer': 'adam', 'fitspace:lr': 0.054054546569617355, 'fitspace:momentum': 0.8933316015571741, 'fitspace:pretrained': False}}, {'TASK_ID': 5, 'Config': {'fitspace:model': 'resnet50_v1', 'fitspace:optimizer': 'adam', 'fitspace:lr': 0.051449363058242444, 'fitspace:momentum': 0.949490038379711, 'fitspace:pretrained': True}}, {'TASK_ID': 1, 'Config': {'fitspace:model': 'resnet101_v1', 'fitspace:optimizer': 'adam', 'fitspace:lr': 0.0007320528860097534, 'fitspace:momentum': 0.8963548623074746, 'fitspace:pretrained': True}}, {'TASK_ID': 4, 'Config': {'fitspace:model': 'resnet101_v1', 'fitspace:optimizer': 'sgd', 'fitspace:lr': 0.00011439853150538504, 'fitspace:momentum': 0.8976251690765387, 'fitspace:pretrained': True}}, {'TASK_ID': 2, 'Config': {'fitspace:model': 'resnet101_v1', 'fitspace:optimizer': 'adam', 'fitspace:lr': 0.00023908109292535915, 'fitspace:momentum': 0.9076814210325074, 'fitspace:pretrained': True}}, {'TASK_ID': 7, 'Config': {'fitspace:model': 'resnet101_v1', 'fitspace:optimizer': 'adam', 'fitspace:lr': 0.05940524465608096, 'fitspace:momentum': 0.9046463734282049, 'fitspace:pretrained': True}}, {'TASK_ID': 3, 'Config': {'fitspace:model': 'resnet34_v1', 'fitspace:optimizer': 'adam', 'fitspace:lr': 0.0005079539351678317, 'fitspace:momentum': 0.8778933467495841, 'fitspace:pretrained': False}}, {'TASK_ID': 0, 'Config': {'fitspace:model': 'resnet34_v1', 'fitspace:optimizer': 'sgd', 'fitspace:lr': 0.00010478116717265095, 'fitspace:momentum': 0.8816854227138787, 'fitspace:pretrained': True}}, {'TASK_ID': 9, 'Config': {'fitspace:model': 'resnet18_v1', 'fitspace:optimizer': 'sgd', 'fitspace:lr': 0.02190646089905803, 'fitspace:momentum': 0.8722154198942891, 'fitspace:pretrained': True}}]\n",
      "INFO:autogluon.searcher.searcher:Finished Task with config: {\"fitspace:model\": \"resnet18_v1\", \"fitspace:optimizer\": \"sgd\", \"fitspace:lr\": 0.00039744248054141424, \"fitspace:momentum\": 0.9389562843488237, \"fitspace:pretrained\": false} and reward: 0.2502\n",
      "DEBUG:autogluon.scheduler.fifo:Saving Checkerpoint\n",
      "DEBUG:autogluon.scheduler.scheduler:State_Dict cls.FINISHED_TASKS: [{'TASK_ID': 6, 'Config': {'fitspace:model': 'resnet101_v1', 'fitspace:optimizer': 'adam', 'fitspace:lr': 0.054054546569617355, 'fitspace:momentum': 0.8933316015571741, 'fitspace:pretrained': False}}, {'TASK_ID': 5, 'Config': {'fitspace:model': 'resnet50_v1', 'fitspace:optimizer': 'adam', 'fitspace:lr': 0.051449363058242444, 'fitspace:momentum': 0.949490038379711, 'fitspace:pretrained': True}}, {'TASK_ID': 1, 'Config': {'fitspace:model': 'resnet101_v1', 'fitspace:optimizer': 'adam', 'fitspace:lr': 0.0007320528860097534, 'fitspace:momentum': 0.8963548623074746, 'fitspace:pretrained': True}}, {'TASK_ID': 4, 'Config': {'fitspace:model': 'resnet101_v1', 'fitspace:optimizer': 'sgd', 'fitspace:lr': 0.00011439853150538504, 'fitspace:momentum': 0.8976251690765387, 'fitspace:pretrained': True}}, {'TASK_ID': 2, 'Config': {'fitspace:model': 'resnet101_v1', 'fitspace:optimizer': 'adam', 'fitspace:lr': 0.00023908109292535915, 'fitspace:momentum': 0.9076814210325074, 'fitspace:pretrained': True}}, {'TASK_ID': 7, 'Config': {'fitspace:model': 'resnet101_v1', 'fitspace:optimizer': 'adam', 'fitspace:lr': 0.05940524465608096, 'fitspace:momentum': 0.9046463734282049, 'fitspace:pretrained': True}}, {'TASK_ID': 3, 'Config': {'fitspace:model': 'resnet34_v1', 'fitspace:optimizer': 'adam', 'fitspace:lr': 0.0005079539351678317, 'fitspace:momentum': 0.8778933467495841, 'fitspace:pretrained': False}}, {'TASK_ID': 0, 'Config': {'fitspace:model': 'resnet34_v1', 'fitspace:optimizer': 'sgd', 'fitspace:lr': 0.00010478116717265095, 'fitspace:momentum': 0.8816854227138787, 'fitspace:pretrained': True}}, {'TASK_ID': 9, 'Config': {'fitspace:model': 'resnet18_v1', 'fitspace:optimizer': 'sgd', 'fitspace:lr': 0.02190646089905803, 'fitspace:momentum': 0.8722154198942891, 'fitspace:pretrained': True}}, {'TASK_ID': 8, 'Config': {'fitspace:model': 'resnet18_v1', 'fitspace:optimizer': 'sgd', 'fitspace:lr': 0.00039744248054141424, 'fitspace:momentum': 0.9389562843488237, 'fitspace:pretrained': False}}]\n",
      "INFO:autogluon.scheduler.fifo:Saving Training Curve in checkpoint/exp1.png\n",
      "DEBUG:matplotlib.font_manager:findfont: Matching :family=sans-serif:style=normal:variant=normal:weight=normal:stretch=normal:size=10.0 to DejaVu Sans ('/home/ubuntu/anaconda3/lib/python3.6/site-packages/matplotlib/mpl-data/fonts/ttf/DejaVuSans.ttf') with score of 0.050000\n",
      "DEBUG:autogluon.task.image_classification.core:Finished.\n",
      "DEBUG:autogluon.task.image_classification.core:Finished.\n"
     ]
    },
    {
     "data": {
      "image/png": "[encoded data removed]",
      "text/plain": [
       "<Figure size 432x288 with 1 Axes>"
      ]
     },
     "metadata": {},
     "output_type": "display_data"
    }
   ],
   "source": [
    "models = task.fit(dataset)"
   ]
  },
  {
   "cell_type": "markdown",
   "metadata": {},
   "source": [
    "The best accuracy is:"
   ]
  },
  {
   "cell_type": "code",
   "execution_count": 7,
   "metadata": {},
   "outputs": [
    {
     "name": "stdout",
     "output_type": "stream",
     "text": [
      "0.2502\n"
     ]
    }
   ],
   "source": [
    "print(models[1])"
   ]
  },
  {
   "cell_type": "markdown",
   "metadata": {},
   "source": [
    "The associated best configuration is:"
   ]
  },
  {
   "cell_type": "code",
   "execution_count": 8,
   "metadata": {},
   "outputs": [
    {
     "name": "stdout",
     "output_type": "stream",
     "text": [
      "{'fitspace:model': 'resnet18_v1', 'fitspace:optimizer': 'sgd', 'fitspace:lr': 0.00039744248054141424, 'fitspace:momentum': 0.9389562843488237, 'fitspace:pretrained': False}\n"
     ]
    }
   ],
   "source": [
    "print(models[2])"
   ]
  },
  {
   "cell_type": "markdown",
   "metadata": {},
   "source": [
    "## A Step-by-step Image Classification Example\n",
    "\n",
    "We first introduce the basic configuration `autogluon.space`, which is used to represent the search space of each task components, we will then go throught each components, including \n",
    "\n",
    "* `autogluon.Dataset`\n",
    "* `autogluon.Nets`\n",
    "* `autogluon.Optimizers`\n",
    "* `autogluon.Losses`\n",
    "* `autogluon.Metrics`\n",
    "\n",
    "and finally put all together to `fit` to generate best results."
   ]
  },
  {
   "cell_type": "markdown",
   "metadata": {},
   "source": [
    "### Create AutoGluon Space\n",
    "\n",
    "`autogluon.space` is a search space containing a set of configuration candidates.\n",
    "We provide three basic space types.\n",
    "\n",
    "* Categorical Space"
   ]
  },
  {
   "cell_type": "code",
   "execution_count": 9,
   "metadata": {},
   "outputs": [
    {
     "name": "stdout",
     "output_type": "stream",
     "text": [
      "AutoGluon List Space listspace: ['0', '1', '2']\n"
     ]
    }
   ],
   "source": [
    "list_space = ag.space.List('listspace', ['0', '1', '2'])\n",
    "print(list_space)"
   ]
  },
  {
   "cell_type": "markdown",
   "metadata": {},
   "source": [
    "* Linear Space"
   ]
  },
  {
   "cell_type": "code",
   "execution_count": 10,
   "metadata": {},
   "outputs": [
    {
     "name": "stdout",
     "output_type": "stream",
     "text": [
      "AutoGluon Linear Space linspace: lower 0, upper 10\n"
     ]
    }
   ],
   "source": [
    "linear_space = ag.space.Linear('linspace', 0, 10)\n",
    "print(linear_space)"
   ]
  },
  {
   "cell_type": "markdown",
   "metadata": {},
   "source": [
    "* Log Space"
   ]
  },
  {
   "cell_type": "code",
   "execution_count": 11,
   "metadata": {},
   "outputs": [
    {
     "name": "stdout",
     "output_type": "stream",
     "text": [
      "AutoGluon Log Space logspace: lower 0.000000, upper 0.100000\n"
     ]
    }
   ],
   "source": [
    "log_space = ag.space.Log('logspace', 10**-10, 10**-1)\n",
    "print(log_space)"
   ]
  },
  {
   "cell_type": "markdown",
   "metadata": {},
   "source": [
    "* An Example of Random Sample from the Combined Space"
   ]
  },
  {
   "cell_type": "code",
   "execution_count": 12,
   "metadata": {},
   "outputs": [
    {
     "name": "stdout",
     "output_type": "stream",
     "text": [
      "Configuration:\n",
      "  linspace, Value: 3\n",
      "  listspace, Value: '2'\n",
      "  logspace, Value: 0.010917594522007046\n",
      "\n"
     ]
    }
   ],
   "source": [
    "print(ag.space.sample_configuration([list_space, linear_space, log_space]))"
   ]
  },
  {
   "cell_type": "markdown",
   "metadata": {},
   "source": [
    "We then will use `autogluon.Nets` and `autogluon.Optimizers` as examples to show the usage of auto objects. The remainining auto objects are using default value.\n",
    "\n",
    "### Create AutoGluon Nets\n",
    "\n",
    "`autogluon.Nets` is a list of auto networks, and allows search for the best net\n",
    "\n",
    "* from a list of provided (or default) networks\n",
    "* by choosing the best architecture regarding to each auto net."
   ]
  },
  {
   "cell_type": "code",
   "execution_count": 36,
   "metadata": {},
   "outputs": [
    {
     "name": "stdout",
     "output_type": "stream",
     "text": [
      "AutoGluon Nets ['resnet18_v1', 'resnet34_v1', 'resnet50_v1', 'resnet101_v1', 'resnet152_v1'] with Configuration space object:\n",
      "  Hyperparameters:\n",
      "    model, Type: Categorical, Choices: {resnet18_v1, resnet34_v1, resnet50_v1, resnet101_v1, resnet152_v1}, Default: resnet18_v1\n",
      "    pretrained, Type: Categorical, Choices: {True, False}, Default: True\n",
      "  Conditions:\n",
      "    pretrained | model in {'resnet18_v1', 'resnet34_v1', 'resnet50_v1', 'resnet101_v1', 'resnet152_v1'}\n",
      "\n"
     ]
    }
   ],
   "source": [
    "# type of net_list is ag.space.List\n",
    "net_list = [task.model_zoo.get_model('resnet18_v1'),\n",
    "            task.model_zoo.get_model('resnet34_v1'),\n",
    "            task.model_zoo.get_model('resnet50_v1'),\n",
    "            task.model_zoo.get_model('resnet101_v1'),\n",
    "            task.model_zoo.get_model('resnet152_v1')]\n",
    "\n",
    "# default net list for image classification would be overwritten \n",
    "# if net_list is provided\n",
    "nets = ag.Nets(net_list)\n",
    "\n",
    "print(nets)"
   ]
  },
  {
   "cell_type": "markdown",
   "metadata": {},
   "source": [
    "### Create AutoGluon Optimizers\n",
    "\n",
    "`autogluon.Optimizers` defines a list of optimization algorithms that allows search for the best optimization algorithm \n",
    "\n",
    "* from a list of provided (or default) optimizers\n",
    "* by choosing the best hyper-parameters regarding to each auto optimizer"
   ]
  },
  {
   "cell_type": "code",
   "execution_count": 37,
   "metadata": {},
   "outputs": [
    {
     "name": "stdout",
     "output_type": "stream",
     "text": [
      "AutoGluon Optimizers ['sgd', 'adam'] with Configuration space object:\n",
      "  Hyperparameters:\n",
      "    lr, Type: UniformFloat, Range: [0.0001, 0.1], Default: 0.0031622777, on log-scale\n",
      "    momentum, Type: UniformFloat, Range: [0.85, 0.95], Default: 0.9\n",
      "    optimizer, Type: Categorical, Choices: {sgd, adam}, Default: sgd\n",
      "  Conditions:\n",
      "    lr | optimizer in {'sgd', 'adam'}\n",
      "    momentum | optimizer in {'sgd', 'adam'}\n",
      "\n"
     ]
    }
   ],
   "source": [
    "optimizers = ag.Optimizers([ag.optim.get_optim('sgd'),\n",
    "                            ag.optim.get_optim('adam')])\n",
    "\n",
    "print(optimizers)"
   ]
  },
  {
   "cell_type": "markdown",
   "metadata": {},
   "source": [
    "### Create AutoGluon Fit - Put all together"
   ]
  },
  {
   "cell_type": "code",
   "execution_count": 15,
   "metadata": {},
   "outputs": [],
   "source": [
    "stop_criterion = {\n",
    "    'time_limits': 1*60*60,\n",
    "    'max_metric': 0.80,\n",
    "    'max_trial_count': 14\n",
    "}"
   ]
  },
  {
   "cell_type": "code",
   "execution_count": 16,
   "metadata": {},
   "outputs": [
    {
     "name": "stderr",
     "output_type": "stream",
     "text": [
      "DEBUG:autogluon.task.image_classification.core:Start fitting\n",
      "DEBUG:autogluon.task.image_classification.core:Start constructing search space\n",
      "DEBUG:autogluon.task.image_classification.core:Finished.\n",
      "DEBUG:autogluon.task.image_classification.core:Start using default backend.\n",
      "INFO:autogluon.scheduler.fifo:Starting Experiments\n",
      "INFO:autogluon.scheduler.fifo:Num of Finished Tasks is 10\n",
      "INFO:autogluon.scheduler.fifo:Num of Pending Tasks is 4\n",
      "DEBUG:autogluon.scheduler.fifo:Adding A New Task Task(TASK_ID: 10) Task(fn=<function train_image_classification at 0x7fc60f3129d8>, args={'args': Namespace(epochs=1, lr=0.0001, model='resnet18_v1', optimizer='sgd', pretrained=True, train_data='./CIFAR10/train', val_data='./CIFAR10/valid'), 'config': {'fitspace:model': 'resnet101_v1', 'fitspace:optimizer': 'sgd', 'fitspace:lr': 0.0014994080002937063, 'fitspace:momentum': 0.8833113420757986, 'fitspace:pretrained': False}}, resources=Resources(nCPUs = 4, nGPUs = 1)))\n",
      "DEBUG:autogluon.scheduler.resource_manager:Reqeust succeed Resources(nCPUs = 4, CPU_IDs = {[40, 41, 42, 43]}, nGPUs = 1, GPU_IDs = {[2]})\n",
      "DEBUG:autogluon.scheduler.fifo:Adding A New Task Task(TASK_ID: 11) Task(fn=<function train_image_classification at 0x7fc60f3129d8>, args={'args': Namespace(epochs=1, lr=0.0001, model='resnet18_v1', optimizer='sgd', pretrained=True, train_data='./CIFAR10/train', val_data='./CIFAR10/valid'), 'config': {'fitspace:model': 'resnet18_v1', 'fitspace:optimizer': 'sgd', 'fitspace:lr': 0.0005495727581112548, 'fitspace:momentum': 0.8809843595265633, 'fitspace:pretrained': True}}, resources=Resources(nCPUs = 4, nGPUs = 1)))\n",
      "DEBUG:autogluon.scheduler.resource_manager:Reqeust succeed Resources(nCPUs = 4, CPU_IDs = {[44, 45, 46, 47]}, nGPUs = 1, GPU_IDs = {[1]})\n",
      "DEBUG:autogluon.scheduler.fifo:Adding A New Task Task(TASK_ID: 12) Task(fn=<function train_image_classification at 0x7fc60f3129d8>, args={'args': Namespace(epochs=1, lr=0.0001, model='resnet18_v1', optimizer='sgd', pretrained=True, train_data='./CIFAR10/train', val_data='./CIFAR10/valid'), 'config': {'fitspace:model': 'resnet50_v1', 'fitspace:optimizer': 'adam', 'fitspace:lr': 0.002640300968726753, 'fitspace:momentum': 0.9144539080698659, 'fitspace:pretrained': True}}, resources=Resources(nCPUs = 4, nGPUs = 1)))\n",
      "DEBUG:autogluon.scheduler.resource_manager:Reqeust succeed Resources(nCPUs = 4, CPU_IDs = {[48, 49, 50, 51]}, nGPUs = 1, GPU_IDs = {[4]})\n",
      "DEBUG:autogluon.scheduler.fifo:Adding A New Task Task(TASK_ID: 13) Task(fn=<function train_image_classification at 0x7fc60f3129d8>, args={'args': Namespace(epochs=1, lr=0.0001, model='resnet18_v1', optimizer='sgd', pretrained=True, train_data='./CIFAR10/train', val_data='./CIFAR10/valid'), 'config': {'fitspace:model': 'resnet152_v1', 'fitspace:optimizer': 'adam', 'fitspace:lr': 0.002401642765615183, 'fitspace:momentum': 0.870950129086579, 'fitspace:pretrained': False}}, resources=Resources(nCPUs = 4, nGPUs = 1)))\n",
      "DEBUG:autogluon.scheduler.resource_manager:Reqeust succeed Resources(nCPUs = 4, CPU_IDs = {[52, 53, 54, 55]}, nGPUs = 1, GPU_IDs = {[7]})\n",
      "DEBUG:autogluon.scheduler.reporter:StatusReporter reporting: {\"epoch\": 1, \"accuracy\": 0.2416, \"time_this_iter\": 28.95714282989502}\n",
      "DEBUG:autogluon.basic.decorators:Reporter Done!\n",
      "DEBUG:autogluon.scheduler.reporter:StatusReporter reporting: {\"done\": true, \"time_this_iter\": 0.15996360778808594}\n",
      "INFO:autogluon.searcher.searcher:Finished Task with config: {\"fitspace:model\": \"resnet50_v1\", \"fitspace:optimizer\": \"adam\", \"fitspace:lr\": 0.002640300968726753, \"fitspace:momentum\": 0.9144539080698659, \"fitspace:pretrained\": true} and reward: 0.2416\n",
      "DEBUG:autogluon.scheduler.fifo:Saving Checkerpoint\n",
      "DEBUG:autogluon.scheduler.scheduler:State_Dict cls.FINISHED_TASKS: [{'TASK_ID': 6, 'Config': {'fitspace:model': 'resnet101_v1', 'fitspace:optimizer': 'adam', 'fitspace:lr': 0.054054546569617355, 'fitspace:momentum': 0.8933316015571741, 'fitspace:pretrained': False}}, {'TASK_ID': 5, 'Config': {'fitspace:model': 'resnet50_v1', 'fitspace:optimizer': 'adam', 'fitspace:lr': 0.051449363058242444, 'fitspace:momentum': 0.949490038379711, 'fitspace:pretrained': True}}, {'TASK_ID': 1, 'Config': {'fitspace:model': 'resnet101_v1', 'fitspace:optimizer': 'adam', 'fitspace:lr': 0.0007320528860097534, 'fitspace:momentum': 0.8963548623074746, 'fitspace:pretrained': True}}, {'TASK_ID': 4, 'Config': {'fitspace:model': 'resnet101_v1', 'fitspace:optimizer': 'sgd', 'fitspace:lr': 0.00011439853150538504, 'fitspace:momentum': 0.8976251690765387, 'fitspace:pretrained': True}}, {'TASK_ID': 2, 'Config': {'fitspace:model': 'resnet101_v1', 'fitspace:optimizer': 'adam', 'fitspace:lr': 0.00023908109292535915, 'fitspace:momentum': 0.9076814210325074, 'fitspace:pretrained': True}}, {'TASK_ID': 7, 'Config': {'fitspace:model': 'resnet101_v1', 'fitspace:optimizer': 'adam', 'fitspace:lr': 0.05940524465608096, 'fitspace:momentum': 0.9046463734282049, 'fitspace:pretrained': True}}, {'TASK_ID': 3, 'Config': {'fitspace:model': 'resnet34_v1', 'fitspace:optimizer': 'adam', 'fitspace:lr': 0.0005079539351678317, 'fitspace:momentum': 0.8778933467495841, 'fitspace:pretrained': False}}, {'TASK_ID': 0, 'Config': {'fitspace:model': 'resnet34_v1', 'fitspace:optimizer': 'sgd', 'fitspace:lr': 0.00010478116717265095, 'fitspace:momentum': 0.8816854227138787, 'fitspace:pretrained': True}}, {'TASK_ID': 9, 'Config': {'fitspace:model': 'resnet18_v1', 'fitspace:optimizer': 'sgd', 'fitspace:lr': 0.02190646089905803, 'fitspace:momentum': 0.8722154198942891, 'fitspace:pretrained': True}}, {'TASK_ID': 8, 'Config': {'fitspace:model': 'resnet18_v1', 'fitspace:optimizer': 'sgd', 'fitspace:lr': 0.00039744248054141424, 'fitspace:momentum': 0.9389562843488237, 'fitspace:pretrained': False}}, {'TASK_ID': 12, 'Config': {'fitspace:model': 'resnet50_v1', 'fitspace:optimizer': 'adam', 'fitspace:lr': 0.002640300968726753, 'fitspace:momentum': 0.9144539080698659, 'fitspace:pretrained': True}}]\n",
      "DEBUG:autogluon.scheduler.reporter:StatusReporter reporting: {\"epoch\": 1, \"accuracy\": 0.2389, \"time_this_iter\": 29.63015365600586}\n",
      "DEBUG:autogluon.basic.decorators:Reporter Done!\n",
      "DEBUG:autogluon.scheduler.reporter:StatusReporter reporting: {\"done\": true, \"time_this_iter\": 0.10786819458007812}\n",
      "INFO:autogluon.searcher.searcher:Finished Task with config: {\"fitspace:model\": \"resnet18_v1\", \"fitspace:optimizer\": \"sgd\", \"fitspace:lr\": 0.0005495727581112548, \"fitspace:momentum\": 0.8809843595265633, \"fitspace:pretrained\": true} and reward: 0.2389\n",
      "DEBUG:autogluon.scheduler.fifo:Saving Checkerpoint\n",
      "DEBUG:autogluon.scheduler.scheduler:State_Dict cls.FINISHED_TASKS: [{'TASK_ID': 6, 'Config': {'fitspace:model': 'resnet101_v1', 'fitspace:optimizer': 'adam', 'fitspace:lr': 0.054054546569617355, 'fitspace:momentum': 0.8933316015571741, 'fitspace:pretrained': False}}, {'TASK_ID': 5, 'Config': {'fitspace:model': 'resnet50_v1', 'fitspace:optimizer': 'adam', 'fitspace:lr': 0.051449363058242444, 'fitspace:momentum': 0.949490038379711, 'fitspace:pretrained': True}}, {'TASK_ID': 1, 'Config': {'fitspace:model': 'resnet101_v1', 'fitspace:optimizer': 'adam', 'fitspace:lr': 0.0007320528860097534, 'fitspace:momentum': 0.8963548623074746, 'fitspace:pretrained': True}}, {'TASK_ID': 4, 'Config': {'fitspace:model': 'resnet101_v1', 'fitspace:optimizer': 'sgd', 'fitspace:lr': 0.00011439853150538504, 'fitspace:momentum': 0.8976251690765387, 'fitspace:pretrained': True}}, {'TASK_ID': 2, 'Config': {'fitspace:model': 'resnet101_v1', 'fitspace:optimizer': 'adam', 'fitspace:lr': 0.00023908109292535915, 'fitspace:momentum': 0.9076814210325074, 'fitspace:pretrained': True}}, {'TASK_ID': 7, 'Config': {'fitspace:model': 'resnet101_v1', 'fitspace:optimizer': 'adam', 'fitspace:lr': 0.05940524465608096, 'fitspace:momentum': 0.9046463734282049, 'fitspace:pretrained': True}}, {'TASK_ID': 3, 'Config': {'fitspace:model': 'resnet34_v1', 'fitspace:optimizer': 'adam', 'fitspace:lr': 0.0005079539351678317, 'fitspace:momentum': 0.8778933467495841, 'fitspace:pretrained': False}}, {'TASK_ID': 0, 'Config': {'fitspace:model': 'resnet34_v1', 'fitspace:optimizer': 'sgd', 'fitspace:lr': 0.00010478116717265095, 'fitspace:momentum': 0.8816854227138787, 'fitspace:pretrained': True}}, {'TASK_ID': 9, 'Config': {'fitspace:model': 'resnet18_v1', 'fitspace:optimizer': 'sgd', 'fitspace:lr': 0.02190646089905803, 'fitspace:momentum': 0.8722154198942891, 'fitspace:pretrained': True}}, {'TASK_ID': 8, 'Config': {'fitspace:model': 'resnet18_v1', 'fitspace:optimizer': 'sgd', 'fitspace:lr': 0.00039744248054141424, 'fitspace:momentum': 0.9389562843488237, 'fitspace:pretrained': False}}, {'TASK_ID': 12, 'Config': {'fitspace:model': 'resnet50_v1', 'fitspace:optimizer': 'adam', 'fitspace:lr': 0.002640300968726753, 'fitspace:momentum': 0.9144539080698659, 'fitspace:pretrained': True}}, {'TASK_ID': 11, 'Config': {'fitspace:model': 'resnet18_v1', 'fitspace:optimizer': 'sgd', 'fitspace:lr': 0.0005495727581112548, 'fitspace:momentum': 0.8809843595265633, 'fitspace:pretrained': True}}]\n"
     ]
    },
    {
     "name": "stderr",
     "output_type": "stream",
     "text": [
      "DEBUG:autogluon.scheduler.reporter:StatusReporter reporting: {\"epoch\": 1, \"accuracy\": 0.2476, \"time_this_iter\": 30.34694766998291}\n",
      "DEBUG:autogluon.basic.decorators:Reporter Done!\n",
      "DEBUG:autogluon.scheduler.reporter:StatusReporter reporting: {\"done\": true, \"time_this_iter\": 0.14830422401428223}\n",
      "DEBUG:autogluon.scheduler.reporter:StatusReporter reporting: {\"epoch\": 1, \"accuracy\": 0.2398, \"time_this_iter\": 30.617019176483154}\n",
      "DEBUG:autogluon.basic.decorators:Reporter Done!\n",
      "DEBUG:autogluon.scheduler.reporter:StatusReporter reporting: {\"done\": true, \"time_this_iter\": 0.15652918815612793}\n",
      "INFO:autogluon.searcher.searcher:Finished Task with config: {\"fitspace:model\": \"resnet152_v1\", \"fitspace:optimizer\": \"adam\", \"fitspace:lr\": 0.002401642765615183, \"fitspace:momentum\": 0.870950129086579, \"fitspace:pretrained\": false} and reward: 0.2476\n",
      "DEBUG:autogluon.scheduler.fifo:Saving Checkerpoint\n",
      "DEBUG:autogluon.scheduler.scheduler:State_Dict cls.FINISHED_TASKS: [{'TASK_ID': 6, 'Config': {'fitspace:model': 'resnet101_v1', 'fitspace:optimizer': 'adam', 'fitspace:lr': 0.054054546569617355, 'fitspace:momentum': 0.8933316015571741, 'fitspace:pretrained': False}}, {'TASK_ID': 5, 'Config': {'fitspace:model': 'resnet50_v1', 'fitspace:optimizer': 'adam', 'fitspace:lr': 0.051449363058242444, 'fitspace:momentum': 0.949490038379711, 'fitspace:pretrained': True}}, {'TASK_ID': 1, 'Config': {'fitspace:model': 'resnet101_v1', 'fitspace:optimizer': 'adam', 'fitspace:lr': 0.0007320528860097534, 'fitspace:momentum': 0.8963548623074746, 'fitspace:pretrained': True}}, {'TASK_ID': 4, 'Config': {'fitspace:model': 'resnet101_v1', 'fitspace:optimizer': 'sgd', 'fitspace:lr': 0.00011439853150538504, 'fitspace:momentum': 0.8976251690765387, 'fitspace:pretrained': True}}, {'TASK_ID': 2, 'Config': {'fitspace:model': 'resnet101_v1', 'fitspace:optimizer': 'adam', 'fitspace:lr': 0.00023908109292535915, 'fitspace:momentum': 0.9076814210325074, 'fitspace:pretrained': True}}, {'TASK_ID': 7, 'Config': {'fitspace:model': 'resnet101_v1', 'fitspace:optimizer': 'adam', 'fitspace:lr': 0.05940524465608096, 'fitspace:momentum': 0.9046463734282049, 'fitspace:pretrained': True}}, {'TASK_ID': 3, 'Config': {'fitspace:model': 'resnet34_v1', 'fitspace:optimizer': 'adam', 'fitspace:lr': 0.0005079539351678317, 'fitspace:momentum': 0.8778933467495841, 'fitspace:pretrained': False}}, {'TASK_ID': 0, 'Config': {'fitspace:model': 'resnet34_v1', 'fitspace:optimizer': 'sgd', 'fitspace:lr': 0.00010478116717265095, 'fitspace:momentum': 0.8816854227138787, 'fitspace:pretrained': True}}, {'TASK_ID': 9, 'Config': {'fitspace:model': 'resnet18_v1', 'fitspace:optimizer': 'sgd', 'fitspace:lr': 0.02190646089905803, 'fitspace:momentum': 0.8722154198942891, 'fitspace:pretrained': True}}, {'TASK_ID': 8, 'Config': {'fitspace:model': 'resnet18_v1', 'fitspace:optimizer': 'sgd', 'fitspace:lr': 0.00039744248054141424, 'fitspace:momentum': 0.9389562843488237, 'fitspace:pretrained': False}}, {'TASK_ID': 12, 'Config': {'fitspace:model': 'resnet50_v1', 'fitspace:optimizer': 'adam', 'fitspace:lr': 0.002640300968726753, 'fitspace:momentum': 0.9144539080698659, 'fitspace:pretrained': True}}, {'TASK_ID': 11, 'Config': {'fitspace:model': 'resnet18_v1', 'fitspace:optimizer': 'sgd', 'fitspace:lr': 0.0005495727581112548, 'fitspace:momentum': 0.8809843595265633, 'fitspace:pretrained': True}}, {'TASK_ID': 13, 'Config': {'fitspace:model': 'resnet152_v1', 'fitspace:optimizer': 'adam', 'fitspace:lr': 0.002401642765615183, 'fitspace:momentum': 0.870950129086579, 'fitspace:pretrained': False}}]\n",
      "INFO:autogluon.searcher.searcher:Finished Task with config: {\"fitspace:model\": \"resnet101_v1\", \"fitspace:optimizer\": \"sgd\", \"fitspace:lr\": 0.0014994080002937063, \"fitspace:momentum\": 0.8833113420757986, \"fitspace:pretrained\": false} and reward: 0.2398\n",
      "DEBUG:autogluon.scheduler.fifo:Saving Checkerpoint\n",
      "DEBUG:autogluon.scheduler.scheduler:State_Dict cls.FINISHED_TASKS: [{'TASK_ID': 6, 'Config': {'fitspace:model': 'resnet101_v1', 'fitspace:optimizer': 'adam', 'fitspace:lr': 0.054054546569617355, 'fitspace:momentum': 0.8933316015571741, 'fitspace:pretrained': False}}, {'TASK_ID': 5, 'Config': {'fitspace:model': 'resnet50_v1', 'fitspace:optimizer': 'adam', 'fitspace:lr': 0.051449363058242444, 'fitspace:momentum': 0.949490038379711, 'fitspace:pretrained': True}}, {'TASK_ID': 1, 'Config': {'fitspace:model': 'resnet101_v1', 'fitspace:optimizer': 'adam', 'fitspace:lr': 0.0007320528860097534, 'fitspace:momentum': 0.8963548623074746, 'fitspace:pretrained': True}}, {'TASK_ID': 4, 'Config': {'fitspace:model': 'resnet101_v1', 'fitspace:optimizer': 'sgd', 'fitspace:lr': 0.00011439853150538504, 'fitspace:momentum': 0.8976251690765387, 'fitspace:pretrained': True}}, {'TASK_ID': 2, 'Config': {'fitspace:model': 'resnet101_v1', 'fitspace:optimizer': 'adam', 'fitspace:lr': 0.00023908109292535915, 'fitspace:momentum': 0.9076814210325074, 'fitspace:pretrained': True}}, {'TASK_ID': 7, 'Config': {'fitspace:model': 'resnet101_v1', 'fitspace:optimizer': 'adam', 'fitspace:lr': 0.05940524465608096, 'fitspace:momentum': 0.9046463734282049, 'fitspace:pretrained': True}}, {'TASK_ID': 3, 'Config': {'fitspace:model': 'resnet34_v1', 'fitspace:optimizer': 'adam', 'fitspace:lr': 0.0005079539351678317, 'fitspace:momentum': 0.8778933467495841, 'fitspace:pretrained': False}}, {'TASK_ID': 0, 'Config': {'fitspace:model': 'resnet34_v1', 'fitspace:optimizer': 'sgd', 'fitspace:lr': 0.00010478116717265095, 'fitspace:momentum': 0.8816854227138787, 'fitspace:pretrained': True}}, {'TASK_ID': 9, 'Config': {'fitspace:model': 'resnet18_v1', 'fitspace:optimizer': 'sgd', 'fitspace:lr': 0.02190646089905803, 'fitspace:momentum': 0.8722154198942891, 'fitspace:pretrained': True}}, {'TASK_ID': 8, 'Config': {'fitspace:model': 'resnet18_v1', 'fitspace:optimizer': 'sgd', 'fitspace:lr': 0.00039744248054141424, 'fitspace:momentum': 0.9389562843488237, 'fitspace:pretrained': False}}, {'TASK_ID': 12, 'Config': {'fitspace:model': 'resnet50_v1', 'fitspace:optimizer': 'adam', 'fitspace:lr': 0.002640300968726753, 'fitspace:momentum': 0.9144539080698659, 'fitspace:pretrained': True}}, {'TASK_ID': 11, 'Config': {'fitspace:model': 'resnet18_v1', 'fitspace:optimizer': 'sgd', 'fitspace:lr': 0.0005495727581112548, 'fitspace:momentum': 0.8809843595265633, 'fitspace:pretrained': True}}, {'TASK_ID': 13, 'Config': {'fitspace:model': 'resnet152_v1', 'fitspace:optimizer': 'adam', 'fitspace:lr': 0.002401642765615183, 'fitspace:momentum': 0.870950129086579, 'fitspace:pretrained': False}}, {'TASK_ID': 10, 'Config': {'fitspace:model': 'resnet101_v1', 'fitspace:optimizer': 'sgd', 'fitspace:lr': 0.0014994080002937063, 'fitspace:momentum': 0.8833113420757986, 'fitspace:pretrained': False}}]\n",
      "INFO:autogluon.scheduler.fifo:Saving Training Curve in checkpoint/exp1.png\n",
      "DEBUG:autogluon.task.image_classification.core:Finished.\n",
      "DEBUG:autogluon.task.image_classification.core:Finished.\n"
     ]
    },
    {
     "data": {
      "image/png": "[encoded data removed]",
      "text/plain": [
       "<Figure size 432x288 with 1 Axes>"
      ]
     },
     "metadata": {},
     "output_type": "display_data"
    }
   ],
   "source": [
    "models = task.fit(dataset,\n",
    "                  nets,\n",
    "                  optimizers,\n",
    "                  stop_criterion=stop_criterion)"
   ]
  },
  {
   "cell_type": "markdown",
   "metadata": {},
   "source": [
    "The best accuracy is:"
   ]
  },
  {
   "cell_type": "code",
   "execution_count": 17,
   "metadata": {},
   "outputs": [
    {
     "name": "stdout",
     "output_type": "stream",
     "text": [
      "0.2476\n"
     ]
    }
   ],
   "source": [
    "print(models[1])"
   ]
  },
  {
   "cell_type": "markdown",
   "metadata": {},
   "source": [
    "The best associated configuration is:"
   ]
  },
  {
   "cell_type": "code",
   "execution_count": 18,
   "metadata": {},
   "outputs": [
    {
     "name": "stdout",
     "output_type": "stream",
     "text": [
      "{'fitspace:model': 'resnet152_v1', 'fitspace:optimizer': 'adam', 'fitspace:lr': 0.002401642765615183, 'fitspace:momentum': 0.870950129086579, 'fitspace:pretrained': False}\n"
     ]
    }
   ],
   "source": [
    "print(models[2])"
   ]
  },
  {
   "cell_type": "markdown",
   "metadata": {},
   "source": [
    "### Use Search Algorithm\n",
    "\n",
    "`autogluon.searcher` will support both basic and SOTA searchers for both hyper-parameter optimization and architecture search. We now support random search. The default is using searcher is random searcher."
   ]
  },
  {
   "cell_type": "code",
   "execution_count": 19,
   "metadata": {},
   "outputs": [
    {
     "name": "stdout",
     "output_type": "stream",
     "text": [
      "RandomSampling(ConfigSpace: NoneResults: OrderedDict())\n"
     ]
    }
   ],
   "source": [
    "# cs is CS.ConfigurationSpace() where import ConfigSpace as CS, this is just example code;\n",
    "# in practice, this is in fit function, and cs should not be None\n",
    "cs = None\n",
    "searcher = ag.searcher.RandomSampling(cs)\n",
    "\n",
    "print(searcher)"
   ]
  },
  {
   "cell_type": "markdown",
   "metadata": {},
   "source": [
    "Or simply use string name:"
   ]
  },
  {
   "cell_type": "code",
   "execution_count": 20,
   "metadata": {},
   "outputs": [
    {
     "name": "stdout",
     "output_type": "stream",
     "text": [
      "random\n"
     ]
    }
   ],
   "source": [
    "searcher = 'random'\n",
    "\n",
    "print(searcher)"
   ]
  },
  {
   "cell_type": "markdown",
   "metadata": {},
   "source": [
    "### Use Trial Scheduler\n",
    "\n",
    "`ag.scheduler` supports scheduling trials in serial order and with early stopping.\n",
    "\n",
    "We support basic FIFO scheduler."
   ]
  },
  {
   "cell_type": "code",
   "execution_count": 21,
   "metadata": {},
   "outputs": [
    {
     "name": "stdout",
     "output_type": "stream",
     "text": [
      "<autogluon.scheduler.fifo.FIFO_Scheduler object at 0x7fc60c03e780>\n"
     ]
    }
   ],
   "source": [
    "# this is just example code; in practice, this is in fit function\n",
    "\n",
    "trial_scheduler = ag.scheduler.FIFO_Scheduler(\n",
    "                task.pipeline.train_image_classification,\n",
    "                None,\n",
    "                {\n",
    "                    'num_cpus': 4,\n",
    "                    'num_gpus': 1,\n",
    "                },\n",
    "                searcher)\n",
    "\n",
    "print(trial_scheduler)"
   ]
  },
  {
   "cell_type": "markdown",
   "metadata": {},
   "source": [
    "We also support Hyperband which is an early stopping mechanism."
   ]
  },
  {
   "cell_type": "code",
   "execution_count": 22,
   "metadata": {},
   "outputs": [
    {
     "name": "stdout",
     "output_type": "stream",
     "text": [
      "<autogluon.scheduler.hyperband.Hyperband_Scheduler object at 0x7fc60c03e208>\n"
     ]
    }
   ],
   "source": [
    "# this is just example code; in practice, this is in fit function\n",
    "\n",
    "trial_scheduler = ag.scheduler.Hyperband_Scheduler(\n",
    "                task.pipeline.train_image_classification,\n",
    "                None,\n",
    "                {\n",
    "                    'num_cpus': 4,\n",
    "                    'num_gpus': 1,\n",
    "                },\n",
    "                searcher,\n",
    "                time_attr='epoch',\n",
    "                reward_attr='accuracy',\n",
    "                max_t=10,\n",
    "                grace_period=1)\n",
    "\n",
    "print(trial_scheduler)"
   ]
  },
  {
   "cell_type": "markdown",
   "metadata": {},
   "source": [
    "### Resume Fit and Checkpointer\n",
    "\n",
    "We use the resume and checkpoint dir in the scheduler."
   ]
  },
  {
   "cell_type": "code",
   "execution_count": 23,
   "metadata": {},
   "outputs": [],
   "source": [
    "savedir = 'checkpoint/demo.ag'\n",
    "resume = False"
   ]
  },
  {
   "cell_type": "code",
   "execution_count": 24,
   "metadata": {},
   "outputs": [
    {
     "name": "stdout",
     "output_type": "stream",
     "text": [
      "<autogluon.scheduler.hyperband.Hyperband_Scheduler object at 0x7fc60c0b24a8>\n"
     ]
    }
   ],
   "source": [
    "trial_scheduler = ag.scheduler.Hyperband_Scheduler(\n",
    "                task.pipeline.train_image_classification,\n",
    "                None,\n",
    "                {\n",
    "                    'num_cpus': 4,\n",
    "                    'num_gpus': 1,\n",
    "                },\n",
    "                searcher,\n",
    "                checkpoint=savedir,\n",
    "                resume=resume,\n",
    "                time_attr='epoch',\n",
    "                reward_attr='accuracy',\n",
    "                max_t=10,\n",
    "                grace_period=1)\n",
    "\n",
    "print(trial_scheduler)"
   ]
  },
  {
   "cell_type": "markdown",
   "metadata": {},
   "source": [
    "Or simply specify the trial scheduler with the string name:"
   ]
  },
  {
   "cell_type": "code",
   "execution_count": 25,
   "metadata": {},
   "outputs": [],
   "source": [
    "trial_scheduler = 'hyperband'"
   ]
  },
  {
   "cell_type": "markdown",
   "metadata": {},
   "source": [
    "### Visualize Training Curve\n",
    "\n",
    "We could visualize the traing curve using `trial_scheduler.get_training_curves('{}.png'.format(os.path.splitext(savedir)[0]))`.\n",
    "\n",
    "An example is shown below."
   ]
  },
  {
   "cell_type": "markdown",
   "metadata": {},
   "source": [
    "<div style=\"width: 500px;\">![traingcurve](demo.png)</div>"
   ]
  },
  {
   "cell_type": "markdown",
   "metadata": {},
   "source": [
    "### Create Stop Criterion\n",
    "\n",
    "`autogluon` supports overall automatic constraints in `stop_criterion`."
   ]
  },
  {
   "cell_type": "code",
   "execution_count": 26,
   "metadata": {},
   "outputs": [],
   "source": [
    "stop_criterion = {\n",
    "    'time_limits': 1*60*60,\n",
    "    'max_metric': 0.80,\n",
    "    'max_trial_count': 16\n",
    "}"
   ]
  },
  {
   "cell_type": "markdown",
   "metadata": {},
   "source": [
    "### Create Resources Per Trial\n",
    "\n",
    "`autogluon` supports constraints for each trial `in resource_per_trial`."
   ]
  },
  {
   "cell_type": "code",
   "execution_count": 27,
   "metadata": {},
   "outputs": [],
   "source": [
    "resources_per_trial = {\n",
    "    'max_num_gpus': 1,\n",
    "    'max_num_cpus': 4,\n",
    "    'max_training_epochs': 1\n",
    "}"
   ]
  },
  {
   "cell_type": "markdown",
   "metadata": {},
   "source": [
    "### Create AutoGluon Fit with Full Capacity"
   ]
  },
  {
   "cell_type": "code",
   "execution_count": 31,
   "metadata": {},
   "outputs": [
    {
     "name": "stderr",
     "output_type": "stream",
     "text": [
      "DEBUG:autogluon.task.image_classification.core:Start fitting\n",
      "DEBUG:autogluon.task.image_classification.core:Start constructing search space\n",
      "DEBUG:autogluon.task.image_classification.core:Finished.\n",
      "DEBUG:autogluon.task.image_classification.core:Start using default backend.\n",
      "INFO:autogluon.scheduler.fifo:Starting Experiments\n",
      "INFO:autogluon.scheduler.fifo:Num of Finished Tasks is 14\n",
      "INFO:autogluon.scheduler.fifo:Num of Pending Tasks is 2\n",
      "DEBUG:autogluon.scheduler.hyperband:Adding A New Task Task(TASK_ID: 14) Task(fn=<function train_image_classification at 0x7fc60f3129d8>, args={'args': Namespace(epochs=1, lr=0.0001, model='resnet18_v1', optimizer='sgd', pretrained=True, train_data='./CIFAR10/train', val_data='./CIFAR10/valid'), 'config': {'fitspace:model': 'resnet50_v1', 'fitspace:optimizer': 'adam', 'fitspace:lr': 0.0028760807955725168, 'fitspace:momentum': 0.8682381272089972, 'fitspace:pretrained': False}}, resources=Resources(nCPUs = 4, nGPUs = 1)))\n",
      "DEBUG:autogluon.scheduler.resource_manager:Reqeust succeed Resources(nCPUs = 4, CPU_IDs = {[56, 57, 58, 59]}, nGPUs = 1, GPU_IDs = {[3]})\n",
      "DEBUG:autogluon.scheduler.hyperband:Adding A New Task Task(TASK_ID: 15) Task(fn=<function train_image_classification at 0x7fc60f3129d8>, args={'args': Namespace(epochs=1, lr=0.0001, model='resnet18_v1', optimizer='sgd', pretrained=True, train_data='./CIFAR10/train', val_data='./CIFAR10/valid'), 'config': {'fitspace:model': 'resnet18_v1', 'fitspace:optimizer': 'adam', 'fitspace:lr': 0.0033111035306047586, 'fitspace:momentum': 0.867339432479708, 'fitspace:pretrained': True}}, resources=Resources(nCPUs = 4, nGPUs = 1)))\n",
      "DEBUG:autogluon.scheduler.resource_manager:Reqeust succeed Resources(nCPUs = 4, CPU_IDs = {[60, 61, 62, 63]}, nGPUs = 1, GPU_IDs = {[0]})\n",
      "DEBUG:autogluon.scheduler.reporter:StatusReporter reporting: {\"epoch\": 1, \"accuracy\": 0.2424, \"time_this_iter\": 30.126705646514893}\n",
      "DEBUG:autogluon.scheduler.hyperband:Removing task Task(TASK_ID: 14) Task(fn=<function train_image_classification at 0x7fc60f3129d8>, args={'args': Namespace(epochs=1, lr=0.0001, model='resnet18_v1', optimizer='sgd', pretrained=True, train_data='./CIFAR10/train', val_data='./CIFAR10/valid'), 'config': {'fitspace:model': 'resnet50_v1', 'fitspace:optimizer': 'adam', 'fitspace:lr': 0.0028760807955725168, 'fitspace:momentum': 0.8682381272089972, 'fitspace:pretrained': False}, 'reporter': <autogluon.scheduler.reporter.StatusReporter object at 0x7fc60c0d47f0>}, resources=Resources(nCPUs = 4, CPU_IDs = {[56, 57, 58, 59]}, nGPUs = 1, GPU_IDs = {[3]}))) due to low performance\n",
      "INFO:autogluon.searcher.searcher:Finished Task with config: {\"fitspace:model\": \"resnet50_v1\", \"fitspace:optimizer\": \"adam\", \"fitspace:lr\": 0.0028760807955725168, \"fitspace:momentum\": 0.8682381272089972, \"fitspace:pretrained\": false} and reward: 0.2424\n",
      "DEBUG:autogluon.scheduler.fifo:Saving Checkerpoint\n",
      "DEBUG:autogluon.scheduler.scheduler:State_Dict cls.FINISHED_TASKS: [{'TASK_ID': 6, 'Config': {'fitspace:model': 'resnet101_v1', 'fitspace:optimizer': 'adam', 'fitspace:lr': 0.054054546569617355, 'fitspace:momentum': 0.8933316015571741, 'fitspace:pretrained': False}}, {'TASK_ID': 5, 'Config': {'fitspace:model': 'resnet50_v1', 'fitspace:optimizer': 'adam', 'fitspace:lr': 0.051449363058242444, 'fitspace:momentum': 0.949490038379711, 'fitspace:pretrained': True}}, {'TASK_ID': 1, 'Config': {'fitspace:model': 'resnet101_v1', 'fitspace:optimizer': 'adam', 'fitspace:lr': 0.0007320528860097534, 'fitspace:momentum': 0.8963548623074746, 'fitspace:pretrained': True}}, {'TASK_ID': 4, 'Config': {'fitspace:model': 'resnet101_v1', 'fitspace:optimizer': 'sgd', 'fitspace:lr': 0.00011439853150538504, 'fitspace:momentum': 0.8976251690765387, 'fitspace:pretrained': True}}, {'TASK_ID': 2, 'Config': {'fitspace:model': 'resnet101_v1', 'fitspace:optimizer': 'adam', 'fitspace:lr': 0.00023908109292535915, 'fitspace:momentum': 0.9076814210325074, 'fitspace:pretrained': True}}, {'TASK_ID': 7, 'Config': {'fitspace:model': 'resnet101_v1', 'fitspace:optimizer': 'adam', 'fitspace:lr': 0.05940524465608096, 'fitspace:momentum': 0.9046463734282049, 'fitspace:pretrained': True}}, {'TASK_ID': 3, 'Config': {'fitspace:model': 'resnet34_v1', 'fitspace:optimizer': 'adam', 'fitspace:lr': 0.0005079539351678317, 'fitspace:momentum': 0.8778933467495841, 'fitspace:pretrained': False}}, {'TASK_ID': 0, 'Config': {'fitspace:model': 'resnet34_v1', 'fitspace:optimizer': 'sgd', 'fitspace:lr': 0.00010478116717265095, 'fitspace:momentum': 0.8816854227138787, 'fitspace:pretrained': True}}, {'TASK_ID': 9, 'Config': {'fitspace:model': 'resnet18_v1', 'fitspace:optimizer': 'sgd', 'fitspace:lr': 0.02190646089905803, 'fitspace:momentum': 0.8722154198942891, 'fitspace:pretrained': True}}, {'TASK_ID': 8, 'Config': {'fitspace:model': 'resnet18_v1', 'fitspace:optimizer': 'sgd', 'fitspace:lr': 0.00039744248054141424, 'fitspace:momentum': 0.9389562843488237, 'fitspace:pretrained': False}}, {'TASK_ID': 12, 'Config': {'fitspace:model': 'resnet50_v1', 'fitspace:optimizer': 'adam', 'fitspace:lr': 0.002640300968726753, 'fitspace:momentum': 0.9144539080698659, 'fitspace:pretrained': True}}, {'TASK_ID': 11, 'Config': {'fitspace:model': 'resnet18_v1', 'fitspace:optimizer': 'sgd', 'fitspace:lr': 0.0005495727581112548, 'fitspace:momentum': 0.8809843595265633, 'fitspace:pretrained': True}}, {'TASK_ID': 13, 'Config': {'fitspace:model': 'resnet152_v1', 'fitspace:optimizer': 'adam', 'fitspace:lr': 0.002401642765615183, 'fitspace:momentum': 0.870950129086579, 'fitspace:pretrained': False}}, {'TASK_ID': 10, 'Config': {'fitspace:model': 'resnet101_v1', 'fitspace:optimizer': 'sgd', 'fitspace:lr': 0.0014994080002937063, 'fitspace:momentum': 0.8833113420757986, 'fitspace:pretrained': False}}, {'TASK_ID': 14, 'Config': {'fitspace:model': 'resnet50_v1', 'fitspace:optimizer': 'adam', 'fitspace:lr': 0.0028760807955725168, 'fitspace:momentum': 0.8682381272089972, 'fitspace:pretrained': False}}]\n",
      "DEBUG:autogluon.scheduler.reporter:StatusReporter reporting: {\"epoch\": 1, \"accuracy\": 0.2428, \"time_this_iter\": 30.524806022644043}\n",
      "DEBUG:autogluon.scheduler.hyperband:Removing task Task(TASK_ID: 15) Task(fn=<function train_image_classification at 0x7fc60f3129d8>, args={'args': Namespace(epochs=1, lr=0.0001, model='resnet18_v1', optimizer='sgd', pretrained=True, train_data='./CIFAR10/train', val_data='./CIFAR10/valid'), 'config': {'fitspace:model': 'resnet18_v1', 'fitspace:optimizer': 'adam', 'fitspace:lr': 0.0033111035306047586, 'fitspace:momentum': 0.867339432479708, 'fitspace:pretrained': True}, 'reporter': <autogluon.scheduler.reporter.StatusReporter object at 0x7fc60c046a90>}, resources=Resources(nCPUs = 4, CPU_IDs = {[60, 61, 62, 63]}, nGPUs = 1, GPU_IDs = {[0]}))) due to low performance\n",
      "INFO:autogluon.searcher.searcher:Finished Task with config: {\"fitspace:model\": \"resnet18_v1\", \"fitspace:optimizer\": \"adam\", \"fitspace:lr\": 0.0033111035306047586, \"fitspace:momentum\": 0.867339432479708, \"fitspace:pretrained\": true} and reward: 0.2428\n",
      "DEBUG:autogluon.scheduler.fifo:Saving Checkerpoint\n",
      "DEBUG:autogluon.scheduler.scheduler:State_Dict cls.FINISHED_TASKS: [{'TASK_ID': 6, 'Config': {'fitspace:model': 'resnet101_v1', 'fitspace:optimizer': 'adam', 'fitspace:lr': 0.054054546569617355, 'fitspace:momentum': 0.8933316015571741, 'fitspace:pretrained': False}}, {'TASK_ID': 5, 'Config': {'fitspace:model': 'resnet50_v1', 'fitspace:optimizer': 'adam', 'fitspace:lr': 0.051449363058242444, 'fitspace:momentum': 0.949490038379711, 'fitspace:pretrained': True}}, {'TASK_ID': 1, 'Config': {'fitspace:model': 'resnet101_v1', 'fitspace:optimizer': 'adam', 'fitspace:lr': 0.0007320528860097534, 'fitspace:momentum': 0.8963548623074746, 'fitspace:pretrained': True}}, {'TASK_ID': 4, 'Config': {'fitspace:model': 'resnet101_v1', 'fitspace:optimizer': 'sgd', 'fitspace:lr': 0.00011439853150538504, 'fitspace:momentum': 0.8976251690765387, 'fitspace:pretrained': True}}, {'TASK_ID': 2, 'Config': {'fitspace:model': 'resnet101_v1', 'fitspace:optimizer': 'adam', 'fitspace:lr': 0.00023908109292535915, 'fitspace:momentum': 0.9076814210325074, 'fitspace:pretrained': True}}, {'TASK_ID': 7, 'Config': {'fitspace:model': 'resnet101_v1', 'fitspace:optimizer': 'adam', 'fitspace:lr': 0.05940524465608096, 'fitspace:momentum': 0.9046463734282049, 'fitspace:pretrained': True}}, {'TASK_ID': 3, 'Config': {'fitspace:model': 'resnet34_v1', 'fitspace:optimizer': 'adam', 'fitspace:lr': 0.0005079539351678317, 'fitspace:momentum': 0.8778933467495841, 'fitspace:pretrained': False}}, {'TASK_ID': 0, 'Config': {'fitspace:model': 'resnet34_v1', 'fitspace:optimizer': 'sgd', 'fitspace:lr': 0.00010478116717265095, 'fitspace:momentum': 0.8816854227138787, 'fitspace:pretrained': True}}, {'TASK_ID': 9, 'Config': {'fitspace:model': 'resnet18_v1', 'fitspace:optimizer': 'sgd', 'fitspace:lr': 0.02190646089905803, 'fitspace:momentum': 0.8722154198942891, 'fitspace:pretrained': True}}, {'TASK_ID': 8, 'Config': {'fitspace:model': 'resnet18_v1', 'fitspace:optimizer': 'sgd', 'fitspace:lr': 0.00039744248054141424, 'fitspace:momentum': 0.9389562843488237, 'fitspace:pretrained': False}}, {'TASK_ID': 12, 'Config': {'fitspace:model': 'resnet50_v1', 'fitspace:optimizer': 'adam', 'fitspace:lr': 0.002640300968726753, 'fitspace:momentum': 0.9144539080698659, 'fitspace:pretrained': True}}, {'TASK_ID': 11, 'Config': {'fitspace:model': 'resnet18_v1', 'fitspace:optimizer': 'sgd', 'fitspace:lr': 0.0005495727581112548, 'fitspace:momentum': 0.8809843595265633, 'fitspace:pretrained': True}}, {'TASK_ID': 13, 'Config': {'fitspace:model': 'resnet152_v1', 'fitspace:optimizer': 'adam', 'fitspace:lr': 0.002401642765615183, 'fitspace:momentum': 0.870950129086579, 'fitspace:pretrained': False}}, {'TASK_ID': 10, 'Config': {'fitspace:model': 'resnet101_v1', 'fitspace:optimizer': 'sgd', 'fitspace:lr': 0.0014994080002937063, 'fitspace:momentum': 0.8833113420757986, 'fitspace:pretrained': False}}, {'TASK_ID': 14, 'Config': {'fitspace:model': 'resnet50_v1', 'fitspace:optimizer': 'adam', 'fitspace:lr': 0.0028760807955725168, 'fitspace:momentum': 0.8682381272089972, 'fitspace:pretrained': False}}, {'TASK_ID': 15, 'Config': {'fitspace:model': 'resnet18_v1', 'fitspace:optimizer': 'adam', 'fitspace:lr': 0.0033111035306047586, 'fitspace:momentum': 0.867339432479708, 'fitspace:pretrained': True}}]\n"
     ]
    },
    {
     "name": "stderr",
     "output_type": "stream",
     "text": [
      "INFO:autogluon.scheduler.fifo:Saving Training Curve in checkpoint/demo.png\n",
      "DEBUG:autogluon.task.image_classification.core:Finished.\n",
      "DEBUG:autogluon.task.image_classification.core:Finished.\n"
     ]
    },
    {
     "data": {
      "image/png": "[encoded data removed]",
      "text/plain": [
       "<Figure size 432x288 with 1 Axes>"
      ]
     },
     "metadata": {},
     "output_type": "display_data"
    }
   ],
   "source": [
    "models = task.fit(dataset,\n",
    "                  nets,\n",
    "                  optimizers,\n",
    "                  searcher=searcher,\n",
    "                  trial_scheduler=trial_scheduler,\n",
    "                  resume=resume,\n",
    "                  savedir=savedir,\n",
    "                  stop_criterion=stop_criterion,\n",
    "                  resources_per_trial=resources_per_trial)"
   ]
  },
  {
   "cell_type": "markdown",
   "metadata": {},
   "source": [
    "The best accuracy is"
   ]
  },
  {
   "cell_type": "code",
   "execution_count": 32,
   "metadata": {},
   "outputs": [
    {
     "name": "stdout",
     "output_type": "stream",
     "text": [
      "0.2428\n"
     ]
    }
   ],
   "source": [
    "print(models[1])"
   ]
  },
  {
   "cell_type": "markdown",
   "metadata": {},
   "source": [
    "The associated best configuration is:"
   ]
  },
  {
   "cell_type": "code",
   "execution_count": 33,
   "metadata": {},
   "outputs": [
    {
     "name": "stdout",
     "output_type": "stream",
     "text": [
      "{'fitspace:model': 'resnet18_v1', 'fitspace:optimizer': 'adam', 'fitspace:lr': 0.0033111035306047586, 'fitspace:momentum': 0.867339432479708, 'fitspace:pretrained': True}\n"
     ]
    }
   ],
   "source": [
    "print(models[2])"
   ]
  },
  {
   "cell_type": "markdown",
   "metadata": {},
   "source": [
    "### Resume AutoGluon Fit\n",
    "\n",
    "We could resume the previous training for more epochs to achieve better results. Similarly, we could also increase `max_trial_count` for better results.\n",
    "\n",
    "Here we increase the `max_training_epochs` from 1 to 5, `max_trial_count` from 2 to 10, and set `resume = True` which will load the checking point in the savedir."
   ]
  },
  {
   "cell_type": "code",
   "execution_count": 34,
   "metadata": {},
   "outputs": [],
   "source": [
    "stop_criterion = {\n",
    "    'time_limits': 1*60*60,\n",
    "    'max_metric': 0.80,\n",
    "    'max_trial_count': 26\n",
    "}\n",
    "\n",
    "resources_per_trial = {\n",
    "    'max_num_gpus': 1,\n",
    "    'max_num_cpus': 4,\n",
    "    'max_training_epochs': 10\n",
    "}\n",
    "\n",
    "resume = True"
   ]
  },
  {
   "cell_type": "code",
   "execution_count": 38,
   "metadata": {},
   "outputs": [
    {
     "name": "stderr",
     "output_type": "stream",
     "text": [
      "DEBUG:autogluon.task.image_classification.core:Start fitting\n",
      "DEBUG:autogluon.task.image_classification.core:Start constructing search space\n",
      "DEBUG:autogluon.task.image_classification.core:Finished.\n",
      "DEBUG:autogluon.task.image_classification.core:Start using default backend.\n",
      "INFO:autogluon.scheduler.scheduler:Seeting TASK ID: 16\n",
      "DEBUG:autogluon.scheduler.scheduler:Loading FINISHED_TASKS: [{'TASK_ID': 6, 'Config': {'fitspace:model': 'resnet101_v1', 'fitspace:optimizer': 'adam', 'fitspace:lr': 0.054054546569617355, 'fitspace:momentum': 0.8933316015571741, 'fitspace:pretrained': False}}, {'TASK_ID': 5, 'Config': {'fitspace:model': 'resnet50_v1', 'fitspace:optimizer': 'adam', 'fitspace:lr': 0.051449363058242444, 'fitspace:momentum': 0.949490038379711, 'fitspace:pretrained': True}}, {'TASK_ID': 1, 'Config': {'fitspace:model': 'resnet101_v1', 'fitspace:optimizer': 'adam', 'fitspace:lr': 0.0007320528860097534, 'fitspace:momentum': 0.8963548623074746, 'fitspace:pretrained': True}}, {'TASK_ID': 4, 'Config': {'fitspace:model': 'resnet101_v1', 'fitspace:optimizer': 'sgd', 'fitspace:lr': 0.00011439853150538504, 'fitspace:momentum': 0.8976251690765387, 'fitspace:pretrained': True}}, {'TASK_ID': 2, 'Config': {'fitspace:model': 'resnet101_v1', 'fitspace:optimizer': 'adam', 'fitspace:lr': 0.00023908109292535915, 'fitspace:momentum': 0.9076814210325074, 'fitspace:pretrained': True}}, {'TASK_ID': 7, 'Config': {'fitspace:model': 'resnet101_v1', 'fitspace:optimizer': 'adam', 'fitspace:lr': 0.05940524465608096, 'fitspace:momentum': 0.9046463734282049, 'fitspace:pretrained': True}}, {'TASK_ID': 3, 'Config': {'fitspace:model': 'resnet34_v1', 'fitspace:optimizer': 'adam', 'fitspace:lr': 0.0005079539351678317, 'fitspace:momentum': 0.8778933467495841, 'fitspace:pretrained': False}}, {'TASK_ID': 0, 'Config': {'fitspace:model': 'resnet34_v1', 'fitspace:optimizer': 'sgd', 'fitspace:lr': 0.00010478116717265095, 'fitspace:momentum': 0.8816854227138787, 'fitspace:pretrained': True}}, {'TASK_ID': 9, 'Config': {'fitspace:model': 'resnet18_v1', 'fitspace:optimizer': 'sgd', 'fitspace:lr': 0.02190646089905803, 'fitspace:momentum': 0.8722154198942891, 'fitspace:pretrained': True}}, {'TASK_ID': 8, 'Config': {'fitspace:model': 'resnet18_v1', 'fitspace:optimizer': 'sgd', 'fitspace:lr': 0.00039744248054141424, 'fitspace:momentum': 0.9389562843488237, 'fitspace:pretrained': False}}, {'TASK_ID': 12, 'Config': {'fitspace:model': 'resnet50_v1', 'fitspace:optimizer': 'adam', 'fitspace:lr': 0.002640300968726753, 'fitspace:momentum': 0.9144539080698659, 'fitspace:pretrained': True}}, {'TASK_ID': 11, 'Config': {'fitspace:model': 'resnet18_v1', 'fitspace:optimizer': 'sgd', 'fitspace:lr': 0.0005495727581112548, 'fitspace:momentum': 0.8809843595265633, 'fitspace:pretrained': True}}, {'TASK_ID': 13, 'Config': {'fitspace:model': 'resnet152_v1', 'fitspace:optimizer': 'adam', 'fitspace:lr': 0.002401642765615183, 'fitspace:momentum': 0.870950129086579, 'fitspace:pretrained': False}}, {'TASK_ID': 10, 'Config': {'fitspace:model': 'resnet101_v1', 'fitspace:optimizer': 'sgd', 'fitspace:lr': 0.0014994080002937063, 'fitspace:momentum': 0.8833113420757986, 'fitspace:pretrained': False}}, {'TASK_ID': 14, 'Config': {'fitspace:model': 'resnet50_v1', 'fitspace:optimizer': 'adam', 'fitspace:lr': 0.0028760807955725168, 'fitspace:momentum': 0.8682381272089972, 'fitspace:pretrained': False}}, {'TASK_ID': 15, 'Config': {'fitspace:model': 'resnet18_v1', 'fitspace:optimizer': 'adam', 'fitspace:lr': 0.0033111035306047586, 'fitspace:momentum': 0.867339432479708, 'fitspace:pretrained': True}}] \n",
      "DEBUG:autogluon.scheduler.fifo:Loading Searcher State RandomSampling(ConfigSpace: Configuration space object:\n",
      "  Hyperparameters:\n",
      "    fitspace:lr, Type: UniformFloat, Range: [0.0001, 0.1], Default: 0.0031622777, on log-scale\n",
      "    fitspace:model, Type: Categorical, Choices: {resnet18_v1, resnet34_v1, resnet50_v1, resnet101_v1, resnet152_v1}, Default: resnet18_v1\n",
      "    fitspace:momentum, Type: UniformFloat, Range: [0.85, 0.95], Default: 0.9\n",
      "    fitspace:optimizer, Type: Categorical, Choices: {sgd, adam}, Default: sgd\n",
      "    fitspace:pretrained, Type: Categorical, Choices: {True, False}, Default: True\n",
      "  Conditions:\n",
      "    fitspace:lr | fitspace:optimizer in {'sgd', 'adam'}\n",
      "    fitspace:momentum | fitspace:optimizer in {'sgd', 'adam'}\n",
      "    fitspace:pretrained | fitspace:model in {'resnet18_v1', 'resnet34_v1', 'resnet50_v1', 'resnet101_v1', 'resnet152_v1'}\n",
      "Results: OrderedDict([('{\"fitspace:model\": \"resnet50_v1\", \"fitspace:optimizer\": \"adam\", \"fitspace:lr\": 0.0028760807955725168, \"fitspace:momentum\": 0.8682381272089972, \"fitspace:pretrained\": false}', 0.2424), ('{\"fitspace:model\": \"resnet18_v1\", \"fitspace:optimizer\": \"adam\", \"fitspace:lr\": 0.0033111035306047586, \"fitspace:momentum\": 0.867339432479708, \"fitspace:pretrained\": true}', 0.2428)]))\n",
      "INFO:autogluon.scheduler.hyperband:Loading Terminator State Hyperband_Manager(reward_attr: accuracy, time_attr: epoch, reduction_factor: 4, max_t: 1, brackets: [Bracket: Iter 1.000: None])\n",
      "INFO:autogluon.scheduler.fifo:Starting Experiments\n",
      "INFO:autogluon.scheduler.fifo:Num of Finished Tasks is 16\n",
      "INFO:autogluon.scheduler.fifo:Num of Pending Tasks is 10\n",
      "DEBUG:autogluon.scheduler.hyperband:Adding A New Task Task(TASK_ID: 16) Task(fn=<function train_image_classification at 0x7fc60f3129d8>, args={'args': Namespace(epochs=10, lr=0.0001, model='resnet18_v1', optimizer='sgd', pretrained=True, train_data='./CIFAR10/train', val_data='./CIFAR10/valid'), 'config': {'fitspace:model': 'resnet34_v1', 'fitspace:optimizer': 'sgd', 'fitspace:lr': 0.00031481040578668036, 'fitspace:momentum': 0.9072226656925563, 'fitspace:pretrained': False}}, resources=Resources(nCPUs = 4, nGPUs = 1)))\n",
      "DEBUG:autogluon.scheduler.resource_manager:Reqeust succeed Resources(nCPUs = 4, CPU_IDs = {[24, 25, 26, 27]}, nGPUs = 1, GPU_IDs = {[5]})\n",
      "DEBUG:autogluon.scheduler.hyperband:Adding A New Task Task(TASK_ID: 17) Task(fn=<function train_image_classification at 0x7fc60f3129d8>, args={'args': Namespace(epochs=10, lr=0.0001, model='resnet18_v1', optimizer='sgd', pretrained=True, train_data='./CIFAR10/train', val_data='./CIFAR10/valid'), 'config': {'fitspace:model': 'resnet50_v1', 'fitspace:optimizer': 'adam', 'fitspace:lr': 0.0012459037759963774, 'fitspace:momentum': 0.9398654593241734, 'fitspace:pretrained': False}}, resources=Resources(nCPUs = 4, nGPUs = 1)))\n",
      "DEBUG:autogluon.scheduler.resource_manager:Reqeust succeed Resources(nCPUs = 4, CPU_IDs = {[20, 21, 22, 23]}, nGPUs = 1, GPU_IDs = {[6]})\n",
      "DEBUG:autogluon.scheduler.hyperband:Adding A New Task Task(TASK_ID: 18) Task(fn=<function train_image_classification at 0x7fc60f3129d8>, args={'args': Namespace(epochs=10, lr=0.0001, model='resnet18_v1', optimizer='sgd', pretrained=True, train_data='./CIFAR10/train', val_data='./CIFAR10/valid'), 'config': {'fitspace:model': 'resnet101_v1', 'fitspace:optimizer': 'sgd', 'fitspace:lr': 0.0005298315142590687, 'fitspace:momentum': 0.9072078887600064, 'fitspace:pretrained': False}}, resources=Resources(nCPUs = 4, nGPUs = 1)))\n",
      "DEBUG:autogluon.scheduler.resource_manager:Reqeust succeed Resources(nCPUs = 4, CPU_IDs = {[8, 9, 10, 11]}, nGPUs = 1, GPU_IDs = {[4]})\n",
      "DEBUG:autogluon.scheduler.hyperband:Adding A New Task Task(TASK_ID: 19) Task(fn=<function train_image_classification at 0x7fc60f3129d8>, args={'args': Namespace(epochs=10, lr=0.0001, model='resnet18_v1', optimizer='sgd', pretrained=True, train_data='./CIFAR10/train', val_data='./CIFAR10/valid'), 'config': {'fitspace:model': 'resnet18_v1', 'fitspace:optimizer': 'adam', 'fitspace:lr': 0.0021771757153342584, 'fitspace:momentum': 0.9052141403297904, 'fitspace:pretrained': False}}, resources=Resources(nCPUs = 4, nGPUs = 1)))\n",
      "DEBUG:autogluon.scheduler.resource_manager:Reqeust succeed Resources(nCPUs = 4, CPU_IDs = {[4, 5, 6, 7]}, nGPUs = 1, GPU_IDs = {[1]})\n",
      "DEBUG:autogluon.scheduler.hyperband:Adding A New Task Task(TASK_ID: 20) Task(fn=<function train_image_classification at 0x7fc60f3129d8>, args={'args': Namespace(epochs=10, lr=0.0001, model='resnet18_v1', optimizer='sgd', pretrained=True, train_data='./CIFAR10/train', val_data='./CIFAR10/valid'), 'config': {'fitspace:model': 'resnet101_v1', 'fitspace:optimizer': 'adam', 'fitspace:lr': 0.002774061492399318, 'fitspace:momentum': 0.8732060211141387, 'fitspace:pretrained': True}}, resources=Resources(nCPUs = 4, nGPUs = 1)))\n"
     ]
    },
    {
     "name": "stderr",
     "output_type": "stream",
     "text": [
      "DEBUG:autogluon.scheduler.resource_manager:Reqeust succeed Resources(nCPUs = 4, CPU_IDs = {[16, 17, 18, 19]}, nGPUs = 1, GPU_IDs = {[7]})\n",
      "DEBUG:autogluon.scheduler.hyperband:Adding A New Task Task(TASK_ID: 21) Task(fn=<function train_image_classification at 0x7fc60f3129d8>, args={'args': Namespace(epochs=10, lr=0.0001, model='resnet18_v1', optimizer='sgd', pretrained=True, train_data='./CIFAR10/train', val_data='./CIFAR10/valid'), 'config': {'fitspace:model': 'resnet34_v1', 'fitspace:optimizer': 'adam', 'fitspace:lr': 0.0032273279121336177, 'fitspace:momentum': 0.859931797996495, 'fitspace:pretrained': False}}, resources=Resources(nCPUs = 4, nGPUs = 1)))\n",
      "DEBUG:autogluon.scheduler.resource_manager:Reqeust succeed Resources(nCPUs = 4, CPU_IDs = {[28, 29, 30, 31]}, nGPUs = 1, GPU_IDs = {[2]})\n",
      "DEBUG:autogluon.scheduler.hyperband:Adding A New Task Task(TASK_ID: 22) Task(fn=<function train_image_classification at 0x7fc60f3129d8>, args={'args': Namespace(epochs=10, lr=0.0001, model='resnet18_v1', optimizer='sgd', pretrained=True, train_data='./CIFAR10/train', val_data='./CIFAR10/valid'), 'config': {'fitspace:model': 'resnet34_v1', 'fitspace:optimizer': 'sgd', 'fitspace:lr': 0.0006172855147563835, 'fitspace:momentum': 0.8980994964554123, 'fitspace:pretrained': False}}, resources=Resources(nCPUs = 4, nGPUs = 1)))\n",
      "DEBUG:autogluon.scheduler.resource_manager:Reqeust succeed Resources(nCPUs = 4, CPU_IDs = {[12, 13, 14, 15]}, nGPUs = 1, GPU_IDs = {[3]})\n",
      "DEBUG:autogluon.scheduler.hyperband:Adding A New Task Task(TASK_ID: 23) Task(fn=<function train_image_classification at 0x7fc60f3129d8>, args={'args': Namespace(epochs=10, lr=0.0001, model='resnet18_v1', optimizer='sgd', pretrained=True, train_data='./CIFAR10/train', val_data='./CIFAR10/valid'), 'config': {'fitspace:model': 'resnet152_v1', 'fitspace:optimizer': 'adam', 'fitspace:lr': 0.0001589776052132323, 'fitspace:momentum': 0.9111495470259211, 'fitspace:pretrained': False}}, resources=Resources(nCPUs = 4, nGPUs = 1)))\n",
      "DEBUG:autogluon.scheduler.resource_manager:Reqeust succeed Resources(nCPUs = 4, CPU_IDs = {[0, 1, 2, 3]}, nGPUs = 1, GPU_IDs = {[0]})\n",
      "DEBUG:autogluon.scheduler.hyperband:Adding A New Task Task(TASK_ID: 24) Task(fn=<function train_image_classification at 0x7fc60f3129d8>, args={'args': Namespace(epochs=10, lr=0.0001, model='resnet18_v1', optimizer='sgd', pretrained=True, train_data='./CIFAR10/train', val_data='./CIFAR10/valid'), 'config': {'fitspace:model': 'resnet152_v1', 'fitspace:optimizer': 'sgd', 'fitspace:lr': 0.0002088257596487824, 'fitspace:momentum': 0.939103663760496, 'fitspace:pretrained': True}}, resources=Resources(nCPUs = 4, nGPUs = 1)))\n",
      "DEBUG:autogluon.scheduler.reporter:StatusReporter reporting: {\"epoch\": 1, \"accuracy\": 0.2403, \"time_this_iter\": 32.48793983459473}\n",
      "DEBUG:autogluon.scheduler.reporter:StatusReporter reporting: {\"epoch\": 1, \"accuracy\": 0.2472, \"time_this_iter\": 33.29875922203064}\n",
      "DEBUG:autogluon.scheduler.reporter:StatusReporter reporting: {\"epoch\": 1, \"accuracy\": 0.2501, \"time_this_iter\": 33.55373525619507}\n",
      "DEBUG:autogluon.scheduler.reporter:StatusReporter reporting: {\"epoch\": 1, \"accuracy\": 0.2498, \"time_this_iter\": 33.538036823272705}\n",
      "DEBUG:autogluon.scheduler.reporter:StatusReporter reporting: {\"epoch\": 1, \"accuracy\": 0.2444, \"time_this_iter\": 33.98982810974121}\n",
      "DEBUG:autogluon.scheduler.reporter:StatusReporter reporting: {\"epoch\": 1, \"accuracy\": 0.2463, \"time_this_iter\": 34.06531739234924}\n",
      "DEBUG:autogluon.scheduler.hyperband:Removing task Task(TASK_ID: 17) Task(fn=<function train_image_classification at 0x7fc60f3129d8>, args={'args': Namespace(epochs=10, lr=0.0001, model='resnet18_v1', optimizer='sgd', pretrained=True, train_data='./CIFAR10/train', val_data='./CIFAR10/valid'), 'config': {'fitspace:model': 'resnet50_v1', 'fitspace:optimizer': 'adam', 'fitspace:lr': 0.0012459037759963774, 'fitspace:momentum': 0.9398654593241734, 'fitspace:pretrained': False}, 'reporter': <autogluon.scheduler.reporter.StatusReporter object at 0x7fc60c0b2d30>}, resources=Resources(nCPUs = 4, CPU_IDs = {[20, 21, 22, 23]}, nGPUs = 1, GPU_IDs = {[6]}))) due to low performance\n",
      "DEBUG:autogluon.scheduler.hyperband:Removing task Task(TASK_ID: 20) Task(fn=<function train_image_classification at 0x7fc60f3129d8>, args={'args': Namespace(epochs=10, lr=0.0001, model='resnet18_v1', optimizer='sgd', pretrained=True, train_data='./CIFAR10/train', val_data='./CIFAR10/valid'), 'config': {'fitspace:model': 'resnet101_v1', 'fitspace:optimizer': 'adam', 'fitspace:lr': 0.002774061492399318, 'fitspace:momentum': 0.8732060211141387, 'fitspace:pretrained': True}, 'reporter': <autogluon.scheduler.reporter.StatusReporter object at 0x7fc604742898>}, resources=Resources(nCPUs = 4, CPU_IDs = {[16, 17, 18, 19]}, nGPUs = 1, GPU_IDs = {[7]}))) due to low performance\n",
      "DEBUG:autogluon.scheduler.hyperband:Removing task Task(TASK_ID: 18) Task(fn=<function train_image_classification at 0x7fc60f3129d8>, args={'args': Namespace(epochs=10, lr=0.0001, model='resnet18_v1', optimizer='sgd', pretrained=True, train_data='./CIFAR10/train', val_data='./CIFAR10/valid'), 'config': {'fitspace:model': 'resnet101_v1', 'fitspace:optimizer': 'sgd', 'fitspace:lr': 0.0005298315142590687, 'fitspace:momentum': 0.9072078887600064, 'fitspace:pretrained': False}, 'reporter': <autogluon.scheduler.reporter.StatusReporter object at 0x7fc604fa8d68>}, resources=Resources(nCPUs = 4, CPU_IDs = {[8, 9, 10, 11]}, nGPUs = 1, GPU_IDs = {[4]}))) due to low performance\n",
      "DEBUG:autogluon.scheduler.reporter:StatusReporter reporting: {\"epoch\": 1, \"accuracy\": 0.2449, \"time_this_iter\": 34.47225594520569}\n",
      "DEBUG:autogluon.scheduler.hyperband:Removing task Task(TASK_ID: 16) Task(fn=<function train_image_classification at 0x7fc60f3129d8>, args={'args': Namespace(epochs=10, lr=0.0001, model='resnet18_v1', optimizer='sgd', pretrained=True, train_data='./CIFAR10/train', val_data='./CIFAR10/valid'), 'config': {'fitspace:model': 'resnet34_v1', 'fitspace:optimizer': 'sgd', 'fitspace:lr': 0.00031481040578668036, 'fitspace:momentum': 0.9072226656925563, 'fitspace:pretrained': False}, 'reporter': <autogluon.scheduler.reporter.StatusReporter object at 0x7fc60c0b4748>}, resources=Resources(nCPUs = 4, CPU_IDs = {[24, 25, 26, 27]}, nGPUs = 1, GPU_IDs = {[5]}))) due to low performance\n",
      "INFO:autogluon.searcher.searcher:Finished Task with config: {\"fitspace:model\": \"resnet50_v1\", \"fitspace:optimizer\": \"adam\", \"fitspace:lr\": 0.0012459037759963774, \"fitspace:momentum\": 0.9398654593241734, \"fitspace:pretrained\": false} and reward: 0.2463\n",
      "DEBUG:autogluon.scheduler.resource_manager:Reqeust succeed Resources(nCPUs = 4, CPU_IDs = {[36, 37, 38, 39]}, nGPUs = 1, GPU_IDs = {[6]})\n",
      "DEBUG:autogluon.scheduler.fifo:Saving Checkerpoint\n",
      "DEBUG:autogluon.scheduler.hyperband:Adding A New Task Task(TASK_ID: 25) Task(fn=<function train_image_classification at 0x7fc60f3129d8>, args={'args': Namespace(epochs=10, lr=0.0001, model='resnet18_v1', optimizer='sgd', pretrained=True, train_data='./CIFAR10/train', val_data='./CIFAR10/valid'), 'config': {'fitspace:model': 'resnet34_v1', 'fitspace:optimizer': 'adam', 'fitspace:lr': 0.00584164698712833, 'fitspace:momentum': 0.9226485126914199, 'fitspace:pretrained': False}}, resources=Resources(nCPUs = 4, nGPUs = 1)))\n",
      "DEBUG:autogluon.scheduler.scheduler:State_Dict cls.FINISHED_TASKS: [{'TASK_ID': 6, 'Config': {'fitspace:model': 'resnet101_v1', 'fitspace:optimizer': 'adam', 'fitspace:lr': 0.054054546569617355, 'fitspace:momentum': 0.8933316015571741, 'fitspace:pretrained': False}}, {'TASK_ID': 5, 'Config': {'fitspace:model': 'resnet50_v1', 'fitspace:optimizer': 'adam', 'fitspace:lr': 0.051449363058242444, 'fitspace:momentum': 0.949490038379711, 'fitspace:pretrained': True}}, {'TASK_ID': 1, 'Config': {'fitspace:model': 'resnet101_v1', 'fitspace:optimizer': 'adam', 'fitspace:lr': 0.0007320528860097534, 'fitspace:momentum': 0.8963548623074746, 'fitspace:pretrained': True}}, {'TASK_ID': 4, 'Config': {'fitspace:model': 'resnet101_v1', 'fitspace:optimizer': 'sgd', 'fitspace:lr': 0.00011439853150538504, 'fitspace:momentum': 0.8976251690765387, 'fitspace:pretrained': True}}, {'TASK_ID': 2, 'Config': {'fitspace:model': 'resnet101_v1', 'fitspace:optimizer': 'adam', 'fitspace:lr': 0.00023908109292535915, 'fitspace:momentum': 0.9076814210325074, 'fitspace:pretrained': True}}, {'TASK_ID': 7, 'Config': {'fitspace:model': 'resnet101_v1', 'fitspace:optimizer': 'adam', 'fitspace:lr': 0.05940524465608096, 'fitspace:momentum': 0.9046463734282049, 'fitspace:pretrained': True}}, {'TASK_ID': 3, 'Config': {'fitspace:model': 'resnet34_v1', 'fitspace:optimizer': 'adam', 'fitspace:lr': 0.0005079539351678317, 'fitspace:momentum': 0.8778933467495841, 'fitspace:pretrained': False}}, {'TASK_ID': 0, 'Config': {'fitspace:model': 'resnet34_v1', 'fitspace:optimizer': 'sgd', 'fitspace:lr': 0.00010478116717265095, 'fitspace:momentum': 0.8816854227138787, 'fitspace:pretrained': True}}, {'TASK_ID': 9, 'Config': {'fitspace:model': 'resnet18_v1', 'fitspace:optimizer': 'sgd', 'fitspace:lr': 0.02190646089905803, 'fitspace:momentum': 0.8722154198942891, 'fitspace:pretrained': True}}, {'TASK_ID': 8, 'Config': {'fitspace:model': 'resnet18_v1', 'fitspace:optimizer': 'sgd', 'fitspace:lr': 0.00039744248054141424, 'fitspace:momentum': 0.9389562843488237, 'fitspace:pretrained': False}}, {'TASK_ID': 12, 'Config': {'fitspace:model': 'resnet50_v1', 'fitspace:optimizer': 'adam', 'fitspace:lr': 0.002640300968726753, 'fitspace:momentum': 0.9144539080698659, 'fitspace:pretrained': True}}, {'TASK_ID': 11, 'Config': {'fitspace:model': 'resnet18_v1', 'fitspace:optimizer': 'sgd', 'fitspace:lr': 0.0005495727581112548, 'fitspace:momentum': 0.8809843595265633, 'fitspace:pretrained': True}}, {'TASK_ID': 13, 'Config': {'fitspace:model': 'resnet152_v1', 'fitspace:optimizer': 'adam', 'fitspace:lr': 0.002401642765615183, 'fitspace:momentum': 0.870950129086579, 'fitspace:pretrained': False}}, {'TASK_ID': 10, 'Config': {'fitspace:model': 'resnet101_v1', 'fitspace:optimizer': 'sgd', 'fitspace:lr': 0.0014994080002937063, 'fitspace:momentum': 0.8833113420757986, 'fitspace:pretrained': False}}, {'TASK_ID': 14, 'Config': {'fitspace:model': 'resnet50_v1', 'fitspace:optimizer': 'adam', 'fitspace:lr': 0.0028760807955725168, 'fitspace:momentum': 0.8682381272089972, 'fitspace:pretrained': False}}, {'TASK_ID': 15, 'Config': {'fitspace:model': 'resnet18_v1', 'fitspace:optimizer': 'adam', 'fitspace:lr': 0.0033111035306047586, 'fitspace:momentum': 0.867339432479708, 'fitspace:pretrained': True}}, {'TASK_ID': 17, 'Config': {'fitspace:model': 'resnet50_v1', 'fitspace:optimizer': 'adam', 'fitspace:lr': 0.0012459037759963774, 'fitspace:momentum': 0.9398654593241734, 'fitspace:pretrained': False}}]\n"
     ]
    },
    {
     "name": "stderr",
     "output_type": "stream",
     "text": [
      "INFO:autogluon.searcher.searcher:Finished Task with config: {\"fitspace:model\": \"resnet101_v1\", \"fitspace:optimizer\": \"adam\", \"fitspace:lr\": 0.002774061492399318, \"fitspace:momentum\": 0.8732060211141387, \"fitspace:pretrained\": true} and reward: 0.2444\n",
      "DEBUG:autogluon.scheduler.fifo:Saving Checkerpoint\n",
      "DEBUG:autogluon.scheduler.resource_manager:Reqeust succeed Resources(nCPUs = 4, CPU_IDs = {[32, 33, 34, 35]}, nGPUs = 1, GPU_IDs = {[7]})\n",
      "DEBUG:autogluon.scheduler.scheduler:State_Dict cls.FINISHED_TASKS: [{'TASK_ID': 6, 'Config': {'fitspace:model': 'resnet101_v1', 'fitspace:optimizer': 'adam', 'fitspace:lr': 0.054054546569617355, 'fitspace:momentum': 0.8933316015571741, 'fitspace:pretrained': False}}, {'TASK_ID': 5, 'Config': {'fitspace:model': 'resnet50_v1', 'fitspace:optimizer': 'adam', 'fitspace:lr': 0.051449363058242444, 'fitspace:momentum': 0.949490038379711, 'fitspace:pretrained': True}}, {'TASK_ID': 1, 'Config': {'fitspace:model': 'resnet101_v1', 'fitspace:optimizer': 'adam', 'fitspace:lr': 0.0007320528860097534, 'fitspace:momentum': 0.8963548623074746, 'fitspace:pretrained': True}}, {'TASK_ID': 4, 'Config': {'fitspace:model': 'resnet101_v1', 'fitspace:optimizer': 'sgd', 'fitspace:lr': 0.00011439853150538504, 'fitspace:momentum': 0.8976251690765387, 'fitspace:pretrained': True}}, {'TASK_ID': 2, 'Config': {'fitspace:model': 'resnet101_v1', 'fitspace:optimizer': 'adam', 'fitspace:lr': 0.00023908109292535915, 'fitspace:momentum': 0.9076814210325074, 'fitspace:pretrained': True}}, {'TASK_ID': 7, 'Config': {'fitspace:model': 'resnet101_v1', 'fitspace:optimizer': 'adam', 'fitspace:lr': 0.05940524465608096, 'fitspace:momentum': 0.9046463734282049, 'fitspace:pretrained': True}}, {'TASK_ID': 3, 'Config': {'fitspace:model': 'resnet34_v1', 'fitspace:optimizer': 'adam', 'fitspace:lr': 0.0005079539351678317, 'fitspace:momentum': 0.8778933467495841, 'fitspace:pretrained': False}}, {'TASK_ID': 0, 'Config': {'fitspace:model': 'resnet34_v1', 'fitspace:optimizer': 'sgd', 'fitspace:lr': 0.00010478116717265095, 'fitspace:momentum': 0.8816854227138787, 'fitspace:pretrained': True}}, {'TASK_ID': 9, 'Config': {'fitspace:model': 'resnet18_v1', 'fitspace:optimizer': 'sgd', 'fitspace:lr': 0.02190646089905803, 'fitspace:momentum': 0.8722154198942891, 'fitspace:pretrained': True}}, {'TASK_ID': 8, 'Config': {'fitspace:model': 'resnet18_v1', 'fitspace:optimizer': 'sgd', 'fitspace:lr': 0.00039744248054141424, 'fitspace:momentum': 0.9389562843488237, 'fitspace:pretrained': False}}, {'TASK_ID': 12, 'Config': {'fitspace:model': 'resnet50_v1', 'fitspace:optimizer': 'adam', 'fitspace:lr': 0.002640300968726753, 'fitspace:momentum': 0.9144539080698659, 'fitspace:pretrained': True}}, {'TASK_ID': 11, 'Config': {'fitspace:model': 'resnet18_v1', 'fitspace:optimizer': 'sgd', 'fitspace:lr': 0.0005495727581112548, 'fitspace:momentum': 0.8809843595265633, 'fitspace:pretrained': True}}, {'TASK_ID': 13, 'Config': {'fitspace:model': 'resnet152_v1', 'fitspace:optimizer': 'adam', 'fitspace:lr': 0.002401642765615183, 'fitspace:momentum': 0.870950129086579, 'fitspace:pretrained': False}}, {'TASK_ID': 10, 'Config': {'fitspace:model': 'resnet101_v1', 'fitspace:optimizer': 'sgd', 'fitspace:lr': 0.0014994080002937063, 'fitspace:momentum': 0.8833113420757986, 'fitspace:pretrained': False}}, {'TASK_ID': 14, 'Config': {'fitspace:model': 'resnet50_v1', 'fitspace:optimizer': 'adam', 'fitspace:lr': 0.0028760807955725168, 'fitspace:momentum': 0.8682381272089972, 'fitspace:pretrained': False}}, {'TASK_ID': 15, 'Config': {'fitspace:model': 'resnet18_v1', 'fitspace:optimizer': 'adam', 'fitspace:lr': 0.0033111035306047586, 'fitspace:momentum': 0.867339432479708, 'fitspace:pretrained': True}}, {'TASK_ID': 17, 'Config': {'fitspace:model': 'resnet50_v1', 'fitspace:optimizer': 'adam', 'fitspace:lr': 0.0012459037759963774, 'fitspace:momentum': 0.9398654593241734, 'fitspace:pretrained': False}}, {'TASK_ID': 20, 'Config': {'fitspace:model': 'resnet101_v1', 'fitspace:optimizer': 'adam', 'fitspace:lr': 0.002774061492399318, 'fitspace:momentum': 0.8732060211141387, 'fitspace:pretrained': True}}]\n",
      "INFO:autogluon.searcher.searcher:Finished Task with config: {\"fitspace:model\": \"resnet101_v1\", \"fitspace:optimizer\": \"sgd\", \"fitspace:lr\": 0.0005298315142590687, \"fitspace:momentum\": 0.9072078887600064, \"fitspace:pretrained\": false} and reward: 0.2482\n",
      "DEBUG:autogluon.scheduler.fifo:Saving Checkerpoint\n",
      "DEBUG:autogluon.scheduler.scheduler:State_Dict cls.FINISHED_TASKS: [{'TASK_ID': 6, 'Config': {'fitspace:model': 'resnet101_v1', 'fitspace:optimizer': 'adam', 'fitspace:lr': 0.054054546569617355, 'fitspace:momentum': 0.8933316015571741, 'fitspace:pretrained': False}}, {'TASK_ID': 5, 'Config': {'fitspace:model': 'resnet50_v1', 'fitspace:optimizer': 'adam', 'fitspace:lr': 0.051449363058242444, 'fitspace:momentum': 0.949490038379711, 'fitspace:pretrained': True}}, {'TASK_ID': 1, 'Config': {'fitspace:model': 'resnet101_v1', 'fitspace:optimizer': 'adam', 'fitspace:lr': 0.0007320528860097534, 'fitspace:momentum': 0.8963548623074746, 'fitspace:pretrained': True}}, {'TASK_ID': 4, 'Config': {'fitspace:model': 'resnet101_v1', 'fitspace:optimizer': 'sgd', 'fitspace:lr': 0.00011439853150538504, 'fitspace:momentum': 0.8976251690765387, 'fitspace:pretrained': True}}, {'TASK_ID': 2, 'Config': {'fitspace:model': 'resnet101_v1', 'fitspace:optimizer': 'adam', 'fitspace:lr': 0.00023908109292535915, 'fitspace:momentum': 0.9076814210325074, 'fitspace:pretrained': True}}, {'TASK_ID': 7, 'Config': {'fitspace:model': 'resnet101_v1', 'fitspace:optimizer': 'adam', 'fitspace:lr': 0.05940524465608096, 'fitspace:momentum': 0.9046463734282049, 'fitspace:pretrained': True}}, {'TASK_ID': 3, 'Config': {'fitspace:model': 'resnet34_v1', 'fitspace:optimizer': 'adam', 'fitspace:lr': 0.0005079539351678317, 'fitspace:momentum': 0.8778933467495841, 'fitspace:pretrained': False}}, {'TASK_ID': 0, 'Config': {'fitspace:model': 'resnet34_v1', 'fitspace:optimizer': 'sgd', 'fitspace:lr': 0.00010478116717265095, 'fitspace:momentum': 0.8816854227138787, 'fitspace:pretrained': True}}, {'TASK_ID': 9, 'Config': {'fitspace:model': 'resnet18_v1', 'fitspace:optimizer': 'sgd', 'fitspace:lr': 0.02190646089905803, 'fitspace:momentum': 0.8722154198942891, 'fitspace:pretrained': True}}, {'TASK_ID': 8, 'Config': {'fitspace:model': 'resnet18_v1', 'fitspace:optimizer': 'sgd', 'fitspace:lr': 0.00039744248054141424, 'fitspace:momentum': 0.9389562843488237, 'fitspace:pretrained': False}}, {'TASK_ID': 12, 'Config': {'fitspace:model': 'resnet50_v1', 'fitspace:optimizer': 'adam', 'fitspace:lr': 0.002640300968726753, 'fitspace:momentum': 0.9144539080698659, 'fitspace:pretrained': True}}, {'TASK_ID': 11, 'Config': {'fitspace:model': 'resnet18_v1', 'fitspace:optimizer': 'sgd', 'fitspace:lr': 0.0005495727581112548, 'fitspace:momentum': 0.8809843595265633, 'fitspace:pretrained': True}}, {'TASK_ID': 13, 'Config': {'fitspace:model': 'resnet152_v1', 'fitspace:optimizer': 'adam', 'fitspace:lr': 0.002401642765615183, 'fitspace:momentum': 0.870950129086579, 'fitspace:pretrained': False}}, {'TASK_ID': 10, 'Config': {'fitspace:model': 'resnet101_v1', 'fitspace:optimizer': 'sgd', 'fitspace:lr': 0.0014994080002937063, 'fitspace:momentum': 0.8833113420757986, 'fitspace:pretrained': False}}, {'TASK_ID': 14, 'Config': {'fitspace:model': 'resnet50_v1', 'fitspace:optimizer': 'adam', 'fitspace:lr': 0.0028760807955725168, 'fitspace:momentum': 0.8682381272089972, 'fitspace:pretrained': False}}, {'TASK_ID': 15, 'Config': {'fitspace:model': 'resnet18_v1', 'fitspace:optimizer': 'adam', 'fitspace:lr': 0.0033111035306047586, 'fitspace:momentum': 0.867339432479708, 'fitspace:pretrained': True}}, {'TASK_ID': 17, 'Config': {'fitspace:model': 'resnet50_v1', 'fitspace:optimizer': 'adam', 'fitspace:lr': 0.0012459037759963774, 'fitspace:momentum': 0.9398654593241734, 'fitspace:pretrained': False}}, {'TASK_ID': 20, 'Config': {'fitspace:model': 'resnet101_v1', 'fitspace:optimizer': 'adam', 'fitspace:lr': 0.002774061492399318, 'fitspace:momentum': 0.8732060211141387, 'fitspace:pretrained': True}}, {'TASK_ID': 18, 'Config': {'fitspace:model': 'resnet101_v1', 'fitspace:optimizer': 'sgd', 'fitspace:lr': 0.0005298315142590687, 'fitspace:momentum': 0.9072078887600064, 'fitspace:pretrained': False}}]\n"
     ]
    },
    {
     "name": "stderr",
     "output_type": "stream",
     "text": [
      "INFO:autogluon.searcher.searcher:Finished Task with config: {\"fitspace:model\": \"resnet34_v1\", \"fitspace:optimizer\": \"sgd\", \"fitspace:lr\": 0.00031481040578668036, \"fitspace:momentum\": 0.9072226656925563, \"fitspace:pretrained\": false} and reward: 0.2449\n",
      "DEBUG:autogluon.scheduler.fifo:Saving Checkerpoint\n",
      "DEBUG:autogluon.scheduler.scheduler:State_Dict cls.FINISHED_TASKS: [{'TASK_ID': 6, 'Config': {'fitspace:model': 'resnet101_v1', 'fitspace:optimizer': 'adam', 'fitspace:lr': 0.054054546569617355, 'fitspace:momentum': 0.8933316015571741, 'fitspace:pretrained': False}}, {'TASK_ID': 5, 'Config': {'fitspace:model': 'resnet50_v1', 'fitspace:optimizer': 'adam', 'fitspace:lr': 0.051449363058242444, 'fitspace:momentum': 0.949490038379711, 'fitspace:pretrained': True}}, {'TASK_ID': 1, 'Config': {'fitspace:model': 'resnet101_v1', 'fitspace:optimizer': 'adam', 'fitspace:lr': 0.0007320528860097534, 'fitspace:momentum': 0.8963548623074746, 'fitspace:pretrained': True}}, {'TASK_ID': 4, 'Config': {'fitspace:model': 'resnet101_v1', 'fitspace:optimizer': 'sgd', 'fitspace:lr': 0.00011439853150538504, 'fitspace:momentum': 0.8976251690765387, 'fitspace:pretrained': True}}, {'TASK_ID': 2, 'Config': {'fitspace:model': 'resnet101_v1', 'fitspace:optimizer': 'adam', 'fitspace:lr': 0.00023908109292535915, 'fitspace:momentum': 0.9076814210325074, 'fitspace:pretrained': True}}, {'TASK_ID': 7, 'Config': {'fitspace:model': 'resnet101_v1', 'fitspace:optimizer': 'adam', 'fitspace:lr': 0.05940524465608096, 'fitspace:momentum': 0.9046463734282049, 'fitspace:pretrained': True}}, {'TASK_ID': 3, 'Config': {'fitspace:model': 'resnet34_v1', 'fitspace:optimizer': 'adam', 'fitspace:lr': 0.0005079539351678317, 'fitspace:momentum': 0.8778933467495841, 'fitspace:pretrained': False}}, {'TASK_ID': 0, 'Config': {'fitspace:model': 'resnet34_v1', 'fitspace:optimizer': 'sgd', 'fitspace:lr': 0.00010478116717265095, 'fitspace:momentum': 0.8816854227138787, 'fitspace:pretrained': True}}, {'TASK_ID': 9, 'Config': {'fitspace:model': 'resnet18_v1', 'fitspace:optimizer': 'sgd', 'fitspace:lr': 0.02190646089905803, 'fitspace:momentum': 0.8722154198942891, 'fitspace:pretrained': True}}, {'TASK_ID': 8, 'Config': {'fitspace:model': 'resnet18_v1', 'fitspace:optimizer': 'sgd', 'fitspace:lr': 0.00039744248054141424, 'fitspace:momentum': 0.9389562843488237, 'fitspace:pretrained': False}}, {'TASK_ID': 12, 'Config': {'fitspace:model': 'resnet50_v1', 'fitspace:optimizer': 'adam', 'fitspace:lr': 0.002640300968726753, 'fitspace:momentum': 0.9144539080698659, 'fitspace:pretrained': True}}, {'TASK_ID': 11, 'Config': {'fitspace:model': 'resnet18_v1', 'fitspace:optimizer': 'sgd', 'fitspace:lr': 0.0005495727581112548, 'fitspace:momentum': 0.8809843595265633, 'fitspace:pretrained': True}}, {'TASK_ID': 13, 'Config': {'fitspace:model': 'resnet152_v1', 'fitspace:optimizer': 'adam', 'fitspace:lr': 0.002401642765615183, 'fitspace:momentum': 0.870950129086579, 'fitspace:pretrained': False}}, {'TASK_ID': 10, 'Config': {'fitspace:model': 'resnet101_v1', 'fitspace:optimizer': 'sgd', 'fitspace:lr': 0.0014994080002937063, 'fitspace:momentum': 0.8833113420757986, 'fitspace:pretrained': False}}, {'TASK_ID': 14, 'Config': {'fitspace:model': 'resnet50_v1', 'fitspace:optimizer': 'adam', 'fitspace:lr': 0.0028760807955725168, 'fitspace:momentum': 0.8682381272089972, 'fitspace:pretrained': False}}, {'TASK_ID': 15, 'Config': {'fitspace:model': 'resnet18_v1', 'fitspace:optimizer': 'adam', 'fitspace:lr': 0.0033111035306047586, 'fitspace:momentum': 0.867339432479708, 'fitspace:pretrained': True}}, {'TASK_ID': 17, 'Config': {'fitspace:model': 'resnet50_v1', 'fitspace:optimizer': 'adam', 'fitspace:lr': 0.0012459037759963774, 'fitspace:momentum': 0.9398654593241734, 'fitspace:pretrained': False}}, {'TASK_ID': 20, 'Config': {'fitspace:model': 'resnet101_v1', 'fitspace:optimizer': 'adam', 'fitspace:lr': 0.002774061492399318, 'fitspace:momentum': 0.8732060211141387, 'fitspace:pretrained': True}}, {'TASK_ID': 18, 'Config': {'fitspace:model': 'resnet101_v1', 'fitspace:optimizer': 'sgd', 'fitspace:lr': 0.0005298315142590687, 'fitspace:momentum': 0.9072078887600064, 'fitspace:pretrained': False}}, {'TASK_ID': 16, 'Config': {'fitspace:model': 'resnet34_v1', 'fitspace:optimizer': 'sgd', 'fitspace:lr': 0.00031481040578668036, 'fitspace:momentum': 0.9072226656925563, 'fitspace:pretrained': False}}]\n",
      "DEBUG:autogluon.scheduler.reporter:StatusReporter reporting: {\"epoch\": 2, \"accuracy\": 0.28205, \"time_this_iter\": 20.62908172607422}\n",
      "DEBUG:autogluon.scheduler.reporter:StatusReporter reporting: {\"epoch\": 2, \"accuracy\": 0.285, \"time_this_iter\": 20.721691370010376}\n",
      "DEBUG:autogluon.scheduler.reporter:StatusReporter reporting: {\"epoch\": 2, \"accuracy\": 0.2838, \"time_this_iter\": 22.132070779800415}\n",
      "DEBUG:autogluon.scheduler.reporter:StatusReporter reporting: {\"epoch\": 2, \"accuracy\": 0.2847, \"time_this_iter\": 22.756893396377563}\n",
      "DEBUG:autogluon.scheduler.reporter:StatusReporter reporting: {\"epoch\": 1, \"accuracy\": 0.2433, \"time_this_iter\": 25.713470220565796}\n",
      "DEBUG:autogluon.scheduler.hyperband:Removing task Task(TASK_ID: 25) Task(fn=<function train_image_classification at 0x7fc60f3129d8>, args={'args': Namespace(epochs=10, lr=0.0001, model='resnet18_v1', optimizer='sgd', pretrained=True, train_data='./CIFAR10/train', val_data='./CIFAR10/valid'), 'config': {'fitspace:model': 'resnet34_v1', 'fitspace:optimizer': 'adam', 'fitspace:lr': 0.00584164698712833, 'fitspace:momentum': 0.9226485126914199, 'fitspace:pretrained': False}, 'reporter': <autogluon.scheduler.reporter.StatusReporter object at 0x7fc604742ac8>}, resources=Resources(nCPUs = 4, CPU_IDs = {[32, 33, 34, 35]}, nGPUs = 1, GPU_IDs = {[7]}))) due to low performance\n",
      "INFO:autogluon.searcher.searcher:Finished Task with config: {\"fitspace:model\": \"resnet34_v1\", \"fitspace:optimizer\": \"adam\", \"fitspace:lr\": 0.00584164698712833, \"fitspace:momentum\": 0.9226485126914199, \"fitspace:pretrained\": false} and reward: 0.2433\n",
      "DEBUG:autogluon.scheduler.fifo:Saving Checkerpoint\n",
      "DEBUG:autogluon.scheduler.scheduler:State_Dict cls.FINISHED_TASKS: [{'TASK_ID': 6, 'Config': {'fitspace:model': 'resnet101_v1', 'fitspace:optimizer': 'adam', 'fitspace:lr': 0.054054546569617355, 'fitspace:momentum': 0.8933316015571741, 'fitspace:pretrained': False}}, {'TASK_ID': 5, 'Config': {'fitspace:model': 'resnet50_v1', 'fitspace:optimizer': 'adam', 'fitspace:lr': 0.051449363058242444, 'fitspace:momentum': 0.949490038379711, 'fitspace:pretrained': True}}, {'TASK_ID': 1, 'Config': {'fitspace:model': 'resnet101_v1', 'fitspace:optimizer': 'adam', 'fitspace:lr': 0.0007320528860097534, 'fitspace:momentum': 0.8963548623074746, 'fitspace:pretrained': True}}, {'TASK_ID': 4, 'Config': {'fitspace:model': 'resnet101_v1', 'fitspace:optimizer': 'sgd', 'fitspace:lr': 0.00011439853150538504, 'fitspace:momentum': 0.8976251690765387, 'fitspace:pretrained': True}}, {'TASK_ID': 2, 'Config': {'fitspace:model': 'resnet101_v1', 'fitspace:optimizer': 'adam', 'fitspace:lr': 0.00023908109292535915, 'fitspace:momentum': 0.9076814210325074, 'fitspace:pretrained': True}}, {'TASK_ID': 7, 'Config': {'fitspace:model': 'resnet101_v1', 'fitspace:optimizer': 'adam', 'fitspace:lr': 0.05940524465608096, 'fitspace:momentum': 0.9046463734282049, 'fitspace:pretrained': True}}, {'TASK_ID': 3, 'Config': {'fitspace:model': 'resnet34_v1', 'fitspace:optimizer': 'adam', 'fitspace:lr': 0.0005079539351678317, 'fitspace:momentum': 0.8778933467495841, 'fitspace:pretrained': False}}, {'TASK_ID': 0, 'Config': {'fitspace:model': 'resnet34_v1', 'fitspace:optimizer': 'sgd', 'fitspace:lr': 0.00010478116717265095, 'fitspace:momentum': 0.8816854227138787, 'fitspace:pretrained': True}}, {'TASK_ID': 9, 'Config': {'fitspace:model': 'resnet18_v1', 'fitspace:optimizer': 'sgd', 'fitspace:lr': 0.02190646089905803, 'fitspace:momentum': 0.8722154198942891, 'fitspace:pretrained': True}}, {'TASK_ID': 8, 'Config': {'fitspace:model': 'resnet18_v1', 'fitspace:optimizer': 'sgd', 'fitspace:lr': 0.00039744248054141424, 'fitspace:momentum': 0.9389562843488237, 'fitspace:pretrained': False}}, {'TASK_ID': 12, 'Config': {'fitspace:model': 'resnet50_v1', 'fitspace:optimizer': 'adam', 'fitspace:lr': 0.002640300968726753, 'fitspace:momentum': 0.9144539080698659, 'fitspace:pretrained': True}}, {'TASK_ID': 11, 'Config': {'fitspace:model': 'resnet18_v1', 'fitspace:optimizer': 'sgd', 'fitspace:lr': 0.0005495727581112548, 'fitspace:momentum': 0.8809843595265633, 'fitspace:pretrained': True}}, {'TASK_ID': 13, 'Config': {'fitspace:model': 'resnet152_v1', 'fitspace:optimizer': 'adam', 'fitspace:lr': 0.002401642765615183, 'fitspace:momentum': 0.870950129086579, 'fitspace:pretrained': False}}, {'TASK_ID': 10, 'Config': {'fitspace:model': 'resnet101_v1', 'fitspace:optimizer': 'sgd', 'fitspace:lr': 0.0014994080002937063, 'fitspace:momentum': 0.8833113420757986, 'fitspace:pretrained': False}}, {'TASK_ID': 14, 'Config': {'fitspace:model': 'resnet50_v1', 'fitspace:optimizer': 'adam', 'fitspace:lr': 0.0028760807955725168, 'fitspace:momentum': 0.8682381272089972, 'fitspace:pretrained': False}}, {'TASK_ID': 15, 'Config': {'fitspace:model': 'resnet18_v1', 'fitspace:optimizer': 'adam', 'fitspace:lr': 0.0033111035306047586, 'fitspace:momentum': 0.867339432479708, 'fitspace:pretrained': True}}, {'TASK_ID': 17, 'Config': {'fitspace:model': 'resnet50_v1', 'fitspace:optimizer': 'adam', 'fitspace:lr': 0.0012459037759963774, 'fitspace:momentum': 0.9398654593241734, 'fitspace:pretrained': False}}, {'TASK_ID': 20, 'Config': {'fitspace:model': 'resnet101_v1', 'fitspace:optimizer': 'adam', 'fitspace:lr': 0.002774061492399318, 'fitspace:momentum': 0.8732060211141387, 'fitspace:pretrained': True}}, {'TASK_ID': 18, 'Config': {'fitspace:model': 'resnet101_v1', 'fitspace:optimizer': 'sgd', 'fitspace:lr': 0.0005298315142590687, 'fitspace:momentum': 0.9072078887600064, 'fitspace:pretrained': False}}, {'TASK_ID': 16, 'Config': {'fitspace:model': 'resnet34_v1', 'fitspace:optimizer': 'sgd', 'fitspace:lr': 0.00031481040578668036, 'fitspace:momentum': 0.9072226656925563, 'fitspace:pretrained': False}}, {'TASK_ID': 25, 'Config': {'fitspace:model': 'resnet34_v1', 'fitspace:optimizer': 'adam', 'fitspace:lr': 0.00584164698712833, 'fitspace:momentum': 0.9226485126914199, 'fitspace:pretrained': False}}]\n"
     ]
    },
    {
     "name": "stderr",
     "output_type": "stream",
     "text": [
      "DEBUG:autogluon.scheduler.reporter:StatusReporter reporting: {\"epoch\": 1, \"accuracy\": 0.2466, \"time_this_iter\": 26.460251569747925}\n",
      "DEBUG:autogluon.scheduler.hyperband:Removing task Task(TASK_ID: 24) Task(fn=<function train_image_classification at 0x7fc60f3129d8>, args={'args': Namespace(epochs=10, lr=0.0001, model='resnet18_v1', optimizer='sgd', pretrained=True, train_data='./CIFAR10/train', val_data='./CIFAR10/valid'), 'config': {'fitspace:model': 'resnet152_v1', 'fitspace:optimizer': 'sgd', 'fitspace:lr': 0.0002088257596487824, 'fitspace:momentum': 0.939103663760496, 'fitspace:pretrained': True}, 'reporter': <autogluon.scheduler.reporter.StatusReporter object at 0x7fc60c0b2d30>}, resources=Resources(nCPUs = 4, CPU_IDs = {[36, 37, 38, 39]}, nGPUs = 1, GPU_IDs = {[6]}))) due to low performance\n",
      "INFO:autogluon.searcher.searcher:Finished Task with config: {\"fitspace:model\": \"resnet152_v1\", \"fitspace:optimizer\": \"sgd\", \"fitspace:lr\": 0.0002088257596487824, \"fitspace:momentum\": 0.939103663760496, \"fitspace:pretrained\": true} and reward: 0.2466\n",
      "DEBUG:autogluon.scheduler.fifo:Saving Checkerpoint\n",
      "DEBUG:autogluon.scheduler.scheduler:State_Dict cls.FINISHED_TASKS: [{'TASK_ID': 6, 'Config': {'fitspace:model': 'resnet101_v1', 'fitspace:optimizer': 'adam', 'fitspace:lr': 0.054054546569617355, 'fitspace:momentum': 0.8933316015571741, 'fitspace:pretrained': False}}, {'TASK_ID': 5, 'Config': {'fitspace:model': 'resnet50_v1', 'fitspace:optimizer': 'adam', 'fitspace:lr': 0.051449363058242444, 'fitspace:momentum': 0.949490038379711, 'fitspace:pretrained': True}}, {'TASK_ID': 1, 'Config': {'fitspace:model': 'resnet101_v1', 'fitspace:optimizer': 'adam', 'fitspace:lr': 0.0007320528860097534, 'fitspace:momentum': 0.8963548623074746, 'fitspace:pretrained': True}}, {'TASK_ID': 4, 'Config': {'fitspace:model': 'resnet101_v1', 'fitspace:optimizer': 'sgd', 'fitspace:lr': 0.00011439853150538504, 'fitspace:momentum': 0.8976251690765387, 'fitspace:pretrained': True}}, {'TASK_ID': 2, 'Config': {'fitspace:model': 'resnet101_v1', 'fitspace:optimizer': 'adam', 'fitspace:lr': 0.00023908109292535915, 'fitspace:momentum': 0.9076814210325074, 'fitspace:pretrained': True}}, {'TASK_ID': 7, 'Config': {'fitspace:model': 'resnet101_v1', 'fitspace:optimizer': 'adam', 'fitspace:lr': 0.05940524465608096, 'fitspace:momentum': 0.9046463734282049, 'fitspace:pretrained': True}}, {'TASK_ID': 3, 'Config': {'fitspace:model': 'resnet34_v1', 'fitspace:optimizer': 'adam', 'fitspace:lr': 0.0005079539351678317, 'fitspace:momentum': 0.8778933467495841, 'fitspace:pretrained': False}}, {'TASK_ID': 0, 'Config': {'fitspace:model': 'resnet34_v1', 'fitspace:optimizer': 'sgd', 'fitspace:lr': 0.00010478116717265095, 'fitspace:momentum': 0.8816854227138787, 'fitspace:pretrained': True}}, {'TASK_ID': 9, 'Config': {'fitspace:model': 'resnet18_v1', 'fitspace:optimizer': 'sgd', 'fitspace:lr': 0.02190646089905803, 'fitspace:momentum': 0.8722154198942891, 'fitspace:pretrained': True}}, {'TASK_ID': 8, 'Config': {'fitspace:model': 'resnet18_v1', 'fitspace:optimizer': 'sgd', 'fitspace:lr': 0.00039744248054141424, 'fitspace:momentum': 0.9389562843488237, 'fitspace:pretrained': False}}, {'TASK_ID': 12, 'Config': {'fitspace:model': 'resnet50_v1', 'fitspace:optimizer': 'adam', 'fitspace:lr': 0.002640300968726753, 'fitspace:momentum': 0.9144539080698659, 'fitspace:pretrained': True}}, {'TASK_ID': 11, 'Config': {'fitspace:model': 'resnet18_v1', 'fitspace:optimizer': 'sgd', 'fitspace:lr': 0.0005495727581112548, 'fitspace:momentum': 0.8809843595265633, 'fitspace:pretrained': True}}, {'TASK_ID': 13, 'Config': {'fitspace:model': 'resnet152_v1', 'fitspace:optimizer': 'adam', 'fitspace:lr': 0.002401642765615183, 'fitspace:momentum': 0.870950129086579, 'fitspace:pretrained': False}}, {'TASK_ID': 10, 'Config': {'fitspace:model': 'resnet101_v1', 'fitspace:optimizer': 'sgd', 'fitspace:lr': 0.0014994080002937063, 'fitspace:momentum': 0.8833113420757986, 'fitspace:pretrained': False}}, {'TASK_ID': 14, 'Config': {'fitspace:model': 'resnet50_v1', 'fitspace:optimizer': 'adam', 'fitspace:lr': 0.0028760807955725168, 'fitspace:momentum': 0.8682381272089972, 'fitspace:pretrained': False}}, {'TASK_ID': 15, 'Config': {'fitspace:model': 'resnet18_v1', 'fitspace:optimizer': 'adam', 'fitspace:lr': 0.0033111035306047586, 'fitspace:momentum': 0.867339432479708, 'fitspace:pretrained': True}}, {'TASK_ID': 17, 'Config': {'fitspace:model': 'resnet50_v1', 'fitspace:optimizer': 'adam', 'fitspace:lr': 0.0012459037759963774, 'fitspace:momentum': 0.9398654593241734, 'fitspace:pretrained': False}}, {'TASK_ID': 20, 'Config': {'fitspace:model': 'resnet101_v1', 'fitspace:optimizer': 'adam', 'fitspace:lr': 0.002774061492399318, 'fitspace:momentum': 0.8732060211141387, 'fitspace:pretrained': True}}, {'TASK_ID': 18, 'Config': {'fitspace:model': 'resnet101_v1', 'fitspace:optimizer': 'sgd', 'fitspace:lr': 0.0005298315142590687, 'fitspace:momentum': 0.9072078887600064, 'fitspace:pretrained': False}}, {'TASK_ID': 16, 'Config': {'fitspace:model': 'resnet34_v1', 'fitspace:optimizer': 'sgd', 'fitspace:lr': 0.00031481040578668036, 'fitspace:momentum': 0.9072226656925563, 'fitspace:pretrained': False}}, {'TASK_ID': 25, 'Config': {'fitspace:model': 'resnet34_v1', 'fitspace:optimizer': 'adam', 'fitspace:lr': 0.00584164698712833, 'fitspace:momentum': 0.9226485126914199, 'fitspace:pretrained': False}}, {'TASK_ID': 24, 'Config': {'fitspace:model': 'resnet152_v1', 'fitspace:optimizer': 'sgd', 'fitspace:lr': 0.0002088257596487824, 'fitspace:momentum': 0.939103663760496, 'fitspace:pretrained': True}}]\n",
      "DEBUG:autogluon.scheduler.reporter:StatusReporter reporting: {\"epoch\": 3, \"accuracy\": 0.31033333333333335, \"time_this_iter\": 20.221346378326416}\n",
      "DEBUG:autogluon.scheduler.reporter:StatusReporter reporting: {\"epoch\": 3, \"accuracy\": 0.3132333333333333, \"time_this_iter\": 19.826101064682007}\n",
      "DEBUG:autogluon.scheduler.reporter:StatusReporter reporting: {\"epoch\": 3, \"accuracy\": 0.31193333333333334, \"time_this_iter\": 20.787561655044556}\n",
      "DEBUG:autogluon.scheduler.reporter:StatusReporter reporting: {\"epoch\": 3, \"accuracy\": 0.31156666666666666, \"time_this_iter\": 21.598555326461792}\n",
      "DEBUG:autogluon.scheduler.reporter:StatusReporter reporting: {\"epoch\": 4, \"accuracy\": 0.335825, \"time_this_iter\": 18.174680471420288}\n",
      "DEBUG:autogluon.scheduler.reporter:StatusReporter reporting: {\"epoch\": 4, \"accuracy\": 0.3325, \"time_this_iter\": 20.572066068649292}\n",
      "DEBUG:autogluon.scheduler.hyperband:Removing task Task(TASK_ID: 23) Task(fn=<function train_image_classification at 0x7fc60f3129d8>, args={'args': Namespace(epochs=10, lr=0.0001, model='resnet18_v1', optimizer='sgd', pretrained=True, train_data='./CIFAR10/train', val_data='./CIFAR10/valid'), 'config': {'fitspace:model': 'resnet152_v1', 'fitspace:optimizer': 'adam', 'fitspace:lr': 0.0001589776052132323, 'fitspace:momentum': 0.9111495470259211, 'fitspace:pretrained': False}, 'reporter': <autogluon.scheduler.reporter.StatusReporter object at 0x7fc60474bb38>}, resources=Resources(nCPUs = 4, CPU_IDs = {[0, 1, 2, 3]}, nGPUs = 1, GPU_IDs = {[0]}))) due to low performance\n",
      "INFO:autogluon.searcher.searcher:Finished Task with config: {\"fitspace:model\": \"resnet152_v1\", \"fitspace:optimizer\": \"adam\", \"fitspace:lr\": 0.0001589776052132323, \"fitspace:momentum\": 0.9111495470259211, \"fitspace:pretrained\": false} and reward: 0.3325\n",
      "DEBUG:autogluon.scheduler.fifo:Saving Checkerpoint\n",
      "DEBUG:autogluon.scheduler.scheduler:State_Dict cls.FINISHED_TASKS: [{'TASK_ID': 6, 'Config': {'fitspace:model': 'resnet101_v1', 'fitspace:optimizer': 'adam', 'fitspace:lr': 0.054054546569617355, 'fitspace:momentum': 0.8933316015571741, 'fitspace:pretrained': False}}, {'TASK_ID': 5, 'Config': {'fitspace:model': 'resnet50_v1', 'fitspace:optimizer': 'adam', 'fitspace:lr': 0.051449363058242444, 'fitspace:momentum': 0.949490038379711, 'fitspace:pretrained': True}}, {'TASK_ID': 1, 'Config': {'fitspace:model': 'resnet101_v1', 'fitspace:optimizer': 'adam', 'fitspace:lr': 0.0007320528860097534, 'fitspace:momentum': 0.8963548623074746, 'fitspace:pretrained': True}}, {'TASK_ID': 4, 'Config': {'fitspace:model': 'resnet101_v1', 'fitspace:optimizer': 'sgd', 'fitspace:lr': 0.00011439853150538504, 'fitspace:momentum': 0.8976251690765387, 'fitspace:pretrained': True}}, {'TASK_ID': 2, 'Config': {'fitspace:model': 'resnet101_v1', 'fitspace:optimizer': 'adam', 'fitspace:lr': 0.00023908109292535915, 'fitspace:momentum': 0.9076814210325074, 'fitspace:pretrained': True}}, {'TASK_ID': 7, 'Config': {'fitspace:model': 'resnet101_v1', 'fitspace:optimizer': 'adam', 'fitspace:lr': 0.05940524465608096, 'fitspace:momentum': 0.9046463734282049, 'fitspace:pretrained': True}}, {'TASK_ID': 3, 'Config': {'fitspace:model': 'resnet34_v1', 'fitspace:optimizer': 'adam', 'fitspace:lr': 0.0005079539351678317, 'fitspace:momentum': 0.8778933467495841, 'fitspace:pretrained': False}}, {'TASK_ID': 0, 'Config': {'fitspace:model': 'resnet34_v1', 'fitspace:optimizer': 'sgd', 'fitspace:lr': 0.00010478116717265095, 'fitspace:momentum': 0.8816854227138787, 'fitspace:pretrained': True}}, {'TASK_ID': 9, 'Config': {'fitspace:model': 'resnet18_v1', 'fitspace:optimizer': 'sgd', 'fitspace:lr': 0.02190646089905803, 'fitspace:momentum': 0.8722154198942891, 'fitspace:pretrained': True}}, {'TASK_ID': 8, 'Config': {'fitspace:model': 'resnet18_v1', 'fitspace:optimizer': 'sgd', 'fitspace:lr': 0.00039744248054141424, 'fitspace:momentum': 0.9389562843488237, 'fitspace:pretrained': False}}, {'TASK_ID': 12, 'Config': {'fitspace:model': 'resnet50_v1', 'fitspace:optimizer': 'adam', 'fitspace:lr': 0.002640300968726753, 'fitspace:momentum': 0.9144539080698659, 'fitspace:pretrained': True}}, {'TASK_ID': 11, 'Config': {'fitspace:model': 'resnet18_v1', 'fitspace:optimizer': 'sgd', 'fitspace:lr': 0.0005495727581112548, 'fitspace:momentum': 0.8809843595265633, 'fitspace:pretrained': True}}, {'TASK_ID': 13, 'Config': {'fitspace:model': 'resnet152_v1', 'fitspace:optimizer': 'adam', 'fitspace:lr': 0.002401642765615183, 'fitspace:momentum': 0.870950129086579, 'fitspace:pretrained': False}}, {'TASK_ID': 10, 'Config': {'fitspace:model': 'resnet101_v1', 'fitspace:optimizer': 'sgd', 'fitspace:lr': 0.0014994080002937063, 'fitspace:momentum': 0.8833113420757986, 'fitspace:pretrained': False}}, {'TASK_ID': 14, 'Config': {'fitspace:model': 'resnet50_v1', 'fitspace:optimizer': 'adam', 'fitspace:lr': 0.0028760807955725168, 'fitspace:momentum': 0.8682381272089972, 'fitspace:pretrained': False}}, {'TASK_ID': 15, 'Config': {'fitspace:model': 'resnet18_v1', 'fitspace:optimizer': 'adam', 'fitspace:lr': 0.0033111035306047586, 'fitspace:momentum': 0.867339432479708, 'fitspace:pretrained': True}}, {'TASK_ID': 17, 'Config': {'fitspace:model': 'resnet50_v1', 'fitspace:optimizer': 'adam', 'fitspace:lr': 0.0012459037759963774, 'fitspace:momentum': 0.9398654593241734, 'fitspace:pretrained': False}}, {'TASK_ID': 20, 'Config': {'fitspace:model': 'resnet101_v1', 'fitspace:optimizer': 'adam', 'fitspace:lr': 0.002774061492399318, 'fitspace:momentum': 0.8732060211141387, 'fitspace:pretrained': True}}, {'TASK_ID': 18, 'Config': {'fitspace:model': 'resnet101_v1', 'fitspace:optimizer': 'sgd', 'fitspace:lr': 0.0005298315142590687, 'fitspace:momentum': 0.9072078887600064, 'fitspace:pretrained': False}}, {'TASK_ID': 16, 'Config': {'fitspace:model': 'resnet34_v1', 'fitspace:optimizer': 'sgd', 'fitspace:lr': 0.00031481040578668036, 'fitspace:momentum': 0.9072226656925563, 'fitspace:pretrained': False}}, {'TASK_ID': 25, 'Config': {'fitspace:model': 'resnet34_v1', 'fitspace:optimizer': 'adam', 'fitspace:lr': 0.00584164698712833, 'fitspace:momentum': 0.9226485126914199, 'fitspace:pretrained': False}}, {'TASK_ID': 24, 'Config': {'fitspace:model': 'resnet152_v1', 'fitspace:optimizer': 'sgd', 'fitspace:lr': 0.0002088257596487824, 'fitspace:momentum': 0.939103663760496, 'fitspace:pretrained': True}}, {'TASK_ID': 23, 'Config': {'fitspace:model': 'resnet152_v1', 'fitspace:optimizer': 'adam', 'fitspace:lr': 0.0001589776052132323, 'fitspace:momentum': 0.9111495470259211, 'fitspace:pretrained': False}}]\n"
     ]
    },
    {
     "name": "stderr",
     "output_type": "stream",
     "text": [
      "DEBUG:autogluon.scheduler.reporter:StatusReporter reporting: {\"epoch\": 4, \"accuracy\": 0.33475, \"time_this_iter\": 21.285646200180054}\n",
      "DEBUG:autogluon.scheduler.hyperband:Removing task Task(TASK_ID: 21) Task(fn=<function train_image_classification at 0x7fc60f3129d8>, args={'args': Namespace(epochs=10, lr=0.0001, model='resnet18_v1', optimizer='sgd', pretrained=True, train_data='./CIFAR10/train', val_data='./CIFAR10/valid'), 'config': {'fitspace:model': 'resnet34_v1', 'fitspace:optimizer': 'adam', 'fitspace:lr': 0.0032273279121336177, 'fitspace:momentum': 0.859931797996495, 'fitspace:pretrained': False}, 'reporter': <autogluon.scheduler.reporter.StatusReporter object at 0x7fc604742e10>}, resources=Resources(nCPUs = 4, CPU_IDs = {[28, 29, 30, 31]}, nGPUs = 1, GPU_IDs = {[2]}))) due to low performance\n",
      "INFO:autogluon.searcher.searcher:Finished Task with config: {\"fitspace:model\": \"resnet34_v1\", \"fitspace:optimizer\": \"adam\", \"fitspace:lr\": 0.0032273279121336177, \"fitspace:momentum\": 0.859931797996495, \"fitspace:pretrained\": false} and reward: 0.33475\n",
      "DEBUG:autogluon.scheduler.fifo:Saving Checkerpoint\n",
      "DEBUG:autogluon.scheduler.scheduler:State_Dict cls.FINISHED_TASKS: [{'TASK_ID': 6, 'Config': {'fitspace:model': 'resnet101_v1', 'fitspace:optimizer': 'adam', 'fitspace:lr': 0.054054546569617355, 'fitspace:momentum': 0.8933316015571741, 'fitspace:pretrained': False}}, {'TASK_ID': 5, 'Config': {'fitspace:model': 'resnet50_v1', 'fitspace:optimizer': 'adam', 'fitspace:lr': 0.051449363058242444, 'fitspace:momentum': 0.949490038379711, 'fitspace:pretrained': True}}, {'TASK_ID': 1, 'Config': {'fitspace:model': 'resnet101_v1', 'fitspace:optimizer': 'adam', 'fitspace:lr': 0.0007320528860097534, 'fitspace:momentum': 0.8963548623074746, 'fitspace:pretrained': True}}, {'TASK_ID': 4, 'Config': {'fitspace:model': 'resnet101_v1', 'fitspace:optimizer': 'sgd', 'fitspace:lr': 0.00011439853150538504, 'fitspace:momentum': 0.8976251690765387, 'fitspace:pretrained': True}}, {'TASK_ID': 2, 'Config': {'fitspace:model': 'resnet101_v1', 'fitspace:optimizer': 'adam', 'fitspace:lr': 0.00023908109292535915, 'fitspace:momentum': 0.9076814210325074, 'fitspace:pretrained': True}}, {'TASK_ID': 7, 'Config': {'fitspace:model': 'resnet101_v1', 'fitspace:optimizer': 'adam', 'fitspace:lr': 0.05940524465608096, 'fitspace:momentum': 0.9046463734282049, 'fitspace:pretrained': True}}, {'TASK_ID': 3, 'Config': {'fitspace:model': 'resnet34_v1', 'fitspace:optimizer': 'adam', 'fitspace:lr': 0.0005079539351678317, 'fitspace:momentum': 0.8778933467495841, 'fitspace:pretrained': False}}, {'TASK_ID': 0, 'Config': {'fitspace:model': 'resnet34_v1', 'fitspace:optimizer': 'sgd', 'fitspace:lr': 0.00010478116717265095, 'fitspace:momentum': 0.8816854227138787, 'fitspace:pretrained': True}}, {'TASK_ID': 9, 'Config': {'fitspace:model': 'resnet18_v1', 'fitspace:optimizer': 'sgd', 'fitspace:lr': 0.02190646089905803, 'fitspace:momentum': 0.8722154198942891, 'fitspace:pretrained': True}}, {'TASK_ID': 8, 'Config': {'fitspace:model': 'resnet18_v1', 'fitspace:optimizer': 'sgd', 'fitspace:lr': 0.00039744248054141424, 'fitspace:momentum': 0.9389562843488237, 'fitspace:pretrained': False}}, {'TASK_ID': 12, 'Config': {'fitspace:model': 'resnet50_v1', 'fitspace:optimizer': 'adam', 'fitspace:lr': 0.002640300968726753, 'fitspace:momentum': 0.9144539080698659, 'fitspace:pretrained': True}}, {'TASK_ID': 11, 'Config': {'fitspace:model': 'resnet18_v1', 'fitspace:optimizer': 'sgd', 'fitspace:lr': 0.0005495727581112548, 'fitspace:momentum': 0.8809843595265633, 'fitspace:pretrained': True}}, {'TASK_ID': 13, 'Config': {'fitspace:model': 'resnet152_v1', 'fitspace:optimizer': 'adam', 'fitspace:lr': 0.002401642765615183, 'fitspace:momentum': 0.870950129086579, 'fitspace:pretrained': False}}, {'TASK_ID': 10, 'Config': {'fitspace:model': 'resnet101_v1', 'fitspace:optimizer': 'sgd', 'fitspace:lr': 0.0014994080002937063, 'fitspace:momentum': 0.8833113420757986, 'fitspace:pretrained': False}}, {'TASK_ID': 14, 'Config': {'fitspace:model': 'resnet50_v1', 'fitspace:optimizer': 'adam', 'fitspace:lr': 0.0028760807955725168, 'fitspace:momentum': 0.8682381272089972, 'fitspace:pretrained': False}}, {'TASK_ID': 15, 'Config': {'fitspace:model': 'resnet18_v1', 'fitspace:optimizer': 'adam', 'fitspace:lr': 0.0033111035306047586, 'fitspace:momentum': 0.867339432479708, 'fitspace:pretrained': True}}, {'TASK_ID': 17, 'Config': {'fitspace:model': 'resnet50_v1', 'fitspace:optimizer': 'adam', 'fitspace:lr': 0.0012459037759963774, 'fitspace:momentum': 0.9398654593241734, 'fitspace:pretrained': False}}, {'TASK_ID': 20, 'Config': {'fitspace:model': 'resnet101_v1', 'fitspace:optimizer': 'adam', 'fitspace:lr': 0.002774061492399318, 'fitspace:momentum': 0.8732060211141387, 'fitspace:pretrained': True}}, {'TASK_ID': 18, 'Config': {'fitspace:model': 'resnet101_v1', 'fitspace:optimizer': 'sgd', 'fitspace:lr': 0.0005298315142590687, 'fitspace:momentum': 0.9072078887600064, 'fitspace:pretrained': False}}, {'TASK_ID': 16, 'Config': {'fitspace:model': 'resnet34_v1', 'fitspace:optimizer': 'sgd', 'fitspace:lr': 0.00031481040578668036, 'fitspace:momentum': 0.9072226656925563, 'fitspace:pretrained': False}}, {'TASK_ID': 25, 'Config': {'fitspace:model': 'resnet34_v1', 'fitspace:optimizer': 'adam', 'fitspace:lr': 0.00584164698712833, 'fitspace:momentum': 0.9226485126914199, 'fitspace:pretrained': False}}, {'TASK_ID': 24, 'Config': {'fitspace:model': 'resnet152_v1', 'fitspace:optimizer': 'sgd', 'fitspace:lr': 0.0002088257596487824, 'fitspace:momentum': 0.939103663760496, 'fitspace:pretrained': True}}, {'TASK_ID': 23, 'Config': {'fitspace:model': 'resnet152_v1', 'fitspace:optimizer': 'adam', 'fitspace:lr': 0.0001589776052132323, 'fitspace:momentum': 0.9111495470259211, 'fitspace:pretrained': False}}, {'TASK_ID': 21, 'Config': {'fitspace:model': 'resnet34_v1', 'fitspace:optimizer': 'adam', 'fitspace:lr': 0.0032273279121336177, 'fitspace:momentum': 0.859931797996495, 'fitspace:pretrained': False}}]\n",
      "DEBUG:autogluon.scheduler.reporter:StatusReporter reporting: {\"epoch\": 4, \"accuracy\": 0.33455, \"time_this_iter\": 21.27555799484253}\n",
      "DEBUG:autogluon.scheduler.hyperband:Removing task Task(TASK_ID: 22) Task(fn=<function train_image_classification at 0x7fc60f3129d8>, args={'args': Namespace(epochs=10, lr=0.0001, model='resnet18_v1', optimizer='sgd', pretrained=True, train_data='./CIFAR10/train', val_data='./CIFAR10/valid'), 'config': {'fitspace:model': 'resnet34_v1', 'fitspace:optimizer': 'sgd', 'fitspace:lr': 0.0006172855147563835, 'fitspace:momentum': 0.8980994964554123, 'fitspace:pretrained': False}, 'reporter': <autogluon.scheduler.reporter.StatusReporter object at 0x7fc604742e48>}, resources=Resources(nCPUs = 4, CPU_IDs = {[12, 13, 14, 15]}, nGPUs = 1, GPU_IDs = {[3]}))) due to low performance\n",
      "INFO:autogluon.searcher.searcher:Finished Task with config: {\"fitspace:model\": \"resnet34_v1\", \"fitspace:optimizer\": \"sgd\", \"fitspace:lr\": 0.0006172855147563835, \"fitspace:momentum\": 0.8980994964554123, \"fitspace:pretrained\": false} and reward: 0.33455\n",
      "DEBUG:autogluon.scheduler.fifo:Saving Checkerpoint\n",
      "DEBUG:autogluon.scheduler.scheduler:State_Dict cls.FINISHED_TASKS: [{'TASK_ID': 6, 'Config': {'fitspace:model': 'resnet101_v1', 'fitspace:optimizer': 'adam', 'fitspace:lr': 0.054054546569617355, 'fitspace:momentum': 0.8933316015571741, 'fitspace:pretrained': False}}, {'TASK_ID': 5, 'Config': {'fitspace:model': 'resnet50_v1', 'fitspace:optimizer': 'adam', 'fitspace:lr': 0.051449363058242444, 'fitspace:momentum': 0.949490038379711, 'fitspace:pretrained': True}}, {'TASK_ID': 1, 'Config': {'fitspace:model': 'resnet101_v1', 'fitspace:optimizer': 'adam', 'fitspace:lr': 0.0007320528860097534, 'fitspace:momentum': 0.8963548623074746, 'fitspace:pretrained': True}}, {'TASK_ID': 4, 'Config': {'fitspace:model': 'resnet101_v1', 'fitspace:optimizer': 'sgd', 'fitspace:lr': 0.00011439853150538504, 'fitspace:momentum': 0.8976251690765387, 'fitspace:pretrained': True}}, {'TASK_ID': 2, 'Config': {'fitspace:model': 'resnet101_v1', 'fitspace:optimizer': 'adam', 'fitspace:lr': 0.00023908109292535915, 'fitspace:momentum': 0.9076814210325074, 'fitspace:pretrained': True}}, {'TASK_ID': 7, 'Config': {'fitspace:model': 'resnet101_v1', 'fitspace:optimizer': 'adam', 'fitspace:lr': 0.05940524465608096, 'fitspace:momentum': 0.9046463734282049, 'fitspace:pretrained': True}}, {'TASK_ID': 3, 'Config': {'fitspace:model': 'resnet34_v1', 'fitspace:optimizer': 'adam', 'fitspace:lr': 0.0005079539351678317, 'fitspace:momentum': 0.8778933467495841, 'fitspace:pretrained': False}}, {'TASK_ID': 0, 'Config': {'fitspace:model': 'resnet34_v1', 'fitspace:optimizer': 'sgd', 'fitspace:lr': 0.00010478116717265095, 'fitspace:momentum': 0.8816854227138787, 'fitspace:pretrained': True}}, {'TASK_ID': 9, 'Config': {'fitspace:model': 'resnet18_v1', 'fitspace:optimizer': 'sgd', 'fitspace:lr': 0.02190646089905803, 'fitspace:momentum': 0.8722154198942891, 'fitspace:pretrained': True}}, {'TASK_ID': 8, 'Config': {'fitspace:model': 'resnet18_v1', 'fitspace:optimizer': 'sgd', 'fitspace:lr': 0.00039744248054141424, 'fitspace:momentum': 0.9389562843488237, 'fitspace:pretrained': False}}, {'TASK_ID': 12, 'Config': {'fitspace:model': 'resnet50_v1', 'fitspace:optimizer': 'adam', 'fitspace:lr': 0.002640300968726753, 'fitspace:momentum': 0.9144539080698659, 'fitspace:pretrained': True}}, {'TASK_ID': 11, 'Config': {'fitspace:model': 'resnet18_v1', 'fitspace:optimizer': 'sgd', 'fitspace:lr': 0.0005495727581112548, 'fitspace:momentum': 0.8809843595265633, 'fitspace:pretrained': True}}, {'TASK_ID': 13, 'Config': {'fitspace:model': 'resnet152_v1', 'fitspace:optimizer': 'adam', 'fitspace:lr': 0.002401642765615183, 'fitspace:momentum': 0.870950129086579, 'fitspace:pretrained': False}}, {'TASK_ID': 10, 'Config': {'fitspace:model': 'resnet101_v1', 'fitspace:optimizer': 'sgd', 'fitspace:lr': 0.0014994080002937063, 'fitspace:momentum': 0.8833113420757986, 'fitspace:pretrained': False}}, {'TASK_ID': 14, 'Config': {'fitspace:model': 'resnet50_v1', 'fitspace:optimizer': 'adam', 'fitspace:lr': 0.0028760807955725168, 'fitspace:momentum': 0.8682381272089972, 'fitspace:pretrained': False}}, {'TASK_ID': 15, 'Config': {'fitspace:model': 'resnet18_v1', 'fitspace:optimizer': 'adam', 'fitspace:lr': 0.0033111035306047586, 'fitspace:momentum': 0.867339432479708, 'fitspace:pretrained': True}}, {'TASK_ID': 17, 'Config': {'fitspace:model': 'resnet50_v1', 'fitspace:optimizer': 'adam', 'fitspace:lr': 0.0012459037759963774, 'fitspace:momentum': 0.9398654593241734, 'fitspace:pretrained': False}}, {'TASK_ID': 20, 'Config': {'fitspace:model': 'resnet101_v1', 'fitspace:optimizer': 'adam', 'fitspace:lr': 0.002774061492399318, 'fitspace:momentum': 0.8732060211141387, 'fitspace:pretrained': True}}, {'TASK_ID': 18, 'Config': {'fitspace:model': 'resnet101_v1', 'fitspace:optimizer': 'sgd', 'fitspace:lr': 0.0005298315142590687, 'fitspace:momentum': 0.9072078887600064, 'fitspace:pretrained': False}}, {'TASK_ID': 16, 'Config': {'fitspace:model': 'resnet34_v1', 'fitspace:optimizer': 'sgd', 'fitspace:lr': 0.00031481040578668036, 'fitspace:momentum': 0.9072226656925563, 'fitspace:pretrained': False}}, {'TASK_ID': 25, 'Config': {'fitspace:model': 'resnet34_v1', 'fitspace:optimizer': 'adam', 'fitspace:lr': 0.00584164698712833, 'fitspace:momentum': 0.9226485126914199, 'fitspace:pretrained': False}}, {'TASK_ID': 24, 'Config': {'fitspace:model': 'resnet152_v1', 'fitspace:optimizer': 'sgd', 'fitspace:lr': 0.0002088257596487824, 'fitspace:momentum': 0.939103663760496, 'fitspace:pretrained': True}}, {'TASK_ID': 23, 'Config': {'fitspace:model': 'resnet152_v1', 'fitspace:optimizer': 'adam', 'fitspace:lr': 0.0001589776052132323, 'fitspace:momentum': 0.9111495470259211, 'fitspace:pretrained': False}}, {'TASK_ID': 21, 'Config': {'fitspace:model': 'resnet34_v1', 'fitspace:optimizer': 'adam', 'fitspace:lr': 0.0032273279121336177, 'fitspace:momentum': 0.859931797996495, 'fitspace:pretrained': False}}, {'TASK_ID': 22, 'Config': {'fitspace:model': 'resnet34_v1', 'fitspace:optimizer': 'sgd', 'fitspace:lr': 0.0006172855147563835, 'fitspace:momentum': 0.8980994964554123, 'fitspace:pretrained': False}}]\n"
     ]
    },
    {
     "name": "stderr",
     "output_type": "stream",
     "text": [
      "DEBUG:autogluon.scheduler.reporter:StatusReporter reporting: {\"epoch\": 5, \"accuracy\": 0.35424, \"time_this_iter\": 17.10438585281372}\n",
      "DEBUG:autogluon.scheduler.reporter:StatusReporter reporting: {\"epoch\": 6, \"accuracy\": 0.37033333333333335, \"time_this_iter\": 19.984201669692993}\n",
      "DEBUG:autogluon.scheduler.reporter:StatusReporter reporting: {\"epoch\": 7, \"accuracy\": 0.3848714285714286, \"time_this_iter\": 18.978421688079834}\n",
      "DEBUG:autogluon.scheduler.reporter:StatusReporter reporting: {\"epoch\": 8, \"accuracy\": 0.39755, \"time_this_iter\": 18.220662593841553}\n",
      "DEBUG:autogluon.scheduler.reporter:StatusReporter reporting: {\"epoch\": 9, \"accuracy\": 0.4087777777777778, \"time_this_iter\": 18.849393844604492}\n",
      "DEBUG:autogluon.scheduler.reporter:StatusReporter reporting: {\"epoch\": 10, \"accuracy\": 0.41849, \"time_this_iter\": 18.799818992614746}\n",
      "DEBUG:autogluon.scheduler.hyperband:Removing task Task(TASK_ID: 19) Task(fn=<function train_image_classification at 0x7fc60f3129d8>, args={'args': Namespace(epochs=10, lr=0.0001, model='resnet18_v1', optimizer='sgd', pretrained=True, train_data='./CIFAR10/train', val_data='./CIFAR10/valid'), 'config': {'fitspace:model': 'resnet18_v1', 'fitspace:optimizer': 'adam', 'fitspace:lr': 0.0021771757153342584, 'fitspace:momentum': 0.9052141403297904, 'fitspace:pretrained': False}, 'reporter': <autogluon.scheduler.reporter.StatusReporter object at 0x7fc604fa8da0>}, resources=Resources(nCPUs = 4, CPU_IDs = {[4, 5, 6, 7]}, nGPUs = 1, GPU_IDs = {[1]}))) due to low performance\n",
      "INFO:autogluon.searcher.searcher:Finished Task with config: {\"fitspace:model\": \"resnet18_v1\", \"fitspace:optimizer\": \"adam\", \"fitspace:lr\": 0.0021771757153342584, \"fitspace:momentum\": 0.9052141403297904, \"fitspace:pretrained\": false} and reward: 0.41849\n",
      "DEBUG:autogluon.scheduler.fifo:Saving Checkerpoint\n",
      "DEBUG:autogluon.scheduler.scheduler:State_Dict cls.FINISHED_TASKS: [{'TASK_ID': 6, 'Config': {'fitspace:model': 'resnet101_v1', 'fitspace:optimizer': 'adam', 'fitspace:lr': 0.054054546569617355, 'fitspace:momentum': 0.8933316015571741, 'fitspace:pretrained': False}}, {'TASK_ID': 5, 'Config': {'fitspace:model': 'resnet50_v1', 'fitspace:optimizer': 'adam', 'fitspace:lr': 0.051449363058242444, 'fitspace:momentum': 0.949490038379711, 'fitspace:pretrained': True}}, {'TASK_ID': 1, 'Config': {'fitspace:model': 'resnet101_v1', 'fitspace:optimizer': 'adam', 'fitspace:lr': 0.0007320528860097534, 'fitspace:momentum': 0.8963548623074746, 'fitspace:pretrained': True}}, {'TASK_ID': 4, 'Config': {'fitspace:model': 'resnet101_v1', 'fitspace:optimizer': 'sgd', 'fitspace:lr': 0.00011439853150538504, 'fitspace:momentum': 0.8976251690765387, 'fitspace:pretrained': True}}, {'TASK_ID': 2, 'Config': {'fitspace:model': 'resnet101_v1', 'fitspace:optimizer': 'adam', 'fitspace:lr': 0.00023908109292535915, 'fitspace:momentum': 0.9076814210325074, 'fitspace:pretrained': True}}, {'TASK_ID': 7, 'Config': {'fitspace:model': 'resnet101_v1', 'fitspace:optimizer': 'adam', 'fitspace:lr': 0.05940524465608096, 'fitspace:momentum': 0.9046463734282049, 'fitspace:pretrained': True}}, {'TASK_ID': 3, 'Config': {'fitspace:model': 'resnet34_v1', 'fitspace:optimizer': 'adam', 'fitspace:lr': 0.0005079539351678317, 'fitspace:momentum': 0.8778933467495841, 'fitspace:pretrained': False}}, {'TASK_ID': 0, 'Config': {'fitspace:model': 'resnet34_v1', 'fitspace:optimizer': 'sgd', 'fitspace:lr': 0.00010478116717265095, 'fitspace:momentum': 0.8816854227138787, 'fitspace:pretrained': True}}, {'TASK_ID': 9, 'Config': {'fitspace:model': 'resnet18_v1', 'fitspace:optimizer': 'sgd', 'fitspace:lr': 0.02190646089905803, 'fitspace:momentum': 0.8722154198942891, 'fitspace:pretrained': True}}, {'TASK_ID': 8, 'Config': {'fitspace:model': 'resnet18_v1', 'fitspace:optimizer': 'sgd', 'fitspace:lr': 0.00039744248054141424, 'fitspace:momentum': 0.9389562843488237, 'fitspace:pretrained': False}}, {'TASK_ID': 12, 'Config': {'fitspace:model': 'resnet50_v1', 'fitspace:optimizer': 'adam', 'fitspace:lr': 0.002640300968726753, 'fitspace:momentum': 0.9144539080698659, 'fitspace:pretrained': True}}, {'TASK_ID': 11, 'Config': {'fitspace:model': 'resnet18_v1', 'fitspace:optimizer': 'sgd', 'fitspace:lr': 0.0005495727581112548, 'fitspace:momentum': 0.8809843595265633, 'fitspace:pretrained': True}}, {'TASK_ID': 13, 'Config': {'fitspace:model': 'resnet152_v1', 'fitspace:optimizer': 'adam', 'fitspace:lr': 0.002401642765615183, 'fitspace:momentum': 0.870950129086579, 'fitspace:pretrained': False}}, {'TASK_ID': 10, 'Config': {'fitspace:model': 'resnet101_v1', 'fitspace:optimizer': 'sgd', 'fitspace:lr': 0.0014994080002937063, 'fitspace:momentum': 0.8833113420757986, 'fitspace:pretrained': False}}, {'TASK_ID': 14, 'Config': {'fitspace:model': 'resnet50_v1', 'fitspace:optimizer': 'adam', 'fitspace:lr': 0.0028760807955725168, 'fitspace:momentum': 0.8682381272089972, 'fitspace:pretrained': False}}, {'TASK_ID': 15, 'Config': {'fitspace:model': 'resnet18_v1', 'fitspace:optimizer': 'adam', 'fitspace:lr': 0.0033111035306047586, 'fitspace:momentum': 0.867339432479708, 'fitspace:pretrained': True}}, {'TASK_ID': 17, 'Config': {'fitspace:model': 'resnet50_v1', 'fitspace:optimizer': 'adam', 'fitspace:lr': 0.0012459037759963774, 'fitspace:momentum': 0.9398654593241734, 'fitspace:pretrained': False}}, {'TASK_ID': 20, 'Config': {'fitspace:model': 'resnet101_v1', 'fitspace:optimizer': 'adam', 'fitspace:lr': 0.002774061492399318, 'fitspace:momentum': 0.8732060211141387, 'fitspace:pretrained': True}}, {'TASK_ID': 18, 'Config': {'fitspace:model': 'resnet101_v1', 'fitspace:optimizer': 'sgd', 'fitspace:lr': 0.0005298315142590687, 'fitspace:momentum': 0.9072078887600064, 'fitspace:pretrained': False}}, {'TASK_ID': 16, 'Config': {'fitspace:model': 'resnet34_v1', 'fitspace:optimizer': 'sgd', 'fitspace:lr': 0.00031481040578668036, 'fitspace:momentum': 0.9072226656925563, 'fitspace:pretrained': False}}, {'TASK_ID': 25, 'Config': {'fitspace:model': 'resnet34_v1', 'fitspace:optimizer': 'adam', 'fitspace:lr': 0.00584164698712833, 'fitspace:momentum': 0.9226485126914199, 'fitspace:pretrained': False}}, {'TASK_ID': 24, 'Config': {'fitspace:model': 'resnet152_v1', 'fitspace:optimizer': 'sgd', 'fitspace:lr': 0.0002088257596487824, 'fitspace:momentum': 0.939103663760496, 'fitspace:pretrained': True}}, {'TASK_ID': 23, 'Config': {'fitspace:model': 'resnet152_v1', 'fitspace:optimizer': 'adam', 'fitspace:lr': 0.0001589776052132323, 'fitspace:momentum': 0.9111495470259211, 'fitspace:pretrained': False}}, {'TASK_ID': 21, 'Config': {'fitspace:model': 'resnet34_v1', 'fitspace:optimizer': 'adam', 'fitspace:lr': 0.0032273279121336177, 'fitspace:momentum': 0.859931797996495, 'fitspace:pretrained': False}}, {'TASK_ID': 22, 'Config': {'fitspace:model': 'resnet34_v1', 'fitspace:optimizer': 'sgd', 'fitspace:lr': 0.0006172855147563835, 'fitspace:momentum': 0.8980994964554123, 'fitspace:pretrained': False}}, {'TASK_ID': 19, 'Config': {'fitspace:model': 'resnet18_v1', 'fitspace:optimizer': 'adam', 'fitspace:lr': 0.0021771757153342584, 'fitspace:momentum': 0.9052141403297904, 'fitspace:pretrained': False}}]\n",
      "INFO:autogluon.scheduler.fifo:Saving Training Curve in checkpoint/demo.png\n",
      "DEBUG:autogluon.task.image_classification.core:Finished.\n",
      "DEBUG:autogluon.task.image_classification.core:Finished.\n"
     ]
    },
    {
     "data": {
      "image/png": "[encoded data removed]",
      "text/plain": [
       "<Figure size 432x288 with 1 Axes>"
      ]
     },
     "metadata": {},
     "output_type": "display_data"
    }
   ],
   "source": [
    "models = task.fit(dataset,\n",
    "                  nets,\n",
    "                  optimizers,\n",
    "                  searcher=searcher,\n",
    "                  trial_scheduler=trial_scheduler,\n",
    "                  resume=resume,\n",
    "                  savedir=savedir,\n",
    "                  stop_criterion=stop_criterion,\n",
    "                  resources_per_trial=resources_per_trial)"
   ]
  },
  {
   "cell_type": "markdown",
   "metadata": {},
   "source": [
    "The best accuracy is"
   ]
  },
  {
   "cell_type": "code",
   "execution_count": 39,
   "metadata": {},
   "outputs": [
    {
     "name": "stdout",
     "output_type": "stream",
     "text": [
      "0.41849\n"
     ]
    }
   ],
   "source": [
    "print(models[1])"
   ]
  },
  {
   "cell_type": "markdown",
   "metadata": {},
   "source": [
    "The associated best configuration is:"
   ]
  },
  {
   "cell_type": "code",
   "execution_count": 40,
   "metadata": {},
   "outputs": [
    {
     "name": "stdout",
     "output_type": "stream",
     "text": [
      "{'fitspace:model': 'resnet18_v1', 'fitspace:optimizer': 'adam', 'fitspace:lr': 0.0021771757153342584, 'fitspace:momentum': 0.9052141403297904, 'fitspace:pretrained': False}\n"
     ]
    }
   ],
   "source": [
    "print(models[2])"
   ]
  },
  {
   "cell_type": "markdown",
   "metadata": {},
   "source": [
    "## Refereces"
   ]
  },
  {
   "cell_type": "markdown",
   "metadata": {},
   "source": [
    "* code: https://code.amazon.com/packages/AutoGluon/trees/heads/mainline \n",
    "* API design: https://quip-amazon.com/aaGsAS9lY3WU/AutoGluon-API\n",
    "* Implementation roadmap: https://quip-amazon.com/zlQUAjSWBc3c/AutoGluon-System-Implementation-Roadmap"
   ]
  }
 ],
 "metadata": {
  "kernelspec": {
   "display_name": "Python 3",
   "language": "python",
   "name": "python3"
  },
  "language_info": {
   "codemirror_mode": {
    "name": "ipython",
    "version": 3
   },
   "file_extension": ".py",
   "mimetype": "text/x-python",
   "name": "python",
   "nbconvert_exporter": "python",
   "pygments_lexer": "ipython3",
   "version": "3.6.5"
  }
 },
 "nbformat": 4,
 "nbformat_minor": 2
}
