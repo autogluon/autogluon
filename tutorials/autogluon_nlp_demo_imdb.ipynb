{
 "cells": [
  {
   "cell_type": "markdown",
   "metadata": {},
   "source": [
    "# AutoGluon"
   ]
  },
  {
   "cell_type": "markdown",
   "metadata": {},
   "source": [
    "## Preparation\n",
    "\n",
    "### Install AutoGluon\n",
    "\n",
    "```bash\n",
    "git clone ssh://git.amazon.com/pkg/AutoGluon\n",
    "cd AutoGluon\n",
    "python setup.py develop\n",
    "```"
   ]
  },
  {
   "cell_type": "markdown",
   "metadata": {},
   "source": [
    "### Import Task\n",
    "\n",
    "We are using text classification as an example in this notebook."
   ]
  },
  {
   "cell_type": "code",
   "execution_count": 1,
   "metadata": {},
   "outputs": [
    {
     "name": "stdout",
     "output_type": "stream",
     "text": [
      "WARNING: Not monitoring node memory since `psutil` is not installed. Install this with `pip install psutil` (or ray[debug]) to enable debugging of memory-related crashes.\n"
     ]
    }
   ],
   "source": [
    "from autogluon import text_classification as task\n",
    "\n",
    "import logging\n",
    "logging.basicConfig(level=logging.INFO)"
   ]
  },
  {
   "cell_type": "markdown",
   "metadata": {},
   "source": [
    "## A Quick Text Classification Example\n",
    "\n",
    "We first show the most basic usage by first creating a dataset and then fiting the dataset to generate the results with the text classification example. We will use IMDB Movie Reviews Dataset for this tutorial."
   ]
  },
  {
   "cell_type": "markdown",
   "metadata": {},
   "source": [
    "### Create AutoGluon Dataset\n",
    "\n",
    "We use Imdb movie reviews dataset"
   ]
  },
  {
   "cell_type": "code",
   "execution_count": 2,
   "metadata": {},
   "outputs": [],
   "source": [
    "dataset = task.Dataset(name='imdb') # case insentive \n",
    "# TODO. show a quick summary of the dataset, e.g. #example for train, #classes"
   ]
  },
  {
   "cell_type": "markdown",
   "metadata": {},
   "source": [
    "The constructed dataset contains the `gluon.data.DataLoader` for training and validation datasets."
   ]
  },
  {
   "cell_type": "markdown",
   "metadata": {},
   "source": [
    "Then we will use the default configuration of the text classification to generate:\n",
    "* Best result of the search in terms of validation accuracy\n",
    "* Get the best configuration corresponding to the best result obtained.\n",
    "    \n",
    "To acheive this, we are using `fit` function to generate the above results based on the datasets.\n",
    "\n",
    "The default configruation is based on `max_trial_count=5` and `max_training_epochs=5`."
   ]
  },
  {
   "cell_type": "code",
   "execution_count": null,
   "metadata": {},
   "outputs": [
    {
     "name": "stderr",
     "output_type": "stream",
     "text": [
      "INFO:autogluon.scheduler.fifo:Starting Experiments\n",
      "INFO:autogluon.scheduler.fifo:Num of Finished Tasks is 0\n",
      "INFO:autogluon.scheduler.fifo:Num of Pending Tasks is 2\n",
      "INFO:autogluon.scheduler.fifo:Adding A New Task Task(TASK_ID: 0) Task(fn=<function train_text_classification at 0x7f03ecce9c80>, args={'args': Namespace(data_name='imdb', epochs=4, num_gpus=4, pretrained=True, train_path='/home/ubuntu/automodel/tutorials/data/train.json', val_path='/home/ubuntu/automodel/tutorials/data/test.json'), 'config': {'batch_size': 32, 'model': 'awd_lstm_lm_1150', 'optimizer': 'ftml', 'dense_layers': 3, 'dropout': 0.3718982344451609, 'lr': 0.0012528029294035755, 'momentum': 0.8611782846744067, 'pretrained': False}}, resources=Resources(nCPUs = 4, nGPUs = 4)))\n",
      "INFO:autogluon.scheduler.fifo:Adding A New Task Task(TASK_ID: 1) Task(fn=<function train_text_classification at 0x7f03ecce9c80>, args={'args': Namespace(data_name='imdb', epochs=4, num_gpus=4, pretrained=True, train_path='/home/ubuntu/automodel/tutorials/data/train.json', val_path='/home/ubuntu/automodel/tutorials/data/test.json'), 'config': {'batch_size': 16, 'model': 'awd_lstm_lm_1150', 'optimizer': 'sgd', 'dense_layers': 3, 'dropout': 0.1168170507152076, 'lr': 0.021563050137086807, 'momentum': 0.868665987656075, 'pretrained': False}}, resources=Resources(nCPUs = 4, nGPUs = 4)))\n",
      "INFO:autogluon.task.text_classification.pipeline:Task ID : 0, args : Namespace(batch_size=32, data_name='imdb', dense_layers=3, dropout=0.3718982344451609, epochs=4, lr=0.0012528029294035755, model='awd_lstm_lm_1150', momentum=0.8611782846744067, num_gpus=4, optimizer='ftml', pretrained=False, train_path='/home/ubuntu/automodel/tutorials/data/train.json', val_path='/home/ubuntu/automodel/tutorials/data/test.json')\n",
      "INFO:autogluon.task.text_classification.pipeline:Task ID : 1, args : Namespace(batch_size=16, data_name='imdb', dense_layers=3, dropout=0.1168170507152076, epochs=4, lr=0.021563050137086807, model='awd_lstm_lm_1150', momentum=0.868665987656075, num_gpus=4, optimizer='sgd', pretrained=False, train_path='/home/ubuntu/automodel/tutorials/data/train.json', val_path='/home/ubuntu/automodel/tutorials/data/test.json')\n",
      "/home/ubuntu/anaconda3/envs/ag/lib/python3.7/site-packages/mxnet/gluon/block.py:520: UserWarning: All children of this Sequential layer 'textclassificationnet0_sequential0_' are HybridBlocks. Consider using HybridSequential for the best performance.\n",
      "  cld.hybridize(active, **kwargs)\n",
      "/home/ubuntu/anaconda3/envs/ag/lib/python3.7/site-packages/mxnet/gluon/block.py:520: UserWarning: All children of this Sequential layer 'awdrnn0_sequential0_' are HybridBlocks. Consider using HybridSequential for the best performance.\n",
      "  cld.hybridize(active, **kwargs)\n",
      "INFO:autogluon.task.text_classification.pipeline:Task ID : 0, network : TextClassificationNet(\n",
      "  (embedding): HybridSequential(\n",
      "    (0): Embedding(33278 -> 400, float32)\n",
      "    (1): Dropout(p = 0.65, axes=(0,))\n",
      "  )\n",
      "  (encoder): Sequential(\n",
      "    (0): LSTM(400 -> 1150, TNC)\n",
      "    (1): LSTM(1150 -> 1150, TNC)\n",
      "    (2): LSTM(1150 -> 400, TNC)\n",
      "  )\n",
      "  (agg_layer): MeanPoolingLayer(\n",
      "  \n",
      "  )\n",
      "  (output): Sequential(\n",
      "    (0): Dropout(p = 0.3718982344451609, axes=())\n",
      "    (1): Dense(None -> 40, linear)\n",
      "    (2): Dropout(p = 0.3718982344451609, axes=())\n",
      "    (3): Dense(None -> 20, linear)\n",
      "    (4): Dropout(p = 0.3718982344451609, axes=())\n",
      "    (5): Dense(None -> 10, linear)\n",
      "    (6): Dropout(p = 0.3718982344451609, axes=())\n",
      "    (7): Dense(None -> 2, linear)\n",
      "  )\n",
      ")\n",
      "/home/ubuntu/anaconda3/envs/ag/lib/python3.7/site-packages/mxnet/gluon/block.py:520: UserWarning: All children of this Sequential layer 'textclassificationnet0_sequential0_' are HybridBlocks. Consider using HybridSequential for the best performance.\n",
      "  cld.hybridize(active, **kwargs)\n",
      "/home/ubuntu/anaconda3/envs/ag/lib/python3.7/site-packages/mxnet/gluon/block.py:520: UserWarning: All children of this Sequential layer 'awdrnn0_sequential0_' are HybridBlocks. Consider using HybridSequential for the best performance.\n",
      "  cld.hybridize(active, **kwargs)\n",
      "INFO:autogluon.task.text_classification.pipeline:Task ID : 1, network : TextClassificationNet(\n",
      "  (embedding): HybridSequential(\n",
      "    (0): Embedding(33278 -> 400, float32)\n",
      "    (1): Dropout(p = 0.65, axes=(0,))\n",
      "  )\n",
      "  (encoder): Sequential(\n",
      "    (0): LSTM(400 -> 1150, TNC)\n",
      "    (1): LSTM(1150 -> 1150, TNC)\n",
      "    (2): LSTM(1150 -> 400, TNC)\n",
      "  )\n",
      "  (agg_layer): MeanPoolingLayer(\n",
      "  \n",
      "  )\n",
      "  (output): Sequential(\n",
      "    (0): Dropout(p = 0.1168170507152076, axes=())\n",
      "    (1): Dense(None -> 40, linear)\n",
      "    (2): Dropout(p = 0.1168170507152076, axes=())\n",
      "    (3): Dense(None -> 20, linear)\n",
      "    (4): Dropout(p = 0.1168170507152076, axes=())\n",
      "    (5): Dense(None -> 10, linear)\n",
      "    (6): Dropout(p = 0.1168170507152076, axes=())\n",
      "    (7): Dense(None -> 2, linear)\n",
      "  )\n",
      ")\n",
      "/home/ubuntu/automodel/autogluon/estimator/estimator.py:355: UserWarning: You are training with the following default event handlers: MetricHandler, ValidationHandler, LoggingHandler, DataLoaderHandler. They use loss and metrics from estimator.prepare_loss_and_metrics(). Please use the same set of metrics for all your other handlers.\n",
      "  warnings.warn(msg)\n",
      "Training begin: using optimizer FTML with current learning rate 0.0013 \n",
      "INFO:autogluon.estimator.event_handler:Training begin: using optimizer FTML with current learning rate 0.0013 \n",
      "Train for 4 epochs.\n",
      "INFO:autogluon.estimator.event_handler:Train for 4 epochs.\n",
      "[Epoch 0] Begin, current learning rate: 0.0013\n",
      "INFO:autogluon.estimator.event_handler:[Epoch 0] Begin, current learning rate: 0.0013\n",
      "/home/ubuntu/automodel/autogluon/estimator/estimator.py:355: UserWarning: You are training with the following default event handlers: MetricHandler, ValidationHandler, LoggingHandler, DataLoaderHandler. They use loss and metrics from estimator.prepare_loss_and_metrics(). Please use the same set of metrics for all your other handlers.\n",
      "  warnings.warn(msg)\n",
      "Training begin: using optimizer FTML with current learning rate 0.0216 \n",
      "INFO:autogluon.estimator.event_handler:Training begin: using optimizer FTML with current learning rate 0.0216 \n",
      "Train for 4 epochs.\n",
      "INFO:autogluon.estimator.event_handler:Train for 4 epochs.\n",
      "[Epoch 0] Begin, current learning rate: 0.0216\n",
      "INFO:autogluon.estimator.event_handler:[Epoch 0] Begin, current learning rate: 0.0216\n"
     ]
    }
   ],
   "source": [
    "results = task.fit(dataset)"
   ]
  },
  {
   "cell_type": "markdown",
   "metadata": {},
   "source": [
    "The best accuracy is:"
   ]
  },
  {
   "cell_type": "code",
   "execution_count": null,
   "metadata": {},
   "outputs": [],
   "source": [
    "print(results.metric)"
   ]
  },
  {
   "cell_type": "markdown",
   "metadata": {},
   "source": [
    "The associated best configuration is:"
   ]
  },
  {
   "cell_type": "code",
   "execution_count": null,
   "metadata": {},
   "outputs": [],
   "source": [
    "print(results.config)"
   ]
  },
  {
   "cell_type": "markdown",
   "metadata": {},
   "source": [
    "Total time cost is:"
   ]
  },
  {
   "cell_type": "code",
   "execution_count": null,
   "metadata": {},
   "outputs": [],
   "source": [
    "print('%.2f s' % results.time)"
   ]
  },
  {
   "cell_type": "markdown",
   "metadata": {},
   "source": [
    "## A Step-by-step Text Classification Example\n",
    "\n",
    "We first introduce the basic configuration `autogluon.space`, which is used to represent the search space of each task components, we will then go throught each components, including \n",
    "\n",
    "* `autogluon.Dataset`\n",
    "* `autogluon.Nets`\n",
    "* `autogluon.Optimizers`\n",
    "* `autogluon.Losses`\n",
    "* `autogluon.Metrics`\n",
    "\n",
    "and finally put all together to `fit` to generate best results."
   ]
  },
  {
   "cell_type": "markdown",
   "metadata": {},
   "source": [
    "### Import AutoGluon"
   ]
  },
  {
   "cell_type": "code",
   "execution_count": null,
   "metadata": {},
   "outputs": [],
   "source": [
    "import warnings\n",
    "warnings.filterwarnings(\"ignore\")\n",
    "\n",
    "import autogluon as ag"
   ]
  },
  {
   "cell_type": "markdown",
   "metadata": {},
   "source": [
    "### Create AutoGluon Space\n",
    "\n",
    "\n",
    "`autogluon.space` is a search space containing a set of configuration candidates.\n",
    "We provide three basic space types.\n",
    "\n",
    "* Categorical Space"
   ]
  },
  {
   "cell_type": "code",
   "execution_count": null,
   "metadata": {},
   "outputs": [],
   "source": [
    "list_space = ag.space.List('listspace', ['0', '1', '2'])\n",
    "print(list_space)"
   ]
  },
  {
   "cell_type": "markdown",
   "metadata": {},
   "source": [
    "* Linear Space"
   ]
  },
  {
   "cell_type": "code",
   "execution_count": null,
   "metadata": {},
   "outputs": [],
   "source": [
    "linear_space = ag.space.Linear('linspace', 0, 10)\n",
    "print(linear_space)"
   ]
  },
  {
   "cell_type": "markdown",
   "metadata": {},
   "source": [
    "* Log Space"
   ]
  },
  {
   "cell_type": "code",
   "execution_count": null,
   "metadata": {},
   "outputs": [],
   "source": [
    "log_space = ag.space.Log('logspace', 10**-10, 10**-1)\n",
    "print(log_space)"
   ]
  },
  {
   "cell_type": "markdown",
   "metadata": {},
   "source": [
    "* An Example of Random Sample from the Combined Space"
   ]
  },
  {
   "cell_type": "code",
   "execution_count": null,
   "metadata": {},
   "outputs": [],
   "source": [
    "print(ag.space.sample_configuration([list_space, linear_space, log_space]))"
   ]
  },
  {
   "cell_type": "markdown",
   "metadata": {},
   "source": [
    "We then will use `autogluon.Nets` and `autogluon.Optimizers` as examples to show the usage of auto objects. The remainining auto objects are using default value.\n",
    "\n",
    "### Create AutoGluon Nets\n",
    "\n",
    "`autogluon.Nets` is a list of auto networks, and allows search for the best net\n",
    "\n",
    "* from a list of provided (or default) networks\n",
    "* by choosing the best architecture regarding to each auto net."
   ]
  },
  {
   "cell_type": "code",
   "execution_count": null,
   "metadata": {},
   "outputs": [],
   "source": [
    "# type of net_list is ag.space.List\n",
    "\n",
    "# method 1 (complex but flexiable): specify the net_list using get_model\n",
    "# net_list = [task.model_zoo.get_model('cifar_resnet20_v1'), # TODO: pretrained and pretrained_dataset would be supported\n",
    "#             task.model_zoo.get_model('cifar_resnet56_v1'),\n",
    "#             task.model_zoo.get_model('cifar_resnet110_v1')]\n",
    "\n",
    "# method 2 (easy and less flexiable): specify the net_list using model name\n",
    "net_list = ['standard_lstm_lm_200',\n",
    "            'awd_lstm_lm_600',\n",
    "            'awd_lstm_lm_1150']\n",
    "\n",
    "# default net list for text classification would be overwritten \n",
    "# if net_list is provided\n",
    "nets = ag.Nets(net_list)\n",
    "\n",
    "print(nets)"
   ]
  },
  {
   "cell_type": "markdown",
   "metadata": {},
   "source": [
    "### Create AutoGluon Optimizers\n",
    "\n",
    "`autogluon.Optimizers` defines a list of optimization algorithms that allows search for the best optimization algorithm \n",
    "\n",
    "* from a list of provided (or default) optimizers\n",
    "* by choosing the best hyper-parameters regarding to each auto optimizer"
   ]
  },
  {
   "cell_type": "code",
   "execution_count": null,
   "metadata": {},
   "outputs": [],
   "source": [
    "# method 1 (complex but flexiable): specify the optim_list using get_optim\n",
    "# optimizers = ag.Optimizers([ag.optim.get_optim('sgd'),\n",
    "#                             ag.optim.get_optim('adam')])\n",
    "\n",
    "# method 2 (easy and less flexiable): specify the optim_list using get_model\n",
    "optimizers = ag.Optimizers(['sgd', 'adam', 'ftml'])\n",
    "\n",
    "print(optimizers)"
   ]
  },
  {
   "cell_type": "markdown",
   "metadata": {},
   "source": [
    "### Create AutoGluon Fit - Put all together"
   ]
  },
  {
   "cell_type": "code",
   "execution_count": null,
   "metadata": {},
   "outputs": [],
   "source": [
    "stop_criterion = {\n",
    "    'time_limits': 1*60*60,\n",
    "    'max_metric': 0.80,\n",
    "    'max_trial_count': 5\n",
    "}\n",
    "\n",
    "resources_per_trial = {\n",
    "    'max_num_gpus': 4,\n",
    "    'max_num_cpus': 4,\n",
    "    'max_training_epochs': 5\n",
    "}\n",
    "\n",
    "results = task.fit(dataset,\n",
    "                   nets,\n",
    "                   optimizers,\n",
    "                   stop_criterion=stop_criterion,\n",
    "                   resources_per_trial=resources_per_trial)"
   ]
  },
  {
   "cell_type": "markdown",
   "metadata": {},
   "source": [
    "The best accuracy is:"
   ]
  },
  {
   "cell_type": "code",
   "execution_count": null,
   "metadata": {},
   "outputs": [],
   "source": [
    "print(results.val_accuracy)"
   ]
  },
  {
   "cell_type": "markdown",
   "metadata": {},
   "source": [
    "The best associated configuration is:"
   ]
  },
  {
   "cell_type": "code",
   "execution_count": null,
   "metadata": {},
   "outputs": [],
   "source": [
    "print(results.config)"
   ]
  },
  {
   "cell_type": "markdown",
   "metadata": {},
   "source": [
    "Total time cost is:"
   ]
  },
  {
   "cell_type": "code",
   "execution_count": null,
   "metadata": {},
   "outputs": [],
   "source": [
    "print('%.2f s' % results.time)"
   ]
  },
  {
   "cell_type": "markdown",
   "metadata": {},
   "source": [
    "## Refereces"
   ]
  },
  {
   "cell_type": "markdown",
   "metadata": {},
   "source": [
    "* code: https://code.amazon.com/packages/AutoGluon/trees/heads/mainline \n",
    "* API design: https://quip-amazon.com/aaGsAS9lY3WU/AutoGluon-API\n",
    "* Implementation roadmap: https://quip-amazon.com/zlQUAjSWBc3c/AutoGluon-System-Implementation-Roadmap"
   ]
  }
 ],
 "metadata": {
  "kernelspec": {
   "display_name": "Python 3",
   "language": "python",
   "name": "python3"
  },
  "language_info": {
   "codemirror_mode": {
    "name": "ipython",
    "version": 3
   },
   "file_extension": ".py",
   "mimetype": "text/x-python",
   "name": "python",
   "nbconvert_exporter": "python",
   "pygments_lexer": "ipython3",
   "version": "3.7.3"
  }
 },
 "nbformat": 4,
 "nbformat_minor": 2
}
