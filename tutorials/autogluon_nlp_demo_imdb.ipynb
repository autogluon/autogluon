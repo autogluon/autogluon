{
 "cells": [
  {
   "cell_type": "markdown",
   "metadata": {},
   "source": [
    "# AutoGluon"
   ]
  },
  {
   "cell_type": "markdown",
   "metadata": {},
   "source": [
    "## Preparation\n",
    "\n",
    "### Install AutoGluon\n",
    "\n",
    "```bash\n",
    "git clone ssh://git.amazon.com/pkg/AutoGluon\n",
    "cd AutoGluon\n",
    "python setup.py develop\n",
    "```"
   ]
  },
  {
   "cell_type": "markdown",
   "metadata": {},
   "source": [
    "### Import Task\n",
    "\n",
    "We are using text classification as an example in this notebook."
   ]
  },
  {
   "cell_type": "code",
   "execution_count": 1,
   "metadata": {},
   "outputs": [
    {
     "name": "stdout",
     "output_type": "stream",
     "text": [
      "WARNING: Not monitoring node memory since `psutil` is not installed. Install this with `pip install psutil` (or ray[debug]) to enable debugging of memory-related crashes.\n"
     ]
    }
   ],
   "source": [
    "from autogluon import text_classification as task\n",
    "\n",
    "import logging\n",
    "logging.basicConfig(level=logging.INFO)"
   ]
  },
  {
   "cell_type": "markdown",
   "metadata": {},
   "source": [
    "## A Quick Text Classification Example\n",
    "\n",
    "We first show the most basic usage by first creating a dataset and then fiting the dataset to generate the results with the text classification example. We will use IMDB Movie Reviews Dataset for this tutorial."
   ]
  },
  {
   "cell_type": "markdown",
   "metadata": {},
   "source": [
    "### Create AutoGluon Dataset\n",
    "\n",
    "We use Imdb movie reviews dataset"
   ]
  },
  {
   "cell_type": "code",
   "execution_count": 2,
   "metadata": {},
   "outputs": [],
   "source": [
    "dataset = task.Dataset(name='imdb') # case insentive \n",
    "# TODO. show a quick summary of the dataset, e.g. #example for train, #classes"
   ]
  },
  {
   "cell_type": "markdown",
   "metadata": {},
   "source": [
    "The constructed dataset contains the `gluon.data.DataLoader` for training and validation datasets."
   ]
  },
  {
   "cell_type": "markdown",
   "metadata": {},
   "source": [
    "Then we will use the default configuration of the text classification to generate:\n",
    "* Best result of the search in terms of validation accuracy\n",
    "* Get the best configuration corresponding to the best result obtained.\n",
    "    \n",
    "To acheive this, we are using `fit` function to generate the above results based on the datasets.\n",
    "\n",
    "The default configruation is based on `max_trial_count=5` and `max_training_epochs=5`."
   ]
  },
  {
   "cell_type": "code",
   "execution_count": 3,
   "metadata": {},
   "outputs": [
    {
     "name": "stderr",
     "output_type": "stream",
     "text": [
      "INFO:autogluon.scheduler.fifo:Starting Experiments\n",
      "INFO:autogluon.scheduler.fifo:Num of Finished Tasks is 0\n",
      "INFO:autogluon.scheduler.fifo:Num of Pending Tasks is 5\n",
      "INFO:autogluon.scheduler.fifo:Adding A New Task Task(TASK_ID: 0) Task(fn=<function train_text_classification at 0x7fba9c998c80>, args={'args': Namespace(data_name='imdb', epochs=4, num_gpus=4, pretrained=True, train_path='/home/ubuntu/automodel/tutorials/data/train.json', val_path='/home/ubuntu/automodel/tutorials/data/test.json'), 'config': {'batch_size': 8, 'model': 'awd_lstm_lm_1150', 'optimizer': 'adam', 'dense_layers': 3, 'dropout': 0.39302446938112373, 'lr': 0.0007063469499931298, 'momentum': 0.909523590080406, 'pretrained': False}}, resources=Resources(nCPUs = 4, nGPUs = 4)))\n",
      "INFO:autogluon.scheduler.fifo:Adding A New Task Task(TASK_ID: 1) Task(fn=<function train_text_classification at 0x7fba9c998c80>, args={'args': Namespace(data_name='imdb', epochs=4, num_gpus=4, pretrained=True, train_path='/home/ubuntu/automodel/tutorials/data/train.json', val_path='/home/ubuntu/automodel/tutorials/data/test.json'), 'config': {'batch_size': 64, 'model': 'standard_lstm_lm_650', 'optimizer': 'ftml', 'dense_layers': 1, 'dropout': 0.31889805899867313, 'lr': 0.0012071158601829903, 'momentum': 0.8632720332076421, 'pretrained': False}}, resources=Resources(nCPUs = 4, nGPUs = 4)))\n",
      "INFO:autogluon.task.text_classification.pipeline:Task ID : 0, args : Namespace(batch_size=8, data_name='imdb', dense_layers=3, dropout=0.39302446938112373, epochs=4, lr=0.0007063469499931298, model='awd_lstm_lm_1150', momentum=0.909523590080406, num_gpus=4, optimizer='adam', pretrained=False, train_path='/home/ubuntu/automodel/tutorials/data/train.json', val_path='/home/ubuntu/automodel/tutorials/data/test.json')\n",
      "INFO:autogluon.scheduler.fifo:Adding A New Task Task(TASK_ID: 2) Task(fn=<function train_text_classification at 0x7fba9c998c80>, args={'args': Namespace(data_name='imdb', epochs=4, num_gpus=4, pretrained=True, train_path='/home/ubuntu/automodel/tutorials/data/train.json', val_path='/home/ubuntu/automodel/tutorials/data/test.json'), 'config': {'batch_size': 16, 'model': 'standard_lstm_lm_200', 'optimizer': 'sgd', 'dense_layers': 3, 'dropout': 0.07908667442026335, 'lr': 0.004460820583220385, 'momentum': 0.869506617081187, 'pretrained': False}}, resources=Resources(nCPUs = 4, nGPUs = 4)))\n",
      "INFO:autogluon.task.text_classification.pipeline:Task ID : 1, args : Namespace(batch_size=64, data_name='imdb', dense_layers=1, dropout=0.31889805899867313, epochs=4, lr=0.0012071158601829903, model='standard_lstm_lm_650', momentum=0.8632720332076421, num_gpus=4, optimizer='ftml', pretrained=False, train_path='/home/ubuntu/automodel/tutorials/data/train.json', val_path='/home/ubuntu/automodel/tutorials/data/test.json')\n",
      "/home/ubuntu/anaconda3/envs/ag/lib/python3.7/site-packages/mxnet/gluon/block.py:520: UserWarning: All children of this Sequential layer 'textclassificationnet0_sequential0_' are HybridBlocks. Consider using HybridSequential for the best performance.\n",
      "  cld.hybridize(active, **kwargs)\n",
      "INFO:autogluon.task.text_classification.pipeline:Task ID : 1, network : TextClassificationNet(\n",
      "  (embedding): HybridSequential(\n",
      "    (0): Embedding(33278 -> 650, float32)\n",
      "    (1): Dropout(p = 0.5, axes=())\n",
      "  )\n",
      "  (encoder): LSTM(650 -> 650, TNC, num_layers=2, dropout=0.5)\n",
      "  (agg_layer): MeanPoolingLayer(\n",
      "  \n",
      "  )\n",
      "  (output): Sequential(\n",
      "    (0): Dropout(p = 0.31889805899867313, axes=())\n",
      "    (1): Dense(None -> 40, linear)\n",
      "    (2): Dropout(p = 0.31889805899867313, axes=())\n",
      "    (3): Dense(None -> 2, linear)\n",
      "  )\n",
      ")\n",
      "/home/ubuntu/anaconda3/envs/ag/lib/python3.7/site-packages/mxnet/gluon/block.py:520: UserWarning: All children of this Sequential layer 'textclassificationnet0_sequential0_' are HybridBlocks. Consider using HybridSequential for the best performance.\n",
      "  cld.hybridize(active, **kwargs)\n",
      "/home/ubuntu/anaconda3/envs/ag/lib/python3.7/site-packages/mxnet/gluon/block.py:520: UserWarning: All children of this Sequential layer 'awdrnn0_sequential0_' are HybridBlocks. Consider using HybridSequential for the best performance.\n",
      "  cld.hybridize(active, **kwargs)\n",
      "INFO:autogluon.task.text_classification.pipeline:Task ID : 0, network : TextClassificationNet(\n",
      "  (embedding): HybridSequential(\n",
      "    (0): Embedding(33278 -> 400, float32)\n",
      "    (1): Dropout(p = 0.65, axes=(0,))\n",
      "  )\n",
      "  (encoder): Sequential(\n",
      "    (0): LSTM(400 -> 1150, TNC)\n",
      "    (1): LSTM(1150 -> 1150, TNC)\n",
      "    (2): LSTM(1150 -> 400, TNC)\n",
      "  )\n",
      "  (agg_layer): MeanPoolingLayer(\n",
      "  \n",
      "  )\n",
      "  (output): Sequential(\n",
      "    (0): Dropout(p = 0.39302446938112373, axes=())\n",
      "    (1): Dense(None -> 40, linear)\n",
      "    (2): Dropout(p = 0.39302446938112373, axes=())\n",
      "    (3): Dense(None -> 20, linear)\n",
      "    (4): Dropout(p = 0.39302446938112373, axes=())\n",
      "    (5): Dense(None -> 10, linear)\n",
      "    (6): Dropout(p = 0.39302446938112373, axes=())\n",
      "    (7): Dense(None -> 2, linear)\n",
      "  )\n",
      ")\n",
      "/home/ubuntu/automodel/autogluon/estimator/estimator.py:355: UserWarning: You are training with the following default event handlers: MetricHandler, ValidationHandler, LoggingHandler, DataLoaderHandler. They use loss and metrics from estimator.prepare_loss_and_metrics(). Please use the same set of metrics for all your other handlers.\n",
      "  warnings.warn(msg)\n",
      "Training begin: using optimizer FTML with current learning rate 0.0007 \n",
      "INFO:autogluon.estimator.event_handler:Training begin: using optimizer FTML with current learning rate 0.0007 \n",
      "Train for 4 epochs.\n",
      "INFO:autogluon.estimator.event_handler:Train for 4 epochs.\n",
      "[Epoch 0] Begin, current learning rate: 0.0007\n",
      "INFO:autogluon.estimator.event_handler:[Epoch 0] Begin, current learning rate: 0.0007\n",
      "/home/ubuntu/automodel/autogluon/estimator/estimator.py:355: UserWarning: You are training with the following default event handlers: MetricHandler, ValidationHandler, LoggingHandler, DataLoaderHandler. They use loss and metrics from estimator.prepare_loss_and_metrics(). Please use the same set of metrics for all your other handlers.\n",
      "  warnings.warn(msg)\n",
      "Training begin: using optimizer FTML with current learning rate 0.0012 \n",
      "INFO:autogluon.estimator.event_handler:Training begin: using optimizer FTML with current learning rate 0.0012 \n",
      "Train for 4 epochs.\n",
      "INFO:autogluon.estimator.event_handler:Train for 4 epochs.\n",
      "[Epoch 0] Begin, current learning rate: 0.0012\n",
      "INFO:autogluon.estimator.event_handler:[Epoch 0] Begin, current learning rate: 0.0012\n",
      "INFO:autogluon.scheduler.reporter:StatusReporter reporting: {\"task_id\": 1, \"epoch\": 1, \"accuracy\": 0.71092, \"time_this_iter\": 117.56329464912415}\n",
      "[Epoch 0] Finished in 42.773s, train accuracy: 0.6732, train softmaxcrossentropyloss: 0.5945, validation accuracy: 0.7109, validation softmaxcrossentropyloss: 0.5460\n",
      "INFO:autogluon.estimator.event_handler:[Epoch 0] Finished in 42.773s, train accuracy: 0.6732, train softmaxcrossentropyloss: 0.5945, validation accuracy: 0.7109, validation softmaxcrossentropyloss: 0.5460\n",
      "[Epoch 1] Begin, current learning rate: 0.0012\n",
      "INFO:autogluon.estimator.event_handler:[Epoch 1] Begin, current learning rate: 0.0012\n",
      "INFO:autogluon.scheduler.reporter:StatusReporter reporting: {\"task_id\": 1, \"epoch\": 2, \"accuracy\": 0.86652, \"time_this_iter\": 54.335304975509644}\n",
      "[Epoch 1] Finished in 54.317s, train accuracy: 0.8694, train softmaxcrossentropyloss: 0.3227, validation accuracy: 0.8665, validation softmaxcrossentropyloss: 0.3157\n",
      "INFO:autogluon.estimator.event_handler:[Epoch 1] Finished in 54.317s, train accuracy: 0.8694, train softmaxcrossentropyloss: 0.3227, validation accuracy: 0.8665, validation softmaxcrossentropyloss: 0.3157\n",
      "[Epoch 2] Begin, current learning rate: 0.0012\n",
      "INFO:autogluon.estimator.event_handler:[Epoch 2] Begin, current learning rate: 0.0012\n",
      "INFO:autogluon.scheduler.reporter:StatusReporter reporting: {\"task_id\": 1, \"epoch\": 3, \"accuracy\": 0.8612, \"time_this_iter\": 55.36298084259033}\n",
      "[Epoch 2] Finished in 55.388s, train accuracy: 0.8973, train softmaxcrossentropyloss: 0.2607, validation accuracy: 0.8612, validation softmaxcrossentropyloss: 0.3254\n",
      "INFO:autogluon.estimator.event_handler:[Epoch 2] Finished in 55.388s, train accuracy: 0.8973, train softmaxcrossentropyloss: 0.2607, validation accuracy: 0.8612, validation softmaxcrossentropyloss: 0.3254\n"
     ]
    },
    {
     "name": "stderr",
     "output_type": "stream",
     "text": [
      "[Epoch 3] Begin, current learning rate: 0.0012\n",
      "INFO:autogluon.estimator.event_handler:[Epoch 3] Begin, current learning rate: 0.0012\n",
      "INFO:autogluon.scheduler.reporter:StatusReporter reporting: {\"task_id\": 1, \"epoch\": 4, \"accuracy\": 0.86328, \"time_this_iter\": 60.73129653930664}\n",
      "[Epoch 3] Finished in 60.699s, train accuracy: 0.9154, train softmaxcrossentropyloss: 0.2232, validation accuracy: 0.8633, validation softmaxcrossentropyloss: 0.3368\n",
      "INFO:autogluon.estimator.event_handler:[Epoch 3] Finished in 60.699s, train accuracy: 0.9154, train softmaxcrossentropyloss: 0.2232, validation accuracy: 0.8633, validation softmaxcrossentropyloss: 0.3368\n",
      "Train finished using total 213s with 4 epochs. train accuracy: 0.9154, train softmaxcrossentropyloss: 0.2232, validation accuracy: 0.8633, validation softmaxcrossentropyloss: 0.3368\n",
      "INFO:autogluon.estimator.event_handler:Train finished using total 213s with 4 epochs. train accuracy: 0.9154, train softmaxcrossentropyloss: 0.2232, validation accuracy: 0.8633, validation softmaxcrossentropyloss: 0.3368\n",
      "INFO:autogluon.scheduler.reporter:StatusReporter reporting: {\"done\": true, \"time_this_iter\": 0.399198055267334}\n",
      "INFO:autogluon.scheduler.fifo:Adding A New Task Task(TASK_ID: 3) Task(fn=<function train_text_classification at 0x7fba9c998c80>, args={'args': Namespace(data_name='imdb', epochs=4, num_gpus=4, pretrained=True, train_path='/home/ubuntu/automodel/tutorials/data/train.json', val_path='/home/ubuntu/automodel/tutorials/data/test.json'), 'config': {'batch_size': 16, 'model': 'standard_lstm_lm_200', 'optimizer': 'ftml', 'dense_layers': 1, 'dropout': 0.14373051998240405, 'lr': 0.03203140727971793, 'momentum': 0.8784114869723793, 'pretrained': False}}, resources=Resources(nCPUs = 4, nGPUs = 4)))\n",
      "INFO:autogluon.task.text_classification.pipeline:Task ID : 2, args : Namespace(batch_size=16, data_name='imdb', dense_layers=3, dropout=0.07908667442026335, epochs=4, lr=0.004460820583220385, model='standard_lstm_lm_200', momentum=0.869506617081187, num_gpus=4, optimizer='sgd', pretrained=False, train_path='/home/ubuntu/automodel/tutorials/data/train.json', val_path='/home/ubuntu/automodel/tutorials/data/test.json')\n",
      "INFO:autogluon.searcher.searcher: INSIDE UPDATE METHOD \n",
      "INFO:autogluon.searcher.searcher:Finished Task with config: {\"batch_size\": 64, \"model\": \"standard_lstm_lm_650\", \"optimizer\": \"ftml\", \"dense_layers\": 1, \"dropout\": 0.31889805899867313, \"lr\": 0.0012071158601829903, \"momentum\": 0.8632720332076421, \"pretrained\": false} and reward: 0.86328\n",
      "/home/ubuntu/anaconda3/envs/ag/lib/python3.7/site-packages/mxnet/gluon/block.py:520: UserWarning: All children of this Sequential layer 'textclassificationnet0_sequential0_' are HybridBlocks. Consider using HybridSequential for the best performance.\n",
      "  cld.hybridize(active, **kwargs)\n",
      "INFO:autogluon.task.text_classification.pipeline:Task ID : 2, network : TextClassificationNet(\n",
      "  (embedding): HybridSequential(\n",
      "    (0): Embedding(33278 -> 200, float32)\n",
      "    (1): Dropout(p = 0.2, axes=())\n",
      "  )\n",
      "  (encoder): LSTM(200 -> 200, TNC, num_layers=2, dropout=0.2)\n",
      "  (agg_layer): MeanPoolingLayer(\n",
      "  \n",
      "  )\n",
      "  (output): Sequential(\n",
      "    (0): Dropout(p = 0.07908667442026335, axes=())\n",
      "    (1): Dense(None -> 40, linear)\n",
      "    (2): Dropout(p = 0.07908667442026335, axes=())\n",
      "    (3): Dense(None -> 20, linear)\n",
      "    (4): Dropout(p = 0.07908667442026335, axes=())\n",
      "    (5): Dense(None -> 10, linear)\n",
      "    (6): Dropout(p = 0.07908667442026335, axes=())\n",
      "    (7): Dense(None -> 2, linear)\n",
      "  )\n",
      ")\n",
      "/home/ubuntu/automodel/autogluon/estimator/estimator.py:355: UserWarning: You are training with the following default event handlers: MetricHandler, ValidationHandler, LoggingHandler, DataLoaderHandler. They use loss and metrics from estimator.prepare_loss_and_metrics(). Please use the same set of metrics for all your other handlers.\n",
      "  warnings.warn(msg)\n",
      "Training begin: using optimizer FTML with current learning rate 0.0045 \n",
      "INFO:autogluon.estimator.event_handler:Training begin: using optimizer FTML with current learning rate 0.0045 \n",
      "Train for 4 epochs.\n",
      "INFO:autogluon.estimator.event_handler:Train for 4 epochs.\n",
      "[Epoch 0] Begin, current learning rate: 0.0045\n",
      "INFO:autogluon.estimator.event_handler:[Epoch 0] Begin, current learning rate: 0.0045\n",
      "INFO:autogluon.scheduler.reporter:StatusReporter reporting: {\"task_id\": 2, \"epoch\": 1, \"accuracy\": 0.87384, \"time_this_iter\": 190.65106654167175}\n",
      "[Epoch 0] Finished in 120.063s, train accuracy: 0.7973, train softmaxcrossentropyloss: 0.4458, validation accuracy: 0.8738, validation softmaxcrossentropyloss: 0.3051\n",
      "INFO:autogluon.estimator.event_handler:[Epoch 0] Finished in 120.063s, train accuracy: 0.7973, train softmaxcrossentropyloss: 0.4458, validation accuracy: 0.8738, validation softmaxcrossentropyloss: 0.3051\n",
      "[Epoch 1] Begin, current learning rate: 0.0045\n",
      "INFO:autogluon.estimator.event_handler:[Epoch 1] Begin, current learning rate: 0.0045\n",
      "INFO:autogluon.scheduler.reporter:StatusReporter reporting: {\"task_id\": 0, \"epoch\": 1, \"accuracy\": 0.85772, \"time_this_iter\": 487.32036900520325}\n",
      "[Epoch 0] Finished in 412.657s, train accuracy: 0.7178, train softmaxcrossentropyloss: 0.5583, validation accuracy: 0.8577, validation softmaxcrossentropyloss: 0.3354\n",
      "INFO:autogluon.estimator.event_handler:[Epoch 0] Finished in 412.657s, train accuracy: 0.7178, train softmaxcrossentropyloss: 0.5583, validation accuracy: 0.8577, validation softmaxcrossentropyloss: 0.3354\n",
      "[Epoch 1] Begin, current learning rate: 0.0007\n",
      "INFO:autogluon.estimator.event_handler:[Epoch 1] Begin, current learning rate: 0.0007\n",
      "INFO:autogluon.scheduler.reporter:StatusReporter reporting: {\"task_id\": 2, \"epoch\": 2, \"accuracy\": 0.6736, \"time_this_iter\": 114.09807872772217}\n",
      "[Epoch 1] Finished in 114.092s, train accuracy: 0.9087, train softmaxcrossentropyloss: 0.2402, validation accuracy: 0.6736, validation softmaxcrossentropyloss: 0.5241\n",
      "INFO:autogluon.estimator.event_handler:[Epoch 1] Finished in 114.092s, train accuracy: 0.9087, train softmaxcrossentropyloss: 0.2402, validation accuracy: 0.6736, validation softmaxcrossentropyloss: 0.5241\n",
      "[Epoch 2] Begin, current learning rate: 0.0045\n",
      "INFO:autogluon.estimator.event_handler:[Epoch 2] Begin, current learning rate: 0.0045\n",
      "INFO:autogluon.scheduler.reporter:StatusReporter reporting: {\"task_id\": 2, \"epoch\": 3, \"accuracy\": 0.86064, \"time_this_iter\": 112.03490471839905}\n",
      "[Epoch 2] Finished in 112.028s, train accuracy: 0.8868, train softmaxcrossentropyloss: 0.3099, validation accuracy: 0.8606, validation softmaxcrossentropyloss: 0.3679\n",
      "INFO:autogluon.estimator.event_handler:[Epoch 2] Finished in 112.028s, train accuracy: 0.8868, train softmaxcrossentropyloss: 0.3099, validation accuracy: 0.8606, validation softmaxcrossentropyloss: 0.3679\n",
      "[Epoch 3] Begin, current learning rate: 0.0045\n",
      "INFO:autogluon.estimator.event_handler:[Epoch 3] Begin, current learning rate: 0.0045\n",
      "INFO:autogluon.scheduler.reporter:StatusReporter reporting: {\"task_id\": 2, \"epoch\": 4, \"accuracy\": 0.85344, \"time_this_iter\": 111.28200554847717}\n",
      "[Epoch 3] Finished in 111.279s, train accuracy: 0.9536, train softmaxcrossentropyloss: 0.1303, validation accuracy: 0.8534, validation softmaxcrossentropyloss: 0.4173\n",
      "INFO:autogluon.estimator.event_handler:[Epoch 3] Finished in 111.279s, train accuracy: 0.9536, train softmaxcrossentropyloss: 0.1303, validation accuracy: 0.8534, validation softmaxcrossentropyloss: 0.4173\n",
      "Train finished using total 457s with 4 epochs. train accuracy: 0.9536, train softmaxcrossentropyloss: 0.1303, validation accuracy: 0.8534, validation softmaxcrossentropyloss: 0.4173\n",
      "INFO:autogluon.estimator.event_handler:Train finished using total 457s with 4 epochs. train accuracy: 0.9536, train softmaxcrossentropyloss: 0.1303, validation accuracy: 0.8534, validation softmaxcrossentropyloss: 0.4173\n",
      "INFO:autogluon.scheduler.reporter:StatusReporter reporting: {\"done\": true, \"time_this_iter\": 0.35268092155456543}\n",
      "INFO:autogluon.scheduler.fifo:Adding A New Task Task(TASK_ID: 4) Task(fn=<function train_text_classification at 0x7fba9c998c80>, args={'args': Namespace(data_name='imdb', epochs=4, num_gpus=4, pretrained=True, train_path='/home/ubuntu/automodel/tutorials/data/train.json', val_path='/home/ubuntu/automodel/tutorials/data/test.json'), 'config': {'batch_size': 8, 'model': 'standard_lstm_lm_200', 'optimizer': 'adam', 'dense_layers': 3, 'dropout': 0.21460807884805888, 'lr': 0.06787404787905242, 'momentum': 0.919555135254244, 'pretrained': True}}, resources=Resources(nCPUs = 4, nGPUs = 4)))\n"
     ]
    },
    {
     "name": "stderr",
     "output_type": "stream",
     "text": [
      "INFO:autogluon.task.text_classification.pipeline:Task ID : 3, args : Namespace(batch_size=16, data_name='imdb', dense_layers=1, dropout=0.14373051998240405, epochs=4, lr=0.03203140727971793, model='standard_lstm_lm_200', momentum=0.8784114869723793, num_gpus=4, optimizer='ftml', pretrained=False, train_path='/home/ubuntu/automodel/tutorials/data/train.json', val_path='/home/ubuntu/automodel/tutorials/data/test.json')\n",
      "INFO:autogluon.searcher.searcher: INSIDE UPDATE METHOD \n",
      "INFO:autogluon.searcher.searcher:Finished Task with config: {\"batch_size\": 16, \"model\": \"standard_lstm_lm_200\", \"optimizer\": \"sgd\", \"dense_layers\": 3, \"dropout\": 0.07908667442026335, \"lr\": 0.004460820583220385, \"momentum\": 0.869506617081187, \"pretrained\": false} and reward: 0.85344\n",
      "/home/ubuntu/anaconda3/envs/ag/lib/python3.7/site-packages/mxnet/gluon/block.py:520: UserWarning: All children of this Sequential layer 'textclassificationnet0_sequential0_' are HybridBlocks. Consider using HybridSequential for the best performance.\n",
      "  cld.hybridize(active, **kwargs)\n",
      "INFO:autogluon.task.text_classification.pipeline:Task ID : 3, network : TextClassificationNet(\n",
      "  (embedding): HybridSequential(\n",
      "    (0): Embedding(33278 -> 200, float32)\n",
      "    (1): Dropout(p = 0.2, axes=())\n",
      "  )\n",
      "  (encoder): LSTM(200 -> 200, TNC, num_layers=2, dropout=0.2)\n",
      "  (agg_layer): MeanPoolingLayer(\n",
      "  \n",
      "  )\n",
      "  (output): Sequential(\n",
      "    (0): Dropout(p = 0.14373051998240405, axes=())\n",
      "    (1): Dense(None -> 40, linear)\n",
      "    (2): Dropout(p = 0.14373051998240405, axes=())\n",
      "    (3): Dense(None -> 2, linear)\n",
      "  )\n",
      ")\n",
      "INFO:autogluon.scheduler.reporter:StatusReporter reporting: {\"task_id\": 0, \"epoch\": 2, \"accuracy\": 0.87672, \"time_this_iter\": 395.6927659511566}\n",
      "[Epoch 1] Finished in 395.680s, train accuracy: 0.8607, train softmaxcrossentropyloss: 0.3586, validation accuracy: 0.8767, validation softmaxcrossentropyloss: 0.2999\n",
      "INFO:autogluon.estimator.event_handler:[Epoch 1] Finished in 395.680s, train accuracy: 0.8607, train softmaxcrossentropyloss: 0.3586, validation accuracy: 0.8767, validation softmaxcrossentropyloss: 0.2999\n",
      "[Epoch 2] Begin, current learning rate: 0.0007\n",
      "INFO:autogluon.estimator.event_handler:[Epoch 2] Begin, current learning rate: 0.0007\n",
      "/home/ubuntu/automodel/autogluon/estimator/estimator.py:355: UserWarning: You are training with the following default event handlers: MetricHandler, ValidationHandler, LoggingHandler, DataLoaderHandler. They use loss and metrics from estimator.prepare_loss_and_metrics(). Please use the same set of metrics for all your other handlers.\n",
      "  warnings.warn(msg)\n",
      "Training begin: using optimizer FTML with current learning rate 0.0320 \n",
      "INFO:autogluon.estimator.event_handler:Training begin: using optimizer FTML with current learning rate 0.0320 \n",
      "Train for 4 epochs.\n",
      "INFO:autogluon.estimator.event_handler:Train for 4 epochs.\n",
      "[Epoch 0] Begin, current learning rate: 0.0320\n",
      "INFO:autogluon.estimator.event_handler:[Epoch 0] Begin, current learning rate: 0.0320\n",
      "INFO:autogluon.scheduler.reporter:StatusReporter reporting: {\"task_id\": 3, \"epoch\": 1, \"accuracy\": 0.49996, \"time_this_iter\": 185.5872519016266}\n",
      "[Epoch 0] Finished in 116.763s, train accuracy: 0.4981, train softmaxcrossentropyloss: 0.8653, validation accuracy: 0.5000, validation softmaxcrossentropyloss: 0.6934\n",
      "INFO:autogluon.estimator.event_handler:[Epoch 0] Finished in 116.763s, train accuracy: 0.4981, train softmaxcrossentropyloss: 0.8653, validation accuracy: 0.5000, validation softmaxcrossentropyloss: 0.6934\n",
      "[Epoch 1] Begin, current learning rate: 0.0320\n",
      "INFO:autogluon.estimator.event_handler:[Epoch 1] Begin, current learning rate: 0.0320\n",
      "INFO:autogluon.scheduler.reporter:StatusReporter reporting: {\"task_id\": 3, \"epoch\": 2, \"accuracy\": 0.5, \"time_this_iter\": 116.72498989105225}\n",
      "[Epoch 1] Finished in 116.712s, train accuracy: 0.5020, train softmaxcrossentropyloss: 0.6946, validation accuracy: 0.5000, validation softmaxcrossentropyloss: 0.6952\n",
      "INFO:autogluon.estimator.event_handler:[Epoch 1] Finished in 116.712s, train accuracy: 0.5020, train softmaxcrossentropyloss: 0.6946, validation accuracy: 0.5000, validation softmaxcrossentropyloss: 0.6952\n",
      "[Epoch 2] Begin, current learning rate: 0.0320\n",
      "INFO:autogluon.estimator.event_handler:[Epoch 2] Begin, current learning rate: 0.0320\n",
      "INFO:autogluon.scheduler.reporter:StatusReporter reporting: {\"task_id\": 3, \"epoch\": 3, \"accuracy\": 0.5, \"time_this_iter\": 116.24817156791687}\n",
      "[Epoch 2] Finished in 116.247s, train accuracy: 0.5008, train softmaxcrossentropyloss: 0.6952, validation accuracy: 0.5000, validation softmaxcrossentropyloss: 0.6934\n",
      "INFO:autogluon.estimator.event_handler:[Epoch 2] Finished in 116.247s, train accuracy: 0.5008, train softmaxcrossentropyloss: 0.6952, validation accuracy: 0.5000, validation softmaxcrossentropyloss: 0.6934\n",
      "[Epoch 3] Begin, current learning rate: 0.0320\n",
      "INFO:autogluon.estimator.event_handler:[Epoch 3] Begin, current learning rate: 0.0320\n",
      "INFO:autogluon.scheduler.reporter:StatusReporter reporting: {\"task_id\": 0, \"epoch\": 3, \"accuracy\": 0.88044, \"time_this_iter\": 394.5064263343811}\n",
      "[Epoch 2] Finished in 394.504s, train accuracy: 0.8880, train softmaxcrossentropyloss: 0.3015, validation accuracy: 0.8804, validation softmaxcrossentropyloss: 0.2921\n",
      "INFO:autogluon.estimator.event_handler:[Epoch 2] Finished in 394.504s, train accuracy: 0.8880, train softmaxcrossentropyloss: 0.3015, validation accuracy: 0.8804, validation softmaxcrossentropyloss: 0.2921\n",
      "[Epoch 3] Begin, current learning rate: 0.0007\n",
      "INFO:autogluon.estimator.event_handler:[Epoch 3] Begin, current learning rate: 0.0007\n",
      "INFO:autogluon.scheduler.reporter:StatusReporter reporting: {\"task_id\": 3, \"epoch\": 4, \"accuracy\": 0.5978, \"time_this_iter\": 112.50344753265381}\n",
      "[Epoch 3] Finished in 112.501s, train accuracy: 0.5192, train softmaxcrossentropyloss: 0.9921, validation accuracy: 0.5978, validation softmaxcrossentropyloss: 0.6786\n",
      "INFO:autogluon.estimator.event_handler:[Epoch 3] Finished in 112.501s, train accuracy: 0.5192, train softmaxcrossentropyloss: 0.9921, validation accuracy: 0.5978, validation softmaxcrossentropyloss: 0.6786\n",
      "Train finished using total 462s with 4 epochs. train accuracy: 0.5192, train softmaxcrossentropyloss: 0.9921, validation accuracy: 0.5978, validation softmaxcrossentropyloss: 0.6786\n",
      "INFO:autogluon.estimator.event_handler:Train finished using total 462s with 4 epochs. train accuracy: 0.5192, train softmaxcrossentropyloss: 0.9921, validation accuracy: 0.5978, validation softmaxcrossentropyloss: 0.6786\n",
      "INFO:autogluon.scheduler.reporter:StatusReporter reporting: {\"done\": true, \"time_this_iter\": 0.2735717296600342}\n",
      "INFO:autogluon.task.text_classification.pipeline:Task ID : 4, args : Namespace(batch_size=8, data_name='imdb', dense_layers=3, dropout=0.21460807884805888, epochs=4, lr=0.06787404787905242, model='standard_lstm_lm_200', momentum=0.919555135254244, num_gpus=4, optimizer='adam', pretrained=True, train_path='/home/ubuntu/automodel/tutorials/data/train.json', val_path='/home/ubuntu/automodel/tutorials/data/test.json')\n",
      "INFO:autogluon.searcher.searcher: INSIDE UPDATE METHOD \n",
      "INFO:autogluon.searcher.searcher:Finished Task with config: {\"batch_size\": 16, \"model\": \"standard_lstm_lm_200\", \"optimizer\": \"ftml\", \"dense_layers\": 1, \"dropout\": 0.14373051998240405, \"lr\": 0.03203140727971793, \"momentum\": 0.8784114869723793, \"pretrained\": false} and reward: 0.5978\n",
      "/home/ubuntu/anaconda3/envs/ag/lib/python3.7/site-packages/mxnet/gluon/block.py:520: UserWarning: All children of this Sequential layer 'textclassificationnet0_sequential0_' are HybridBlocks. Consider using HybridSequential for the best performance.\n",
      "  cld.hybridize(active, **kwargs)\n",
      "INFO:autogluon.task.text_classification.pipeline:Task ID : 4, network : TextClassificationNet(\n",
      "  (embedding): HybridSequential(\n",
      "    (0): Embedding(33278 -> 200, float32)\n",
      "    (1): Dropout(p = 0.2, axes=())\n",
      "  )\n",
      "  (encoder): LSTM(200 -> 200, TNC, num_layers=2, dropout=0.2)\n",
      "  (agg_layer): MeanPoolingLayer(\n",
      "  \n",
      "  )\n",
      "  (output): Sequential(\n",
      "    (0): Dropout(p = 0.21460807884805888, axes=())\n",
      "    (1): Dense(None -> 40, linear)\n",
      "    (2): Dropout(p = 0.21460807884805888, axes=())\n",
      "    (3): Dense(None -> 20, linear)\n",
      "    (4): Dropout(p = 0.21460807884805888, axes=())\n",
      "    (5): Dense(None -> 10, linear)\n",
      "    (6): Dropout(p = 0.21460807884805888, axes=())\n",
      "    (7): Dense(None -> 2, linear)\n",
      "  )\n",
      ")\n"
     ]
    },
    {
     "name": "stderr",
     "output_type": "stream",
     "text": [
      "/home/ubuntu/automodel/autogluon/estimator/estimator.py:355: UserWarning: You are training with the following default event handlers: MetricHandler, ValidationHandler, LoggingHandler, DataLoaderHandler. They use loss and metrics from estimator.prepare_loss_and_metrics(). Please use the same set of metrics for all your other handlers.\n",
      "  warnings.warn(msg)\n",
      "Training begin: using optimizer FTML with current learning rate 0.0679 \n",
      "INFO:autogluon.estimator.event_handler:Training begin: using optimizer FTML with current learning rate 0.0679 \n",
      "Train for 4 epochs.\n",
      "INFO:autogluon.estimator.event_handler:Train for 4 epochs.\n",
      "[Epoch 0] Begin, current learning rate: 0.0679\n",
      "INFO:autogluon.estimator.event_handler:[Epoch 0] Begin, current learning rate: 0.0679\n",
      "INFO:autogluon.scheduler.reporter:StatusReporter reporting: {\"task_id\": 0, \"epoch\": 4, \"accuracy\": 0.87828, \"time_this_iter\": 399.33922028541565}\n",
      "[Epoch 3] Finished in 399.336s, train accuracy: 0.9028, train softmaxcrossentropyloss: 0.2617, validation accuracy: 0.8783, validation softmaxcrossentropyloss: 0.2927\n",
      "INFO:autogluon.estimator.event_handler:[Epoch 3] Finished in 399.336s, train accuracy: 0.9028, train softmaxcrossentropyloss: 0.2617, validation accuracy: 0.8783, validation softmaxcrossentropyloss: 0.2927\n",
      "Train finished using total 1602s with 4 epochs. train accuracy: 0.9028, train softmaxcrossentropyloss: 0.2617, validation accuracy: 0.8783, validation softmaxcrossentropyloss: 0.2927\n",
      "INFO:autogluon.estimator.event_handler:Train finished using total 1602s with 4 epochs. train accuracy: 0.9028, train softmaxcrossentropyloss: 0.2617, validation accuracy: 0.8783, validation softmaxcrossentropyloss: 0.2927\n",
      "INFO:autogluon.scheduler.reporter:StatusReporter reporting: {\"done\": true, \"time_this_iter\": 0.36750197410583496}\n",
      "INFO:autogluon.searcher.searcher: INSIDE UPDATE METHOD \n",
      "INFO:autogluon.searcher.searcher:Finished Task with config: {\"batch_size\": 8, \"model\": \"awd_lstm_lm_1150\", \"optimizer\": \"adam\", \"dense_layers\": 3, \"dropout\": 0.39302446938112373, \"lr\": 0.0007063469499931298, \"momentum\": 0.909523590080406, \"pretrained\": false} and reward: 0.87828\n",
      "INFO:autogluon.scheduler.reporter:StatusReporter reporting: {\"task_id\": 4, \"epoch\": 1, \"accuracy\": 0.5, \"time_this_iter\": 361.9839632511139}\n",
      "[Epoch 0] Finished in 278.504s, train accuracy: 0.5589, train softmaxcrossentropyloss: nan, validation accuracy: 0.5000, validation softmaxcrossentropyloss: nan\n",
      "INFO:autogluon.estimator.event_handler:[Epoch 0] Finished in 278.504s, train accuracy: 0.5589, train softmaxcrossentropyloss: nan, validation accuracy: 0.5000, validation softmaxcrossentropyloss: nan\n",
      "[Epoch 1] Begin, current learning rate: 0.0679\n",
      "INFO:autogluon.estimator.event_handler:[Epoch 1] Begin, current learning rate: 0.0679\n",
      "INFO:autogluon.scheduler.reporter:StatusReporter reporting: {\"task_id\": 4, \"epoch\": 2, \"accuracy\": 0.5, \"time_this_iter\": 288.08011531829834}\n",
      "[Epoch 1] Finished in 288.077s, train accuracy: 0.5000, train softmaxcrossentropyloss: nan, validation accuracy: 0.5000, validation softmaxcrossentropyloss: nan\n",
      "INFO:autogluon.estimator.event_handler:[Epoch 1] Finished in 288.077s, train accuracy: 0.5000, train softmaxcrossentropyloss: nan, validation accuracy: 0.5000, validation softmaxcrossentropyloss: nan\n",
      "[Epoch 2] Begin, current learning rate: 0.0679\n",
      "INFO:autogluon.estimator.event_handler:[Epoch 2] Begin, current learning rate: 0.0679\n",
      "INFO:autogluon.scheduler.reporter:StatusReporter reporting: {\"task_id\": 4, \"epoch\": 3, \"accuracy\": 0.5, \"time_this_iter\": 286.31415486335754}\n",
      "[Epoch 2] Finished in 286.307s, train accuracy: 0.5000, train softmaxcrossentropyloss: nan, validation accuracy: 0.5000, validation softmaxcrossentropyloss: nan\n",
      "INFO:autogluon.estimator.event_handler:[Epoch 2] Finished in 286.307s, train accuracy: 0.5000, train softmaxcrossentropyloss: nan, validation accuracy: 0.5000, validation softmaxcrossentropyloss: nan\n",
      "[Epoch 3] Begin, current learning rate: 0.0679\n",
      "INFO:autogluon.estimator.event_handler:[Epoch 3] Begin, current learning rate: 0.0679\n",
      "INFO:autogluon.scheduler.reporter:StatusReporter reporting: {\"task_id\": 4, \"epoch\": 4, \"accuracy\": 0.5, \"time_this_iter\": 286.3574848175049}\n",
      "[Epoch 3] Finished in 286.355s, train accuracy: 0.5000, train softmaxcrossentropyloss: nan, validation accuracy: 0.5000, validation softmaxcrossentropyloss: nan\n",
      "INFO:autogluon.estimator.event_handler:[Epoch 3] Finished in 286.355s, train accuracy: 0.5000, train softmaxcrossentropyloss: nan, validation accuracy: 0.5000, validation softmaxcrossentropyloss: nan\n",
      "Train finished using total 1139s with 4 epochs. train accuracy: 0.5000, train softmaxcrossentropyloss: nan, validation accuracy: 0.5000, validation softmaxcrossentropyloss: nan\n",
      "INFO:autogluon.estimator.event_handler:Train finished using total 1139s with 4 epochs. train accuracy: 0.5000, train softmaxcrossentropyloss: nan, validation accuracy: 0.5000, validation softmaxcrossentropyloss: nan\n",
      "INFO:autogluon.scheduler.reporter:StatusReporter reporting: {\"done\": true, \"time_this_iter\": 0.8550004959106445}\n",
      "INFO:autogluon.searcher.searcher: INSIDE UPDATE METHOD \n",
      "INFO:autogluon.searcher.searcher:Finished Task with config: {\"batch_size\": 8, \"model\": \"standard_lstm_lm_200\", \"optimizer\": \"adam\", \"dense_layers\": 3, \"dropout\": 0.21460807884805888, \"lr\": 0.06787404787905242, \"momentum\": 0.919555135254244, \"pretrained\": true} and reward: 0.5\n",
      "INFO:autogluon.scheduler.fifo:Training History : OrderedDict([(1, [0.71092, 0.86652, 0.8612, 0.86328]), (2, [0.87384, 0.6736, 0.86064, 0.85344]), (0, [0.85772, 0.87672, 0.88044, 0.87828]), (3, [0.49996, 0.5, 0.5, 0.5978]), (4, [0.5, 0.5, 0.5, 0.5])])\n",
      "INFO:autogluon.scheduler.fifo:Saving Training Curve in checkpoint/exp1_tc.png\n",
      "INFO:autogluon.searcher.searcher: INSIDE GET_BEST_REWARD \n",
      "INFO:autogluon.searcher.searcher: INSIDE GET_BEST_CONFIG : RUN\n"
     ]
    },
    {
     "data": {
      "image/png": "[encoded data removed]",
      "text/plain": [
       "<Figure size 432x288 with 1 Axes>"
      ]
     },
     "metadata": {
      "needs_background": "light"
     },
     "output_type": "display_data"
    }
   ],
   "source": [
    "results = task.fit(dataset)"
   ]
  },
  {
   "cell_type": "markdown",
   "metadata": {},
   "source": [
    "The best accuracy is:"
   ]
  },
  {
   "cell_type": "code",
   "execution_count": 7,
   "metadata": {},
   "outputs": [
    {
     "name": "stdout",
     "output_type": "stream",
     "text": [
      "0.87828\n"
     ]
    }
   ],
   "source": [
    "print(results.metric)"
   ]
  },
  {
   "cell_type": "markdown",
   "metadata": {},
   "source": [
    "The associated best configuration is:"
   ]
  },
  {
   "cell_type": "code",
   "execution_count": 8,
   "metadata": {},
   "outputs": [
    {
     "name": "stdout",
     "output_type": "stream",
     "text": [
      "{'batch_size': 8, 'model': 'awd_lstm_lm_1150', 'optimizer': 'adam', 'dense_layers': 3, 'dropout': 0.39302446938112373, 'lr': 0.0007063469499931298, 'momentum': 0.909523590080406, 'pretrained': False}\n"
     ]
    }
   ],
   "source": [
    "print(results.config)"
   ]
  },
  {
   "cell_type": "markdown",
   "metadata": {},
   "source": [
    "Total time cost is:"
   ]
  },
  {
   "cell_type": "code",
   "execution_count": 9,
   "metadata": {},
   "outputs": [
    {
     "name": "stdout",
     "output_type": "stream",
     "text": [
      "2574.79 s\n"
     ]
    }
   ],
   "source": [
    "print('%.2f s' % results.time)"
   ]
  },
  {
   "cell_type": "markdown",
   "metadata": {},
   "source": [
    "## A Step-by-step Text Classification Example\n",
    "\n",
    "We first introduce the basic configuration `autogluon.space`, which is used to represent the search space of each task components, we will then go throught each components, including \n",
    "\n",
    "* `autogluon.Dataset`\n",
    "* `autogluon.Nets`\n",
    "* `autogluon.Optimizers`\n",
    "* `autogluon.Losses`\n",
    "* `autogluon.Metrics`\n",
    "\n",
    "and finally put all together to `fit` to generate best results."
   ]
  },
  {
   "cell_type": "markdown",
   "metadata": {},
   "source": [
    "### Import AutoGluon"
   ]
  },
  {
   "cell_type": "code",
   "execution_count": 3,
   "metadata": {},
   "outputs": [],
   "source": [
    "import warnings\n",
    "warnings.filterwarnings(\"ignore\")\n",
    "\n",
    "import autogluon as ag"
   ]
  },
  {
   "cell_type": "markdown",
   "metadata": {},
   "source": [
    "### Create AutoGluon Space\n",
    "\n",
    "\n",
    "`autogluon.space` is a search space containing a set of configuration candidates.\n",
    "We provide three basic space types.\n",
    "\n",
    "* Categorical Space"
   ]
  },
  {
   "cell_type": "code",
   "execution_count": 4,
   "metadata": {},
   "outputs": [
    {
     "name": "stdout",
     "output_type": "stream",
     "text": [
      "AutoGluon List Space listspace: ['0', '1', '2']\n"
     ]
    }
   ],
   "source": [
    "list_space = ag.space.List('listspace', ['0', '1', '2'])\n",
    "print(list_space)"
   ]
  },
  {
   "cell_type": "markdown",
   "metadata": {},
   "source": [
    "* Linear Space"
   ]
  },
  {
   "cell_type": "code",
   "execution_count": 5,
   "metadata": {},
   "outputs": [
    {
     "name": "stdout",
     "output_type": "stream",
     "text": [
      "AutoGluon Linear Space linspace: lower 0, upper 10\n"
     ]
    }
   ],
   "source": [
    "linear_space = ag.space.Linear('linspace', 0, 10)\n",
    "print(linear_space)"
   ]
  },
  {
   "cell_type": "markdown",
   "metadata": {},
   "source": [
    "* Log Space"
   ]
  },
  {
   "cell_type": "code",
   "execution_count": 6,
   "metadata": {},
   "outputs": [
    {
     "name": "stdout",
     "output_type": "stream",
     "text": [
      "AutoGluon Log Space logspace: lower 0.000000, upper 0.100000\n"
     ]
    }
   ],
   "source": [
    "log_space = ag.space.Log('logspace', 10**-10, 10**-1)\n",
    "print(log_space)"
   ]
  },
  {
   "cell_type": "markdown",
   "metadata": {},
   "source": [
    "* An Example of Random Sample from the Combined Space"
   ]
  },
  {
   "cell_type": "code",
   "execution_count": 7,
   "metadata": {},
   "outputs": [
    {
     "name": "stdout",
     "output_type": "stream",
     "text": [
      "Configuration:\n",
      "  linspace, Value: 6\n",
      "  listspace, Value: '0'\n",
      "  logspace, Value: 6.235613961953446e-06\n",
      "\n"
     ]
    }
   ],
   "source": [
    "print(ag.space.sample_configuration([list_space, linear_space, log_space]))"
   ]
  },
  {
   "cell_type": "markdown",
   "metadata": {},
   "source": [
    "We then will use `autogluon.Nets` and `autogluon.Optimizers` as examples to show the usage of auto objects. The remainining auto objects are using default value.\n",
    "\n",
    "### Create AutoGluon Nets\n",
    "\n",
    "`autogluon.Nets` is a list of auto networks, and allows search for the best net\n",
    "\n",
    "* from a list of provided (or default) networks\n",
    "* by choosing the best architecture regarding to each auto net."
   ]
  },
  {
   "cell_type": "code",
   "execution_count": 8,
   "metadata": {},
   "outputs": [
    {
     "name": "stdout",
     "output_type": "stream",
     "text": [
      "AutoGluon Nets ['standard_lstm_lm_200', 'awd_lstm_lm_1150'] with Configuration space object:\n",
      "  Hyperparameters:\n",
      "    dense_layers, Type: UniformInteger, Range: [1, 3], Default: 2\n",
      "    dropout, Type: UniformFloat, Range: [0.0, 0.5], Default: 0.25\n",
      "    model, Type: Categorical, Choices: {standard_lstm_lm_200, awd_lstm_lm_1150}, Default: standard_lstm_lm_200\n",
      "    pretrained, Type: Categorical, Choices: {True, False}, Default: True\n",
      "  Conditions:\n",
      "    dense_layers | model in {'standard_lstm_lm_200', 'awd_lstm_lm_1150'}\n",
      "    dropout | model in {'standard_lstm_lm_200', 'awd_lstm_lm_1150'}\n",
      "    pretrained | model in {'standard_lstm_lm_200', 'awd_lstm_lm_1150'}\n",
      "\n"
     ]
    }
   ],
   "source": [
    "nets = ag.Nets([\n",
    "    task.get_model('standard_lstm_lm_200', **{'classification_layers': ag.space.Linear('dense', lower=1, upper=2)}),\n",
    "    task.get_model('awd_lstm_lm_1150', **{'classification_layers': ag.space.Linear('dense', lower=1, upper=2)})\n",
    "])\n",
    "\n",
    "print(nets)"
   ]
  },
  {
   "cell_type": "markdown",
   "metadata": {},
   "source": [
    "### Create AutoGluon Optimizers\n",
    "\n",
    "`autogluon.Optimizers` defines a list of optimization algorithms that allows search for the best optimization algorithm \n",
    "\n",
    "* from a list of provided (or default) optimizers\n",
    "* by choosing the best hyper-parameters regarding to each auto optimizer"
   ]
  },
  {
   "cell_type": "code",
   "execution_count": 9,
   "metadata": {},
   "outputs": [
    {
     "name": "stdout",
     "output_type": "stream",
     "text": [
      "AutoGluon Optimizers ['sgd', 'ftml'] with Configuration space object:\n",
      "  Hyperparameters:\n",
      "    lr, Type: UniformFloat, Range: [0.0001, 0.1], Default: 0.0031622777, on log-scale\n",
      "    momentum, Type: UniformFloat, Range: [0.85, 0.95], Default: 0.9\n",
      "    optimizer, Type: Categorical, Choices: {sgd, ftml}, Default: sgd\n",
      "  Conditions:\n",
      "    lr | optimizer in {'sgd', 'ftml'}\n",
      "    momentum | optimizer in {'sgd', 'ftml'}\n",
      "\n"
     ]
    }
   ],
   "source": [
    "optimizers = ag.Optimizers(['sgd', 'ftml'])\n",
    "\n",
    "print(optimizers)"
   ]
  },
  {
   "cell_type": "markdown",
   "metadata": {},
   "source": [
    "### Create AutoGluon Fit - Put all together"
   ]
  },
  {
   "cell_type": "code",
   "execution_count": 10,
   "metadata": {},
   "outputs": [
    {
     "name": "stderr",
     "output_type": "stream",
     "text": [
      "INFO:autogluon.scheduler.fifo:Starting Experiments\n",
      "INFO:autogluon.scheduler.fifo:Num of Finished Tasks is 0\n",
      "INFO:autogluon.scheduler.fifo:Num of Pending Tasks is 2\n",
      "INFO:autogluon.scheduler.fifo:Adding A New Task Task(TASK_ID: 0) Task(fn=<function train_text_classification at 0x7f5f89633c80>, args={'args': Namespace(data_name='imdb', epochs=2, num_gpus=4, pretrained=True, train_path='/home/ubuntu/automodel/tutorials/data/train.json', val_path='/home/ubuntu/automodel/tutorials/data/test.json'), 'config': {'batch_size': 8, 'model': 'awd_lstm_lm_1150', 'optimizer': 'ftml', 'dense_layers': 1, 'dropout': 0.3086277108437295, 'lr': 0.006737136909658106, 'momentum': 0.8958744310666973, 'pretrained': True}}, resources=Resources(nCPUs = 4, nGPUs = 4)))\n",
      "INFO:autogluon.scheduler.fifo:Adding A New Task Task(TASK_ID: 1) Task(fn=<function train_text_classification at 0x7f5f89633c80>, args={'args': Namespace(data_name='imdb', epochs=2, num_gpus=4, pretrained=True, train_path='/home/ubuntu/automodel/tutorials/data/train.json', val_path='/home/ubuntu/automodel/tutorials/data/test.json'), 'config': {'batch_size': 16, 'model': 'standard_lstm_lm_200', 'optimizer': 'sgd', 'dense_layers': 3, 'dropout': 0.3612268178848712, 'lr': 0.00012759040425613474, 'momentum': 0.8604972224813819, 'pretrained': True}}, resources=Resources(nCPUs = 4, nGPUs = 4)))\n",
      "INFO:autogluon.task.text_classification.pipeline:Task ID : 0, args : Namespace(batch_size=8, data_name='imdb', dense_layers=1, dropout=0.3086277108437295, epochs=2, lr=0.006737136909658106, model='awd_lstm_lm_1150', momentum=0.8958744310666973, num_gpus=4, optimizer='ftml', pretrained=True, train_path='/home/ubuntu/automodel/tutorials/data/train.json', val_path='/home/ubuntu/automodel/tutorials/data/test.json')\n",
      "INFO:autogluon.task.text_classification.pipeline:Task ID : 1, args : Namespace(batch_size=16, data_name='imdb', dense_layers=3, dropout=0.3612268178848712, epochs=2, lr=0.00012759040425613474, model='standard_lstm_lm_200', momentum=0.8604972224813819, num_gpus=4, optimizer='sgd', pretrained=True, train_path='/home/ubuntu/automodel/tutorials/data/train.json', val_path='/home/ubuntu/automodel/tutorials/data/test.json')\n",
      "INFO:autogluon.task.text_classification.pipeline:Task ID : 1, network : TextClassificationNet(\n",
      "  (embedding): HybridSequential(\n",
      "    (0): Embedding(33278 -> 200, float32)\n",
      "    (1): Dropout(p = 0.2, axes=())\n",
      "  )\n",
      "  (encoder): LSTM(200 -> 200, TNC, num_layers=2, dropout=0.2)\n",
      "  (agg_layer): MeanPoolingLayer(\n",
      "  \n",
      "  )\n",
      "  (output): Sequential(\n",
      "    (0): Dropout(p = 0.3612268178848712, axes=())\n",
      "    (1): Dense(None -> 40, linear)\n",
      "    (2): Dropout(p = 0.3612268178848712, axes=())\n",
      "    (3): Dense(None -> 20, linear)\n",
      "    (4): Dropout(p = 0.3612268178848712, axes=())\n",
      "    (5): Dense(None -> 10, linear)\n",
      "    (6): Dropout(p = 0.3612268178848712, axes=())\n",
      "    (7): Dense(None -> 2, linear)\n",
      "  )\n",
      ")\n",
      "INFO:autogluon.task.text_classification.pipeline:Task ID : 0, network : TextClassificationNet(\n",
      "  (embedding): HybridSequential(\n",
      "    (0): Embedding(33278 -> 400, float32)\n",
      "    (1): Dropout(p = 0.65, axes=(0,))\n",
      "  )\n",
      "  (encoder): Sequential(\n",
      "    (0): LSTM(400 -> 1150, TNC)\n",
      "    (1): LSTM(1150 -> 1150, TNC)\n",
      "    (2): LSTM(1150 -> 400, TNC)\n",
      "  )\n",
      "  (agg_layer): MeanPoolingLayer(\n",
      "  \n",
      "  )\n",
      "  (output): Sequential(\n",
      "    (0): Dropout(p = 0.3086277108437295, axes=())\n",
      "    (1): Dense(None -> 40, linear)\n",
      "    (2): Dropout(p = 0.3086277108437295, axes=())\n",
      "    (3): Dense(None -> 2, linear)\n",
      "  )\n",
      ")\n",
      "Training begin: using optimizer FTML with current learning rate 0.0001 \n",
      "INFO:autogluon.estimator.event_handler:Training begin: using optimizer FTML with current learning rate 0.0001 \n",
      "Train for 2 epochs.\n",
      "INFO:autogluon.estimator.event_handler:Train for 2 epochs.\n",
      "[Epoch 0] Begin, current learning rate: 0.0001\n",
      "INFO:autogluon.estimator.event_handler:[Epoch 0] Begin, current learning rate: 0.0001\n",
      "Training begin: using optimizer FTML with current learning rate 0.0067 \n",
      "INFO:autogluon.estimator.event_handler:Training begin: using optimizer FTML with current learning rate 0.0067 \n",
      "Train for 2 epochs.\n",
      "INFO:autogluon.estimator.event_handler:Train for 2 epochs.\n",
      "[Epoch 0] Begin, current learning rate: 0.0067\n",
      "INFO:autogluon.estimator.event_handler:[Epoch 0] Begin, current learning rate: 0.0067\n",
      "INFO:autogluon.scheduler.reporter:StatusReporter reporting: {\"task_id\": 1, \"epoch\": 1, \"accuracy\": 0.57388, \"time_this_iter\": 201.62047290802002}\n",
      "[Epoch 0] Finished in 122.466s, train accuracy: 0.5035, train softmaxcrossentropyloss: 0.6982, validation accuracy: 0.5739, validation softmaxcrossentropyloss: 0.6877\n",
      "INFO:autogluon.estimator.event_handler:[Epoch 0] Finished in 122.466s, train accuracy: 0.5035, train softmaxcrossentropyloss: 0.6982, validation accuracy: 0.5739, validation softmaxcrossentropyloss: 0.6877\n",
      "[Epoch 1] Begin, current learning rate: 0.0001\n",
      "INFO:autogluon.estimator.event_handler:[Epoch 1] Begin, current learning rate: 0.0001\n",
      "INFO:autogluon.scheduler.reporter:StatusReporter reporting: {\"task_id\": 1, \"epoch\": 2, \"accuracy\": 0.59676, \"time_this_iter\": 109.8073320388794}\n",
      "[Epoch 1] Finished in 109.803s, train accuracy: 0.5320, train softmaxcrossentropyloss: 0.6902, validation accuracy: 0.5968, validation softmaxcrossentropyloss: 0.6818\n",
      "INFO:autogluon.estimator.event_handler:[Epoch 1] Finished in 109.803s, train accuracy: 0.5320, train softmaxcrossentropyloss: 0.6902, validation accuracy: 0.5968, validation softmaxcrossentropyloss: 0.6818\n",
      "Train finished using total 232s with 2 epochs. train accuracy: 0.5320, train softmaxcrossentropyloss: 0.6902, validation accuracy: 0.5968, validation softmaxcrossentropyloss: 0.6818\n",
      "INFO:autogluon.estimator.event_handler:Train finished using total 232s with 2 epochs. train accuracy: 0.5320, train softmaxcrossentropyloss: 0.6902, validation accuracy: 0.5968, validation softmaxcrossentropyloss: 0.6818\n",
      "INFO:autogluon.scheduler.reporter:StatusReporter reporting: {\"done\": true, \"time_this_iter\": 0.6467950344085693}\n",
      "INFO:autogluon.searcher.searcher: INSIDE UPDATE METHOD \n",
      "INFO:autogluon.searcher.searcher:Finished Task with config: {\"batch_size\": 16, \"model\": \"standard_lstm_lm_200\", \"optimizer\": \"sgd\", \"dense_layers\": 3, \"dropout\": 0.3612268178848712, \"lr\": 0.00012759040425613474, \"momentum\": 0.8604972224813819, \"pretrained\": true} and reward: 0.59676\n",
      "INFO:autogluon.scheduler.reporter:StatusReporter reporting: {\"task_id\": 0, \"epoch\": 1, \"accuracy\": 0.89012, \"time_this_iter\": 481.5982856750488}\n",
      "[Epoch 0] Finished in 401.707s, train accuracy: 0.8132, train softmaxcrossentropyloss: 0.4067, validation accuracy: 0.8901, validation softmaxcrossentropyloss: 0.2689\n",
      "INFO:autogluon.estimator.event_handler:[Epoch 0] Finished in 401.707s, train accuracy: 0.8132, train softmaxcrossentropyloss: 0.4067, validation accuracy: 0.8901, validation softmaxcrossentropyloss: 0.2689\n",
      "[Epoch 1] Begin, current learning rate: 0.0067\n",
      "INFO:autogluon.estimator.event_handler:[Epoch 1] Begin, current learning rate: 0.0067\n",
      "INFO:autogluon.scheduler.reporter:StatusReporter reporting: {\"task_id\": 0, \"epoch\": 2, \"accuracy\": 0.89444, \"time_this_iter\": 397.3332004547119}\n",
      "[Epoch 1] Finished in 397.317s, train accuracy: 0.9034, train softmaxcrossentropyloss: 0.2481, validation accuracy: 0.8944, validation softmaxcrossentropyloss: 0.2947\n",
      "INFO:autogluon.estimator.event_handler:[Epoch 1] Finished in 397.317s, train accuracy: 0.9034, train softmaxcrossentropyloss: 0.2481, validation accuracy: 0.8944, validation softmaxcrossentropyloss: 0.2947\n",
      "Train finished using total 799s with 2 epochs. train accuracy: 0.9034, train softmaxcrossentropyloss: 0.2481, validation accuracy: 0.8944, validation softmaxcrossentropyloss: 0.2947\n",
      "INFO:autogluon.estimator.event_handler:Train finished using total 799s with 2 epochs. train accuracy: 0.9034, train softmaxcrossentropyloss: 0.2481, validation accuracy: 0.8944, validation softmaxcrossentropyloss: 0.2947\n",
      "INFO:autogluon.scheduler.reporter:StatusReporter reporting: {\"done\": true, \"time_this_iter\": 0.6438977718353271}\n",
      "INFO:autogluon.searcher.searcher: INSIDE UPDATE METHOD \n",
      "INFO:autogluon.searcher.searcher:Finished Task with config: {\"batch_size\": 8, \"model\": \"awd_lstm_lm_1150\", \"optimizer\": \"ftml\", \"dense_layers\": 1, \"dropout\": 0.3086277108437295, \"lr\": 0.006737136909658106, \"momentum\": 0.8958744310666973, \"pretrained\": true} and reward: 0.89444\n"
     ]
    },
    {
     "name": "stderr",
     "output_type": "stream",
     "text": [
      "INFO:autogluon.scheduler.fifo:Training History : OrderedDict([(1, [0.57388, 0.59676]), (0, [0.89012, 0.89444])])\n",
      "INFO:autogluon.scheduler.fifo:Saving Training Curve in checkpoint/exp1_tc.png\n",
      "INFO:autogluon.searcher.searcher: INSIDE GET_BEST_REWARD \n",
      "INFO:autogluon.searcher.searcher: INSIDE GET_BEST_CONFIG : RUN\n"
     ]
    },
    {
     "data": {
      "image/png": "[encoded data removed]",
      "text/plain": [
       "<Figure size 432x288 with 1 Axes>"
      ]
     },
     "metadata": {
      "needs_background": "light"
     },
     "output_type": "display_data"
    }
   ],
   "source": [
    "stop_criterion = {\n",
    "    'time_limits': 1*60*60,\n",
    "    'max_metric': 0.80,\n",
    "    'max_trial_count': 2\n",
    "}\n",
    "\n",
    "resources_per_trial = {\n",
    "    'max_num_gpus': 4,\n",
    "    'max_num_cpus': 4,\n",
    "    'max_training_epochs': 2\n",
    "}\n",
    "\n",
    "results = task.fit(dataset,\n",
    "                   nets,\n",
    "                   optimizers,\n",
    "                   stop_criterion=stop_criterion,\n",
    "                   resources_per_trial=resources_per_trial)"
   ]
  },
  {
   "cell_type": "markdown",
   "metadata": {},
   "source": [
    "The best accuracy is:"
   ]
  },
  {
   "cell_type": "code",
   "execution_count": 13,
   "metadata": {},
   "outputs": [
    {
     "name": "stdout",
     "output_type": "stream",
     "text": [
      "0.89444\n"
     ]
    }
   ],
   "source": [
    "print(results.metric)"
   ]
  },
  {
   "cell_type": "markdown",
   "metadata": {},
   "source": [
    "The best associated configuration is:"
   ]
  },
  {
   "cell_type": "code",
   "execution_count": 14,
   "metadata": {},
   "outputs": [
    {
     "name": "stdout",
     "output_type": "stream",
     "text": [
      "{'batch_size': 8, 'model': 'awd_lstm_lm_1150', 'optimizer': 'ftml', 'dense_layers': 1, 'dropout': 0.3086277108437295, 'lr': 0.006737136909658106, 'momentum': 0.8958744310666973, 'pretrained': True}\n"
     ]
    }
   ],
   "source": [
    "print(results.config)"
   ]
  },
  {
   "cell_type": "markdown",
   "metadata": {},
   "source": [
    "Total time cost is:"
   ]
  },
  {
   "cell_type": "code",
   "execution_count": 15,
   "metadata": {},
   "outputs": [
    {
     "name": "stdout",
     "output_type": "stream",
     "text": [
      "881.96 s\n"
     ]
    }
   ],
   "source": [
    "print('%.2f s' % results.time)"
   ]
  },
  {
   "cell_type": "markdown",
   "metadata": {},
   "source": [
    "## Refereces"
   ]
  },
  {
   "cell_type": "markdown",
   "metadata": {},
   "source": [
    "* code: https://code.amazon.com/packages/AutoGluon/trees/heads/mainline \n",
    "* API design: https://quip-amazon.com/aaGsAS9lY3WU/AutoGluon-API\n",
    "* Implementation roadmap: https://quip-amazon.com/zlQUAjSWBc3c/AutoGluon-System-Implementation-Roadmap"
   ]
  }
 ],
 "metadata": {
  "kernelspec": {
   "display_name": "Python 3",
   "language": "python",
   "name": "python3"
  },
  "language_info": {
   "codemirror_mode": {
    "name": "ipython",
    "version": 3
   },
   "file_extension": ".py",
   "mimetype": "text/x-python",
   "name": "python",
   "nbconvert_exporter": "python",
   "pygments_lexer": "ipython3",
   "version": "3.7.3"
  }
 },
 "nbformat": 4,
 "nbformat_minor": 2
}
