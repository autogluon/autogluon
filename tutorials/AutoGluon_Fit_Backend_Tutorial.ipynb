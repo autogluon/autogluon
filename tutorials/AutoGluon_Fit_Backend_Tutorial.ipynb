{
 "cells": [
  {
   "cell_type": "markdown",
   "metadata": {},
   "source": [
    "# AutoGluon Fit Backend Tutorial"
   ]
  },
  {
   "cell_type": "markdown",
   "metadata": {},
   "source": [
    "## Prerequisite\n",
    "Please read **autogluon_demo Tutorial** first, if not yet."
   ]
  },
  {
   "cell_type": "markdown",
   "metadata": {},
   "source": [
    "## Install AutoGluon"
   ]
  },
  {
   "cell_type": "markdown",
   "metadata": {},
   "source": [
    "```\n",
    "cd AutoGluon && python setup.py install\n",
    "```"
   ]
  },
  {
   "cell_type": "markdown",
   "metadata": {},
   "source": [
    "## Understanding Task, Resource and Scheduler\n",
    "\n",
    "<img src=\"img/scheduler.png\" alt=\"Overlook\" style=\"width: 600px;\"/>"
   ]
  },
  {
   "cell_type": "markdown",
   "metadata": {},
   "source": [
    "Resources contains number of cpus and gpus. Task includes execute function, args and its resource. TaskScheduler automatically request resource for tasks and execut it as soon as its resource is ready."
   ]
  },
  {
   "cell_type": "code",
   "execution_count": 1,
   "metadata": {},
   "outputs": [],
   "source": [
    "from autogluon.resource import Resources\n",
    "from autogluon.scheduler import Task, TaskScheduler\n",
    "import time"
   ]
  },
  {
   "cell_type": "markdown",
   "metadata": {},
   "source": [
    "**Define custimized task**"
   ]
  },
  {
   "cell_type": "code",
   "execution_count": 2,
   "metadata": {},
   "outputs": [],
   "source": [
    "def my_task():\n",
    "    print('running, my_task')\n",
    "    time.sleep(3.0)\n"
   ]
  },
  {
   "cell_type": "markdown",
   "metadata": {},
   "source": [
    "**Create scheduler**"
   ]
  },
  {
   "cell_type": "code",
   "execution_count": 3,
   "metadata": {},
   "outputs": [],
   "source": [
    "scheduler = TaskScheduler()"
   ]
  },
  {
   "cell_type": "markdown",
   "metadata": {},
   "source": [
    "Add tasks with their resources to scheduler"
   ]
  },
  {
   "cell_type": "code",
   "execution_count": 4,
   "metadata": {},
   "outputs": [
    {
     "name": "stdout",
     "output_type": "stream",
     "text": [
      "running, my_task\n",
      "running, my_task\n",
      "running, my_task\n",
      "running, my_task\n",
      "running, my_task\n"
     ]
    }
   ],
   "source": [
    "for i in range(5):\n",
    "    resource = Resources(num_cpus=2, num_gpus=0)\n",
    "    task = Task(my_task, {}, resource)\n",
    "    scheduler.add_task(task)"
   ]
  },
  {
   "cell_type": "markdown",
   "metadata": {},
   "source": [
    "## Launch Task with Different Configurations"
   ]
  },
  {
   "cell_type": "code",
   "execution_count": 5,
   "metadata": {},
   "outputs": [],
   "source": [
    "import autogluon as ag\n",
    "from autogluon import autogluon_method"
   ]
  },
  {
   "cell_type": "markdown",
   "metadata": {},
   "source": [
    "**Configuration handled by `autogluon_method`**"
   ]
  },
  {
   "cell_type": "code",
   "execution_count": 6,
   "metadata": {},
   "outputs": [],
   "source": [
    "@autogluon_method\n",
    "def train_fn(args):\n",
    "    print('lr is {}'.format(args.lr))\n",
    "    \n",
    "import argparse\n",
    "import numpy as np\n",
    "args = argparse.ArgumentParser()\n",
    "config = {'lr': ag.searcher.sample_from(\n",
    "          lambda: np.power(10.0, np.random.uniform(-4, -1)))}"
   ]
  },
  {
   "cell_type": "markdown",
   "metadata": {},
   "source": [
    "**Schedule Tasks**"
   ]
  },
  {
   "cell_type": "code",
   "execution_count": 7,
   "metadata": {},
   "outputs": [
    {
     "name": "stdout",
     "output_type": "stream",
     "text": [
      "lr is 0.001782649715138694\n",
      "lr is 0.07963234721775593\n",
      "lr is 0.00203228544324115\n",
      "lr is 0.0044915238251379995\n",
      "lr is 0.00046342505832948756\n"
     ]
    }
   ],
   "source": [
    "myscheduler = TaskScheduler()\n",
    "for i in range(5):\n",
    "    resource = Resources(num_cpus=2, num_gpus=0)\n",
    "    task = Task(train_fn, {'args': args, 'config': config}, resource)\n",
    "    myscheduler.add_task(task)"
   ]
  },
  {
   "cell_type": "markdown",
   "metadata": {},
   "source": [
    "## Search Algorithm and Trial Scheduler"
   ]
  },
  {
   "cell_type": "markdown",
   "metadata": {},
   "source": [
    "Search Algorithm observes the performance of each task and suggests set of hyper parameters for each new task based on the history information.\n",
    "<img src=\"img/scheduler_searcher.png\" alt=\"Searcher\" style=\"width: 600px;\"/>\n",
    "**Construct `autogluon_method` with reporter**"
   ]
  },
  {
   "cell_type": "code",
   "execution_count": 8,
   "metadata": {},
   "outputs": [],
   "source": [
    "@autogluon_method\n",
    "def train_fn(args, reporter):\n",
    "    for e in range(10):\n",
    "        # forward, backward, optimizer step and evaluation metric\n",
    "        # generate fake top1_accuracy\n",
    "        top1_accuracy = 1 - np.power(1.8, -np.random.uniform(e, 2*e))\n",
    "        reporter(epoch=e, accuracy=top1_accuracy)"
   ]
  },
  {
   "cell_type": "markdown",
   "metadata": {},
   "source": [
    "**Create hyperparameter configuration space and construct `searcher` from the configuration space**"
   ]
  },
  {
   "cell_type": "code",
   "execution_count": 9,
   "metadata": {},
   "outputs": [],
   "source": [
    "import ConfigSpace as CS\n",
    "import ConfigSpace.hyperparameters as CSH\n",
    "\n",
    "cs = CS.ConfigurationSpace()\n",
    "lr = CSH.UniformFloatHyperparameter('lr', lower=1e-4, upper=1e-1, log=True)\n",
    "cs.add_hyperparameter(lr)\n",
    "\n",
    "searcher = ag.searcher.RandomSampling(cs)"
   ]
  },
  {
   "cell_type": "markdown",
   "metadata": {},
   "source": [
    "**Use Hyperband Scheduler or FIFO scheduler**\n",
    "\n",
    "Scheduler monitors the training progress of each task and apply early termination if needed."
   ]
  },
  {
   "cell_type": "code",
   "execution_count": 10,
   "metadata": {},
   "outputs": [],
   "source": [
    "myscheduler = ag.scheduler.Hyperband_Scheduler(train_fn, args,\n",
    "                                               resource={'num_cpus': 2, 'num_gpus': 0}, \n",
    "                                               searcher=searcher, num_trials=20,\n",
    "                                               reward_attr='accuracy',\n",
    "                                               time_attr='epoch',\n",
    "                                               grace_period=1)\n",
    "# run tasks\n",
    "myscheduler.run()"
   ]
  },
  {
   "cell_type": "markdown",
   "metadata": {},
   "source": [
    "**Join Tasks and Plot Results**"
   ]
  },
  {
   "cell_type": "code",
   "execution_count": 11,
   "metadata": {},
   "outputs": [
    {
     "data": {
      "image/png": "[encoded data removed]",
      "text/plain": [
       "<Figure size 432x288 with 1 Axes>"
      ]
     },
     "metadata": {
      "needs_background": "light"
     },
     "output_type": "display_data"
    }
   ],
   "source": [
    "myscheduler.join_tasks()\n",
    "myscheduler.get_training_curves(plot=True, use_legend=False)"
   ]
  },
  {
   "cell_type": "markdown",
   "metadata": {},
   "source": [
    "You may get Tensorboard Visualization:\n",
    "``tensorboard --logdir=./tutorials/exp/checkerpoint/logs/ --host=127.0.0.1 --port=8887``\n",
    "\n",
    "<img src=\"img/backend_demo.jpg\" alt=\"Backend Demo\" style=\"width: 600px;\"/>\n"
   ]
  },
  {
   "cell_type": "markdown",
   "metadata": {},
   "source": [
    "## Add You Own Searcher"
   ]
  },
  {
   "cell_type": "code",
   "execution_count": 12,
   "metadata": {},
   "outputs": [],
   "source": [
    "from autogluon.searcher import BaseSearcher\n",
    "class MyRandomSampling(BaseSearcher):\n",
    "    \"\"\"Random sampling Searcher for ConfigSpace\n",
    "    \"\"\"\n",
    "    def __init__(self, configspace):\n",
    "        super(MyRandomSampling, self).__init__(configspace)\n",
    "        # you may save and update state for your own algorithm\n",
    "        self.mystate = {}\n",
    "        \n",
    "    def get_config(self):\n",
    "        \"\"\"Function to sample a new configuration\n",
    "        \"\"\"\n",
    "        # get configuration space\n",
    "        cs = self.configspace\n",
    "        # sample the configuration using random sampling\n",
    "        myconfig = cs.sample_configuration()\n",
    "        # return the dictionary format\n",
    "        return myconfig.get_dictionary()\n",
    "\n",
    "    def update(self, config, reward, mystate):\n",
    "        \"\"\"Update the searcher with the newest metric report\n",
    "        \"\"\"\n",
    "        # we automatically track the history results in self._results\n",
    "        super(MyRandomSampling, self).update(config, reward)\n",
    "        # you may save and update state for your own algorithm\n",
    "        self.mystate[config] = mystate"
   ]
  },
  {
   "cell_type": "markdown",
   "metadata": {},
   "source": [
    "## Add Your Own Task Scheduler"
   ]
  },
  {
   "cell_type": "code",
   "execution_count": 13,
   "metadata": {},
   "outputs": [],
   "source": [
    "import collections\n",
    "import numpy as np\n",
    "import multiprocessing as mp\n",
    "from autogluon.scheduler import Hyperband_Scheduler\n",
    "\n",
    "\n",
    "class MedianStopping_Scheduler(Hyperband_Scheduler):\n",
    "    def __init__(self, train_fn, args, resource, searcher,\n",
    "                 checkpoint='./exp/checkerpoint.ag', \n",
    "                 resume=False,\n",
    "                 num_trials=None,\n",
    "                 time_attr=\"training_epoch\",\n",
    "                 reward_attr=\"accuracy\",\n",
    "                 visualizer='tensorboard',\n",
    "                 mode=\"max\",\n",
    "                 grace_period=1.0,\n",
    "                 min_samples_required=3):\n",
    "        super(MedianStopping_Scheduler, self).__init__(train_fn, args, resource, searcher,\n",
    "                                                       checkpoint, resume, num_trials,\n",
    "                                                       time_attr, reward_attr, visualizer=visualizer)\n",
    "        self.terminator = MediamStoppingRule(time_attr, reward_attr, mode, grace_period,\n",
    "                                             min_samples_required)\n",
    "    def state_dict(self, destination=None):\n",
    "        pass\n",
    "\n",
    "# This code is adapted from ray-project\n",
    "class MediamStoppingRule(object):\n",
    "    LOCK = mp.Lock()\n",
    "    def __init__(self,\n",
    "                 time_attr=\"training_epoch\",\n",
    "                 reward_attr=\"accuracy\",\n",
    "                 mode=\"max\",\n",
    "                 grace_period=1,\n",
    "                 min_samples_required=3):\n",
    "        self._time_attr = time_attr\n",
    "        self._reward_attr = reward_attr\n",
    "        self._stopped_tasks = set()\n",
    "        self._completed_tasks = set()\n",
    "        self._results = collections.defaultdict(list)\n",
    "        self._grace_period = grace_period\n",
    "        self._min_samples_required = min_samples_required\n",
    "        self._metric = reward_attr\n",
    "        if mode == \"max\":\n",
    "            self._metric_op = 1.\n",
    "        elif mode == \"min\":\n",
    "            self._metric_op = -1.\n",
    " \n",
    "    def on_task_add(self, task):\n",
    "        pass\n",
    " \n",
    "    def on_task_report(self, task, result):\n",
    "        # return True/False, which indicates whether we want to continue\n",
    "        time = result[self._time_attr]\n",
    "        self._results[task].append(result)\n",
    "        median_result = self._get_median_result(time)\n",
    "        best_result = self._best_result(task)\n",
    " \n",
    "        if best_result < median_result and time > self._grace_period:\n",
    "            self._stopped_tasks.add(task)\n",
    "            return False\n",
    "        else:\n",
    "            return True\n",
    "\n",
    "    def on_task_complete(self, task, result):\n",
    "        self._results[task].append(result)\n",
    "        self._completed_tasks.add(task)\n",
    "\n",
    "    def on_task_remove(self, task):\n",
    "        if task in self._results:\n",
    "            self._completed_tasks.add(task)\n",
    "\n",
    "    def _get_median_result(self, time):\n",
    "        scores = []\n",
    "        for task in self._completed_tasks:\n",
    "            scores.append(self._running_result(task, time))\n",
    "        if len(scores) >= self._min_samples_required:\n",
    "            return np.median(scores)\n",
    "        else:\n",
    "            return float(\"-inf\")\n",
    "\n",
    "    def _running_result(self, task, t_max=float(\"inf\")):\n",
    "        results = self._results[task]\n",
    "        return np.max([self._metric_op * r[self._metric] \n",
    "                       for r in results if r[self._time_attr] <= t_max])\n",
    "\n",
    "    def _best_result(self, task):\n",
    "        results = self._results[task]\n",
    "        return max(self._metric_op * r[self._metric] for r in results)\n",
    "\n",
    "    def __repr__(self):\n",
    "        return \"MedianStoppingRule: num_stopped={}.\".format(\n",
    "            len(self._stopped_tasks))"
   ]
  },
  {
   "cell_type": "code",
   "execution_count": 14,
   "metadata": {},
   "outputs": [],
   "source": [
    "@autogluon_method\n",
    "def train_fn(args, reporter):\n",
    "    for e in range(10):\n",
    "        # forward, backward, optimizer step and evaluation metric\n",
    "        # generate fake top1_accuracy\n",
    "        top1_accuracy = 1 - np.power(1.8, -np.random.uniform(e, 2*e))\n",
    "        if e % 10 == 0:\n",
    "            reporter(epoch=e, accuracy=top1_accuracy)"
   ]
  },
  {
   "cell_type": "code",
   "execution_count": 15,
   "metadata": {},
   "outputs": [],
   "source": [
    "myscheduler = MedianStopping_Scheduler(train_fn, args,\n",
    "                                       resource={'num_cpus': 2, 'num_gpus': 0}, \n",
    "                                       searcher=searcher, num_trials=20,\n",
    "                                       reward_attr='accuracy',\n",
    "                                       time_attr='epoch',\n",
    "                                       grace_period=1)\n",
    "# run tasks\n",
    "myscheduler.run()\n",
    "myscheduler.join()"
   ]
  },
  {
   "cell_type": "code",
   "execution_count": 16,
   "metadata": {},
   "outputs": [
    {
     "data": {
      "image/png": "[encoded data removed]",
      "text/plain": [
       "<Figure size 432x288 with 1 Axes>"
      ]
     },
     "metadata": {
      "needs_background": "light"
     },
     "output_type": "display_data"
    }
   ],
   "source": [
    "myscheduler.get_training_curves(plot=True, use_legend=False)"
   ]
  },
  {
   "cell_type": "code",
   "execution_count": null,
   "metadata": {},
   "outputs": [],
   "source": []
  }
 ],
 "metadata": {
  "kernelspec": {
   "display_name": "Python 3",
   "language": "python",
   "name": "python3"
  },
  "language_info": {
   "codemirror_mode": {
    "name": "ipython",
    "version": 3
   },
   "file_extension": ".py",
   "mimetype": "text/x-python",
   "name": "python",
   "nbconvert_exporter": "python",
   "pygments_lexer": "ipython3",
   "version": "3.7.3"
  }
 },
 "nbformat": 4,
 "nbformat_minor": 2
}
