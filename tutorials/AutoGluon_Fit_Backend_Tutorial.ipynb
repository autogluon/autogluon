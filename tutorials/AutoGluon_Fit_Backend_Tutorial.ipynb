{
 "cells": [
  {
   "cell_type": "markdown",
   "metadata": {},
   "source": [
    "# AutoGluon Fit Backend Tutorial"
   ]
  },
  {
   "cell_type": "markdown",
   "metadata": {},
   "source": [
    "## Prerequisite\n",
    "Please read **autogluon_demo Tutorial** first, if not yet."
   ]
  },
  {
   "cell_type": "markdown",
   "metadata": {},
   "source": [
    "## Install AutoGluon"
   ]
  },
  {
   "cell_type": "markdown",
   "metadata": {},
   "source": [
    "```\n",
    "cd AutoGluon && python setup.py install\n",
    "```"
   ]
  },
  {
   "cell_type": "markdown",
   "metadata": {},
   "source": [
    "## Understanding Task, Resource and Scheduler\n",
    "\n",
    "![Overlook](img/scheduler.png)"
   ]
  },
  {
   "cell_type": "markdown",
   "metadata": {},
   "source": [
    "Resources contains number of cpus and gpus. Task includes execute function, args and its resource. TaskScheduler automatically request resource for tasks and execut it as soon as its resource is ready."
   ]
  },
  {
   "cell_type": "code",
   "execution_count": 1,
   "metadata": {},
   "outputs": [],
   "source": [
    "from autogluon.resource import Resources\n",
    "from autogluon.scheduler import Task, TaskScheduler\n",
    "import time"
   ]
  },
  {
   "cell_type": "markdown",
   "metadata": {},
   "source": [
    "**Define custimized task**"
   ]
  },
  {
   "cell_type": "code",
   "execution_count": 2,
   "metadata": {},
   "outputs": [],
   "source": [
    "def my_task():\n",
    "    print('running, my_task')\n",
    "    time.sleep(3.0)\n"
   ]
  },
  {
   "cell_type": "markdown",
   "metadata": {},
   "source": [
    "**Create scheduler**"
   ]
  },
  {
   "cell_type": "code",
   "execution_count": 3,
   "metadata": {},
   "outputs": [],
   "source": [
    "scheduler = TaskScheduler()"
   ]
  },
  {
   "cell_type": "markdown",
   "metadata": {},
   "source": [
    "Add tasks with their resources to scheduler"
   ]
  },
  {
   "cell_type": "code",
   "execution_count": 4,
   "metadata": {},
   "outputs": [
    {
     "name": "stdout",
     "output_type": "stream",
     "text": [
      "running, my_task\n",
      "running, my_task\n",
      "running, my_task\n",
      "running, my_task\n",
      "running, my_task\n"
     ]
    }
   ],
   "source": [
    "for i in range(5):\n",
    "    resource = Resources(num_cpus=2, num_gpus=0)\n",
    "    task = Task(my_task, {}, resource)\n",
    "    scheduler.add_task(task)"
   ]
  },
  {
   "cell_type": "markdown",
   "metadata": {},
   "source": [
    "## Launch Task with Different Configurations"
   ]
  },
  {
   "cell_type": "code",
   "execution_count": 5,
   "metadata": {},
   "outputs": [],
   "source": [
    "import autogluon as ag\n",
    "from autogluon import autogluon_method"
   ]
  },
  {
   "cell_type": "markdown",
   "metadata": {},
   "source": [
    "**Configuration handled by `autogluon_method`**"
   ]
  },
  {
   "cell_type": "code",
   "execution_count": 6,
   "metadata": {},
   "outputs": [],
   "source": [
    "@autogluon_method\n",
    "def train_fn(args):\n",
    "    print('lr is {}'.format(args.lr))\n",
    "    \n",
    "import argparse\n",
    "import numpy as np\n",
    "args = argparse.ArgumentParser()\n",
    "config = {'lr': ag.searcher.sample_from(\n",
    "          lambda: np.power(10.0, np.random.uniform(-4, -1)))}"
   ]
  },
  {
   "cell_type": "markdown",
   "metadata": {},
   "source": [
    "**Schedule Tasks**"
   ]
  },
  {
   "cell_type": "code",
   "execution_count": 7,
   "metadata": {},
   "outputs": [
    {
     "name": "stdout",
     "output_type": "stream",
     "text": [
      "lr is 0.001782649715138694\n",
      "lr is 0.00203228544324115\n",
      "lr is 0.0044915238251379995\n",
      "lr is 0.07963234721775593\n",
      "lr is 0.00046342505832948756\n"
     ]
    }
   ],
   "source": [
    "myscheduler = TaskScheduler()\n",
    "for i in range(5):\n",
    "    resource = Resources(num_cpus=2, num_gpus=0)\n",
    "    task = Task(train_fn, {'args': args, 'config': config}, resource)\n",
    "    myscheduler.add_task(task)"
   ]
  },
  {
   "cell_type": "markdown",
   "metadata": {},
   "source": [
    "## Search Algorithm and Trial Scheduler"
   ]
  },
  {
   "cell_type": "markdown",
   "metadata": {},
   "source": [
    "Search Algorithm observes the performance of each task and suggests set of hyper parameters for each new task based on the history information.\n",
    "![Searcher](img/scheduler_searcher.png)\n",
    "**Construct `autogluon_method` with reporter**"
   ]
  },
  {
   "cell_type": "code",
   "execution_count": 8,
   "metadata": {},
   "outputs": [],
   "source": [
    "@autogluon_method\n",
    "def train_fn(args, reporter):\n",
    "    for e in range(10):\n",
    "        # forward, backward, optimizer step and evaluation metric\n",
    "        # generate fake top1_accuracy\n",
    "        top1_accuracy = 1 - np.power(1.8, -np.random.uniform(e, 2*e))\n",
    "        reporter(epoch=e, accuracy=top1_accuracy)"
   ]
  },
  {
   "cell_type": "markdown",
   "metadata": {},
   "source": [
    "**Create hyperparameter configuration space and construct `searcher` from the configuration space**"
   ]
  },
  {
   "cell_type": "code",
   "execution_count": 9,
   "metadata": {},
   "outputs": [],
   "source": [
    "import ConfigSpace as CS\n",
    "import ConfigSpace.hyperparameters as CSH\n",
    "\n",
    "cs = CS.ConfigurationSpace()\n",
    "lr = CSH.UniformFloatHyperparameter('lr', lower=1e-4, upper=1e-1, log=True)\n",
    "cs.add_hyperparameter(lr)\n",
    "\n",
    "searcher = ag.searcher.RandomSampling(cs)"
   ]
  },
  {
   "cell_type": "markdown",
   "metadata": {},
   "source": [
    "**Use Hyperband Scheduler or FIFO scheduler**\n",
    "\n",
    "Scheduler monitors the training progress of each task and apply early termination if needed."
   ]
  },
  {
   "cell_type": "code",
   "execution_count": 10,
   "metadata": {},
   "outputs": [],
   "source": [
    "myscheduler = ag.scheduler.Hyperband_Scheduler(train_fn, args,\n",
    "                                               resource={'num_cpus': 2, 'num_gpus': 0}, \n",
    "                                               searcher=searcher, num_trials=20,\n",
    "                                               reward_attr='accuracy',\n",
    "                                               time_attr='epoch',\n",
    "                                               grace_period=1)\n",
    "# run tasks\n",
    "myscheduler.run()"
   ]
  },
  {
   "cell_type": "markdown",
   "metadata": {},
   "source": [
    "**Join Tasks and Plot Results**"
   ]
  },
  {
   "cell_type": "code",
   "execution_count": 11,
   "metadata": {},
   "outputs": [],
   "source": [
    "myscheduler.join_tasks()"
   ]
  },
  {
   "cell_type": "markdown",
   "metadata": {},
   "source": [
    "You may get Tensorboard Visualization:\n",
    "``tensorboard --logdir=./tutorials/exp/checkerpoint/logs/ --host=127.0.0.1 --port=8887``\n",
    "![Backend Demo](img/backend_demo.jpg)"
   ]
  },
  {
   "cell_type": "code",
   "execution_count": null,
   "metadata": {},
   "outputs": [],
   "source": []
  }
 ],
 "metadata": {
  "kernelspec": {
   "display_name": "Python 3",
   "language": "python",
   "name": "python3"
  },
  "language_info": {
   "codemirror_mode": {
    "name": "ipython",
    "version": 3
   },
   "file_extension": ".py",
   "mimetype": "text/x-python",
   "name": "python",
   "nbconvert_exporter": "python",
   "pygments_lexer": "ipython3",
   "version": "3.7.3"
  }
 },
 "nbformat": 4,
 "nbformat_minor": 2
}
