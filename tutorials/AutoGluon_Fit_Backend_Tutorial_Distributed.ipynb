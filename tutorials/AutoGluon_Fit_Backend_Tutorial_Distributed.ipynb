{
 "cells": [
  {
   "cell_type": "markdown",
   "metadata": {},
   "source": [
    "# AutoGluon Fit Backend Tutorial (Distributed)"
   ]
  },
  {
   "cell_type": "markdown",
   "metadata": {},
   "source": [
    "## Prerequisite\n",
    "Please read **AutoGluon Task Scheduler Tutorial** first, if not yet."
   ]
  },
  {
   "cell_type": "markdown",
   "metadata": {},
   "source": [
    "## Distributed Scheduler Tutorial\n",
    "\n",
    "<img src=\"img/distributed_resource_manager.png\" alt=\"Distributed Resource Manager\" style=\"width: 600px;\"/>"
   ]
  },
  {
   "cell_type": "markdown",
   "metadata": {},
   "source": [
    "**Create Distributed Scheduler** for 8 servers, we launch the program from master node and provide the ip addresses for other nodes. Each node has 1 GPU (`p3.xlarge`)"
   ]
  },
  {
   "cell_type": "code",
   "execution_count": 1,
   "metadata": {},
   "outputs": [
    {
     "name": "stderr",
     "output_type": "stream",
     "text": [
      "/home/ubuntu/anaconda3/lib/python3.7/site-packages/paramiko/kex_ecdh_nist.py:39: CryptographyDeprecationWarning: encode_point has been deprecated on EllipticCurvePublicNumbers and will be removed in a future version. Please use EllipticCurvePublicKey.public_bytes to obtain both compressed and uncompressed point encoding.\n",
      "  m.add_string(self.Q_C.public_numbers().encode_point())\n",
      "/home/ubuntu/anaconda3/lib/python3.7/site-packages/paramiko/kex_ecdh_nist.py:96: CryptographyDeprecationWarning: Support for unsafe construction of public numbers from encoded data will be removed in a future version. Please use EllipticCurvePublicKey.from_encoded_point\n",
      "  self.curve, Q_S_bytes\n",
      "/home/ubuntu/anaconda3/lib/python3.7/site-packages/paramiko/kex_ecdh_nist.py:111: CryptographyDeprecationWarning: encode_point has been deprecated on EllipticCurvePublicNumbers and will be removed in a future version. Please use EllipticCurvePublicKey.public_bytes to obtain both compressed and uncompressed point encoding.\n",
      "  hm.add_string(self.Q_C.public_numbers().encode_point())\n"
     ]
    },
    {
     "name": "stdout",
     "output_type": "stream",
     "text": [
      "[ \u001b[1mscheduler 172.31.3.95:8782\u001b[0m ] : /home/ubuntu/anaconda3/bin/python -m distributed.cli.dask_scheduler --port 8782\n",
      "[ worker 172.31.3.95 ] : /home/ubuntu/anaconda3/bin/python -m distributed.cli.dask_worker 172.31.3.95:8782 --no-nanny --host 172.31.3.95\n",
      "[ \u001b[1mscheduler 172.31.3.95:8782\u001b[0m ] : distributed.scheduler - INFO - -----------------------------------------------\n",
      "[ \u001b[1mscheduler 172.31.3.95:8782\u001b[0m ] : distributed.scheduler - INFO - Clear task state\n",
      "[ \u001b[1mscheduler 172.31.3.95:8782\u001b[0m ] : distributed.scheduler - INFO -   Scheduler at:    tcp://172.31.3.95:8782\n",
      "[ \u001b[1mscheduler 172.31.3.95:8782\u001b[0m ] : distributed.scheduler - INFO -       bokeh at:                     :8787\n",
      "[ \u001b[1mscheduler 172.31.3.95:8782\u001b[0m ] : distributed.scheduler - INFO - Local Directory:    /tmp/scheduler-iq1_ldve\n",
      "[ \u001b[1mscheduler 172.31.3.95:8782\u001b[0m ] : distributed.scheduler - INFO - -----------------------------------------------\n",
      "[ \u001b[1mscheduler 172.31.3.95:8782\u001b[0m ] : distributed.scheduler - INFO - Register tcp://172.31.3.95:42100\n",
      "[ \u001b[1mscheduler 172.31.3.95:8782\u001b[0m ] : distributed.scheduler - INFO - Starting worker compute stream, tcp://172.31.3.95:42100\n",
      "[ \u001b[1mscheduler 172.31.3.95:8782\u001b[0m ] : distributed.core - INFO - Starting established connection\n",
      "[ \u001b[1mscheduler 172.31.3.95:8782\u001b[0m ] : distributed.scheduler - INFO - Receive client connection: Remote-11de3750-9926-11e9-8cae-5b731d85a30c\n",
      "[ \u001b[1mscheduler 172.31.3.95:8782\u001b[0m ] : distributed.core - INFO - Starting established connection\n",
      "[ worker 172.31.3.95 ] : distributed.diskutils - INFO - Found stale lock file and directory '/home/ubuntu/worker-v3vaze0m', purging\n",
      "[ worker 172.31.3.95 ] : distributed.worker - INFO -       Start worker at:    tcp://172.31.3.95:42100\n",
      "[ worker 172.31.3.95 ] : distributed.worker - INFO -          Listening to:    tcp://172.31.3.95:42100\n",
      "[ worker 172.31.3.95 ] : distributed.worker - INFO -              bokeh at:          172.31.3.95:40479\n",
      "[ worker 172.31.3.95 ] : distributed.worker - INFO - Waiting to connect to:     tcp://172.31.3.95:8782\n",
      "[ worker 172.31.3.95 ] : distributed.worker - INFO - -------------------------------------------------\n",
      "[ worker 172.31.3.95 ] : distributed.worker - INFO -               Threads:                          8\n",
      "[ worker 172.31.3.95 ] : distributed.worker - INFO -                Memory:                   64.39 GB\n",
      "[ worker 172.31.3.95 ] : distributed.worker - INFO -       Local Directory: /home/ubuntu/worker-0vifima_\n",
      "[ worker 172.31.3.95 ] : distributed.worker - INFO - -------------------------------------------------\n",
      "[ worker 172.31.3.95 ] : distributed.worker - INFO -         Registered to:     tcp://172.31.3.95:8782\n",
      "[ worker 172.31.3.95 ] : distributed.worker - INFO - -------------------------------------------------\n",
      "[ worker 172.31.3.95 ] : distributed.core - INFO - Starting established connection\n"
     ]
    }
   ],
   "source": [
    "import autogluon as ag\n",
    "from autogluon import autogluon_method\n",
    "\n",
    "# Make sure the master node can access the other nodes through ssh.\n",
    "# Make sure AutoGluon Package is installed on the machines.\n",
    "extra_node_ips = ['172.31.1.97',\n",
    "                  '172.31.3.224',\n",
    "                  '172.31.6.120',\n",
    "                  '172.31.1.216',\n",
    "                  '172.31.14.8',\n",
    "                  '172.31.14.237']\n",
    "\n",
    "# Create a distributed scheduler. If no ipaddresses are provided, \n",
    "# scheduler will only use the local resources\n",
    "scheduler = ag.distributed.DistributedTaskScheduler()#extra_node_ips)\n",
    "\n",
    "# Add additional node after intialize or at anytime.\n",
    "scheduler.add_remote('172.31.3.95')"
   ]
  },
  {
   "cell_type": "code",
   "execution_count": 2,
   "metadata": {},
   "outputs": [
    {
     "name": "stdout",
     "output_type": "stream",
     "text": [
      "DistributedTaskScheduler(\n",
      "DistributedResourceManager{\n",
      "(Remote: LocalNode REMOTE_ID: 0, \n",
      "\t172.31.8.238:8781, Resource: NodeResourceManager(8 CPUs, 1 GPUs))\n",
      "(Remote: Remote REMOTE_ID: 1, \n",
      "\t<Remote: scheduler='tcp://172.31.3.95:8782' processes=1 cores=8>, Resource: NodeResourceManager(8 CPUs, 1 GPUs))\n",
      "})\n",
      "\n"
     ]
    }
   ],
   "source": [
    "print(scheduler)"
   ]
  },
  {
   "cell_type": "markdown",
   "metadata": {},
   "source": [
    "**Construct a fake training function**"
   ]
  },
  {
   "cell_type": "code",
   "execution_count": 3,
   "metadata": {},
   "outputs": [],
   "source": [
    "import time\n",
    "import socket\n",
    "from autogluon.resource import DistributedResource\n",
    "\n",
    "@autogluon_method\n",
    "def train_fn(args):\n",
    "    print('task_id: {}, lr: {}'.format(args.task_id, args.lr))\n",
    "    # wait for 1 sec\n",
    "    time.sleep(1.0)"
   ]
  },
  {
   "cell_type": "markdown",
   "metadata": {},
   "source": [
    "**Launch 16 Tasks**"
   ]
  },
  {
   "cell_type": "code",
   "execution_count": 4,
   "metadata": {},
   "outputs": [
    {
     "name": "stdout",
     "output_type": "stream",
     "text": [
      "task_id: 0, lr: 0.001782649715138694\n",
      "[ worker 172.31.3.95 ] : task_id: 1, lr: 0.001782649715138694\n",
      "task_id: 2, lr: 0.00203228544324115\n",
      "[ worker 172.31.3.95 ] : task_id: 3, lr: 0.00203228544324115\n",
      "task_id: 4, lr: 0.0044915238251379995\n",
      "[ worker 172.31.3.95 ] : task_id: 5, lr: 0.0044915238251379995\n",
      "task_id: 6, lr: 0.07963234721775593\n",
      "[ worker 172.31.3.95 ] : task_id: 7, lr: 0.07963234721775593\n",
      "task_id: 8, lr: 0.00046342505832948756\n",
      "[ worker 172.31.3.95 ] : task_id: 9, lr: 0.00046342505832948756\n",
      "task_id: 10, lr: 0.04770681841935448\n",
      "task_id: 12, lr: 0.00016940447095242734\n",
      "[ worker 172.31.3.95 ] : task_id: 11, lr: 0.04770681841935448\n",
      "task_id: 14, lr: 0.04171461199412462\n",
      "[ worker 172.31.3.95 ] : task_id: 13, lr: 0.00016940447095242734\n",
      "[ worker 172.31.3.95 ] : task_id: 15, lr: 0.04171461199412462\n"
     ]
    }
   ],
   "source": [
    "import argparse\n",
    "import numpy as np\n",
    "from autogluon.scheduler import Task\n",
    "\n",
    "args = argparse.ArgumentParser()\n",
    "config = {'lr': ag.searcher.sample_from(\n",
    "            lambda: np.power(10.0, np.random.uniform(-4, -1)))}\n",
    "\n",
    "for i in range(16):\n",
    "    resource = DistributedResource(num_cpus=2, num_gpus=1)\n",
    "    task = Task(train_fn, {'args': args, 'config': config}, resource)\n",
    "    scheduler.add_task(task)\n",
    "    \n",
    "scheduler.join_tasks()"
   ]
  },
  {
   "cell_type": "code",
   "execution_count": 5,
   "metadata": {},
   "outputs": [],
   "source": [
    "@autogluon_method\n",
    "def train_fn(args, reporter):\n",
    "    for e in range(10):\n",
    "        # forward, backward, optimizer step and evaluation metric\n",
    "        # generate fake top1_accuracy\n",
    "        top1_accuracy = 1 - np.power(1.8, -np.random.uniform(e, 2*e))\n",
    "        reporter(epoch=e, accuracy=top1_accuracy)"
   ]
  },
  {
   "cell_type": "code",
   "execution_count": 6,
   "metadata": {},
   "outputs": [],
   "source": [
    "import argparse\n",
    "import ConfigSpace as CS\n",
    "import ConfigSpace.hyperparameters as CSH\n",
    "\n",
    "args = argparse.ArgumentParser()\n",
    "\n",
    "cs = CS.ConfigurationSpace()\n",
    "lr = CSH.UniformFloatHyperparameter('lr', lower=1e-4, upper=1e-1, log=True)\n",
    "cs.add_hyperparameter(lr)\n",
    "\n",
    "searcher = ag.searcher.RandomSampling(cs)"
   ]
  },
  {
   "cell_type": "code",
   "execution_count": 7,
   "metadata": {},
   "outputs": [],
   "source": [
    "myscheduler = ag.distributed.DistributedFIFOScheduler(train_fn, args,\n",
    "                                                      resource={'num_cpus': 2, 'num_gpus': 1}, \n",
    "                                                      searcher=searcher, num_trials=20,\n",
    "                                                      reward_attr='accuracy',\n",
    "                                                      time_attr='epoch')"
   ]
  },
  {
   "cell_type": "code",
   "execution_count": 8,
   "metadata": {},
   "outputs": [
    {
     "name": "stdout",
     "output_type": "stream",
     "text": [
      "top1_accuracy: 0.0\n",
      "top1_accuracy: 0.5863693518624175\n",
      "top1_accuracy: 0.8276781260559752\n",
      "top1_accuracy: 0.8645766704225891\n",
      "top1_accuracy: 0.931797268489984\n",
      "top1_accuracy: 0.9721594781664106\n",
      "top1_accuracy: 0.9932800942870174\n",
      "top1_accuracy: 0.994114835361443\n",
      "top1_accuracy: 0.9938883986616925\n",
      "top1_accuracy: 0.9991894482946119\n",
      "top1_accuracy: 0.0\n",
      "top1_accuracy: 0.4511797936000047\n",
      "top1_accuracy: 0.8534624098320646\n",
      "top1_accuracy: 0.9542137204119352\n",
      "top1_accuracy: 0.9704954194962195\n",
      "top1_accuracy: 0.9726652277177581\n",
      "top1_accuracy: 0.9853780616843826\n",
      "top1_accuracy: 0.9992853483454827\n",
      "top1_accuracy: 0.9959030073572825\n",
      "top1_accuracy: 0.9968406995955217\n",
      "top1_accuracy: 0.0\n",
      "top1_accuracy: 0.4507677868584513\n",
      "top1_accuracy: 0.8209554596685729\n",
      "top1_accuracy: 0.9522453810238602\n",
      "top1_accuracy: 0.9645313815542007\n",
      "top1_accuracy: 0.9872926053611709\n",
      "top1_accuracy: 0.9718946222994904\n",
      "top1_accuracy: 0.9978011051280421\n",
      "top1_accuracy: 0.9998917367123028\n",
      "top1_accuracy: 0.9999440389170993\n",
      "[ \u001b[1mscheduler 172.31.3.95:8782\u001b[0m ] : distributed.scheduler - INFO - Receive client connection: Client-worker-184e8370-9926-11e9-bcdb-9fba9ec01b7b\n",
      "[ \u001b[1mscheduler 172.31.3.95:8782\u001b[0m ] : distributed.core - INFO - Starting established connection\n",
      "[ worker 172.31.3.95 ] : top1_accuracy: 0.0\n",
      "[ worker 172.31.3.95 ] : top1_accuracy: 0.5863693518624175\n",
      "[ worker 172.31.3.95 ] : top1_accuracy: 0.8276781260559752\n",
      "[ worker 172.31.3.95 ] : top1_accuracy: 0.8645766704225891\n",
      "[ worker 172.31.3.95 ] : top1_accuracy: 0.931797268489984\n",
      "[ worker 172.31.3.95 ] : top1_accuracy: 0.9721594781664106\n",
      "[ worker 172.31.3.95 ] : top1_accuracy: 0.9932800942870174\n",
      "[ worker 172.31.3.95 ] : top1_accuracy: 0.994114835361443\n",
      "[ worker 172.31.3.95 ] : top1_accuracy: 0.9938883986616925\n",
      "[ worker 172.31.3.95 ] : top1_accuracy: 0.9991894482946119\n",
      "[ worker 172.31.3.95 ] : top1_accuracy: 0.0\n",
      "[ worker 172.31.3.95 ] : top1_accuracy: 0.4511797936000047\n",
      "[ worker 172.31.3.95 ] : top1_accuracy: 0.8534624098320646\n",
      "[ worker 172.31.3.95 ] : top1_accuracy: 0.9542137204119352\n",
      "[ worker 172.31.3.95 ] : top1_accuracy: 0.9704954194962195\n",
      "[ worker 172.31.3.95 ] : top1_accuracy: 0.9726652277177581\n",
      "[ worker 172.31.3.95 ] : top1_accuracy: 0.9853780616843826\n",
      "[ worker 172.31.3.95 ] : top1_accuracy: 0.9992853483454827\n",
      "[ worker 172.31.3.95 ] : top1_accuracy: 0.9959030073572825\n",
      "[ worker 172.31.3.95 ] : top1_accuracy: 0.9968406995955217\n",
      "[ worker 172.31.3.95 ] : top1_accuracy: 0.0\n",
      "[ worker 172.31.3.95 ] : top1_accuracy: 0.4507677868584513\n",
      "[ worker 172.31.3.95 ] : top1_accuracy: 0.8209554596685729\n",
      "[ worker 172.31.3.95 ] : top1_accuracy: 0.9522453810238602\n",
      "[ worker 172.31.3.95 ] : top1_accuracy: 0.9645313815542007\n",
      "top1_accuracy: 0.0\n",
      "top1_accuracy: 0.64040540528464\n",
      "top1_accuracy: 0.7735247109194469\n",
      "top1_accuracy: 0.9330985533885374\n",
      "top1_accuracy: 0.9079491865198973\n",
      "top1_accuracy: 0.9964438241944082\n",
      "top1_accuracy: 0.9987731300022715\n",
      "top1_accuracy: 0.9857645413754746\n",
      "top1_accuracy: 0.9998991775783453\n",
      "top1_accuracy: 0.997560417275033\n",
      "top1_accuracy: 0.0\n",
      "[ worker 172.31.3.95 ] : top1_accuracy: 0.9872926053611709\n",
      "[ worker 172.31.3.95 ] : top1_accuracy: 0.9718946222994904\n",
      "[ worker 172.31.3.95 ] : top1_accuracy: 0.9978011051280421\n",
      "[ worker 172.31.3.95 ] : top1_accuracy: 0.9998917367123028\n",
      "[ worker 172.31.3.95 ] : top1_accuracy: 0.9999440389170993\n",
      "[ worker 172.31.3.95 ] : top1_accuracy: 0.0\n",
      "[ worker 172.31.3.95 ] : top1_accuracy: 0.64040540528464\n",
      "[ worker 172.31.3.95 ] : top1_accuracy: 0.7735247109194469\n",
      "[ worker 172.31.3.95 ] : top1_accuracy: 0.9330985533885374\n",
      "[ worker 172.31.3.95 ] : top1_accuracy: 0.9079491865198973\n",
      "[ worker 172.31.3.95 ] : top1_accuracy: 0.9964438241944082\n",
      "[ worker 172.31.3.95 ] : top1_accuracy: 0.9987731300022715\n",
      "[ worker 172.31.3.95 ] : top1_accuracy: 0.9857645413754746\n",
      "top1_accuracy: 0.5168413572709507\n",
      "top1_accuracy: 0.88288198638075\n",
      "top1_accuracy: 0.9687683568767702\n",
      "top1_accuracy: 0.9903217532957942\n",
      "top1_accuracy: 0.9860404362023055\n",
      "top1_accuracy: 0.9965681033698633\n",
      "top1_accuracy: 0.9993281098239232\n",
      "top1_accuracy: 0.9995558496664652\n",
      "top1_accuracy: 0.9998894026211204\n",
      "top1_accuracy: 0.0\n",
      "top1_accuracy: 0.6473371481259074\n",
      "top1_accuracy: 0.8890665606101738\n",
      "[ worker 172.31.3.95 ] : top1_accuracy: 0.9998991775783453\n",
      "[ worker 172.31.3.95 ] : top1_accuracy: 0.997560417275033\n",
      "[ worker 172.31.3.95 ] : top1_accuracy: 0.0\n",
      "[ worker 172.31.3.95 ] : top1_accuracy: 0.5168413572709507\n",
      "[ worker 172.31.3.95 ] : top1_accuracy: 0.88288198638075\n",
      "top1_accuracy:[ worker 172.31.3.95 ] : top1_accuracy: 0.9687683568767702\n",
      "[ worker 172.31.3.95 ] : top1_accuracy: 0.9903217532957942\n",
      "[ worker 172.31.3.95 ] : top1_accuracy: 0.9860404362023055\n",
      "[ worker 172.31.3.95 ] : top1_accuracy: 0.9965681033698633\n",
      "[ worker 172.31.3.95 ] : top1_accuracy: 0.9993281098239232\n",
      "[ worker 172.31.3.95 ] : top1_accuracy: 0.9995558496664652\n",
      " 0.8309481255623725\n",
      "[ worker 172.31.3.95 ] : top1_accuracy: 0.9998894026211204\n",
      "top1_accuracy: 0.9540122970875049\n",
      "top1_accuracy: 0.9968275999557573\n",
      "top1_accuracy: 0.9951865392140932\n",
      "top1_accuracy: 0.9955909235728918\n",
      "top1_accuracy: 0.9992810865497738\n",
      "top1_accuracy: 0.9984360433059107\n",
      "top1_accuracy: 0.0\n",
      "top1_accuracy: 0.4998960509041165\n",
      "top1_accuracy: 0.7104656321957425\n",
      "top1_accuracy: 0.9093620633801832\n",
      "top1_accuracy: 0.9501459046732418\n",
      "top1_accuracy: 0.9888528191036698\n",
      "top1_accuracy: 0.9900044006183432\n",
      "[ worker 172.31.3.95 ] : top1_accuracy: 0.0\n",
      "[ worker 172.31.3.95 ] : top1_accuracy: 0.6473371481259074\n",
      "[ worker 172.31.3.95 ] : top1_accuracy: 0.8890665606101738\n",
      "[ worker 172.31.3.95 ] : top1_accuracy: 0.8309481255623725\n",
      "[ worker 172.31.3.95 ] : top1_accuracy: 0.9540122970875049\n",
      "[ worker 172.31.3.95 ] : top1_accuracy: 0.9968275999557573\n",
      "[ worker 172.31.3.95 ] : top1_accuracy: 0.9951865392140932\n",
      "[ worker 172.31.3.95 ] : top1_accuracy: 0.9955909235728918\n",
      "[ worker 172.31.3.95 ] : top1_accuracy: 0.9992810865497738\n",
      "[ worker 172.31.3.95 ] : top1_accuracy: 0.9984360433059107\n",
      "top1_accuracy: 0.9953331382303315\n",
      "top1_accuracy: 0.9946343275772151\n",
      "top1_accuracy: 0.9986559472047832\n",
      "top1_accuracy: 0.0\n",
      "top1_accuracy: 0.5915129638935038\n",
      "top1_accuracy: 0.8384536652264353\n",
      "top1_accuracy: 0.8417806075418396\n",
      "top1_accuracy: 0.9592081534033944\n",
      "top1_accuracy: 0.9725270484436398\n",
      "top1_accuracy: 0.9974088780494802\n",
      "top1_accuracy: 0.9916724059329035\n",
      "top1_accuracy: 0.9934806556673107\n",
      "[ worker 172.31.3.95 ] : top1_accuracy: 0.0\n",
      "[ worker 172.31.3.95 ] : top1_accuracy: 0.4998960509041165\n",
      "[ worker 172.31.3.95 ] : top1_accuracy: 0.7104656321957425\n",
      "[ worker 172.31.3.95 ] : top1_accuracy: 0.9093620633801832\n",
      "[ worker 172.31.3.95 ] : top1_accuracy: 0.9501459046732418\n",
      "[ worker 172.31.3.95 ] : top1_accuracy: 0.9888528191036698\n",
      "[ worker 172.31.3.95 ] : top1_accuracy: 0.9900044006183432\n",
      "[ worker 172.31.3.95 ] : top1_accuracy: 0.9953331382303315\n",
      "[ worker 172.31.3.95 ] : top1_accuracy: 0.9946343275772151\n",
      "[ worker 172.31.3.95 ] : top1_accuracy: 0.9986559472047832\n",
      "[ worker 172.31.3.95 ] : top1_accuracy: 0.0\n",
      "[ worker 172.31.3.95 ] : top1_accuracy: 0.5915129638935038\n",
      "[ worker 172.31.3.95 ] : top1_accuracy: 0.8384536652264353\n",
      "top1_accuracy: 0.9999652768067441\n",
      "top1_accuracy: 0.0\n",
      "top1_accuracy: 0.5932914666740876\n",
      "top1_accuracy: 0.7535805365191395\n",
      "top1_accuracy: 0.847881091311816\n",
      "top1_accuracy: 0.9850263740439625\n",
      "top1_accuracy: 0.9923101483247235\n",
      "top1_accuracy: 0.9968960434572383\n",
      "top1_accuracy: 0.9984705217134404\n",
      "top1_accuracy: 0.9924482700464\n",
      "top1_accuracy: 0.9992405701254338\n",
      "[ worker 172.31.3.95 ] : top1_accuracy: 0.8417806075418396\n",
      "[ worker 172.31.3.95 ] : top1_accuracy: 0.9592081534033944\n",
      "[ worker 172.31.3.95 ] : top1_accuracy: 0.9725270484436398\n",
      "[ worker 172.31.3.95 ] : top1_accuracy: 0.9974088780494802\n",
      "[ worker 172.31.3.95 ] : top1_accuracy: 0.9916724059329035\n",
      "[ worker 172.31.3.95 ] : top1_accuracy: 0.9934806556673107\n",
      "[ worker 172.31.3.95 ] : top1_accuracy: 0.9999652768067441\n",
      "[ worker 172.31.3.95 ] : top1_accuracy: 0.0\n",
      "[ worker 172.31.3.95 ] : top1_accuracy: 0.5932914666740876\n",
      "[ worker 172.31.3.95 ] : top1_accuracy: 0.7535805365191395\n",
      "[ worker 172.31.3.95 ] : top1_accuracy: 0.847881091311816\n",
      "[ worker 172.31.3.95 ] : top1_accuracy: 0.9850263740439625\n",
      "[ worker 172.31.3.95 ] : top1_accuracy: 0.9923101483247235\n",
      "[ worker 172.31.3.95 ] : top1_accuracy: 0.9968960434572383\n",
      "top1_accuracy: 0.0\n",
      "top1_accuracy: 0.5872385342778141\n",
      "top1_accuracy: 0.8901274022334482\n",
      "top1_accuracy: 0.8755697266718234\n",
      "top1_accuracy: 0.9871559112409201\n"
     ]
    },
    {
     "name": "stdout",
     "output_type": "stream",
     "text": [
      "top1_accuracy: 0.9941629739722434\n"
     ]
    }
   ],
   "source": [
    "myscheduler.run()"
   ]
  },
  {
   "cell_type": "code",
   "execution_count": 9,
   "metadata": {},
   "outputs": [
    {
     "name": "stdout",
     "output_type": "stream",
     "text": [
      "top1_accuracy: 0.9971936597737974\n",
      "top1_accuracy: 0.99971957634648\n",
      "top1_accuracy: 0.997289532679794\n",
      "top1_accuracy: 0.9956597381250288\n",
      "[ worker 172.31.3.95 ] : top1_accuracy: 0.9984705217134404\n",
      "[ worker 172.31.3.95 ] : top1_accuracy: 0.9924482700464\n",
      "[ worker 172.31.3.95 ] : top1_accuracy: 0.9992405701254338\n",
      "[ worker 172.31.3.95 ] : top1_accuracy: 0.0\n",
      "[ worker 172.31.3.95 ] : top1_accuracy: 0.5872385342778141\n",
      "[ worker 172.31.3.95 ] : top1_accuracy: 0.8901274022334482\n",
      "[ worker 172.31.3.95 ] : top1_accuracy: 0.8755697266718234\n",
      "[ worker 172.31.3.95 ] : top1_accuracy: 0.9871559112409201\n",
      "[ worker 172.31.3.95 ] : top1_accuracy: 0.9941629739722434\n",
      "[ worker 172.31.3.95 ] : top1_accuracy: 0.9971936597737974\n",
      "[ worker 172.31.3.95 ] : top1_accuracy: 0.99971957634648\n",
      "[ worker 172.31.3.95 ] : top1_accuracy: 0.997289532679794\n",
      "[ worker 172.31.3.95 ] : top1_accuracy: 0.9956597381250288\n"
     ]
    },
    {
     "data": {
      "image/png": "[encoded data removed]",
      "text/plain": [
       "<Figure size 432x288 with 1 Axes>"
      ]
     },
     "metadata": {
      "needs_background": "light"
     },
     "output_type": "display_data"
    }
   ],
   "source": [
    "myscheduler.join_tasks()\n",
    "myscheduler.get_training_curves(plot=True, use_legend=False)"
   ]
  },
  {
   "cell_type": "code",
   "execution_count": null,
   "metadata": {},
   "outputs": [],
   "source": []
  }
 ],
 "metadata": {
  "kernelspec": {
   "display_name": "Python 3",
   "language": "python",
   "name": "python3"
  },
  "language_info": {
   "codemirror_mode": {
    "name": "ipython",
    "version": 3
   },
   "file_extension": ".py",
   "mimetype": "text/x-python",
   "name": "python",
   "nbconvert_exporter": "python",
   "pygments_lexer": "ipython3",
   "version": "3.7.3"
  }
 },
 "nbformat": 4,
 "nbformat_minor": 2
}
