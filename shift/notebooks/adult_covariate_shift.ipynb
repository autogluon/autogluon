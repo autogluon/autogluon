{
 "cells": [
  {
   "cell_type": "code",
   "execution_count": 3,
   "id": "a97ee74d",
   "metadata": {
    "pycharm": {
     "name": "#%%\n"
    }
   },
   "outputs": [],
   "source": [
    "import autogluon.shift as sft"
   ]
  },
  {
   "cell_type": "code",
   "execution_count": 5,
   "id": "9fa90b32",
   "metadata": {
    "pycharm": {
     "name": "#%%\n"
    }
   },
   "outputs": [],
   "source": [
    "%run ../tests/unittests/models/test_classifier2ST.py\n",
    "from sklearn import metrics, model_selection\n",
    "from autogluon.tabular import TabularPredictor\n",
    "import plotnine as p9\n",
    "import bisect"
   ]
  },
  {
   "cell_type": "markdown",
   "id": "7551897f",
   "metadata": {
    "pycharm": {
     "name": "#%% md\n"
    }
   },
   "source": [
    "## Importing data\n",
    "\n",
    "We will import the adult dataset.  In the following analysis we will construct a dataset with covariate shift.  This means that we will need to identify a feature that can be used to bias the training sample, in order to make it not representative of the test population.  As we can see the marital status has a good mix of married and never-married, making it a potential candidate "
   ]
  },
  {
   "cell_type": "code",
   "execution_count": 11,
   "id": "e9d66b71",
   "metadata": {
    "pycharm": {
     "name": "#%%\n"
    }
   },
   "outputs": [
    {
     "data": {
      "text/html": [
       "<div>\n",
       "<style scoped>\n",
       "    .dataframe tbody tr th:only-of-type {\n",
       "        vertical-align: middle;\n",
       "    }\n",
       "\n",
       "    .dataframe tbody tr th {\n",
       "        vertical-align: top;\n",
       "    }\n",
       "\n",
       "    .dataframe thead th {\n",
       "        text-align: right;\n",
       "    }\n",
       "</style>\n",
       "<table border=\"1\" class=\"dataframe\">\n",
       "  <thead>\n",
       "    <tr style=\"text-align: right;\">\n",
       "      <th></th>\n",
       "      <th>age</th>\n",
       "      <th>workclass</th>\n",
       "      <th>fnlwgt</th>\n",
       "      <th>education</th>\n",
       "      <th>education-num</th>\n",
       "      <th>marital-status</th>\n",
       "      <th>occupation</th>\n",
       "      <th>relationship</th>\n",
       "      <th>race</th>\n",
       "      <th>sex</th>\n",
       "      <th>capital-gain</th>\n",
       "      <th>capital-loss</th>\n",
       "      <th>hours-per-week</th>\n",
       "      <th>native-country</th>\n",
       "      <th>class</th>\n",
       "    </tr>\n",
       "  </thead>\n",
       "  <tbody>\n",
       "    <tr>\n",
       "      <th>0</th>\n",
       "      <td>25</td>\n",
       "      <td>Private</td>\n",
       "      <td>178478</td>\n",
       "      <td>Bachelors</td>\n",
       "      <td>13</td>\n",
       "      <td>Never-married</td>\n",
       "      <td>Tech-support</td>\n",
       "      <td>Own-child</td>\n",
       "      <td>White</td>\n",
       "      <td>Female</td>\n",
       "      <td>0</td>\n",
       "      <td>0</td>\n",
       "      <td>40</td>\n",
       "      <td>United-States</td>\n",
       "      <td>&lt;=50K</td>\n",
       "    </tr>\n",
       "    <tr>\n",
       "      <th>1</th>\n",
       "      <td>23</td>\n",
       "      <td>State-gov</td>\n",
       "      <td>61743</td>\n",
       "      <td>5th-6th</td>\n",
       "      <td>3</td>\n",
       "      <td>Never-married</td>\n",
       "      <td>Transport-moving</td>\n",
       "      <td>Not-in-family</td>\n",
       "      <td>White</td>\n",
       "      <td>Male</td>\n",
       "      <td>0</td>\n",
       "      <td>0</td>\n",
       "      <td>35</td>\n",
       "      <td>United-States</td>\n",
       "      <td>&lt;=50K</td>\n",
       "    </tr>\n",
       "    <tr>\n",
       "      <th>2</th>\n",
       "      <td>46</td>\n",
       "      <td>Private</td>\n",
       "      <td>376789</td>\n",
       "      <td>HS-grad</td>\n",
       "      <td>9</td>\n",
       "      <td>Never-married</td>\n",
       "      <td>Other-service</td>\n",
       "      <td>Not-in-family</td>\n",
       "      <td>White</td>\n",
       "      <td>Male</td>\n",
       "      <td>0</td>\n",
       "      <td>0</td>\n",
       "      <td>15</td>\n",
       "      <td>United-States</td>\n",
       "      <td>&lt;=50K</td>\n",
       "    </tr>\n",
       "    <tr>\n",
       "      <th>3</th>\n",
       "      <td>55</td>\n",
       "      <td>?</td>\n",
       "      <td>200235</td>\n",
       "      <td>HS-grad</td>\n",
       "      <td>9</td>\n",
       "      <td>Married-civ-spouse</td>\n",
       "      <td>?</td>\n",
       "      <td>Husband</td>\n",
       "      <td>White</td>\n",
       "      <td>Male</td>\n",
       "      <td>0</td>\n",
       "      <td>0</td>\n",
       "      <td>50</td>\n",
       "      <td>United-States</td>\n",
       "      <td>&gt;50K</td>\n",
       "    </tr>\n",
       "    <tr>\n",
       "      <th>4</th>\n",
       "      <td>36</td>\n",
       "      <td>Private</td>\n",
       "      <td>224541</td>\n",
       "      <td>7th-8th</td>\n",
       "      <td>4</td>\n",
       "      <td>Married-civ-spouse</td>\n",
       "      <td>Handlers-cleaners</td>\n",
       "      <td>Husband</td>\n",
       "      <td>White</td>\n",
       "      <td>Male</td>\n",
       "      <td>0</td>\n",
       "      <td>0</td>\n",
       "      <td>40</td>\n",
       "      <td>El-Salvador</td>\n",
       "      <td>&lt;=50K</td>\n",
       "    </tr>\n",
       "    <tr>\n",
       "      <th>...</th>\n",
       "      <td>...</td>\n",
       "      <td>...</td>\n",
       "      <td>...</td>\n",
       "      <td>...</td>\n",
       "      <td>...</td>\n",
       "      <td>...</td>\n",
       "      <td>...</td>\n",
       "      <td>...</td>\n",
       "      <td>...</td>\n",
       "      <td>...</td>\n",
       "      <td>...</td>\n",
       "      <td>...</td>\n",
       "      <td>...</td>\n",
       "      <td>...</td>\n",
       "      <td>...</td>\n",
       "    </tr>\n",
       "    <tr>\n",
       "      <th>39068</th>\n",
       "      <td>54</td>\n",
       "      <td>Private</td>\n",
       "      <td>83103</td>\n",
       "      <td>Bachelors</td>\n",
       "      <td>13</td>\n",
       "      <td>Married-civ-spouse</td>\n",
       "      <td>Sales</td>\n",
       "      <td>Husband</td>\n",
       "      <td>White</td>\n",
       "      <td>Male</td>\n",
       "      <td>0</td>\n",
       "      <td>0</td>\n",
       "      <td>67</td>\n",
       "      <td>United-States</td>\n",
       "      <td>&lt;=50K</td>\n",
       "    </tr>\n",
       "    <tr>\n",
       "      <th>39069</th>\n",
       "      <td>23</td>\n",
       "      <td>Private</td>\n",
       "      <td>172232</td>\n",
       "      <td>HS-grad</td>\n",
       "      <td>9</td>\n",
       "      <td>Never-married</td>\n",
       "      <td>Farming-fishing</td>\n",
       "      <td>Not-in-family</td>\n",
       "      <td>White</td>\n",
       "      <td>Male</td>\n",
       "      <td>0</td>\n",
       "      <td>0</td>\n",
       "      <td>53</td>\n",
       "      <td>United-States</td>\n",
       "      <td>&lt;=50K</td>\n",
       "    </tr>\n",
       "    <tr>\n",
       "      <th>39070</th>\n",
       "      <td>37</td>\n",
       "      <td>Local-gov</td>\n",
       "      <td>165883</td>\n",
       "      <td>HS-grad</td>\n",
       "      <td>9</td>\n",
       "      <td>Married-civ-spouse</td>\n",
       "      <td>Handlers-cleaners</td>\n",
       "      <td>Husband</td>\n",
       "      <td>Black</td>\n",
       "      <td>Male</td>\n",
       "      <td>0</td>\n",
       "      <td>0</td>\n",
       "      <td>40</td>\n",
       "      <td>United-States</td>\n",
       "      <td>&lt;=50K</td>\n",
       "    </tr>\n",
       "    <tr>\n",
       "      <th>39071</th>\n",
       "      <td>26</td>\n",
       "      <td>Self-emp-not-inc</td>\n",
       "      <td>67240</td>\n",
       "      <td>HS-grad</td>\n",
       "      <td>9</td>\n",
       "      <td>Never-married</td>\n",
       "      <td>Handlers-cleaners</td>\n",
       "      <td>Not-in-family</td>\n",
       "      <td>White</td>\n",
       "      <td>Male</td>\n",
       "      <td>0</td>\n",
       "      <td>0</td>\n",
       "      <td>35</td>\n",
       "      <td>United-States</td>\n",
       "      <td>&lt;=50K</td>\n",
       "    </tr>\n",
       "    <tr>\n",
       "      <th>39072</th>\n",
       "      <td>37</td>\n",
       "      <td>State-gov</td>\n",
       "      <td>210452</td>\n",
       "      <td>Masters</td>\n",
       "      <td>14</td>\n",
       "      <td>Married-civ-spouse</td>\n",
       "      <td>Exec-managerial</td>\n",
       "      <td>Husband</td>\n",
       "      <td>White</td>\n",
       "      <td>Male</td>\n",
       "      <td>0</td>\n",
       "      <td>0</td>\n",
       "      <td>38</td>\n",
       "      <td>United-States</td>\n",
       "      <td>&lt;=50K</td>\n",
       "    </tr>\n",
       "  </tbody>\n",
       "</table>\n",
       "<p>39073 rows × 15 columns</p>\n",
       "</div>"
      ],
      "text/plain": [
       "       age          workclass  fnlwgt   education  education-num  \\\n",
       "0       25            Private  178478   Bachelors             13   \n",
       "1       23          State-gov   61743     5th-6th              3   \n",
       "2       46            Private  376789     HS-grad              9   \n",
       "3       55                  ?  200235     HS-grad              9   \n",
       "4       36            Private  224541     7th-8th              4   \n",
       "...    ...                ...     ...         ...            ...   \n",
       "39068   54            Private   83103   Bachelors             13   \n",
       "39069   23            Private  172232     HS-grad              9   \n",
       "39070   37          Local-gov  165883     HS-grad              9   \n",
       "39071   26   Self-emp-not-inc   67240     HS-grad              9   \n",
       "39072   37          State-gov  210452     Masters             14   \n",
       "\n",
       "            marital-status          occupation    relationship    race  \\\n",
       "0            Never-married        Tech-support       Own-child   White   \n",
       "1            Never-married    Transport-moving   Not-in-family   White   \n",
       "2            Never-married       Other-service   Not-in-family   White   \n",
       "3       Married-civ-spouse                   ?         Husband   White   \n",
       "4       Married-civ-spouse   Handlers-cleaners         Husband   White   \n",
       "...                    ...                 ...             ...     ...   \n",
       "39068   Married-civ-spouse               Sales         Husband   White   \n",
       "39069        Never-married     Farming-fishing   Not-in-family   White   \n",
       "39070   Married-civ-spouse   Handlers-cleaners         Husband   Black   \n",
       "39071        Never-married   Handlers-cleaners   Not-in-family   White   \n",
       "39072   Married-civ-spouse     Exec-managerial         Husband   White   \n",
       "\n",
       "           sex  capital-gain  capital-loss  hours-per-week  native-country  \\\n",
       "0       Female             0             0              40   United-States   \n",
       "1         Male             0             0              35   United-States   \n",
       "2         Male             0             0              15   United-States   \n",
       "3         Male             0             0              50   United-States   \n",
       "4         Male             0             0              40     El-Salvador   \n",
       "...        ...           ...           ...             ...             ...   \n",
       "39068     Male             0             0              67   United-States   \n",
       "39069     Male             0             0              53   United-States   \n",
       "39070     Male             0             0              40   United-States   \n",
       "39071     Male             0             0              35   United-States   \n",
       "39072     Male             0             0              38   United-States   \n",
       "\n",
       "        class  \n",
       "0       <=50K  \n",
       "1       <=50K  \n",
       "2       <=50K  \n",
       "3        >50K  \n",
       "4       <=50K  \n",
       "...       ...  \n",
       "39068   <=50K  \n",
       "39069   <=50K  \n",
       "39070   <=50K  \n",
       "39071   <=50K  \n",
       "39072   <=50K  \n",
       "\n",
       "[39073 rows x 15 columns]"
      ]
     },
     "execution_count": 11,
     "metadata": {},
     "output_type": "execute_result"
    }
   ],
   "source": [
    "data_dir = '../tests/data'\n",
    "\n",
    "train, test = load_adult_data()\n",
    "\n",
    "train"
   ]
  },
  {
   "cell_type": "code",
   "execution_count": 9,
   "id": "b426a5e5",
   "metadata": {
    "pycharm": {
     "name": "#%%\n"
    }
   },
   "outputs": [
    {
     "data": {
      "text/plain": [
       "marital-status        \n",
       " Married-civ-spouse       0.458705\n",
       " Never-married            0.330586\n",
       " Divorced                 0.134338\n",
       " Separated                0.031787\n",
       " Widowed                  0.031377\n",
       " Married-spouse-absent    0.012592\n",
       " Married-AF-spouse        0.000614\n",
       "dtype: float64"
      ]
     },
     "execution_count": 9,
     "metadata": {},
     "output_type": "execute_result"
    }
   ],
   "source": [
    "train[['marital-status']].value_counts(normalize=True)"
   ]
  },
  {
   "cell_type": "markdown",
   "id": "4c242abe",
   "metadata": {
    "pycharm": {
     "name": "#%% md\n"
    }
   },
   "source": [
    "## Detecting XShift\n",
    "\n",
    "First we will apply the XShift detector to the original adults dataset.  We see that our test does not detect a substantial difference between the training and test X distributions.  This was determined by calculating the balanced accuracy (50.02%) for a classifier, which predicts if a sample is in the test or training set.  This is so close to 50% (random guessing) that we suspect that the adults training/test sets are a random sample split."
   ]
  },
  {
   "cell_type": "code",
   "execution_count": 14,
   "id": "93a62817",
   "metadata": {
    "pycharm": {
     "name": "#%%\n"
    }
   },
   "outputs": [
    {
     "name": "stderr",
     "output_type": "stream",
     "text": [
      "No path specified. Models will be saved in: \"AutogluonModels/ag-20220802_200342/\"\n"
     ]
    }
   ],
   "source": [
    "xsd = sft.XShiftDetector(TabularPredictor, label='class')"
   ]
  },
  {
   "cell_type": "code",
   "execution_count": 15,
   "id": "6ddb5562",
   "metadata": {
    "pycharm": {
     "name": "#%%\n"
    }
   },
   "outputs": [
    {
     "name": "stderr",
     "output_type": "stream",
     "text": [
      "Beginning AutoGluon training ...\n",
      "AutoGluon will save models to \"AutogluonModels/ag-20220802_200342/\"\n",
      "AutoGluon Version:  0.4.3b20220616\n",
      "Python Version:     3.8.0\n",
      "Operating System:   Linux\n",
      "Train Data Rows:    24421\n",
      "Train Data Columns: 14\n",
      "Label Column: xshift_label\n",
      "Preprocessing data ...\n",
      "AutoGluon infers your prediction problem is: 'binary' (because only two unique label-values observed).\n",
      "\t2 unique label values:  [0, 1]\n",
      "\tIf 'binary' is not the correct problem_type, please manually specify the problem_type parameter during predictor init (You may specify problem_type as one of: ['binary', 'multiclass', 'regression'])\n",
      "Selected class <--> label mapping:  class 1 = 1, class 0 = 0\n",
      "Using Feature Generators to preprocess the data ...\n",
      "Fitting AutoMLPipelineFeatureGenerator...\n",
      "\tAvailable Memory:                    14802.25 MB\n",
      "\tTrain Data (Original)  Memory Usage: 14.32 MB (0.1% of available memory)\n",
      "\tInferring data type of each feature based on column values. Set feature_metadata_in to manually specify special dtypes of the features.\n",
      "\tStage 1 Generators:\n",
      "\t\tFitting AsTypeFeatureGenerator...\n",
      "\t\t\tNote: Converting 1 features to boolean dtype as they only contain 2 unique values.\n",
      "\tStage 2 Generators:\n",
      "\t\tFitting FillNaFeatureGenerator...\n",
      "\tStage 3 Generators:\n",
      "\t\tFitting IdentityFeatureGenerator...\n",
      "\t\tFitting CategoryFeatureGenerator...\n",
      "\t\t\tFitting CategoryMemoryMinimizeFeatureGenerator...\n",
      "\tStage 4 Generators:\n",
      "\t\tFitting DropUniqueFeatureGenerator...\n",
      "\tTypes of features in original data (raw dtype, special dtypes):\n",
      "\t\t('int', [])    : 6 | ['age', 'fnlwgt', 'education-num', 'capital-gain', 'capital-loss', ...]\n",
      "\t\t('object', []) : 8 | ['workclass', 'education', 'marital-status', 'occupation', 'relationship', ...]\n",
      "\tTypes of features in processed data (raw dtype, special dtypes):\n",
      "\t\t('category', [])  : 7 | ['workclass', 'education', 'marital-status', 'occupation', 'relationship', ...]\n",
      "\t\t('int', [])       : 6 | ['age', 'fnlwgt', 'education-num', 'capital-gain', 'capital-loss', ...]\n",
      "\t\t('int', ['bool']) : 1 | ['sex']\n",
      "\t0.2s = Fit runtime\n",
      "\t14 features in original data used to generate 14 features in processed data.\n",
      "\tTrain Data (Processed) Memory Usage: 1.37 MB (0.0% of available memory)\n",
      "Data preprocessing and feature engineering runtime = 0.18s ...\n",
      "AutoGluon will gauge predictive performance using evaluation metric: 'accuracy'\n",
      "\tTo change this, specify the eval_metric parameter of Predictor()\n",
      "Automatically generating train/validation split with holdout_frac=0.1, Train Rows: 21978, Val Rows: 2443\n",
      "Fitting 13 L1 models ...\n",
      "Fitting model: KNeighborsUnif ...\n",
      "\t0.7749\t = Validation score   (accuracy)\n",
      "\t0.02s\t = Training   runtime\n",
      "\t0.03s\t = Validation runtime\n",
      "Fitting model: KNeighborsDist ...\n",
      "\t0.7397\t = Validation score   (accuracy)\n",
      "\t0.02s\t = Training   runtime\n",
      "\t0.02s\t = Validation runtime\n",
      "Fitting model: LightGBMXT ...\n",
      "\t0.7994\t = Validation score   (accuracy)\n",
      "\t0.47s\t = Training   runtime\n",
      "\t0.01s\t = Validation runtime\n",
      "Fitting model: LightGBM ...\n",
      "\t0.7994\t = Validation score   (accuracy)\n",
      "\t0.42s\t = Training   runtime\n",
      "\t0.01s\t = Validation runtime\n",
      "Fitting model: RandomForestGini ...\n",
      "\t0.7925\t = Validation score   (accuracy)\n",
      "\t3.55s\t = Training   runtime\n",
      "\t0.13s\t = Validation runtime\n",
      "Fitting model: RandomForestEntr ...\n",
      "\t0.7937\t = Validation score   (accuracy)\n",
      "\t4.74s\t = Training   runtime\n",
      "\t0.13s\t = Validation runtime\n",
      "Fitting model: CatBoost ...\n",
      "\t0.799\t = Validation score   (accuracy)\n",
      "\t2.5s\t = Training   runtime\n",
      "\t0.01s\t = Validation runtime\n",
      "Fitting model: ExtraTreesGini ...\n",
      "\t0.7904\t = Validation score   (accuracy)\n",
      "\t2.16s\t = Training   runtime\n",
      "\t0.14s\t = Validation runtime\n",
      "Fitting model: ExtraTreesEntr ...\n",
      "\t0.7896\t = Validation score   (accuracy)\n",
      "\t2.38s\t = Training   runtime\n",
      "\t0.14s\t = Validation runtime\n",
      "Fitting model: NeuralNetFastAI ...\n",
      "No improvement since epoch 3: early stopping\n",
      "\t0.7994\t = Validation score   (accuracy)\n",
      "\t16.13s\t = Training   runtime\n",
      "\t0.04s\t = Validation runtime\n",
      "Fitting model: XGBoost ...\n",
      "\t0.7998\t = Validation score   (accuracy)\n",
      "\t0.61s\t = Training   runtime\n",
      "\t0.02s\t = Validation runtime\n",
      "Fitting model: NeuralNetTorch ...\n",
      "\t0.7994\t = Validation score   (accuracy)\n",
      "\t15.57s\t = Training   runtime\n",
      "\t0.05s\t = Validation runtime\n",
      "Fitting model: LightGBMLarge ...\n",
      "\t0.7994\t = Validation score   (accuracy)\n",
      "\t0.67s\t = Training   runtime\n",
      "\t0.01s\t = Validation runtime\n",
      "Fitting model: WeightedEnsemble_L2 ...\n",
      "\t0.7998\t = Validation score   (accuracy)\n",
      "\t1.12s\t = Training   runtime\n",
      "\t0.0s\t = Validation runtime\n",
      "AutoGluon training complete, total runtime = 54.19s ... Best model: \"WeightedEnsemble_L2\"\n",
      "TabularPredictor saved. To load, use: predictor = TabularPredictor.load(\"AutogluonModels/ag-20220802_200342/\")\n",
      "Computing feature importance via permutation shuffling for 14 features using 5000 rows with 5 shuffle sets...\n",
      "\t3.3s\t= Expected runtime (0.66s per shuffle set)\n",
      "\t2.52s\t= Actual runtime (Completed 5 of 5 shuffle sets)\n"
     ]
    }
   ],
   "source": [
    "xsd.fit(train, test)"
   ]
  },
  {
   "cell_type": "code",
   "execution_count": 16,
   "id": "206bf39f",
   "metadata": {
    "pycharm": {
     "name": "#%%\n"
    }
   },
   "outputs": [],
   "source": [
    "sumry = xsd.summary()"
   ]
  },
  {
   "cell_type": "code",
   "execution_count": 18,
   "id": "689f5801",
   "metadata": {
    "pycharm": {
     "name": "#%%\n"
    }
   },
   "outputs": [
    {
     "data": {
      "text/plain": [
       "'# Detecting distribution shiftWe did not detect a substantial difference between the training and test X distributions.'"
      ]
     },
     "execution_count": 18,
     "metadata": {},
     "output_type": "execute_result"
    }
   ],
   "source": [
    "sumry"
   ]
  },
  {
   "cell_type": "code",
   "execution_count": 21,
   "id": "5b1bb7a6",
   "metadata": {
    "pycharm": {
     "name": "#%%\n"
    }
   },
   "outputs": [
    {
     "data": {
      "text/plain": [
       "0.5001811040326062"
      ]
     },
     "execution_count": 21,
     "metadata": {},
     "output_type": "execute_result"
    }
   ],
   "source": [
    "xsd.C2ST.test_stat"
   ]
  },
  {
   "cell_type": "markdown",
   "id": "0f4931f2",
   "metadata": {
    "pycharm": {
     "name": "#%% md\n"
    }
   },
   "source": [
    "## Simulating covariate shift\n",
    "\n",
    "In this section, we will simulate covariate shift for the adults dataset.  We do this by finding a variable that has both high enough entropy to be useful to bias the training data, but also has some bearing on the penultimate prediction."
   ]
  },
  {
   "cell_type": "code",
   "execution_count": 10,
   "id": "697ece8d",
   "metadata": {
    "pycharm": {
     "name": "#%%\n"
    }
   },
   "outputs": [
    {
     "name": "stderr",
     "output_type": "stream",
     "text": [
      "No path specified. Models will be saved in: \"AutogluonModels/ag-20220802_195448/\"\n",
      "Beginning AutoGluon training ...\n",
      "AutoGluon will save models to \"AutogluonModels/ag-20220802_195448/\"\n",
      "AutoGluon Version:  0.4.3b20220616\n",
      "Python Version:     3.8.0\n",
      "Operating System:   Linux\n",
      "Train Data Rows:    39073\n",
      "Train Data Columns: 14\n",
      "Label Column: class\n",
      "Preprocessing data ...\n",
      "AutoGluon infers your prediction problem is: 'binary' (because only two unique label-values observed).\n",
      "\t2 unique label values:  [' <=50K', ' >50K']\n",
      "\tIf 'binary' is not the correct problem_type, please manually specify the problem_type parameter during predictor init (You may specify problem_type as one of: ['binary', 'multiclass', 'regression'])\n",
      "Selected class <--> label mapping:  class 1 =  >50K, class 0 =  <=50K\n",
      "\tNote: For your binary classification, AutoGluon arbitrarily selected which label-value represents positive ( >50K) vs negative ( <=50K) class.\n",
      "\tTo explicitly set the positive_class, either rename classes to 1 and 0, or specify positive_class in Predictor init.\n",
      "Using Feature Generators to preprocess the data ...\n",
      "Fitting AutoMLPipelineFeatureGenerator...\n",
      "\tAvailable Memory:                    15409.97 MB\n",
      "\tTrain Data (Original)  Memory Usage: 22.92 MB (0.1% of available memory)\n",
      "\tInferring data type of each feature based on column values. Set feature_metadata_in to manually specify special dtypes of the features.\n",
      "\tStage 1 Generators:\n",
      "\t\tFitting AsTypeFeatureGenerator...\n",
      "\t\t\tNote: Converting 1 features to boolean dtype as they only contain 2 unique values.\n",
      "\tStage 2 Generators:\n",
      "\t\tFitting FillNaFeatureGenerator...\n",
      "\tStage 3 Generators:\n",
      "\t\tFitting IdentityFeatureGenerator...\n",
      "\t\tFitting CategoryFeatureGenerator...\n",
      "\t\t\tFitting CategoryMemoryMinimizeFeatureGenerator...\n",
      "\tStage 4 Generators:\n",
      "\t\tFitting DropUniqueFeatureGenerator...\n",
      "\tTypes of features in original data (raw dtype, special dtypes):\n",
      "\t\t('int', [])    : 6 | ['age', 'fnlwgt', 'education-num', 'capital-gain', 'capital-loss', ...]\n",
      "\t\t('object', []) : 8 | ['workclass', 'education', 'marital-status', 'occupation', 'relationship', ...]\n",
      "\tTypes of features in processed data (raw dtype, special dtypes):\n",
      "\t\t('category', [])  : 7 | ['workclass', 'education', 'marital-status', 'occupation', 'relationship', ...]\n",
      "\t\t('int', [])       : 6 | ['age', 'fnlwgt', 'education-num', 'capital-gain', 'capital-loss', ...]\n",
      "\t\t('int', ['bool']) : 1 | ['sex']\n",
      "\t0.2s = Fit runtime\n",
      "\t14 features in original data used to generate 14 features in processed data.\n",
      "\tTrain Data (Processed) Memory Usage: 2.19 MB (0.0% of available memory)\n",
      "Data preprocessing and feature engineering runtime = 0.27s ...\n",
      "AutoGluon will gauge predictive performance using evaluation metric: 'accuracy'\n",
      "\tTo change this, specify the eval_metric parameter of Predictor()\n",
      "Automatically generating train/validation split with holdout_frac=0.0639828014229775, Train Rows: 36573, Val Rows: 2500\n",
      "Fitting 13 L1 models ...\n",
      "Fitting model: KNeighborsUnif ...\n",
      "\t0.7752\t = Validation score   (accuracy)\n",
      "\t0.04s\t = Training   runtime\n",
      "\t0.03s\t = Validation runtime\n",
      "Fitting model: KNeighborsDist ...\n",
      "\t0.766\t = Validation score   (accuracy)\n",
      "\t0.04s\t = Training   runtime\n",
      "\t0.03s\t = Validation runtime\n",
      "Fitting model: LightGBMXT ...\n",
      "\t0.8792\t = Validation score   (accuracy)\n",
      "\t1.81s\t = Training   runtime\n",
      "\t0.04s\t = Validation runtime\n",
      "Fitting model: LightGBM ...\n",
      "\t0.8824\t = Validation score   (accuracy)\n",
      "\t1.07s\t = Training   runtime\n",
      "\t0.03s\t = Validation runtime\n",
      "Fitting model: RandomForestGini ...\n",
      "\t0.8588\t = Validation score   (accuracy)\n",
      "\t3.91s\t = Training   runtime\n",
      "\t0.13s\t = Validation runtime\n",
      "Fitting model: RandomForestEntr ...\n",
      "\t0.862\t = Validation score   (accuracy)\n",
      "\t4.92s\t = Training   runtime\n",
      "\t0.12s\t = Validation runtime\n",
      "Fitting model: CatBoost ...\n",
      "/home/ubuntu/autogluon/env/lib/python3.8/site-packages/xgboost/compat.py:31: FutureWarning: pandas.Int64Index is deprecated and will be removed from pandas in a future version. Use pandas.Index with the appropriate dtype instead.\n",
      "\t0.8828\t = Validation score   (accuracy)\n",
      "\t16.25s\t = Training   runtime\n",
      "\t0.01s\t = Validation runtime\n",
      "Fitting model: ExtraTreesGini ...\n",
      "\t0.85\t = Validation score   (accuracy)\n",
      "\t2.66s\t = Training   runtime\n",
      "\t0.14s\t = Validation runtime\n",
      "Fitting model: ExtraTreesEntr ...\n",
      "\t0.848\t = Validation score   (accuracy)\n",
      "\t2.82s\t = Training   runtime\n",
      "\t0.14s\t = Validation runtime\n",
      "Fitting model: NeuralNetFastAI ...\n",
      "No improvement since epoch 9: early stopping\n",
      "\t0.8612\t = Validation score   (accuracy)\n",
      "\t32.73s\t = Training   runtime\n",
      "\t0.04s\t = Validation runtime\n",
      "Fitting model: XGBoost ...\n",
      "\t0.8872\t = Validation score   (accuracy)\n",
      "\t0.99s\t = Training   runtime\n",
      "\t0.02s\t = Validation runtime\n",
      "Fitting model: NeuralNetTorch ...\n",
      "\t0.8584\t = Validation score   (accuracy)\n",
      "\t40.22s\t = Training   runtime\n",
      "\t0.05s\t = Validation runtime\n",
      "Fitting model: LightGBMLarge ...\n",
      "\t0.8856\t = Validation score   (accuracy)\n",
      "\t1.75s\t = Training   runtime\n",
      "\t0.03s\t = Validation runtime\n",
      "Fitting model: WeightedEnsemble_L2 ...\n",
      "\t0.8912\t = Validation score   (accuracy)\n",
      "\t1.16s\t = Training   runtime\n",
      "\t0.0s\t = Validation runtime\n",
      "AutoGluon training complete, total runtime = 115.29s ... Best model: \"WeightedEnsemble_L2\"\n",
      "TabularPredictor saved. To load, use: predictor = TabularPredictor.load(\"AutogluonModels/ag-20220802_195448/\")\n"
     ]
    }
   ],
   "source": [
    "pred = TabularPredictor(label='class').fit(train)"
   ]
  },
  {
   "cell_type": "code",
   "execution_count": 12,
   "id": "e717f1e2",
   "metadata": {
    "pycharm": {
     "name": "#%%\n"
    }
   },
   "outputs": [
    {
     "data": {
      "text/plain": [
       "0.846642729754961"
      ]
     },
     "execution_count": 12,
     "metadata": {},
     "output_type": "execute_result"
    }
   ],
   "source": [
    "yhat = pred.predict(test)\n",
    "metrics.balanced_accuracy_score(yhat, test['class'])"
   ]
  },
  {
   "cell_type": "code",
   "execution_count": 49,
   "id": "3ebd90a9",
   "metadata": {
    "pycharm": {
     "name": "#%%\n"
    }
   },
   "outputs": [
    {
     "name": "stderr",
     "output_type": "stream",
     "text": [
      "Computing feature importance via permutation shuffling for 14 features using 5000 rows with 5 shuffle sets...\n",
      "\t20.92s\t= Expected runtime (4.18s per shuffle set)\n",
      "\t17.21s\t= Actual runtime (Completed 5 of 5 shuffle sets)\n"
     ]
    },
    {
     "data": {
      "text/html": [
       "<div>\n",
       "<style scoped>\n",
       "    .dataframe tbody tr th:only-of-type {\n",
       "        vertical-align: middle;\n",
       "    }\n",
       "\n",
       "    .dataframe tbody tr th {\n",
       "        vertical-align: top;\n",
       "    }\n",
       "\n",
       "    .dataframe thead th {\n",
       "        text-align: right;\n",
       "    }\n",
       "</style>\n",
       "<table border=\"1\" class=\"dataframe\">\n",
       "  <thead>\n",
       "    <tr style=\"text-align: right;\">\n",
       "      <th></th>\n",
       "      <th>importance</th>\n",
       "      <th>stddev</th>\n",
       "      <th>p_value</th>\n",
       "      <th>n</th>\n",
       "      <th>p99_high</th>\n",
       "      <th>p99_low</th>\n",
       "    </tr>\n",
       "  </thead>\n",
       "  <tbody>\n",
       "    <tr>\n",
       "      <th>capital-gain</th>\n",
       "      <td>0.04804</td>\n",
       "      <td>0.004401</td>\n",
       "      <td>0.000008</td>\n",
       "      <td>5</td>\n",
       "      <td>0.057102</td>\n",
       "      <td>0.038978</td>\n",
       "    </tr>\n",
       "    <tr>\n",
       "      <th>marital-status</th>\n",
       "      <td>0.03164</td>\n",
       "      <td>0.002851</td>\n",
       "      <td>0.000008</td>\n",
       "      <td>5</td>\n",
       "      <td>0.037510</td>\n",
       "      <td>0.025770</td>\n",
       "    </tr>\n",
       "    <tr>\n",
       "      <th>education-num</th>\n",
       "      <td>0.01824</td>\n",
       "      <td>0.003468</td>\n",
       "      <td>0.000150</td>\n",
       "      <td>5</td>\n",
       "      <td>0.025381</td>\n",
       "      <td>0.011099</td>\n",
       "    </tr>\n",
       "    <tr>\n",
       "      <th>occupation</th>\n",
       "      <td>0.01736</td>\n",
       "      <td>0.002269</td>\n",
       "      <td>0.000034</td>\n",
       "      <td>5</td>\n",
       "      <td>0.022032</td>\n",
       "      <td>0.012688</td>\n",
       "    </tr>\n",
       "    <tr>\n",
       "      <th>age</th>\n",
       "      <td>0.01724</td>\n",
       "      <td>0.004080</td>\n",
       "      <td>0.000350</td>\n",
       "      <td>5</td>\n",
       "      <td>0.025641</td>\n",
       "      <td>0.008839</td>\n",
       "    </tr>\n",
       "    <tr>\n",
       "      <th>capital-loss</th>\n",
       "      <td>0.01212</td>\n",
       "      <td>0.001724</td>\n",
       "      <td>0.000048</td>\n",
       "      <td>5</td>\n",
       "      <td>0.015670</td>\n",
       "      <td>0.008570</td>\n",
       "    </tr>\n",
       "    <tr>\n",
       "      <th>relationship</th>\n",
       "      <td>0.00636</td>\n",
       "      <td>0.003330</td>\n",
       "      <td>0.006471</td>\n",
       "      <td>5</td>\n",
       "      <td>0.013216</td>\n",
       "      <td>-0.000496</td>\n",
       "    </tr>\n",
       "    <tr>\n",
       "      <th>hours-per-week</th>\n",
       "      <td>0.00628</td>\n",
       "      <td>0.002722</td>\n",
       "      <td>0.003354</td>\n",
       "      <td>5</td>\n",
       "      <td>0.011886</td>\n",
       "      <td>0.000674</td>\n",
       "    </tr>\n",
       "    <tr>\n",
       "      <th>workclass</th>\n",
       "      <td>0.00456</td>\n",
       "      <td>0.001621</td>\n",
       "      <td>0.001632</td>\n",
       "      <td>5</td>\n",
       "      <td>0.007898</td>\n",
       "      <td>0.001222</td>\n",
       "    </tr>\n",
       "    <tr>\n",
       "      <th>fnlwgt</th>\n",
       "      <td>0.00284</td>\n",
       "      <td>0.000942</td>\n",
       "      <td>0.001263</td>\n",
       "      <td>5</td>\n",
       "      <td>0.004780</td>\n",
       "      <td>0.000900</td>\n",
       "    </tr>\n",
       "    <tr>\n",
       "      <th>native-country</th>\n",
       "      <td>0.00124</td>\n",
       "      <td>0.001108</td>\n",
       "      <td>0.033308</td>\n",
       "      <td>5</td>\n",
       "      <td>0.003522</td>\n",
       "      <td>-0.001042</td>\n",
       "    </tr>\n",
       "    <tr>\n",
       "      <th>race</th>\n",
       "      <td>0.00108</td>\n",
       "      <td>0.001781</td>\n",
       "      <td>0.123306</td>\n",
       "      <td>5</td>\n",
       "      <td>0.004747</td>\n",
       "      <td>-0.002587</td>\n",
       "    </tr>\n",
       "    <tr>\n",
       "      <th>sex</th>\n",
       "      <td>0.00036</td>\n",
       "      <td>0.001367</td>\n",
       "      <td>0.293765</td>\n",
       "      <td>5</td>\n",
       "      <td>0.003174</td>\n",
       "      <td>-0.002454</td>\n",
       "    </tr>\n",
       "    <tr>\n",
       "      <th>education</th>\n",
       "      <td>0.00032</td>\n",
       "      <td>0.001453</td>\n",
       "      <td>0.324131</td>\n",
       "      <td>5</td>\n",
       "      <td>0.003312</td>\n",
       "      <td>-0.002672</td>\n",
       "    </tr>\n",
       "  </tbody>\n",
       "</table>\n",
       "</div>"
      ],
      "text/plain": [
       "                importance    stddev   p_value  n  p99_high   p99_low\n",
       "capital-gain       0.04804  0.004401  0.000008  5  0.057102  0.038978\n",
       "marital-status     0.03164  0.002851  0.000008  5  0.037510  0.025770\n",
       "education-num      0.01824  0.003468  0.000150  5  0.025381  0.011099\n",
       "occupation         0.01736  0.002269  0.000034  5  0.022032  0.012688\n",
       "age                0.01724  0.004080  0.000350  5  0.025641  0.008839\n",
       "capital-loss       0.01212  0.001724  0.000048  5  0.015670  0.008570\n",
       "relationship       0.00636  0.003330  0.006471  5  0.013216 -0.000496\n",
       "hours-per-week     0.00628  0.002722  0.003354  5  0.011886  0.000674\n",
       "workclass          0.00456  0.001621  0.001632  5  0.007898  0.001222\n",
       "fnlwgt             0.00284  0.000942  0.001263  5  0.004780  0.000900\n",
       "native-country     0.00124  0.001108  0.033308  5  0.003522 -0.001042\n",
       "race               0.00108  0.001781  0.123306  5  0.004747 -0.002587\n",
       "sex                0.00036  0.001367  0.293765  5  0.003174 -0.002454\n",
       "education          0.00032  0.001453  0.324131  5  0.003312 -0.002672"
      ]
     },
     "execution_count": 49,
     "metadata": {},
     "output_type": "execute_result"
    }
   ],
   "source": [
    "pred.feature_importance(test)"
   ]
  },
  {
   "cell_type": "code",
   "execution_count": 27,
   "id": "404d4448",
   "metadata": {
    "pycharm": {
     "name": "#%%\n"
    }
   },
   "outputs": [],
   "source": [
    "def sim_cov_shift(p_nonmarr = .75, val=False):\n",
    "    \"\"\"Simulate covariate shift by biasing training set toward married\n",
    "    \"\"\"\n",
    "    data = pd.concat((train, test))\n",
    "    data.loc[:,'race'] = data['race'].str.strip()\n",
    "    data.loc[:,'sex'] = data['sex'].str.strip()\n",
    "    data.loc[:,'marital-status'] = data['marital-status'].str.strip()\n",
    "    data.index = pd.Index(range(data.shape[0]))\n",
    "    data_married = data['marital-status']==\"Married-civ-spouse\"\n",
    "    p_married = (0.5 + data_married.mean() - p_nonmarr) / data_married.mean()\n",
    "    train_p = data_married * p_married + (1 - data_married) * p_nonmarr\n",
    "    train_ind = np.random.binomial(1,train_p) == 1\n",
    "    train_cs = data[train_ind]\n",
    "    test_cs = data[~train_ind]\n",
    "    if val:\n",
    "        train_cs, val_cs = model_selection.train_test_split(train_cs)\n",
    "        return train_cs, val_cs, test_cs\n",
    "    else:\n",
    "        return train_cs, test_cs"
   ]
  },
  {
   "cell_type": "code",
   "execution_count": 28,
   "id": "bd337e82",
   "metadata": {
    "pycharm": {
     "name": "#%%\n"
    }
   },
   "outputs": [],
   "source": [
    "train_cs, test_cs = sim_cov_shift()"
   ]
  },
  {
   "cell_type": "code",
   "execution_count": 29,
   "id": "3bb65e66",
   "metadata": {
    "pycharm": {
     "name": "#%%\n"
    }
   },
   "outputs": [
    {
     "data": {
      "text/plain": [
       "marital-status\n",
       "Never-married            0.404028\n",
       "Married-civ-spouse       0.341020\n",
       "Divorced                 0.162016\n",
       "Separated                0.037991\n",
       "Widowed                  0.037725\n",
       "Married-spouse-absent    0.016523\n",
       "Married-AF-spouse        0.000697\n",
       "dtype: float64"
      ]
     },
     "execution_count": 29,
     "metadata": {},
     "output_type": "execute_result"
    }
   ],
   "source": [
    "train_cs.value_counts('marital-status',normalize=True)"
   ]
  },
  {
   "cell_type": "code",
   "execution_count": 30,
   "id": "ab7fb054",
   "metadata": {
    "pycharm": {
     "name": "#%%\n"
    }
   },
   "outputs": [
    {
     "data": {
      "text/plain": [
       "marital-status\n",
       "Married-civ-spouse       0.647009\n",
       "Never-married            0.210661\n",
       "Divorced                 0.093568\n",
       "Separated                0.020585\n",
       "Widowed                  0.020371\n",
       "Married-spouse-absent    0.006951\n",
       "Married-AF-spouse        0.000855\n",
       "dtype: float64"
      ]
     },
     "execution_count": 30,
     "metadata": {},
     "output_type": "execute_result"
    }
   ],
   "source": [
    "test_cs.value_counts('marital-status',normalize=True)"
   ]
  },
  {
   "cell_type": "code",
   "execution_count": 31,
   "id": "eb0c2603",
   "metadata": {
    "pycharm": {
     "name": "#%%\n"
    }
   },
   "outputs": [
    {
     "data": {
      "text/plain": [
       "0.6882318344650591"
      ]
     },
     "execution_count": 31,
     "metadata": {},
     "output_type": "execute_result"
    }
   ],
   "source": [
    "(test_cs['class'] == \" <=50K\").mean()"
   ]
  },
  {
   "cell_type": "code",
   "execution_count": 32,
   "id": "33797260",
   "metadata": {
    "pycharm": {
     "name": "#%%\n"
    }
   },
   "outputs": [
    {
     "data": {
      "text/plain": [
       "0.8057002554829291"
      ]
     },
     "execution_count": 32,
     "metadata": {},
     "output_type": "execute_result"
    }
   ],
   "source": [
    "(train_cs['class'] == \" <=50K\").mean()"
   ]
  },
  {
   "cell_type": "code",
   "execution_count": 33,
   "id": "eae15e6b",
   "metadata": {
    "pycharm": {
     "name": "#%%\n"
    }
   },
   "outputs": [
    {
     "name": "stderr",
     "output_type": "stream",
     "text": [
      "No path specified. Models will be saved in: \"AutogluonModels/ag-20220802_203946/\"\n"
     ]
    }
   ],
   "source": [
    "xsd = sft.XShiftDetector(TabularPredictor, label='class')"
   ]
  },
  {
   "cell_type": "code",
   "execution_count": 34,
   "id": "12e90d96",
   "metadata": {
    "pycharm": {
     "name": "#%%\n"
    }
   },
   "outputs": [
    {
     "name": "stderr",
     "output_type": "stream",
     "text": [
      "Beginning AutoGluon training ...\n",
      "AutoGluon will save models to \"AutogluonModels/ag-20220802_203946/\"\n",
      "AutoGluon Version:  0.4.3b20220616\n",
      "Python Version:     3.8.0\n",
      "Operating System:   Linux\n",
      "Train Data Rows:    24421\n",
      "Train Data Columns: 14\n",
      "Label Column: xshift_label\n",
      "Preprocessing data ...\n",
      "AutoGluon infers your prediction problem is: 'binary' (because only two unique label-values observed).\n",
      "\t2 unique label values:  [1, 0]\n",
      "\tIf 'binary' is not the correct problem_type, please manually specify the problem_type parameter during predictor init (You may specify problem_type as one of: ['binary', 'multiclass', 'regression'])\n",
      "Selected class <--> label mapping:  class 1 = 1, class 0 = 0\n",
      "Using Feature Generators to preprocess the data ...\n",
      "Fitting AutoMLPipelineFeatureGenerator...\n",
      "\tAvailable Memory:                    14827.67 MB\n",
      "\tTrain Data (Original)  Memory Usage: 14.25 MB (0.1% of available memory)\n",
      "\tInferring data type of each feature based on column values. Set feature_metadata_in to manually specify special dtypes of the features.\n",
      "\tStage 1 Generators:\n",
      "\t\tFitting AsTypeFeatureGenerator...\n",
      "\t\t\tNote: Converting 1 features to boolean dtype as they only contain 2 unique values.\n",
      "\tStage 2 Generators:\n",
      "\t\tFitting FillNaFeatureGenerator...\n",
      "\tStage 3 Generators:\n",
      "\t\tFitting IdentityFeatureGenerator...\n",
      "\t\tFitting CategoryFeatureGenerator...\n",
      "\t\t\tFitting CategoryMemoryMinimizeFeatureGenerator...\n",
      "\tStage 4 Generators:\n",
      "\t\tFitting DropUniqueFeatureGenerator...\n",
      "\tTypes of features in original data (raw dtype, special dtypes):\n",
      "\t\t('int', [])    : 6 | ['age', 'fnlwgt', 'education-num', 'capital-gain', 'capital-loss', ...]\n",
      "\t\t('object', []) : 8 | ['workclass', 'education', 'marital-status', 'occupation', 'relationship', ...]\n",
      "\tTypes of features in processed data (raw dtype, special dtypes):\n",
      "\t\t('category', [])  : 7 | ['workclass', 'education', 'marital-status', 'occupation', 'relationship', ...]\n",
      "\t\t('int', [])       : 6 | ['age', 'fnlwgt', 'education-num', 'capital-gain', 'capital-loss', ...]\n",
      "\t\t('int', ['bool']) : 1 | ['sex']\n",
      "\t0.2s = Fit runtime\n",
      "\t14 features in original data used to generate 14 features in processed data.\n",
      "\tTrain Data (Processed) Memory Usage: 1.37 MB (0.0% of available memory)\n",
      "Data preprocessing and feature engineering runtime = 0.21s ...\n",
      "AutoGluon will gauge predictive performance using evaluation metric: 'accuracy'\n",
      "\tTo change this, specify the eval_metric parameter of Predictor()\n",
      "Automatically generating train/validation split with holdout_frac=0.1, Train Rows: 21978, Val Rows: 2443\n",
      "Fitting 13 L1 models ...\n",
      "Fitting model: KNeighborsUnif ...\n",
      "\t0.5551\t = Validation score   (accuracy)\n",
      "\t0.02s\t = Training   runtime\n",
      "\t0.02s\t = Validation runtime\n",
      "Fitting model: KNeighborsDist ...\n",
      "\t0.5395\t = Validation score   (accuracy)\n",
      "\t0.02s\t = Training   runtime\n",
      "\t0.02s\t = Validation runtime\n",
      "Fitting model: LightGBMXT ...\n",
      "\t0.6664\t = Validation score   (accuracy)\n",
      "\t0.56s\t = Training   runtime\n",
      "\t0.01s\t = Validation runtime\n",
      "Fitting model: LightGBM ...\n",
      "\t0.6635\t = Validation score   (accuracy)\n",
      "\t0.58s\t = Training   runtime\n",
      "\t0.01s\t = Validation runtime\n",
      "Fitting model: RandomForestGini ...\n",
      "\t0.6377\t = Validation score   (accuracy)\n",
      "\t3.33s\t = Training   runtime\n",
      "\t0.14s\t = Validation runtime\n",
      "Fitting model: RandomForestEntr ...\n",
      "\t0.6414\t = Validation score   (accuracy)\n",
      "\t4.58s\t = Training   runtime\n",
      "\t0.14s\t = Validation runtime\n",
      "Fitting model: CatBoost ...\n",
      "\t0.6693\t = Validation score   (accuracy)\n",
      "\t2.76s\t = Training   runtime\n",
      "\t0.01s\t = Validation runtime\n",
      "Fitting model: ExtraTreesGini ...\n",
      "\t0.6316\t = Validation score   (accuracy)\n",
      "\t2.2s\t = Training   runtime\n",
      "\t0.15s\t = Validation runtime\n",
      "Fitting model: ExtraTreesEntr ...\n",
      "\t0.6332\t = Validation score   (accuracy)\n",
      "\t2.4s\t = Training   runtime\n",
      "\t0.15s\t = Validation runtime\n",
      "Fitting model: NeuralNetFastAI ...\n",
      "No improvement since epoch 5: early stopping\n",
      "\t0.6676\t = Validation score   (accuracy)\n",
      "\t17.36s\t = Training   runtime\n",
      "\t0.04s\t = Validation runtime\n",
      "Fitting model: XGBoost ...\n",
      "\t0.6652\t = Validation score   (accuracy)\n",
      "\t0.47s\t = Training   runtime\n",
      "\t0.02s\t = Validation runtime\n",
      "Fitting model: NeuralNetTorch ...\n",
      "\t0.6684\t = Validation score   (accuracy)\n",
      "\t18.17s\t = Training   runtime\n",
      "\t0.05s\t = Validation runtime\n",
      "Fitting model: LightGBMLarge ...\n",
      "\t0.6623\t = Validation score   (accuracy)\n",
      "\t0.94s\t = Training   runtime\n",
      "\t0.02s\t = Validation runtime\n",
      "Fitting model: WeightedEnsemble_L2 ...\n",
      "\t0.6693\t = Validation score   (accuracy)\n",
      "\t1.2s\t = Training   runtime\n",
      "\t0.0s\t = Validation runtime\n",
      "AutoGluon training complete, total runtime = 59.26s ... Best model: \"WeightedEnsemble_L2\"\n",
      "TabularPredictor saved. To load, use: predictor = TabularPredictor.load(\"AutogluonModels/ag-20220802_203946/\")\n",
      "Computing feature importance via permutation shuffling for 14 features using 5000 rows with 5 shuffle sets...\n",
      "\t2.76s\t= Expected runtime (0.55s per shuffle set)\n",
      "\t1.53s\t= Actual runtime (Completed 5 of 5 shuffle sets)\n"
     ]
    }
   ],
   "source": [
    "xsd.fit(train_cs, test_cs)"
   ]
  },
  {
   "cell_type": "code",
   "execution_count": 35,
   "id": "8dc2b733",
   "metadata": {
    "pycharm": {
     "name": "#%%\n"
    }
   },
   "outputs": [],
   "source": [
    "sumry = xsd.summary()"
   ]
  },
  {
   "cell_type": "code",
   "execution_count": 37,
   "id": "62090d99",
   "metadata": {
    "pycharm": {
     "name": "#%%\n"
    }
   },
   "outputs": [
    {
     "name": "stdout",
     "output_type": "stream",
     "text": [
      "# Detecting distribution shift\n",
      "We detected a substantial difference between the training and test X distributions,\n",
      "a type of distribution shift.\n",
      "\n",
      "## Test results\n",
      "We can predict whether a sample is in the test vs. training set with a balanced accuracy of\n",
      "0.649785754474073 (larger than the threshold of 0.55).\n",
      "\n",
      "## Feature importances\n",
      "The variables that are the most responsible for this shift are those with high feature importance:\n",
      "|                |   importance |      stddev |     p_value |   n |    p99_high |      p99_low |\n",
      "|:---------------|-------------:|------------:|------------:|----:|------------:|-------------:|\n",
      "| marital-status |      0.11484 | 0.00882655  | 4.15489e-06 |   5 | 0.133014    |  0.096666    |\n",
      "| relationship   |      0.00168 | 0.00317364  | 0.151038    |   5 | 0.00821457  | -0.00485457  |\n",
      "| hours-per-week |      0.00056 | 0.000654217 | 0.064074    |   5 | 0.00190704  | -0.000787042 |\n",
      "| sex            |      0.00032 | 0.000593296 | 0.147128    |   5 | 0.0015416   | -0.000901604 |\n",
      "| race           |      0.00032 | 0.000501996 | 0.113588    |   5 | 0.00135362  | -0.000713617 |\n",
      "| capital-gain   |      8e-05   | 0.000178885 | 0.18695     |   5 | 0.000448328 | -0.000288328 |\n",
      "| education-num  |      4e-05   | 0.000219089 | 0.352       |   5 | 0.000491107 | -0.000411107 |\n",
      "| age            |      0       | 0           | 0.5         |   5 | 0           |  0           |\n",
      "| workclass      |      0       | 0           | 0.5         |   5 | 0           |  0           |\n",
      "| fnlwgt         |      0       | 0           | 0.5         |   5 | 0           |  0           |\n",
      "| education      |      0       | 0           | 0.5         |   5 | 0           |  0           |\n",
      "| occupation     |      0       | 0           | 0.5         |   5 | 0           |  0           |\n",
      "| capital-loss   |      0       | 0           | 0.5         |   5 | 0           |  0           |\n",
      "| native-country |      0       | 0           | 0.5         |   5 | 0           |  0           |\n"
     ]
    }
   ],
   "source": [
    "print(sumry)"
   ]
  },
  {
   "cell_type": "code",
   "execution_count": 38,
   "id": "1ece3765",
   "metadata": {
    "pycharm": {
     "name": "#%%\n"
    }
   },
   "outputs": [
    {
     "data": {
      "text/plain": [
       "0.649785754474073"
      ]
     },
     "execution_count": 38,
     "metadata": {},
     "output_type": "execute_result"
    }
   ],
   "source": [
    "xsd.C2ST.test_stat"
   ]
  },
  {
   "cell_type": "code",
   "execution_count": 39,
   "id": "6b9aaac5",
   "metadata": {
    "pycharm": {
     "name": "#%%\n"
    }
   },
   "outputs": [],
   "source": [
    "cs_json = xsd.json()"
   ]
  },
  {
   "cell_type": "code",
   "execution_count": 45,
   "id": "44592c27",
   "metadata": {
    "pycharm": {
     "name": "#%%\n"
    }
   },
   "outputs": [
    {
     "data": {
      "text/html": [
       "<div>\n",
       "<style scoped>\n",
       "    .dataframe tbody tr th:only-of-type {\n",
       "        vertical-align: middle;\n",
       "    }\n",
       "\n",
       "    .dataframe tbody tr th {\n",
       "        vertical-align: top;\n",
       "    }\n",
       "\n",
       "    .dataframe thead th {\n",
       "        text-align: right;\n",
       "    }\n",
       "</style>\n",
       "<table border=\"1\" class=\"dataframe\">\n",
       "  <thead>\n",
       "    <tr style=\"text-align: right;\">\n",
       "      <th></th>\n",
       "      <th>xshift_test_proba</th>\n",
       "      <th>age</th>\n",
       "      <th>workclass</th>\n",
       "      <th>fnlwgt</th>\n",
       "      <th>education</th>\n",
       "      <th>education-num</th>\n",
       "      <th>marital-status</th>\n",
       "      <th>occupation</th>\n",
       "      <th>relationship</th>\n",
       "      <th>race</th>\n",
       "      <th>sex</th>\n",
       "      <th>capital-gain</th>\n",
       "      <th>capital-loss</th>\n",
       "      <th>hours-per-week</th>\n",
       "      <th>native-country</th>\n",
       "    </tr>\n",
       "  </thead>\n",
       "  <tbody>\n",
       "    <tr>\n",
       "      <th>42221</th>\n",
       "      <td>0.524983</td>\n",
       "      <td>46</td>\n",
       "      <td>Private</td>\n",
       "      <td>139514</td>\n",
       "      <td>Preschool</td>\n",
       "      <td>1</td>\n",
       "      <td>Married-civ-spouse</td>\n",
       "      <td>Machine-op-inspct</td>\n",
       "      <td>Other-relative</td>\n",
       "      <td>Black</td>\n",
       "      <td>Male</td>\n",
       "      <td>0</td>\n",
       "      <td>0</td>\n",
       "      <td>75</td>\n",
       "      <td>Dominican-Republic</td>\n",
       "    </tr>\n",
       "    <tr>\n",
       "      <th>5131</th>\n",
       "      <td>0.522559</td>\n",
       "      <td>43</td>\n",
       "      <td>Private</td>\n",
       "      <td>266324</td>\n",
       "      <td>HS-grad</td>\n",
       "      <td>9</td>\n",
       "      <td>Married-civ-spouse</td>\n",
       "      <td>Craft-repair</td>\n",
       "      <td>Husband</td>\n",
       "      <td>White</td>\n",
       "      <td>Male</td>\n",
       "      <td>0</td>\n",
       "      <td>1902</td>\n",
       "      <td>99</td>\n",
       "      <td>United-States</td>\n",
       "    </tr>\n",
       "    <tr>\n",
       "      <th>47299</th>\n",
       "      <td>0.522559</td>\n",
       "      <td>43</td>\n",
       "      <td>Private</td>\n",
       "      <td>142725</td>\n",
       "      <td>HS-grad</td>\n",
       "      <td>9</td>\n",
       "      <td>Married-civ-spouse</td>\n",
       "      <td>Other-service</td>\n",
       "      <td>Husband</td>\n",
       "      <td>White</td>\n",
       "      <td>Male</td>\n",
       "      <td>0</td>\n",
       "      <td>1887</td>\n",
       "      <td>80</td>\n",
       "      <td>United-States</td>\n",
       "    </tr>\n",
       "    <tr>\n",
       "      <th>47051</th>\n",
       "      <td>0.521441</td>\n",
       "      <td>29</td>\n",
       "      <td>Private</td>\n",
       "      <td>169104</td>\n",
       "      <td>HS-grad</td>\n",
       "      <td>9</td>\n",
       "      <td>Married-civ-spouse</td>\n",
       "      <td>Exec-managerial</td>\n",
       "      <td>Other-relative</td>\n",
       "      <td>Asian-Pac-Islander</td>\n",
       "      <td>Male</td>\n",
       "      <td>0</td>\n",
       "      <td>0</td>\n",
       "      <td>75</td>\n",
       "      <td>Thailand</td>\n",
       "    </tr>\n",
       "    <tr>\n",
       "      <th>37319</th>\n",
       "      <td>0.521395</td>\n",
       "      <td>35</td>\n",
       "      <td>Self-emp-inc</td>\n",
       "      <td>333636</td>\n",
       "      <td>HS-grad</td>\n",
       "      <td>9</td>\n",
       "      <td>Married-civ-spouse</td>\n",
       "      <td>Exec-managerial</td>\n",
       "      <td>Husband</td>\n",
       "      <td>Black</td>\n",
       "      <td>Male</td>\n",
       "      <td>0</td>\n",
       "      <td>0</td>\n",
       "      <td>75</td>\n",
       "      <td>United-States</td>\n",
       "    </tr>\n",
       "  </tbody>\n",
       "</table>\n",
       "</div>"
      ],
      "text/plain": [
       "       xshift_test_proba  age      workclass  fnlwgt   education  \\\n",
       "42221           0.524983   46        Private  139514   Preschool   \n",
       "5131            0.522559   43        Private  266324     HS-grad   \n",
       "47299           0.522559   43        Private  142725     HS-grad   \n",
       "47051           0.521441   29        Private  169104     HS-grad   \n",
       "37319           0.521395   35   Self-emp-inc  333636     HS-grad   \n",
       "\n",
       "       education-num      marital-status          occupation     relationship  \\\n",
       "42221              1  Married-civ-spouse   Machine-op-inspct   Other-relative   \n",
       "5131               9  Married-civ-spouse        Craft-repair          Husband   \n",
       "47299              9  Married-civ-spouse       Other-service          Husband   \n",
       "47051              9  Married-civ-spouse     Exec-managerial   Other-relative   \n",
       "37319              9  Married-civ-spouse     Exec-managerial          Husband   \n",
       "\n",
       "                     race   sex  capital-gain  capital-loss  hours-per-week  \\\n",
       "42221               Black  Male             0             0              75   \n",
       "5131                White  Male             0          1902              99   \n",
       "47299               White  Male             0          1887              80   \n",
       "47051  Asian-Pac-Islander  Male             0             0              75   \n",
       "37319               Black  Male             0             0              75   \n",
       "\n",
       "            native-country  \n",
       "42221   Dominican-Republic  \n",
       "5131         United-States  \n",
       "47299        United-States  \n",
       "47051             Thailand  \n",
       "37319        United-States  "
      ]
     },
     "execution_count": 45,
     "metadata": {},
     "output_type": "execute_result"
    }
   ],
   "source": [
    "ano_data = cs_json['sample anomalies']\n",
    "ano_data.head()"
   ]
  },
  {
   "cell_type": "code",
   "execution_count": 49,
   "id": "f97adca2",
   "metadata": {
    "pycharm": {
     "name": "#%%\n"
    }
   },
   "outputs": [
    {
     "data": {
      "text/html": [
       "<div>\n",
       "<style scoped>\n",
       "    .dataframe tbody tr th:only-of-type {\n",
       "        vertical-align: middle;\n",
       "    }\n",
       "\n",
       "    .dataframe tbody tr th {\n",
       "        vertical-align: top;\n",
       "    }\n",
       "\n",
       "    .dataframe thead th {\n",
       "        text-align: right;\n",
       "    }\n",
       "</style>\n",
       "<table border=\"1\" class=\"dataframe\">\n",
       "  <thead>\n",
       "    <tr style=\"text-align: right;\">\n",
       "      <th></th>\n",
       "      <th>importance</th>\n",
       "      <th>stddev</th>\n",
       "      <th>p_value</th>\n",
       "      <th>n</th>\n",
       "      <th>p99_high</th>\n",
       "      <th>p99_low</th>\n",
       "    </tr>\n",
       "  </thead>\n",
       "  <tbody>\n",
       "    <tr>\n",
       "      <th>marital-status</th>\n",
       "      <td>0.11484</td>\n",
       "      <td>0.008827</td>\n",
       "      <td>0.000004</td>\n",
       "      <td>5</td>\n",
       "      <td>0.133014</td>\n",
       "      <td>0.096666</td>\n",
       "    </tr>\n",
       "    <tr>\n",
       "      <th>relationship</th>\n",
       "      <td>0.00168</td>\n",
       "      <td>0.003174</td>\n",
       "      <td>0.151038</td>\n",
       "      <td>5</td>\n",
       "      <td>0.008215</td>\n",
       "      <td>-0.004855</td>\n",
       "    </tr>\n",
       "    <tr>\n",
       "      <th>hours-per-week</th>\n",
       "      <td>0.00056</td>\n",
       "      <td>0.000654</td>\n",
       "      <td>0.064074</td>\n",
       "      <td>5</td>\n",
       "      <td>0.001907</td>\n",
       "      <td>-0.000787</td>\n",
       "    </tr>\n",
       "    <tr>\n",
       "      <th>sex</th>\n",
       "      <td>0.00032</td>\n",
       "      <td>0.000593</td>\n",
       "      <td>0.147128</td>\n",
       "      <td>5</td>\n",
       "      <td>0.001542</td>\n",
       "      <td>-0.000902</td>\n",
       "    </tr>\n",
       "    <tr>\n",
       "      <th>race</th>\n",
       "      <td>0.00032</td>\n",
       "      <td>0.000502</td>\n",
       "      <td>0.113588</td>\n",
       "      <td>5</td>\n",
       "      <td>0.001354</td>\n",
       "      <td>-0.000714</td>\n",
       "    </tr>\n",
       "    <tr>\n",
       "      <th>capital-gain</th>\n",
       "      <td>0.00008</td>\n",
       "      <td>0.000179</td>\n",
       "      <td>0.186950</td>\n",
       "      <td>5</td>\n",
       "      <td>0.000448</td>\n",
       "      <td>-0.000288</td>\n",
       "    </tr>\n",
       "    <tr>\n",
       "      <th>education-num</th>\n",
       "      <td>0.00004</td>\n",
       "      <td>0.000219</td>\n",
       "      <td>0.352000</td>\n",
       "      <td>5</td>\n",
       "      <td>0.000491</td>\n",
       "      <td>-0.000411</td>\n",
       "    </tr>\n",
       "    <tr>\n",
       "      <th>age</th>\n",
       "      <td>0.00000</td>\n",
       "      <td>0.000000</td>\n",
       "      <td>0.500000</td>\n",
       "      <td>5</td>\n",
       "      <td>0.000000</td>\n",
       "      <td>0.000000</td>\n",
       "    </tr>\n",
       "    <tr>\n",
       "      <th>workclass</th>\n",
       "      <td>0.00000</td>\n",
       "      <td>0.000000</td>\n",
       "      <td>0.500000</td>\n",
       "      <td>5</td>\n",
       "      <td>0.000000</td>\n",
       "      <td>0.000000</td>\n",
       "    </tr>\n",
       "    <tr>\n",
       "      <th>fnlwgt</th>\n",
       "      <td>0.00000</td>\n",
       "      <td>0.000000</td>\n",
       "      <td>0.500000</td>\n",
       "      <td>5</td>\n",
       "      <td>0.000000</td>\n",
       "      <td>0.000000</td>\n",
       "    </tr>\n",
       "    <tr>\n",
       "      <th>education</th>\n",
       "      <td>0.00000</td>\n",
       "      <td>0.000000</td>\n",
       "      <td>0.500000</td>\n",
       "      <td>5</td>\n",
       "      <td>0.000000</td>\n",
       "      <td>0.000000</td>\n",
       "    </tr>\n",
       "    <tr>\n",
       "      <th>occupation</th>\n",
       "      <td>0.00000</td>\n",
       "      <td>0.000000</td>\n",
       "      <td>0.500000</td>\n",
       "      <td>5</td>\n",
       "      <td>0.000000</td>\n",
       "      <td>0.000000</td>\n",
       "    </tr>\n",
       "    <tr>\n",
       "      <th>capital-loss</th>\n",
       "      <td>0.00000</td>\n",
       "      <td>0.000000</td>\n",
       "      <td>0.500000</td>\n",
       "      <td>5</td>\n",
       "      <td>0.000000</td>\n",
       "      <td>0.000000</td>\n",
       "    </tr>\n",
       "    <tr>\n",
       "      <th>native-country</th>\n",
       "      <td>0.00000</td>\n",
       "      <td>0.000000</td>\n",
       "      <td>0.500000</td>\n",
       "      <td>5</td>\n",
       "      <td>0.000000</td>\n",
       "      <td>0.000000</td>\n",
       "    </tr>\n",
       "  </tbody>\n",
       "</table>\n",
       "</div>"
      ],
      "text/plain": [
       "                importance    stddev   p_value  n  p99_high   p99_low\n",
       "marital-status     0.11484  0.008827  0.000004  5  0.133014  0.096666\n",
       "relationship       0.00168  0.003174  0.151038  5  0.008215 -0.004855\n",
       "hours-per-week     0.00056  0.000654  0.064074  5  0.001907 -0.000787\n",
       "sex                0.00032  0.000593  0.147128  5  0.001542 -0.000902\n",
       "race               0.00032  0.000502  0.113588  5  0.001354 -0.000714\n",
       "capital-gain       0.00008  0.000179  0.186950  5  0.000448 -0.000288\n",
       "education-num      0.00004  0.000219  0.352000  5  0.000491 -0.000411\n",
       "age                0.00000  0.000000  0.500000  5  0.000000  0.000000\n",
       "workclass          0.00000  0.000000  0.500000  5  0.000000  0.000000\n",
       "fnlwgt             0.00000  0.000000  0.500000  5  0.000000  0.000000\n",
       "education          0.00000  0.000000  0.500000  5  0.000000  0.000000\n",
       "occupation         0.00000  0.000000  0.500000  5  0.000000  0.000000\n",
       "capital-loss       0.00000  0.000000  0.500000  5  0.000000  0.000000\n",
       "native-country     0.00000  0.000000  0.500000  5  0.000000  0.000000"
      ]
     },
     "execution_count": 49,
     "metadata": {},
     "output_type": "execute_result"
    }
   ],
   "source": [
    "cs_json['feature importance']"
   ]
  },
  {
   "cell_type": "code",
   "execution_count": 35,
   "id": "910c3a34",
   "metadata": {
    "pycharm": {
     "name": "#%%\n"
    }
   },
   "outputs": [],
   "source": [
    "phat_val = ctst._classifier.predict_proba(val_cs)"
   ]
  },
  {
   "cell_type": "code",
   "execution_count": 36,
   "id": "bebd3eef",
   "metadata": {
    "pycharm": {
     "name": "#%%\n"
    }
   },
   "outputs": [
    {
     "data": {
      "text/plain": [
       "0.42490041291745356"
      ]
     },
     "execution_count": 36,
     "metadata": {},
     "output_type": "execute_result"
    }
   ],
   "source": [
    "phat_val[1].mean()"
   ]
  },
  {
   "cell_type": "code",
   "execution_count": 37,
   "id": "7ec72fbe",
   "metadata": {
    "pycharm": {
     "name": "#%%\n"
    }
   },
   "outputs": [
    {
     "data": {
      "text/plain": [
       "0.3274054412740544"
      ]
     },
     "execution_count": 37,
     "metadata": {},
     "output_type": "execute_result"
    }
   ],
   "source": [
    "ctst._classifier.predict(val_cs).mean()"
   ]
  },
  {
   "cell_type": "code",
   "execution_count": 38,
   "id": "c43c1649",
   "metadata": {
    "pycharm": {
     "name": "#%%\n"
    }
   },
   "outputs": [],
   "source": [
    "yhat_val = pred_cs.predict(val_cs)\n",
    "y_val = val_cs['class']\n",
    "odds_val = phat_val[1] / phat_val[0]"
   ]
  },
  {
   "cell_type": "code",
   "execution_count": 39,
   "id": "1b532789",
   "metadata": {
    "pycharm": {
     "name": "#%%\n"
    }
   },
   "outputs": [
    {
     "data": {
      "text/plain": [
       "0.42490041291745356"
      ]
     },
     "execution_count": 39,
     "metadata": {},
     "output_type": "execute_result"
    }
   ],
   "source": [
    "phat_val[1].mean()"
   ]
  },
  {
   "cell_type": "code",
   "execution_count": 40,
   "id": "9b7ae980",
   "metadata": {
    "pycharm": {
     "name": "#%%\n"
    }
   },
   "outputs": [
    {
     "data": {
      "text/plain": [
       "0.8467407358994304"
      ]
     },
     "execution_count": 40,
     "metadata": {},
     "output_type": "execute_result"
    }
   ],
   "source": [
    "odds_val.mean()"
   ]
  },
  {
   "cell_type": "code",
   "execution_count": 41,
   "id": "deecda68",
   "metadata": {
    "pycharm": {
     "name": "#%%\n"
    }
   },
   "outputs": [
    {
     "data": {
      "text/plain": [
       "0.7157153322824987"
      ]
     },
     "execution_count": 41,
     "metadata": {},
     "output_type": "execute_result"
    }
   ],
   "source": [
    "(odds_val * (y_val == yhat_val)).mean()"
   ]
  },
  {
   "cell_type": "code",
   "execution_count": 42,
   "id": "569ac4e9",
   "metadata": {
    "pycharm": {
     "name": "#%%\n"
    }
   },
   "outputs": [],
   "source": [
    "odds_val_sorted = odds_val.sort_values()"
   ]
  },
  {
   "cell_type": "code",
   "execution_count": 43,
   "id": "339da49e",
   "metadata": {
    "pycharm": {
     "name": "#%%\n"
    }
   },
   "outputs": [],
   "source": [
    "phat_test = ctst._classifier.predict_proba(test_cs)\n",
    "odds_test = phat_test[1] / phat_test[0]"
   ]
  },
  {
   "cell_type": "code",
   "execution_count": 44,
   "id": "75e747b4",
   "metadata": {
    "pycharm": {
     "name": "#%%\n"
    }
   },
   "outputs": [],
   "source": [
    "next_idx = odds_val_sorted.searchsorted(odds_test)\n",
    "prev_idx = next_idx - 1"
   ]
  },
  {
   "cell_type": "code",
   "execution_count": 45,
   "id": "247ba7e2",
   "metadata": {
    "pycharm": {
     "name": "#%%\n"
    }
   },
   "outputs": [],
   "source": [
    "val_sidx = odds_val_sorted.index"
   ]
  },
  {
   "cell_type": "code",
   "execution_count": 46,
   "id": "c8c63772",
   "metadata": {
    "pycharm": {
     "name": "#%%\n"
    }
   },
   "outputs": [],
   "source": [
    "def idx_choice(i):\n",
    "    choice = np.random.binomial(1,0.5)\n",
    "    if choice == 1:\n",
    "        if prev_idx[i] < 0:\n",
    "            return val_sidx[next_idx[i]]\n",
    "        return val_sidx[prev_idx[i]]\n",
    "    else:\n",
    "        if next_idx[i] >= odds_val_sorted.shape[0]:\n",
    "            return val_sidx[prev_idx[i]]\n",
    "        return val_sidx[next_idx[i]]\n",
    "    \n",
    "neigh_idx = [idx_choice(i) for i in range(odds_test.shape[0])]"
   ]
  },
  {
   "cell_type": "code",
   "execution_count": 47,
   "id": "a64e2ca0",
   "metadata": {
    "pycharm": {
     "name": "#%%\n"
    }
   },
   "outputs": [],
   "source": [
    "yhat_neigh = pred_cs.predict(val_cs.loc[neigh_idx])"
   ]
  },
  {
   "cell_type": "code",
   "execution_count": 48,
   "id": "f07aa6f1",
   "metadata": {
    "pycharm": {
     "name": "#%%\n"
    }
   },
   "outputs": [],
   "source": [
    "y_neigh = val_cs.loc[neigh_idx]['class']"
   ]
  },
  {
   "cell_type": "code",
   "execution_count": 49,
   "id": "2445b1c1",
   "metadata": {
    "pycharm": {
     "name": "#%%\n"
    }
   },
   "outputs": [
    {
     "data": {
      "text/plain": [
       "0.8315778217398279"
      ]
     },
     "execution_count": 49,
     "metadata": {},
     "output_type": "execute_result"
    }
   ],
   "source": [
    "(y_neigh == yhat_neigh).mean()"
   ]
  },
  {
   "cell_type": "code",
   "execution_count": 50,
   "id": "bbbe1cd1",
   "metadata": {
    "pycharm": {
     "name": "#%%\n"
    }
   },
   "outputs": [
    {
     "data": {
      "text/plain": [
       "10672     True\n",
       "24908     True\n",
       "19399    False\n",
       "40195    False\n",
       "25176     True\n",
       "         ...  \n",
       "47197     True\n",
       "25939    False\n",
       "22598     True\n",
       "32086     True\n",
       "47770     True\n",
       "Name: class, Length: 18703, dtype: bool"
      ]
     },
     "execution_count": 50,
     "metadata": {},
     "output_type": "execute_result"
    }
   ],
   "source": [
    "(y_neigh == yhat_neigh)"
   ]
  },
  {
   "cell_type": "code",
   "execution_count": 51,
   "id": "2edf6193",
   "metadata": {
    "pycharm": {
     "name": "#%%\n"
    }
   },
   "outputs": [
    {
     "data": {
      "text/plain": [
       "0.8019907100199071"
      ]
     },
     "execution_count": 51,
     "metadata": {},
     "output_type": "execute_result"
    }
   ],
   "source": [
    "(val_cs['class'] == ' <=50K').mean()"
   ]
  },
  {
   "cell_type": "code",
   "execution_count": 52,
   "id": "25e9b6fa",
   "metadata": {
    "pycharm": {
     "name": "#%%\n"
    }
   },
   "outputs": [],
   "source": [
    "yhat_val = pred_cs.predict(val_cs)\n",
    "y_val = val_cs['class']"
   ]
  },
  {
   "cell_type": "code",
   "execution_count": 53,
   "id": "541326c2",
   "metadata": {
    "pycharm": {
     "name": "#%%\n"
    }
   },
   "outputs": [
    {
     "data": {
      "text/plain": [
       "0.8917053749170537"
      ]
     },
     "execution_count": 53,
     "metadata": {},
     "output_type": "execute_result"
    }
   ],
   "source": [
    "(y_val == yhat_val).mean()"
   ]
  },
  {
   "cell_type": "code",
   "execution_count": 54,
   "id": "921781c7",
   "metadata": {
    "pycharm": {
     "name": "#%%\n"
    }
   },
   "outputs": [
    {
     "data": {
      "text/html": [
       "<div>\n",
       "<style scoped>\n",
       "    .dataframe tbody tr th:only-of-type {\n",
       "        vertical-align: middle;\n",
       "    }\n",
       "\n",
       "    .dataframe tbody tr th {\n",
       "        vertical-align: top;\n",
       "    }\n",
       "\n",
       "    .dataframe thead th {\n",
       "        text-align: right;\n",
       "    }\n",
       "</style>\n",
       "<table border=\"1\" class=\"dataframe\">\n",
       "  <thead>\n",
       "    <tr style=\"text-align: right;\">\n",
       "      <th></th>\n",
       "      <th>age</th>\n",
       "      <th>workclass</th>\n",
       "      <th>fnlwgt</th>\n",
       "      <th>education</th>\n",
       "      <th>education-num</th>\n",
       "      <th>marital-status</th>\n",
       "      <th>occupation</th>\n",
       "      <th>relationship</th>\n",
       "      <th>race</th>\n",
       "      <th>sex</th>\n",
       "      <th>capital-gain</th>\n",
       "      <th>capital-loss</th>\n",
       "      <th>hours-per-week</th>\n",
       "      <th>native-country</th>\n",
       "      <th>class</th>\n",
       "    </tr>\n",
       "  </thead>\n",
       "  <tbody>\n",
       "    <tr>\n",
       "      <th>11322</th>\n",
       "      <td>19</td>\n",
       "      <td>Private</td>\n",
       "      <td>46162</td>\n",
       "      <td>HS-grad</td>\n",
       "      <td>9</td>\n",
       "      <td>Never-married</td>\n",
       "      <td>Farming-fishing</td>\n",
       "      <td>Own-child</td>\n",
       "      <td>White</td>\n",
       "      <td>Male</td>\n",
       "      <td>0</td>\n",
       "      <td>0</td>\n",
       "      <td>25</td>\n",
       "      <td>United-States</td>\n",
       "      <td>&lt;=50K</td>\n",
       "    </tr>\n",
       "    <tr>\n",
       "      <th>21795</th>\n",
       "      <td>29</td>\n",
       "      <td>Private</td>\n",
       "      <td>161097</td>\n",
       "      <td>HS-grad</td>\n",
       "      <td>9</td>\n",
       "      <td>Married-civ-spouse</td>\n",
       "      <td>Machine-op-inspct</td>\n",
       "      <td>Husband</td>\n",
       "      <td>Black</td>\n",
       "      <td>Male</td>\n",
       "      <td>0</td>\n",
       "      <td>0</td>\n",
       "      <td>40</td>\n",
       "      <td>United-States</td>\n",
       "      <td>&gt;50K</td>\n",
       "    </tr>\n",
       "    <tr>\n",
       "      <th>46403</th>\n",
       "      <td>58</td>\n",
       "      <td>?</td>\n",
       "      <td>97969</td>\n",
       "      <td>1st-4th</td>\n",
       "      <td>2</td>\n",
       "      <td>Married-spouse-absent</td>\n",
       "      <td>?</td>\n",
       "      <td>Unmarried</td>\n",
       "      <td>Amer-Indian-Eskimo</td>\n",
       "      <td>Male</td>\n",
       "      <td>0</td>\n",
       "      <td>0</td>\n",
       "      <td>40</td>\n",
       "      <td>United-States</td>\n",
       "      <td>&lt;=50K</td>\n",
       "    </tr>\n",
       "    <tr>\n",
       "      <th>38702</th>\n",
       "      <td>28</td>\n",
       "      <td>Self-emp-inc</td>\n",
       "      <td>201186</td>\n",
       "      <td>HS-grad</td>\n",
       "      <td>9</td>\n",
       "      <td>Married-civ-spouse</td>\n",
       "      <td>Sales</td>\n",
       "      <td>Husband</td>\n",
       "      <td>Black</td>\n",
       "      <td>Male</td>\n",
       "      <td>99999</td>\n",
       "      <td>0</td>\n",
       "      <td>40</td>\n",
       "      <td>United-States</td>\n",
       "      <td>&gt;50K</td>\n",
       "    </tr>\n",
       "    <tr>\n",
       "      <th>44899</th>\n",
       "      <td>52</td>\n",
       "      <td>Federal-gov</td>\n",
       "      <td>168539</td>\n",
       "      <td>HS-grad</td>\n",
       "      <td>9</td>\n",
       "      <td>Married-civ-spouse</td>\n",
       "      <td>Machine-op-inspct</td>\n",
       "      <td>Husband</td>\n",
       "      <td>White</td>\n",
       "      <td>Male</td>\n",
       "      <td>0</td>\n",
       "      <td>0</td>\n",
       "      <td>40</td>\n",
       "      <td>United-States</td>\n",
       "      <td>&gt;50K</td>\n",
       "    </tr>\n",
       "    <tr>\n",
       "      <th>...</th>\n",
       "      <td>...</td>\n",
       "      <td>...</td>\n",
       "      <td>...</td>\n",
       "      <td>...</td>\n",
       "      <td>...</td>\n",
       "      <td>...</td>\n",
       "      <td>...</td>\n",
       "      <td>...</td>\n",
       "      <td>...</td>\n",
       "      <td>...</td>\n",
       "      <td>...</td>\n",
       "      <td>...</td>\n",
       "      <td>...</td>\n",
       "      <td>...</td>\n",
       "      <td>...</td>\n",
       "    </tr>\n",
       "    <tr>\n",
       "      <th>43641</th>\n",
       "      <td>41</td>\n",
       "      <td>Federal-gov</td>\n",
       "      <td>56236</td>\n",
       "      <td>HS-grad</td>\n",
       "      <td>9</td>\n",
       "      <td>Divorced</td>\n",
       "      <td>Protective-serv</td>\n",
       "      <td>Unmarried</td>\n",
       "      <td>Black</td>\n",
       "      <td>Male</td>\n",
       "      <td>1506</td>\n",
       "      <td>0</td>\n",
       "      <td>40</td>\n",
       "      <td>United-States</td>\n",
       "      <td>&lt;=50K</td>\n",
       "    </tr>\n",
       "    <tr>\n",
       "      <th>27612</th>\n",
       "      <td>37</td>\n",
       "      <td>Private</td>\n",
       "      <td>140854</td>\n",
       "      <td>Bachelors</td>\n",
       "      <td>13</td>\n",
       "      <td>Married-civ-spouse</td>\n",
       "      <td>Exec-managerial</td>\n",
       "      <td>Husband</td>\n",
       "      <td>White</td>\n",
       "      <td>Male</td>\n",
       "      <td>0</td>\n",
       "      <td>0</td>\n",
       "      <td>50</td>\n",
       "      <td>United-States</td>\n",
       "      <td>&gt;50K</td>\n",
       "    </tr>\n",
       "    <tr>\n",
       "      <th>37094</th>\n",
       "      <td>39</td>\n",
       "      <td>Private</td>\n",
       "      <td>98941</td>\n",
       "      <td>Bachelors</td>\n",
       "      <td>13</td>\n",
       "      <td>Never-married</td>\n",
       "      <td>Prof-specialty</td>\n",
       "      <td>Not-in-family</td>\n",
       "      <td>White</td>\n",
       "      <td>Male</td>\n",
       "      <td>0</td>\n",
       "      <td>0</td>\n",
       "      <td>40</td>\n",
       "      <td>United-States</td>\n",
       "      <td>&gt;50K</td>\n",
       "    </tr>\n",
       "    <tr>\n",
       "      <th>35170</th>\n",
       "      <td>51</td>\n",
       "      <td>Private</td>\n",
       "      <td>351416</td>\n",
       "      <td>Some-college</td>\n",
       "      <td>10</td>\n",
       "      <td>Divorced</td>\n",
       "      <td>Prof-specialty</td>\n",
       "      <td>Unmarried</td>\n",
       "      <td>White</td>\n",
       "      <td>Female</td>\n",
       "      <td>0</td>\n",
       "      <td>0</td>\n",
       "      <td>40</td>\n",
       "      <td>United-States</td>\n",
       "      <td>&lt;=50K</td>\n",
       "    </tr>\n",
       "    <tr>\n",
       "      <th>6126</th>\n",
       "      <td>69</td>\n",
       "      <td>Private</td>\n",
       "      <td>102874</td>\n",
       "      <td>HS-grad</td>\n",
       "      <td>9</td>\n",
       "      <td>Widowed</td>\n",
       "      <td>Adm-clerical</td>\n",
       "      <td>Not-in-family</td>\n",
       "      <td>White</td>\n",
       "      <td>Female</td>\n",
       "      <td>0</td>\n",
       "      <td>0</td>\n",
       "      <td>24</td>\n",
       "      <td>United-States</td>\n",
       "      <td>&lt;=50K</td>\n",
       "    </tr>\n",
       "  </tbody>\n",
       "</table>\n",
       "<p>7535 rows × 15 columns</p>\n",
       "</div>"
      ],
      "text/plain": [
       "       age      workclass  fnlwgt      education  education-num  \\\n",
       "11322   19        Private   46162        HS-grad              9   \n",
       "21795   29        Private  161097        HS-grad              9   \n",
       "46403   58              ?   97969        1st-4th              2   \n",
       "38702   28   Self-emp-inc  201186        HS-grad              9   \n",
       "44899   52    Federal-gov  168539        HS-grad              9   \n",
       "...    ...            ...     ...            ...            ...   \n",
       "43641   41    Federal-gov   56236        HS-grad              9   \n",
       "27612   37        Private  140854      Bachelors             13   \n",
       "37094   39        Private   98941      Bachelors             13   \n",
       "35170   51        Private  351416   Some-college             10   \n",
       "6126    69        Private  102874        HS-grad              9   \n",
       "\n",
       "              marital-status          occupation    relationship  \\\n",
       "11322          Never-married     Farming-fishing       Own-child   \n",
       "21795     Married-civ-spouse   Machine-op-inspct         Husband   \n",
       "46403  Married-spouse-absent                   ?       Unmarried   \n",
       "38702     Married-civ-spouse               Sales         Husband   \n",
       "44899     Married-civ-spouse   Machine-op-inspct         Husband   \n",
       "...                      ...                 ...             ...   \n",
       "43641               Divorced     Protective-serv       Unmarried   \n",
       "27612     Married-civ-spouse     Exec-managerial         Husband   \n",
       "37094          Never-married      Prof-specialty   Not-in-family   \n",
       "35170               Divorced      Prof-specialty       Unmarried   \n",
       "6126                 Widowed        Adm-clerical   Not-in-family   \n",
       "\n",
       "                     race     sex  capital-gain  capital-loss  hours-per-week  \\\n",
       "11322               White    Male             0             0              25   \n",
       "21795               Black    Male             0             0              40   \n",
       "46403  Amer-Indian-Eskimo    Male             0             0              40   \n",
       "38702               Black    Male         99999             0              40   \n",
       "44899               White    Male             0             0              40   \n",
       "...                   ...     ...           ...           ...             ...   \n",
       "43641               Black    Male          1506             0              40   \n",
       "27612               White    Male             0             0              50   \n",
       "37094               White    Male             0             0              40   \n",
       "35170               White  Female             0             0              40   \n",
       "6126                White  Female             0             0              24   \n",
       "\n",
       "       native-country   class  \n",
       "11322   United-States   <=50K  \n",
       "21795   United-States    >50K  \n",
       "46403   United-States   <=50K  \n",
       "38702   United-States    >50K  \n",
       "44899   United-States    >50K  \n",
       "...               ...     ...  \n",
       "43641   United-States   <=50K  \n",
       "27612   United-States    >50K  \n",
       "37094   United-States    >50K  \n",
       "35170   United-States   <=50K  \n",
       "6126    United-States   <=50K  \n",
       "\n",
       "[7535 rows x 15 columns]"
      ]
     },
     "execution_count": 54,
     "metadata": {},
     "output_type": "execute_result"
    }
   ],
   "source": [
    "val_cs"
   ]
  },
  {
   "cell_type": "code",
   "execution_count": 55,
   "id": "320b3777",
   "metadata": {
    "pycharm": {
     "name": "#%%\n"
    }
   },
   "outputs": [],
   "source": [
    "nn_counts = pd.Series(neigh_idx).value_counts()"
   ]
  },
  {
   "cell_type": "code",
   "execution_count": 56,
   "id": "9437a149",
   "metadata": {
    "pycharm": {
     "name": "#%%\n"
    }
   },
   "outputs": [
    {
     "data": {
      "text/plain": [
       "30620    58\n",
       "8387     37\n",
       "35798    31\n",
       "4640     28\n",
       "43740    27\n",
       "         ..\n",
       "27815     1\n",
       "6076      1\n",
       "41214     1\n",
       "3392      1\n",
       "7118      1\n",
       "Length: 5426, dtype: int64"
      ]
     },
     "execution_count": 56,
     "metadata": {},
     "output_type": "execute_result"
    }
   ],
   "source": [
    "nn_counts"
   ]
  },
  {
   "cell_type": "code",
   "execution_count": 57,
   "id": "03ba42e4",
   "metadata": {
    "pycharm": {
     "name": "#%%\n"
    }
   },
   "outputs": [],
   "source": [
    "phat_pred_val = pred_cs.predict_proba(val_cs)"
   ]
  },
  {
   "cell_type": "code",
   "execution_count": 58,
   "id": "971d57ac",
   "metadata": {
    "pycharm": {
     "name": "#%%\n"
    }
   },
   "outputs": [],
   "source": [
    "phat_pred_val['nn_counts'] = nn_counts"
   ]
  },
  {
   "cell_type": "code",
   "execution_count": 59,
   "id": "5bc022a1",
   "metadata": {
    "pycharm": {
     "name": "#%%\n"
    }
   },
   "outputs": [
    {
     "data": {
      "text/html": [
       "<div>\n",
       "<style scoped>\n",
       "    .dataframe tbody tr th:only-of-type {\n",
       "        vertical-align: middle;\n",
       "    }\n",
       "\n",
       "    .dataframe tbody tr th {\n",
       "        vertical-align: top;\n",
       "    }\n",
       "\n",
       "    .dataframe thead th {\n",
       "        text-align: right;\n",
       "    }\n",
       "</style>\n",
       "<table border=\"1\" class=\"dataframe\">\n",
       "  <thead>\n",
       "    <tr style=\"text-align: right;\">\n",
       "      <th></th>\n",
       "      <th>&lt;=50K</th>\n",
       "      <th>&gt;50K</th>\n",
       "      <th>nn_counts</th>\n",
       "    </tr>\n",
       "  </thead>\n",
       "  <tbody>\n",
       "    <tr>\n",
       "      <th>11322</th>\n",
       "      <td>0.994097</td>\n",
       "      <td>0.005903</td>\n",
       "      <td>6.0</td>\n",
       "    </tr>\n",
       "    <tr>\n",
       "      <th>21795</th>\n",
       "      <td>0.912675</td>\n",
       "      <td>0.087325</td>\n",
       "      <td>1.0</td>\n",
       "    </tr>\n",
       "    <tr>\n",
       "      <th>46403</th>\n",
       "      <td>0.983407</td>\n",
       "      <td>0.016593</td>\n",
       "      <td>0.0</td>\n",
       "    </tr>\n",
       "    <tr>\n",
       "      <th>38702</th>\n",
       "      <td>0.034232</td>\n",
       "      <td>0.965768</td>\n",
       "      <td>5.0</td>\n",
       "    </tr>\n",
       "    <tr>\n",
       "      <th>44899</th>\n",
       "      <td>0.688500</td>\n",
       "      <td>0.311500</td>\n",
       "      <td>19.0</td>\n",
       "    </tr>\n",
       "    <tr>\n",
       "      <th>...</th>\n",
       "      <td>...</td>\n",
       "      <td>...</td>\n",
       "      <td>...</td>\n",
       "    </tr>\n",
       "    <tr>\n",
       "      <th>43641</th>\n",
       "      <td>0.966796</td>\n",
       "      <td>0.033204</td>\n",
       "      <td>1.0</td>\n",
       "    </tr>\n",
       "    <tr>\n",
       "      <th>27612</th>\n",
       "      <td>0.172643</td>\n",
       "      <td>0.827357</td>\n",
       "      <td>1.0</td>\n",
       "    </tr>\n",
       "    <tr>\n",
       "      <th>37094</th>\n",
       "      <td>0.795454</td>\n",
       "      <td>0.204546</td>\n",
       "      <td>0.0</td>\n",
       "    </tr>\n",
       "    <tr>\n",
       "      <th>35170</th>\n",
       "      <td>0.884345</td>\n",
       "      <td>0.115655</td>\n",
       "      <td>1.0</td>\n",
       "    </tr>\n",
       "    <tr>\n",
       "      <th>6126</th>\n",
       "      <td>0.984863</td>\n",
       "      <td>0.015137</td>\n",
       "      <td>2.0</td>\n",
       "    </tr>\n",
       "  </tbody>\n",
       "</table>\n",
       "<p>7535 rows × 3 columns</p>\n",
       "</div>"
      ],
      "text/plain": [
       "          <=50K      >50K  nn_counts\n",
       "11322  0.994097  0.005903        6.0\n",
       "21795  0.912675  0.087325        1.0\n",
       "46403  0.983407  0.016593        0.0\n",
       "38702  0.034232  0.965768        5.0\n",
       "44899  0.688500  0.311500       19.0\n",
       "...         ...       ...        ...\n",
       "43641  0.966796  0.033204        1.0\n",
       "27612  0.172643  0.827357        1.0\n",
       "37094  0.795454  0.204546        0.0\n",
       "35170  0.884345  0.115655        1.0\n",
       "6126   0.984863  0.015137        2.0\n",
       "\n",
       "[7535 rows x 3 columns]"
      ]
     },
     "execution_count": 59,
     "metadata": {},
     "output_type": "execute_result"
    }
   ],
   "source": [
    "phat_pred_val.fillna(0)"
   ]
  },
  {
   "cell_type": "code",
   "execution_count": 60,
   "id": "78d19172",
   "metadata": {
    "pycharm": {
     "name": "#%%\n"
    }
   },
   "outputs": [
    {
     "name": "stderr",
     "output_type": "stream",
     "text": [
      "/home/ubuntu/autogluon/env/lib/python3.8/site-packages/plotnine/stats/smoothers.py:310: PlotnineWarning: Confidence intervals are not yet implementedfor lowess smoothings.\n",
      "/home/ubuntu/autogluon/env/lib/python3.8/site-packages/plotnine/layer.py:401: PlotnineWarning: geom_point : Removed 2109 rows containing missing values.\n"
     ]
    },
    {
     "data": {
      "image/png": "[encoded data removed]",
      "text/plain": [
       "<Figure size 640x480 with 1 Axes>"
      ]
     },
     "metadata": {},
     "output_type": "display_data"
    },
    {
     "data": {
      "text/plain": [
       "<ggplot: (8787774898815)>"
      ]
     },
     "execution_count": 60,
     "metadata": {},
     "output_type": "execute_result"
    }
   ],
   "source": [
    "p9.ggplot(phat_pred_val, p9.aes(x = ' >50K', y='nn_counts')) + p9.geom_point()\\\n",
    "+ p9.stat_smooth(method='lowess', color='red')"
   ]
  },
  {
   "cell_type": "code",
   "execution_count": 61,
   "id": "14a7c662",
   "metadata": {
    "pycharm": {
     "name": "#%%\n"
    }
   },
   "outputs": [
    {
     "name": "stderr",
     "output_type": "stream",
     "text": [
      "/home/ubuntu/autogluon/env/lib/python3.8/site-packages/plotnine/layer.py:324: PlotnineWarning: stat_ydensity : Removed 2109 rows containing non-finite values.\n"
     ]
    },
    {
     "data": {
      "image/png": "[encoded data removed]",
      "text/plain": [
       "<Figure size 640x480 with 1 Axes>"
      ]
     },
     "metadata": {},
     "output_type": "display_data"
    },
    {
     "data": {
      "text/plain": [
       "<ggplot: (8787748162250)>"
      ]
     },
     "execution_count": 61,
     "metadata": {},
     "output_type": "execute_result"
    }
   ],
   "source": [
    "p9.ggplot(val_cs, p9.aes(x='marital-status', y='1 + nn_counts')) + p9.geom_violin()\\\n",
    "+ p9.scale_y_log10() + p9.theme(axis_text_x=p9.element_text(rotation=45, hjust=1))"
   ]
  },
  {
   "cell_type": "code",
   "execution_count": 62,
   "id": "66d5c5a9",
   "metadata": {
    "pycharm": {
     "name": "#%%\n"
    }
   },
   "outputs": [
    {
     "data": {
      "text/html": [
       "<div>\n",
       "<style scoped>\n",
       "    .dataframe tbody tr th:only-of-type {\n",
       "        vertical-align: middle;\n",
       "    }\n",
       "\n",
       "    .dataframe tbody tr th {\n",
       "        vertical-align: top;\n",
       "    }\n",
       "\n",
       "    .dataframe thead th {\n",
       "        text-align: right;\n",
       "    }\n",
       "</style>\n",
       "<table border=\"1\" class=\"dataframe\">\n",
       "  <thead>\n",
       "    <tr style=\"text-align: right;\">\n",
       "      <th></th>\n",
       "      <th>train</th>\n",
       "      <th>test</th>\n",
       "    </tr>\n",
       "    <tr>\n",
       "      <th>marital-status</th>\n",
       "      <th></th>\n",
       "      <th></th>\n",
       "    </tr>\n",
       "  </thead>\n",
       "  <tbody>\n",
       "    <tr>\n",
       "      <th>Divorced</th>\n",
       "      <td>0.161830</td>\n",
       "      <td>0.093568</td>\n",
       "    </tr>\n",
       "    <tr>\n",
       "      <th>Married-AF-spouse</th>\n",
       "      <td>0.000664</td>\n",
       "      <td>0.000855</td>\n",
       "    </tr>\n",
       "    <tr>\n",
       "      <th>Married-civ-spouse</th>\n",
       "      <td>0.339851</td>\n",
       "      <td>0.647009</td>\n",
       "    </tr>\n",
       "    <tr>\n",
       "      <th>Married-spouse-absent</th>\n",
       "      <td>0.015926</td>\n",
       "      <td>0.006951</td>\n",
       "    </tr>\n",
       "    <tr>\n",
       "      <th>Never-married</th>\n",
       "      <td>0.407804</td>\n",
       "      <td>0.210661</td>\n",
       "    </tr>\n",
       "    <tr>\n",
       "      <th>Separated</th>\n",
       "      <td>0.037604</td>\n",
       "      <td>0.020585</td>\n",
       "    </tr>\n",
       "    <tr>\n",
       "      <th>Widowed</th>\n",
       "      <td>0.036321</td>\n",
       "      <td>0.020371</td>\n",
       "    </tr>\n",
       "  </tbody>\n",
       "</table>\n",
       "</div>"
      ],
      "text/plain": [
       "                          train      test\n",
       "marital-status                           \n",
       "Divorced               0.161830  0.093568\n",
       "Married-AF-spouse      0.000664  0.000855\n",
       "Married-civ-spouse     0.339851  0.647009\n",
       "Married-spouse-absent  0.015926  0.006951\n",
       "Never-married          0.407804  0.210661\n",
       "Separated              0.037604  0.020585\n",
       "Widowed                0.036321  0.020371"
      ]
     },
     "execution_count": 62,
     "metadata": {},
     "output_type": "execute_result"
    }
   ],
   "source": [
    "pd.DataFrame(\n",
    "    {\n",
    "        'train': train_cs.value_counts('marital-status', normalize=True),\n",
    "        'test': test_cs.value_counts('marital-status', normalize=True)\n",
    "    }\n",
    ")"
   ]
  },
  {
   "cell_type": "code",
   "execution_count": 63,
   "id": "0751734e",
   "metadata": {
    "pycharm": {
     "name": "#%%\n"
    }
   },
   "outputs": [],
   "source": [
    "yhat_test = pred_cs.predict(test_cs)\n",
    "yhat_val = pred_cs.predict(val_cs)"
   ]
  },
  {
   "cell_type": "code",
   "execution_count": 64,
   "id": "247c183a",
   "metadata": {
    "pycharm": {
     "name": "#%%\n"
    }
   },
   "outputs": [
    {
     "data": {
      "text/plain": [
       " <=50K    0.844459\n",
       " >50K     0.155541\n",
       "Name: class, dtype: float64"
      ]
     },
     "execution_count": 64,
     "metadata": {},
     "output_type": "execute_result"
    }
   ],
   "source": [
    "yhat_val.value_counts(normalize=True)"
   ]
  },
  {
   "cell_type": "code",
   "execution_count": 65,
   "id": "ea173124",
   "metadata": {
    "pycharm": {
     "name": "#%%\n"
    }
   },
   "outputs": [
    {
     "data": {
      "text/plain": [
       " <=50K    0.742341\n",
       " >50K     0.257659\n",
       "Name: class, dtype: float64"
      ]
     },
     "execution_count": 65,
     "metadata": {},
     "output_type": "execute_result"
    }
   ],
   "source": [
    "yhat_test.value_counts(normalize=True)"
   ]
  },
  {
   "cell_type": "code",
   "execution_count": 66,
   "id": "155b8fb2",
   "metadata": {
    "pycharm": {
     "name": "#%%\n"
    }
   },
   "outputs": [],
   "source": [
    "label_ct = pd.DataFrame(\n",
    "{\n",
    "    'val': yhat_val.value_counts(),\n",
    "    'test': yhat_test.value_counts()\n",
    "}\n",
    ")"
   ]
  },
  {
   "cell_type": "code",
   "execution_count": 67,
   "id": "30738bf6",
   "metadata": {
    "pycharm": {
     "name": "#%%\n"
    }
   },
   "outputs": [],
   "source": [
    "from scipy import stats"
   ]
  },
  {
   "cell_type": "code",
   "execution_count": 68,
   "id": "977a0717",
   "metadata": {
    "pycharm": {
     "name": "#%%\n"
    }
   },
   "outputs": [
    {
     "data": {
      "text/plain": [
       "(1.8844153483323058, 6.758201517917882e-75)"
      ]
     },
     "execution_count": 68,
     "metadata": {},
     "output_type": "execute_result"
    }
   ],
   "source": [
    "stats.fisher_exact(label_ct)"
   ]
  },
  {
   "cell_type": "code",
   "execution_count": 69,
   "id": "c6c98f0c",
   "metadata": {
    "pycharm": {
     "name": "#%%\n"
    }
   },
   "outputs": [],
   "source": [
    "val_cs['yhat'] = yhat_val"
   ]
  },
  {
   "cell_type": "code",
   "execution_count": 70,
   "id": "daf8ff12",
   "metadata": {
    "pycharm": {
     "name": "#%%\n"
    }
   },
   "outputs": [],
   "source": [
    "pjoint_dist = val_cs.value_counts(['class','yhat'], normalize = True)"
   ]
  },
  {
   "cell_type": "code",
   "execution_count": 71,
   "id": "96f7bac9",
   "metadata": {
    "pycharm": {
     "name": "#%%\n"
    }
   },
   "outputs": [],
   "source": [
    "pcond_dist = pjoint_dist / pjoint_dist.groupby(level=0).sum()"
   ]
  },
  {
   "cell_type": "code",
   "execution_count": 72,
   "id": "43d1e48b",
   "metadata": {
    "pycharm": {
     "name": "#%%\n"
    }
   },
   "outputs": [],
   "source": [
    "q_yhat = yhat_test.value_counts(normalize=True)"
   ]
  },
  {
   "cell_type": "code",
   "execution_count": 73,
   "id": "b9abd884",
   "metadata": {
    "pycharm": {
     "name": "#%%\n"
    }
   },
   "outputs": [
    {
     "data": {
      "text/plain": [
       " <=50K    0.742341\n",
       " >50K     0.257659\n",
       "Name: class, dtype: float64"
      ]
     },
     "execution_count": 73,
     "metadata": {},
     "output_type": "execute_result"
    }
   ],
   "source": [
    "q_yhat"
   ]
  },
  {
   "cell_type": "code",
   "execution_count": 74,
   "id": "10f1ef10",
   "metadata": {
    "pycharm": {
     "name": "#%%\n"
    }
   },
   "outputs": [],
   "source": [
    "P_jnt = pd.pivot(pcond_dist.reset_index(), index='class', columns='yhat').T.values"
   ]
  },
  {
   "cell_type": "code",
   "execution_count": 75,
   "id": "abde3c73",
   "metadata": {
    "pycharm": {
     "name": "#%%\n"
    }
   },
   "outputs": [
    {
     "data": {
      "text/plain": [
       " <=50K    0.742341\n",
       " >50K     0.257659\n",
       "Name: class, dtype: float64"
      ]
     },
     "execution_count": 75,
     "metadata": {},
     "output_type": "execute_result"
    }
   ],
   "source": [
    "q_yhat"
   ]
  },
  {
   "cell_type": "code",
   "execution_count": 76,
   "id": "c87b8cac",
   "metadata": {
    "pycharm": {
     "name": "#%%\n"
    }
   },
   "outputs": [
    {
     "data": {
      "text/plain": [
       "array([0.62539587, 0.37460413])"
      ]
     },
     "execution_count": 76,
     "metadata": {},
     "output_type": "execute_result"
    }
   ],
   "source": [
    "np.linalg.solve(P_jnt, q_yhat)"
   ]
  },
  {
   "cell_type": "code",
   "execution_count": 77,
   "id": "a139b685",
   "metadata": {
    "pycharm": {
     "name": "#%%\n"
    }
   },
   "outputs": [
    {
     "data": {
      "text/plain": [
       "array([[0.95896078, 0.38069705],\n",
       "       [0.04103922, 0.61930295]])"
      ]
     },
     "execution_count": 77,
     "metadata": {},
     "output_type": "execute_result"
    }
   ],
   "source": [
    "P_jnt"
   ]
  },
  {
   "cell_type": "code",
   "execution_count": 78,
   "id": "525d1975",
   "metadata": {
    "pycharm": {
     "name": "#%%\n"
    }
   },
   "outputs": [
    {
     "data": {
      "text/plain": [
       "class   yhat  \n",
       " <=50K   <=50K    0.769078\n",
       " >50K    >50K     0.122628\n",
       "         <=50K    0.075382\n",
       " <=50K   >50K     0.032913\n",
       "dtype: float64"
      ]
     },
     "execution_count": 78,
     "metadata": {},
     "output_type": "execute_result"
    }
   ],
   "source": [
    "pjoint_dist"
   ]
  },
  {
   "cell_type": "code",
   "execution_count": 79,
   "id": "5ea7f453",
   "metadata": {
    "pycharm": {
     "name": "#%%\n"
    }
   },
   "outputs": [
    {
     "data": {
      "text/plain": [
       "class\n",
       " <=50K    0.688232\n",
       " >50K     0.311768\n",
       "dtype: float64"
      ]
     },
     "execution_count": 79,
     "metadata": {},
     "output_type": "execute_result"
    }
   ],
   "source": [
    "test_cs.value_counts('class',normalize=True)"
   ]
  }
 ],
 "metadata": {
  "kernelspec": {
   "display_name": "env",
   "language": "python",
   "name": "env"
  },
  "language_info": {
   "codemirror_mode": {
    "name": "ipython",
    "version": 3
   },
   "file_extension": ".py",
   "mimetype": "text/x-python",
   "name": "python",
   "nbconvert_exporter": "python",
   "pygments_lexer": "ipython3",
   "version": "3.8.0"
  }
 },
 "nbformat": 4,
 "nbformat_minor": 5
}