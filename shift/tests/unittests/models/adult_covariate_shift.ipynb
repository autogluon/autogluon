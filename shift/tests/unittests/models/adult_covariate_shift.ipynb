{
 "cells": [
  {
   "cell_type": "code",
   "execution_count": 1,
   "id": "9fa90b32",
   "metadata": {},
   "outputs": [],
   "source": [
    "%run test_classifier2ST.py\n",
    "from sklearn import metrics, model_selection\n",
    "from autogluon.tabular import TabularPredictor\n",
    "import plotnine as p9\n",
    "import bisect"
   ]
  },
  {
   "cell_type": "code",
   "execution_count": 2,
   "id": "68dd9903",
   "metadata": {},
   "outputs": [],
   "source": [
    "train, test = load_adult_data()"
   ]
  },
  {
   "cell_type": "code",
   "execution_count": 3,
   "id": "d212fb3f",
   "metadata": {},
   "outputs": [
    {
     "data": {
      "text/html": [
       "<div>\n",
       "<style scoped>\n",
       "    .dataframe tbody tr th:only-of-type {\n",
       "        vertical-align: middle;\n",
       "    }\n",
       "\n",
       "    .dataframe tbody tr th {\n",
       "        vertical-align: top;\n",
       "    }\n",
       "\n",
       "    .dataframe thead th {\n",
       "        text-align: right;\n",
       "    }\n",
       "</style>\n",
       "<table border=\"1\" class=\"dataframe\">\n",
       "  <thead>\n",
       "    <tr style=\"text-align: right;\">\n",
       "      <th></th>\n",
       "      <th>age</th>\n",
       "      <th>workclass</th>\n",
       "      <th>fnlwgt</th>\n",
       "      <th>education</th>\n",
       "      <th>education-num</th>\n",
       "      <th>marital-status</th>\n",
       "      <th>occupation</th>\n",
       "      <th>relationship</th>\n",
       "      <th>race</th>\n",
       "      <th>sex</th>\n",
       "      <th>capital-gain</th>\n",
       "      <th>capital-loss</th>\n",
       "      <th>hours-per-week</th>\n",
       "      <th>native-country</th>\n",
       "      <th>class</th>\n",
       "    </tr>\n",
       "  </thead>\n",
       "  <tbody>\n",
       "    <tr>\n",
       "      <th>0</th>\n",
       "      <td>25</td>\n",
       "      <td>Private</td>\n",
       "      <td>178478</td>\n",
       "      <td>Bachelors</td>\n",
       "      <td>13</td>\n",
       "      <td>Never-married</td>\n",
       "      <td>Tech-support</td>\n",
       "      <td>Own-child</td>\n",
       "      <td>White</td>\n",
       "      <td>Female</td>\n",
       "      <td>0</td>\n",
       "      <td>0</td>\n",
       "      <td>40</td>\n",
       "      <td>United-States</td>\n",
       "      <td>&lt;=50K</td>\n",
       "    </tr>\n",
       "    <tr>\n",
       "      <th>1</th>\n",
       "      <td>23</td>\n",
       "      <td>State-gov</td>\n",
       "      <td>61743</td>\n",
       "      <td>5th-6th</td>\n",
       "      <td>3</td>\n",
       "      <td>Never-married</td>\n",
       "      <td>Transport-moving</td>\n",
       "      <td>Not-in-family</td>\n",
       "      <td>White</td>\n",
       "      <td>Male</td>\n",
       "      <td>0</td>\n",
       "      <td>0</td>\n",
       "      <td>35</td>\n",
       "      <td>United-States</td>\n",
       "      <td>&lt;=50K</td>\n",
       "    </tr>\n",
       "    <tr>\n",
       "      <th>2</th>\n",
       "      <td>46</td>\n",
       "      <td>Private</td>\n",
       "      <td>376789</td>\n",
       "      <td>HS-grad</td>\n",
       "      <td>9</td>\n",
       "      <td>Never-married</td>\n",
       "      <td>Other-service</td>\n",
       "      <td>Not-in-family</td>\n",
       "      <td>White</td>\n",
       "      <td>Male</td>\n",
       "      <td>0</td>\n",
       "      <td>0</td>\n",
       "      <td>15</td>\n",
       "      <td>United-States</td>\n",
       "      <td>&lt;=50K</td>\n",
       "    </tr>\n",
       "    <tr>\n",
       "      <th>3</th>\n",
       "      <td>55</td>\n",
       "      <td>?</td>\n",
       "      <td>200235</td>\n",
       "      <td>HS-grad</td>\n",
       "      <td>9</td>\n",
       "      <td>Married-civ-spouse</td>\n",
       "      <td>?</td>\n",
       "      <td>Husband</td>\n",
       "      <td>White</td>\n",
       "      <td>Male</td>\n",
       "      <td>0</td>\n",
       "      <td>0</td>\n",
       "      <td>50</td>\n",
       "      <td>United-States</td>\n",
       "      <td>&gt;50K</td>\n",
       "    </tr>\n",
       "    <tr>\n",
       "      <th>4</th>\n",
       "      <td>36</td>\n",
       "      <td>Private</td>\n",
       "      <td>224541</td>\n",
       "      <td>7th-8th</td>\n",
       "      <td>4</td>\n",
       "      <td>Married-civ-spouse</td>\n",
       "      <td>Handlers-cleaners</td>\n",
       "      <td>Husband</td>\n",
       "      <td>White</td>\n",
       "      <td>Male</td>\n",
       "      <td>0</td>\n",
       "      <td>0</td>\n",
       "      <td>40</td>\n",
       "      <td>El-Salvador</td>\n",
       "      <td>&lt;=50K</td>\n",
       "    </tr>\n",
       "    <tr>\n",
       "      <th>...</th>\n",
       "      <td>...</td>\n",
       "      <td>...</td>\n",
       "      <td>...</td>\n",
       "      <td>...</td>\n",
       "      <td>...</td>\n",
       "      <td>...</td>\n",
       "      <td>...</td>\n",
       "      <td>...</td>\n",
       "      <td>...</td>\n",
       "      <td>...</td>\n",
       "      <td>...</td>\n",
       "      <td>...</td>\n",
       "      <td>...</td>\n",
       "      <td>...</td>\n",
       "      <td>...</td>\n",
       "    </tr>\n",
       "    <tr>\n",
       "      <th>39068</th>\n",
       "      <td>54</td>\n",
       "      <td>Private</td>\n",
       "      <td>83103</td>\n",
       "      <td>Bachelors</td>\n",
       "      <td>13</td>\n",
       "      <td>Married-civ-spouse</td>\n",
       "      <td>Sales</td>\n",
       "      <td>Husband</td>\n",
       "      <td>White</td>\n",
       "      <td>Male</td>\n",
       "      <td>0</td>\n",
       "      <td>0</td>\n",
       "      <td>67</td>\n",
       "      <td>United-States</td>\n",
       "      <td>&lt;=50K</td>\n",
       "    </tr>\n",
       "    <tr>\n",
       "      <th>39069</th>\n",
       "      <td>23</td>\n",
       "      <td>Private</td>\n",
       "      <td>172232</td>\n",
       "      <td>HS-grad</td>\n",
       "      <td>9</td>\n",
       "      <td>Never-married</td>\n",
       "      <td>Farming-fishing</td>\n",
       "      <td>Not-in-family</td>\n",
       "      <td>White</td>\n",
       "      <td>Male</td>\n",
       "      <td>0</td>\n",
       "      <td>0</td>\n",
       "      <td>53</td>\n",
       "      <td>United-States</td>\n",
       "      <td>&lt;=50K</td>\n",
       "    </tr>\n",
       "    <tr>\n",
       "      <th>39070</th>\n",
       "      <td>37</td>\n",
       "      <td>Local-gov</td>\n",
       "      <td>165883</td>\n",
       "      <td>HS-grad</td>\n",
       "      <td>9</td>\n",
       "      <td>Married-civ-spouse</td>\n",
       "      <td>Handlers-cleaners</td>\n",
       "      <td>Husband</td>\n",
       "      <td>Black</td>\n",
       "      <td>Male</td>\n",
       "      <td>0</td>\n",
       "      <td>0</td>\n",
       "      <td>40</td>\n",
       "      <td>United-States</td>\n",
       "      <td>&lt;=50K</td>\n",
       "    </tr>\n",
       "    <tr>\n",
       "      <th>39071</th>\n",
       "      <td>26</td>\n",
       "      <td>Self-emp-not-inc</td>\n",
       "      <td>67240</td>\n",
       "      <td>HS-grad</td>\n",
       "      <td>9</td>\n",
       "      <td>Never-married</td>\n",
       "      <td>Handlers-cleaners</td>\n",
       "      <td>Not-in-family</td>\n",
       "      <td>White</td>\n",
       "      <td>Male</td>\n",
       "      <td>0</td>\n",
       "      <td>0</td>\n",
       "      <td>35</td>\n",
       "      <td>United-States</td>\n",
       "      <td>&lt;=50K</td>\n",
       "    </tr>\n",
       "    <tr>\n",
       "      <th>39072</th>\n",
       "      <td>37</td>\n",
       "      <td>State-gov</td>\n",
       "      <td>210452</td>\n",
       "      <td>Masters</td>\n",
       "      <td>14</td>\n",
       "      <td>Married-civ-spouse</td>\n",
       "      <td>Exec-managerial</td>\n",
       "      <td>Husband</td>\n",
       "      <td>White</td>\n",
       "      <td>Male</td>\n",
       "      <td>0</td>\n",
       "      <td>0</td>\n",
       "      <td>38</td>\n",
       "      <td>United-States</td>\n",
       "      <td>&lt;=50K</td>\n",
       "    </tr>\n",
       "  </tbody>\n",
       "</table>\n",
       "<p>39073 rows × 15 columns</p>\n",
       "</div>"
      ],
      "text/plain": [
       "       age          workclass  fnlwgt   education  education-num  \\\n",
       "0       25            Private  178478   Bachelors             13   \n",
       "1       23          State-gov   61743     5th-6th              3   \n",
       "2       46            Private  376789     HS-grad              9   \n",
       "3       55                  ?  200235     HS-grad              9   \n",
       "4       36            Private  224541     7th-8th              4   \n",
       "...    ...                ...     ...         ...            ...   \n",
       "39068   54            Private   83103   Bachelors             13   \n",
       "39069   23            Private  172232     HS-grad              9   \n",
       "39070   37          Local-gov  165883     HS-grad              9   \n",
       "39071   26   Self-emp-not-inc   67240     HS-grad              9   \n",
       "39072   37          State-gov  210452     Masters             14   \n",
       "\n",
       "            marital-status          occupation    relationship    race  \\\n",
       "0            Never-married        Tech-support       Own-child   White   \n",
       "1            Never-married    Transport-moving   Not-in-family   White   \n",
       "2            Never-married       Other-service   Not-in-family   White   \n",
       "3       Married-civ-spouse                   ?         Husband   White   \n",
       "4       Married-civ-spouse   Handlers-cleaners         Husband   White   \n",
       "...                    ...                 ...             ...     ...   \n",
       "39068   Married-civ-spouse               Sales         Husband   White   \n",
       "39069        Never-married     Farming-fishing   Not-in-family   White   \n",
       "39070   Married-civ-spouse   Handlers-cleaners         Husband   Black   \n",
       "39071        Never-married   Handlers-cleaners   Not-in-family   White   \n",
       "39072   Married-civ-spouse     Exec-managerial         Husband   White   \n",
       "\n",
       "           sex  capital-gain  capital-loss  hours-per-week  native-country  \\\n",
       "0       Female             0             0              40   United-States   \n",
       "1         Male             0             0              35   United-States   \n",
       "2         Male             0             0              15   United-States   \n",
       "3         Male             0             0              50   United-States   \n",
       "4         Male             0             0              40     El-Salvador   \n",
       "...        ...           ...           ...             ...             ...   \n",
       "39068     Male             0             0              67   United-States   \n",
       "39069     Male             0             0              53   United-States   \n",
       "39070     Male             0             0              40   United-States   \n",
       "39071     Male             0             0              35   United-States   \n",
       "39072     Male             0             0              38   United-States   \n",
       "\n",
       "        class  \n",
       "0       <=50K  \n",
       "1       <=50K  \n",
       "2       <=50K  \n",
       "3        >50K  \n",
       "4       <=50K  \n",
       "...       ...  \n",
       "39068   <=50K  \n",
       "39069   <=50K  \n",
       "39070   <=50K  \n",
       "39071   <=50K  \n",
       "39072   <=50K  \n",
       "\n",
       "[39073 rows x 15 columns]"
      ]
     },
     "execution_count": 3,
     "metadata": {},
     "output_type": "execute_result"
    }
   ],
   "source": [
    "train"
   ]
  },
  {
   "cell_type": "code",
   "execution_count": 4,
   "id": "b426a5e5",
   "metadata": {},
   "outputs": [
    {
     "data": {
      "text/plain": [
       "marital-status        \n",
       " Married-civ-spouse       0.458705\n",
       " Never-married            0.330586\n",
       " Divorced                 0.134338\n",
       " Separated                0.031787\n",
       " Widowed                  0.031377\n",
       " Married-spouse-absent    0.012592\n",
       " Married-AF-spouse        0.000614\n",
       "dtype: float64"
      ]
     },
     "execution_count": 4,
     "metadata": {},
     "output_type": "execute_result"
    }
   ],
   "source": [
    "train[['marital-status']].value_counts(normalize=True)"
   ]
  },
  {
   "cell_type": "code",
   "execution_count": 5,
   "id": "697ece8d",
   "metadata": {},
   "outputs": [
    {
     "name": "stderr",
     "output_type": "stream",
     "text": [
      "No path specified. Models will be saved in: \"AutogluonModels/ag-20220627_173245/\"\n",
      "Beginning AutoGluon training ...\n",
      "AutoGluon will save models to \"AutogluonModels/ag-20220627_173245/\"\n",
      "AutoGluon Version:  0.4.3b20220616\n",
      "Python Version:     3.8.0\n",
      "Operating System:   Linux\n",
      "Train Data Rows:    39073\n",
      "Train Data Columns: 14\n",
      "Label Column: class\n",
      "Preprocessing data ...\n",
      "AutoGluon infers your prediction problem is: 'binary' (because only two unique label-values observed).\n",
      "\t2 unique label values:  [' <=50K', ' >50K']\n",
      "\tIf 'binary' is not the correct problem_type, please manually specify the problem_type parameter during predictor init (You may specify problem_type as one of: ['binary', 'multiclass', 'regression'])\n",
      "Selected class <--> label mapping:  class 1 =  >50K, class 0 =  <=50K\n",
      "\tNote: For your binary classification, AutoGluon arbitrarily selected which label-value represents positive ( >50K) vs negative ( <=50K) class.\n",
      "\tTo explicitly set the positive_class, either rename classes to 1 and 0, or specify positive_class in Predictor init.\n",
      "Using Feature Generators to preprocess the data ...\n",
      "Fitting AutoMLPipelineFeatureGenerator...\n",
      "\tAvailable Memory:                    15497.12 MB\n",
      "\tTrain Data (Original)  Memory Usage: 22.92 MB (0.1% of available memory)\n",
      "\tInferring data type of each feature based on column values. Set feature_metadata_in to manually specify special dtypes of the features.\n",
      "\tStage 1 Generators:\n",
      "\t\tFitting AsTypeFeatureGenerator...\n",
      "\t\t\tNote: Converting 1 features to boolean dtype as they only contain 2 unique values.\n",
      "\tStage 2 Generators:\n",
      "\t\tFitting FillNaFeatureGenerator...\n",
      "\tStage 3 Generators:\n",
      "\t\tFitting IdentityFeatureGenerator...\n",
      "\t\tFitting CategoryFeatureGenerator...\n",
      "\t\t\tFitting CategoryMemoryMinimizeFeatureGenerator...\n",
      "\tStage 4 Generators:\n",
      "\t\tFitting DropUniqueFeatureGenerator...\n",
      "\tTypes of features in original data (raw dtype, special dtypes):\n",
      "\t\t('int', [])    : 6 | ['age', 'fnlwgt', 'education-num', 'capital-gain', 'capital-loss', ...]\n",
      "\t\t('object', []) : 8 | ['workclass', 'education', 'marital-status', 'occupation', 'relationship', ...]\n",
      "\tTypes of features in processed data (raw dtype, special dtypes):\n",
      "\t\t('category', [])  : 7 | ['workclass', 'education', 'marital-status', 'occupation', 'relationship', ...]\n",
      "\t\t('int', [])       : 6 | ['age', 'fnlwgt', 'education-num', 'capital-gain', 'capital-loss', ...]\n",
      "\t\t('int', ['bool']) : 1 | ['sex']\n",
      "\t0.2s = Fit runtime\n",
      "\t14 features in original data used to generate 14 features in processed data.\n",
      "\tTrain Data (Processed) Memory Usage: 2.19 MB (0.0% of available memory)\n",
      "Data preprocessing and feature engineering runtime = 0.29s ...\n",
      "AutoGluon will gauge predictive performance using evaluation metric: 'accuracy'\n",
      "\tTo change this, specify the eval_metric parameter of Predictor()\n",
      "Automatically generating train/validation split with holdout_frac=0.0639828014229775, Train Rows: 36573, Val Rows: 2500\n",
      "Fitting 13 L1 models ...\n",
      "Fitting model: KNeighborsUnif ...\n",
      "\t0.7752\t = Validation score   (accuracy)\n",
      "\t0.04s\t = Training   runtime\n",
      "\t0.02s\t = Validation runtime\n",
      "Fitting model: KNeighborsDist ...\n",
      "\t0.766\t = Validation score   (accuracy)\n",
      "\t0.04s\t = Training   runtime\n",
      "\t0.03s\t = Validation runtime\n",
      "Fitting model: LightGBMXT ...\n",
      "\t0.8792\t = Validation score   (accuracy)\n",
      "\t1.94s\t = Training   runtime\n",
      "\t0.04s\t = Validation runtime\n",
      "Fitting model: LightGBM ...\n",
      "\t0.8824\t = Validation score   (accuracy)\n",
      "\t1.07s\t = Training   runtime\n",
      "\t0.03s\t = Validation runtime\n",
      "Fitting model: RandomForestGini ...\n",
      "\t0.8588\t = Validation score   (accuracy)\n",
      "\t4.1s\t = Training   runtime\n",
      "\t0.13s\t = Validation runtime\n",
      "Fitting model: RandomForestEntr ...\n",
      "\t0.862\t = Validation score   (accuracy)\n",
      "\t5.11s\t = Training   runtime\n",
      "\t0.12s\t = Validation runtime\n",
      "Fitting model: CatBoost ...\n",
      "/home/ubuntu/autogluon/env/lib/python3.8/site-packages/xgboost/compat.py:31: FutureWarning: pandas.Int64Index is deprecated and will be removed from pandas in a future version. Use pandas.Index with the appropriate dtype instead.\n",
      "\t0.8828\t = Validation score   (accuracy)\n",
      "\t17.08s\t = Training   runtime\n",
      "\t0.01s\t = Validation runtime\n",
      "Fitting model: ExtraTreesGini ...\n",
      "\t0.85\t = Validation score   (accuracy)\n",
      "\t2.77s\t = Training   runtime\n",
      "\t0.14s\t = Validation runtime\n",
      "Fitting model: ExtraTreesEntr ...\n",
      "\t0.848\t = Validation score   (accuracy)\n",
      "\t2.94s\t = Training   runtime\n",
      "\t0.14s\t = Validation runtime\n",
      "Fitting model: NeuralNetFastAI ...\n",
      "No improvement since epoch 9: early stopping\n",
      "\t0.8612\t = Validation score   (accuracy)\n",
      "\t35.27s\t = Training   runtime\n",
      "\t0.05s\t = Validation runtime\n",
      "Fitting model: XGBoost ...\n",
      "\t0.8872\t = Validation score   (accuracy)\n",
      "\t1.03s\t = Training   runtime\n",
      "\t0.02s\t = Validation runtime\n",
      "Fitting model: NeuralNetTorch ...\n",
      "\t0.8584\t = Validation score   (accuracy)\n",
      "\t41.84s\t = Training   runtime\n",
      "\t0.05s\t = Validation runtime\n",
      "Fitting model: LightGBMLarge ...\n",
      "\t0.8856\t = Validation score   (accuracy)\n",
      "\t1.79s\t = Training   runtime\n",
      "\t0.03s\t = Validation runtime\n",
      "Fitting model: WeightedEnsemble_L2 ...\n",
      "\t0.8912\t = Validation score   (accuracy)\n",
      "\t1.18s\t = Training   runtime\n",
      "\t0.0s\t = Validation runtime\n",
      "AutoGluon training complete, total runtime = 121.13s ... Best model: \"WeightedEnsemble_L2\"\n",
      "TabularPredictor saved. To load, use: predictor = TabularPredictor.load(\"AutogluonModels/ag-20220627_173245/\")\n"
     ]
    }
   ],
   "source": [
    "pred = TabularPredictor(label='class').fit(train)"
   ]
  },
  {
   "cell_type": "code",
   "execution_count": 6,
   "id": "e717f1e2",
   "metadata": {},
   "outputs": [
    {
     "data": {
      "text/plain": [
       "0.8763435356740711"
      ]
     },
     "execution_count": 6,
     "metadata": {},
     "output_type": "execute_result"
    }
   ],
   "source": [
    "yhat = pred.predict(test)\n",
    "metrics.accuracy_score(yhat, test['class'])"
   ]
  },
  {
   "cell_type": "code",
   "execution_count": 7,
   "id": "3ebd90a9",
   "metadata": {},
   "outputs": [
    {
     "name": "stderr",
     "output_type": "stream",
     "text": [
      "Computing feature importance via permutation shuffling for 14 features using 5000 rows with 5 shuffle sets...\n",
      "\t20.57s\t= Expected runtime (4.11s per shuffle set)\n",
      "\t17.32s\t= Actual runtime (Completed 5 of 5 shuffle sets)\n"
     ]
    },
    {
     "data": {
      "text/html": [
       "<div>\n",
       "<style scoped>\n",
       "    .dataframe tbody tr th:only-of-type {\n",
       "        vertical-align: middle;\n",
       "    }\n",
       "\n",
       "    .dataframe tbody tr th {\n",
       "        vertical-align: top;\n",
       "    }\n",
       "\n",
       "    .dataframe thead th {\n",
       "        text-align: right;\n",
       "    }\n",
       "</style>\n",
       "<table border=\"1\" class=\"dataframe\">\n",
       "  <thead>\n",
       "    <tr style=\"text-align: right;\">\n",
       "      <th></th>\n",
       "      <th>importance</th>\n",
       "      <th>stddev</th>\n",
       "      <th>p_value</th>\n",
       "      <th>n</th>\n",
       "      <th>p99_high</th>\n",
       "      <th>p99_low</th>\n",
       "    </tr>\n",
       "  </thead>\n",
       "  <tbody>\n",
       "    <tr>\n",
       "      <th>capital-gain</th>\n",
       "      <td>0.04804</td>\n",
       "      <td>0.004401</td>\n",
       "      <td>0.000008</td>\n",
       "      <td>5</td>\n",
       "      <td>0.057102</td>\n",
       "      <td>0.038978</td>\n",
       "    </tr>\n",
       "    <tr>\n",
       "      <th>marital-status</th>\n",
       "      <td>0.03164</td>\n",
       "      <td>0.002851</td>\n",
       "      <td>0.000008</td>\n",
       "      <td>5</td>\n",
       "      <td>0.037510</td>\n",
       "      <td>0.025770</td>\n",
       "    </tr>\n",
       "    <tr>\n",
       "      <th>education-num</th>\n",
       "      <td>0.01824</td>\n",
       "      <td>0.003468</td>\n",
       "      <td>0.000150</td>\n",
       "      <td>5</td>\n",
       "      <td>0.025381</td>\n",
       "      <td>0.011099</td>\n",
       "    </tr>\n",
       "    <tr>\n",
       "      <th>occupation</th>\n",
       "      <td>0.01736</td>\n",
       "      <td>0.002269</td>\n",
       "      <td>0.000034</td>\n",
       "      <td>5</td>\n",
       "      <td>0.022032</td>\n",
       "      <td>0.012688</td>\n",
       "    </tr>\n",
       "    <tr>\n",
       "      <th>age</th>\n",
       "      <td>0.01724</td>\n",
       "      <td>0.004080</td>\n",
       "      <td>0.000350</td>\n",
       "      <td>5</td>\n",
       "      <td>0.025641</td>\n",
       "      <td>0.008839</td>\n",
       "    </tr>\n",
       "    <tr>\n",
       "      <th>capital-loss</th>\n",
       "      <td>0.01212</td>\n",
       "      <td>0.001724</td>\n",
       "      <td>0.000048</td>\n",
       "      <td>5</td>\n",
       "      <td>0.015670</td>\n",
       "      <td>0.008570</td>\n",
       "    </tr>\n",
       "    <tr>\n",
       "      <th>relationship</th>\n",
       "      <td>0.00636</td>\n",
       "      <td>0.003330</td>\n",
       "      <td>0.006471</td>\n",
       "      <td>5</td>\n",
       "      <td>0.013216</td>\n",
       "      <td>-0.000496</td>\n",
       "    </tr>\n",
       "    <tr>\n",
       "      <th>hours-per-week</th>\n",
       "      <td>0.00628</td>\n",
       "      <td>0.002722</td>\n",
       "      <td>0.003354</td>\n",
       "      <td>5</td>\n",
       "      <td>0.011886</td>\n",
       "      <td>0.000674</td>\n",
       "    </tr>\n",
       "    <tr>\n",
       "      <th>workclass</th>\n",
       "      <td>0.00456</td>\n",
       "      <td>0.001621</td>\n",
       "      <td>0.001632</td>\n",
       "      <td>5</td>\n",
       "      <td>0.007898</td>\n",
       "      <td>0.001222</td>\n",
       "    </tr>\n",
       "    <tr>\n",
       "      <th>fnlwgt</th>\n",
       "      <td>0.00284</td>\n",
       "      <td>0.000942</td>\n",
       "      <td>0.001263</td>\n",
       "      <td>5</td>\n",
       "      <td>0.004780</td>\n",
       "      <td>0.000900</td>\n",
       "    </tr>\n",
       "    <tr>\n",
       "      <th>native-country</th>\n",
       "      <td>0.00124</td>\n",
       "      <td>0.001108</td>\n",
       "      <td>0.033308</td>\n",
       "      <td>5</td>\n",
       "      <td>0.003522</td>\n",
       "      <td>-0.001042</td>\n",
       "    </tr>\n",
       "    <tr>\n",
       "      <th>race</th>\n",
       "      <td>0.00108</td>\n",
       "      <td>0.001781</td>\n",
       "      <td>0.123306</td>\n",
       "      <td>5</td>\n",
       "      <td>0.004747</td>\n",
       "      <td>-0.002587</td>\n",
       "    </tr>\n",
       "    <tr>\n",
       "      <th>sex</th>\n",
       "      <td>0.00036</td>\n",
       "      <td>0.001367</td>\n",
       "      <td>0.293765</td>\n",
       "      <td>5</td>\n",
       "      <td>0.003174</td>\n",
       "      <td>-0.002454</td>\n",
       "    </tr>\n",
       "    <tr>\n",
       "      <th>education</th>\n",
       "      <td>0.00032</td>\n",
       "      <td>0.001453</td>\n",
       "      <td>0.324131</td>\n",
       "      <td>5</td>\n",
       "      <td>0.003312</td>\n",
       "      <td>-0.002672</td>\n",
       "    </tr>\n",
       "  </tbody>\n",
       "</table>\n",
       "</div>"
      ],
      "text/plain": [
       "                importance    stddev   p_value  n  p99_high   p99_low\n",
       "capital-gain       0.04804  0.004401  0.000008  5  0.057102  0.038978\n",
       "marital-status     0.03164  0.002851  0.000008  5  0.037510  0.025770\n",
       "education-num      0.01824  0.003468  0.000150  5  0.025381  0.011099\n",
       "occupation         0.01736  0.002269  0.000034  5  0.022032  0.012688\n",
       "age                0.01724  0.004080  0.000350  5  0.025641  0.008839\n",
       "capital-loss       0.01212  0.001724  0.000048  5  0.015670  0.008570\n",
       "relationship       0.00636  0.003330  0.006471  5  0.013216 -0.000496\n",
       "hours-per-week     0.00628  0.002722  0.003354  5  0.011886  0.000674\n",
       "workclass          0.00456  0.001621  0.001632  5  0.007898  0.001222\n",
       "fnlwgt             0.00284  0.000942  0.001263  5  0.004780  0.000900\n",
       "native-country     0.00124  0.001108  0.033308  5  0.003522 -0.001042\n",
       "race               0.00108  0.001781  0.123306  5  0.004747 -0.002587\n",
       "sex                0.00036  0.001367  0.293765  5  0.003174 -0.002454\n",
       "education          0.00032  0.001453  0.324131  5  0.003312 -0.002672"
      ]
     },
     "execution_count": 7,
     "metadata": {},
     "output_type": "execute_result"
    }
   ],
   "source": [
    "pred.feature_importance(test)"
   ]
  },
  {
   "cell_type": "code",
   "execution_count": 9,
   "id": "404d4448",
   "metadata": {},
   "outputs": [],
   "source": [
    "data = pd.concat((train, test))"
   ]
  },
  {
   "cell_type": "code",
   "execution_count": 10,
   "id": "34f581f9",
   "metadata": {},
   "outputs": [],
   "source": [
    "data.loc[:,'race'] = data['race'].str.strip()\n",
    "data.loc[:,'sex'] = data['sex'].str.strip()\n",
    "data.loc[:,'marital-status'] = data['marital-status'].str.strip()"
   ]
  },
  {
   "cell_type": "code",
   "execution_count": 11,
   "id": "d2cb1834",
   "metadata": {},
   "outputs": [],
   "source": [
    "data.index = pd.Index(range(data.shape[0]))"
   ]
  },
  {
   "cell_type": "code",
   "execution_count": 12,
   "id": "80ffe572",
   "metadata": {},
   "outputs": [],
   "source": [
    "data_white = data['marital-status']==\"Married-civ-spouse\""
   ]
  },
  {
   "cell_type": "code",
   "execution_count": 13,
   "id": "2cf223df",
   "metadata": {},
   "outputs": [],
   "source": [
    "train_prop = 0.5"
   ]
  },
  {
   "cell_type": "code",
   "execution_count": 110,
   "id": "6e4f5a4d",
   "metadata": {},
   "outputs": [],
   "source": [
    "p_nonwhite = .75\n",
    "p_white = (0.5 + data_white.mean() - p_nonwhite) / data_white.mean()"
   ]
  },
  {
   "cell_type": "code",
   "execution_count": 111,
   "id": "83f70613",
   "metadata": {},
   "outputs": [],
   "source": [
    "train_p = data_white * p_white + (1 - data_white) * p_nonwhite"
   ]
  },
  {
   "cell_type": "code",
   "execution_count": 112,
   "id": "5b331b7e",
   "metadata": {},
   "outputs": [
    {
     "data": {
      "text/plain": [
       "0.75"
      ]
     },
     "execution_count": 112,
     "metadata": {},
     "output_type": "execute_result"
    }
   ],
   "source": [
    "p_nonwhite"
   ]
  },
  {
   "cell_type": "code",
   "execution_count": 113,
   "id": "bba6f858",
   "metadata": {},
   "outputs": [
    {
     "data": {
      "text/plain": [
       "0        0.750000\n",
       "1        0.750000\n",
       "2        0.750000\n",
       "3        0.454377\n",
       "4        0.454377\n",
       "           ...   \n",
       "48837    0.750000\n",
       "48838    0.750000\n",
       "48839    0.454377\n",
       "48840    0.750000\n",
       "48841    0.454377\n",
       "Name: marital-status, Length: 48842, dtype: float64"
      ]
     },
     "execution_count": 113,
     "metadata": {},
     "output_type": "execute_result"
    }
   ],
   "source": [
    "train_p"
   ]
  },
  {
   "cell_type": "code",
   "execution_count": 114,
   "id": "072a557a",
   "metadata": {},
   "outputs": [],
   "source": [
    "train_ind = np.random.binomial(1,train_p) == 1"
   ]
  },
  {
   "cell_type": "code",
   "execution_count": 115,
   "id": "d0ab1ac2",
   "metadata": {},
   "outputs": [],
   "source": [
    "train_cs = data[train_ind]\n",
    "test_cs = data[~train_ind]\n",
    "train_cs, val_cs = model_selection.train_test_split(train_cs)"
   ]
  },
  {
   "cell_type": "code",
   "execution_count": 116,
   "id": "3bb65e66",
   "metadata": {},
   "outputs": [
    {
     "data": {
      "text/plain": [
       "marital-status\n",
       "Never-married            0.404590\n",
       "Married-civ-spouse       0.335432\n",
       "Divorced                 0.165327\n",
       "Widowed                  0.039423\n",
       "Separated                0.037503\n",
       "Married-spouse-absent    0.016698\n",
       "Married-AF-spouse        0.001027\n",
       "dtype: float64"
      ]
     },
     "execution_count": 116,
     "metadata": {},
     "output_type": "execute_result"
    }
   ],
   "source": [
    "train_cs.value_counts('marital-status',normalize=True)"
   ]
  },
  {
   "cell_type": "code",
   "execution_count": 117,
   "id": "ab7fb054",
   "metadata": {},
   "outputs": [
    {
     "data": {
      "text/plain": [
       "marital-status\n",
       "Married-civ-spouse       0.648364\n",
       "Never-married            0.212046\n",
       "Divorced                 0.089108\n",
       "Separated                0.022237\n",
       "Widowed                  0.019972\n",
       "Married-spouse-absent    0.008062\n",
       "Married-AF-spouse        0.000211\n",
       "dtype: float64"
      ]
     },
     "execution_count": 117,
     "metadata": {},
     "output_type": "execute_result"
    }
   ],
   "source": [
    "test_cs.value_counts('marital-status',normalize=True)"
   ]
  },
  {
   "cell_type": "code",
   "execution_count": 118,
   "id": "eb0c2603",
   "metadata": {},
   "outputs": [
    {
     "data": {
      "text/plain": [
       "0.6850924803709754"
      ]
     },
     "execution_count": 118,
     "metadata": {},
     "output_type": "execute_result"
    }
   ],
   "source": [
    "(test_cs['class'] == \" <=50K\").mean()"
   ]
  },
  {
   "cell_type": "code",
   "execution_count": 119,
   "id": "33797260",
   "metadata": {},
   "outputs": [
    {
     "data": {
      "text/plain": [
       "0.8068836212669077"
      ]
     },
     "execution_count": 119,
     "metadata": {},
     "output_type": "execute_result"
    }
   ],
   "source": [
    "(val_cs['class'] == \" <=50K\").mean()"
   ]
  },
  {
   "cell_type": "code",
   "execution_count": 120,
   "id": "1af79314",
   "metadata": {},
   "outputs": [
    {
     "name": "stderr",
     "output_type": "stream",
     "text": [
      "No path specified. Models will be saved in: \"AutogluonModels/ag-20220627_181429/\"\n",
      "Beginning AutoGluon training ...\n",
      "AutoGluon will save models to \"AutogluonModels/ag-20220627_181429/\"\n",
      "AutoGluon Version:  0.4.3b20220616\n",
      "Python Version:     3.8.0\n",
      "Operating System:   Linux\n",
      "Train Data Rows:    22398\n",
      "Train Data Columns: 14\n",
      "Label Column: class\n",
      "Preprocessing data ...\n",
      "AutoGluon infers your prediction problem is: 'binary' (because only two unique label-values observed).\n",
      "\t2 unique label values:  [' <=50K', ' >50K']\n",
      "\tIf 'binary' is not the correct problem_type, please manually specify the problem_type parameter during predictor init (You may specify problem_type as one of: ['binary', 'multiclass', 'regression'])\n",
      "Selected class <--> label mapping:  class 1 =  >50K, class 0 =  <=50K\n",
      "\tNote: For your binary classification, AutoGluon arbitrarily selected which label-value represents positive ( >50K) vs negative ( <=50K) class.\n",
      "\tTo explicitly set the positive_class, either rename classes to 1 and 0, or specify positive_class in Predictor init.\n",
      "Using Feature Generators to preprocess the data ...\n",
      "Fitting AutoMLPipelineFeatureGenerator...\n",
      "\tAvailable Memory:                    15041.06 MB\n",
      "\tTrain Data (Original)  Memory Usage: 13.07 MB (0.1% of available memory)\n",
      "\tInferring data type of each feature based on column values. Set feature_metadata_in to manually specify special dtypes of the features.\n",
      "\tStage 1 Generators:\n",
      "\t\tFitting AsTypeFeatureGenerator...\n",
      "\t\t\tNote: Converting 1 features to boolean dtype as they only contain 2 unique values.\n",
      "\tStage 2 Generators:\n",
      "\t\tFitting FillNaFeatureGenerator...\n",
      "\tStage 3 Generators:\n",
      "\t\tFitting IdentityFeatureGenerator...\n",
      "\t\tFitting CategoryFeatureGenerator...\n",
      "\t\t\tFitting CategoryMemoryMinimizeFeatureGenerator...\n",
      "\tStage 4 Generators:\n",
      "\t\tFitting DropUniqueFeatureGenerator...\n",
      "\tTypes of features in original data (raw dtype, special dtypes):\n",
      "\t\t('int', [])    : 6 | ['age', 'fnlwgt', 'education-num', 'capital-gain', 'capital-loss', ...]\n",
      "\t\t('object', []) : 8 | ['workclass', 'education', 'marital-status', 'occupation', 'relationship', ...]\n",
      "\tTypes of features in processed data (raw dtype, special dtypes):\n",
      "\t\t('category', [])  : 7 | ['workclass', 'education', 'marital-status', 'occupation', 'relationship', ...]\n",
      "\t\t('int', [])       : 6 | ['age', 'fnlwgt', 'education-num', 'capital-gain', 'capital-loss', ...]\n",
      "\t\t('int', ['bool']) : 1 | ['sex']\n",
      "\t0.2s = Fit runtime\n",
      "\t14 features in original data used to generate 14 features in processed data.\n",
      "\tTrain Data (Processed) Memory Usage: 1.26 MB (0.0% of available memory)\n",
      "Data preprocessing and feature engineering runtime = 0.23s ...\n",
      "AutoGluon will gauge predictive performance using evaluation metric: 'accuracy'\n",
      "\tTo change this, specify the eval_metric parameter of Predictor()\n",
      "Automatically generating train/validation split with holdout_frac=0.1, Train Rows: 20158, Val Rows: 2240\n",
      "Fitting 13 L1 models ...\n",
      "Fitting model: KNeighborsUnif ...\n",
      "\t0.8232\t = Validation score   (accuracy)\n",
      "\t0.02s\t = Training   runtime\n",
      "\t0.02s\t = Validation runtime\n",
      "Fitting model: KNeighborsDist ...\n",
      "\t0.8054\t = Validation score   (accuracy)\n",
      "\t0.02s\t = Training   runtime\n",
      "\t0.02s\t = Validation runtime\n",
      "Fitting model: LightGBMXT ...\n",
      "\t0.8839\t = Validation score   (accuracy)\n",
      "\t0.69s\t = Training   runtime\n",
      "\t0.01s\t = Validation runtime\n",
      "Fitting model: LightGBM ...\n",
      "\t0.8933\t = Validation score   (accuracy)\n",
      "\t0.79s\t = Training   runtime\n",
      "\t0.02s\t = Validation runtime\n",
      "Fitting model: RandomForestGini ...\n",
      "\t0.8759\t = Validation score   (accuracy)\n",
      "\t2.08s\t = Training   runtime\n",
      "\t0.11s\t = Validation runtime\n",
      "Fitting model: RandomForestEntr ...\n",
      "\t0.8754\t = Validation score   (accuracy)\n",
      "\t2.55s\t = Training   runtime\n",
      "\t0.11s\t = Validation runtime\n",
      "Fitting model: CatBoost ...\n",
      "\t0.8938\t = Validation score   (accuracy)\n",
      "\t14.67s\t = Training   runtime\n",
      "\t0.01s\t = Validation runtime\n",
      "Fitting model: ExtraTreesGini ...\n",
      "\t0.8723\t = Validation score   (accuracy)\n",
      "\t1.49s\t = Training   runtime\n",
      "\t0.12s\t = Validation runtime\n",
      "Fitting model: ExtraTreesEntr ...\n",
      "\t0.8701\t = Validation score   (accuracy)\n",
      "\t1.6s\t = Training   runtime\n",
      "\t0.11s\t = Validation runtime\n",
      "Fitting model: NeuralNetFastAI ...\n",
      "\t0.8804\t = Validation score   (accuracy)\n",
      "\t19.1s\t = Training   runtime\n",
      "\t0.04s\t = Validation runtime\n",
      "Fitting model: XGBoost ...\n",
      "\t0.8964\t = Validation score   (accuracy)\n",
      "\t0.6s\t = Training   runtime\n",
      "\t0.02s\t = Validation runtime\n",
      "Fitting model: NeuralNetTorch ...\n",
      "\t0.8772\t = Validation score   (accuracy)\n",
      "\t25.43s\t = Training   runtime\n",
      "\t0.05s\t = Validation runtime\n",
      "Fitting model: LightGBMLarge ...\n",
      "\t0.8938\t = Validation score   (accuracy)\n",
      "\t1.17s\t = Training   runtime\n",
      "\t0.02s\t = Validation runtime\n",
      "Fitting model: WeightedEnsemble_L2 ...\n",
      "\t0.9013\t = Validation score   (accuracy)\n",
      "\t1.08s\t = Training   runtime\n",
      "\t0.0s\t = Validation runtime\n",
      "AutoGluon training complete, total runtime = 74.23s ... Best model: \"WeightedEnsemble_L2\"\n",
      "TabularPredictor saved. To load, use: predictor = TabularPredictor.load(\"AutogluonModels/ag-20220627_181429/\")\n"
     ]
    }
   ],
   "source": [
    "pred_cs = TabularPredictor(label='class').fit(train_cs)"
   ]
  },
  {
   "cell_type": "code",
   "execution_count": 121,
   "id": "efd54248",
   "metadata": {},
   "outputs": [
    {
     "data": {
      "text/plain": [
       "0.829635875006587"
      ]
     },
     "execution_count": 121,
     "metadata": {},
     "output_type": "execute_result"
    }
   ],
   "source": [
    "yhat_cs = pred_cs.predict(test_cs)\n",
    "metrics.accuracy_score(yhat_cs, test_cs['class'])"
   ]
  },
  {
   "cell_type": "code",
   "execution_count": 122,
   "id": "b01e329d",
   "metadata": {},
   "outputs": [],
   "source": [
    "%run ../../../src/autogluon/shift/models/classifier2ST.py"
   ]
  },
  {
   "cell_type": "code",
   "execution_count": 123,
   "id": "2e888f53",
   "metadata": {},
   "outputs": [
    {
     "name": "stderr",
     "output_type": "stream",
     "text": [
      "No path specified. Models will be saved in: \"AutogluonModels/ag-20220627_181559/\"\n"
     ]
    }
   ],
   "source": [
    "label='label'\n",
    "cs_pred = TabularPredictor(label=label)\n",
    "ctst = Classifier2ST(cs_pred)"
   ]
  },
  {
   "cell_type": "code",
   "execution_count": 124,
   "id": "5a03c20d",
   "metadata": {},
   "outputs": [
    {
     "name": "stderr",
     "output_type": "stream",
     "text": [
      "Beginning AutoGluon training ...\n",
      "AutoGluon will save models to \"AutogluonModels/ag-20220627_181559/\"\n",
      "AutoGluon Version:  0.4.3b20220616\n",
      "Python Version:     3.8.0\n",
      "Operating System:   Linux\n",
      "Train Data Rows:    20688\n",
      "Train Data Columns: 14\n",
      "Label Column: label\n",
      "Preprocessing data ...\n",
      "AutoGluon infers your prediction problem is: 'binary' (because only two unique label-values observed).\n",
      "\t2 unique label values:  [0, 1]\n",
      "\tIf 'binary' is not the correct problem_type, please manually specify the problem_type parameter during predictor init (You may specify problem_type as one of: ['binary', 'multiclass', 'regression'])\n",
      "Selected class <--> label mapping:  class 1 = 1, class 0 = 0\n",
      "Using Feature Generators to preprocess the data ...\n",
      "Fitting AutoMLPipelineFeatureGenerator...\n",
      "\tAvailable Memory:                    15013.92 MB\n",
      "\tTrain Data (Original)  Memory Usage: 12.07 MB (0.1% of available memory)\n",
      "\tInferring data type of each feature based on column values. Set feature_metadata_in to manually specify special dtypes of the features.\n",
      "\tStage 1 Generators:\n",
      "\t\tFitting AsTypeFeatureGenerator...\n",
      "\t\t\tNote: Converting 1 features to boolean dtype as they only contain 2 unique values.\n",
      "\tStage 2 Generators:\n",
      "\t\tFitting FillNaFeatureGenerator...\n",
      "\tStage 3 Generators:\n",
      "\t\tFitting IdentityFeatureGenerator...\n",
      "\t\tFitting CategoryFeatureGenerator...\n",
      "\t\t\tFitting CategoryMemoryMinimizeFeatureGenerator...\n",
      "\tStage 4 Generators:\n",
      "\t\tFitting DropUniqueFeatureGenerator...\n",
      "\tTypes of features in original data (raw dtype, special dtypes):\n",
      "\t\t('int', [])    : 6 | ['age', 'fnlwgt', 'education-num', 'capital-gain', 'capital-loss', ...]\n",
      "\t\t('object', []) : 8 | ['workclass', 'education', 'marital-status', 'occupation', 'relationship', ...]\n",
      "\tTypes of features in processed data (raw dtype, special dtypes):\n",
      "\t\t('category', [])  : 7 | ['workclass', 'education', 'marital-status', 'occupation', 'relationship', ...]\n",
      "\t\t('int', [])       : 6 | ['age', 'fnlwgt', 'education-num', 'capital-gain', 'capital-loss', ...]\n",
      "\t\t('int', ['bool']) : 1 | ['sex']\n",
      "\t0.2s = Fit runtime\n",
      "\t14 features in original data used to generate 14 features in processed data.\n",
      "\tTrain Data (Processed) Memory Usage: 1.16 MB (0.0% of available memory)\n",
      "Data preprocessing and feature engineering runtime = 0.21s ...\n",
      "AutoGluon will gauge predictive performance using evaluation metric: 'accuracy'\n",
      "\tTo change this, specify the eval_metric parameter of Predictor()\n",
      "Automatically generating train/validation split with holdout_frac=0.1, Train Rows: 18619, Val Rows: 2069\n",
      "Fitting 13 L1 models ...\n",
      "Fitting model: KNeighborsUnif ...\n",
      "\t0.5138\t = Validation score   (accuracy)\n",
      "\t0.02s\t = Training   runtime\n",
      "\t0.02s\t = Validation runtime\n",
      "Fitting model: KNeighborsDist ...\n",
      "\t0.5157\t = Validation score   (accuracy)\n",
      "\t0.02s\t = Training   runtime\n",
      "\t0.02s\t = Validation runtime\n",
      "Fitting model: LightGBMXT ...\n",
      "\t0.6535\t = Validation score   (accuracy)\n",
      "\t0.7s\t = Training   runtime\n",
      "\t0.02s\t = Validation runtime\n",
      "Fitting model: LightGBM ...\n",
      "\t0.6525\t = Validation score   (accuracy)\n",
      "\t0.53s\t = Training   runtime\n",
      "\t0.01s\t = Validation runtime\n",
      "Fitting model: RandomForestGini ...\n",
      "\t0.6148\t = Validation score   (accuracy)\n",
      "\t2.96s\t = Training   runtime\n",
      "\t0.13s\t = Validation runtime\n",
      "Fitting model: RandomForestEntr ...\n",
      "\t0.6225\t = Validation score   (accuracy)\n",
      "\t3.99s\t = Training   runtime\n",
      "\t0.12s\t = Validation runtime\n",
      "Fitting model: CatBoost ...\n",
      "\t0.653\t = Validation score   (accuracy)\n",
      "\t2.82s\t = Training   runtime\n",
      "\t0.01s\t = Validation runtime\n",
      "Fitting model: ExtraTreesGini ...\n",
      "\t0.6046\t = Validation score   (accuracy)\n",
      "\t2.03s\t = Training   runtime\n",
      "\t0.14s\t = Validation runtime\n",
      "Fitting model: ExtraTreesEntr ...\n",
      "\t0.6061\t = Validation score   (accuracy)\n",
      "\t2.25s\t = Training   runtime\n",
      "\t0.13s\t = Validation runtime\n",
      "Fitting model: NeuralNetFastAI ...\n",
      "\t0.653\t = Validation score   (accuracy)\n",
      "\t17.67s\t = Training   runtime\n",
      "\t0.04s\t = Validation runtime\n",
      "Fitting model: XGBoost ...\n",
      "\t0.6525\t = Validation score   (accuracy)\n",
      "\t0.47s\t = Training   runtime\n",
      "\t0.01s\t = Validation runtime\n",
      "Fitting model: NeuralNetTorch ...\n",
      "\t0.652\t = Validation score   (accuracy)\n",
      "\t15.98s\t = Training   runtime\n",
      "\t0.04s\t = Validation runtime\n",
      "Fitting model: LightGBMLarge ...\n",
      "\t0.652\t = Validation score   (accuracy)\n",
      "\t0.94s\t = Training   runtime\n",
      "\t0.01s\t = Validation runtime\n",
      "Fitting model: WeightedEnsemble_L2 ...\n",
      "\t0.6539\t = Validation score   (accuracy)\n",
      "\t1.09s\t = Training   runtime\n",
      "\t0.0s\t = Validation runtime\n",
      "AutoGluon training complete, total runtime = 55.92s ... Best model: \"WeightedEnsemble_L2\"\n",
      "TabularPredictor saved. To load, use: predictor = TabularPredictor.load(\"AutogluonModels/ag-20220627_181559/\")\n"
     ]
    }
   ],
   "source": [
    "ctst.fit((train_cs.drop(columns='class'), test_cs.drop(columns='class')))"
   ]
  },
  {
   "cell_type": "code",
   "execution_count": 125,
   "id": "375a49ee",
   "metadata": {},
   "outputs": [
    {
     "data": {
      "text/plain": [
       "0.6592062648039831"
      ]
     },
     "execution_count": 125,
     "metadata": {},
     "output_type": "execute_result"
    }
   ],
   "source": [
    "ctst.test_stat"
   ]
  },
  {
   "cell_type": "code",
   "execution_count": 126,
   "id": "6b9aaac5",
   "metadata": {},
   "outputs": [],
   "source": [
    "ano_samp = ctst.sample_anomaly_scores()\n",
    "ano_data = data.loc[ano_samp.index]"
   ]
  },
  {
   "cell_type": "code",
   "execution_count": 127,
   "id": "10e556ea",
   "metadata": {},
   "outputs": [],
   "source": [
    "ano_data['rank'] = ano_samp['rank']"
   ]
  },
  {
   "cell_type": "code",
   "execution_count": 128,
   "id": "d4af69e5",
   "metadata": {},
   "outputs": [
    {
     "data": {
      "text/html": [
       "<div>\n",
       "<style scoped>\n",
       "    .dataframe tbody tr th:only-of-type {\n",
       "        vertical-align: middle;\n",
       "    }\n",
       "\n",
       "    .dataframe tbody tr th {\n",
       "        vertical-align: top;\n",
       "    }\n",
       "\n",
       "    .dataframe thead th {\n",
       "        text-align: right;\n",
       "    }\n",
       "</style>\n",
       "<table border=\"1\" class=\"dataframe\">\n",
       "  <thead>\n",
       "    <tr style=\"text-align: right;\">\n",
       "      <th></th>\n",
       "      <th>age</th>\n",
       "      <th>workclass</th>\n",
       "      <th>fnlwgt</th>\n",
       "      <th>education</th>\n",
       "      <th>education-num</th>\n",
       "      <th>marital-status</th>\n",
       "      <th>occupation</th>\n",
       "      <th>relationship</th>\n",
       "      <th>race</th>\n",
       "      <th>sex</th>\n",
       "      <th>capital-gain</th>\n",
       "      <th>capital-loss</th>\n",
       "      <th>hours-per-week</th>\n",
       "      <th>native-country</th>\n",
       "      <th>class</th>\n",
       "      <th>rank</th>\n",
       "    </tr>\n",
       "  </thead>\n",
       "  <tbody>\n",
       "    <tr>\n",
       "      <th>19850</th>\n",
       "      <td>47</td>\n",
       "      <td>Federal-gov</td>\n",
       "      <td>68493</td>\n",
       "      <td>HS-grad</td>\n",
       "      <td>9</td>\n",
       "      <td>Married-civ-spouse</td>\n",
       "      <td>Adm-clerical</td>\n",
       "      <td>Husband</td>\n",
       "      <td>Black</td>\n",
       "      <td>Male</td>\n",
       "      <td>0</td>\n",
       "      <td>0</td>\n",
       "      <td>40</td>\n",
       "      <td>United-States</td>\n",
       "      <td>&gt;50K</td>\n",
       "      <td>1.000000</td>\n",
       "    </tr>\n",
       "    <tr>\n",
       "      <th>40297</th>\n",
       "      <td>49</td>\n",
       "      <td>Self-emp-not-inc</td>\n",
       "      <td>168191</td>\n",
       "      <td>7th-8th</td>\n",
       "      <td>4</td>\n",
       "      <td>Married-civ-spouse</td>\n",
       "      <td>Other-service</td>\n",
       "      <td>Husband</td>\n",
       "      <td>White</td>\n",
       "      <td>Male</td>\n",
       "      <td>0</td>\n",
       "      <td>0</td>\n",
       "      <td>70</td>\n",
       "      <td>Italy</td>\n",
       "      <td>&lt;=50K</td>\n",
       "      <td>0.989899</td>\n",
       "    </tr>\n",
       "    <tr>\n",
       "      <th>17070</th>\n",
       "      <td>26</td>\n",
       "      <td>Private</td>\n",
       "      <td>109186</td>\n",
       "      <td>Some-college</td>\n",
       "      <td>10</td>\n",
       "      <td>Married-civ-spouse</td>\n",
       "      <td>Sales</td>\n",
       "      <td>Husband</td>\n",
       "      <td>White</td>\n",
       "      <td>Male</td>\n",
       "      <td>0</td>\n",
       "      <td>0</td>\n",
       "      <td>50</td>\n",
       "      <td>Germany</td>\n",
       "      <td>&lt;=50K</td>\n",
       "      <td>0.979798</td>\n",
       "    </tr>\n",
       "    <tr>\n",
       "      <th>21960</th>\n",
       "      <td>60</td>\n",
       "      <td>Federal-gov</td>\n",
       "      <td>129379</td>\n",
       "      <td>Some-college</td>\n",
       "      <td>10</td>\n",
       "      <td>Married-civ-spouse</td>\n",
       "      <td>Tech-support</td>\n",
       "      <td>Husband</td>\n",
       "      <td>White</td>\n",
       "      <td>Male</td>\n",
       "      <td>0</td>\n",
       "      <td>0</td>\n",
       "      <td>40</td>\n",
       "      <td>United-States</td>\n",
       "      <td>&lt;=50K</td>\n",
       "      <td>0.969697</td>\n",
       "    </tr>\n",
       "    <tr>\n",
       "      <th>11573</th>\n",
       "      <td>39</td>\n",
       "      <td>Private</td>\n",
       "      <td>53926</td>\n",
       "      <td>Bachelors</td>\n",
       "      <td>13</td>\n",
       "      <td>Married-civ-spouse</td>\n",
       "      <td>Prof-specialty</td>\n",
       "      <td>Husband</td>\n",
       "      <td>White</td>\n",
       "      <td>Male</td>\n",
       "      <td>0</td>\n",
       "      <td>0</td>\n",
       "      <td>40</td>\n",
       "      <td>United-States</td>\n",
       "      <td>&lt;=50K</td>\n",
       "      <td>0.959596</td>\n",
       "    </tr>\n",
       "  </tbody>\n",
       "</table>\n",
       "</div>"
      ],
      "text/plain": [
       "       age          workclass  fnlwgt      education  education-num  \\\n",
       "19850   47        Federal-gov   68493        HS-grad              9   \n",
       "40297   49   Self-emp-not-inc  168191        7th-8th              4   \n",
       "17070   26            Private  109186   Some-college             10   \n",
       "21960   60        Federal-gov  129379   Some-college             10   \n",
       "11573   39            Private   53926      Bachelors             13   \n",
       "\n",
       "           marital-status       occupation relationship   race   sex  \\\n",
       "19850  Married-civ-spouse     Adm-clerical      Husband  Black  Male   \n",
       "40297  Married-civ-spouse    Other-service      Husband  White  Male   \n",
       "17070  Married-civ-spouse            Sales      Husband  White  Male   \n",
       "21960  Married-civ-spouse     Tech-support      Husband  White  Male   \n",
       "11573  Married-civ-spouse   Prof-specialty      Husband  White  Male   \n",
       "\n",
       "       capital-gain  capital-loss  hours-per-week  native-country   class  \\\n",
       "19850             0             0              40   United-States    >50K   \n",
       "40297             0             0              70           Italy   <=50K   \n",
       "17070             0             0              50         Germany   <=50K   \n",
       "21960             0             0              40   United-States   <=50K   \n",
       "11573             0             0              40   United-States   <=50K   \n",
       "\n",
       "           rank  \n",
       "19850  1.000000  \n",
       "40297  0.989899  \n",
       "17070  0.979798  \n",
       "21960  0.969697  \n",
       "11573  0.959596  "
      ]
     },
     "execution_count": 128,
     "metadata": {},
     "output_type": "execute_result"
    }
   ],
   "source": [
    "ano_data.head()"
   ]
  },
  {
   "cell_type": "code",
   "execution_count": 129,
   "id": "b4f52229",
   "metadata": {},
   "outputs": [
    {
     "name": "stderr",
     "output_type": "stream",
     "text": [
      "/home/ubuntu/autogluon/env/lib/python3.8/site-packages/plotnine/stats/stat_density.py:151: PlotnineWarning: To compute the density of a group with only one value set the bandwidth manually. e.g `bw=0.1`\n",
      "/home/ubuntu/autogluon/env/lib/python3.8/site-packages/plotnine/stats/stat_density.py:154: PlotnineWarning: Groups with fewer than 2 data points have been removed.\n"
     ]
    },
    {
     "data": {
      "image/png": "[encoded data removed]",
      "text/plain": [
       "<Figure size 640x480 with 1 Axes>"
      ]
     },
     "metadata": {},
     "output_type": "display_data"
    },
    {
     "data": {
      "text/plain": [
       "<ggplot: (8735268653400)>"
      ]
     },
     "execution_count": 129,
     "metadata": {},
     "output_type": "execute_result"
    }
   ],
   "source": [
    "p9.ggplot(ano_data, p9.aes(x='rank', fill='marital-status')) + p9.geom_density(alpha=.4)"
   ]
  },
  {
   "cell_type": "code",
   "execution_count": 130,
   "id": "2e916667",
   "metadata": {},
   "outputs": [
    {
     "data": {
      "image/png": "[encoded data removed]",
      "text/plain": [
       "<Figure size 640x480 with 1 Axes>"
      ]
     },
     "metadata": {},
     "output_type": "display_data"
    },
    {
     "data": {
      "text/plain": [
       "<ggplot: (8735268643325)>"
      ]
     },
     "execution_count": 130,
     "metadata": {},
     "output_type": "execute_result"
    }
   ],
   "source": [
    "p9.ggplot(ano_data, p9.aes(x='rank', fill='class')) + p9.geom_density(alpha=.4)"
   ]
  },
  {
   "cell_type": "code",
   "execution_count": 131,
   "id": "f97adca2",
   "metadata": {},
   "outputs": [
    {
     "name": "stderr",
     "output_type": "stream",
     "text": [
      "Computing feature importance via permutation shuffling for 14 features using 5000 rows with 5 shuffle sets...\n",
      "\t29.8s\t= Expected runtime (5.96s per shuffle set)\n",
      "\t13.88s\t= Actual runtime (Completed 5 of 5 shuffle sets)\n"
     ]
    },
    {
     "data": {
      "text/html": [
       "<div>\n",
       "<style scoped>\n",
       "    .dataframe tbody tr th:only-of-type {\n",
       "        vertical-align: middle;\n",
       "    }\n",
       "\n",
       "    .dataframe tbody tr th {\n",
       "        vertical-align: top;\n",
       "    }\n",
       "\n",
       "    .dataframe thead th {\n",
       "        text-align: right;\n",
       "    }\n",
       "</style>\n",
       "<table border=\"1\" class=\"dataframe\">\n",
       "  <thead>\n",
       "    <tr style=\"text-align: right;\">\n",
       "      <th></th>\n",
       "      <th>importance</th>\n",
       "      <th>stddev</th>\n",
       "      <th>p_value</th>\n",
       "      <th>n</th>\n",
       "      <th>p99_high</th>\n",
       "      <th>p99_low</th>\n",
       "    </tr>\n",
       "  </thead>\n",
       "  <tbody>\n",
       "    <tr>\n",
       "      <th>marital-status</th>\n",
       "      <td>0.15016</td>\n",
       "      <td>0.012555</td>\n",
       "      <td>0.000006</td>\n",
       "      <td>5</td>\n",
       "      <td>0.176011</td>\n",
       "      <td>0.124309</td>\n",
       "    </tr>\n",
       "    <tr>\n",
       "      <th>fnlwgt</th>\n",
       "      <td>0.00056</td>\n",
       "      <td>0.000590</td>\n",
       "      <td>0.050519</td>\n",
       "      <td>5</td>\n",
       "      <td>0.001775</td>\n",
       "      <td>-0.000655</td>\n",
       "    </tr>\n",
       "    <tr>\n",
       "      <th>relationship</th>\n",
       "      <td>0.00032</td>\n",
       "      <td>0.001677</td>\n",
       "      <td>0.345779</td>\n",
       "      <td>5</td>\n",
       "      <td>0.003773</td>\n",
       "      <td>-0.003133</td>\n",
       "    </tr>\n",
       "    <tr>\n",
       "      <th>occupation</th>\n",
       "      <td>0.00016</td>\n",
       "      <td>0.000792</td>\n",
       "      <td>0.337524</td>\n",
       "      <td>5</td>\n",
       "      <td>0.001792</td>\n",
       "      <td>-0.001472</td>\n",
       "    </tr>\n",
       "    <tr>\n",
       "      <th>workclass</th>\n",
       "      <td>0.00016</td>\n",
       "      <td>0.000358</td>\n",
       "      <td>0.186950</td>\n",
       "      <td>5</td>\n",
       "      <td>0.000897</td>\n",
       "      <td>-0.000577</td>\n",
       "    </tr>\n",
       "    <tr>\n",
       "      <th>age</th>\n",
       "      <td>0.00004</td>\n",
       "      <td>0.000910</td>\n",
       "      <td>0.463214</td>\n",
       "      <td>5</td>\n",
       "      <td>0.001914</td>\n",
       "      <td>-0.001834</td>\n",
       "    </tr>\n",
       "    <tr>\n",
       "      <th>capital-gain</th>\n",
       "      <td>0.00004</td>\n",
       "      <td>0.000329</td>\n",
       "      <td>0.399483</td>\n",
       "      <td>5</td>\n",
       "      <td>0.000717</td>\n",
       "      <td>-0.000637</td>\n",
       "    </tr>\n",
       "    <tr>\n",
       "      <th>sex</th>\n",
       "      <td>-0.00012</td>\n",
       "      <td>0.000268</td>\n",
       "      <td>0.813050</td>\n",
       "      <td>5</td>\n",
       "      <td>0.000432</td>\n",
       "      <td>-0.000672</td>\n",
       "    </tr>\n",
       "    <tr>\n",
       "      <th>education</th>\n",
       "      <td>-0.00020</td>\n",
       "      <td>0.000510</td>\n",
       "      <td>0.785013</td>\n",
       "      <td>5</td>\n",
       "      <td>0.000850</td>\n",
       "      <td>-0.001250</td>\n",
       "    </tr>\n",
       "    <tr>\n",
       "      <th>capital-loss</th>\n",
       "      <td>-0.00020</td>\n",
       "      <td>0.000400</td>\n",
       "      <td>0.836918</td>\n",
       "      <td>5</td>\n",
       "      <td>0.000624</td>\n",
       "      <td>-0.001024</td>\n",
       "    </tr>\n",
       "    <tr>\n",
       "      <th>education-num</th>\n",
       "      <td>-0.00032</td>\n",
       "      <td>0.000228</td>\n",
       "      <td>0.982540</td>\n",
       "      <td>5</td>\n",
       "      <td>0.000150</td>\n",
       "      <td>-0.000790</td>\n",
       "    </tr>\n",
       "    <tr>\n",
       "      <th>hours-per-week</th>\n",
       "      <td>-0.00036</td>\n",
       "      <td>0.000518</td>\n",
       "      <td>0.902535</td>\n",
       "      <td>5</td>\n",
       "      <td>0.000706</td>\n",
       "      <td>-0.001426</td>\n",
       "    </tr>\n",
       "    <tr>\n",
       "      <th>race</th>\n",
       "      <td>-0.00040</td>\n",
       "      <td>0.000616</td>\n",
       "      <td>0.889793</td>\n",
       "      <td>5</td>\n",
       "      <td>0.000869</td>\n",
       "      <td>-0.001669</td>\n",
       "    </tr>\n",
       "    <tr>\n",
       "      <th>native-country</th>\n",
       "      <td>-0.00048</td>\n",
       "      <td>0.000756</td>\n",
       "      <td>0.885570</td>\n",
       "      <td>5</td>\n",
       "      <td>0.001077</td>\n",
       "      <td>-0.002037</td>\n",
       "    </tr>\n",
       "  </tbody>\n",
       "</table>\n",
       "</div>"
      ],
      "text/plain": [
       "                importance    stddev   p_value  n  p99_high   p99_low\n",
       "marital-status     0.15016  0.012555  0.000006  5  0.176011  0.124309\n",
       "fnlwgt             0.00056  0.000590  0.050519  5  0.001775 -0.000655\n",
       "relationship       0.00032  0.001677  0.345779  5  0.003773 -0.003133\n",
       "occupation         0.00016  0.000792  0.337524  5  0.001792 -0.001472\n",
       "workclass          0.00016  0.000358  0.186950  5  0.000897 -0.000577\n",
       "age                0.00004  0.000910  0.463214  5  0.001914 -0.001834\n",
       "capital-gain       0.00004  0.000329  0.399483  5  0.000717 -0.000637\n",
       "sex               -0.00012  0.000268  0.813050  5  0.000432 -0.000672\n",
       "education         -0.00020  0.000510  0.785013  5  0.000850 -0.001250\n",
       "capital-loss      -0.00020  0.000400  0.836918  5  0.000624 -0.001024\n",
       "education-num     -0.00032  0.000228  0.982540  5  0.000150 -0.000790\n",
       "hours-per-week    -0.00036  0.000518  0.902535  5  0.000706 -0.001426\n",
       "race              -0.00040  0.000616  0.889793  5  0.000869 -0.001669\n",
       "native-country    -0.00048  0.000756  0.885570  5  0.001077 -0.002037"
      ]
     },
     "execution_count": 131,
     "metadata": {},
     "output_type": "execute_result"
    }
   ],
   "source": [
    "ctst.feature_importance()"
   ]
  },
  {
   "cell_type": "code",
   "execution_count": 132,
   "id": "910c3a34",
   "metadata": {},
   "outputs": [],
   "source": [
    "phat_val = ctst._classifier.predict_proba(val_cs)"
   ]
  },
  {
   "cell_type": "code",
   "execution_count": 133,
   "id": "bebd3eef",
   "metadata": {},
   "outputs": [
    {
     "data": {
      "text/plain": [
       "0.4197362440528361"
      ]
     },
     "execution_count": 133,
     "metadata": {},
     "output_type": "execute_result"
    }
   ],
   "source": [
    "phat_val[1].mean()"
   ]
  },
  {
   "cell_type": "code",
   "execution_count": 134,
   "id": "7ec72fbe",
   "metadata": {},
   "outputs": [
    {
     "data": {
      "text/plain": [
       "0.3402973081558859"
      ]
     },
     "execution_count": 134,
     "metadata": {},
     "output_type": "execute_result"
    }
   ],
   "source": [
    "ctst._classifier.predict(val_cs).mean()"
   ]
  },
  {
   "cell_type": "code",
   "execution_count": 135,
   "id": "c43c1649",
   "metadata": {},
   "outputs": [],
   "source": [
    "yhat_val = pred_cs.predict(val_cs)\n",
    "y_val = val_cs['class']\n",
    "odds_val = phat_val[1] / phat_val[0]"
   ]
  },
  {
   "cell_type": "code",
   "execution_count": 136,
   "id": "1b532789",
   "metadata": {},
   "outputs": [
    {
     "data": {
      "text/plain": [
       "0.4197362440528361"
      ]
     },
     "execution_count": 136,
     "metadata": {},
     "output_type": "execute_result"
    }
   ],
   "source": [
    "phat_val[1].mean()"
   ]
  },
  {
   "cell_type": "code",
   "execution_count": 137,
   "id": "9b7ae980",
   "metadata": {},
   "outputs": [
    {
     "data": {
      "text/plain": [
       "0.8767605327458683"
      ]
     },
     "execution_count": 137,
     "metadata": {},
     "output_type": "execute_result"
    }
   ],
   "source": [
    "odds_val.mean()"
   ]
  },
  {
   "cell_type": "code",
   "execution_count": 138,
   "id": "deecda68",
   "metadata": {},
   "outputs": [
    {
     "data": {
      "text/plain": [
       "0.7302265885613611"
      ]
     },
     "execution_count": 138,
     "metadata": {},
     "output_type": "execute_result"
    }
   ],
   "source": [
    "(odds_val * (y_val == yhat_val)).mean()"
   ]
  },
  {
   "cell_type": "code",
   "execution_count": 139,
   "id": "569ac4e9",
   "metadata": {},
   "outputs": [],
   "source": [
    "odds_val_sorted = odds_val.sort_values()"
   ]
  },
  {
   "cell_type": "code",
   "execution_count": 140,
   "id": "339da49e",
   "metadata": {},
   "outputs": [],
   "source": [
    "phat_test = ctst._classifier.predict_proba(test_cs)\n",
    "odds_test = phat_test[1] / phat_test[0]"
   ]
  },
  {
   "cell_type": "code",
   "execution_count": 141,
   "id": "75e747b4",
   "metadata": {},
   "outputs": [],
   "source": [
    "next_idx = odds_val_sorted.searchsorted(odds_test)\n",
    "prev_idx = next_idx - 1"
   ]
  },
  {
   "cell_type": "code",
   "execution_count": 142,
   "id": "247ba7e2",
   "metadata": {},
   "outputs": [],
   "source": [
    "val_sidx = odds_val_sorted.index"
   ]
  },
  {
   "cell_type": "code",
   "execution_count": 143,
   "id": "c8c63772",
   "metadata": {},
   "outputs": [],
   "source": [
    "def idx_choice(i):\n",
    "    choice = np.random.binomial(1,0.5)\n",
    "    if choice == 1:\n",
    "        if prev_idx[i] < 0:\n",
    "            return val_sidx[next_idx[i]]\n",
    "        return val_sidx[prev_idx[i]]\n",
    "    else:\n",
    "        if next_idx[i] >= odds_val_sorted.shape[0]:\n",
    "            return val_sidx[prev_idx[i]]\n",
    "        return val_sidx[next_idx[i]]\n",
    "    \n",
    "neigh_idx = [idx_choice(i) for i in range(odds_test.shape[0])]"
   ]
  },
  {
   "cell_type": "code",
   "execution_count": 144,
   "id": "a64e2ca0",
   "metadata": {},
   "outputs": [],
   "source": [
    "yhat_neigh = pred_cs.predict(val_cs.loc[neigh_idx])"
   ]
  },
  {
   "cell_type": "code",
   "execution_count": 145,
   "id": "f07aa6f1",
   "metadata": {},
   "outputs": [],
   "source": [
    "y_neigh = val_cs.loc[neigh_idx]['class']"
   ]
  },
  {
   "cell_type": "code",
   "execution_count": 146,
   "id": "2445b1c1",
   "metadata": {},
   "outputs": [
    {
     "data": {
      "text/plain": [
       "0.8343257627654529"
      ]
     },
     "execution_count": 146,
     "metadata": {},
     "output_type": "execute_result"
    }
   ],
   "source": [
    "(y_neigh == yhat_neigh).mean()"
   ]
  },
  {
   "cell_type": "code",
   "execution_count": 147,
   "id": "bbbe1cd1",
   "metadata": {},
   "outputs": [
    {
     "data": {
      "text/plain": [
       "39509     True\n",
       "35375    False\n",
       "26945     True\n",
       "33032    False\n",
       "43739    False\n",
       "         ...  \n",
       "24820     True\n",
       "15759     True\n",
       "31402     True\n",
       "7628      True\n",
       "35258     True\n",
       "Name: class, Length: 18977, dtype: bool"
      ]
     },
     "execution_count": 147,
     "metadata": {},
     "output_type": "execute_result"
    }
   ],
   "source": [
    "(y_neigh == yhat_neigh)"
   ]
  },
  {
   "cell_type": "code",
   "execution_count": 148,
   "id": "2edf6193",
   "metadata": {},
   "outputs": [
    {
     "data": {
      "text/plain": [
       "0.8068836212669077"
      ]
     },
     "execution_count": 148,
     "metadata": {},
     "output_type": "execute_result"
    }
   ],
   "source": [
    "(val_cs['class'] == ' <=50K').mean()"
   ]
  },
  {
   "cell_type": "code",
   "execution_count": 149,
   "id": "25e9b6fa",
   "metadata": {},
   "outputs": [],
   "source": [
    "yhat_val = pred_cs.predict(val_cs)\n",
    "y_val = val_cs['class']"
   ]
  },
  {
   "cell_type": "code",
   "execution_count": 150,
   "id": "541326c2",
   "metadata": {},
   "outputs": [
    {
     "data": {
      "text/plain": [
       "0.8928619258068836"
      ]
     },
     "execution_count": 150,
     "metadata": {},
     "output_type": "execute_result"
    }
   ],
   "source": [
    "(y_val == yhat_val).mean()"
   ]
  },
  {
   "cell_type": "code",
   "execution_count": 61,
   "id": "921781c7",
   "metadata": {},
   "outputs": [
    {
     "data": {
      "text/html": [
       "<div>\n",
       "<style scoped>\n",
       "    .dataframe tbody tr th:only-of-type {\n",
       "        vertical-align: middle;\n",
       "    }\n",
       "\n",
       "    .dataframe tbody tr th {\n",
       "        vertical-align: top;\n",
       "    }\n",
       "\n",
       "    .dataframe thead th {\n",
       "        text-align: right;\n",
       "    }\n",
       "</style>\n",
       "<table border=\"1\" class=\"dataframe\">\n",
       "  <thead>\n",
       "    <tr style=\"text-align: right;\">\n",
       "      <th></th>\n",
       "      <th>age</th>\n",
       "      <th>workclass</th>\n",
       "      <th>fnlwgt</th>\n",
       "      <th>education</th>\n",
       "      <th>education-num</th>\n",
       "      <th>marital-status</th>\n",
       "      <th>occupation</th>\n",
       "      <th>relationship</th>\n",
       "      <th>race</th>\n",
       "      <th>sex</th>\n",
       "      <th>capital-gain</th>\n",
       "      <th>capital-loss</th>\n",
       "      <th>hours-per-week</th>\n",
       "      <th>native-country</th>\n",
       "      <th>class</th>\n",
       "    </tr>\n",
       "  </thead>\n",
       "  <tbody>\n",
       "    <tr>\n",
       "      <th>11392</th>\n",
       "      <td>45</td>\n",
       "      <td>Self-emp-not-inc</td>\n",
       "      <td>142871</td>\n",
       "      <td>Some-college</td>\n",
       "      <td>10</td>\n",
       "      <td>Separated</td>\n",
       "      <td>Sales</td>\n",
       "      <td>Unmarried</td>\n",
       "      <td>White</td>\n",
       "      <td>Male</td>\n",
       "      <td>0</td>\n",
       "      <td>0</td>\n",
       "      <td>50</td>\n",
       "      <td>United-States</td>\n",
       "      <td>&lt;=50K</td>\n",
       "    </tr>\n",
       "    <tr>\n",
       "      <th>2593</th>\n",
       "      <td>20</td>\n",
       "      <td>Private</td>\n",
       "      <td>278155</td>\n",
       "      <td>Some-college</td>\n",
       "      <td>10</td>\n",
       "      <td>Never-married</td>\n",
       "      <td>Adm-clerical</td>\n",
       "      <td>Own-child</td>\n",
       "      <td>White</td>\n",
       "      <td>Male</td>\n",
       "      <td>0</td>\n",
       "      <td>0</td>\n",
       "      <td>40</td>\n",
       "      <td>United-States</td>\n",
       "      <td>&lt;=50K</td>\n",
       "    </tr>\n",
       "    <tr>\n",
       "      <th>22756</th>\n",
       "      <td>51</td>\n",
       "      <td>Federal-gov</td>\n",
       "      <td>378126</td>\n",
       "      <td>HS-grad</td>\n",
       "      <td>9</td>\n",
       "      <td>Divorced</td>\n",
       "      <td>Adm-clerical</td>\n",
       "      <td>Unmarried</td>\n",
       "      <td>White</td>\n",
       "      <td>Female</td>\n",
       "      <td>0</td>\n",
       "      <td>1980</td>\n",
       "      <td>40</td>\n",
       "      <td>United-States</td>\n",
       "      <td>&lt;=50K</td>\n",
       "    </tr>\n",
       "    <tr>\n",
       "      <th>21927</th>\n",
       "      <td>36</td>\n",
       "      <td>Private</td>\n",
       "      <td>257691</td>\n",
       "      <td>Bachelors</td>\n",
       "      <td>13</td>\n",
       "      <td>Never-married</td>\n",
       "      <td>Sales</td>\n",
       "      <td>Not-in-family</td>\n",
       "      <td>White</td>\n",
       "      <td>Female</td>\n",
       "      <td>0</td>\n",
       "      <td>0</td>\n",
       "      <td>20</td>\n",
       "      <td>United-States</td>\n",
       "      <td>&lt;=50K</td>\n",
       "    </tr>\n",
       "    <tr>\n",
       "      <th>45369</th>\n",
       "      <td>23</td>\n",
       "      <td>Private</td>\n",
       "      <td>287681</td>\n",
       "      <td>7th-8th</td>\n",
       "      <td>4</td>\n",
       "      <td>Never-married</td>\n",
       "      <td>Other-service</td>\n",
       "      <td>Not-in-family</td>\n",
       "      <td>White</td>\n",
       "      <td>Male</td>\n",
       "      <td>0</td>\n",
       "      <td>0</td>\n",
       "      <td>25</td>\n",
       "      <td>Mexico</td>\n",
       "      <td>&lt;=50K</td>\n",
       "    </tr>\n",
       "    <tr>\n",
       "      <th>...</th>\n",
       "      <td>...</td>\n",
       "      <td>...</td>\n",
       "      <td>...</td>\n",
       "      <td>...</td>\n",
       "      <td>...</td>\n",
       "      <td>...</td>\n",
       "      <td>...</td>\n",
       "      <td>...</td>\n",
       "      <td>...</td>\n",
       "      <td>...</td>\n",
       "      <td>...</td>\n",
       "      <td>...</td>\n",
       "      <td>...</td>\n",
       "      <td>...</td>\n",
       "      <td>...</td>\n",
       "    </tr>\n",
       "    <tr>\n",
       "      <th>4322</th>\n",
       "      <td>25</td>\n",
       "      <td>Private</td>\n",
       "      <td>207965</td>\n",
       "      <td>Bachelors</td>\n",
       "      <td>13</td>\n",
       "      <td>Never-married</td>\n",
       "      <td>Other-service</td>\n",
       "      <td>Not-in-family</td>\n",
       "      <td>White</td>\n",
       "      <td>Female</td>\n",
       "      <td>0</td>\n",
       "      <td>0</td>\n",
       "      <td>60</td>\n",
       "      <td>United-States</td>\n",
       "      <td>&lt;=50K</td>\n",
       "    </tr>\n",
       "    <tr>\n",
       "      <th>7875</th>\n",
       "      <td>24</td>\n",
       "      <td>Private</td>\n",
       "      <td>72143</td>\n",
       "      <td>Bachelors</td>\n",
       "      <td>13</td>\n",
       "      <td>Never-married</td>\n",
       "      <td>Sales</td>\n",
       "      <td>Not-in-family</td>\n",
       "      <td>White</td>\n",
       "      <td>Female</td>\n",
       "      <td>0</td>\n",
       "      <td>0</td>\n",
       "      <td>20</td>\n",
       "      <td>United-States</td>\n",
       "      <td>&lt;=50K</td>\n",
       "    </tr>\n",
       "    <tr>\n",
       "      <th>39939</th>\n",
       "      <td>44</td>\n",
       "      <td>Private</td>\n",
       "      <td>335248</td>\n",
       "      <td>Some-college</td>\n",
       "      <td>10</td>\n",
       "      <td>Divorced</td>\n",
       "      <td>Adm-clerical</td>\n",
       "      <td>Not-in-family</td>\n",
       "      <td>White</td>\n",
       "      <td>Female</td>\n",
       "      <td>0</td>\n",
       "      <td>0</td>\n",
       "      <td>40</td>\n",
       "      <td>United-States</td>\n",
       "      <td>&lt;=50K</td>\n",
       "    </tr>\n",
       "    <tr>\n",
       "      <th>33313</th>\n",
       "      <td>29</td>\n",
       "      <td>Private</td>\n",
       "      <td>354496</td>\n",
       "      <td>Masters</td>\n",
       "      <td>14</td>\n",
       "      <td>Never-married</td>\n",
       "      <td>Prof-specialty</td>\n",
       "      <td>Not-in-family</td>\n",
       "      <td>White</td>\n",
       "      <td>Female</td>\n",
       "      <td>0</td>\n",
       "      <td>0</td>\n",
       "      <td>40</td>\n",
       "      <td>United-States</td>\n",
       "      <td>&lt;=50K</td>\n",
       "    </tr>\n",
       "    <tr>\n",
       "      <th>36752</th>\n",
       "      <td>25</td>\n",
       "      <td>Private</td>\n",
       "      <td>289980</td>\n",
       "      <td>HS-grad</td>\n",
       "      <td>9</td>\n",
       "      <td>Never-married</td>\n",
       "      <td>Handlers-cleaners</td>\n",
       "      <td>Not-in-family</td>\n",
       "      <td>White</td>\n",
       "      <td>Male</td>\n",
       "      <td>0</td>\n",
       "      <td>0</td>\n",
       "      <td>35</td>\n",
       "      <td>United-States</td>\n",
       "      <td>&lt;=50K</td>\n",
       "    </tr>\n",
       "  </tbody>\n",
       "</table>\n",
       "<p>6678 rows × 15 columns</p>\n",
       "</div>"
      ],
      "text/plain": [
       "       age          workclass  fnlwgt      education  education-num  \\\n",
       "11392   45   Self-emp-not-inc  142871   Some-college             10   \n",
       "2593    20            Private  278155   Some-college             10   \n",
       "22756   51        Federal-gov  378126        HS-grad              9   \n",
       "21927   36            Private  257691      Bachelors             13   \n",
       "45369   23            Private  287681        7th-8th              4   \n",
       "...    ...                ...     ...            ...            ...   \n",
       "4322    25            Private  207965      Bachelors             13   \n",
       "7875    24            Private   72143      Bachelors             13   \n",
       "39939   44            Private  335248   Some-college             10   \n",
       "33313   29            Private  354496        Masters             14   \n",
       "36752   25            Private  289980        HS-grad              9   \n",
       "\n",
       "      marital-status          occupation    relationship   race     sex  \\\n",
       "11392      Separated               Sales       Unmarried  White    Male   \n",
       "2593   Never-married        Adm-clerical       Own-child  White    Male   \n",
       "22756       Divorced        Adm-clerical       Unmarried  White  Female   \n",
       "21927  Never-married               Sales   Not-in-family  White  Female   \n",
       "45369  Never-married       Other-service   Not-in-family  White    Male   \n",
       "...              ...                 ...             ...    ...     ...   \n",
       "4322   Never-married       Other-service   Not-in-family  White  Female   \n",
       "7875   Never-married               Sales   Not-in-family  White  Female   \n",
       "39939       Divorced        Adm-clerical   Not-in-family  White  Female   \n",
       "33313  Never-married      Prof-specialty   Not-in-family  White  Female   \n",
       "36752  Never-married   Handlers-cleaners   Not-in-family  White    Male   \n",
       "\n",
       "       capital-gain  capital-loss  hours-per-week  native-country   class  \n",
       "11392             0             0              50   United-States   <=50K  \n",
       "2593              0             0              40   United-States   <=50K  \n",
       "22756             0          1980              40   United-States   <=50K  \n",
       "21927             0             0              20   United-States   <=50K  \n",
       "45369             0             0              25          Mexico   <=50K  \n",
       "...             ...           ...             ...             ...     ...  \n",
       "4322              0             0              60   United-States   <=50K  \n",
       "7875              0             0              20   United-States   <=50K  \n",
       "39939             0             0              40   United-States   <=50K  \n",
       "33313             0             0              40   United-States   <=50K  \n",
       "36752             0             0              35   United-States   <=50K  \n",
       "\n",
       "[6678 rows x 15 columns]"
      ]
     },
     "execution_count": 61,
     "metadata": {},
     "output_type": "execute_result"
    }
   ],
   "source": [
    "val_cs"
   ]
  },
  {
   "cell_type": "code",
   "execution_count": 62,
   "id": "320b3777",
   "metadata": {},
   "outputs": [],
   "source": [
    "nn_counts = pd.Series(neigh_idx).value_counts()"
   ]
  },
  {
   "cell_type": "code",
   "execution_count": 63,
   "id": "9437a149",
   "metadata": {},
   "outputs": [
    {
     "data": {
      "text/plain": [
       "488      1269\n",
       "2456     1175\n",
       "32240    1048\n",
       "1329      927\n",
       "3222      468\n",
       "         ... \n",
       "22549       1\n",
       "45757       1\n",
       "4255        1\n",
       "16226       1\n",
       "33516       1\n",
       "Length: 2141, dtype: int64"
      ]
     },
     "execution_count": 63,
     "metadata": {},
     "output_type": "execute_result"
    }
   ],
   "source": [
    "nn_counts"
   ]
  },
  {
   "cell_type": "code",
   "execution_count": 64,
   "id": "03ba42e4",
   "metadata": {},
   "outputs": [],
   "source": [
    "phat_pred_val = pred_cs.predict_proba(val_cs)"
   ]
  },
  {
   "cell_type": "code",
   "execution_count": 65,
   "id": "971d57ac",
   "metadata": {},
   "outputs": [],
   "source": [
    "phat_pred_val['nn_counts'] = nn_counts"
   ]
  },
  {
   "cell_type": "code",
   "execution_count": 66,
   "id": "5bc022a1",
   "metadata": {},
   "outputs": [
    {
     "data": {
      "text/html": [
       "<div>\n",
       "<style scoped>\n",
       "    .dataframe tbody tr th:only-of-type {\n",
       "        vertical-align: middle;\n",
       "    }\n",
       "\n",
       "    .dataframe tbody tr th {\n",
       "        vertical-align: top;\n",
       "    }\n",
       "\n",
       "    .dataframe thead th {\n",
       "        text-align: right;\n",
       "    }\n",
       "</style>\n",
       "<table border=\"1\" class=\"dataframe\">\n",
       "  <thead>\n",
       "    <tr style=\"text-align: right;\">\n",
       "      <th></th>\n",
       "      <th>&lt;=50K</th>\n",
       "      <th>&gt;50K</th>\n",
       "      <th>nn_counts</th>\n",
       "    </tr>\n",
       "  </thead>\n",
       "  <tbody>\n",
       "    <tr>\n",
       "      <th>11392</th>\n",
       "      <td>0.875985</td>\n",
       "      <td>0.124015</td>\n",
       "      <td>7.0</td>\n",
       "    </tr>\n",
       "    <tr>\n",
       "      <th>2593</th>\n",
       "      <td>0.997466</td>\n",
       "      <td>0.002534</td>\n",
       "      <td>1.0</td>\n",
       "    </tr>\n",
       "    <tr>\n",
       "      <th>22756</th>\n",
       "      <td>0.981193</td>\n",
       "      <td>0.018807</td>\n",
       "      <td>0.0</td>\n",
       "    </tr>\n",
       "    <tr>\n",
       "      <th>21927</th>\n",
       "      <td>0.961245</td>\n",
       "      <td>0.038755</td>\n",
       "      <td>0.0</td>\n",
       "    </tr>\n",
       "    <tr>\n",
       "      <th>45369</th>\n",
       "      <td>0.998966</td>\n",
       "      <td>0.001034</td>\n",
       "      <td>1.0</td>\n",
       "    </tr>\n",
       "    <tr>\n",
       "      <th>...</th>\n",
       "      <td>...</td>\n",
       "      <td>...</td>\n",
       "      <td>...</td>\n",
       "    </tr>\n",
       "    <tr>\n",
       "      <th>4322</th>\n",
       "      <td>0.966638</td>\n",
       "      <td>0.033362</td>\n",
       "      <td>0.0</td>\n",
       "    </tr>\n",
       "    <tr>\n",
       "      <th>7875</th>\n",
       "      <td>0.990981</td>\n",
       "      <td>0.009020</td>\n",
       "      <td>0.0</td>\n",
       "    </tr>\n",
       "    <tr>\n",
       "      <th>39939</th>\n",
       "      <td>0.975292</td>\n",
       "      <td>0.024708</td>\n",
       "      <td>0.0</td>\n",
       "    </tr>\n",
       "    <tr>\n",
       "      <th>33313</th>\n",
       "      <td>0.900623</td>\n",
       "      <td>0.099377</td>\n",
       "      <td>0.0</td>\n",
       "    </tr>\n",
       "    <tr>\n",
       "      <th>36752</th>\n",
       "      <td>0.997935</td>\n",
       "      <td>0.002065</td>\n",
       "      <td>0.0</td>\n",
       "    </tr>\n",
       "  </tbody>\n",
       "</table>\n",
       "<p>6678 rows × 3 columns</p>\n",
       "</div>"
      ],
      "text/plain": [
       "          <=50K      >50K  nn_counts\n",
       "11392  0.875985  0.124015        7.0\n",
       "2593   0.997466  0.002534        1.0\n",
       "22756  0.981193  0.018807        0.0\n",
       "21927  0.961245  0.038755        0.0\n",
       "45369  0.998966  0.001034        1.0\n",
       "...         ...       ...        ...\n",
       "4322   0.966638  0.033362        0.0\n",
       "7875   0.990981  0.009020        0.0\n",
       "39939  0.975292  0.024708        0.0\n",
       "33313  0.900623  0.099377        0.0\n",
       "36752  0.997935  0.002065        0.0\n",
       "\n",
       "[6678 rows x 3 columns]"
      ]
     },
     "execution_count": 66,
     "metadata": {},
     "output_type": "execute_result"
    }
   ],
   "source": [
    "phat_pred_val.fillna(0)"
   ]
  },
  {
   "cell_type": "code",
   "execution_count": 67,
   "id": "78d19172",
   "metadata": {},
   "outputs": [
    {
     "name": "stderr",
     "output_type": "stream",
     "text": [
      "/home/ubuntu/autogluon/env/lib/python3.8/site-packages/plotnine/stats/smoothers.py:310: PlotnineWarning: Confidence intervals are not yet implementedfor lowess smoothings.\n",
      "/home/ubuntu/autogluon/env/lib/python3.8/site-packages/plotnine/layer.py:401: PlotnineWarning: geom_point : Removed 4537 rows containing missing values.\n"
     ]
    },
    {
     "data": {
      "image/png": "[encoded data removed]",
      "text/plain": [
       "<Figure size 640x480 with 1 Axes>"
      ]
     },
     "metadata": {},
     "output_type": "display_data"
    },
    {
     "data": {
      "text/plain": [
       "<ggplot: (8735268742391)>"
      ]
     },
     "execution_count": 67,
     "metadata": {},
     "output_type": "execute_result"
    }
   ],
   "source": [
    "p9.ggplot(phat_pred_val, p9.aes(x = ' >50K', y='nn_counts')) + p9.geom_point()\\\n",
    "+ p9.stat_smooth(method='lowess', color='red')"
   ]
  },
  {
   "cell_type": "code",
   "execution_count": 68,
   "id": "14a7c662",
   "metadata": {},
   "outputs": [
    {
     "name": "stderr",
     "output_type": "stream",
     "text": [
      "/home/ubuntu/autogluon/env/lib/python3.8/site-packages/plotnine/layer.py:324: PlotnineWarning: stat_ydensity : Removed 4537 rows containing non-finite values.\n",
      "/home/ubuntu/autogluon/env/lib/python3.8/site-packages/plotnine/stats/stat_density.py:151: PlotnineWarning: To compute the density of a group with only one value set the bandwidth manually. e.g `bw=0.1`\n",
      "/home/ubuntu/autogluon/env/lib/python3.8/site-packages/plotnine/stats/stat_density.py:154: PlotnineWarning: Groups with fewer than 2 data points have been removed.\n"
     ]
    },
    {
     "data": {
      "image/png": "[encoded data removed]",
      "text/plain": [
       "<Figure size 640x480 with 1 Axes>"
      ]
     },
     "metadata": {},
     "output_type": "display_data"
    },
    {
     "data": {
      "text/plain": [
       "<ggplot: (8735268703386)>"
      ]
     },
     "execution_count": 68,
     "metadata": {},
     "output_type": "execute_result"
    }
   ],
   "source": [
    "p9.ggplot(val_cs, p9.aes(x='marital-status', y='1 + nn_counts')) + p9.geom_violin()\\\n",
    "+ p9.scale_y_log10() + p9.theme(axis_text_x=p9.element_text(rotation=45, hjust=1))"
   ]
  },
  {
   "cell_type": "code",
   "execution_count": 69,
   "id": "66d5c5a9",
   "metadata": {},
   "outputs": [
    {
     "data": {
      "text/html": [
       "<div>\n",
       "<style scoped>\n",
       "    .dataframe tbody tr th:only-of-type {\n",
       "        vertical-align: middle;\n",
       "    }\n",
       "\n",
       "    .dataframe tbody tr th {\n",
       "        vertical-align: top;\n",
       "    }\n",
       "\n",
       "    .dataframe thead th {\n",
       "        text-align: right;\n",
       "    }\n",
       "</style>\n",
       "<table border=\"1\" class=\"dataframe\">\n",
       "  <thead>\n",
       "    <tr style=\"text-align: right;\">\n",
       "      <th></th>\n",
       "      <th>train</th>\n",
       "      <th>test</th>\n",
       "    </tr>\n",
       "    <tr>\n",
       "      <th>marital-status</th>\n",
       "      <th></th>\n",
       "      <th></th>\n",
       "    </tr>\n",
       "  </thead>\n",
       "  <tbody>\n",
       "    <tr>\n",
       "      <th>Divorced</th>\n",
       "      <td>0.223143</td>\n",
       "      <td>0.031177</td>\n",
       "    </tr>\n",
       "    <tr>\n",
       "      <th>Married-AF-spouse</th>\n",
       "      <td>0.001198</td>\n",
       "      <td>0.000136</td>\n",
       "    </tr>\n",
       "    <tr>\n",
       "      <th>Married-civ-spouse</th>\n",
       "      <td>0.106879</td>\n",
       "      <td>0.881800</td>\n",
       "    </tr>\n",
       "    <tr>\n",
       "      <th>Married-spouse-absent</th>\n",
       "      <td>0.020367</td>\n",
       "      <td>0.002666</td>\n",
       "    </tr>\n",
       "    <tr>\n",
       "      <th>Never-married</th>\n",
       "      <td>0.545477</td>\n",
       "      <td>0.072158</td>\n",
       "    </tr>\n",
       "    <tr>\n",
       "      <th>Separated</th>\n",
       "      <td>0.051967</td>\n",
       "      <td>0.005603</td>\n",
       "    </tr>\n",
       "    <tr>\n",
       "      <th>Widowed</th>\n",
       "      <td>0.050968</td>\n",
       "      <td>0.006461</td>\n",
       "    </tr>\n",
       "  </tbody>\n",
       "</table>\n",
       "</div>"
      ],
      "text/plain": [
       "                          train      test\n",
       "marital-status                           \n",
       "Divorced               0.223143  0.031177\n",
       "Married-AF-spouse      0.001198  0.000136\n",
       "Married-civ-spouse     0.106879  0.881800\n",
       "Married-spouse-absent  0.020367  0.002666\n",
       "Never-married          0.545477  0.072158\n",
       "Separated              0.051967  0.005603\n",
       "Widowed                0.050968  0.006461"
      ]
     },
     "execution_count": 69,
     "metadata": {},
     "output_type": "execute_result"
    }
   ],
   "source": [
    "pd.DataFrame(\n",
    "    {\n",
    "        'train': train_cs.value_counts('marital-status', normalize=True),\n",
    "        'test': test_cs.value_counts('marital-status', normalize=True)\n",
    "    }\n",
    ")"
   ]
  },
  {
   "cell_type": "code",
   "execution_count": 70,
   "id": "0751734e",
   "metadata": {},
   "outputs": [],
   "source": [
    "yhat_test = pred_cs.predict(test_cs)\n",
    "yhat_val = pred_cs.predict(val_cs)"
   ]
  },
  {
   "cell_type": "code",
   "execution_count": 71,
   "id": "247c183a",
   "metadata": {},
   "outputs": [
    {
     "data": {
      "text/plain": [
       " <=50K    0.932914\n",
       " >50K     0.067086\n",
       "Name: class, dtype: float64"
      ]
     },
     "execution_count": 71,
     "metadata": {},
     "output_type": "execute_result"
    }
   ],
   "source": [
    "yhat_val.value_counts(normalize=True)"
   ]
  },
  {
   "cell_type": "code",
   "execution_count": 72,
   "id": "ea173124",
   "metadata": {},
   "outputs": [
    {
     "data": {
      "text/plain": [
       " <=50K    0.653443\n",
       " >50K     0.346557\n",
       "Name: class, dtype: float64"
      ]
     },
     "execution_count": 72,
     "metadata": {},
     "output_type": "execute_result"
    }
   ],
   "source": [
    "yhat_test.value_counts(normalize=True)"
   ]
  },
  {
   "cell_type": "code",
   "execution_count": 73,
   "id": "155b8fb2",
   "metadata": {},
   "outputs": [],
   "source": [
    "label_ct = pd.DataFrame(\n",
    "{\n",
    "    'val': yhat_val.value_counts(),\n",
    "    'test': yhat_test.value_counts()\n",
    "}\n",
    ")"
   ]
  },
  {
   "cell_type": "code",
   "execution_count": 74,
   "id": "30738bf6",
   "metadata": {},
   "outputs": [],
   "source": [
    "from scipy import stats"
   ]
  },
  {
   "cell_type": "code",
   "execution_count": 75,
   "id": "977a0717",
   "metadata": {},
   "outputs": [
    {
     "data": {
      "text/plain": [
       "(7.375254978564514, 0.0)"
      ]
     },
     "execution_count": 75,
     "metadata": {},
     "output_type": "execute_result"
    }
   ],
   "source": [
    "stats.fisher_exact(label_ct)"
   ]
  },
  {
   "cell_type": "code",
   "execution_count": 76,
   "id": "c6c98f0c",
   "metadata": {},
   "outputs": [],
   "source": [
    "val_cs['yhat'] = yhat_val"
   ]
  },
  {
   "cell_type": "code",
   "execution_count": 77,
   "id": "daf8ff12",
   "metadata": {},
   "outputs": [],
   "source": [
    "pjoint_dist = val_cs.value_counts(['class','yhat'], normalize = True)"
   ]
  },
  {
   "cell_type": "code",
   "execution_count": 78,
   "id": "96f7bac9",
   "metadata": {},
   "outputs": [],
   "source": [
    "pcond_dist = pjoint_dist / pjoint_dist.groupby(level=0).sum()"
   ]
  },
  {
   "cell_type": "code",
   "execution_count": 79,
   "id": "43d1e48b",
   "metadata": {},
   "outputs": [],
   "source": [
    "q_yhat = yhat_test.value_counts(normalize=True)"
   ]
  },
  {
   "cell_type": "code",
   "execution_count": 80,
   "id": "b9abd884",
   "metadata": {},
   "outputs": [
    {
     "data": {
      "text/plain": [
       " <=50K    0.653443\n",
       " >50K     0.346557\n",
       "Name: class, dtype: float64"
      ]
     },
     "execution_count": 80,
     "metadata": {},
     "output_type": "execute_result"
    }
   ],
   "source": [
    "q_yhat"
   ]
  },
  {
   "cell_type": "code",
   "execution_count": 81,
   "id": "10f1ef10",
   "metadata": {},
   "outputs": [],
   "source": [
    "P_jnt = pd.pivot(pcond_dist.reset_index(), index='class', columns='yhat').T.values"
   ]
  },
  {
   "cell_type": "code",
   "execution_count": 82,
   "id": "abde3c73",
   "metadata": {},
   "outputs": [
    {
     "data": {
      "text/plain": [
       " <=50K    0.653443\n",
       " >50K     0.346557\n",
       "Name: class, dtype: float64"
      ]
     },
     "execution_count": 82,
     "metadata": {},
     "output_type": "execute_result"
    }
   ],
   "source": [
    "q_yhat"
   ]
  },
  {
   "cell_type": "code",
   "execution_count": 83,
   "id": "c87b8cac",
   "metadata": {},
   "outputs": [
    {
     "data": {
      "text/plain": [
       "array([0.35231601, 0.64768399])"
      ]
     },
     "execution_count": 83,
     "metadata": {},
     "output_type": "execute_result"
    }
   ],
   "source": [
    "np.linalg.solve(P_jnt, q_yhat)"
   ]
  },
  {
   "cell_type": "code",
   "execution_count": 84,
   "id": "a139b685",
   "metadata": {},
   "outputs": [
    {
     "data": {
      "text/plain": [
       "array([[0.9853211 , 0.47291362],\n",
       "       [0.0146789 , 0.52708638]])"
      ]
     },
     "execution_count": 84,
     "metadata": {},
     "output_type": "execute_result"
    }
   ],
   "source": [
    "P_jnt"
   ]
  },
  {
   "cell_type": "code",
   "execution_count": 85,
   "id": "525d1975",
   "metadata": {},
   "outputs": [
    {
     "data": {
      "text/plain": [
       "class   yhat  \n",
       " <=50K   <=50K    0.884546\n",
       " >50K    >50K     0.053908\n",
       "         <=50K    0.048368\n",
       " <=50K   >50K     0.013178\n",
       "dtype: float64"
      ]
     },
     "execution_count": 85,
     "metadata": {},
     "output_type": "execute_result"
    }
   ],
   "source": [
    "pjoint_dist"
   ]
  },
  {
   "cell_type": "code",
   "execution_count": 86,
   "id": "5ea7f453",
   "metadata": {},
   "outputs": [
    {
     "data": {
      "text/plain": [
       "class\n",
       " <=50K    0.599539\n",
       " >50K     0.400461\n",
       "dtype: float64"
      ]
     },
     "execution_count": 86,
     "metadata": {},
     "output_type": "execute_result"
    }
   ],
   "source": [
    "test_cs.value_counts('class',normalize=True)"
   ]
  }
 ],
 "metadata": {
  "kernelspec": {
   "display_name": "env",
   "language": "python",
   "name": "env"
  },
  "language_info": {
   "codemirror_mode": {
    "name": "ipython",
    "version": 3
   },
   "file_extension": ".py",
   "mimetype": "text/x-python",
   "name": "python",
   "nbconvert_exporter": "python",
   "pygments_lexer": "ipython3",
   "version": "3.8.0"
  }
 },
 "nbformat": 4,
 "nbformat_minor": 5
}
