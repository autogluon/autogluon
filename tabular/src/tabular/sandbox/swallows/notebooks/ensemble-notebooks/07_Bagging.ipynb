{
 "cells": [
  {
   "cell_type": "code",
   "execution_count": 1,
   "metadata": {
    "ExecuteTime": {
     "end_time": "2019-05-14T02:54:35.772754Z",
     "start_time": "2019-05-14T02:54:35.761772Z"
    }
   },
   "outputs": [],
   "source": [
    "%reload_ext autoreload\n",
    "%autoreload 2"
   ]
  },
  {
   "cell_type": "code",
   "execution_count": 2,
   "metadata": {
    "ExecuteTime": {
     "end_time": "2019-05-14T02:54:38.765151Z",
     "start_time": "2019-05-14T02:54:36.210286Z"
    }
   },
   "outputs": [],
   "source": [
    "import pandas as pd\n",
    "from fastai import *\n",
    "from fastai.tabular import *\n",
    "from fastai.callbacks import *\n",
    "from fastai.text import *\n",
    "from fastai.data_block import *\n",
    "from fastai.metrics import *\n",
    "from sklearn.model_selection import StratifiedKFold\n",
    "import pickle\n",
    "from fastprogress import master_bar, progress_bar\n",
    "from IPython.display import FileLink\n",
    "from sklearn.decomposition import PCA\n",
    "import time\n",
    "from swallows.training import *\n",
    "from swallows.models_ensemble_v4 import *\n",
    "from swallows.models import *"
   ]
  },
  {
   "cell_type": "code",
   "execution_count": 3,
   "metadata": {
    "ExecuteTime": {
     "end_time": "2019-05-14T02:54:38.784162Z",
     "start_time": "2019-05-14T02:54:38.767066Z"
    }
   },
   "outputs": [],
   "source": [
    "path=Path('data')\n",
    "splits = 10"
   ]
  },
  {
   "cell_type": "code",
   "execution_count": 4,
   "metadata": {
    "ExecuteTime": {
     "end_time": "2019-05-14T02:55:13.710527Z",
     "start_time": "2019-05-14T02:54:38.785895Z"
    }
   },
   "outputs": [],
   "source": [
    "classes = load_data(path, 'data_tab_fold_0').classes"
   ]
  },
  {
   "cell_type": "code",
   "execution_count": 5,
   "metadata": {
    "ExecuteTime": {
     "end_time": "2019-05-14T02:55:18.193784Z",
     "start_time": "2019-05-14T02:55:13.712403Z"
    }
   },
   "outputs": [],
   "source": [
    "df_test = pd.read_parquet(path/'processed/public_test_features_stage_4.parquet', engine='fastparquet')"
   ]
  },
  {
   "cell_type": "markdown",
   "metadata": {},
   "source": [
    "## Bag predictions for single models"
   ]
  },
  {
   "cell_type": "code",
   "execution_count": 14,
   "metadata": {
    "ExecuteTime": {
     "end_time": "2019-05-09T06:09:08.200373Z",
     "start_time": "2019-05-09T06:09:08.174858Z"
    }
   },
   "outputs": [
    {
     "data": {
      "text/html": [
       "<a href='classes.csv' target='_blank'>classes.csv</a><br>"
      ],
      "text/plain": [
       "/home/ec2-user/2019-ops-it-challenge-final-10-3/classes.csv"
      ]
     },
     "execution_count": 14,
     "metadata": {},
     "output_type": "execute_result"
    }
   ],
   "source": [
    "pd.Series(classes).to_csv('classes.csv', header=False, index=False)\n",
    "FileLink('classes.csv')"
   ]
  },
  {
   "cell_type": "code",
   "execution_count": 7,
   "metadata": {
    "ExecuteTime": {
     "end_time": "2019-05-14T00:25:04.456652Z",
     "start_time": "2019-05-14T00:24:47.533003Z"
    }
   },
   "outputs": [
    {
     "data": {
      "text/html": [
       "<a href='sub_data_tab_bagged.csv' target='_blank'>sub_data_tab_bagged.csv</a><br>"
      ],
      "text/plain": [
       "/home/ec2-user/2019-ops-it-challenge-final-10-3-v2/sub_data_tab_bagged.csv"
      ]
     },
     "execution_count": 7,
     "metadata": {},
     "output_type": "execute_result"
    }
   ],
   "source": [
    "bag_folds(path, df_test, 'data_tab', classes, splits)"
   ]
  },
  {
   "cell_type": "code",
   "execution_count": 17,
   "metadata": {
    "ExecuteTime": {
     "end_time": "2019-05-09T06:28:15.552662Z",
     "start_time": "2019-05-09T06:28:04.240048Z"
    }
   },
   "outputs": [
    {
     "data": {
      "text/html": [
       "<a href='sub_data_details_bagged.csv' target='_blank'>sub_data_details_bagged.csv</a><br>"
      ],
      "text/plain": [
       "/home/ec2-user/2019-ops-it-challenge-final-10-3/sub_data_details_bagged.csv"
      ]
     },
     "execution_count": 17,
     "metadata": {},
     "output_type": "execute_result"
    }
   ],
   "source": [
    "bag_folds(path, df_test, 'data_details', classes, splits)"
   ]
  },
  {
   "cell_type": "code",
   "execution_count": 18,
   "metadata": {
    "ExecuteTime": {
     "end_time": "2019-05-09T06:28:28.087526Z",
     "start_time": "2019-05-09T06:28:15.554443Z"
    }
   },
   "outputs": [
    {
     "data": {
      "text/html": [
       "<a href='sub_data_short_description_bagged.csv' target='_blank'>sub_data_short_description_bagged.csv</a><br>"
      ],
      "text/plain": [
       "/home/ec2-user/2019-ops-it-challenge-final-10-3/sub_data_short_description_bagged.csv"
      ]
     },
     "execution_count": 18,
     "metadata": {},
     "output_type": "execute_result"
    }
   ],
   "source": [
    "bag_folds(path, df_test, 'data_short_description', classes, splits)"
   ]
  },
  {
   "cell_type": "markdown",
   "metadata": {},
   "source": [
    "## Bag predictions for composite model"
   ]
  },
  {
   "cell_type": "code",
   "execution_count": 6,
   "metadata": {
    "ExecuteTime": {
     "end_time": "2019-05-14T02:55:39.409148Z",
     "start_time": "2019-05-14T02:55:18.195590Z"
    }
   },
   "outputs": [
    {
     "data": {
      "text/html": [
       "<a href='sub_ensemble_v4_bagged.csv' target='_blank'>sub_ensemble_v4_bagged.csv</a><br>"
      ],
      "text/plain": [
       "/home/ec2-user/2019-ops-it-challenge-final-10-3-v2/sub_ensemble_v4_bagged.csv"
      ]
     },
     "execution_count": 6,
     "metadata": {},
     "output_type": "execute_result"
    }
   ],
   "source": [
    "bag_folds(path, df_test, 'ensemble_v4', classes, splits)"
   ]
  },
  {
   "cell_type": "code",
   "execution_count": null,
   "metadata": {},
   "outputs": [],
   "source": []
  }
 ],
 "metadata": {
  "kernelspec": {
   "display_name": "Python 3",
   "language": "python",
   "name": "python3"
  },
  "language_info": {
   "codemirror_mode": {
    "name": "ipython",
    "version": 3
   },
   "file_extension": ".py",
   "mimetype": "text/x-python",
   "name": "python",
   "nbconvert_exporter": "python",
   "pygments_lexer": "ipython3",
   "version": "3.6.5"
  }
 },
 "nbformat": 4,
 "nbformat_minor": 2
}
