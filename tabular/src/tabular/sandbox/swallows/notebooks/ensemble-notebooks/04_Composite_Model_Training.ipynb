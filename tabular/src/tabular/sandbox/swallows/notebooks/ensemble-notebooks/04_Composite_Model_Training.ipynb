{
 "cells": [
  {
   "cell_type": "code",
   "execution_count": 1,
   "metadata": {
    "ExecuteTime": {
     "end_time": "2019-05-12T20:52:40.806750Z",
     "start_time": "2019-05-12T20:52:40.794588Z"
    },
    "scrolled": true
   },
   "outputs": [],
   "source": [
    "%reload_ext autoreload\n",
    "%autoreload 2"
   ]
  },
  {
   "cell_type": "code",
   "execution_count": 2,
   "metadata": {
    "ExecuteTime": {
     "end_time": "2019-05-12T20:52:42.312027Z",
     "start_time": "2019-05-12T20:52:40.808415Z"
    }
   },
   "outputs": [],
   "source": [
    "import pandas as pd\n",
    "from fastai import *\n",
    "from fastai.tabular import *\n",
    "from fastai.callbacks import *\n",
    "from fastai.text import *\n",
    "from fastai.data_block import *\n",
    "from fastai.metrics import *\n",
    "from sklearn.model_selection import StratifiedKFold\n",
    "import pickle\n",
    "from fastprogress import master_bar, progress_bar\n",
    "from IPython.display import FileLink\n",
    "from sklearn.decomposition import PCA\n",
    "import time\n",
    "from swallows.training import *\n",
    "from swallows.models_ensemble_v4 import *\n",
    "from swallows.models import *"
   ]
  },
  {
   "cell_type": "code",
   "execution_count": 3,
   "metadata": {
    "ExecuteTime": {
     "end_time": "2019-05-12T20:52:42.331444Z",
     "start_time": "2019-05-12T20:52:42.314020Z"
    }
   },
   "outputs": [],
   "source": [
    "path=Path('data')\n",
    "bs = 256\n",
    "splits = 10"
   ]
  },
  {
   "cell_type": "code",
   "execution_count": 4,
   "metadata": {
    "ExecuteTime": {
     "end_time": "2019-05-12T20:52:42.350383Z",
     "start_time": "2019-05-12T20:52:42.333152Z"
    }
   },
   "outputs": [],
   "source": [
    "def fold_train_func(learn, output_model_name):\n",
    "    learn.fit_one_cycle(1, 1e-3, moms=(0.8, 0.7))\n",
    "    \n",
    "    learn.unfreeze()\n",
    "    callbacks = SaveModelCallback(learn, every='improvement', mode='max', monitor='accuracy_v2', name=output_model_name)\n",
    "    learn.fit_one_cycle(3, slice(1e-4/(2.6**4),1e-4), moms=(0.8, 0.7), callbacks=callbacks)\n",
    "\n",
    "    return learn    "
   ]
  },
  {
   "cell_type": "code",
   "execution_count": 6,
   "metadata": {
    "ExecuteTime": {
     "end_time": "2019-05-13T19:52:37.451879Z",
     "start_time": "2019-05-12T20:52:42.370130Z"
    },
    "scrolled": false
   },
   "outputs": [
    {
     "name": "stdout",
     "output_type": "stream",
     "text": [
      "--------------------------------------------------------------------\n",
      "!!!!! MAKE SURE THE MODEL IS SAVED IN fold_train_func FUNCTION !!!!!\n",
      "--------------------------------------------------------------------\n",
      "---------------------------------------------------------------------------------------------------- fold 1 / 10\n",
      "Training ensemble_v4_fold_0 -> ensemble_v4_fold_0_fitted\n",
      "Loaded training data | train: 1031815 | valid: 114728 | test 495494\n"
     ]
    },
    {
     "data": {
      "text/html": [
       "Total time: 15:27 <p><table border=\"1\" class=\"dataframe\">\n",
       "  <thead>\n",
       "    <tr style=\"text-align: left;\">\n",
       "      <th>epoch</th>\n",
       "      <th>train_loss</th>\n",
       "      <th>valid_loss</th>\n",
       "      <th>accuracy_v2</th>\n",
       "      <th>time</th>\n",
       "    </tr>\n",
       "  </thead>\n",
       "  <tbody>\n",
       "    <tr>\n",
       "      <td>0</td>\n",
       "      <td>1.081860</td>\n",
       "      <td>1.317361</td>\n",
       "      <td>0.615386</td>\n",
       "      <td>15:27</td>\n",
       "    </tr>\n",
       "  </tbody>\n",
       "</table>"
      ],
      "text/plain": [
       "<IPython.core.display.HTML object>"
      ]
     },
     "metadata": {},
     "output_type": "display_data"
    },
    {
     "data": {
      "text/html": [
       "Total time: 1:54:12 <p><table border=\"1\" class=\"dataframe\">\n",
       "  <thead>\n",
       "    <tr style=\"text-align: left;\">\n",
       "      <th>epoch</th>\n",
       "      <th>train_loss</th>\n",
       "      <th>valid_loss</th>\n",
       "      <th>accuracy_v2</th>\n",
       "      <th>time</th>\n",
       "    </tr>\n",
       "  </thead>\n",
       "  <tbody>\n",
       "    <tr>\n",
       "      <td>0</td>\n",
       "      <td>1.033886</td>\n",
       "      <td>1.692401</td>\n",
       "      <td>0.616650</td>\n",
       "      <td>37:03</td>\n",
       "    </tr>\n",
       "    <tr>\n",
       "      <td>1</td>\n",
       "      <td>1.042807</td>\n",
       "      <td>1.668358</td>\n",
       "      <td>0.618811</td>\n",
       "      <td>36:46</td>\n",
       "    </tr>\n",
       "    <tr>\n",
       "      <td>2</td>\n",
       "      <td>0.999963</td>\n",
       "      <td>1.366154</td>\n",
       "      <td>0.619387</td>\n",
       "      <td>40:03</td>\n",
       "    </tr>\n",
       "  </tbody>\n",
       "</table>"
      ],
      "text/plain": [
       "<IPython.core.display.HTML object>"
      ]
     },
     "metadata": {},
     "output_type": "display_data"
    },
    {
     "name": "stdout",
     "output_type": "stream",
     "text": [
      "Better model found at epoch 0 with accuracy_v2 value: 0.6166498064994812.\n",
      "Better model found at epoch 1 with accuracy_v2 value: 0.6188114285469055.\n",
      "Better model found at epoch 2 with accuracy_v2 value: 0.6193867325782776.\n",
      "---------------------------------------------------------------------------------------------------- fold 2 / 10\n",
      "Training ensemble_v4_fold_1 -> ensemble_v4_fold_1_fitted\n",
      "Loaded training data | train: 1031833 | valid: 114710 | test 495494\n"
     ]
    },
    {
     "data": {
      "text/html": [
       "Total time: 16:56 <p><table border=\"1\" class=\"dataframe\">\n",
       "  <thead>\n",
       "    <tr style=\"text-align: left;\">\n",
       "      <th>epoch</th>\n",
       "      <th>train_loss</th>\n",
       "      <th>valid_loss</th>\n",
       "      <th>accuracy_v2</th>\n",
       "      <th>time</th>\n",
       "    </tr>\n",
       "  </thead>\n",
       "  <tbody>\n",
       "    <tr>\n",
       "      <td>0</td>\n",
       "      <td>1.058720</td>\n",
       "      <td>1.398460</td>\n",
       "      <td>0.614480</td>\n",
       "      <td>16:56</td>\n",
       "    </tr>\n",
       "  </tbody>\n",
       "</table>"
      ],
      "text/plain": [
       "<IPython.core.display.HTML object>"
      ]
     },
     "metadata": {},
     "output_type": "display_data"
    },
    {
     "data": {
      "text/html": [
       "Total time: 1:57:28 <p><table border=\"1\" class=\"dataframe\">\n",
       "  <thead>\n",
       "    <tr style=\"text-align: left;\">\n",
       "      <th>epoch</th>\n",
       "      <th>train_loss</th>\n",
       "      <th>valid_loss</th>\n",
       "      <th>accuracy_v2</th>\n",
       "      <th>time</th>\n",
       "    </tr>\n",
       "  </thead>\n",
       "  <tbody>\n",
       "    <tr>\n",
       "      <td>0</td>\n",
       "      <td>1.056611</td>\n",
       "      <td>1.536704</td>\n",
       "      <td>0.616389</td>\n",
       "      <td>37:53</td>\n",
       "    </tr>\n",
       "    <tr>\n",
       "      <td>1</td>\n",
       "      <td>1.043361</td>\n",
       "      <td>1.404644</td>\n",
       "      <td>0.619074</td>\n",
       "      <td>41:30</td>\n",
       "    </tr>\n",
       "    <tr>\n",
       "      <td>2</td>\n",
       "      <td>1.039329</td>\n",
       "      <td>1.244544</td>\n",
       "      <td>0.618351</td>\n",
       "      <td>37:51</td>\n",
       "    </tr>\n",
       "  </tbody>\n",
       "</table>"
      ],
      "text/plain": [
       "<IPython.core.display.HTML object>"
      ]
     },
     "metadata": {},
     "output_type": "display_data"
    },
    {
     "name": "stdout",
     "output_type": "stream",
     "text": [
      "Better model found at epoch 0 with accuracy_v2 value: 0.6163891553878784.\n",
      "Better model found at epoch 1 with accuracy_v2 value: 0.6190741658210754.\n",
      "---------------------------------------------------------------------------------------------------- fold 3 / 10\n",
      "Training ensemble_v4_fold_2 -> ensemble_v4_fold_2_fitted\n",
      "Loaded training data | train: 1031845 | valid: 114698 | test 495494\n"
     ]
    },
    {
     "data": {
      "text/html": [
       "Total time: 17:45 <p><table border=\"1\" class=\"dataframe\">\n",
       "  <thead>\n",
       "    <tr style=\"text-align: left;\">\n",
       "      <th>epoch</th>\n",
       "      <th>train_loss</th>\n",
       "      <th>valid_loss</th>\n",
       "      <th>accuracy_v2</th>\n",
       "      <th>time</th>\n",
       "    </tr>\n",
       "  </thead>\n",
       "  <tbody>\n",
       "    <tr>\n",
       "      <td>0</td>\n",
       "      <td>1.038135</td>\n",
       "      <td>1.293709</td>\n",
       "      <td>0.617352</td>\n",
       "      <td>17:45</td>\n",
       "    </tr>\n",
       "  </tbody>\n",
       "</table>"
      ],
      "text/plain": [
       "<IPython.core.display.HTML object>"
      ]
     },
     "metadata": {},
     "output_type": "display_data"
    },
    {
     "data": {
      "text/html": [
       "Total time: 1:53:25 <p><table border=\"1\" class=\"dataframe\">\n",
       "  <thead>\n",
       "    <tr style=\"text-align: left;\">\n",
       "      <th>epoch</th>\n",
       "      <th>train_loss</th>\n",
       "      <th>valid_loss</th>\n",
       "      <th>accuracy_v2</th>\n",
       "      <th>time</th>\n",
       "    </tr>\n",
       "  </thead>\n",
       "  <tbody>\n",
       "    <tr>\n",
       "      <td>0</td>\n",
       "      <td>1.052519</td>\n",
       "      <td>1.285931</td>\n",
       "      <td>0.619575</td>\n",
       "      <td>37:03</td>\n",
       "    </tr>\n",
       "    <tr>\n",
       "      <td>1</td>\n",
       "      <td>1.024518</td>\n",
       "      <td>1.441071</td>\n",
       "      <td>0.618154</td>\n",
       "      <td>37:03</td>\n",
       "    </tr>\n",
       "    <tr>\n",
       "      <td>2</td>\n",
       "      <td>1.020020</td>\n",
       "      <td>1.343254</td>\n",
       "      <td>0.620499</td>\n",
       "      <td>39:06</td>\n",
       "    </tr>\n",
       "  </tbody>\n",
       "</table>"
      ],
      "text/plain": [
       "<IPython.core.display.HTML object>"
      ]
     },
     "metadata": {},
     "output_type": "display_data"
    },
    {
     "name": "stdout",
     "output_type": "stream",
     "text": [
      "Better model found at epoch 0 with accuracy_v2 value: 0.6195749044418335.\n",
      "Better model found at epoch 2 with accuracy_v2 value: 0.6204990744590759.\n",
      "---------------------------------------------------------------------------------------------------- fold 4 / 10\n",
      "Training ensemble_v4_fold_3 -> ensemble_v4_fold_3_fitted\n",
      "Loaded training data | train: 1031862 | valid: 114681 | test 495494\n"
     ]
    },
    {
     "data": {
      "text/html": [
       "Total time: 16:33 <p><table border=\"1\" class=\"dataframe\">\n",
       "  <thead>\n",
       "    <tr style=\"text-align: left;\">\n",
       "      <th>epoch</th>\n",
       "      <th>train_loss</th>\n",
       "      <th>valid_loss</th>\n",
       "      <th>accuracy_v2</th>\n",
       "      <th>time</th>\n",
       "    </tr>\n",
       "  </thead>\n",
       "  <tbody>\n",
       "    <tr>\n",
       "      <td>0</td>\n",
       "      <td>1.027468</td>\n",
       "      <td>1.241177</td>\n",
       "      <td>0.614792</td>\n",
       "      <td>16:33</td>\n",
       "    </tr>\n",
       "  </tbody>\n",
       "</table>"
      ],
      "text/plain": [
       "<IPython.core.display.HTML object>"
      ]
     },
     "metadata": {},
     "output_type": "display_data"
    },
    {
     "data": {
      "text/html": [
       "Total time: 1:59:02 <p><table border=\"1\" class=\"dataframe\">\n",
       "  <thead>\n",
       "    <tr style=\"text-align: left;\">\n",
       "      <th>epoch</th>\n",
       "      <th>train_loss</th>\n",
       "      <th>valid_loss</th>\n",
       "      <th>accuracy_v2</th>\n",
       "      <th>time</th>\n",
       "    </tr>\n",
       "  </thead>\n",
       "  <tbody>\n",
       "    <tr>\n",
       "      <td>0</td>\n",
       "      <td>1.005822</td>\n",
       "      <td>1.465004</td>\n",
       "      <td>0.615002</td>\n",
       "      <td>38:10</td>\n",
       "    </tr>\n",
       "    <tr>\n",
       "      <td>1</td>\n",
       "      <td>1.022723</td>\n",
       "      <td>1.321569</td>\n",
       "      <td>0.618176</td>\n",
       "      <td>41:15</td>\n",
       "    </tr>\n",
       "    <tr>\n",
       "      <td>2</td>\n",
       "      <td>0.991161</td>\n",
       "      <td>1.522763</td>\n",
       "      <td>0.617940</td>\n",
       "      <td>39:22</td>\n",
       "    </tr>\n",
       "  </tbody>\n",
       "</table>"
      ],
      "text/plain": [
       "<IPython.core.display.HTML object>"
      ]
     },
     "metadata": {},
     "output_type": "display_data"
    },
    {
     "name": "stdout",
     "output_type": "stream",
     "text": [
      "Better model found at epoch 0 with accuracy_v2 value: 0.6150016188621521.\n",
      "Better model found at epoch 1 with accuracy_v2 value: 0.6181756258010864.\n",
      "---------------------------------------------------------------------------------------------------- fold 5 / 10\n",
      "Training ensemble_v4_fold_4 -> ensemble_v4_fold_4_fitted\n",
      "Loaded training data | train: 1031875 | valid: 114668 | test 495494\n"
     ]
    },
    {
     "data": {
      "text/html": [
       "Total time: 17:03 <p><table border=\"1\" class=\"dataframe\">\n",
       "  <thead>\n",
       "    <tr style=\"text-align: left;\">\n",
       "      <th>epoch</th>\n",
       "      <th>train_loss</th>\n",
       "      <th>valid_loss</th>\n",
       "      <th>accuracy_v2</th>\n",
       "      <th>time</th>\n",
       "    </tr>\n",
       "  </thead>\n",
       "  <tbody>\n",
       "    <tr>\n",
       "      <td>0</td>\n",
       "      <td>1.050823</td>\n",
       "      <td>1.295177</td>\n",
       "      <td>0.613214</td>\n",
       "      <td>17:03</td>\n",
       "    </tr>\n",
       "  </tbody>\n",
       "</table>"
      ],
      "text/plain": [
       "<IPython.core.display.HTML object>"
      ]
     },
     "metadata": {},
     "output_type": "display_data"
    },
    {
     "data": {
      "text/html": [
       "Total time: 1:57:43 <p><table border=\"1\" class=\"dataframe\">\n",
       "  <thead>\n",
       "    <tr style=\"text-align: left;\">\n",
       "      <th>epoch</th>\n",
       "      <th>train_loss</th>\n",
       "      <th>valid_loss</th>\n",
       "      <th>accuracy_v2</th>\n",
       "      <th>time</th>\n",
       "    </tr>\n",
       "  </thead>\n",
       "  <tbody>\n",
       "    <tr>\n",
       "      <td>0</td>\n",
       "      <td>1.061953</td>\n",
       "      <td>1.379754</td>\n",
       "      <td>0.615263</td>\n",
       "      <td>36:53</td>\n",
       "    </tr>\n",
       "    <tr>\n",
       "      <td>1</td>\n",
       "      <td>1.036486</td>\n",
       "      <td>1.984790</td>\n",
       "      <td>0.618228</td>\n",
       "      <td>39:26</td>\n",
       "    </tr>\n",
       "    <tr>\n",
       "      <td>2</td>\n",
       "      <td>1.016855</td>\n",
       "      <td>1.409293</td>\n",
       "      <td>0.619484</td>\n",
       "      <td>41:05</td>\n",
       "    </tr>\n",
       "  </tbody>\n",
       "</table>"
      ],
      "text/plain": [
       "<IPython.core.display.HTML object>"
      ]
     },
     "metadata": {},
     "output_type": "display_data"
    },
    {
     "name": "stdout",
     "output_type": "stream",
     "text": [
      "Better model found at epoch 0 with accuracy_v2 value: 0.6152632236480713.\n",
      "Better model found at epoch 1 with accuracy_v2 value: 0.6182282567024231.\n",
      "Better model found at epoch 2 with accuracy_v2 value: 0.6194840669631958.\n",
      "---------------------------------------------------------------------------------------------------- fold 6 / 10\n",
      "Training ensemble_v4_fold_5 -> ensemble_v4_fold_5_fitted\n",
      "Loaded training data | train: 1031893 | valid: 114650 | test 495494\n"
     ]
    },
    {
     "data": {
      "text/html": [
       "Total time: 17:07 <p><table border=\"1\" class=\"dataframe\">\n",
       "  <thead>\n",
       "    <tr style=\"text-align: left;\">\n",
       "      <th>epoch</th>\n",
       "      <th>train_loss</th>\n",
       "      <th>valid_loss</th>\n",
       "      <th>accuracy_v2</th>\n",
       "      <th>time</th>\n",
       "    </tr>\n",
       "  </thead>\n",
       "  <tbody>\n",
       "    <tr>\n",
       "      <td>0</td>\n",
       "      <td>1.050218</td>\n",
       "      <td>1.236681</td>\n",
       "      <td>0.616249</td>\n",
       "      <td>17:07</td>\n",
       "    </tr>\n",
       "  </tbody>\n",
       "</table>"
      ],
      "text/plain": [
       "<IPython.core.display.HTML object>"
      ]
     },
     "metadata": {},
     "output_type": "display_data"
    },
    {
     "data": {
      "text/html": [
       "Total time: 1:59:43 <p><table border=\"1\" class=\"dataframe\">\n",
       "  <thead>\n",
       "    <tr style=\"text-align: left;\">\n",
       "      <th>epoch</th>\n",
       "      <th>train_loss</th>\n",
       "      <th>valid_loss</th>\n",
       "      <th>accuracy_v2</th>\n",
       "      <th>time</th>\n",
       "    </tr>\n",
       "  </thead>\n",
       "  <tbody>\n",
       "    <tr>\n",
       "      <td>0</td>\n",
       "      <td>1.080373</td>\n",
       "      <td>1.340402</td>\n",
       "      <td>0.617366</td>\n",
       "      <td>41:22</td>\n",
       "    </tr>\n",
       "    <tr>\n",
       "      <td>1</td>\n",
       "      <td>1.028923</td>\n",
       "      <td>1.691604</td>\n",
       "      <td>0.620872</td>\n",
       "      <td>40:21</td>\n",
       "    </tr>\n",
       "    <tr>\n",
       "      <td>2</td>\n",
       "      <td>1.004236</td>\n",
       "      <td>1.475860</td>\n",
       "      <td>0.619267</td>\n",
       "      <td>37:46</td>\n",
       "    </tr>\n",
       "  </tbody>\n",
       "</table>"
      ],
      "text/plain": [
       "<IPython.core.display.HTML object>"
      ]
     },
     "metadata": {},
     "output_type": "display_data"
    },
    {
     "name": "stdout",
     "output_type": "stream",
     "text": [
      "Better model found at epoch 0 with accuracy_v2 value: 0.6173658967018127.\n",
      "Better model found at epoch 1 with accuracy_v2 value: 0.6208721995353699.\n",
      "---------------------------------------------------------------------------------------------------- fold 7 / 10\n",
      "Training ensemble_v4_fold_6 -> ensemble_v4_fold_6_fitted\n",
      "Loaded training data | train: 1031916 | valid: 114627 | test 495494\n"
     ]
    },
    {
     "data": {
      "text/html": [
       "Total time: 16:56 <p><table border=\"1\" class=\"dataframe\">\n",
       "  <thead>\n",
       "    <tr style=\"text-align: left;\">\n",
       "      <th>epoch</th>\n",
       "      <th>train_loss</th>\n",
       "      <th>valid_loss</th>\n",
       "      <th>accuracy_v2</th>\n",
       "      <th>time</th>\n",
       "    </tr>\n",
       "  </thead>\n",
       "  <tbody>\n",
       "    <tr>\n",
       "      <td>0</td>\n",
       "      <td>1.076429</td>\n",
       "      <td>1.327531</td>\n",
       "      <td>0.612482</td>\n",
       "      <td>16:56</td>\n",
       "    </tr>\n",
       "  </tbody>\n",
       "</table>"
      ],
      "text/plain": [
       "<IPython.core.display.HTML object>"
      ]
     },
     "metadata": {},
     "output_type": "display_data"
    },
    {
     "data": {
      "text/html": [
       "Total time: 2:01:36 <p><table border=\"1\" class=\"dataframe\">\n",
       "  <thead>\n",
       "    <tr style=\"text-align: left;\">\n",
       "      <th>epoch</th>\n",
       "      <th>train_loss</th>\n",
       "      <th>valid_loss</th>\n",
       "      <th>accuracy_v2</th>\n",
       "      <th>time</th>\n",
       "    </tr>\n",
       "  </thead>\n",
       "  <tbody>\n",
       "    <tr>\n",
       "      <td>0</td>\n",
       "      <td>1.030892</td>\n",
       "      <td>1.249378</td>\n",
       "      <td>0.615850</td>\n",
       "      <td>42:27</td>\n",
       "    </tr>\n",
       "    <tr>\n",
       "      <td>1</td>\n",
       "      <td>1.067818</td>\n",
       "      <td>1.658173</td>\n",
       "      <td>0.618353</td>\n",
       "      <td>38:45</td>\n",
       "    </tr>\n",
       "    <tr>\n",
       "      <td>2</td>\n",
       "      <td>1.009452</td>\n",
       "      <td>1.661868</td>\n",
       "      <td>0.617411</td>\n",
       "      <td>40:10</td>\n",
       "    </tr>\n",
       "  </tbody>\n",
       "</table>"
      ],
      "text/plain": [
       "<IPython.core.display.HTML object>"
      ]
     },
     "metadata": {},
     "output_type": "display_data"
    },
    {
     "name": "stdout",
     "output_type": "stream",
     "text": [
      "Better model found at epoch 0 with accuracy_v2 value: 0.6158496737480164.\n",
      "Better model found at epoch 1 with accuracy_v2 value: 0.6183534264564514.\n",
      "---------------------------------------------------------------------------------------------------- fold 8 / 10\n",
      "Training ensemble_v4_fold_7 -> ensemble_v4_fold_7_fitted\n",
      "Loaded training data | train: 1031933 | valid: 114610 | test 495494\n"
     ]
    },
    {
     "data": {
      "text/html": [
       "Total time: 17:02 <p><table border=\"1\" class=\"dataframe\">\n",
       "  <thead>\n",
       "    <tr style=\"text-align: left;\">\n",
       "      <th>epoch</th>\n",
       "      <th>train_loss</th>\n",
       "      <th>valid_loss</th>\n",
       "      <th>accuracy_v2</th>\n",
       "      <th>time</th>\n",
       "    </tr>\n",
       "  </thead>\n",
       "  <tbody>\n",
       "    <tr>\n",
       "      <td>0</td>\n",
       "      <td>1.074274</td>\n",
       "      <td>1.262931</td>\n",
       "      <td>0.616814</td>\n",
       "      <td>17:02</td>\n",
       "    </tr>\n",
       "  </tbody>\n",
       "</table>"
      ],
      "text/plain": [
       "<IPython.core.display.HTML object>"
      ]
     },
     "metadata": {},
     "output_type": "display_data"
    },
    {
     "data": {
      "text/html": [
       "Total time: 1:58:10 <p><table border=\"1\" class=\"dataframe\">\n",
       "  <thead>\n",
       "    <tr style=\"text-align: left;\">\n",
       "      <th>epoch</th>\n",
       "      <th>train_loss</th>\n",
       "      <th>valid_loss</th>\n",
       "      <th>accuracy_v2</th>\n",
       "      <th>time</th>\n",
       "    </tr>\n",
       "  </thead>\n",
       "  <tbody>\n",
       "    <tr>\n",
       "      <td>0</td>\n",
       "      <td>1.106953</td>\n",
       "      <td>1.304731</td>\n",
       "      <td>0.618009</td>\n",
       "      <td>41:18</td>\n",
       "    </tr>\n",
       "    <tr>\n",
       "      <td>1</td>\n",
       "      <td>1.041628</td>\n",
       "      <td>1.242918</td>\n",
       "      <td>0.620461</td>\n",
       "      <td>39:58</td>\n",
       "    </tr>\n",
       "    <tr>\n",
       "      <td>2</td>\n",
       "      <td>1.031502</td>\n",
       "      <td>1.937324</td>\n",
       "      <td>0.620356</td>\n",
       "      <td>36:40</td>\n",
       "    </tr>\n",
       "  </tbody>\n",
       "</table>"
      ],
      "text/plain": [
       "<IPython.core.display.HTML object>"
      ]
     },
     "metadata": {},
     "output_type": "display_data"
    },
    {
     "name": "stdout",
     "output_type": "stream",
     "text": [
      "Better model found at epoch 0 with accuracy_v2 value: 0.6180089116096497.\n",
      "Better model found at epoch 1 with accuracy_v2 value: 0.6204606890678406.\n",
      "---------------------------------------------------------------------------------------------------- fold 9 / 10\n",
      "Training ensemble_v4_fold_8 -> ensemble_v4_fold_8_fitted\n",
      "Loaded training data | train: 1031947 | valid: 114596 | test 495494\n"
     ]
    },
    {
     "data": {
      "text/html": [
       "\n",
       "    <div>\n",
       "        <style>\n",
       "            /* Turns off some styling */\n",
       "            progress {\n",
       "                /* gets rid of default border in Firefox and Opera. */\n",
       "                border: none;\n",
       "                /* Needs to be in here for Safari polyfill so background images work as expected. */\n",
       "                background-size: auto;\n",
       "            }\n",
       "            .progress-bar-interrupted, .progress-bar-interrupted::-webkit-progress-bar {\n",
       "                background: #F44336;\n",
       "            }\n",
       "        </style>\n",
       "      <progress value='0' class='' max='1', style='width:300px; height:20px; vertical-align: middle;'></progress>\n",
       "      0.00% [0/1 00:00<00:00]\n",
       "    </div>\n",
       "    \n",
       "<table border=\"1\" class=\"dataframe\">\n",
       "  <thead>\n",
       "    <tr style=\"text-align: left;\">\n",
       "      <th>epoch</th>\n",
       "      <th>train_loss</th>\n",
       "      <th>valid_loss</th>\n",
       "      <th>accuracy_v2</th>\n",
       "      <th>time</th>\n",
       "    </tr>\n",
       "  </thead>\n",
       "  <tbody>\n",
       "  </tbody>\n",
       "</table><p>\n",
       "\n",
       "    <div>\n",
       "        <style>\n",
       "            /* Turns off some styling */\n",
       "            progress {\n",
       "                /* gets rid of default border in Firefox and Opera. */\n",
       "                border: none;\n",
       "                /* Needs to be in here for Safari polyfill so background images work as expected. */\n",
       "                background-size: auto;\n",
       "            }\n",
       "            .progress-bar-interrupted, .progress-bar-interrupted::-webkit-progress-bar {\n",
       "                background: #F44336;\n",
       "            }\n",
       "        </style>\n",
       "      <progress value='787' class='' max='8063', style='width:300px; height:20px; vertical-align: middle;'></progress>\n",
       "      9.76% [787/8063 02:10<20:08 1.9772]\n",
       "    </div>\n",
       "    "
      ],
      "text/plain": [
       "<IPython.core.display.HTML object>"
      ]
     },
     "metadata": {},
     "output_type": "display_data"
    },
    {
     "name": "stdout",
     "output_type": "stream",
     "text": [
      "Better model found at epoch 0 with accuracy_v2 value: 0.6156846880912781.\n",
      "Better model found at epoch 1 with accuracy_v2 value: 0.6183549165725708.\n",
      "Better model found at epoch 2 with accuracy_v2 value: 0.6186341643333435.\n",
      "---------------------------------------------------------------------------------------------------- fold 10 / 10\n",
      "Training ensemble_v4_fold_9 -> ensemble_v4_fold_9_fitted\n",
      "Loaded training data | train: 1031968 | valid: 114575 | test 495494\n"
     ]
    },
    {
     "data": {
      "text/html": [
       "\n",
       "    <div>\n",
       "        <style>\n",
       "            /* Turns off some styling */\n",
       "            progress {\n",
       "                /* gets rid of default border in Firefox and Opera. */\n",
       "                border: none;\n",
       "                /* Needs to be in here for Safari polyfill so background images work as expected. */\n",
       "                background-size: auto;\n",
       "            }\n",
       "            .progress-bar-interrupted, .progress-bar-interrupted::-webkit-progress-bar {\n",
       "                background: #F44336;\n",
       "            }\n",
       "        </style>\n",
       "      <progress value='0' class='' max='1', style='width:300px; height:20px; vertical-align: middle;'></progress>\n",
       "      0.00% [0/1 00:00<00:00]\n",
       "    </div>\n",
       "    \n",
       "<table border=\"1\" class=\"dataframe\">\n",
       "  <thead>\n",
       "    <tr style=\"text-align: left;\">\n",
       "      <th>epoch</th>\n",
       "      <th>train_loss</th>\n",
       "      <th>valid_loss</th>\n",
       "      <th>accuracy_v2</th>\n",
       "      <th>time</th>\n",
       "    </tr>\n",
       "  </thead>\n",
       "  <tbody>\n",
       "  </tbody>\n",
       "</table><p>\n",
       "\n",
       "    <div>\n",
       "        <style>\n",
       "            /* Turns off some styling */\n",
       "            progress {\n",
       "                /* gets rid of default border in Firefox and Opera. */\n",
       "                border: none;\n",
       "                /* Needs to be in here for Safari polyfill so background images work as expected. */\n",
       "                background-size: auto;\n",
       "            }\n",
       "            .progress-bar-interrupted, .progress-bar-interrupted::-webkit-progress-bar {\n",
       "                background: #F44336;\n",
       "            }\n",
       "        </style>\n",
       "      <progress value='7125' class='' max='8063', style='width:300px; height:20px; vertical-align: middle;'></progress>\n",
       "      88.37% [7125/8063 13:06<01:43 1.0730]\n",
       "    </div>\n",
       "    "
      ],
      "text/plain": [
       "<IPython.core.display.HTML object>"
      ]
     },
     "metadata": {},
     "output_type": "display_data"
    },
    {
     "name": "stderr",
     "output_type": "stream",
     "text": [
      "IOPub message rate exceeded.\n",
      "The notebook server will temporarily stop sending output\n",
      "to the client in order to avoid crashing it.\n",
      "To change this limit, set the config variable\n",
      "`--NotebookApp.iopub_msg_rate_limit`.\n",
      "\n",
      "Current values:\n",
      "NotebookApp.iopub_msg_rate_limit=1000.0 (msgs/sec)\n",
      "NotebookApp.rate_limit_window=3.0 (secs)\n",
      "\n",
      "IOPub message rate exceeded.\n",
      "The notebook server will temporarily stop sending output\n",
      "to the client in order to avoid crashing it.\n",
      "To change this limit, set the config variable\n",
      "`--NotebookApp.iopub_msg_rate_limit`.\n",
      "\n",
      "Current values:\n",
      "NotebookApp.iopub_msg_rate_limit=1000.0 (msgs/sec)\n",
      "NotebookApp.rate_limit_window=3.0 (secs)\n",
      "\n"
     ]
    },
    {
     "name": "stdout",
     "output_type": "stream",
     "text": [
      "Better model found at epoch 1 with accuracy_v2 value: 0.6190006732940674.\n",
      "Better model found at epoch 2 with accuracy_v2 value: 0.6193236112594604.\n"
     ]
    }
   ],
   "source": [
    "train_ensemble_folds(path, splits, 'ensemble_v4', fold_train_func, bs)"
   ]
  },
  {
   "cell_type": "code",
   "execution_count": null,
   "metadata": {},
   "outputs": [],
   "source": []
  },
  {
   "cell_type": "code",
   "execution_count": null,
   "metadata": {},
   "outputs": [],
   "source": []
  }
 ],
 "metadata": {
  "kernelspec": {
   "display_name": "Python 3",
   "language": "python",
   "name": "python3"
  },
  "language_info": {
   "codemirror_mode": {
    "name": "ipython",
    "version": 3
   },
   "file_extension": ".py",
   "mimetype": "text/x-python",
   "name": "python",
   "nbconvert_exporter": "python",
   "pygments_lexer": "ipython3",
   "version": "3.6.5"
  }
 },
 "nbformat": 4,
 "nbformat_minor": 2
}
