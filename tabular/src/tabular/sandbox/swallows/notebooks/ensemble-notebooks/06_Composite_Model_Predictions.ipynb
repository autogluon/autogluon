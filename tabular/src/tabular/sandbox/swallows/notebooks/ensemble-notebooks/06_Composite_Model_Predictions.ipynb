{
 "cells": [
  {
   "cell_type": "code",
   "execution_count": 1,
   "metadata": {
    "ExecuteTime": {
     "end_time": "2019-05-14T00:29:03.690835Z",
     "start_time": "2019-05-14T00:29:03.679429Z"
    }
   },
   "outputs": [],
   "source": [
    "%reload_ext autoreload\n",
    "%autoreload 2"
   ]
  },
  {
   "cell_type": "code",
   "execution_count": 2,
   "metadata": {
    "ExecuteTime": {
     "end_time": "2019-05-14T00:29:05.446247Z",
     "start_time": "2019-05-14T00:29:03.692484Z"
    }
   },
   "outputs": [],
   "source": [
    "import pandas as pd\n",
    "from fastai import *\n",
    "from fastai.tabular import *\n",
    "from fastai.callbacks import *\n",
    "from fastai.text import *\n",
    "from fastai.data_block import *\n",
    "from fastai.metrics import *\n",
    "from sklearn.model_selection import StratifiedKFold\n",
    "import pickle\n",
    "from fastprogress import master_bar, progress_bar\n",
    "from IPython.display import FileLink\n",
    "from sklearn.decomposition import PCA\n",
    "import time\n",
    "from swallows.training import *\n",
    "from swallows.models_ensemble_v4 import *"
   ]
  },
  {
   "cell_type": "code",
   "execution_count": 3,
   "metadata": {
    "ExecuteTime": {
     "end_time": "2019-05-14T00:29:05.464768Z",
     "start_time": "2019-05-14T00:29:05.448097Z"
    }
   },
   "outputs": [],
   "source": [
    "path=Path('data')"
   ]
  },
  {
   "cell_type": "code",
   "execution_count": 4,
   "metadata": {
    "ExecuteTime": {
     "end_time": "2019-05-14T00:29:05.483004Z",
     "start_time": "2019-05-14T00:29:05.466527Z"
    }
   },
   "outputs": [],
   "source": [
    "splits=10"
   ]
  },
  {
   "cell_type": "markdown",
   "metadata": {},
   "source": [
    "## Composite Model"
   ]
  },
  {
   "cell_type": "code",
   "execution_count": 5,
   "metadata": {
    "ExecuteTime": {
     "end_time": "2019-05-14T00:29:05.500902Z",
     "start_time": "2019-05-14T00:29:05.484723Z"
    }
   },
   "outputs": [],
   "source": [
    "model = 'ensemble_v4'"
   ]
  },
  {
   "cell_type": "code",
   "execution_count": 6,
   "metadata": {
    "ExecuteTime": {
     "end_time": "2019-05-14T02:54:07.326015Z",
     "start_time": "2019-05-14T00:29:05.502599Z"
    }
   },
   "outputs": [
    {
     "name": "stdout",
     "output_type": "stream",
     "text": [
      "Recorded OOF predictions to data/preds/oof_ensemble_v4_fold_9.parquet\n"
     ]
    }
   ],
   "source": [
    "predict_on_ensemble_folds(path, splits, model, 512)"
   ]
  },
  {
   "cell_type": "markdown",
   "metadata": {},
   "source": [
    "## Rebuild full OOF outputs"
   ]
  },
  {
   "cell_type": "code",
   "execution_count": 7,
   "metadata": {
    "ExecuteTime": {
     "end_time": "2019-05-14T02:54:18.655475Z",
     "start_time": "2019-05-14T02:54:07.327867Z"
    }
   },
   "outputs": [
    {
     "name": "stdout",
     "output_type": "stream",
     "text": [
      "Loaded preds/oof_ensemble_v4_fold_0.parquet\n",
      "Loaded preds/oof_ensemble_v4_fold_1.parquet\n",
      "Loaded preds/oof_ensemble_v4_fold_2.parquet\n",
      "Loaded preds/oof_ensemble_v4_fold_3.parquet\n",
      "Loaded preds/oof_ensemble_v4_fold_4.parquet\n",
      "Loaded preds/oof_ensemble_v4_fold_5.parquet\n",
      "Loaded preds/oof_ensemble_v4_fold_6.parquet\n",
      "Loaded preds/oof_ensemble_v4_fold_7.parquet\n",
      "Loaded preds/oof_ensemble_v4_fold_8.parquet\n",
      "Loaded preds/oof_ensemble_v4_fold_9.parquet\n",
      "Saved full OOF combined to preds/oof_ensemble_v4_all_folds.parquet\n"
     ]
    }
   ],
   "source": [
    "rebuild_oof_predictions_from_folds(path, model, splits);"
   ]
  },
  {
   "cell_type": "code",
   "execution_count": null,
   "metadata": {},
   "outputs": [],
   "source": []
  }
 ],
 "metadata": {
  "kernelspec": {
   "display_name": "Python 3",
   "language": "python",
   "name": "python3"
  },
  "language_info": {
   "codemirror_mode": {
    "name": "ipython",
    "version": 3
   },
   "file_extension": ".py",
   "mimetype": "text/x-python",
   "name": "python",
   "nbconvert_exporter": "python",
   "pygments_lexer": "ipython3",
   "version": "3.6.5"
  }
 },
 "nbformat": 4,
 "nbformat_minor": 2
}
