{
 "cells": [
  {
   "cell_type": "code",
   "execution_count": 1,
   "metadata": {
    "ExecuteTime": {
     "end_time": "2019-05-14T00:02:30.094357Z",
     "start_time": "2019-05-14T00:02:30.082499Z"
    }
   },
   "outputs": [],
   "source": [
    "%reload_ext autoreload\n",
    "%autoreload 2"
   ]
  },
  {
   "cell_type": "code",
   "execution_count": 2,
   "metadata": {
    "ExecuteTime": {
     "end_time": "2019-05-14T00:02:32.635554Z",
     "start_time": "2019-05-14T00:02:30.096253Z"
    }
   },
   "outputs": [],
   "source": [
    "import pandas as pd\n",
    "from fastai import *\n",
    "from fastai.tabular import *\n",
    "from fastai.callbacks import *\n",
    "from fastai.text import *\n",
    "from fastai.data_block import *\n",
    "from fastai.metrics import *\n",
    "from sklearn.model_selection import StratifiedKFold\n",
    "import pickle\n",
    "from fastprogress import master_bar, progress_bar\n",
    "from IPython.display import FileLink\n",
    "from sklearn.decomposition import PCA\n",
    "import time\n",
    "from swallows.training import *"
   ]
  },
  {
   "cell_type": "markdown",
   "metadata": {},
   "source": [
    "<font color='blue' size=5>This notebook is not needed for the composite model, but if you want to get a score of the individual components, it can be done here.</font>"
   ]
  },
  {
   "cell_type": "code",
   "execution_count": 3,
   "metadata": {
    "ExecuteTime": {
     "end_time": "2019-05-14T00:02:32.656718Z",
     "start_time": "2019-05-14T00:02:32.637628Z"
    }
   },
   "outputs": [],
   "source": [
    "path=Path('data')"
   ]
  },
  {
   "cell_type": "code",
   "execution_count": 4,
   "metadata": {
    "ExecuteTime": {
     "end_time": "2019-05-14T00:02:32.679945Z",
     "start_time": "2019-05-14T00:02:32.659111Z"
    }
   },
   "outputs": [],
   "source": [
    "splits=10"
   ]
  },
  {
   "cell_type": "markdown",
   "metadata": {},
   "source": [
    "## Tabular Model"
   ]
  },
  {
   "cell_type": "code",
   "execution_count": 5,
   "metadata": {
    "ExecuteTime": {
     "end_time": "2019-05-14T00:02:32.712715Z",
     "start_time": "2019-05-14T00:02:32.687874Z"
    }
   },
   "outputs": [],
   "source": [
    "model = 'data_tab'"
   ]
  },
  {
   "cell_type": "code",
   "execution_count": 6,
   "metadata": {
    "ExecuteTime": {
     "end_time": "2019-05-14T00:02:32.736530Z",
     "start_time": "2019-05-14T00:02:32.714999Z"
    }
   },
   "outputs": [],
   "source": [
    "def learner_create_func(data):\n",
    "    p=0.20\n",
    "    learn = tabular_learner(data, layers=[727,353], ps=p, emb_drop=p, metrics=accuracy)\n",
    "    return learn"
   ]
  },
  {
   "cell_type": "code",
   "execution_count": 7,
   "metadata": {
    "ExecuteTime": {
     "end_time": "2019-05-14T00:12:25.981083Z",
     "start_time": "2019-05-14T00:02:32.738814Z"
    }
   },
   "outputs": [
    {
     "name": "stdout",
     "output_type": "stream",
     "text": [
      "Recorded OOF predictions to data/preds/oof_data_tab_fold_9.parquet\n"
     ]
    }
   ],
   "source": [
    "predict_on_folds(path, splits, model, learner_create_func, 1024)"
   ]
  },
  {
   "cell_type": "markdown",
   "metadata": {},
   "source": [
    "## NLP model: short_description "
   ]
  },
  {
   "cell_type": "code",
   "execution_count": null,
   "metadata": {
    "ExecuteTime": {
     "end_time": "2019-05-13T23:23:59.261890Z",
     "start_time": "2019-05-13T23:19:46.841Z"
    }
   },
   "outputs": [],
   "source": [
    "model = 'data_short_description'"
   ]
  },
  {
   "cell_type": "code",
   "execution_count": null,
   "metadata": {
    "ExecuteTime": {
     "end_time": "2019-05-13T23:23:59.262878Z",
     "start_time": "2019-05-13T23:19:46.847Z"
    }
   },
   "outputs": [],
   "source": [
    "def learner_create_func(data):\n",
    "    learn = text_classifier_learner(data, AWD_LSTM, drop_mult=0.5)\n",
    "    return learn"
   ]
  },
  {
   "cell_type": "code",
   "execution_count": null,
   "metadata": {
    "ExecuteTime": {
     "end_time": "2019-05-13T23:23:59.263832Z",
     "start_time": "2019-05-13T23:19:46.852Z"
    }
   },
   "outputs": [],
   "source": [
    "predict_on_folds(path, splits, model, learner_create_func, 1024, nlp_ordered=True)"
   ]
  },
  {
   "cell_type": "markdown",
   "metadata": {},
   "source": [
    "## NLP model: details "
   ]
  },
  {
   "cell_type": "code",
   "execution_count": null,
   "metadata": {
    "ExecuteTime": {
     "end_time": "2019-05-13T23:23:59.264803Z",
     "start_time": "2019-05-13T23:19:46.857Z"
    }
   },
   "outputs": [],
   "source": [
    "model = 'data_details'"
   ]
  },
  {
   "cell_type": "code",
   "execution_count": null,
   "metadata": {
    "ExecuteTime": {
     "end_time": "2019-05-13T23:23:59.265692Z",
     "start_time": "2019-05-13T23:19:46.860Z"
    }
   },
   "outputs": [],
   "source": [
    "def learner_create_func(data):\n",
    "    learn = text_classifier_learner(data, AWD_LSTM, drop_mult=0.5)\n",
    "    return learn"
   ]
  },
  {
   "cell_type": "code",
   "execution_count": null,
   "metadata": {
    "ExecuteTime": {
     "end_time": "2019-05-13T23:23:59.266585Z",
     "start_time": "2019-05-13T23:19:46.864Z"
    }
   },
   "outputs": [],
   "source": [
    "predict_on_folds(path, splits, model, learner_create_func, 512, nlp_ordered=True)"
   ]
  },
  {
   "cell_type": "markdown",
   "metadata": {},
   "source": [
    "## Rebuild full OOF outputs"
   ]
  },
  {
   "cell_type": "code",
   "execution_count": null,
   "metadata": {
    "ExecuteTime": {
     "end_time": "2019-05-13T23:23:59.267569Z",
     "start_time": "2019-05-13T23:19:46.867Z"
    }
   },
   "outputs": [],
   "source": [
    "rebuild_oof_predictions_from_folds(path, 'data_tab', splits);"
   ]
  },
  {
   "cell_type": "code",
   "execution_count": null,
   "metadata": {
    "ExecuteTime": {
     "end_time": "2019-05-13T23:23:59.268460Z",
     "start_time": "2019-05-13T23:19:46.870Z"
    }
   },
   "outputs": [],
   "source": [
    "rebuild_oof_predictions_from_folds(path, 'data_short_description', splits);"
   ]
  },
  {
   "cell_type": "code",
   "execution_count": null,
   "metadata": {
    "ExecuteTime": {
     "end_time": "2019-05-13T23:23:59.269261Z",
     "start_time": "2019-05-13T23:19:46.875Z"
    }
   },
   "outputs": [],
   "source": [
    "rebuild_oof_predictions_from_folds(path, 'data_details', splits);"
   ]
  },
  {
   "cell_type": "code",
   "execution_count": null,
   "metadata": {},
   "outputs": [],
   "source": []
  }
 ],
 "metadata": {
  "kernelspec": {
   "display_name": "Python 3",
   "language": "python",
   "name": "python3"
  },
  "language_info": {
   "codemirror_mode": {
    "name": "ipython",
    "version": 3
   },
   "file_extension": ".py",
   "mimetype": "text/x-python",
   "name": "python",
   "nbconvert_exporter": "python",
   "pygments_lexer": "ipython3",
   "version": "3.6.5"
  }
 },
 "nbformat": 4,
 "nbformat_minor": 2
}
