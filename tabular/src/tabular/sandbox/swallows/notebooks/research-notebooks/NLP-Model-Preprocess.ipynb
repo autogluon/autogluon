{
 "cells": [
  {
   "cell_type": "code",
   "execution_count": 1,
   "metadata": {},
   "outputs": [],
   "source": [
    "%reload_ext autoreload\n",
    "%autoreload 2"
   ]
  },
  {
   "cell_type": "code",
   "execution_count": 2,
   "metadata": {},
   "outputs": [],
   "source": [
    "import pandas as pd\n",
    "from fastai import *\n",
    "from fastai.tabular import *\n",
    "from fastai.callbacks import *\n",
    "from fastai.text import *\n",
    "from fastai.data_block import *\n",
    "from fastai.metrics import *\n",
    "from sklearn.model_selection import StratifiedKFold\n",
    "import pickle\n",
    "from fastprogress import master_bar, progress_bar\n",
    "from IPython.display import FileLink\n",
    "from sklearn.decomposition import PCA\n",
    "import time\n",
    "from swallows.training import *"
   ]
  },
  {
   "cell_type": "code",
   "execution_count": 3,
   "metadata": {},
   "outputs": [],
   "source": [
    "pd.set_option('display.max_colwidth', -1)\n",
    "pd.set_option('display.max_columns', None)\n",
    "pd.set_option('display.max_rows', 1000)"
   ]
  },
  {
   "cell_type": "code",
   "execution_count": 4,
   "metadata": {},
   "outputs": [],
   "source": [
    "model_name = 'nlp-short_description'"
   ]
  },
  {
   "cell_type": "code",
   "execution_count": 5,
   "metadata": {},
   "outputs": [],
   "source": [
    "path=Path('data')"
   ]
  },
  {
   "cell_type": "code",
   "execution_count": 6,
   "metadata": {},
   "outputs": [],
   "source": [
    "df_raw = pd.read_parquet(path/'processed/training_stage_1.parquet')\n",
    "df_raw_test = pd.read_parquet(path/'processed/public_test_features_stage_1.parquet')"
   ]
  },
  {
   "cell_type": "code",
   "execution_count": null,
   "metadata": {},
   "outputs": [],
   "source": []
  },
  {
   "cell_type": "code",
   "execution_count": 7,
   "metadata": {},
   "outputs": [],
   "source": [
    "## TODO - move to enrichment stage"
   ]
  },
  {
   "cell_type": "code",
   "execution_count": 8,
   "metadata": {},
   "outputs": [],
   "source": [
    "def make_lm_training(df, has_label):\n",
    "    df = df.copy().fillna('')\n",
    "\n",
    "    df['impact'] = df['impact'].map({\n",
    "        # FIXME - order is incorrect\n",
    "        0: 'xximpactunknown',\n",
    "        1: 'xximpactlowest',\n",
    "        2: 'xximpactlow',\n",
    "        3: 'xximpactmedium',\n",
    "        4: 'xximpacthigh',\n",
    "        5: 'xximpactcritical',\n",
    "    })\n",
    "    \n",
    "    cols = [\n",
    "        'assigned_to_group',\n",
    "        'case_type',\n",
    "        'category',\n",
    "        'channel rt',\n",
    "        'first_assigned_group',\n",
    "        'impact',\n",
    "        'item',\n",
    "        'site',\n",
    "        'site_building_type',\n",
    "        'site_city',\n",
    "        'site_country',\n",
    "        'site_loc_bldg_cd',\n",
    "        'site_region',\n",
    "        'site_state',\n",
    "        'type',\n",
    "        'short_description',\n",
    "        'details',\n",
    "    ]\n",
    "    \n",
    "    df['text'] = ''\n",
    "    for col in cols:\n",
    "        df['text'] = df['text'] + ' ' + df[col]\n",
    "\n",
    "    return df[['text', 'root_cause']] if has_label else df[['text']]"
   ]
  },
  {
   "cell_type": "code",
   "execution_count": null,
   "metadata": {},
   "outputs": [],
   "source": []
  },
  {
   "cell_type": "code",
   "execution_count": 9,
   "metadata": {
    "scrolled": true
   },
   "outputs": [],
   "source": [
    "df_train = make_lm_training(df_raw, True)\n",
    "df_test = make_lm_training(df_raw_test, False)"
   ]
  },
  {
   "cell_type": "code",
   "execution_count": 10,
   "metadata": {},
   "outputs": [],
   "source": [
    "df_root_cause_counts = pd.DataFrame(df_train.groupby(['root_cause']).size().sort_values(ascending=False), columns=['count'])"
   ]
  },
  {
   "cell_type": "markdown",
   "metadata": {},
   "source": [
    "Dataset has long tail of low-populated categories"
   ]
  },
  {
   "cell_type": "code",
   "execution_count": 11,
   "metadata": {},
   "outputs": [
    {
     "name": "stdout",
     "output_type": "stream",
     "text": [
      "Total cats: 960 with 1156151 items\n",
      "cats w/ >500 items: 81 with 97.40% coverage\n"
     ]
    }
   ],
   "source": [
    "min_size = 500 # 172 with 99.17% | \n",
    "large_cats = df_root_cause_counts[df_root_cause_counts[\"count\"] > min_size]\n",
    "total_count = int(df_root_cause_counts.sum())\n",
    "total_big_enough_covered =float(large_cats.sum()*100/df_root_cause_counts.sum())\n",
    "print(f'Total cats: {len(df_root_cause_counts)} with {total_count} items')\n",
    "print(f'cats w/ >{min_size} items: {len(large_cats)} with {total_big_enough_covered:.2f}% coverage')"
   ]
  },
  {
   "cell_type": "code",
   "execution_count": 13,
   "metadata": {},
   "outputs": [],
   "source": [
    "df_train = df_train[df_train['root_cause'].isin(large_cats.reset_index()['root_cause'])]"
   ]
  },
  {
   "cell_type": "code",
   "execution_count": 14,
   "metadata": {},
   "outputs": [],
   "source": [
    "df_train.to_csv(path/'nlp_train.csv', index=False)\n",
    "df_test.to_csv(path/'nlp_test.csv', index=False)"
   ]
  },
  {
   "cell_type": "code",
   "execution_count": null,
   "metadata": {},
   "outputs": [],
   "source": [
    "# Generate Sample Training set (10%)"
   ]
  },
  {
   "cell_type": "code",
   "execution_count": 15,
   "metadata": {},
   "outputs": [],
   "source": [
    "def gen_splits(n, df, label_col):\n",
    "    skf = StratifiedKFold(n_splits=n, random_state=42, shuffle=True)\n",
    "    splits = skf.get_n_splits(range(len(df)))\n",
    "    indexes = range(len(df))\n",
    "    return skf.split(indexes, df[label_col])\n",
    "\n",
    "#splits_idxs = [s for s in gen_splits(10, df_train, 'root_cause')]\n",
    "#pickle.dump(splits_idxs, open(path/'cv_splits.pkl', \"wb\"))\n",
    "\n",
    "splits_idxs = pickle.load(open(path/'cv_splits.pkl', \"rb\"))"
   ]
  },
  {
   "cell_type": "code",
   "execution_count": 24,
   "metadata": {},
   "outputs": [],
   "source": [
    "df_train_sample = df_train.iloc[splits_idxs[7][1]]"
   ]
  },
  {
   "cell_type": "code",
   "execution_count": 26,
   "metadata": {},
   "outputs": [],
   "source": [
    "df_train_sample.to_csv(path/'nlp_train_sample.csv', index=False)"
   ]
  },
  {
   "cell_type": "code",
   "execution_count": null,
   "metadata": {},
   "outputs": [],
   "source": []
  }
 ],
 "metadata": {
  "kernelspec": {
   "display_name": "Python 3",
   "language": "python",
   "name": "python3"
  },
  "language_info": {
   "codemirror_mode": {
    "name": "ipython",
    "version": 3
   },
   "file_extension": ".py",
   "mimetype": "text/x-python",
   "name": "python",
   "nbconvert_exporter": "python",
   "pygments_lexer": "ipython3",
   "version": "3.6.5"
  },
  "toc": {
   "base_numbering": 1,
   "nav_menu": {},
   "number_sections": true,
   "sideBar": true,
   "skip_h1_title": false,
   "title_cell": "Table of Contents",
   "title_sidebar": "Contents",
   "toc_cell": false,
   "toc_position": {},
   "toc_section_display": true,
   "toc_window_display": false
  }
 },
 "nbformat": 4,
 "nbformat_minor": 2
}
