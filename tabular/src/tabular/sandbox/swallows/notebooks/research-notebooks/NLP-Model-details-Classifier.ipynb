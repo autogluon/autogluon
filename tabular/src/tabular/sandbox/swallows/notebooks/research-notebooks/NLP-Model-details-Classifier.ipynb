{
 "cells": [
  {
   "cell_type": "code",
   "execution_count": 1,
   "metadata": {
    "ExecuteTime": {
     "end_time": "2019-05-11T02:43:04.902356Z",
     "start_time": "2019-05-11T02:43:04.890781Z"
    }
   },
   "outputs": [],
   "source": [
    "%reload_ext autoreload\n",
    "%autoreload 2"
   ]
  },
  {
   "cell_type": "code",
   "execution_count": 11,
   "metadata": {
    "ExecuteTime": {
     "end_time": "2019-05-11T02:44:10.036306Z",
     "start_time": "2019-05-11T02:44:10.015091Z"
    }
   },
   "outputs": [],
   "source": [
    "import pandas as pd\n",
    "from fastai import *\n",
    "from fastai.tabular import *\n",
    "from fastai.callbacks import *\n",
    "from fastai.text import *\n",
    "from fastai.data_block import *\n",
    "from fastai.metrics import *\n",
    "from sklearn.model_selection import StratifiedKFold\n",
    "from IPython.display import FileLink\n",
    "from sklearn.model_selection import *"
   ]
  },
  {
   "cell_type": "code",
   "execution_count": 3,
   "metadata": {
    "ExecuteTime": {
     "end_time": "2019-05-11T02:43:07.824022Z",
     "start_time": "2019-05-11T02:43:07.807263Z"
    }
   },
   "outputs": [],
   "source": [
    "def gen_splits(n, df, label_col):\n",
    "    skf = StratifiedKFold(n_splits=n, random_state=42, shuffle=True)\n",
    "    indexes = range(len(df))\n",
    "    return skf.split(indexes, df[label_col])"
   ]
  },
  {
   "cell_type": "code",
   "execution_count": 5,
   "metadata": {
    "ExecuteTime": {
     "end_time": "2019-05-11T02:43:15.010833Z",
     "start_time": "2019-05-11T02:43:14.991954Z"
    }
   },
   "outputs": [],
   "source": [
    "model_name='details-100k'"
   ]
  },
  {
   "cell_type": "code",
   "execution_count": 6,
   "metadata": {
    "ExecuteTime": {
     "end_time": "2019-05-11T02:43:15.691512Z",
     "start_time": "2019-05-11T02:43:15.669969Z"
    }
   },
   "outputs": [],
   "source": [
    "path=Path('data')"
   ]
  },
  {
   "cell_type": "code",
   "execution_count": null,
   "metadata": {},
   "outputs": [],
   "source": []
  },
  {
   "cell_type": "code",
   "execution_count": 7,
   "metadata": {
    "ExecuteTime": {
     "end_time": "2019-05-11T02:43:38.994839Z",
     "start_time": "2019-05-11T02:43:30.450050Z"
    }
   },
   "outputs": [],
   "source": [
    "df_raw = pd.read_parquet(path/'processed/training_stage_4.parquet', engine='fastparquet')"
   ]
  },
  {
   "cell_type": "code",
   "execution_count": 8,
   "metadata": {
    "ExecuteTime": {
     "end_time": "2019-05-11T02:43:41.379318Z",
     "start_time": "2019-05-11T02:43:41.205543Z"
    }
   },
   "outputs": [
    {
     "name": "stdout",
     "output_type": "stream",
     "text": [
      "Total cats: 960 with 1156151 items\n",
      "cats w/ >30 items: 276 with 99.67% coverage\n"
     ]
    }
   ],
   "source": [
    "df_root_cause_counts = pd.DataFrame(df_raw.groupby(['root_cause']).size().sort_values(ascending=False), columns=['count'])\n",
    "min_size = 30\n",
    "large_cats = df_root_cause_counts[df_root_cause_counts[\"count\"] > min_size]\n",
    "total_count = int(df_root_cause_counts.sum())\n",
    "total_big_enough_covered =float(large_cats.sum()*100/df_root_cause_counts.sum())\n",
    "print(f'Total cats: {len(df_root_cause_counts)} with {total_count} items')\n",
    "print(f'cats w/ >{min_size} items: {len(large_cats)} with {total_big_enough_covered:.2f}% coverage')"
   ]
  },
  {
   "cell_type": "code",
   "execution_count": 9,
   "metadata": {
    "ExecuteTime": {
     "end_time": "2019-05-11T02:44:00.045855Z",
     "start_time": "2019-05-11T02:43:59.163723Z"
    }
   },
   "outputs": [],
   "source": [
    "df_train = df_raw[df_raw['lang'] == 'en'][['details', 'root_cause']]\n",
    "train_data = df_train[df_train['root_cause'].isin(large_cats.reset_index()['root_cause'])]"
   ]
  },
  {
   "cell_type": "code",
   "execution_count": 12,
   "metadata": {
    "ExecuteTime": {
     "end_time": "2019-05-11T02:44:15.108114Z",
     "start_time": "2019-05-11T02:44:13.463039Z"
    }
   },
   "outputs": [],
   "source": [
    "split = train_test_split(range(len(train_data)), random_state=42, test_size=0.035, stratify=train_data['root_cause'])"
   ]
  },
  {
   "cell_type": "code",
   "execution_count": null,
   "metadata": {},
   "outputs": [],
   "source": []
  },
  {
   "cell_type": "code",
   "execution_count": null,
   "metadata": {},
   "outputs": [],
   "source": []
  },
  {
   "cell_type": "code",
   "execution_count": null,
   "metadata": {},
   "outputs": [],
   "source": [
    "##### Packaging for models"
   ]
  },
  {
   "cell_type": "code",
   "execution_count": 13,
   "metadata": {
    "ExecuteTime": {
     "end_time": "2019-05-11T02:52:37.510387Z",
     "start_time": "2019-05-11T02:44:47.732712Z"
    }
   },
   "outputs": [],
   "source": [
    "# bs=64\n",
    "# data_lm = load_data(path, f'data-lm-{model_name}.pkl', bs=bs)\n",
    "# data_clas = (TextList.from_df(train_data, path, vocab=data_lm.vocab)\n",
    "#              .split_by_idxs(split[0], split[1])\n",
    "#              .label_from_df('root_cause')\n",
    "#              .databunch(bs=bs))\n",
    "# data_clas.save(f'data_clas_{model_name}.pkl')"
   ]
  },
  {
   "cell_type": "code",
   "execution_count": 14,
   "metadata": {
    "ExecuteTime": {
     "end_time": "2019-05-11T02:53:33.160278Z",
     "start_time": "2019-05-11T02:52:37.517444Z"
    }
   },
   "outputs": [],
   "source": [
    "bs = 128 # 192 breaks in unfreeze(); 256 breaks in freeze(-3)\n",
    "data_clas = load_data(path, f'data_clas_{model_name}.pkl', bs=bs)"
   ]
  },
  {
   "cell_type": "markdown",
   "metadata": {},
   "source": [
    "### Classifier"
   ]
  },
  {
   "cell_type": "code",
   "execution_count": 15,
   "metadata": {
    "ExecuteTime": {
     "end_time": "2019-05-11T04:58:58.128475Z",
     "start_time": "2019-05-11T02:53:35.235398Z"
    }
   },
   "outputs": [
    {
     "data": {
      "text/html": [
       "Total time: 11:01 <p><table border=\"1\" class=\"dataframe\">\n",
       "  <thead>\n",
       "    <tr style=\"text-align: left;\">\n",
       "      <th>epoch</th>\n",
       "      <th>train_loss</th>\n",
       "      <th>valid_loss</th>\n",
       "      <th>accuracy</th>\n",
       "      <th>time</th>\n",
       "    </tr>\n",
       "  </thead>\n",
       "  <tbody>\n",
       "    <tr>\n",
       "      <td>0</td>\n",
       "      <td>2.040744</td>\n",
       "      <td>1.987454</td>\n",
       "      <td>0.432943</td>\n",
       "      <td>11:01</td>\n",
       "    </tr>\n",
       "  </tbody>\n",
       "</table>"
      ],
      "text/plain": [
       "<IPython.core.display.HTML object>"
      ]
     },
     "metadata": {},
     "output_type": "display_data"
    },
    {
     "data": {
      "text/html": [
       "Total time: 13:16 <p><table border=\"1\" class=\"dataframe\">\n",
       "  <thead>\n",
       "    <tr style=\"text-align: left;\">\n",
       "      <th>epoch</th>\n",
       "      <th>train_loss</th>\n",
       "      <th>valid_loss</th>\n",
       "      <th>accuracy</th>\n",
       "      <th>time</th>\n",
       "    </tr>\n",
       "  </thead>\n",
       "  <tbody>\n",
       "    <tr>\n",
       "      <td>0</td>\n",
       "      <td>1.938859</td>\n",
       "      <td>1.907035</td>\n",
       "      <td>0.449997</td>\n",
       "      <td>13:16</td>\n",
       "    </tr>\n",
       "  </tbody>\n",
       "</table>"
      ],
      "text/plain": [
       "<IPython.core.display.HTML object>"
      ]
     },
     "metadata": {},
     "output_type": "display_data"
    },
    {
     "data": {
      "text/html": [
       "Total time: 20:58 <p><table border=\"1\" class=\"dataframe\">\n",
       "  <thead>\n",
       "    <tr style=\"text-align: left;\">\n",
       "      <th>epoch</th>\n",
       "      <th>train_loss</th>\n",
       "      <th>valid_loss</th>\n",
       "      <th>accuracy</th>\n",
       "      <th>time</th>\n",
       "    </tr>\n",
       "  </thead>\n",
       "  <tbody>\n",
       "    <tr>\n",
       "      <td>0</td>\n",
       "      <td>1.948246</td>\n",
       "      <td>1.894029</td>\n",
       "      <td>0.454169</td>\n",
       "      <td>20:58</td>\n",
       "    </tr>\n",
       "  </tbody>\n",
       "</table>"
      ],
      "text/plain": [
       "<IPython.core.display.HTML object>"
      ]
     },
     "metadata": {},
     "output_type": "display_data"
    },
    {
     "data": {
      "text/html": [
       "Total time: 1:19:57 <p><table border=\"1\" class=\"dataframe\">\n",
       "  <thead>\n",
       "    <tr style=\"text-align: left;\">\n",
       "      <th>epoch</th>\n",
       "      <th>train_loss</th>\n",
       "      <th>valid_loss</th>\n",
       "      <th>accuracy</th>\n",
       "      <th>time</th>\n",
       "    </tr>\n",
       "  </thead>\n",
       "  <tbody>\n",
       "    <tr>\n",
       "      <td>0</td>\n",
       "      <td>1.923887</td>\n",
       "      <td>1.881384</td>\n",
       "      <td>0.457786</td>\n",
       "      <td>26:35</td>\n",
       "    </tr>\n",
       "    <tr>\n",
       "      <td>1</td>\n",
       "      <td>1.896398</td>\n",
       "      <td>1.868229</td>\n",
       "      <td>0.461587</td>\n",
       "      <td>26:02</td>\n",
       "    </tr>\n",
       "    <tr>\n",
       "      <td>2</td>\n",
       "      <td>1.850220</td>\n",
       "      <td>1.865338</td>\n",
       "      <td>0.460610</td>\n",
       "      <td>27:15</td>\n",
       "    </tr>\n",
       "  </tbody>\n",
       "</table>"
      ],
      "text/plain": [
       "<IPython.core.display.HTML object>"
      ]
     },
     "metadata": {},
     "output_type": "display_data"
    },
    {
     "name": "stderr",
     "output_type": "stream",
     "text": [
      "IOPub message rate exceeded.\n",
      "The notebook server will temporarily stop sending output\n",
      "to the client in order to avoid crashing it.\n",
      "To change this limit, set the config variable\n",
      "`--NotebookApp.iopub_msg_rate_limit`.\n",
      "\n",
      "Current values:\n",
      "NotebookApp.iopub_msg_rate_limit=1000.0 (msgs/sec)\n",
      "NotebookApp.rate_limit_window=3.0 (secs)\n",
      "\n"
     ]
    },
    {
     "name": "stdout",
     "output_type": "stream",
     "text": [
      "Better model found at epoch 0 with accuracy value: 0.4577855169773102.\n",
      "Better model found at epoch 1 with accuracy value: 0.46158719062805176.\n"
     ]
    }
   ],
   "source": [
    "learn = text_classifier_learner(data_clas, AWD_LSTM, drop_mult=0.0)\n",
    "learn.load_encoder(f'{model_name}-tuned-enc')\n",
    "learn.fit_one_cycle(1, 2e-2, moms=(0.8, 0.7))\n",
    "learn.freeze_to(-2)\n",
    "learn.fit_one_cycle(1, slice(1e-3/(2.6**4),1e-3), moms=(0.8, 0.7))\n",
    "learn.freeze_to(-3)\n",
    "learn.fit_one_cycle(1, slice(1e-4/(2.6**4),1e-4), moms=(0.8, 0.7))\n",
    "learn.unfreeze()\n",
    "callbacks = SaveModelCallback(learn, every='improvement', mode='max', monitor='accuracy', name=f'nlp-classifier-{model_name}-final')\n",
    "learn.fit_one_cycle(3, slice(1e-4/(2.6**4),1e-4), moms=(0.8, 0.7), callbacks=callbacks)"
   ]
  },
  {
   "cell_type": "code",
   "execution_count": null,
   "metadata": {},
   "outputs": [],
   "source": []
  }
 ],
 "metadata": {
  "kernelspec": {
   "display_name": "Python 3",
   "language": "python",
   "name": "python3"
  },
  "language_info": {
   "codemirror_mode": {
    "name": "ipython",
    "version": 3
   },
   "file_extension": ".py",
   "mimetype": "text/x-python",
   "name": "python",
   "nbconvert_exporter": "python",
   "pygments_lexer": "ipython3",
   "version": "3.6.5"
  }
 },
 "nbformat": 4,
 "nbformat_minor": 2
}
