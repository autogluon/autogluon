{
 "cells": [
  {
   "cell_type": "code",
   "execution_count": 1,
   "metadata": {},
   "outputs": [],
   "source": [
    "%reload_ext autoreload\n",
    "%autoreload 2"
   ]
  },
  {
   "cell_type": "code",
   "execution_count": 2,
   "metadata": {},
   "outputs": [],
   "source": [
    "import pandas as pd\n",
    "from fastai import *\n",
    "from fastai.tabular import *\n",
    "from fastai.callbacks import *\n",
    "from fastai.text import *\n",
    "from fastai.data_block import *\n",
    "from fastai.metrics import *\n",
    "from sklearn.model_selection import StratifiedKFold\n",
    "import pickle\n",
    "from fastprogress import master_bar, progress_bar\n",
    "from IPython.display import FileLink\n",
    "from sklearn.decomposition import PCA\n",
    "import time\n",
    "from swallows.training import *"
   ]
  },
  {
   "cell_type": "code",
   "execution_count": 3,
   "metadata": {},
   "outputs": [],
   "source": [
    "pd.set_option('display.max_colwidth', -1)\n",
    "pd.set_option('display.max_columns', None)\n",
    "pd.set_option('display.max_rows', 1000)"
   ]
  },
  {
   "cell_type": "code",
   "execution_count": 4,
   "metadata": {},
   "outputs": [],
   "source": [
    "model_name='details-100k'"
   ]
  },
  {
   "cell_type": "code",
   "execution_count": 5,
   "metadata": {},
   "outputs": [],
   "source": [
    "path=Path('data')"
   ]
  },
  {
   "cell_type": "code",
   "execution_count": null,
   "metadata": {},
   "outputs": [],
   "source": []
  },
  {
   "cell_type": "code",
   "execution_count": null,
   "metadata": {},
   "outputs": [],
   "source": []
  },
  {
   "cell_type": "code",
   "execution_count": null,
   "metadata": {},
   "outputs": [],
   "source": []
  },
  {
   "cell_type": "code",
   "execution_count": 7,
   "metadata": {},
   "outputs": [],
   "source": [
    "df_raw = pd.read_parquet(path/'processed/training_stage_4.parquet', engine='fastparquet')\n",
    "df_raw_test = pd.read_parquet(path/'processed/public_test_features_stage_4.parquet', engine='fastparquet')"
   ]
  },
  {
   "cell_type": "code",
   "execution_count": 8,
   "metadata": {
    "scrolled": true
   },
   "outputs": [],
   "source": [
    "df_train = df_raw[df_raw['lang'] == 'en']\n",
    "df_test = df_raw_test[df_raw_test['lang'] == 'en']"
   ]
  },
  {
   "cell_type": "code",
   "execution_count": 9,
   "metadata": {},
   "outputs": [],
   "source": [
    "df_all = df_train[['details']].append(df_test[['details']])"
   ]
  },
  {
   "cell_type": "code",
   "execution_count": 10,
   "metadata": {},
   "outputs": [
    {
     "name": "stdout",
     "output_type": "stream",
     "text": [
      "Vocabulary size 100004\n"
     ]
    }
   ],
   "source": [
    "# max_vocab = 60k by default - seting it to lower value to make training faster\n",
    "# txt_proc = [TokenizeProcessor(), NumericalizeProcessor(vocab=None, max_vocab=100000)]\n",
    "# data_lm = (TextList.from_df(df_all, path=path, processor=txt_proc)\n",
    "# data_lm = (TextList.from_df(df_all, path=path)\n",
    "#            .split_by_rand_pct(0.05)\n",
    "#            .label_for_lm()\n",
    "#            .databunch(bs=192)\n",
    "#           )\n",
    "# print(f'Vocabulary size {len(data_lm.vocab.itos)}')"
   ]
  },
  {
   "cell_type": "code",
   "execution_count": 11,
   "metadata": {},
   "outputs": [],
   "source": [
    "data_lm.save(f'data-lm-{model_name}.pkl')"
   ]
  },
  {
   "cell_type": "code",
   "execution_count": null,
   "metadata": {},
   "outputs": [],
   "source": []
  },
  {
   "cell_type": "code",
   "execution_count": null,
   "metadata": {},
   "outputs": [],
   "source": []
  },
  {
   "cell_type": "code",
   "execution_count": null,
   "metadata": {},
   "outputs": [],
   "source": []
  },
  {
   "cell_type": "code",
   "execution_count": 6,
   "metadata": {},
   "outputs": [],
   "source": [
    "bs = 64 # 128 = 12502MiB (60k)"
   ]
  },
  {
   "cell_type": "code",
   "execution_count": 7,
   "metadata": {},
   "outputs": [],
   "source": [
    "data_lm = load_data(path, f'data-lm-{model_name}.pkl', bs=bs)"
   ]
  },
  {
   "cell_type": "markdown",
   "metadata": {},
   "source": [
    "### LM Training"
   ]
  },
  {
   "cell_type": "code",
   "execution_count": 8,
   "metadata": {},
   "outputs": [],
   "source": [
    "learn_nlp = language_model_learner(data_lm, AWD_LSTM, drop_mult=0.3)"
   ]
  },
  {
   "cell_type": "code",
   "execution_count": 15,
   "metadata": {},
   "outputs": [
    {
     "data": {
      "text/html": [],
      "text/plain": [
       "<IPython.core.display.HTML object>"
      ]
     },
     "metadata": {},
     "output_type": "display_data"
    },
    {
     "name": "stdout",
     "output_type": "stream",
     "text": [
      "LR Finder is complete, type {learner_name}.recorder.plot() to see the graph.\n"
     ]
    },
    {
     "data": {
      "image/png": "[encoded data removed]",
      "text/plain": [
       "<Figure size 432x288 with 1 Axes>"
      ]
     },
     "metadata": {},
     "output_type": "display_data"
    }
   ],
   "source": [
    "learn_nlp.lr_find(); learn_nlp.recorder.plot()"
   ]
  },
  {
   "cell_type": "code",
   "execution_count": 9,
   "metadata": {},
   "outputs": [
    {
     "data": {
      "text/html": [
       "Total time: 9:25:43 <p><table border=\"1\" class=\"dataframe\">\n",
       "  <thead>\n",
       "    <tr style=\"text-align: left;\">\n",
       "      <th>epoch</th>\n",
       "      <th>train_loss</th>\n",
       "      <th>valid_loss</th>\n",
       "      <th>accuracy</th>\n",
       "      <th>time</th>\n",
       "    </tr>\n",
       "  </thead>\n",
       "  <tbody>\n",
       "    <tr>\n",
       "      <td>0</td>\n",
       "      <td>1.789320</td>\n",
       "      <td>1.548031</td>\n",
       "      <td>0.716199</td>\n",
       "      <td>1:10:21</td>\n",
       "    </tr>\n",
       "    <tr>\n",
       "      <td>1</td>\n",
       "      <td>1.812427</td>\n",
       "      <td>1.532546</td>\n",
       "      <td>0.719662</td>\n",
       "      <td>1:10:28</td>\n",
       "    </tr>\n",
       "    <tr>\n",
       "      <td>2</td>\n",
       "      <td>1.762631</td>\n",
       "      <td>1.513882</td>\n",
       "      <td>0.723584</td>\n",
       "      <td>1:10:33</td>\n",
       "    </tr>\n",
       "    <tr>\n",
       "      <td>3</td>\n",
       "      <td>1.750796</td>\n",
       "      <td>1.477844</td>\n",
       "      <td>0.729683</td>\n",
       "      <td>1:10:36</td>\n",
       "    </tr>\n",
       "    <tr>\n",
       "      <td>4</td>\n",
       "      <td>1.661003</td>\n",
       "      <td>1.435887</td>\n",
       "      <td>0.736993</td>\n",
       "      <td>1:10:46</td>\n",
       "    </tr>\n",
       "    <tr>\n",
       "      <td>5</td>\n",
       "      <td>1.697405</td>\n",
       "      <td>1.393503</td>\n",
       "      <td>0.744806</td>\n",
       "      <td>1:10:52</td>\n",
       "    </tr>\n",
       "    <tr>\n",
       "      <td>6</td>\n",
       "      <td>1.595571</td>\n",
       "      <td>1.366661</td>\n",
       "      <td>0.749521</td>\n",
       "      <td>1:11:02</td>\n",
       "    </tr>\n",
       "    <tr>\n",
       "      <td>7</td>\n",
       "      <td>1.597845</td>\n",
       "      <td>1.360018</td>\n",
       "      <td>0.750978</td>\n",
       "      <td>1:11:00</td>\n",
       "    </tr>\n",
       "  </tbody>\n",
       "</table>"
      ],
      "text/plain": [
       "<IPython.core.display.HTML object>"
      ]
     },
     "metadata": {},
     "output_type": "display_data"
    },
    {
     "name": "stderr",
     "output_type": "stream",
     "text": [
      "IOPub message rate exceeded.\n",
      "The notebook server will temporarily stop sending output\n",
      "to the client in order to avoid crashing it.\n",
      "To change this limit, set the config variable\n",
      "`--NotebookApp.iopub_msg_rate_limit`.\n",
      "\n",
      "Current values:\n",
      "NotebookApp.iopub_msg_rate_limit=1000.0 (msgs/sec)\n",
      "NotebookApp.rate_limit_window=3.0 (secs)\n",
      "\n"
     ]
    },
    {
     "data": {
      "image/png": "[encoded data removed]",
      "text/plain": [
       "<Figure size 432x288 with 1 Axes>"
      ]
     },
     "metadata": {},
     "output_type": "display_data"
    }
   ],
   "source": [
    "learn_nlp.fit_one_cycle(8, 1e-2, moms=(0.8,0.7)); learn_nlp.recorder.plot_losses()"
   ]
  },
  {
   "cell_type": "code",
   "execution_count": 10,
   "metadata": {},
   "outputs": [],
   "source": [
    "learn_nlp.save(f'lm-{model_name}-1')"
   ]
  },
  {
   "cell_type": "code",
   "execution_count": 9,
   "metadata": {
    "collapsed": true
   },
   "outputs": [
    {
     "data": {
      "text/plain": [
       "LanguageLearner(data=TextLMDataBunch;\n",
       "\n",
       "Train: LabelList (1540520 items)\n",
       "x: LMTextList\n",
       "xxbos opstechit - xxup hou2 xxmaj project opstechit xxmaj manual opstechit xximpacthigh xxmaj equipment xxmaj request ( xxmaj new / xxmaj loaner ) xxup hou2 - xxup fc ( xxmaj houston , xxup tx ) xxmaj sort - xxup ar xxup houston xxup us xxup hou2 xxup tx xxmaj client xxmaj devices xxup hou2 - xxmaj singles problem solve request xxmaj building i d : xxup hou2 xxmaj workflow name : opstechit_devices_and_equipment_other xxmaj description : xxmaj problem xxmaj solve xxmaj stations on xxmaj line 3 , 4 , & 5 as well as xxmaj audit at xxmaj slam 6 in xxmaj pack xxmaj singles need to be fully setup as problem solve & xxmaj pack xxmaj stations . xxmaj each location must be fully functional for problem solve to pack out items . xxmaj in addition to work tables , equipment needed : xxmaj tape xxmaj dispensers , xxmaj dunnage xxmaj machines , xxmaj full xxmaj box xxmaj suites , xxmaj spoo xxmaj machines , p - xxmaj slip printers , xxup asin xxmaj printers , xxmaj scales , pcs , xxmaj zebra xxup zt410 xxmaj printers , xxup xxunk xxmaj radios , wireless hand scanners , xxmaj ergo xxmaj mats . i am sure that xxup jll will also have to be involved in this project as it will require movement of work station components such as box suites . warehouseid : xxup hou2 .,xxbos opstechit - xxup hyd8 xxmaj trouble xxmaj ticket opstechit xxmaj autocut opstechit - xxup hyd8 xximpactmedium xxmaj environmental xxmaj monitoring xxup hyd8 - xxup asspl xxup lrg xxup fc xxmaj mixed xxmaj hyderabad xxup in xxup hyd8 xxup in xxmaj telangana xxmaj site xxmaj administration [ xxup hyd8 ] xxunk - xxup critical xxmaj hostname : xxhostname xxmaj check : ping xxmaj details : xxup ping xxup critical - xxmaj packet loss = 100 % xxmaj direct xxmaj link : xxitmonitoring xxmaj documentation : xxpolicy,xxbos opstechit - xxup sat2 xxmaj trouble xxmaj ticket opstechit xxmaj autocut opstechit - xxup sat2 xximpactmedium xxmaj audits xxup sat2 - xxup fc ( xxmaj san xxmaj marcos , xxup tx ) xxmaj sort - xxup ar xxup san xxup marcos xxup us xxup sat2 xxup tx xxmaj site xxmaj administration [ xxup sat2 ] [ xxmaj days ] xxmaj verify / xxmaj arm all idfs xxmaj audit the xxup idf xxmaj lenel xxmaj arm / xxmaj disarm board in xxup it xxmaj office . xxmaj arm any idfs that are currently disarmed ( unless previously noted problem exists ) . xxmaj this must be done before the end of your shift .,xxbos opstechit - xxup del3 xxmaj trouble xxmaj ticket opstechit xxmaj manual opstechit xximpactcritical xxmaj desktop / xxmaj laptop ( xxmaj windows ) xxup del3-asspl xxup lrg xxup fc ( xxmaj sonipat - xxup hr ) xxmaj mixed xxup sonipat ( xxup delhi - xxup ncr ) xxup in xxup del3 xxup in xxup hr xxmaj client xxmaj devices [ xxup del3 ] mouse not working xxmaj hi xxmaj team xxmaj problem solving station no.4 mouse not working properly . xxmaj please checked it . xxmaj regards xxmaj raja kaushik xxmaj del3 xxup ob xxup ps,xxbos opstechit - xxup bhx1 xxmaj action xxmaj item opstechit xxmaj autocut opstechit - xxup bhx1 xximpactcritical xxmaj other xxup bhx1 xxmaj sort xxmaj rugeley xxup uk xxup bhx1 xxup eu xxup staffordshire xxmaj site xxmaj administration [ xxup bhx1 ] xxup eos xxmaj handover xxmaj please update the overview of this ticket and leave as pending for all team on the following shift to read and resolve . xxmaj delete as appropriate : xxmaj emptied the bins ( xxmaj yes ) xxmaj personal workstations tidy ( xxmaj yes ) xxmaj workshop left clean and tidy with no rubbish on floors ( xxmaj yes ) xxmaj items in handover state are clearly labeled with ticket numbers ( xxmaj yes ) xxmaj end of xxmaj shift report for xxmaj days xxmaj shift : xxunk [ xxup bhx1 ] xxmaj configure xxup dwr1 's timeclocks xxunk xxup bhx1 - xxunk - i need help with xxmaj other xxmaj devices / xxmaj equipment xxmaj issues xxunk [ xxup bhx1 ] xxmaj daily xxmaj gemba xxmaj participation xxunk xxup uuk3 - i need help with xxmaj desktop / xxmaj laptop xxmaj hardware xxmaj installation xxunk [ xxup vekc ] [ xxup bhx1 ] xxup tc55 xxmaj scanners xxmaj error : xxmaj time xxmaj out xxmaj connection xxunk [ xxup bhx1 ] xxmaj daily xxmaj area xxmaj readiness check list - xxmaj days xxunk [ xxup bhx1 ] xxmaj fastenal xxmaj help xxunk [ xxup bhx1 ] xxmaj zone e xxmaj check xxunk [ xxup bhx1 ] [ xxmaj global xxmaj compliance ] xxmaj audit xxup mdf\n",
       "y: LMLabelList\n",
       ",,,,\n",
       "Path: data;\n",
       "\n",
       "Valid: LabelList (81079 items)\n",
       "x: LMTextList\n",
       "xxbos opstechit - xxup ewr9 xxmaj trouble xxmaj ticket opstechit xxmaj manual opstechit - xxup ewr9 xximpacthigh xxmaj desktop / xxmaj laptop ( xxmaj linux ) xxup ewr9 - xxup fc ( xxmaj carteret , xxup nj ) xxmaj sort - xxup ar xxup carteret xxup us xxup ewr9 xxup nj xxmaj client xxmaj devices [ xxup ewr9 ] xxmaj walk xxmaj up xxmaj request - xxmaj computer issue xxunk computer is xxunk .,xxbos opstechit xxmaj trouble xxmaj ticket opstechit xxmaj manual opstechit xximpactmedium xxmaj printers xxup stl4 - xxup fc ( xxmaj edwardsville , xxup il ) nonsort xxup edwardsville xxup us xxup stl4 xxup il xxmaj client xxmaj devices [ xxup stl4 ] xxmaj stalled print jobs in stl4-prt-6 xxmaj please clear stalled jobs in printer queue for stl4-prt-6,xxbos opstechit - xxup stl4 xxmaj action xxmaj item opstechit xxmaj autocut opstechit - xxup stl4 xximpactcritical xxmaj preventative xxmaj maintenance xxup stl4 - xxup fc ( xxmaj edwardsville , xxup il ) nonsort xxup edwardsville xxup us xxup stl4 xxup il xxmaj site xxmaj administration [ xxup stl4 ] xxmaj small xxmaj site - xxmaj on xxmaj site xxup it xxup pm - xxup vups xxmaj small xxmaj site - xxmaj on xxmaj site xxup it xxup pm - xxup vups xxmaj per policy xxpolicy xxmaj please use this ticket to track progress and time for quarterly pms at this small site,xxbos opstechit - xxup hyd8 xxmaj trouble xxmaj ticket opstechit xxmaj manual opstechit - xxup hyd8 xximpactcritical xxmaj equipment xxmaj request ( xxmaj new / xxmaj loaner ) xxup hyd8 - xxup asspl xxup lrg xxup fc xxmaj mixed xxmaj hyderabad xxup in xxup hyd8 xxup in xxmaj telangana xxmaj client xxmaj devices [ xxup hyd8 ] xxup slp xxmaj control room - printer not working hi team for kind information slp control room printer not working . pls check and clear the issue asap .,xxbos opstechit - xxup man2 xxmaj action xxmaj item opstechit xxmaj manual opstechit - xxup man2 xximpactcritical xxmaj audits xxup man2 - xxup fc ( xxmaj warrington , xxup uk ) xxmaj sort - xxup ar xxmaj england / xxmaj wales xxup uk xxup man2 xxup eu xxup ches xxmaj site xxmaj administration [ xxup man2 ] xxmaj defect xxmaj detected at xxup xxunk in xxup ob xxmaj standard xxmaj singles xxmaj the monitor switches on briefly then goes off , tried rebooting it but the monitor is still not working . xxmaj the error is not reported by xxup slim xxmaj client xxserial xxmaj client xxup mac : xxmac\n",
       "y: LMLabelList\n",
       ",,,,\n",
       "Path: data;\n",
       "\n",
       "Test: None, model=SequentialRNN(\n",
       "  (0): AWD_LSTM(\n",
       "    (encoder): Embedding(60004, 400, padding_idx=1)\n",
       "    (encoder_dp): EmbeddingDropout(\n",
       "      (emb): Embedding(60004, 400, padding_idx=1)\n",
       "    )\n",
       "    (rnns): ModuleList(\n",
       "      (0): WeightDropout(\n",
       "        (module): LSTM(400, 1150, batch_first=True)\n",
       "      )\n",
       "      (1): WeightDropout(\n",
       "        (module): LSTM(1150, 1150, batch_first=True)\n",
       "      )\n",
       "      (2): WeightDropout(\n",
       "        (module): LSTM(1150, 400, batch_first=True)\n",
       "      )\n",
       "    )\n",
       "    (input_dp): RNNDropout()\n",
       "    (hidden_dps): ModuleList(\n",
       "      (0): RNNDropout()\n",
       "      (1): RNNDropout()\n",
       "      (2): RNNDropout()\n",
       "    )\n",
       "  )\n",
       "  (1): LinearDecoder(\n",
       "    (decoder): Linear(in_features=400, out_features=60004, bias=True)\n",
       "    (output_dp): RNNDropout()\n",
       "  )\n",
       "), opt_func=functools.partial(<class 'torch.optim.adam.Adam'>, betas=(0.9, 0.99)), loss_func=FlattenedLoss of CrossEntropyLoss(), metrics=[<function accuracy at 0x7fa2194b61e0>], true_wd=True, bn_wd=True, wd=0.01, train_bn=True, path=PosixPath('data'), model_dir='models', callback_fns=[functools.partial(<class 'fastai.basic_train.Recorder'>, add_time=True)], callbacks=[RNNTrainer\n",
       "learn: LanguageLearner(data=TextLMDataBunch;\n",
       "\n",
       "Train: LabelList (1540520 items)\n",
       "x: LMTextList\n",
       "xxbos opstechit - xxup hou2 xxmaj project opstechit xxmaj manual opstechit xximpacthigh xxmaj equipment xxmaj request ( xxmaj new / xxmaj loaner ) xxup hou2 - xxup fc ( xxmaj houston , xxup tx ) xxmaj sort - xxup ar xxup houston xxup us xxup hou2 xxup tx xxmaj client xxmaj devices xxup hou2 - xxmaj singles problem solve request xxmaj building i d : xxup hou2 xxmaj workflow name : opstechit_devices_and_equipment_other xxmaj description : xxmaj problem xxmaj solve xxmaj stations on xxmaj line 3 , 4 , & 5 as well as xxmaj audit at xxmaj slam 6 in xxmaj pack xxmaj singles need to be fully setup as problem solve & xxmaj pack xxmaj stations . xxmaj each location must be fully functional for problem solve to pack out items . xxmaj in addition to work tables , equipment needed : xxmaj tape xxmaj dispensers , xxmaj dunnage xxmaj machines , xxmaj full xxmaj box xxmaj suites , xxmaj spoo xxmaj machines , p - xxmaj slip printers , xxup asin xxmaj printers , xxmaj scales , pcs , xxmaj zebra xxup zt410 xxmaj printers , xxup xxunk xxmaj radios , wireless hand scanners , xxmaj ergo xxmaj mats . i am sure that xxup jll will also have to be involved in this project as it will require movement of work station components such as box suites . warehouseid : xxup hou2 .,xxbos opstechit - xxup hyd8 xxmaj trouble xxmaj ticket opstechit xxmaj autocut opstechit - xxup hyd8 xximpactmedium xxmaj environmental xxmaj monitoring xxup hyd8 - xxup asspl xxup lrg xxup fc xxmaj mixed xxmaj hyderabad xxup in xxup hyd8 xxup in xxmaj telangana xxmaj site xxmaj administration [ xxup hyd8 ] xxunk - xxup critical xxmaj hostname : xxhostname xxmaj check : ping xxmaj details : xxup ping xxup critical - xxmaj packet loss = 100 % xxmaj direct xxmaj link : xxitmonitoring xxmaj documentation : xxpolicy,xxbos opstechit - xxup sat2 xxmaj trouble xxmaj ticket opstechit xxmaj autocut opstechit - xxup sat2 xximpactmedium xxmaj audits xxup sat2 - xxup fc ( xxmaj san xxmaj marcos , xxup tx ) xxmaj sort - xxup ar xxup san xxup marcos xxup us xxup sat2 xxup tx xxmaj site xxmaj administration [ xxup sat2 ] [ xxmaj days ] xxmaj verify / xxmaj arm all idfs xxmaj audit the xxup idf xxmaj lenel xxmaj arm / xxmaj disarm board in xxup it xxmaj office . xxmaj arm any idfs that are currently disarmed ( unless previously noted problem exists ) . xxmaj this must be done before the end of your shift .,xxbos opstechit - xxup del3 xxmaj trouble xxmaj ticket opstechit xxmaj manual opstechit xximpactcritical xxmaj desktop / xxmaj laptop ( xxmaj windows ) xxup del3-asspl xxup lrg xxup fc ( xxmaj sonipat - xxup hr ) xxmaj mixed xxup sonipat ( xxup delhi - xxup ncr ) xxup in xxup del3 xxup in xxup hr xxmaj client xxmaj devices [ xxup del3 ] mouse not working xxmaj hi xxmaj team xxmaj problem solving station no.4 mouse not working properly . xxmaj please checked it . xxmaj regards xxmaj raja kaushik xxmaj del3 xxup ob xxup ps,xxbos opstechit - xxup bhx1 xxmaj action xxmaj item opstechit xxmaj autocut opstechit - xxup bhx1 xximpactcritical xxmaj other xxup bhx1 xxmaj sort xxmaj rugeley xxup uk xxup bhx1 xxup eu xxup staffordshire xxmaj site xxmaj administration [ xxup bhx1 ] xxup eos xxmaj handover xxmaj please update the overview of this ticket and leave as pending for all team on the following shift to read and resolve . xxmaj delete as appropriate : xxmaj emptied the bins ( xxmaj yes ) xxmaj personal workstations tidy ( xxmaj yes ) xxmaj workshop left clean and tidy with no rubbish on floors ( xxmaj yes ) xxmaj items in handover state are clearly labeled with ticket numbers ( xxmaj yes ) xxmaj end of xxmaj shift report for xxmaj days xxmaj shift : xxunk [ xxup bhx1 ] xxmaj configure xxup dwr1 's timeclocks xxunk xxup bhx1 - xxunk - i need help with xxmaj other xxmaj devices / xxmaj equipment xxmaj issues xxunk [ xxup bhx1 ] xxmaj daily xxmaj gemba xxmaj participation xxunk xxup uuk3 - i need help with xxmaj desktop / xxmaj laptop xxmaj hardware xxmaj installation xxunk [ xxup vekc ] [ xxup bhx1 ] xxup tc55 xxmaj scanners xxmaj error : xxmaj time xxmaj out xxmaj connection xxunk [ xxup bhx1 ] xxmaj daily xxmaj area xxmaj readiness check list - xxmaj days xxunk [ xxup bhx1 ] xxmaj fastenal xxmaj help xxunk [ xxup bhx1 ] xxmaj zone e xxmaj check xxunk [ xxup bhx1 ] [ xxmaj global xxmaj compliance ] xxmaj audit xxup mdf\n",
       "y: LMLabelList\n",
       ",,,,\n",
       "Path: data;\n",
       "\n",
       "Valid: LabelList (81079 items)\n",
       "x: LMTextList\n",
       "xxbos opstechit - xxup ewr9 xxmaj trouble xxmaj ticket opstechit xxmaj manual opstechit - xxup ewr9 xximpacthigh xxmaj desktop / xxmaj laptop ( xxmaj linux ) xxup ewr9 - xxup fc ( xxmaj carteret , xxup nj ) xxmaj sort - xxup ar xxup carteret xxup us xxup ewr9 xxup nj xxmaj client xxmaj devices [ xxup ewr9 ] xxmaj walk xxmaj up xxmaj request - xxmaj computer issue xxunk computer is xxunk .,xxbos opstechit xxmaj trouble xxmaj ticket opstechit xxmaj manual opstechit xximpactmedium xxmaj printers xxup stl4 - xxup fc ( xxmaj edwardsville , xxup il ) nonsort xxup edwardsville xxup us xxup stl4 xxup il xxmaj client xxmaj devices [ xxup stl4 ] xxmaj stalled print jobs in stl4-prt-6 xxmaj please clear stalled jobs in printer queue for stl4-prt-6,xxbos opstechit - xxup stl4 xxmaj action xxmaj item opstechit xxmaj autocut opstechit - xxup stl4 xximpactcritical xxmaj preventative xxmaj maintenance xxup stl4 - xxup fc ( xxmaj edwardsville , xxup il ) nonsort xxup edwardsville xxup us xxup stl4 xxup il xxmaj site xxmaj administration [ xxup stl4 ] xxmaj small xxmaj site - xxmaj on xxmaj site xxup it xxup pm - xxup vups xxmaj small xxmaj site - xxmaj on xxmaj site xxup it xxup pm - xxup vups xxmaj per policy xxpolicy xxmaj please use this ticket to track progress and time for quarterly pms at this small site,xxbos opstechit - xxup hyd8 xxmaj trouble xxmaj ticket opstechit xxmaj manual opstechit - xxup hyd8 xximpactcritical xxmaj equipment xxmaj request ( xxmaj new / xxmaj loaner ) xxup hyd8 - xxup asspl xxup lrg xxup fc xxmaj mixed xxmaj hyderabad xxup in xxup hyd8 xxup in xxmaj telangana xxmaj client xxmaj devices [ xxup hyd8 ] xxup slp xxmaj control room - printer not working hi team for kind information slp control room printer not working . pls check and clear the issue asap .,xxbos opstechit - xxup man2 xxmaj action xxmaj item opstechit xxmaj manual opstechit - xxup man2 xximpactcritical xxmaj audits xxup man2 - xxup fc ( xxmaj warrington , xxup uk ) xxmaj sort - xxup ar xxmaj england / xxmaj wales xxup uk xxup man2 xxup eu xxup ches xxmaj site xxmaj administration [ xxup man2 ] xxmaj defect xxmaj detected at xxup xxunk in xxup ob xxmaj standard xxmaj singles xxmaj the monitor switches on briefly then goes off , tried rebooting it but the monitor is still not working . xxmaj the error is not reported by xxup slim xxmaj client xxserial xxmaj client xxup mac : xxmac\n",
       "y: LMLabelList\n",
       ",,,,\n",
       "Path: data;\n",
       "\n",
       "Test: None, model=SequentialRNN(\n",
       "  (0): AWD_LSTM(\n",
       "    (encoder): Embedding(60004, 400, padding_idx=1)\n",
       "    (encoder_dp): EmbeddingDropout(\n",
       "      (emb): Embedding(60004, 400, padding_idx=1)\n",
       "    )\n",
       "    (rnns): ModuleList(\n",
       "      (0): WeightDropout(\n",
       "        (module): LSTM(400, 1150, batch_first=True)\n",
       "      )\n",
       "      (1): WeightDropout(\n",
       "        (module): LSTM(1150, 1150, batch_first=True)\n",
       "      )\n",
       "      (2): WeightDropout(\n",
       "        (module): LSTM(1150, 400, batch_first=True)\n",
       "      )\n",
       "    )\n",
       "    (input_dp): RNNDropout()\n",
       "    (hidden_dps): ModuleList(\n",
       "      (0): RNNDropout()\n",
       "      (1): RNNDropout()\n",
       "      (2): RNNDropout()\n",
       "    )\n",
       "  )\n",
       "  (1): LinearDecoder(\n",
       "    (decoder): Linear(in_features=400, out_features=60004, bias=True)\n",
       "    (output_dp): RNNDropout()\n",
       "  )\n",
       "), opt_func=functools.partial(<class 'torch.optim.adam.Adam'>, betas=(0.9, 0.99)), loss_func=FlattenedLoss of CrossEntropyLoss(), metrics=[<function accuracy at 0x7fa2194b61e0>], true_wd=True, bn_wd=True, wd=0.01, train_bn=True, path=PosixPath('data'), model_dir='models', callback_fns=[functools.partial(<class 'fastai.basic_train.Recorder'>, add_time=True)], callbacks=[...], layer_groups=[Sequential(\n",
       "  (0): WeightDropout(\n",
       "    (module): LSTM(400, 1150, batch_first=True)\n",
       "  )\n",
       "  (1): RNNDropout()\n",
       "), Sequential(\n",
       "  (0): WeightDropout(\n",
       "    (module): LSTM(1150, 1150, batch_first=True)\n",
       "  )\n",
       "  (1): RNNDropout()\n",
       "), Sequential(\n",
       "  (0): WeightDropout(\n",
       "    (module): LSTM(1150, 400, batch_first=True)\n",
       "  )\n",
       "  (1): RNNDropout()\n",
       "), Sequential(\n",
       "  (0): Embedding(60004, 400, padding_idx=1)\n",
       "  (1): EmbeddingDropout(\n",
       "    (emb): Embedding(60004, 400, padding_idx=1)\n",
       "  )\n",
       "  (2): LinearDecoder(\n",
       "    (decoder): Linear(in_features=400, out_features=60004, bias=True)\n",
       "    (output_dp): RNNDropout()\n",
       "  )\n",
       ")], add_time=True)\n",
       "alpha: 2.0\n",
       "beta: 1.0], layer_groups=[Sequential(\n",
       "  (0): WeightDropout(\n",
       "    (module): LSTM(400, 1150, batch_first=True)\n",
       "  )\n",
       "  (1): RNNDropout()\n",
       "), Sequential(\n",
       "  (0): WeightDropout(\n",
       "    (module): LSTM(1150, 1150, batch_first=True)\n",
       "  )\n",
       "  (1): RNNDropout()\n",
       "), Sequential(\n",
       "  (0): WeightDropout(\n",
       "    (module): LSTM(1150, 400, batch_first=True)\n",
       "  )\n",
       "  (1): RNNDropout()\n",
       "), Sequential(\n",
       "  (0): Embedding(60004, 400, padding_idx=1)\n",
       "  (1): EmbeddingDropout(\n",
       "    (emb): Embedding(60004, 400, padding_idx=1)\n",
       "  )\n",
       "  (2): LinearDecoder(\n",
       "    (decoder): Linear(in_features=400, out_features=60004, bias=True)\n",
       "    (output_dp): RNNDropout()\n",
       "  )\n",
       ")], add_time=True)"
      ]
     },
     "execution_count": 9,
     "metadata": {},
     "output_type": "execute_result"
    }
   ],
   "source": [
    "learn_nlp.load(f'lm-{model_name}-1')"
   ]
  },
  {
   "cell_type": "code",
   "execution_count": 11,
   "metadata": {},
   "outputs": [],
   "source": [
    "learn_nlp.unfreeze()"
   ]
  },
  {
   "cell_type": "code",
   "execution_count": 12,
   "metadata": {},
   "outputs": [
    {
     "data": {
      "text/html": [],
      "text/plain": [
       "<IPython.core.display.HTML object>"
      ]
     },
     "metadata": {},
     "output_type": "display_data"
    },
    {
     "name": "stdout",
     "output_type": "stream",
     "text": [
      "LR Finder is complete, type {learner_name}.recorder.plot() to see the graph.\n"
     ]
    },
    {
     "data": {
      "image/png": "[encoded data removed]",
      "text/plain": [
       "<Figure size 432x288 with 1 Axes>"
      ]
     },
     "metadata": {},
     "output_type": "display_data"
    }
   ],
   "source": [
    "learn_nlp.lr_find(end_lr=1e-1); learn_nlp.recorder.plot()"
   ]
  },
  {
   "cell_type": "code",
   "execution_count": 13,
   "metadata": {},
   "outputs": [
    {
     "data": {
      "text/html": [
       "Total time: 6:26:55 <p><table border=\"1\" class=\"dataframe\">\n",
       "  <thead>\n",
       "    <tr style=\"text-align: left;\">\n",
       "      <th>epoch</th>\n",
       "      <th>train_loss</th>\n",
       "      <th>valid_loss</th>\n",
       "      <th>accuracy</th>\n",
       "      <th>time</th>\n",
       "    </tr>\n",
       "  </thead>\n",
       "  <tbody>\n",
       "    <tr>\n",
       "      <td>0</td>\n",
       "      <td>1.404310</td>\n",
       "      <td>1.234453</td>\n",
       "      <td>0.769075</td>\n",
       "      <td>1:17:09</td>\n",
       "    </tr>\n",
       "    <tr>\n",
       "      <td>1</td>\n",
       "      <td>1.289922</td>\n",
       "      <td>1.136537</td>\n",
       "      <td>0.786637</td>\n",
       "      <td>1:17:19</td>\n",
       "    </tr>\n",
       "    <tr>\n",
       "      <td>2</td>\n",
       "      <td>1.219655</td>\n",
       "      <td>1.095705</td>\n",
       "      <td>0.793951</td>\n",
       "      <td>1:17:15</td>\n",
       "    </tr>\n",
       "    <tr>\n",
       "      <td>3</td>\n",
       "      <td>1.169227</td>\n",
       "      <td>1.080500</td>\n",
       "      <td>0.796690</td>\n",
       "      <td>1:17:23</td>\n",
       "    </tr>\n",
       "    <tr>\n",
       "      <td>4</td>\n",
       "      <td>1.160916</td>\n",
       "      <td>1.078010</td>\n",
       "      <td>0.797155</td>\n",
       "      <td>1:17:45</td>\n",
       "    </tr>\n",
       "  </tbody>\n",
       "</table>"
      ],
      "text/plain": [
       "<IPython.core.display.HTML object>"
      ]
     },
     "metadata": {},
     "output_type": "display_data"
    },
    {
     "name": "stderr",
     "output_type": "stream",
     "text": [
      "IOPub message rate exceeded.\n",
      "The notebook server will temporarily stop sending output\n",
      "to the client in order to avoid crashing it.\n",
      "To change this limit, set the config variable\n",
      "`--NotebookApp.iopub_msg_rate_limit`.\n",
      "\n",
      "Current values:\n",
      "NotebookApp.iopub_msg_rate_limit=1000.0 (msgs/sec)\n",
      "NotebookApp.rate_limit_window=3.0 (secs)\n",
      "\n"
     ]
    }
   ],
   "source": [
    "learn_nlp.fit_one_cycle(5, 5e-5, moms=(0.8,0.7))"
   ]
  },
  {
   "cell_type": "code",
   "execution_count": null,
   "metadata": {},
   "outputs": [],
   "source": [
    "#0.801500 was on 60k"
   ]
  },
  {
   "cell_type": "code",
   "execution_count": 14,
   "metadata": {},
   "outputs": [],
   "source": [
    "learn_nlp.save(f'lm-{model_name}-tuned')"
   ]
  },
  {
   "cell_type": "code",
   "execution_count": 15,
   "metadata": {},
   "outputs": [],
   "source": [
    "learn_nlp.save_encoder(f'{model_name}-tuned-enc')"
   ]
  },
  {
   "cell_type": "code",
   "execution_count": null,
   "metadata": {},
   "outputs": [],
   "source": []
  },
  {
   "cell_type": "markdown",
   "metadata": {},
   "source": [
    "### Test"
   ]
  },
  {
   "cell_type": "code",
   "execution_count": 16,
   "metadata": {},
   "outputs": [
    {
     "name": "stdout",
     "output_type": "stream",
     "text": [
      "printer not working at IB receive station # 5 xxbos The following 2 alert(s ) have occurred on camera Interior . Inbound . Receive .\n",
      "\n",
      "printer not working at lane 1 Printer not working xxbos Hello , Station stations on line 10 are not connecting to the internet . Can someone please\n",
      "\n",
      "printer not working properly in OB Dock xxbos Hostname : xxhost Check : ping Details : PING CRITICAL - Packet loss = 100\n",
      "\n",
      "printer not working xxbos Issue Description ( Break - fix / Maintenance ) : Locker is out of sync . Taking locker offline .\n",
      "\n",
      "printer is not working at pack station 2 - 6 . Printer is not printing p - slips . Please assist . xxbos NARF Audit picked up\n",
      "\n",
      "printer at the east side dock is not printing . xxbos This ticket is to track the time spent in the returns start up to help fix the issues they\n",
      "\n",
      "printer not printing . xxbos Perform the daily status check of the MDF room . Follow SOP : xxpolicy xxbos Building i d : LAS6\n",
      "\n",
      "printer is not working . The printer is printing only half of it 's labels and there is a paper jam the printer is printing labels on the paper .\n",
      "\n",
      "printer not working at station 31 - 06 xxbos Need Loaner Radio for PA . xxbos xxwfssworkflow IT support , Device Model /\n",
      "\n",
      "printer not working at slam line 9 in OB Problem solve area xxbos Building i d : EDI4 Workflow name : opstechit_printer Description :\n"
     ]
    }
   ],
   "source": [
    "TEXT = \"printer\"\n",
    "N_WORDS = 30\n",
    "N_SENTENCES = 10\n",
    "print(\"\\n\\n\".join(learn_nlp.predict(TEXT, N_WORDS, temperature=0.75) for _ in range(N_SENTENCES)))"
   ]
  },
  {
   "cell_type": "markdown",
   "metadata": {},
   "source": [
    "60k samples\n",
    "\n",
    "```\n",
    "printer on SLAM station simultaneously is not clear , please assist . ! xxbos Building i d : MCO5 Workflow name : opstechit_password Description :\n",
    "\n",
    "printer will not print shipping labels xxbos Workflow name : Labels Installation - Zebra 600 m warehouseid : CMH1 Printer Model : Zebra\n",
    "\n",
    "printer not working at station 1407 xxbos Perform the daily status check of the MDF room . Follow SOP : xxpolicy xxbos Please walk the\n",
    "\n",
    "printer on slam 3 is not working properly . It is not printing xxbos Each day please check all defective bin locations for scanners that have been placed in\n",
    "\n",
    "printer not working xxbos Setting up RF scanners . Please deploy scanners and batteries to the IT cage . xxbos Hi , Please provide access\n",
    "\n",
    "printer working on slam 7 station 7 perform a Manual Slam printer located at BOD . Please check ink . xxbos Dock is not printing in\n",
    "\n",
    "printer not working at printer in learning - location xxbos Chat Dialog- for contacting Centralized opstechit , how may i assist you ? Do you have a\n",
    "\n",
    "printer is not working . xxbos The following 1 alert(s ) have occurred on camera Interior . East Side . Ground . Receive .\n",
    "\n",
    "printer 1 - 7 not printing xxbos The following 1 alert(s ) have occurred on camera Interior . East Pick Mod.1st Floor . P1\n",
    "\n",
    "printer on mobile cart is not working . Printer not working , Front of printer is working . xxbos Laptop at PS Cart # 4 has\n",
    "```"
   ]
  },
  {
   "cell_type": "code",
   "execution_count": null,
   "metadata": {},
   "outputs": [],
   "source": []
  }
 ],
 "metadata": {
  "kernelspec": {
   "display_name": "Python 3",
   "language": "python",
   "name": "python3"
  },
  "language_info": {
   "codemirror_mode": {
    "name": "ipython",
    "version": 3
   },
   "file_extension": ".py",
   "mimetype": "text/x-python",
   "name": "python",
   "nbconvert_exporter": "python",
   "pygments_lexer": "ipython3",
   "version": "3.6.5"
  },
  "toc": {
   "base_numbering": 1,
   "nav_menu": {},
   "number_sections": true,
   "sideBar": true,
   "skip_h1_title": false,
   "title_cell": "Table of Contents",
   "title_sidebar": "Contents",
   "toc_cell": false,
   "toc_position": {},
   "toc_section_display": true,
   "toc_window_display": false
  }
 },
 "nbformat": 4,
 "nbformat_minor": 2
}
