{
 "cells": [
  {
   "cell_type": "code",
   "execution_count": 1,
   "metadata": {},
   "outputs": [],
   "source": [
    "%reload_ext autoreload\n",
    "%autoreload 2"
   ]
  },
  {
   "cell_type": "code",
   "execution_count": 2,
   "metadata": {},
   "outputs": [],
   "source": [
    "import pandas as pd\n",
    "from fastai import *\n",
    "from fastai.tabular import *\n",
    "from fastai.callbacks import *\n",
    "from fastai.text import *\n",
    "from fastai.data_block import *\n",
    "from fastai.metrics import *\n",
    "from sklearn.model_selection import StratifiedKFold\n",
    "import pickle\n",
    "from fastprogress import master_bar, progress_bar\n",
    "from IPython.display import FileLink\n",
    "from sklearn.decomposition import PCA\n",
    "import time\n",
    "from swallows.training import *"
   ]
  },
  {
   "cell_type": "code",
   "execution_count": 3,
   "metadata": {},
   "outputs": [],
   "source": [
    "pd.set_option('display.max_colwidth', -1)\n",
    "pd.set_option('display.max_columns', None)\n",
    "pd.set_option('display.max_rows', 1000)"
   ]
  },
  {
   "cell_type": "code",
   "execution_count": 4,
   "metadata": {},
   "outputs": [],
   "source": [
    "model_name = 'tab-v4-tuning-3-stage-4-hyper'"
   ]
  },
  {
   "cell_type": "code",
   "execution_count": 5,
   "metadata": {},
   "outputs": [],
   "source": [
    "path=Path('data')"
   ]
  },
  {
   "cell_type": "markdown",
   "metadata": {},
   "source": [
    "### Predictions"
   ]
  },
  {
   "cell_type": "code",
   "execution_count": 6,
   "metadata": {},
   "outputs": [],
   "source": [
    "df_test = pd.read_parquet(path/'processed/public_test_features_stage_4.parquet')"
   ]
  },
  {
   "cell_type": "code",
   "execution_count": 7,
   "metadata": {},
   "outputs": [],
   "source": [
    "df_test_ids = pd.read_csv(path/'public_test_features_IDs.csv', low_memory=False)"
   ]
  },
  {
   "cell_type": "code",
   "execution_count": 12,
   "metadata": {},
   "outputs": [],
   "source": [
    "exclude_from_cats = [\n",
    "    'ID', \n",
    "    'assigned_date',\n",
    "    'create_date',\n",
    "    'details',\n",
    "    'short_description',\n",
    "    'amazon_domains',\n",
    "    'root_cause',\n",
    "    'create_to_assigned_lag'\n",
    "    'create_to_assigned_lag_log',\n",
    "    'assigned_date_Elapsed'\n",
    "    'create_date_Elapsed',\n",
    "]\n",
    "\n",
    "cat_names = [c for c in df_test.columns if c not in exclude_from_cats]\n",
    "cont_names = [] #['create_to_assigned_lag_log']\n",
    "dep_var = 'root_cause'\n",
    "procs = [FillMissing, Categorify, Normalize]"
   ]
  },
  {
   "cell_type": "code",
   "execution_count": 13,
   "metadata": {},
   "outputs": [],
   "source": [
    "test_data = TabularList.from_df(df_test[cat_names + cont_names], path=path, cat_names=cat_names, cont_names=cont_names, procs=procs)"
   ]
  },
  {
   "cell_type": "code",
   "execution_count": 25,
   "metadata": {},
   "outputs": [
    {
     "name": "stdout",
     "output_type": "stream",
     "text": [
      "tab-v4-tuning-3-stage-4-hyper-30-0.001-0.2-fitted-export.pkl\n"
     ]
    }
   ],
   "source": [
    "model_export_pickle = f'{model_name}-30-{1e-3}-{0.20}-fitted-export.pkl'\n",
    "learn_pred = load_learner(path, model_export_pickle, test=test_data)\n",
    "print(model_export_pickle)"
   ]
  },
  {
   "cell_type": "code",
   "execution_count": 15,
   "metadata": {},
   "outputs": [],
   "source": [
    "preds,y = learn_pred.get_preds(ds_type=DatasetType.Test)"
   ]
  },
  {
   "cell_type": "code",
   "execution_count": 19,
   "metadata": {},
   "outputs": [],
   "source": [
    "pred_classes = [learn_pred.data.classes[cls] for cls in np.argmax(preds.numpy(), axis=1)]"
   ]
  },
  {
   "cell_type": "code",
   "execution_count": 22,
   "metadata": {},
   "outputs": [],
   "source": [
    "df_out = pd.DataFrame({'ID': df_test['ID'], 'root_cause': pred_classes})"
   ]
  },
  {
   "cell_type": "code",
   "execution_count": 23,
   "metadata": {
    "scrolled": true
   },
   "outputs": [
    {
     "data": {
      "text/html": [
       "<a href='data/mle_ops_tech_2019_04_28_18_30_tab-v4-tuning-3-stage-4-hyper.csv' target='_blank'>data/mle_ops_tech_2019_04_28_18_30_tab-v4-tuning-3-stage-4-hyper.csv</a><br>"
      ],
      "text/plain": [
       "/home/ec2-user/2019-ops-it-challenge/data/mle_ops_tech_2019_04_28_18_30_tab-v4-tuning-3-stage-4-hyper.csv"
      ]
     },
     "execution_count": 23,
     "metadata": {},
     "output_type": "execute_result"
    }
   ],
   "source": [
    "t = time.strftime('%Y_%m_%d_%H_%M')\n",
    "out_fname = path/f'mle_ops_tech_{t}_{model_name}.csv'\n",
    "df_out.to_csv(out_fname, index=False)\n",
    "FileLink(out_fname)"
   ]
  },
  {
   "cell_type": "markdown",
   "metadata": {},
   "source": [
    "* val_score: 0.586620\n",
    "* public leaderboard: 0.57175667112"
   ]
  },
  {
   "cell_type": "code",
   "execution_count": null,
   "metadata": {},
   "outputs": [],
   "source": []
  }
 ],
 "metadata": {
  "kernelspec": {
   "display_name": "Python 3",
   "language": "python",
   "name": "python3"
  },
  "language_info": {
   "codemirror_mode": {
    "name": "ipython",
    "version": 3
   },
   "file_extension": ".py",
   "mimetype": "text/x-python",
   "name": "python",
   "nbconvert_exporter": "python",
   "pygments_lexer": "ipython3",
   "version": "3.6.5"
  },
  "toc": {
   "base_numbering": 1,
   "nav_menu": {},
   "number_sections": true,
   "sideBar": true,
   "skip_h1_title": false,
   "title_cell": "Table of Contents",
   "title_sidebar": "Contents",
   "toc_cell": false,
   "toc_position": {},
   "toc_section_display": true,
   "toc_window_display": false
  }
 },
 "nbformat": 4,
 "nbformat_minor": 2
}
