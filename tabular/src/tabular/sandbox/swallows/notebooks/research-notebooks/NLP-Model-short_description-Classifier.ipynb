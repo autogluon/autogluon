{
 "cells": [
  {
   "cell_type": "code",
   "execution_count": 1,
   "metadata": {
    "ExecuteTime": {
     "end_time": "2019-05-11T05:07:08.918027Z",
     "start_time": "2019-05-11T05:07:08.906579Z"
    }
   },
   "outputs": [],
   "source": [
    "%reload_ext autoreload\n",
    "%autoreload 2"
   ]
  },
  {
   "cell_type": "code",
   "execution_count": 2,
   "metadata": {
    "ExecuteTime": {
     "end_time": "2019-05-11T05:07:11.906763Z",
     "start_time": "2019-05-11T05:07:10.408527Z"
    }
   },
   "outputs": [],
   "source": [
    "import pandas as pd\n",
    "from fastai import *\n",
    "from fastai.tabular import *\n",
    "from fastai.callbacks import *\n",
    "from fastai.text import *\n",
    "from fastai.data_block import *\n",
    "from fastai.metrics import *\n",
    "from sklearn.model_selection import StratifiedKFold\n",
    "from IPython.display import FileLink\n",
    "from sklearn.model_selection import *"
   ]
  },
  {
   "cell_type": "code",
   "execution_count": 3,
   "metadata": {
    "ExecuteTime": {
     "end_time": "2019-05-11T05:07:11.924563Z",
     "start_time": "2019-05-11T05:07:11.908638Z"
    }
   },
   "outputs": [],
   "source": [
    "model_name='short_description-60k'\n",
    "# model_name='full-60k'\n",
    "# model_name='full-30k'\n",
    "# model_name='samlple-30k'"
   ]
  },
  {
   "cell_type": "code",
   "execution_count": 4,
   "metadata": {
    "ExecuteTime": {
     "end_time": "2019-05-11T05:07:11.943160Z",
     "start_time": "2019-05-11T05:07:11.927369Z"
    }
   },
   "outputs": [],
   "source": [
    "path=Path('data')"
   ]
  },
  {
   "cell_type": "code",
   "execution_count": null,
   "metadata": {},
   "outputs": [],
   "source": []
  },
  {
   "cell_type": "code",
   "execution_count": null,
   "metadata": {},
   "outputs": [],
   "source": []
  },
  {
   "cell_type": "code",
   "execution_count": null,
   "metadata": {
    "ExecuteTime": {
     "start_time": "2019-05-11T05:02:07.847Z"
    }
   },
   "outputs": [],
   "source": [
    "df_raw = pd.read_parquet(path/'processed/training_stage_4.parquet', engine='fastparquet')"
   ]
  },
  {
   "cell_type": "code",
   "execution_count": 6,
   "metadata": {
    "ExecuteTime": {
     "end_time": "2019-05-11T01:15:20.373696Z",
     "start_time": "2019-05-11T01:15:20.251419Z"
    }
   },
   "outputs": [
    {
     "name": "stdout",
     "output_type": "stream",
     "text": [
      "Total cats: 960 with 1156151 items\n",
      "cats w/ >30 items: 276 with 99.67% coverage\n"
     ]
    }
   ],
   "source": [
    "df_root_cause_counts = pd.DataFrame(df_raw.groupby(['root_cause']).size().sort_values(ascending=False), columns=['count'])\n",
    "min_size = 30\n",
    "large_cats = df_root_cause_counts[df_root_cause_counts[\"count\"] > min_size]\n",
    "total_count = int(df_root_cause_counts.sum())\n",
    "total_big_enough_covered =float(large_cats.sum()*100/df_root_cause_counts.sum())\n",
    "print(f'Total cats: {len(df_root_cause_counts)} with {total_count} items')\n",
    "print(f'cats w/ >{min_size} items: {len(large_cats)} with {total_big_enough_covered:.2f}% coverage')"
   ]
  },
  {
   "cell_type": "code",
   "execution_count": 7,
   "metadata": {
    "ExecuteTime": {
     "end_time": "2019-05-11T01:15:23.934117Z",
     "start_time": "2019-05-11T01:15:23.054770Z"
    }
   },
   "outputs": [],
   "source": [
    "df_train = df_raw[df_raw['lang'] == 'en'][['short_description', 'root_cause']]\n",
    "train_data = df_train[df_train['root_cause'].isin(large_cats.reset_index()['root_cause'])]"
   ]
  },
  {
   "cell_type": "code",
   "execution_count": 10,
   "metadata": {
    "ExecuteTime": {
     "end_time": "2019-05-11T01:15:40.401176Z",
     "start_time": "2019-05-11T01:15:38.738876Z"
    }
   },
   "outputs": [],
   "source": [
    "split = train_test_split(range(len(train_data)), random_state=42, test_size=0.035, stratify=train_data['root_cause'])"
   ]
  },
  {
   "cell_type": "code",
   "execution_count": null,
   "metadata": {},
   "outputs": [],
   "source": []
  },
  {
   "cell_type": "code",
   "execution_count": null,
   "metadata": {},
   "outputs": [],
   "source": []
  },
  {
   "cell_type": "code",
   "execution_count": null,
   "metadata": {},
   "outputs": [],
   "source": [
    "##### Packaging for models"
   ]
  },
  {
   "cell_type": "code",
   "execution_count": 12,
   "metadata": {
    "ExecuteTime": {
     "end_time": "2019-05-11T01:28:42.507062Z",
     "start_time": "2019-05-11T01:23:47.902033Z"
    }
   },
   "outputs": [],
   "source": [
    "# bs=64\n",
    "# data_lm = load_data(path, f'data-lm-{model_name}.pkl', bs=bs)\n",
    "# data_clas = (TextList.from_df(train_data, path, vocab=data_lm.vocab)\n",
    "#              .split_by_idxs(split[0], split[1])\n",
    "#              .label_from_df('root_cause')\n",
    "#              .databunch(bs=bs))\n",
    "# data_clas.save(f'data_clas_{model_name}.pkl')"
   ]
  },
  {
   "cell_type": "code",
   "execution_count": null,
   "metadata": {},
   "outputs": [],
   "source": []
  },
  {
   "cell_type": "code",
   "execution_count": null,
   "metadata": {},
   "outputs": [],
   "source": []
  },
  {
   "cell_type": "code",
   "execution_count": 5,
   "metadata": {
    "ExecuteTime": {
     "end_time": "2019-05-11T05:07:52.989476Z",
     "start_time": "2019-05-11T05:07:16.538929Z"
    }
   },
   "outputs": [],
   "source": [
    "bs = 128 # 192 breaks in unfreeze(); 256 breaks in freeze(-3)\n",
    "data_clas = load_data(path, f'data_clas_{model_name}.pkl', bs=bs)"
   ]
  },
  {
   "cell_type": "code",
   "execution_count": null,
   "metadata": {},
   "outputs": [],
   "source": []
  },
  {
   "cell_type": "code",
   "execution_count": null,
   "metadata": {},
   "outputs": [],
   "source": []
  },
  {
   "cell_type": "markdown",
   "metadata": {},
   "source": [
    "### Classifier"
   ]
  },
  {
   "cell_type": "code",
   "execution_count": 12,
   "metadata": {
    "ExecuteTime": {
     "end_time": "2019-05-11T05:22:09.539827Z",
     "start_time": "2019-05-11T05:13:33.937346Z"
    }
   },
   "outputs": [
    {
     "data": {
      "text/html": [
       "Total time: 02:19 <p><table border=\"1\" class=\"dataframe\">\n",
       "  <thead>\n",
       "    <tr style=\"text-align: left;\">\n",
       "      <th>epoch</th>\n",
       "      <th>train_loss</th>\n",
       "      <th>valid_loss</th>\n",
       "      <th>accuracy</th>\n",
       "      <th>time</th>\n",
       "    </tr>\n",
       "  </thead>\n",
       "  <tbody>\n",
       "    <tr>\n",
       "      <td>0</td>\n",
       "      <td>2.122345</td>\n",
       "      <td>2.075880</td>\n",
       "      <td>0.410555</td>\n",
       "      <td>02:19</td>\n",
       "    </tr>\n",
       "  </tbody>\n",
       "</table>"
      ],
      "text/plain": [
       "<IPython.core.display.HTML object>"
      ]
     },
     "metadata": {},
     "output_type": "display_data"
    },
    {
     "data": {
      "text/html": [
       "Total time: 02:40 <p><table border=\"1\" class=\"dataframe\">\n",
       "  <thead>\n",
       "    <tr style=\"text-align: left;\">\n",
       "      <th>epoch</th>\n",
       "      <th>train_loss</th>\n",
       "      <th>valid_loss</th>\n",
       "      <th>accuracy</th>\n",
       "      <th>time</th>\n",
       "    </tr>\n",
       "  </thead>\n",
       "  <tbody>\n",
       "    <tr>\n",
       "      <td>0</td>\n",
       "      <td>2.063885</td>\n",
       "      <td>2.006952</td>\n",
       "      <td>0.423227</td>\n",
       "      <td>02:40</td>\n",
       "    </tr>\n",
       "  </tbody>\n",
       "</table>"
      ],
      "text/plain": [
       "<IPython.core.display.HTML object>"
      ]
     },
     "metadata": {},
     "output_type": "display_data"
    },
    {
     "data": {
      "text/html": [
       "Total time: 03:33 <p><table border=\"1\" class=\"dataframe\">\n",
       "  <thead>\n",
       "    <tr style=\"text-align: left;\">\n",
       "      <th>epoch</th>\n",
       "      <th>train_loss</th>\n",
       "      <th>valid_loss</th>\n",
       "      <th>accuracy</th>\n",
       "      <th>time</th>\n",
       "    </tr>\n",
       "  </thead>\n",
       "  <tbody>\n",
       "    <tr>\n",
       "      <td>0</td>\n",
       "      <td>2.049393</td>\n",
       "      <td>1.998162</td>\n",
       "      <td>0.425999</td>\n",
       "      <td>03:33</td>\n",
       "    </tr>\n",
       "  </tbody>\n",
       "</table>"
      ],
      "text/plain": [
       "<IPython.core.display.HTML object>"
      ]
     },
     "metadata": {},
     "output_type": "display_data"
    }
   ],
   "source": [
    "learn = text_classifier_learner(data_clas, AWD_LSTM, drop_mult=0.0)\n",
    "learn.load_encoder(f'{model_name}-tuned-enc')\n",
    "learn.fit_one_cycle(1, 2e-2, moms=(0.8, 0.7))\n",
    "learn.freeze_to(-2)\n",
    "learn.fit_one_cycle(1, slice(1e-3/(2.6**4),1e-3), moms=(0.8, 0.7))\n",
    "learn.freeze_to(-3)\n",
    "learn.fit_one_cycle(1, slice(1e-4/(2.6**4),1e-4), moms=(0.8, 0.7))"
   ]
  },
  {
   "cell_type": "code",
   "execution_count": 17,
   "metadata": {
    "ExecuteTime": {
     "end_time": "2019-05-11T05:45:34.504323Z",
     "start_time": "2019-05-11T05:23:43.101696Z"
    }
   },
   "outputs": [
    {
     "data": {
      "text/html": [
       "Total time: 15:42 <p><table border=\"1\" class=\"dataframe\">\n",
       "  <thead>\n",
       "    <tr style=\"text-align: left;\">\n",
       "      <th>epoch</th>\n",
       "      <th>train_loss</th>\n",
       "      <th>valid_loss</th>\n",
       "      <th>accuracy</th>\n",
       "      <th>time</th>\n",
       "    </tr>\n",
       "  </thead>\n",
       "  <tbody>\n",
       "    <tr>\n",
       "      <td>0</td>\n",
       "      <td>1.993981</td>\n",
       "      <td>1.989168</td>\n",
       "      <td>0.428243</td>\n",
       "      <td>04:46</td>\n",
       "    </tr>\n",
       "    <tr>\n",
       "      <td>1</td>\n",
       "      <td>2.013729</td>\n",
       "      <td>1.978530</td>\n",
       "      <td>0.430461</td>\n",
       "      <td>05:09</td>\n",
       "    </tr>\n",
       "    <tr>\n",
       "      <td>2</td>\n",
       "      <td>1.981924</td>\n",
       "      <td>1.978127</td>\n",
       "      <td>0.430699</td>\n",
       "      <td>05:42</td>\n",
       "    </tr>\n",
       "  </tbody>\n",
       "</table>"
      ],
      "text/plain": [
       "<IPython.core.display.HTML object>"
      ]
     },
     "metadata": {},
     "output_type": "display_data"
    },
    {
     "name": "stdout",
     "output_type": "stream",
     "text": [
      "Better model found at epoch 0 with accuracy value: 0.4282433092594147.\n",
      "Better model found at epoch 1 with accuracy value: 0.43046095967292786.\n",
      "Better model found at epoch 2 with accuracy value: 0.43069854378700256.\n"
     ]
    },
    {
     "data": {
      "text/html": [
       "Total time: 06:08 <p><table border=\"1\" class=\"dataframe\">\n",
       "  <thead>\n",
       "    <tr style=\"text-align: left;\">\n",
       "      <th>epoch</th>\n",
       "      <th>train_loss</th>\n",
       "      <th>valid_loss</th>\n",
       "      <th>accuracy</th>\n",
       "      <th>time</th>\n",
       "    </tr>\n",
       "  </thead>\n",
       "  <tbody>\n",
       "    <tr>\n",
       "      <td>0</td>\n",
       "      <td>1.986600</td>\n",
       "      <td>1.975588</td>\n",
       "      <td>0.430540</td>\n",
       "      <td>06:08</td>\n",
       "    </tr>\n",
       "  </tbody>\n",
       "</table>"
      ],
      "text/plain": [
       "<IPython.core.display.HTML object>"
      ]
     },
     "metadata": {},
     "output_type": "display_data"
    }
   ],
   "source": [
    "learn.unfreeze()\n",
    "callbacks = SaveModelCallback(learn, every='improvement', mode='max', monitor='accuracy', name=f'nlp-classifier-{model_name}-final')\n",
    "learn.fit_one_cycle(3, slice(1e-4/(2.6**4),1e-4), moms=(0.8, 0.7), callbacks=callbacks)"
   ]
  },
  {
   "cell_type": "code",
   "execution_count": null,
   "metadata": {},
   "outputs": [],
   "source": []
  }
 ],
 "metadata": {
  "kernelspec": {
   "display_name": "Python 3",
   "language": "python",
   "name": "python3"
  },
  "language_info": {
   "codemirror_mode": {
    "name": "ipython",
    "version": 3
   },
   "file_extension": ".py",
   "mimetype": "text/x-python",
   "name": "python",
   "nbconvert_exporter": "python",
   "pygments_lexer": "ipython3",
   "version": "3.6.5"
  }
 },
 "nbformat": 4,
 "nbformat_minor": 2
}
