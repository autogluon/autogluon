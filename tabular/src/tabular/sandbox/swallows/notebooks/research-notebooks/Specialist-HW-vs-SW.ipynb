{
 "cells": [
  {
   "cell_type": "code",
   "execution_count": 1,
   "metadata": {},
   "outputs": [],
   "source": [
    "%reload_ext autoreload\n",
    "%autoreload 2"
   ]
  },
  {
   "cell_type": "code",
   "execution_count": 2,
   "metadata": {},
   "outputs": [],
   "source": [
    "import pandas as pd\n",
    "from fastai import *\n",
    "from fastai.tabular import *\n",
    "from fastai.callbacks import *\n",
    "from fastai.text import *\n",
    "from fastai.data_block import *\n",
    "from fastai.metrics import *\n",
    "from sklearn.model_selection import StratifiedKFold\n",
    "from swallows.training import *\n",
    "from swallows.models import *\n",
    "import time\n",
    "from IPython.display import FileLink, FileLinks\n",
    "from swallows.plots import *\n",
    "from sklearn.feature_extraction.text import *"
   ]
  },
  {
   "cell_type": "code",
   "execution_count": 3,
   "metadata": {},
   "outputs": [],
   "source": [
    "path=Path('data')"
   ]
  },
  {
   "cell_type": "code",
   "execution_count": 4,
   "metadata": {},
   "outputs": [],
   "source": [
    "model_name = 'specialist-hw-vs-sw'\n",
    "level_1_output = ''"
   ]
  },
  {
   "cell_type": "markdown",
   "metadata": {},
   "source": [
    "# Data Packaging"
   ]
  },
  {
   "cell_type": "code",
   "execution_count": 5,
   "metadata": {},
   "outputs": [],
   "source": [
    "df_raw = pd.read_parquet(path/'processed/training_stage_4.parquet', engine='fastparquet')\n",
    "df_train = df_raw[df_raw['root_cause'].isin(['Hardware-Issue', 'Software-Issue'])].copy()"
   ]
  },
  {
   "cell_type": "code",
   "execution_count": 6,
   "metadata": {},
   "outputs": [],
   "source": [
    "# df_test_raw = pd.read_parquet(path/'processed/public_test_features_stage_4.parquet', engine='fastparquet')\n",
    "# df_test_preds = pd.read_csv(path/'mle_ops_tech_2019_05_04_06_40_ensemble-v4-100k.csv', low_memory=False)\n",
    "# df_test = df_test_raw.merge(df_test_preds, on='ID')\n",
    "# df_test = df_test[df_test['root_cause'].isin(['Hardware-Issue', 'Software-Issue'])]"
   ]
  },
  {
   "cell_type": "code",
   "execution_count": 58,
   "metadata": {},
   "outputs": [],
   "source": [
    "df_train['has_offline'] = df_train['details'].str.contains('offline')"
   ]
  },
  {
   "cell_type": "code",
   "execution_count": 23,
   "metadata": {},
   "outputs": [],
   "source": [
    "# splits_idxs = [s for s in gen_splits(10, df_train, 'root_cause')]\n",
    "# pickle.dump(splits_idxs, open(path/f'{model_name}_cv_splits-10.pkl', \"wb\"))\n",
    "splits_idxs = pickle.load(open(path/f'{model_name}_cv_splits-10.pkl', \"rb\"))\n",
    "split = splits_idxs[7]"
   ]
  },
  {
   "cell_type": "code",
   "execution_count": null,
   "metadata": {},
   "outputs": [],
   "source": []
  },
  {
   "cell_type": "markdown",
   "metadata": {},
   "source": [
    "### LM"
   ]
  },
  {
   "cell_type": "code",
   "execution_count": 116,
   "metadata": {},
   "outputs": [],
   "source": [
    "df_all = pd.DataFrame(df_train['details'] + ' ' +  df_train['short_description']).append(\n",
    "    pd.DataFrame(df_test['details'] + ' ' +  df_test['short_description']))\n",
    "          "
   ]
  },
  {
   "cell_type": "code",
   "execution_count": 117,
   "metadata": {
    "scrolled": true
   },
   "outputs": [
    {
     "name": "stdout",
     "output_type": "stream",
     "text": [
      "Vocabulary size 58357\n"
     ]
    }
   ],
   "source": [
    "# data_lm = (TextList.from_df(df_all, path=path)\n",
    "#            .split_by_rand_pct(0.05)\n",
    "#            .label_for_lm()\n",
    "#            .databunch(bs=192)\n",
    "#           )\n",
    "# data_lm.save(f'data-lm-{model_name}.pkl')\n",
    "# print(f'Vocabulary size {len(data_lm.vocab.itos)}')"
   ]
  },
  {
   "cell_type": "code",
   "execution_count": 7,
   "metadata": {},
   "outputs": [],
   "source": [
    "bs = 128 # 128 = 12502MiB (60k)\n",
    "data_lm = load_data(path, f'data-lm-{model_name}.pkl', bs=bs)"
   ]
  },
  {
   "cell_type": "code",
   "execution_count": 8,
   "metadata": {},
   "outputs": [],
   "source": [
    "learn_nlp = language_model_learner(data_lm, AWD_LSTM, drop_mult=0.3)"
   ]
  },
  {
   "cell_type": "code",
   "execution_count": null,
   "metadata": {},
   "outputs": [],
   "source": []
  },
  {
   "cell_type": "code",
   "execution_count": null,
   "metadata": {},
   "outputs": [],
   "source": []
  },
  {
   "cell_type": "code",
   "execution_count": 10,
   "metadata": {},
   "outputs": [
    {
     "data": {
      "text/html": [
       "Total time: 1:15:49 <p><table border=\"1\" class=\"dataframe\">\n",
       "  <thead>\n",
       "    <tr style=\"text-align: left;\">\n",
       "      <th>epoch</th>\n",
       "      <th>train_loss</th>\n",
       "      <th>valid_loss</th>\n",
       "      <th>accuracy</th>\n",
       "      <th>time</th>\n",
       "    </tr>\n",
       "  </thead>\n",
       "  <tbody>\n",
       "    <tr>\n",
       "      <td>0</td>\n",
       "      <td>2.518023</td>\n",
       "      <td>2.293311</td>\n",
       "      <td>0.580575</td>\n",
       "      <td>09:27</td>\n",
       "    </tr>\n",
       "    <tr>\n",
       "      <td>1</td>\n",
       "      <td>2.313419</td>\n",
       "      <td>2.120568</td>\n",
       "      <td>0.601166</td>\n",
       "      <td>09:29</td>\n",
       "    </tr>\n",
       "    <tr>\n",
       "      <td>2</td>\n",
       "      <td>2.258076</td>\n",
       "      <td>2.073198</td>\n",
       "      <td>0.607251</td>\n",
       "      <td>09:28</td>\n",
       "    </tr>\n",
       "    <tr>\n",
       "      <td>3</td>\n",
       "      <td>2.218266</td>\n",
       "      <td>2.039825</td>\n",
       "      <td>0.611271</td>\n",
       "      <td>09:28</td>\n",
       "    </tr>\n",
       "    <tr>\n",
       "      <td>4</td>\n",
       "      <td>2.145960</td>\n",
       "      <td>2.005709</td>\n",
       "      <td>0.616217</td>\n",
       "      <td>09:28</td>\n",
       "    </tr>\n",
       "    <tr>\n",
       "      <td>5</td>\n",
       "      <td>2.112012</td>\n",
       "      <td>1.976681</td>\n",
       "      <td>0.620113</td>\n",
       "      <td>09:28</td>\n",
       "    </tr>\n",
       "    <tr>\n",
       "      <td>6</td>\n",
       "      <td>2.069845</td>\n",
       "      <td>1.961042</td>\n",
       "      <td>0.622679</td>\n",
       "      <td>09:28</td>\n",
       "    </tr>\n",
       "    <tr>\n",
       "      <td>7</td>\n",
       "      <td>2.076217</td>\n",
       "      <td>1.958220</td>\n",
       "      <td>0.623144</td>\n",
       "      <td>09:29</td>\n",
       "    </tr>\n",
       "  </tbody>\n",
       "</table>"
      ],
      "text/plain": [
       "<IPython.core.display.HTML object>"
      ]
     },
     "metadata": {},
     "output_type": "display_data"
    },
    {
     "data": {
      "image/png": "[encoded data removed]",
      "text/plain": [
       "<Figure size 432x288 with 1 Axes>"
      ]
     },
     "metadata": {},
     "output_type": "display_data"
    }
   ],
   "source": [
    "learn_nlp.fit_one_cycle(8, 1e-2, moms=(0.8,0.7)); learn_nlp.recorder.plot_losses()"
   ]
  },
  {
   "cell_type": "code",
   "execution_count": 11,
   "metadata": {},
   "outputs": [],
   "source": [
    "learn_nlp.save(f'lm-{model_name}-1')"
   ]
  },
  {
   "cell_type": "code",
   "execution_count": 12,
   "metadata": {},
   "outputs": [],
   "source": [
    "learn_nlp.unfreeze()"
   ]
  },
  {
   "cell_type": "code",
   "execution_count": 13,
   "metadata": {},
   "outputs": [
    {
     "data": {
      "text/html": [],
      "text/plain": [
       "<IPython.core.display.HTML object>"
      ]
     },
     "metadata": {},
     "output_type": "display_data"
    },
    {
     "name": "stdout",
     "output_type": "stream",
     "text": [
      "LR Finder is complete, type {learner_name}.recorder.plot() to see the graph.\n"
     ]
    },
    {
     "data": {
      "image/png": "[encoded data removed]",
      "text/plain": [
       "<Figure size 432x288 with 1 Axes>"
      ]
     },
     "metadata": {},
     "output_type": "display_data"
    }
   ],
   "source": [
    "learn_nlp.lr_find(end_lr=1e-1); learn_nlp.recorder.plot()"
   ]
  },
  {
   "cell_type": "code",
   "execution_count": 14,
   "metadata": {},
   "outputs": [
    {
     "data": {
      "text/html": [
       "Total time: 52:56 <p><table border=\"1\" class=\"dataframe\">\n",
       "  <thead>\n",
       "    <tr style=\"text-align: left;\">\n",
       "      <th>epoch</th>\n",
       "      <th>train_loss</th>\n",
       "      <th>valid_loss</th>\n",
       "      <th>accuracy</th>\n",
       "      <th>time</th>\n",
       "    </tr>\n",
       "  </thead>\n",
       "  <tbody>\n",
       "    <tr>\n",
       "      <td>0</td>\n",
       "      <td>1.970656</td>\n",
       "      <td>1.913850</td>\n",
       "      <td>0.628602</td>\n",
       "      <td>10:36</td>\n",
       "    </tr>\n",
       "    <tr>\n",
       "      <td>1</td>\n",
       "      <td>1.875517</td>\n",
       "      <td>1.863964</td>\n",
       "      <td>0.635741</td>\n",
       "      <td>10:35</td>\n",
       "    </tr>\n",
       "    <tr>\n",
       "      <td>2</td>\n",
       "      <td>1.871585</td>\n",
       "      <td>1.838721</td>\n",
       "      <td>0.639355</td>\n",
       "      <td>10:35</td>\n",
       "    </tr>\n",
       "    <tr>\n",
       "      <td>3</td>\n",
       "      <td>1.870232</td>\n",
       "      <td>1.828556</td>\n",
       "      <td>0.641077</td>\n",
       "      <td>10:34</td>\n",
       "    </tr>\n",
       "    <tr>\n",
       "      <td>4</td>\n",
       "      <td>1.859303</td>\n",
       "      <td>1.826980</td>\n",
       "      <td>0.641287</td>\n",
       "      <td>10:35</td>\n",
       "    </tr>\n",
       "  </tbody>\n",
       "</table>"
      ],
      "text/plain": [
       "<IPython.core.display.HTML object>"
      ]
     },
     "metadata": {},
     "output_type": "display_data"
    }
   ],
   "source": [
    "learn_nlp.fit_one_cycle(5, 5e-5, moms=(0.8,0.7))"
   ]
  },
  {
   "cell_type": "code",
   "execution_count": 15,
   "metadata": {},
   "outputs": [],
   "source": [
    "learn_nlp.save(f'lm-{model_name}-tuned')"
   ]
  },
  {
   "cell_type": "code",
   "execution_count": 16,
   "metadata": {},
   "outputs": [],
   "source": [
    "learn_nlp.save_encoder(f'{model_name}-tuned-enc')"
   ]
  },
  {
   "cell_type": "code",
   "execution_count": 14,
   "metadata": {},
   "outputs": [
    {
     "data": {
      "text/html": [
       "Total time: 52:56 <p><table border=\"1\" class=\"dataframe\">\n",
       "  <thead>\n",
       "    <tr style=\"text-align: left;\">\n",
       "      <th>epoch</th>\n",
       "      <th>train_loss</th>\n",
       "      <th>valid_loss</th>\n",
       "      <th>accuracy</th>\n",
       "      <th>time</th>\n",
       "    </tr>\n",
       "  </thead>\n",
       "  <tbody>\n",
       "    <tr>\n",
       "      <td>0</td>\n",
       "      <td>1.842417</td>\n",
       "      <td>1.825507</td>\n",
       "      <td>0.641544</td>\n",
       "      <td>10:34</td>\n",
       "    </tr>\n",
       "    <tr>\n",
       "      <td>1</td>\n",
       "      <td>1.840829</td>\n",
       "      <td>1.821212</td>\n",
       "      <td>0.642273</td>\n",
       "      <td>10:35</td>\n",
       "    </tr>\n",
       "    <tr>\n",
       "      <td>2</td>\n",
       "      <td>1.833748</td>\n",
       "      <td>1.817685</td>\n",
       "      <td>0.642749</td>\n",
       "      <td>10:34</td>\n",
       "    </tr>\n",
       "    <tr>\n",
       "      <td>3</td>\n",
       "      <td>1.864089</td>\n",
       "      <td>1.816044</td>\n",
       "      <td>0.642934</td>\n",
       "      <td>10:35</td>\n",
       "    </tr>\n",
       "    <tr>\n",
       "      <td>4</td>\n",
       "      <td>1.843517</td>\n",
       "      <td>1.815801</td>\n",
       "      <td>0.643000</td>\n",
       "      <td>10:35</td>\n",
       "    </tr>\n",
       "  </tbody>\n",
       "</table>"
      ],
      "text/plain": [
       "<IPython.core.display.HTML object>"
      ]
     },
     "metadata": {},
     "output_type": "display_data"
    }
   ],
   "source": [
    "learn_nlp.fit_one_cycle(5, 1e-5, moms=(0.8,0.7))"
   ]
  },
  {
   "cell_type": "code",
   "execution_count": 15,
   "metadata": {},
   "outputs": [],
   "source": [
    "learn_nlp.save(f'lm-{model_name}-tuned')"
   ]
  },
  {
   "cell_type": "code",
   "execution_count": 16,
   "metadata": {},
   "outputs": [],
   "source": [
    "learn_nlp.save_encoder(f'{model_name}-tuned-enc')"
   ]
  },
  {
   "cell_type": "code",
   "execution_count": 13,
   "metadata": {},
   "outputs": [
    {
     "data": {
      "image/png": "[encoded data removed]",
      "text/plain": [
       "<Figure size 432x288 with 1 Axes>"
      ]
     },
     "metadata": {},
     "output_type": "display_data"
    }
   ],
   "source": [
    "learn_nlp.recorder.plot(skip_end=20)"
   ]
  },
  {
   "cell_type": "markdown",
   "metadata": {},
   "source": [
    "#### NLP Classifier"
   ]
  },
  {
   "cell_type": "code",
   "execution_count": 21,
   "metadata": {},
   "outputs": [],
   "source": [
    "clas_text = pd.DataFrame({'text': df_train['details'] + ' ' +  df_train['short_description'], 'root_cause': df_train['root_cause']})"
   ]
  },
  {
   "cell_type": "code",
   "execution_count": 6,
   "metadata": {},
   "outputs": [],
   "source": [
    "# bs=64\n",
    "# data_lm = load_data(path, f'data-lm-{model_name}.pkl', bs=bs)\n",
    "# data_clas = (TextList.from_df(clas_text, path, vocab=data_lm.vocab)\n",
    "#              .split_by_idxs(split[0], split[1])\n",
    "#              .label_from_df('root_cause')\n",
    "#              .databunch(bs=bs))\n",
    "# data_clas.save(f'data_clas_{model_name}.pkl')\n",
    "data_clas = load_data(path, f'data_clas_{model_name}.pkl')"
   ]
  },
  {
   "cell_type": "code",
   "execution_count": 25,
   "metadata": {},
   "outputs": [],
   "source": [
    "learn = text_classifier_learner(data_clas, AWD_LSTM, drop_mult=0.5)\n",
    "learn.load_encoder(f'{model_name}-tuned-enc')"
   ]
  },
  {
   "cell_type": "code",
   "execution_count": 26,
   "metadata": {},
   "outputs": [
    {
     "data": {
      "text/html": [
       "Total time: 02:36 <p><table border=\"1\" class=\"dataframe\">\n",
       "  <thead>\n",
       "    <tr style=\"text-align: left;\">\n",
       "      <th>epoch</th>\n",
       "      <th>train_loss</th>\n",
       "      <th>valid_loss</th>\n",
       "      <th>accuracy</th>\n",
       "      <th>time</th>\n",
       "    </tr>\n",
       "  </thead>\n",
       "  <tbody>\n",
       "    <tr>\n",
       "      <td>0</td>\n",
       "      <td>0.538497</td>\n",
       "      <td>0.480920</td>\n",
       "      <td>0.776280</td>\n",
       "      <td>02:36</td>\n",
       "    </tr>\n",
       "  </tbody>\n",
       "</table>"
      ],
      "text/plain": [
       "<IPython.core.display.HTML object>"
      ]
     },
     "metadata": {},
     "output_type": "display_data"
    },
    {
     "data": {
      "image/png": "[encoded data removed]",
      "text/plain": [
       "<Figure size 432x288 with 1 Axes>"
      ]
     },
     "metadata": {},
     "output_type": "display_data"
    }
   ],
   "source": [
    "learn.fit_one_cycle(1, 2e-2, moms=(0.8, 0.7)); learn.recorder.plot_losses()"
   ]
  },
  {
   "cell_type": "code",
   "execution_count": 28,
   "metadata": {},
   "outputs": [],
   "source": [
    "learn.save(f'{model_name}-nlp-1')"
   ]
  },
  {
   "cell_type": "code",
   "execution_count": 29,
   "metadata": {},
   "outputs": [
    {
     "data": {
      "text/html": [
       "Total time: 03:00 <p><table border=\"1\" class=\"dataframe\">\n",
       "  <thead>\n",
       "    <tr style=\"text-align: left;\">\n",
       "      <th>epoch</th>\n",
       "      <th>train_loss</th>\n",
       "      <th>valid_loss</th>\n",
       "      <th>accuracy</th>\n",
       "      <th>time</th>\n",
       "    </tr>\n",
       "  </thead>\n",
       "  <tbody>\n",
       "    <tr>\n",
       "      <td>0</td>\n",
       "      <td>0.512081</td>\n",
       "      <td>0.477063</td>\n",
       "      <td>0.779116</td>\n",
       "      <td>03:00</td>\n",
       "    </tr>\n",
       "  </tbody>\n",
       "</table>"
      ],
      "text/plain": [
       "<IPython.core.display.HTML object>"
      ]
     },
     "metadata": {},
     "output_type": "display_data"
    },
    {
     "data": {
      "image/png": "[encoded data removed]",
      "text/plain": [
       "<Figure size 432x288 with 1 Axes>"
      ]
     },
     "metadata": {},
     "output_type": "display_data"
    }
   ],
   "source": [
    "learn.freeze_to(-2)\n",
    "learn.fit_one_cycle(1, slice(1e-4/(2.6**4),1e-4), moms=(0.8, 0.7)); learn.recorder.plot_losses()"
   ]
  },
  {
   "cell_type": "code",
   "execution_count": 32,
   "metadata": {},
   "outputs": [
    {
     "data": {
      "text/html": [
       "Total time: 04:36 <p><table border=\"1\" class=\"dataframe\">\n",
       "  <thead>\n",
       "    <tr style=\"text-align: left;\">\n",
       "      <th>epoch</th>\n",
       "      <th>train_loss</th>\n",
       "      <th>valid_loss</th>\n",
       "      <th>accuracy</th>\n",
       "      <th>time</th>\n",
       "    </tr>\n",
       "  </thead>\n",
       "  <tbody>\n",
       "    <tr>\n",
       "      <td>0</td>\n",
       "      <td>0.490323</td>\n",
       "      <td>0.455898</td>\n",
       "      <td>0.790269</td>\n",
       "      <td>04:36</td>\n",
       "    </tr>\n",
       "  </tbody>\n",
       "</table>"
      ],
      "text/plain": [
       "<IPython.core.display.HTML object>"
      ]
     },
     "metadata": {},
     "output_type": "display_data"
    },
    {
     "data": {
      "image/png": "[encoded data removed]",
      "text/plain": [
       "<Figure size 432x288 with 1 Axes>"
      ]
     },
     "metadata": {},
     "output_type": "display_data"
    }
   ],
   "source": [
    "learn.freeze_to(-3)\n",
    "learn.fit_one_cycle(1, slice(1e-3/(2.6**4),1e-3), moms=(0.8, 0.7)); learn.recorder.plot_losses()"
   ]
  },
  {
   "cell_type": "code",
   "execution_count": 33,
   "metadata": {},
   "outputs": [],
   "source": [
    "learn.save(f'{model_name}-nlp-2')"
   ]
  },
  {
   "cell_type": "code",
   "execution_count": 48,
   "metadata": {},
   "outputs": [
    {
     "data": {
      "text/html": [
       "Total time: 19:54 <p><table border=\"1\" class=\"dataframe\">\n",
       "  <thead>\n",
       "    <tr style=\"text-align: left;\">\n",
       "      <th>epoch</th>\n",
       "      <th>train_loss</th>\n",
       "      <th>valid_loss</th>\n",
       "      <th>accuracy</th>\n",
       "      <th>time</th>\n",
       "    </tr>\n",
       "  </thead>\n",
       "  <tbody>\n",
       "    <tr>\n",
       "      <td>0</td>\n",
       "      <td>0.474778</td>\n",
       "      <td>0.455101</td>\n",
       "      <td>0.791241</td>\n",
       "      <td>06:20</td>\n",
       "    </tr>\n",
       "    <tr>\n",
       "      <td>1</td>\n",
       "      <td>0.480546</td>\n",
       "      <td>0.454668</td>\n",
       "      <td>0.790969</td>\n",
       "      <td>06:49</td>\n",
       "    </tr>\n",
       "    <tr>\n",
       "      <td>2</td>\n",
       "      <td>0.484284</td>\n",
       "      <td>0.454310</td>\n",
       "      <td>0.791513</td>\n",
       "      <td>06:39</td>\n",
       "    </tr>\n",
       "  </tbody>\n",
       "</table>"
      ],
      "text/plain": [
       "<IPython.core.display.HTML object>"
      ]
     },
     "metadata": {},
     "output_type": "display_data"
    },
    {
     "name": "stdout",
     "output_type": "stream",
     "text": [
      "Better model found at epoch 0 with accuracy value: 0.7912408113479614.\n",
      "Better model found at epoch 2 with accuracy value: 0.7915128469467163.\n"
     ]
    },
    {
     "data": {
      "image/png": "[encoded data removed]",
      "text/plain": [
       "<Figure size 432x288 with 1 Axes>"
      ]
     },
     "metadata": {},
     "output_type": "display_data"
    }
   ],
   "source": [
    "learn.unfreeze()\n",
    "callbacks = SaveModelCallback(learn, every='improvement', mode='max', monitor='accuracy', name=f'{model_name}-nlp-final')\n",
    "learn.fit_one_cycle(3, slice(1e-5/(2.6**4),1e-5), moms=(0.8, 0.7), callbacks=callbacks); learn.recorder.plot_losses()"
   ]
  },
  {
   "cell_type": "code",
   "execution_count": 49,
   "metadata": {
    "collapsed": true
   },
   "outputs": [
    {
     "data": {
      "text/plain": [
       "RNNLearner(data=TextClasDataBunch;\n",
       "\n",
       "Train: LabelList (231607 items)\n",
       "x: TextList\n",
       "xxbos xxwfssworkflow xxup it support , xxmaj problem xxmaj location : xxup icqa desk xxmaj device xxup os : xxmaj windows xxmaj problem xxmaj description : java updates need admin password xxmaj please assist xxmaj asset xxmaj number : . . xxunk help xxmaj software xxmaj installation xxmaj request,xxbos xxwfssworkflow xxup it support , xxmaj device xxmaj model / xxmaj brand : xxup hp xxmaj mobile xxmaj cart xxup ib 6 ( # 21 ) xxmaj device xxmaj location : 3rd floor red tag area xxmaj problem xxmaj description : xxmaj printmon not downloaded on xxunk xxmaj computer ca n't connect to internet . . ethadodd help xxmaj mobile xxmaj cart,xxbos xxmaj workflow name : xxmaj screen or xxmaj monitor xxmaj issue warehouseid : xxup las2 xxmaj device xxmaj name / xxmaj workstation xxmaj location : xxup crets station 4 - 26 xxmaj problem xxmaj description : xxmaj keyboard not working properly . i help xxmaj screen or xxmaj monitor xxmaj issue,xxbos xxmaj login : xxunk xxmaj site : xxup dbo2 xxmaj my outlook email photo does not match my phonetool picture . xxunk xxup pm xxmaj incoming xxmaj outlook xxmaj picture xxmaj inquiry,xxbos xxwfssworkflow xxup it support , xxmaj device xxmaj model / xxmaj brand : xxmaj device xxmaj location : xxmaj problem xxmaj description : . . mirosari - i help xxmaj other xxmaj devices / xxmaj equipment xxmaj issues\n",
       "y: CategoryList\n",
       "Software-Issue,Software-Issue,Hardware-Issue,Software-Issue,Hardware-Issue\n",
       "Path: data;\n",
       "\n",
       "Valid: LabelList (25733 items)\n",
       "x: TextList\n",
       "xxbos xxmaj workflow name : xxmaj labels xxmaj installation - xxmaj zebra 600 m warehouseid : xxup man1 xxmaj printer xxmaj model : xxmaj zebra 600 m xxmaj printer xxmaj name / xxmaj workstation xxmaj location : xxup p1- xxmaj receive xxmaj lane 2 xxmaj problem xxmaj description : xxmaj printer from dock remained out of ink . apostolv help xxmaj labels xxmaj installation - 600 m,xxbos check - in_offline uptime_offline video_offline taper_offline 1900_offline keyboard_offline mouse_offline gx420d_offline signal_offline ip_offline mac_offline serial_offline reboot_offline xxmaj client xxmaj serial : 0 xxmaj client xxup mac : 0 xxmaj defect xxmaj detected at 303 in xxmaj line 03,xxbos gx420d_offline xxmaj client xxserial xxmaj client xxup mac : xxmac xxmaj defect xxmaj detected at wsafe2_62_02 in xxmaj pack,xxbos xxmaj workflow name : xxmaj printer xxmaj not xxmaj responding / xxmaj not xxmaj printing / xxmaj error warehouseid : xxup ont9 xxmaj printer xxmaj model : xxup hp xxmaj laserjet xxup mfp 200 series xxmaj printer xxmaj name / xxmaj workstation xxmaj location : xxup ont9-prt - xxup mfp-12 xxmaj problem xxmaj description : xxmaj printer does not get print jobs from xxup wcpm . xxmaj can not connect over https to web console , or ping from another device on xxup lan . xxmaj printer is connected to live port and is powered on . . help xxmaj printer xxmaj not xxmaj responding / xxmaj not xxmaj printing / xxmaj error,xxbos xxmaj both stations are n't working , please fix xxmaj station and issue\n",
       "y: CategoryList\n",
       "Hardware-Issue,Hardware-Issue,Hardware-Issue,Hardware-Issue,Hardware-Issue\n",
       "Path: data;\n",
       "\n",
       "Test: None, model=SequentialRNN(\n",
       "  (0): MultiBatchEncoder(\n",
       "    (module): AWD_LSTM(\n",
       "      (encoder): Embedding(58357, 400, padding_idx=1)\n",
       "      (encoder_dp): EmbeddingDropout(\n",
       "        (emb): Embedding(58357, 400, padding_idx=1)\n",
       "      )\n",
       "      (rnns): ModuleList(\n",
       "        (0): WeightDropout(\n",
       "          (module): LSTM(400, 1150, batch_first=True)\n",
       "        )\n",
       "        (1): WeightDropout(\n",
       "          (module): LSTM(1150, 1150, batch_first=True)\n",
       "        )\n",
       "        (2): WeightDropout(\n",
       "          (module): LSTM(1150, 400, batch_first=True)\n",
       "        )\n",
       "      )\n",
       "      (input_dp): RNNDropout()\n",
       "      (hidden_dps): ModuleList(\n",
       "        (0): RNNDropout()\n",
       "        (1): RNNDropout()\n",
       "        (2): RNNDropout()\n",
       "      )\n",
       "    )\n",
       "  )\n",
       "  (1): PoolingLinearClassifier(\n",
       "    (layers): Sequential(\n",
       "      (0): BatchNorm1d(1200, eps=1e-05, momentum=0.1, affine=True, track_running_stats=True)\n",
       "      (1): Dropout(p=0.2)\n",
       "      (2): Linear(in_features=1200, out_features=50, bias=True)\n",
       "      (3): ReLU(inplace)\n",
       "      (4): BatchNorm1d(50, eps=1e-05, momentum=0.1, affine=True, track_running_stats=True)\n",
       "      (5): Dropout(p=0.1)\n",
       "      (6): Linear(in_features=50, out_features=2, bias=True)\n",
       "    )\n",
       "  )\n",
       "), opt_func=functools.partial(<class 'torch.optim.adam.Adam'>, betas=(0.9, 0.99)), loss_func=FlattenedLoss of CrossEntropyLoss(), metrics=[<function accuracy at 0x7fef5b20a6a8>], true_wd=True, bn_wd=True, wd=0.01, train_bn=True, path=PosixPath('data'), model_dir='models', callback_fns=[functools.partial(<class 'fastai.basic_train.Recorder'>, add_time=True)], callbacks=[RNNTrainer\n",
       "learn: RNNLearner(data=TextClasDataBunch;\n",
       "\n",
       "Train: LabelList (231607 items)\n",
       "x: TextList\n",
       "xxbos xxwfssworkflow xxup it support , xxmaj problem xxmaj location : xxup icqa desk xxmaj device xxup os : xxmaj windows xxmaj problem xxmaj description : java updates need admin password xxmaj please assist xxmaj asset xxmaj number : . . xxunk help xxmaj software xxmaj installation xxmaj request,xxbos xxwfssworkflow xxup it support , xxmaj device xxmaj model / xxmaj brand : xxup hp xxmaj mobile xxmaj cart xxup ib 6 ( # 21 ) xxmaj device xxmaj location : 3rd floor red tag area xxmaj problem xxmaj description : xxmaj printmon not downloaded on xxunk xxmaj computer ca n't connect to internet . . ethadodd help xxmaj mobile xxmaj cart,xxbos xxmaj workflow name : xxmaj screen or xxmaj monitor xxmaj issue warehouseid : xxup las2 xxmaj device xxmaj name / xxmaj workstation xxmaj location : xxup crets station 4 - 26 xxmaj problem xxmaj description : xxmaj keyboard not working properly . i help xxmaj screen or xxmaj monitor xxmaj issue,xxbos xxmaj login : xxunk xxmaj site : xxup dbo2 xxmaj my outlook email photo does not match my phonetool picture . xxunk xxup pm xxmaj incoming xxmaj outlook xxmaj picture xxmaj inquiry,xxbos xxwfssworkflow xxup it support , xxmaj device xxmaj model / xxmaj brand : xxmaj device xxmaj location : xxmaj problem xxmaj description : . . mirosari - i help xxmaj other xxmaj devices / xxmaj equipment xxmaj issues\n",
       "y: CategoryList\n",
       "Software-Issue,Software-Issue,Hardware-Issue,Software-Issue,Hardware-Issue\n",
       "Path: data;\n",
       "\n",
       "Valid: LabelList (25733 items)\n",
       "x: TextList\n",
       "xxbos xxmaj workflow name : xxmaj labels xxmaj installation - xxmaj zebra 600 m warehouseid : xxup man1 xxmaj printer xxmaj model : xxmaj zebra 600 m xxmaj printer xxmaj name / xxmaj workstation xxmaj location : xxup p1- xxmaj receive xxmaj lane 2 xxmaj problem xxmaj description : xxmaj printer from dock remained out of ink . apostolv help xxmaj labels xxmaj installation - 600 m,xxbos check - in_offline uptime_offline video_offline taper_offline 1900_offline keyboard_offline mouse_offline gx420d_offline signal_offline ip_offline mac_offline serial_offline reboot_offline xxmaj client xxmaj serial : 0 xxmaj client xxup mac : 0 xxmaj defect xxmaj detected at 303 in xxmaj line 03,xxbos gx420d_offline xxmaj client xxserial xxmaj client xxup mac : xxmac xxmaj defect xxmaj detected at wsafe2_62_02 in xxmaj pack,xxbos xxmaj workflow name : xxmaj printer xxmaj not xxmaj responding / xxmaj not xxmaj printing / xxmaj error warehouseid : xxup ont9 xxmaj printer xxmaj model : xxup hp xxmaj laserjet xxup mfp 200 series xxmaj printer xxmaj name / xxmaj workstation xxmaj location : xxup ont9-prt - xxup mfp-12 xxmaj problem xxmaj description : xxmaj printer does not get print jobs from xxup wcpm . xxmaj can not connect over https to web console , or ping from another device on xxup lan . xxmaj printer is connected to live port and is powered on . . help xxmaj printer xxmaj not xxmaj responding / xxmaj not xxmaj printing / xxmaj error,xxbos xxmaj both stations are n't working , please fix xxmaj station and issue\n",
       "y: CategoryList\n",
       "Hardware-Issue,Hardware-Issue,Hardware-Issue,Hardware-Issue,Hardware-Issue\n",
       "Path: data;\n",
       "\n",
       "Test: None, model=SequentialRNN(\n",
       "  (0): MultiBatchEncoder(\n",
       "    (module): AWD_LSTM(\n",
       "      (encoder): Embedding(58357, 400, padding_idx=1)\n",
       "      (encoder_dp): EmbeddingDropout(\n",
       "        (emb): Embedding(58357, 400, padding_idx=1)\n",
       "      )\n",
       "      (rnns): ModuleList(\n",
       "        (0): WeightDropout(\n",
       "          (module): LSTM(400, 1150, batch_first=True)\n",
       "        )\n",
       "        (1): WeightDropout(\n",
       "          (module): LSTM(1150, 1150, batch_first=True)\n",
       "        )\n",
       "        (2): WeightDropout(\n",
       "          (module): LSTM(1150, 400, batch_first=True)\n",
       "        )\n",
       "      )\n",
       "      (input_dp): RNNDropout()\n",
       "      (hidden_dps): ModuleList(\n",
       "        (0): RNNDropout()\n",
       "        (1): RNNDropout()\n",
       "        (2): RNNDropout()\n",
       "      )\n",
       "    )\n",
       "  )\n",
       "  (1): PoolingLinearClassifier(\n",
       "    (layers): Sequential(\n",
       "      (0): BatchNorm1d(1200, eps=1e-05, momentum=0.1, affine=True, track_running_stats=True)\n",
       "      (1): Dropout(p=0.2)\n",
       "      (2): Linear(in_features=1200, out_features=50, bias=True)\n",
       "      (3): ReLU(inplace)\n",
       "      (4): BatchNorm1d(50, eps=1e-05, momentum=0.1, affine=True, track_running_stats=True)\n",
       "      (5): Dropout(p=0.1)\n",
       "      (6): Linear(in_features=50, out_features=2, bias=True)\n",
       "    )\n",
       "  )\n",
       "), opt_func=functools.partial(<class 'torch.optim.adam.Adam'>, betas=(0.9, 0.99)), loss_func=FlattenedLoss of CrossEntropyLoss(), metrics=[<function accuracy at 0x7fef5b20a6a8>], true_wd=True, bn_wd=True, wd=0.01, train_bn=True, path=PosixPath('data'), model_dir='models', callback_fns=[functools.partial(<class 'fastai.basic_train.Recorder'>, add_time=True)], callbacks=[...], layer_groups=[Sequential(\n",
       "  (0): Embedding(58357, 400, padding_idx=1)\n",
       "  (1): EmbeddingDropout(\n",
       "    (emb): Embedding(58357, 400, padding_idx=1)\n",
       "  )\n",
       "), Sequential(\n",
       "  (0): WeightDropout(\n",
       "    (module): LSTM(400, 1150, batch_first=True)\n",
       "  )\n",
       "  (1): RNNDropout()\n",
       "), Sequential(\n",
       "  (0): WeightDropout(\n",
       "    (module): LSTM(1150, 1150, batch_first=True)\n",
       "  )\n",
       "  (1): RNNDropout()\n",
       "), Sequential(\n",
       "  (0): WeightDropout(\n",
       "    (module): LSTM(1150, 400, batch_first=True)\n",
       "  )\n",
       "  (1): RNNDropout()\n",
       "), Sequential(\n",
       "  (0): PoolingLinearClassifier(\n",
       "    (layers): Sequential(\n",
       "      (0): BatchNorm1d(1200, eps=1e-05, momentum=0.1, affine=True, track_running_stats=True)\n",
       "      (1): Dropout(p=0.2)\n",
       "      (2): Linear(in_features=1200, out_features=50, bias=True)\n",
       "      (3): ReLU(inplace)\n",
       "      (4): BatchNorm1d(50, eps=1e-05, momentum=0.1, affine=True, track_running_stats=True)\n",
       "      (5): Dropout(p=0.1)\n",
       "      (6): Linear(in_features=50, out_features=2, bias=True)\n",
       "    )\n",
       "  )\n",
       ")], add_time=True)\n",
       "alpha: 2.0\n",
       "beta: 1.0], layer_groups=[Sequential(\n",
       "  (0): Embedding(58357, 400, padding_idx=1)\n",
       "  (1): EmbeddingDropout(\n",
       "    (emb): Embedding(58357, 400, padding_idx=1)\n",
       "  )\n",
       "), Sequential(\n",
       "  (0): WeightDropout(\n",
       "    (module): LSTM(400, 1150, batch_first=True)\n",
       "  )\n",
       "  (1): RNNDropout()\n",
       "), Sequential(\n",
       "  (0): WeightDropout(\n",
       "    (module): LSTM(1150, 1150, batch_first=True)\n",
       "  )\n",
       "  (1): RNNDropout()\n",
       "), Sequential(\n",
       "  (0): WeightDropout(\n",
       "    (module): LSTM(1150, 400, batch_first=True)\n",
       "  )\n",
       "  (1): RNNDropout()\n",
       "), Sequential(\n",
       "  (0): PoolingLinearClassifier(\n",
       "    (layers): Sequential(\n",
       "      (0): BatchNorm1d(1200, eps=1e-05, momentum=0.1, affine=True, track_running_stats=True)\n",
       "      (1): Dropout(p=0.2)\n",
       "      (2): Linear(in_features=1200, out_features=50, bias=True)\n",
       "      (3): ReLU(inplace)\n",
       "      (4): BatchNorm1d(50, eps=1e-05, momentum=0.1, affine=True, track_running_stats=True)\n",
       "      (5): Dropout(p=0.1)\n",
       "      (6): Linear(in_features=50, out_features=2, bias=True)\n",
       "    )\n",
       "  )\n",
       ")], add_time=True)"
      ]
     },
     "execution_count": 49,
     "metadata": {},
     "output_type": "execute_result"
    }
   ],
   "source": [
    "learn.load(f'{model_name}-nlp-final')"
   ]
  },
  {
   "cell_type": "code",
   "execution_count": 50,
   "metadata": {},
   "outputs": [
    {
     "data": {
      "image/png": "[encoded data removed]",
      "text/plain": [
       "<Figure size 432x288 with 1 Axes>"
      ]
     },
     "metadata": {},
     "output_type": "display_data"
    }
   ],
   "source": [
    "interp = ClassificationInterpretation.from_learner(learn)\n",
    "interp.plot_confusion_matrix()"
   ]
  },
  {
   "cell_type": "code",
   "execution_count": null,
   "metadata": {},
   "outputs": [],
   "source": []
  },
  {
   "cell_type": "markdown",
   "metadata": {},
   "source": [
    "## Tabular"
   ]
  },
  {
   "cell_type": "code",
   "execution_count": 51,
   "metadata": {},
   "outputs": [],
   "source": [
    "cont_names = [] # [f'tok_{i}' for i in range(n_tok)]  #['create_to_assigned_lag_log']\n",
    "exclude_from_cats = [\n",
    "    'ID', \n",
    "    'assigned_date',\n",
    "    'create_date',\n",
    "    'details',\n",
    "    'short_description',\n",
    "    'amazon_domains',\n",
    "    'root_cause',\n",
    "    'create_to_assigned_lag'\n",
    "    'create_to_assigned_lag_log',\n",
    "    'assigned_date_Elapsed'\n",
    "    'create_date_Elapsed',\n",
    "    'details_tok'\n",
    "] + cont_names\n",
    "\n",
    "cat_names = [c for c in df_train.columns if c not in exclude_from_cats]\n",
    "dep_var = 'root_cause'\n",
    "procs = [FillMissing, Categorify, Normalize]"
   ]
  },
  {
   "cell_type": "code",
   "execution_count": 9,
   "metadata": {},
   "outputs": [],
   "source": [
    "bs=1024\n",
    "# # test = TabularList.from_df(df_test[cat_names + cont_names], path=path, cat_names=cat_names, cont_names=cont_names)\n",
    "# data_tab = (TabularList.from_df(df_train,\n",
    "#                             path=path, cat_names=cat_names, cont_names=cont_names, procs=procs)\n",
    "#                            .split_by_idxs(split[0], split[1])\n",
    "#                            .label_from_df(cols=dep_var)\n",
    "# #                            .add_test(test)\n",
    "#                            .databunch(bs=bs))\n",
    "# data_tab.save(f'data_tab_{model_name}.pkl')\n",
    "\n",
    "data_tab = load_data(path, f'data_tab_{model_name}.pkl', bs=bs)"
   ]
  },
  {
   "cell_type": "markdown",
   "metadata": {},
   "source": [
    "# Training"
   ]
  },
  {
   "cell_type": "code",
   "execution_count": 56,
   "metadata": {},
   "outputs": [],
   "source": [
    "learn = tabular_learner(data_tab, layers=[727,353], ps=0.5, emb_drop=0.5, metrics=accuracy)"
   ]
  },
  {
   "cell_type": "code",
   "execution_count": 57,
   "metadata": {},
   "outputs": [
    {
     "data": {
      "text/html": [
       "Total time: 03:49 <p><table border=\"1\" class=\"dataframe\">\n",
       "  <thead>\n",
       "    <tr style=\"text-align: left;\">\n",
       "      <th>epoch</th>\n",
       "      <th>train_loss</th>\n",
       "      <th>valid_loss</th>\n",
       "      <th>accuracy</th>\n",
       "      <th>time</th>\n",
       "    </tr>\n",
       "  </thead>\n",
       "  <tbody>\n",
       "    <tr>\n",
       "      <td>0</td>\n",
       "      <td>0.533824</td>\n",
       "      <td>0.520335</td>\n",
       "      <td>0.743365</td>\n",
       "      <td>00:25</td>\n",
       "    </tr>\n",
       "    <tr>\n",
       "      <td>1</td>\n",
       "      <td>0.523916</td>\n",
       "      <td>0.515337</td>\n",
       "      <td>0.750903</td>\n",
       "      <td>00:25</td>\n",
       "    </tr>\n",
       "    <tr>\n",
       "      <td>2</td>\n",
       "      <td>0.520426</td>\n",
       "      <td>0.507980</td>\n",
       "      <td>0.752963</td>\n",
       "      <td>00:25</td>\n",
       "    </tr>\n",
       "    <tr>\n",
       "      <td>3</td>\n",
       "      <td>0.510619</td>\n",
       "      <td>0.503512</td>\n",
       "      <td>0.755878</td>\n",
       "      <td>00:25</td>\n",
       "    </tr>\n",
       "    <tr>\n",
       "      <td>4</td>\n",
       "      <td>0.505425</td>\n",
       "      <td>0.500510</td>\n",
       "      <td>0.757160</td>\n",
       "      <td>00:25</td>\n",
       "    </tr>\n",
       "    <tr>\n",
       "      <td>5</td>\n",
       "      <td>0.495840</td>\n",
       "      <td>0.495384</td>\n",
       "      <td>0.760386</td>\n",
       "      <td>00:25</td>\n",
       "    </tr>\n",
       "    <tr>\n",
       "      <td>6</td>\n",
       "      <td>0.489939</td>\n",
       "      <td>0.493662</td>\n",
       "      <td>0.761163</td>\n",
       "      <td>00:25</td>\n",
       "    </tr>\n",
       "    <tr>\n",
       "      <td>7</td>\n",
       "      <td>0.480586</td>\n",
       "      <td>0.492784</td>\n",
       "      <td>0.762057</td>\n",
       "      <td>00:25</td>\n",
       "    </tr>\n",
       "    <tr>\n",
       "      <td>8</td>\n",
       "      <td>0.476723</td>\n",
       "      <td>0.493890</td>\n",
       "      <td>0.762523</td>\n",
       "      <td>00:25</td>\n",
       "    </tr>\n",
       "  </tbody>\n",
       "</table>"
      ],
      "text/plain": [
       "<IPython.core.display.HTML object>"
      ]
     },
     "metadata": {},
     "output_type": "display_data"
    },
    {
     "name": "stdout",
     "output_type": "stream",
     "text": [
      "Better model found at epoch 0 with accuracy value: 0.7433645725250244.\n",
      "Better model found at epoch 1 with accuracy value: 0.7509034872055054.\n",
      "Better model found at epoch 2 with accuracy value: 0.752963125705719.\n",
      "Better model found at epoch 3 with accuracy value: 0.755877673625946.\n",
      "Better model found at epoch 4 with accuracy value: 0.7571600675582886.\n",
      "Better model found at epoch 5 with accuracy value: 0.7603855133056641.\n",
      "Better model found at epoch 6 with accuracy value: 0.7611626982688904.\n",
      "Better model found at epoch 7 with accuracy value: 0.7620565295219421.\n",
      "Better model found at epoch 8 with accuracy value: 0.76252281665802.\n"
     ]
    },
    {
     "data": {
      "image/png": "[encoded data removed]",
      "text/plain": [
       "<Figure size 432x288 with 1 Axes>"
      ]
     },
     "metadata": {},
     "output_type": "display_data"
    }
   ],
   "source": [
    "callbacks = SaveModelCallback(learn, every='improvement', mode='max', monitor='accuracy', name=f'{model_name}-tab-final')\n",
    "learn.fit_one_cycle(9, 1e-2, callbacks=callbacks); learn.recorder.plot_losses()"
   ]
  },
  {
   "cell_type": "code",
   "execution_count": 59,
   "metadata": {},
   "outputs": [
    {
     "data": {
      "image/png": "[encoded data removed]",
      "text/plain": [
       "<Figure size 432x288 with 1 Axes>"
      ]
     },
     "metadata": {},
     "output_type": "display_data"
    }
   ],
   "source": [
    "interp = ClassificationInterpretation.from_learner(learn)\n",
    "interp.plot_confusion_matrix()"
   ]
  },
  {
   "cell_type": "code",
   "execution_count": null,
   "metadata": {},
   "outputs": [],
   "source": []
  }
 ],
 "metadata": {
  "kernelspec": {
   "display_name": "Python 3",
   "language": "python",
   "name": "python3"
  },
  "language_info": {
   "codemirror_mode": {
    "name": "ipython",
    "version": 3
   },
   "file_extension": ".py",
   "mimetype": "text/x-python",
   "name": "python",
   "nbconvert_exporter": "python",
   "pygments_lexer": "ipython3",
   "version": "3.6.5"
  }
 },
 "nbformat": 4,
 "nbformat_minor": 2
}
