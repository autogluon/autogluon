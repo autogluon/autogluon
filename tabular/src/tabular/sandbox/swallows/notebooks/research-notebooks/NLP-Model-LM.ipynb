{
 "cells": [
  {
   "cell_type": "code",
   "execution_count": 1,
   "metadata": {},
   "outputs": [],
   "source": [
    "%reload_ext autoreload\n",
    "%autoreload 2"
   ]
  },
  {
   "cell_type": "code",
   "execution_count": 2,
   "metadata": {},
   "outputs": [],
   "source": [
    "import pandas as pd\n",
    "from fastai import *\n",
    "from fastai.tabular import *\n",
    "from fastai.callbacks import *\n",
    "from fastai.text import *\n",
    "from fastai.data_block import *\n",
    "from fastai.metrics import *\n",
    "from sklearn.model_selection import StratifiedKFold\n",
    "import pickle\n",
    "from fastprogress import master_bar, progress_bar\n",
    "from IPython.display import FileLink\n",
    "from sklearn.decomposition import PCA\n",
    "import time\n",
    "from swallows.training import *"
   ]
  },
  {
   "cell_type": "code",
   "execution_count": 3,
   "metadata": {},
   "outputs": [],
   "source": [
    "pd.set_option('display.max_colwidth', -1)\n",
    "pd.set_option('display.max_columns', None)\n",
    "pd.set_option('display.max_rows', 1000)"
   ]
  },
  {
   "cell_type": "code",
   "execution_count": 4,
   "metadata": {},
   "outputs": [],
   "source": [
    "lm_type='full-60k'\n",
    "# lm_type='full-30k'\n",
    "# lm_type='samlple-30k'"
   ]
  },
  {
   "cell_type": "code",
   "execution_count": 5,
   "metadata": {},
   "outputs": [],
   "source": [
    "path=Path('data')"
   ]
  },
  {
   "cell_type": "code",
   "execution_count": null,
   "metadata": {},
   "outputs": [],
   "source": []
  },
  {
   "cell_type": "code",
   "execution_count": null,
   "metadata": {},
   "outputs": [],
   "source": []
  },
  {
   "cell_type": "code",
   "execution_count": null,
   "metadata": {},
   "outputs": [],
   "source": []
  },
  {
   "cell_type": "code",
   "execution_count": 6,
   "metadata": {
    "scrolled": true
   },
   "outputs": [],
   "source": [
    "# df_train = pd.read_csv(path/'nlp_train_sample.csv', low_memory=False)\n",
    "df_train = pd.read_csv(path/'nlp_train.csv', low_memory=False)\n",
    "df_test = pd.read_csv(path/'nlp_test.csv', low_memory=False)"
   ]
  },
  {
   "cell_type": "code",
   "execution_count": 8,
   "metadata": {},
   "outputs": [],
   "source": [
    "df_all = df_train[['text']].append(df_test[['text']])\n",
    "# df_all = df_train[['text']]"
   ]
  },
  {
   "cell_type": "code",
   "execution_count": null,
   "metadata": {},
   "outputs": [],
   "source": []
  },
  {
   "cell_type": "code",
   "execution_count": null,
   "metadata": {},
   "outputs": [],
   "source": []
  },
  {
   "cell_type": "code",
   "execution_count": 13,
   "metadata": {},
   "outputs": [
    {
     "name": "stdout",
     "output_type": "stream",
     "text": [
      "Vocabulary size 60004\n"
     ]
    }
   ],
   "source": [
    "# max_vocab = 60k by default - seting it to lower value to make training faster\n",
    "# txt_proc = [TokenizeProcessor(), NumericalizeProcessor(vocab=None, max_vocab=30000)]\n",
    "# data_lm = (TextList.from_df(df_all, path=path, processor=txt_proc)\n",
    "# data_lm = (TextList.from_df(df_all, path=path)\n",
    "#            .split_by_rand_pct(0.05)\n",
    "#            .label_for_lm()\n",
    "#            .databunch(bs=192)\n",
    "#           )\n",
    "# print(f'Vocabulary size {len(data_lm.vocab.itos)}')"
   ]
  },
  {
   "cell_type": "code",
   "execution_count": 14,
   "metadata": {},
   "outputs": [],
   "source": [
    "# data_lm.save(f'data-lm-{lm_type}.pkl')"
   ]
  },
  {
   "cell_type": "code",
   "execution_count": null,
   "metadata": {},
   "outputs": [],
   "source": []
  },
  {
   "cell_type": "code",
   "execution_count": null,
   "metadata": {},
   "outputs": [],
   "source": []
  },
  {
   "cell_type": "code",
   "execution_count": null,
   "metadata": {},
   "outputs": [],
   "source": []
  },
  {
   "cell_type": "code",
   "execution_count": 6,
   "metadata": {},
   "outputs": [],
   "source": [
    "bs = 128 # 128 = 12502MiB"
   ]
  },
  {
   "cell_type": "code",
   "execution_count": 7,
   "metadata": {},
   "outputs": [],
   "source": [
    "data_lm = load_data(path, f'data-lm-{lm_type}.pkl', bs=bs)"
   ]
  },
  {
   "cell_type": "markdown",
   "metadata": {},
   "source": [
    "### LM Training"
   ]
  },
  {
   "cell_type": "code",
   "execution_count": 8,
   "metadata": {},
   "outputs": [],
   "source": [
    "learn_nlp = language_model_learner(data_lm, AWD_LSTM, drop_mult=0.3)"
   ]
  },
  {
   "cell_type": "code",
   "execution_count": null,
   "metadata": {},
   "outputs": [],
   "source": []
  },
  {
   "cell_type": "code",
   "execution_count": null,
   "metadata": {},
   "outputs": [],
   "source": []
  },
  {
   "cell_type": "code",
   "execution_count": 9,
   "metadata": {},
   "outputs": [
    {
     "data": {
      "text/html": [],
      "text/plain": [
       "<IPython.core.display.HTML object>"
      ]
     },
     "metadata": {},
     "output_type": "display_data"
    },
    {
     "name": "stdout",
     "output_type": "stream",
     "text": [
      "LR Finder is complete, type {learner_name}.recorder.plot() to see the graph.\n"
     ]
    },
    {
     "data": {
      "image/png": "[encoded data removed]",
      "text/plain": [
       "<Figure size 432x288 with 1 Axes>"
      ]
     },
     "metadata": {},
     "output_type": "display_data"
    }
   ],
   "source": [
    "learn_nlp.lr_find(); learn_nlp.recorder.plot()"
   ]
  },
  {
   "cell_type": "code",
   "execution_count": 10,
   "metadata": {},
   "outputs": [
    {
     "data": {
      "text/html": [
       "Total time: 1:34:04 <p><table border=\"1\" class=\"dataframe\">\n",
       "  <thead>\n",
       "    <tr style=\"text-align: left;\">\n",
       "      <th>epoch</th>\n",
       "      <th>train_loss</th>\n",
       "      <th>valid_loss</th>\n",
       "      <th>accuracy</th>\n",
       "      <th>time</th>\n",
       "    </tr>\n",
       "  </thead>\n",
       "  <tbody>\n",
       "    <tr>\n",
       "      <td>0</td>\n",
       "      <td>1.284623</td>\n",
       "      <td>1.087996</td>\n",
       "      <td>0.789037</td>\n",
       "      <td>1:34:04</td>\n",
       "    </tr>\n",
       "  </tbody>\n",
       "</table>"
      ],
      "text/plain": [
       "<IPython.core.display.HTML object>"
      ]
     },
     "metadata": {},
     "output_type": "display_data"
    },
    {
     "name": "stderr",
     "output_type": "stream",
     "text": [
      "IOPub message rate exceeded.\n",
      "The notebook server will temporarily stop sending output\n",
      "to the client in order to avoid crashing it.\n",
      "To change this limit, set the config variable\n",
      "`--NotebookApp.iopub_msg_rate_limit`.\n",
      "\n",
      "Current values:\n",
      "NotebookApp.iopub_msg_rate_limit=1000.0 (msgs/sec)\n",
      "NotebookApp.rate_limit_window=3.0 (secs)\n",
      "\n"
     ]
    },
    {
     "data": {
      "image/png": "[encoded data removed]",
      "text/plain": [
       "<Figure size 432x288 with 1 Axes>"
      ]
     },
     "metadata": {},
     "output_type": "display_data"
    }
   ],
   "source": [
    "learn_nlp.fit_one_cycle(1, 1e-2, moms=(0.8,0.7)); learn_nlp.recorder.plot_losses()"
   ]
  },
  {
   "cell_type": "code",
   "execution_count": 12,
   "metadata": {},
   "outputs": [],
   "source": [
    "#learn_nlp.save(f'lm-{lm_type}-1')"
   ]
  },
  {
   "cell_type": "code",
   "execution_count": 9,
   "metadata": {
    "collapsed": true
   },
   "outputs": [
    {
     "data": {
      "text/plain": [
       "LanguageLearner(data=TextLMDataBunch;\n",
       "\n",
       "Train: LabelList (1540520 items)\n",
       "x: LMTextList\n",
       "xxbos opstechit - xxup hou2 xxmaj project opstechit xxmaj manual opstechit xximpacthigh xxmaj equipment xxmaj request ( xxmaj new / xxmaj loaner ) xxup hou2 - xxup fc ( xxmaj houston , xxup tx ) xxmaj sort - xxup ar xxup houston xxup us xxup hou2 xxup tx xxmaj client xxmaj devices xxup hou2 - xxmaj singles problem solve request xxmaj building i d : xxup hou2 xxmaj workflow name : opstechit_devices_and_equipment_other xxmaj description : xxmaj problem xxmaj solve xxmaj stations on xxmaj line 3 , 4 , & 5 as well as xxmaj audit at xxmaj slam 6 in xxmaj pack xxmaj singles need to be fully setup as problem solve & xxmaj pack xxmaj stations . xxmaj each location must be fully functional for problem solve to pack out items . xxmaj in addition to work tables , equipment needed : xxmaj tape xxmaj dispensers , xxmaj dunnage xxmaj machines , xxmaj full xxmaj box xxmaj suites , xxmaj spoo xxmaj machines , p - xxmaj slip printers , xxup asin xxmaj printers , xxmaj scales , pcs , xxmaj zebra xxup zt410 xxmaj printers , xxup xxunk xxmaj radios , wireless hand scanners , xxmaj ergo xxmaj mats . i am sure that xxup jll will also have to be involved in this project as it will require movement of work station components such as box suites . warehouseid : xxup hou2 .,xxbos opstechit - xxup hyd8 xxmaj trouble xxmaj ticket opstechit xxmaj autocut opstechit - xxup hyd8 xximpactmedium xxmaj environmental xxmaj monitoring xxup hyd8 - xxup asspl xxup lrg xxup fc xxmaj mixed xxmaj hyderabad xxup in xxup hyd8 xxup in xxmaj telangana xxmaj site xxmaj administration [ xxup hyd8 ] xxunk - xxup critical xxmaj hostname : xxhostname xxmaj check : ping xxmaj details : xxup ping xxup critical - xxmaj packet loss = 100 % xxmaj direct xxmaj link : xxitmonitoring xxmaj documentation : xxpolicy,xxbos opstechit - xxup sat2 xxmaj trouble xxmaj ticket opstechit xxmaj autocut opstechit - xxup sat2 xximpactmedium xxmaj audits xxup sat2 - xxup fc ( xxmaj san xxmaj marcos , xxup tx ) xxmaj sort - xxup ar xxup san xxup marcos xxup us xxup sat2 xxup tx xxmaj site xxmaj administration [ xxup sat2 ] [ xxmaj days ] xxmaj verify / xxmaj arm all idfs xxmaj audit the xxup idf xxmaj lenel xxmaj arm / xxmaj disarm board in xxup it xxmaj office . xxmaj arm any idfs that are currently disarmed ( unless previously noted problem exists ) . xxmaj this must be done before the end of your shift .,xxbos opstechit - xxup del3 xxmaj trouble xxmaj ticket opstechit xxmaj manual opstechit xximpactcritical xxmaj desktop / xxmaj laptop ( xxmaj windows ) xxup del3-asspl xxup lrg xxup fc ( xxmaj sonipat - xxup hr ) xxmaj mixed xxup sonipat ( xxup delhi - xxup ncr ) xxup in xxup del3 xxup in xxup hr xxmaj client xxmaj devices [ xxup del3 ] mouse not working xxmaj hi xxmaj team xxmaj problem solving station no.4 mouse not working properly . xxmaj please checked it . xxmaj regards xxmaj raja kaushik xxmaj del3 xxup ob xxup ps,xxbos opstechit - xxup bhx1 xxmaj action xxmaj item opstechit xxmaj autocut opstechit - xxup bhx1 xximpactcritical xxmaj other xxup bhx1 xxmaj sort xxmaj rugeley xxup uk xxup bhx1 xxup eu xxup staffordshire xxmaj site xxmaj administration [ xxup bhx1 ] xxup eos xxmaj handover xxmaj please update the overview of this ticket and leave as pending for all team on the following shift to read and resolve . xxmaj delete as appropriate : xxmaj emptied the bins ( xxmaj yes ) xxmaj personal workstations tidy ( xxmaj yes ) xxmaj workshop left clean and tidy with no rubbish on floors ( xxmaj yes ) xxmaj items in handover state are clearly labeled with ticket numbers ( xxmaj yes ) xxmaj end of xxmaj shift report for xxmaj days xxmaj shift : xxunk [ xxup bhx1 ] xxmaj configure xxup dwr1 's timeclocks xxunk xxup bhx1 - xxunk - i need help with xxmaj other xxmaj devices / xxmaj equipment xxmaj issues xxunk [ xxup bhx1 ] xxmaj daily xxmaj gemba xxmaj participation xxunk xxup uuk3 - i need help with xxmaj desktop / xxmaj laptop xxmaj hardware xxmaj installation xxunk [ xxup vekc ] [ xxup bhx1 ] xxup tc55 xxmaj scanners xxmaj error : xxmaj time xxmaj out xxmaj connection xxunk [ xxup bhx1 ] xxmaj daily xxmaj area xxmaj readiness check list - xxmaj days xxunk [ xxup bhx1 ] xxmaj fastenal xxmaj help xxunk [ xxup bhx1 ] xxmaj zone e xxmaj check xxunk [ xxup bhx1 ] [ xxmaj global xxmaj compliance ] xxmaj audit xxup mdf\n",
       "y: LMLabelList\n",
       ",,,,\n",
       "Path: data;\n",
       "\n",
       "Valid: LabelList (81079 items)\n",
       "x: LMTextList\n",
       "xxbos opstechit - xxup ewr9 xxmaj trouble xxmaj ticket opstechit xxmaj manual opstechit - xxup ewr9 xximpacthigh xxmaj desktop / xxmaj laptop ( xxmaj linux ) xxup ewr9 - xxup fc ( xxmaj carteret , xxup nj ) xxmaj sort - xxup ar xxup carteret xxup us xxup ewr9 xxup nj xxmaj client xxmaj devices [ xxup ewr9 ] xxmaj walk xxmaj up xxmaj request - xxmaj computer issue xxunk computer is xxunk .,xxbos opstechit xxmaj trouble xxmaj ticket opstechit xxmaj manual opstechit xximpactmedium xxmaj printers xxup stl4 - xxup fc ( xxmaj edwardsville , xxup il ) nonsort xxup edwardsville xxup us xxup stl4 xxup il xxmaj client xxmaj devices [ xxup stl4 ] xxmaj stalled print jobs in stl4-prt-6 xxmaj please clear stalled jobs in printer queue for stl4-prt-6,xxbos opstechit - xxup stl4 xxmaj action xxmaj item opstechit xxmaj autocut opstechit - xxup stl4 xximpactcritical xxmaj preventative xxmaj maintenance xxup stl4 - xxup fc ( xxmaj edwardsville , xxup il ) nonsort xxup edwardsville xxup us xxup stl4 xxup il xxmaj site xxmaj administration [ xxup stl4 ] xxmaj small xxmaj site - xxmaj on xxmaj site xxup it xxup pm - xxup vups xxmaj small xxmaj site - xxmaj on xxmaj site xxup it xxup pm - xxup vups xxmaj per policy xxpolicy xxmaj please use this ticket to track progress and time for quarterly pms at this small site,xxbos opstechit - xxup hyd8 xxmaj trouble xxmaj ticket opstechit xxmaj manual opstechit - xxup hyd8 xximpactcritical xxmaj equipment xxmaj request ( xxmaj new / xxmaj loaner ) xxup hyd8 - xxup asspl xxup lrg xxup fc xxmaj mixed xxmaj hyderabad xxup in xxup hyd8 xxup in xxmaj telangana xxmaj client xxmaj devices [ xxup hyd8 ] xxup slp xxmaj control room - printer not working hi team for kind information slp control room printer not working . pls check and clear the issue asap .,xxbos opstechit - xxup man2 xxmaj action xxmaj item opstechit xxmaj manual opstechit - xxup man2 xximpactcritical xxmaj audits xxup man2 - xxup fc ( xxmaj warrington , xxup uk ) xxmaj sort - xxup ar xxmaj england / xxmaj wales xxup uk xxup man2 xxup eu xxup ches xxmaj site xxmaj administration [ xxup man2 ] xxmaj defect xxmaj detected at xxup xxunk in xxup ob xxmaj standard xxmaj singles xxmaj the monitor switches on briefly then goes off , tried rebooting it but the monitor is still not working . xxmaj the error is not reported by xxup slim xxmaj client xxserial xxmaj client xxup mac : xxmac\n",
       "y: LMLabelList\n",
       ",,,,\n",
       "Path: data;\n",
       "\n",
       "Test: None, model=SequentialRNN(\n",
       "  (0): AWD_LSTM(\n",
       "    (encoder): Embedding(60004, 400, padding_idx=1)\n",
       "    (encoder_dp): EmbeddingDropout(\n",
       "      (emb): Embedding(60004, 400, padding_idx=1)\n",
       "    )\n",
       "    (rnns): ModuleList(\n",
       "      (0): WeightDropout(\n",
       "        (module): LSTM(400, 1150, batch_first=True)\n",
       "      )\n",
       "      (1): WeightDropout(\n",
       "        (module): LSTM(1150, 1150, batch_first=True)\n",
       "      )\n",
       "      (2): WeightDropout(\n",
       "        (module): LSTM(1150, 400, batch_first=True)\n",
       "      )\n",
       "    )\n",
       "    (input_dp): RNNDropout()\n",
       "    (hidden_dps): ModuleList(\n",
       "      (0): RNNDropout()\n",
       "      (1): RNNDropout()\n",
       "      (2): RNNDropout()\n",
       "    )\n",
       "  )\n",
       "  (1): LinearDecoder(\n",
       "    (decoder): Linear(in_features=400, out_features=60004, bias=True)\n",
       "    (output_dp): RNNDropout()\n",
       "  )\n",
       "), opt_func=functools.partial(<class 'torch.optim.adam.Adam'>, betas=(0.9, 0.99)), loss_func=FlattenedLoss of CrossEntropyLoss(), metrics=[<function accuracy at 0x7fa2194b61e0>], true_wd=True, bn_wd=True, wd=0.01, train_bn=True, path=PosixPath('data'), model_dir='models', callback_fns=[functools.partial(<class 'fastai.basic_train.Recorder'>, add_time=True)], callbacks=[RNNTrainer\n",
       "learn: LanguageLearner(data=TextLMDataBunch;\n",
       "\n",
       "Train: LabelList (1540520 items)\n",
       "x: LMTextList\n",
       "xxbos opstechit - xxup hou2 xxmaj project opstechit xxmaj manual opstechit xximpacthigh xxmaj equipment xxmaj request ( xxmaj new / xxmaj loaner ) xxup hou2 - xxup fc ( xxmaj houston , xxup tx ) xxmaj sort - xxup ar xxup houston xxup us xxup hou2 xxup tx xxmaj client xxmaj devices xxup hou2 - xxmaj singles problem solve request xxmaj building i d : xxup hou2 xxmaj workflow name : opstechit_devices_and_equipment_other xxmaj description : xxmaj problem xxmaj solve xxmaj stations on xxmaj line 3 , 4 , & 5 as well as xxmaj audit at xxmaj slam 6 in xxmaj pack xxmaj singles need to be fully setup as problem solve & xxmaj pack xxmaj stations . xxmaj each location must be fully functional for problem solve to pack out items . xxmaj in addition to work tables , equipment needed : xxmaj tape xxmaj dispensers , xxmaj dunnage xxmaj machines , xxmaj full xxmaj box xxmaj suites , xxmaj spoo xxmaj machines , p - xxmaj slip printers , xxup asin xxmaj printers , xxmaj scales , pcs , xxmaj zebra xxup zt410 xxmaj printers , xxup xxunk xxmaj radios , wireless hand scanners , xxmaj ergo xxmaj mats . i am sure that xxup jll will also have to be involved in this project as it will require movement of work station components such as box suites . warehouseid : xxup hou2 .,xxbos opstechit - xxup hyd8 xxmaj trouble xxmaj ticket opstechit xxmaj autocut opstechit - xxup hyd8 xximpactmedium xxmaj environmental xxmaj monitoring xxup hyd8 - xxup asspl xxup lrg xxup fc xxmaj mixed xxmaj hyderabad xxup in xxup hyd8 xxup in xxmaj telangana xxmaj site xxmaj administration [ xxup hyd8 ] xxunk - xxup critical xxmaj hostname : xxhostname xxmaj check : ping xxmaj details : xxup ping xxup critical - xxmaj packet loss = 100 % xxmaj direct xxmaj link : xxitmonitoring xxmaj documentation : xxpolicy,xxbos opstechit - xxup sat2 xxmaj trouble xxmaj ticket opstechit xxmaj autocut opstechit - xxup sat2 xximpactmedium xxmaj audits xxup sat2 - xxup fc ( xxmaj san xxmaj marcos , xxup tx ) xxmaj sort - xxup ar xxup san xxup marcos xxup us xxup sat2 xxup tx xxmaj site xxmaj administration [ xxup sat2 ] [ xxmaj days ] xxmaj verify / xxmaj arm all idfs xxmaj audit the xxup idf xxmaj lenel xxmaj arm / xxmaj disarm board in xxup it xxmaj office . xxmaj arm any idfs that are currently disarmed ( unless previously noted problem exists ) . xxmaj this must be done before the end of your shift .,xxbos opstechit - xxup del3 xxmaj trouble xxmaj ticket opstechit xxmaj manual opstechit xximpactcritical xxmaj desktop / xxmaj laptop ( xxmaj windows ) xxup del3-asspl xxup lrg xxup fc ( xxmaj sonipat - xxup hr ) xxmaj mixed xxup sonipat ( xxup delhi - xxup ncr ) xxup in xxup del3 xxup in xxup hr xxmaj client xxmaj devices [ xxup del3 ] mouse not working xxmaj hi xxmaj team xxmaj problem solving station no.4 mouse not working properly . xxmaj please checked it . xxmaj regards xxmaj raja kaushik xxmaj del3 xxup ob xxup ps,xxbos opstechit - xxup bhx1 xxmaj action xxmaj item opstechit xxmaj autocut opstechit - xxup bhx1 xximpactcritical xxmaj other xxup bhx1 xxmaj sort xxmaj rugeley xxup uk xxup bhx1 xxup eu xxup staffordshire xxmaj site xxmaj administration [ xxup bhx1 ] xxup eos xxmaj handover xxmaj please update the overview of this ticket and leave as pending for all team on the following shift to read and resolve . xxmaj delete as appropriate : xxmaj emptied the bins ( xxmaj yes ) xxmaj personal workstations tidy ( xxmaj yes ) xxmaj workshop left clean and tidy with no rubbish on floors ( xxmaj yes ) xxmaj items in handover state are clearly labeled with ticket numbers ( xxmaj yes ) xxmaj end of xxmaj shift report for xxmaj days xxmaj shift : xxunk [ xxup bhx1 ] xxmaj configure xxup dwr1 's timeclocks xxunk xxup bhx1 - xxunk - i need help with xxmaj other xxmaj devices / xxmaj equipment xxmaj issues xxunk [ xxup bhx1 ] xxmaj daily xxmaj gemba xxmaj participation xxunk xxup uuk3 - i need help with xxmaj desktop / xxmaj laptop xxmaj hardware xxmaj installation xxunk [ xxup vekc ] [ xxup bhx1 ] xxup tc55 xxmaj scanners xxmaj error : xxmaj time xxmaj out xxmaj connection xxunk [ xxup bhx1 ] xxmaj daily xxmaj area xxmaj readiness check list - xxmaj days xxunk [ xxup bhx1 ] xxmaj fastenal xxmaj help xxunk [ xxup bhx1 ] xxmaj zone e xxmaj check xxunk [ xxup bhx1 ] [ xxmaj global xxmaj compliance ] xxmaj audit xxup mdf\n",
       "y: LMLabelList\n",
       ",,,,\n",
       "Path: data;\n",
       "\n",
       "Valid: LabelList (81079 items)\n",
       "x: LMTextList\n",
       "xxbos opstechit - xxup ewr9 xxmaj trouble xxmaj ticket opstechit xxmaj manual opstechit - xxup ewr9 xximpacthigh xxmaj desktop / xxmaj laptop ( xxmaj linux ) xxup ewr9 - xxup fc ( xxmaj carteret , xxup nj ) xxmaj sort - xxup ar xxup carteret xxup us xxup ewr9 xxup nj xxmaj client xxmaj devices [ xxup ewr9 ] xxmaj walk xxmaj up xxmaj request - xxmaj computer issue xxunk computer is xxunk .,xxbos opstechit xxmaj trouble xxmaj ticket opstechit xxmaj manual opstechit xximpactmedium xxmaj printers xxup stl4 - xxup fc ( xxmaj edwardsville , xxup il ) nonsort xxup edwardsville xxup us xxup stl4 xxup il xxmaj client xxmaj devices [ xxup stl4 ] xxmaj stalled print jobs in stl4-prt-6 xxmaj please clear stalled jobs in printer queue for stl4-prt-6,xxbos opstechit - xxup stl4 xxmaj action xxmaj item opstechit xxmaj autocut opstechit - xxup stl4 xximpactcritical xxmaj preventative xxmaj maintenance xxup stl4 - xxup fc ( xxmaj edwardsville , xxup il ) nonsort xxup edwardsville xxup us xxup stl4 xxup il xxmaj site xxmaj administration [ xxup stl4 ] xxmaj small xxmaj site - xxmaj on xxmaj site xxup it xxup pm - xxup vups xxmaj small xxmaj site - xxmaj on xxmaj site xxup it xxup pm - xxup vups xxmaj per policy xxpolicy xxmaj please use this ticket to track progress and time for quarterly pms at this small site,xxbos opstechit - xxup hyd8 xxmaj trouble xxmaj ticket opstechit xxmaj manual opstechit - xxup hyd8 xximpactcritical xxmaj equipment xxmaj request ( xxmaj new / xxmaj loaner ) xxup hyd8 - xxup asspl xxup lrg xxup fc xxmaj mixed xxmaj hyderabad xxup in xxup hyd8 xxup in xxmaj telangana xxmaj client xxmaj devices [ xxup hyd8 ] xxup slp xxmaj control room - printer not working hi team for kind information slp control room printer not working . pls check and clear the issue asap .,xxbos opstechit - xxup man2 xxmaj action xxmaj item opstechit xxmaj manual opstechit - xxup man2 xximpactcritical xxmaj audits xxup man2 - xxup fc ( xxmaj warrington , xxup uk ) xxmaj sort - xxup ar xxmaj england / xxmaj wales xxup uk xxup man2 xxup eu xxup ches xxmaj site xxmaj administration [ xxup man2 ] xxmaj defect xxmaj detected at xxup xxunk in xxup ob xxmaj standard xxmaj singles xxmaj the monitor switches on briefly then goes off , tried rebooting it but the monitor is still not working . xxmaj the error is not reported by xxup slim xxmaj client xxserial xxmaj client xxup mac : xxmac\n",
       "y: LMLabelList\n",
       ",,,,\n",
       "Path: data;\n",
       "\n",
       "Test: None, model=SequentialRNN(\n",
       "  (0): AWD_LSTM(\n",
       "    (encoder): Embedding(60004, 400, padding_idx=1)\n",
       "    (encoder_dp): EmbeddingDropout(\n",
       "      (emb): Embedding(60004, 400, padding_idx=1)\n",
       "    )\n",
       "    (rnns): ModuleList(\n",
       "      (0): WeightDropout(\n",
       "        (module): LSTM(400, 1150, batch_first=True)\n",
       "      )\n",
       "      (1): WeightDropout(\n",
       "        (module): LSTM(1150, 1150, batch_first=True)\n",
       "      )\n",
       "      (2): WeightDropout(\n",
       "        (module): LSTM(1150, 400, batch_first=True)\n",
       "      )\n",
       "    )\n",
       "    (input_dp): RNNDropout()\n",
       "    (hidden_dps): ModuleList(\n",
       "      (0): RNNDropout()\n",
       "      (1): RNNDropout()\n",
       "      (2): RNNDropout()\n",
       "    )\n",
       "  )\n",
       "  (1): LinearDecoder(\n",
       "    (decoder): Linear(in_features=400, out_features=60004, bias=True)\n",
       "    (output_dp): RNNDropout()\n",
       "  )\n",
       "), opt_func=functools.partial(<class 'torch.optim.adam.Adam'>, betas=(0.9, 0.99)), loss_func=FlattenedLoss of CrossEntropyLoss(), metrics=[<function accuracy at 0x7fa2194b61e0>], true_wd=True, bn_wd=True, wd=0.01, train_bn=True, path=PosixPath('data'), model_dir='models', callback_fns=[functools.partial(<class 'fastai.basic_train.Recorder'>, add_time=True)], callbacks=[...], layer_groups=[Sequential(\n",
       "  (0): WeightDropout(\n",
       "    (module): LSTM(400, 1150, batch_first=True)\n",
       "  )\n",
       "  (1): RNNDropout()\n",
       "), Sequential(\n",
       "  (0): WeightDropout(\n",
       "    (module): LSTM(1150, 1150, batch_first=True)\n",
       "  )\n",
       "  (1): RNNDropout()\n",
       "), Sequential(\n",
       "  (0): WeightDropout(\n",
       "    (module): LSTM(1150, 400, batch_first=True)\n",
       "  )\n",
       "  (1): RNNDropout()\n",
       "), Sequential(\n",
       "  (0): Embedding(60004, 400, padding_idx=1)\n",
       "  (1): EmbeddingDropout(\n",
       "    (emb): Embedding(60004, 400, padding_idx=1)\n",
       "  )\n",
       "  (2): LinearDecoder(\n",
       "    (decoder): Linear(in_features=400, out_features=60004, bias=True)\n",
       "    (output_dp): RNNDropout()\n",
       "  )\n",
       ")], add_time=True)\n",
       "alpha: 2.0\n",
       "beta: 1.0], layer_groups=[Sequential(\n",
       "  (0): WeightDropout(\n",
       "    (module): LSTM(400, 1150, batch_first=True)\n",
       "  )\n",
       "  (1): RNNDropout()\n",
       "), Sequential(\n",
       "  (0): WeightDropout(\n",
       "    (module): LSTM(1150, 1150, batch_first=True)\n",
       "  )\n",
       "  (1): RNNDropout()\n",
       "), Sequential(\n",
       "  (0): WeightDropout(\n",
       "    (module): LSTM(1150, 400, batch_first=True)\n",
       "  )\n",
       "  (1): RNNDropout()\n",
       "), Sequential(\n",
       "  (0): Embedding(60004, 400, padding_idx=1)\n",
       "  (1): EmbeddingDropout(\n",
       "    (emb): Embedding(60004, 400, padding_idx=1)\n",
       "  )\n",
       "  (2): LinearDecoder(\n",
       "    (decoder): Linear(in_features=400, out_features=60004, bias=True)\n",
       "    (output_dp): RNNDropout()\n",
       "  )\n",
       ")], add_time=True)"
      ]
     },
     "execution_count": 9,
     "metadata": {},
     "output_type": "execute_result"
    }
   ],
   "source": [
    "learn_nlp.load(f'lm-{lm_type}-1')"
   ]
  },
  {
   "cell_type": "code",
   "execution_count": 10,
   "metadata": {},
   "outputs": [],
   "source": [
    "learn_nlp.unfreeze()"
   ]
  },
  {
   "cell_type": "code",
   "execution_count": 11,
   "metadata": {},
   "outputs": [
    {
     "data": {
      "text/html": [],
      "text/plain": [
       "<IPython.core.display.HTML object>"
      ]
     },
     "metadata": {},
     "output_type": "display_data"
    },
    {
     "name": "stdout",
     "output_type": "stream",
     "text": [
      "LR Finder is complete, type {learner_name}.recorder.plot() to see the graph.\n"
     ]
    },
    {
     "data": {
      "image/png": "[encoded data removed]",
      "text/plain": [
       "<Figure size 432x288 with 1 Axes>"
      ]
     },
     "metadata": {},
     "output_type": "display_data"
    }
   ],
   "source": [
    "learn_nlp.lr_find(end_lr=1e-1); learn_nlp.recorder.plot()"
   ]
  },
  {
   "cell_type": "code",
   "execution_count": 12,
   "metadata": {},
   "outputs": [
    {
     "data": {
      "text/html": [
       "Total time: 8:44:49 <p><table border=\"1\" class=\"dataframe\">\n",
       "  <thead>\n",
       "    <tr style=\"text-align: left;\">\n",
       "      <th>epoch</th>\n",
       "      <th>train_loss</th>\n",
       "      <th>valid_loss</th>\n",
       "      <th>accuracy</th>\n",
       "      <th>time</th>\n",
       "    </tr>\n",
       "  </thead>\n",
       "  <tbody>\n",
       "    <tr>\n",
       "      <td>0</td>\n",
       "      <td>0.892113</td>\n",
       "      <td>0.813254</td>\n",
       "      <td>0.838430</td>\n",
       "      <td>1:44:56</td>\n",
       "    </tr>\n",
       "    <tr>\n",
       "      <td>1</td>\n",
       "      <td>0.760822</td>\n",
       "      <td>0.706210</td>\n",
       "      <td>0.857561</td>\n",
       "      <td>1:44:56</td>\n",
       "    </tr>\n",
       "    <tr>\n",
       "      <td>2</td>\n",
       "      <td>0.711847</td>\n",
       "      <td>0.670144</td>\n",
       "      <td>0.863595</td>\n",
       "      <td>1:45:02</td>\n",
       "    </tr>\n",
       "    <tr>\n",
       "      <td>3</td>\n",
       "      <td>0.704369</td>\n",
       "      <td>0.655636</td>\n",
       "      <td>0.866044</td>\n",
       "      <td>1:44:49</td>\n",
       "    </tr>\n",
       "    <tr>\n",
       "      <td>4</td>\n",
       "      <td>0.686191</td>\n",
       "      <td>0.652765</td>\n",
       "      <td>0.866506</td>\n",
       "      <td>1:45:03</td>\n",
       "    </tr>\n",
       "  </tbody>\n",
       "</table>"
      ],
      "text/plain": [
       "<IPython.core.display.HTML object>"
      ]
     },
     "metadata": {},
     "output_type": "display_data"
    }
   ],
   "source": [
    "learn_nlp.fit_one_cycle(5, 3e-4, moms=(0.8,0.7))"
   ]
  },
  {
   "cell_type": "code",
   "execution_count": 13,
   "metadata": {},
   "outputs": [],
   "source": [
    "learn_nlp.save(f'lm-{lm_type}-tuned')"
   ]
  },
  {
   "cell_type": "code",
   "execution_count": 14,
   "metadata": {},
   "outputs": [],
   "source": [
    "learn_nlp.save_encoder(f'{lm_type}-tuned-enc')"
   ]
  },
  {
   "cell_type": "code",
   "execution_count": null,
   "metadata": {},
   "outputs": [],
   "source": []
  },
  {
   "cell_type": "markdown",
   "metadata": {},
   "source": [
    "### Test"
   ]
  },
  {
   "cell_type": "code",
   "execution_count": 15,
   "metadata": {},
   "outputs": [
    {
     "name": "stdout",
     "output_type": "stream",
     "text": [
      "xximpactcritical Printer Thermal Printer Thermal Printer Thermal It Support Manual Helpdesk xximpactcritical Printer Issues BVA1 - FC ( Amiens , France ) nonsort Boves FR BVA1 EU HAUTS - DE - FRANCE Printers - Printing BVA1 : New Hire Tracking Ticket Hello , Could you please prepare and ship as necessary for the following new HVH HVH - HVH HVH Office Area : BVA1\n",
      "xximpactcritical Printer Thermal Printer Issues SAT2 - FC ( San Marcos , TX ) Sort - AR SAN MARCOS US SAT2 TX Client Devices [ SAT2 ] Zebra Printer Cable Management This ticket is for Local IT to obtain a printer at the following locations to ensure they have all the equipment and cables , Parts Cage , Security Desk , Mouse , Keyboard , Scanner , Keyboard ,\n",
      "xximpactcritical Printer DEL49-ATSPL SC ( Manesar - DL ) unknown MANESAR IN DEL49 IN HR Client Devices DEL49 - i need help resolving a Printer issue Building i d : DEL49 Workflow name : opstechit_printer Description : Hello IT support , Printer Name / Workstation Name : BOM9 Printer Model : HP Laserjet Enterprise M605 Problem Description : Other : Please install printer driver on my laptop .\n",
      "xximpactcritical Printer TPA1 - FC ( Tampa , FL ) Sort - AR TAMPA US TPA1 FL Client Devices TPA1 - Install Request for IP addresses for New Command Center Installation Building i d : TPA1 Workflow name : opstechit_printer Description : Hello IT support , Please add the name of the manual slam printers for the Smart Pack Expansion Slam printers . These stations are located on the\n",
      "xximpactcritical Printer SDF8 - Jeffersonville , IN Sort JEFFERSONVILLE US SDF8 IN Client Devices SDF8 - RMA - Zebra Printer Request Device Model / Brand : Zebra GX430 t Device Location : SDF8 Problem Description : We would like to get a test print for the printer located at DD 163 for a GX430 t . This printer will need to be turned on ASAP . Please provide an extra printer\n",
      "xximpactcritical Printer Thermal IT - Hardware GL String : D2 - 1851 - 1173 - 64463- 0000 ---- 4444 0000 ---- 4444 0000 Approved by Finance POC : Eric Ltd Finance ( approval ) Note : Finance approvals should be documented in the local IT ticket prior to submitting this ticket or Must be documented in this ticket prior to fulfillment xxbos opstechit - BHX3 Trouble Ticket opstechit Manual opstechit xximpacthigh Printer BHX3 - FC\n",
      "xximpactcritical Printer Thermal Printer Thermal Printer Cleaning and Maintenance Weekly Zebra ZM600 , ZM400 , ZT410 , ZT420 Thermal Printer Cleaning and Maintenance xxbos opstechit - MCO1 Trouble Ticket opstechit Manual opstechit - MCO1 xximpactcritical Kindle MCO1 - FC ARS ( Orlando , FL ) Sort - AR Orlando US MCO1 FL Mobile MCO1 - Kindle Issue Device Model / Brand :\n",
      "xximpactcritical Printer DET1 - FC TNS ( Livonia , MI ) nonsort LIVONIA US DET1 MI Client Devices [ DET1 ] IT Maintenance in PIT Learning Area Preventative maintenance done in the PIT Learning area . xxbos opstechit - FSZ1 Action Item opstechit Manual opstechit - FSZ1 xximpactcritical Other FSZ1 - FC ( Odawara , JP ) Sort Odawara JP FSZ1 FE 14 Site Administration\n",
      "xximpactcritical Printer Thermal IT Support Agents Finding these printers to be deployed , please send these printers back to the facilities cage . PO # 22 - GB RAM SATA - a9 xxbos opstechit Trouble Ticket opstechit Autocut opstechit xximpacthigh Camera - Network ONT6 - USFC ( Moreno Valley , CA ) Sort MORENO VALLEY US ONT6 CA Camera [ ONT6 ] Camera \" Interior . Pickmod a.floor dor1 ACL_REQUEST:-\n",
      "xximpactcritical Printer AVP1 IXD HAZLETON US AVP1 PA Client Devices AVP1 : Station 3 - 7 p - Slip Printer AVP1 IT , Station 3 - 1 p - Slip machine not working . Unable to use station . AVP1 xxbos opstechit - SAT2 Trouble Ticket opstechit Manual opstechit - SAT2 xximpactcritical Account Services SAT2 - FC ( San Marcos , TX ) Sort - AR SAN MARCOS\n"
     ]
    }
   ],
   "source": [
    "TEXT = \"xximpactcritical Printer\"\n",
    "N_WORDS = 100\n",
    "N_SENTENCES = 10\n",
    "print(\"\\n\".join(learn_nlp.predict(TEXT, N_WORDS, temperature=0.75) for _ in range(N_SENTENCES)))"
   ]
  },
  {
   "cell_type": "markdown",
   "metadata": {},
   "source": [
    "```\n",
    "xximpactcritical Printer MXP5-FC ( CSG , Piacenza , Italy ) Mixed CASTEL SAN GIOVANNI IT MXP5 EU SC Client Devices [ MXP5 ] [ MXP5 ] DAILY IT Storage Audit Hi Team , Please check the following : - Devices - Check print head , clean - up , clean and clean the air filter . - Check print head , clean and clean the air filter . - Check ensure that all cables are\n",
    "xximpactcritical Printer PHL6 nonsort CARLISLE US PHL6 PA Client Devices [ PHL6 ] Pack line 3 SIOC station 2 Printer is not printing correctly . Can we get this fixed ? xxbos opstechit - HOU2 Trouble Ticket opstechit Manual opstechit xximpactcritical Printers HOU2 - FC ( Houston , TX ) Sort - AR HOUSTON US HOU2 TX Client Devices [ HOU2 ] AFE 1 Wall 4 station 6 is not\n",
    "xximpactcritical Printer Battery Testing Pull 10 Batteries off the floor that are between 3 - 1 years in service . If batteries charges at 1 year old place in e - Cyle bin . If battery charges at > % 80 add to circulation xxpolicy xxbos opstechit - HAM2 Action Item opstechit Autocut opstechit - HAM2 xximpactcritical Audits HAM2 - FC ( Hamburg , Germany ) Sort - AR Winsen an der Luhe DE HAM2 EU HH\n",
    "xximpactcritical Printer IND5 - FC nonsort PLAINFIELD US IND5 IN Client Devices [ IND5 ] Ship Dock Label Printer Hello , We have a Broadcast Printer that is in between the break room and the Outbound Ship Dock . The printer is located at the main break room . Please change it to the main office . xxbos opstechit - NRT1 Action Item opstechit Autocut opstechit - NRT1 xximpactcritical Audits NRT1 Sort\n",
    "xximpactcritical Printer ONT2 Sort SAN BERNARDINO US ONT2 CA Client Devices [ ONT2 ] Printer Issue - Printer not printing . Printer is not printing . xxbos opstechit Trouble Ticket opstechit Chat opstechit xximpactcritical Other DPD1 - Del Stn ( Portland , OR ) deliverystation PORTLAND US DPD1 OR Client Devices [ DPD1 ] Incoming Chat- Now Unable to print INFO to gather- Login :\n",
    "xximpactcritical Printer DEN2 - FC TNS ( Aurora , CO ) nonsort DENVER US DEN2 CO Client Devices DEN2 - 3 - 2 Printer Not Working TV mount is not working . Please replace it by going to the ERC . , Guy xxbos opstechit - BFI6 Trouble Ticket opstechit Manual opstechit - BFI6 xximpactcritical Other BFI6 - Fresh FC ( Kent , WA ) Fresh KENT US\n",
    "xximpactcritical Printer DME1 - Dlvry stn(maidstone , UK ) deliverystation AYLESFORD UK DME1 EU KENT Client Devices [ DME1 ] Incoming Chat- the Zebra ZXP Series 7 Call Dialog- for contacting Centralized opstechit , my name is Nitesh how may i assist you ? Do you have a ticket for this issue or would you like me to create one on your behalf ? Info to gather- Login : Site : hostname : Contact info :\n",
    "xximpactcritical Printer Testing Item Distribution Center Autocut opstechit - KTW1 xximpactcritical Audits KTW1 - fc(katowice , Poland ) Sort Sosnowiec PL KTW1 EU SILESIAN Site Administration [ KTW1 ] [ Daily ] IT Patrol Dear IT Technicians ! Choose one free IT Technician and let him do IT Patrol . Please go through all FC locations on Shop Floor and in Office areas . Check the following\n",
    "xximpactcritical Printer PHX3 Specialty PHOENIX US PHX3 AZ Client Devices [ PHX3 ] [ Global Compliance ] Audit RF Scanner Collection Bins Collect , audit and remediate any defective RF Scanner found in a defect bin located in the FC . In addition , any RF Scanner found abandoned in the FC should be considered defective and an audit should be performed . Follow Audit SOP : xxpolicy xxbos opstechit - BCN1 Trouble\n",
    "xximpactcritical Printer LTN2 - Hemel Hempstead , UK Sort HEMEL HEMPSTEAD UK LTN2 EU HERTFORDSHIRE Client Devices [ LTN2 ] Printer on SLAM KO is not working . Please resolve this issue . xxbos opstechit - MDW4 Trouble Ticket opstechit Autocut opstechit xximpactmedium Other MDW4 - FC ( Joliet , IL ) Sort JOLIET US MDW4 IL Network and Telecom [ MDW4 ] Device man1-co-acc-sw0701.amazon.com failed\n",
    "```"
   ]
  },
  {
   "cell_type": "code",
   "execution_count": null,
   "metadata": {},
   "outputs": [],
   "source": []
  }
 ],
 "metadata": {
  "kernelspec": {
   "display_name": "Python 3",
   "language": "python",
   "name": "python3"
  },
  "language_info": {
   "codemirror_mode": {
    "name": "ipython",
    "version": 3
   },
   "file_extension": ".py",
   "mimetype": "text/x-python",
   "name": "python",
   "nbconvert_exporter": "python",
   "pygments_lexer": "ipython3",
   "version": "3.6.5"
  },
  "toc": {
   "base_numbering": 1,
   "nav_menu": {},
   "number_sections": true,
   "sideBar": true,
   "skip_h1_title": false,
   "title_cell": "Table of Contents",
   "title_sidebar": "Contents",
   "toc_cell": false,
   "toc_position": {},
   "toc_section_display": true,
   "toc_window_display": false
  }
 },
 "nbformat": 4,
 "nbformat_minor": 2
}
