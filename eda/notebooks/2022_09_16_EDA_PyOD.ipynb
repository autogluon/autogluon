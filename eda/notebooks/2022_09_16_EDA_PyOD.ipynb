{
 "cells": [
  {
   "cell_type": "code",
   "execution_count": 2,
   "id": "fc5b1ad7",
   "metadata": {},
   "outputs": [
    {
     "name": "stdout",
     "output_type": "stream",
     "text": [
      "The autoreload extension is already loaded. To reload it, use:\n",
      "  %reload_ext autoreload\n"
     ]
    }
   ],
   "source": [
    "%load_ext autoreload\n",
    "%autoreload 2\n",
    "%matplotlib inline "
   ]
  },
  {
   "cell_type": "code",
   "execution_count": 7,
   "id": "8a7f64ee",
   "metadata": {},
   "outputs": [],
   "source": [
    "from pyod.models.suod import SUOD, LOF, COPOD, IForest, HBOS\n",
    "from autogluon.features.generators import AutoMLPipelineFeatureGenerator\n",
    "from scipy.stats import chi2_contingency\n",
    "from sklearn import metrics\n",
    "from autogluon.tabular import TabularPredictor\n",
    "import plotnine as p9\n",
    "import pandas as pd\n",
    "from helpers import load_adult_data, sim_cov_shift\n",
    "import numpy as np\n",
    "import os, urllib"
   ]
  },
  {
   "cell_type": "code",
   "execution_count": null,
   "id": "0a8ecbd2",
   "metadata": {},
   "outputs": [],
   "source": []
  },
  {
   "cell_type": "code",
   "execution_count": 6,
   "id": "8c6cc488",
   "metadata": {},
   "outputs": [
    {
     "ename": "FileNotFoundError",
     "evalue": "[Errno 2] No such file or directory: 'https://github.com/Minqi824/ADBench/raw/main/datasets/Classical/11_donors.npz'",
     "output_type": "error",
     "traceback": [
      "\u001b[0;31m---------------------------------------------------------------------------\u001b[0m",
      "\u001b[0;31mFileNotFoundError\u001b[0m                         Traceback (most recent call last)",
      "Cell \u001b[0;32mIn [6], line 1\u001b[0m\n\u001b[0;32m----> 1\u001b[0m \u001b[43mnp\u001b[49m\u001b[38;5;241;43m.\u001b[39;49m\u001b[43mload\u001b[49m\u001b[43m(\u001b[49m\u001b[38;5;124;43m'\u001b[39;49m\u001b[38;5;124;43mhttps://github.com/Minqi824/ADBench/raw/main/datasets/Classical/11_donors.npz\u001b[39;49m\u001b[38;5;124;43m'\u001b[39;49m\u001b[43m,\u001b[49m\u001b[43m \u001b[49m\u001b[43mallow_pickle\u001b[49m\u001b[38;5;241;43m=\u001b[39;49m\u001b[38;5;28;43;01mTrue\u001b[39;49;00m\u001b[43m)\u001b[49m\n",
      "File \u001b[0;32m~/opt/anaconda3/envs/eda_env/lib/python3.9/site-packages/numpy/lib/npyio.py:407\u001b[0m, in \u001b[0;36mload\u001b[0;34m(file, mmap_mode, allow_pickle, fix_imports, encoding)\u001b[0m\n\u001b[1;32m    405\u001b[0m     own_fid \u001b[38;5;241m=\u001b[39m \u001b[38;5;28;01mFalse\u001b[39;00m\n\u001b[1;32m    406\u001b[0m \u001b[38;5;28;01melse\u001b[39;00m:\n\u001b[0;32m--> 407\u001b[0m     fid \u001b[38;5;241m=\u001b[39m stack\u001b[38;5;241m.\u001b[39menter_context(\u001b[38;5;28;43mopen\u001b[39;49m\u001b[43m(\u001b[49m\u001b[43mos_fspath\u001b[49m\u001b[43m(\u001b[49m\u001b[43mfile\u001b[49m\u001b[43m)\u001b[49m\u001b[43m,\u001b[49m\u001b[43m \u001b[49m\u001b[38;5;124;43m\"\u001b[39;49m\u001b[38;5;124;43mrb\u001b[39;49m\u001b[38;5;124;43m\"\u001b[39;49m\u001b[43m)\u001b[49m)\n\u001b[1;32m    408\u001b[0m     own_fid \u001b[38;5;241m=\u001b[39m \u001b[38;5;28;01mTrue\u001b[39;00m\n\u001b[1;32m    410\u001b[0m \u001b[38;5;66;03m# Code to distinguish from NumPy binary files and pickles.\u001b[39;00m\n",
      "\u001b[0;31mFileNotFoundError\u001b[0m: [Errno 2] No such file or directory: 'https://github.com/Minqi824/ADBench/raw/main/datasets/Classical/11_donors.npz'"
     ]
    }
   ],
   "source": [
    "\n",
    "np.load('https://github.com/Minqi824/ADBench/raw/main/datasets/Classical/11_donors.npz', allow_pickle=True)"
   ]
  },
  {
   "cell_type": "code",
   "execution_count": 79,
   "id": "563f43dc",
   "metadata": {},
   "outputs": [],
   "source": [
    "train, test = load_adult_data()\n",
    "train_cs, test_cs = sim_cov_shift(train, test)"
   ]
  },
  {
   "cell_type": "code",
   "execution_count": 80,
   "id": "0c39f961",
   "metadata": {},
   "outputs": [
    {
     "data": {
      "text/plain": [
       "(29983, 15)"
      ]
     },
     "execution_count": 80,
     "metadata": {},
     "output_type": "execute_result"
    }
   ],
   "source": [
    "train_cs.shape"
   ]
  },
  {
   "cell_type": "code",
   "execution_count": 81,
   "id": "0115c41c",
   "metadata": {},
   "outputs": [],
   "source": [
    "feature_generator = AutoMLPipelineFeatureGenerator()\n",
    "train_trans = feature_generator.fit_transform(X=train_cs)\n",
    "test_trans = feature_generator.transform(test_cs)"
   ]
  },
  {
   "cell_type": "code",
   "execution_count": 8,
   "id": "aedbcbed",
   "metadata": {},
   "outputs": [
    {
     "name": "stdout",
     "output_type": "stream",
     "text": [
      "Help on class AutoMLPipelineFeatureGenerator in module autogluon.features.generators.auto_ml_pipeline:\n",
      "\n",
      "class AutoMLPipelineFeatureGenerator(autogluon.features.generators.pipeline.PipelineFeatureGenerator)\n",
      " |  AutoMLPipelineFeatureGenerator(enable_numeric_features=True, enable_categorical_features=True, enable_datetime_features=True, enable_text_special_features=True, enable_text_ngram_features=True, enable_raw_text_features=False, enable_vision_features=True, vectorizer=None, text_ngram_params=None, **kwargs)\n",
      " |  \n",
      " |  Pipeline feature generator with simplified arguments to handle most Tabular data including text and dates adequately.\n",
      " |  This is the default feature generation pipeline used by AutoGluon when unspecified.\n",
      " |  For more customization options, refer to :class:`PipelineFeatureGenerator` and :class:`BulkFeatureGenerator`.\n",
      " |  \n",
      " |  Parameters\n",
      " |  ----------\n",
      " |  enable_numeric_features : bool, default True\n",
      " |      Whether to keep features of 'int' and 'float' raw types.\n",
      " |      These features are passed without alteration to the models.\n",
      " |      Appends IdentityFeatureGenerator(infer_features_in_args=dict(valid_raw_types=['int', 'float']))) to the generator group.\n",
      " |  enable_categorical_features : bool, default True\n",
      " |      Whether to keep features of 'object' and 'category' raw types.\n",
      " |      These features are processed into memory optimized 'category' features.\n",
      " |      Appends CategoryFeatureGenerator() to the generator group.\n",
      " |  enable_datetime_features : bool, default True\n",
      " |      Whether to keep features of 'datetime' raw type and 'object' features identified as 'datetime_as_object' features.\n",
      " |      These features will be converted to 'int' features representing milliseconds since epoch.\n",
      " |      Appends DatetimeFeatureGenerator() to the generator group.\n",
      " |  enable_text_special_features : bool, default True\n",
      " |      Whether to use 'object' features identified as 'text' features to generate 'text_special' features such as word count, capital letter ratio, and symbol counts.\n",
      " |      Appends TextSpecialFeatureGenerator() to the generator group.\n",
      " |  enable_text_ngram_features : bool, default True\n",
      " |      Whether to use 'object' features identified as 'text' features to generate 'text_ngram' features.\n",
      " |      Appends TextNgramFeatureGenerator(vectorizer=vectorizer, text_ngram_params) to the generator group. See text_ngram.py for valid parameters.\n",
      " |  enable_raw_text_features : bool, default False\n",
      " |      Whether to use the raw text features. The generated raw text features will end up with '_raw_text' suffix.\n",
      " |      For example, 'sentence' --> 'sentence_raw_text'\n",
      " |  enable_vision_features : bool, default True\n",
      " |      [Experimental]\n",
      " |      Whether to keep 'object' features identified as 'image_path' special type. Features of this form should have a string path to an image file as their value.\n",
      " |      Only vision models can leverage these features, and these features will not be treated as categorical.\n",
      " |      Note: 'image_path' features will not be automatically inferred. These features must be explicitly specified as such in a custom FeatureMetadata object.\n",
      " |      Note: It is recommended that the string paths use absolute paths rather than relative, as it will likely be more stable.\n",
      " |  vectorizer : :class:`sklearn.feature_extraction.text.CountVectorizer`, default CountVectorizer(min_df=30, ngram_range=(1, 3), max_features=10000, dtype=np.uint8)\n",
      " |      sklearn CountVectorizer object to use in :class:`TextNgramFeatureGenerator`.\n",
      " |      Only used if `enable_text_ngram_features=True`.\n",
      " |  **kwargs :\n",
      " |      Refer to :class:`AbstractFeatureGenerator` documentation for details on valid key word arguments.\n",
      " |  \n",
      " |  Examples\n",
      " |  --------\n",
      " |  >>> from autogluon.tabular import TabularDataset\n",
      " |  >>> from autogluon.features.generators import AutoMLPipelineFeatureGenerator\n",
      " |  >>>\n",
      " |  >>> feature_generator = AutoMLPipelineFeatureGenerator()\n",
      " |  >>>\n",
      " |  >>> label = 'class'\n",
      " |  >>> train_data = TabularDataset('https://autogluon.s3.amazonaws.com/datasets/Inc/train.csv')\n",
      " |  >>> X_train = train_data.drop(labels=[label], axis=1)\n",
      " |  >>> y_train = train_data[label]\n",
      " |  >>>\n",
      " |  >>> X_train_transformed = feature_generator.fit_transform(X=X_train, y=y_train)\n",
      " |  >>>\n",
      " |  >>> test_data = TabularDataset('https://autogluon.s3.amazonaws.com/datasets/Inc/test.csv')\n",
      " |  >>>\n",
      " |  >>> X_test_transformed = feature_generator.transform(test_data)\n",
      " |  \n",
      " |  Method resolution order:\n",
      " |      AutoMLPipelineFeatureGenerator\n",
      " |      autogluon.features.generators.pipeline.PipelineFeatureGenerator\n",
      " |      autogluon.features.generators.bulk.BulkFeatureGenerator\n",
      " |      autogluon.features.generators.abstract.AbstractFeatureGenerator\n",
      " |      builtins.object\n",
      " |  \n",
      " |  Methods defined here:\n",
      " |  \n",
      " |  __init__(self, enable_numeric_features=True, enable_categorical_features=True, enable_datetime_features=True, enable_text_special_features=True, enable_text_ngram_features=True, enable_raw_text_features=False, enable_vision_features=True, vectorizer=None, text_ngram_params=None, **kwargs)\n",
      " |      Initialize self.  See help(type(self)) for accurate signature.\n",
      " |  \n",
      " |  ----------------------------------------------------------------------\n",
      " |  Methods inherited from autogluon.features.generators.pipeline.PipelineFeatureGenerator:\n",
      " |  \n",
      " |  fit_transform(self, X: pandas.core.frame.DataFrame, y=None, feature_metadata_in: autogluon.common.features.feature_metadata.FeatureMetadata = None, **kwargs) -> pandas.core.frame.DataFrame\n",
      " |      Fit generator to the provided data and return the transformed version of the data as if fit and transform were called sequentially with the same data.\n",
      " |      This is generally more efficient than calling fit and transform separately and can be up to twice as fast if the fit process requires transformation of the data.\n",
      " |      This cannot be called after the generator has been fit, and will result in an AssertionError.\n",
      " |      \n",
      " |      Parameters\n",
      " |      ----------\n",
      " |      X : DataFrame\n",
      " |          Input data used to fit the generator.\n",
      " |      y : Series, optional\n",
      " |          Input data's labels used to fit the generator. Most generators do not utilize labels.\n",
      " |          y.index must be equal to X.index to avoid misalignment.\n",
      " |      feature_metadata_in : FeatureMetadata, optional\n",
      " |          Identical to providing feature_metadata_in during generator initialization. Ignored if self.feature_metadata_in is already specified.\n",
      " |          If neither are set, feature_metadata_in will be inferred from the _infer_feature_metadata_in method.\n",
      " |      **kwargs\n",
      " |          Any additional arguments that a particular generator implementation could use. Passed to _fit_transform and _fit_generators methods.\n",
      " |      \n",
      " |      Returns\n",
      " |      -------\n",
      " |      X_out : DataFrame object which is the transformed version of the input data X.\n",
      " |  \n",
      " |  print_feature_metadata_info(self, log_level=20)\n",
      " |      Outputs detailed logs of a fit feature generator including the input and output FeatureMetadata objects' feature types.\n",
      " |      \n",
      " |      Parameters\n",
      " |      ----------\n",
      " |      log_level : int, default 20\n",
      " |          Log level of the logging statements.\n",
      " |  \n",
      " |  ----------------------------------------------------------------------\n",
      " |  Methods inherited from autogluon.features.generators.bulk.BulkFeatureGenerator:\n",
      " |  \n",
      " |  get_feature_links_chain(self)\n",
      " |      Get the feature dependence chain between this generator and all of its post generators.\n",
      " |  \n",
      " |  ----------------------------------------------------------------------\n",
      " |  Static methods inherited from autogluon.features.generators.bulk.BulkFeatureGenerator:\n",
      " |  \n",
      " |  get_default_infer_features_in_args() -> dict\n",
      " |  \n",
      " |  ----------------------------------------------------------------------\n",
      " |  Methods inherited from autogluon.features.generators.abstract.AbstractFeatureGenerator:\n",
      " |  \n",
      " |  fit(self, X: pandas.core.frame.DataFrame, **kwargs)\n",
      " |      Fit generator to the provided data.\n",
      " |      Because of how the generators track output features and types, it is generally required that the data be transformed during fit, so the fit function is rarely useful to implement beyond a simple call to fit_transform.\n",
      " |      \n",
      " |      Parameters\n",
      " |      ----------\n",
      " |      X : DataFrame\n",
      " |          Input data used to fit the generator.\n",
      " |      **kwargs\n",
      " |          Any additional arguments that a particular generator implementation could use.\n",
      " |          See fit_transform method for common kwargs values.\n",
      " |  \n",
      " |  get_feature_links(self) -> Dict[str, List[str]]\n",
      " |      Returns feature links including all pre and post generators.\n",
      " |  \n",
      " |  get_tags(self) -> dict\n",
      " |      Gets the tags for this generator.\n",
      " |  \n",
      " |  is_fit(self)\n",
      " |  \n",
      " |  is_valid_metadata_in(self, feature_metadata_in: autogluon.common.features.feature_metadata.FeatureMetadata)\n",
      " |      True if input data with feature metadata of feature_metadata_in could result in non-empty output.\n",
      " |          This is dictated by `feature_metadata_in.get_features(**self._infer_features_in_args)` not being empty.\n",
      " |      False if the features represented in feature_metadata_in do not contain any usable types for the generator.\n",
      " |          For example, if only numeric features are passed as input to TextSpecialFeatureGenerator which requires text input features, this will return False.\n",
      " |          However, if both numeric and text features are passed, this will return True since the text features would be valid input (the numeric features would simply be dropped).\n",
      " |  \n",
      " |  print_generator_info(self, log_level: int = 20)\n",
      " |      Outputs detailed logs of the generator, such as the fit runtime.\n",
      " |      \n",
      " |      Parameters\n",
      " |      ----------\n",
      " |      log_level : int, default 20\n",
      " |          Log level of the logging statements.\n",
      " |  \n",
      " |  save(self, path: str)\n",
      " |  \n",
      " |  set_log_prefix(self, log_prefix, prepend=False)\n",
      " |      # TODO: Consider adding _log and verbosity methods to mixin\n",
      " |  \n",
      " |  set_verbosity(self, verbosity: int)\n",
      " |  \n",
      " |  transform(self, X: pandas.core.frame.DataFrame) -> pandas.core.frame.DataFrame\n",
      " |      Transforms input data into the output data format.\n",
      " |      Will raise an AssertionError if called before the generator has been fit using fit or fit_transform methods.\n",
      " |      \n",
      " |      Parameters\n",
      " |      ----------\n",
      " |      X : DataFrame\n",
      " |          Input data to be transformed by the generator.\n",
      " |          Input data must contain all features in features_in, and should have the same dtypes as in the data provided to fit.\n",
      " |          Extra columns present in X that are not in features_in will be ignored and not affect the output.\n",
      " |      \n",
      " |      Returns\n",
      " |      -------\n",
      " |      X_out : DataFrame object which is the transformed version of the input data X.\n",
      " |  \n",
      " |  ----------------------------------------------------------------------\n",
      " |  Data descriptors inherited from autogluon.features.generators.abstract.AbstractFeatureGenerator:\n",
      " |  \n",
      " |  __dict__\n",
      " |      dictionary for instance variables (if defined)\n",
      " |  \n",
      " |  __weakref__\n",
      " |      list of weak references to the object (if defined)\n",
      "\n"
     ]
    }
   ],
   "source": [
    "help(AutoMLPipelineFeatureGenerator)"
   ]
  },
  {
   "cell_type": "code",
   "execution_count": 82,
   "id": "2812f3ac",
   "metadata": {},
   "outputs": [],
   "source": [
    "# initialized a group of outlier detectors for acceleration\n",
    "#detector_list = [LOF(n_neighbors=15), LOF(n_neighbors=20),\n",
    "#                 LOF(n_neighbors=25), LOF(n_neighbors=35),\n",
    "#                 COPOD(), IForest(n_estimators=100),\n",
    "#                 IForest(n_estimators=200)]\n",
    "\n",
    "# decide the number of parallel process, and the combination method\n",
    "# then clf can be used as any outlier detection model\n",
    "clf = IForest()"
   ]
  },
  {
   "cell_type": "code",
   "execution_count": 83,
   "id": "000eab02",
   "metadata": {},
   "outputs": [
    {
     "data": {
      "text/plain": [
       "IForest(behaviour='old', bootstrap=False, contamination=0.1, max_features=1.0,\n",
       "    max_samples='auto', n_estimators=100, n_jobs=1, random_state=None,\n",
       "    verbose=0)"
      ]
     },
     "execution_count": 83,
     "metadata": {},
     "output_type": "execute_result"
    }
   ],
   "source": [
    "clf.fit(train_trans)"
   ]
  },
  {
   "cell_type": "code",
   "execution_count": 39,
   "id": "a2b89e7f",
   "metadata": {},
   "outputs": [],
   "source": [
    "train_ano_scores = clf.decision_function(train_trans)\n",
    "\n",
    "test_ano_scores = clf.decision_function(test_trans)"
   ]
  },
  {
   "cell_type": "code",
   "execution_count": 41,
   "id": "f39c0cce",
   "metadata": {},
   "outputs": [],
   "source": [
    "test_cs['ano_scores'] = test_ano_scores\n",
    "test_cs['dataset'] = 'test'\n",
    "train_cs['ano_scores'] = train_ano_scores\n",
    "train_cs['dataset'] = 'train'"
   ]
  },
  {
   "cell_type": "code",
   "execution_count": 44,
   "id": "ea59d852",
   "metadata": {},
   "outputs": [],
   "source": [
    "full_ano_data = pd.concat( (train_cs, test_cs) )"
   ]
  },
  {
   "cell_type": "code",
   "execution_count": 54,
   "id": "a5b28253",
   "metadata": {},
   "outputs": [],
   "source": [
    "full_ano_data.columns = full_ano_data.columns.str.replace('-', '_')"
   ]
  },
  {
   "cell_type": "code",
   "execution_count": 55,
   "id": "4fa3049b",
   "metadata": {},
   "outputs": [
    {
     "data": {
      "image/png": "[encoded data removed]",
      "text/plain": [
       "<Figure size 640x480 with 7 Axes>"
      ]
     },
     "metadata": {},
     "output_type": "display_data"
    },
    {
     "data": {
      "text/plain": [
       "<ggplot: (8772251407794)>"
      ]
     },
     "execution_count": 55,
     "metadata": {},
     "output_type": "execute_result"
    }
   ],
   "source": [
    "p9.ggplot(full_ano_data, p9.aes(x = 'ano_scores', fill = 'dataset'))\\\n",
    "+ p9.geom_density(alpha = 0.3) + p9.facet_wrap('~ marital_status')"
   ]
  },
  {
   "cell_type": "code",
   "execution_count": 89,
   "id": "f4d7c5ee",
   "metadata": {},
   "outputs": [],
   "source": [
    "ano_pivot = full_ano_data.value_counts(['dataset', 'marital_status']).reset_index().pivot('marital_status','dataset')"
   ]
  },
  {
   "cell_type": "code",
   "execution_count": 91,
   "id": "b98c5206",
   "metadata": {},
   "outputs": [],
   "source": [
    "ano_cross = pd.crosstab(full_ano_data['dataset'], full_ano_data['marital_status'])\n",
    "\n",
    "chi2_contingency(ano_cross)"
   ]
  },
  {
   "cell_type": "code",
   "execution_count": 76,
   "id": "f326e9ee",
   "metadata": {},
   "outputs": [
    {
     "data": {
      "text/html": [
       "<div>\n",
       "<style scoped>\n",
       "    .dataframe tbody tr th:only-of-type {\n",
       "        vertical-align: middle;\n",
       "    }\n",
       "\n",
       "    .dataframe tbody tr th {\n",
       "        vertical-align: top;\n",
       "    }\n",
       "\n",
       "    .dataframe thead tr th {\n",
       "        text-align: left;\n",
       "    }\n",
       "\n",
       "    .dataframe thead tr:last-of-type th {\n",
       "        text-align: right;\n",
       "    }\n",
       "</style>\n",
       "<table border=\"1\" class=\"dataframe\">\n",
       "  <thead>\n",
       "    <tr>\n",
       "      <th></th>\n",
       "      <th colspan=\"2\" halign=\"left\">0</th>\n",
       "    </tr>\n",
       "    <tr>\n",
       "      <th>dataset</th>\n",
       "      <th>test</th>\n",
       "      <th>train</th>\n",
       "    </tr>\n",
       "    <tr>\n",
       "      <th>marital_status</th>\n",
       "      <th></th>\n",
       "      <th></th>\n",
       "    </tr>\n",
       "  </thead>\n",
       "  <tbody>\n",
       "    <tr>\n",
       "      <th>Divorced</th>\n",
       "      <td>0.087661</td>\n",
       "      <td>0.166321</td>\n",
       "    </tr>\n",
       "    <tr>\n",
       "      <th>Married-AF-spouse</th>\n",
       "      <td>0.000422</td>\n",
       "      <td>0.000970</td>\n",
       "    </tr>\n",
       "    <tr>\n",
       "      <th>Married-civ-spouse</th>\n",
       "      <td>0.646242</td>\n",
       "      <td>0.338998</td>\n",
       "    </tr>\n",
       "    <tr>\n",
       "      <th>Married-spouse-absent</th>\n",
       "      <td>0.008866</td>\n",
       "      <td>0.015388</td>\n",
       "    </tr>\n",
       "    <tr>\n",
       "      <th>Never-married</th>\n",
       "      <td>0.214957</td>\n",
       "      <td>0.402890</td>\n",
       "    </tr>\n",
       "    <tr>\n",
       "      <th>Separated</th>\n",
       "      <td>0.019897</td>\n",
       "      <td>0.038570</td>\n",
       "    </tr>\n",
       "    <tr>\n",
       "      <th>Widowed</th>\n",
       "      <td>0.021955</td>\n",
       "      <td>0.036864</td>\n",
       "    </tr>\n",
       "  </tbody>\n",
       "</table>\n",
       "</div>"
      ],
      "text/plain": [
       "                              0          \n",
       "dataset                    test     train\n",
       "marital_status                           \n",
       "Divorced               0.087661  0.166321\n",
       "Married-AF-spouse      0.000422  0.000970\n",
       "Married-civ-spouse     0.646242  0.338998\n",
       "Married-spouse-absent  0.008866  0.015388\n",
       "Never-married          0.214957  0.402890\n",
       "Separated              0.019897  0.038570\n",
       "Widowed                0.021955  0.036864"
      ]
     },
     "execution_count": 76,
     "metadata": {},
     "output_type": "execute_result"
    }
   ],
   "source": [
    "ano_pivot / ano_pivot.sum(axis=0)"
   ]
  },
  {
   "cell_type": "code",
   "execution_count": 84,
   "id": "f142aa2e",
   "metadata": {},
   "outputs": [],
   "source": [
    "train_ano_scores = clf.predict(train_trans)\n",
    "test_ano_scores = clf.predict(test_trans)"
   ]
  },
  {
   "cell_type": "code",
   "execution_count": 87,
   "id": "4ab4f89c",
   "metadata": {},
   "outputs": [
    {
     "data": {
      "text/plain": [
       "0.1000233465630524"
      ]
     },
     "execution_count": 87,
     "metadata": {},
     "output_type": "execute_result"
    }
   ],
   "source": [
    "train_ano_scores.mean()"
   ]
  },
  {
   "cell_type": "code",
   "execution_count": 88,
   "id": "31149b07",
   "metadata": {},
   "outputs": [
    {
     "data": {
      "text/plain": [
       "0.10578503632218039"
      ]
     },
     "execution_count": 88,
     "metadata": {},
     "output_type": "execute_result"
    }
   ],
   "source": [
    "test_ano_scores.mean()"
   ]
  },
  {
   "cell_type": "code",
   "execution_count": 41,
   "id": "be18996e",
   "metadata": {},
   "outputs": [],
   "source": [
    "test_cs['ano_scores'] = test_ano_scores\n",
    "test_cs['dataset'] = 'test'\n",
    "train_cs['ano_scores'] = train_ano_scores\n",
    "train_cs['dataset'] = 'train'"
   ]
  }
 ],
 "metadata": {
  "kernelspec": {
   "display_name": "eda_env",
   "language": "python",
   "name": "eda_env"
  },
  "language_info": {
   "codemirror_mode": {
    "name": "ipython",
    "version": 3
   },
   "file_extension": ".py",
   "mimetype": "text/x-python",
   "name": "python",
   "nbconvert_exporter": "python",
   "pygments_lexer": "ipython3",
   "version": "3.9.13"
  }
 },
 "nbformat": 4,
 "nbformat_minor": 5
}
