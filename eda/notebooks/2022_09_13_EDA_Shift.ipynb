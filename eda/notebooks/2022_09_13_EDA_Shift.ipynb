{
 "cells": [
  {
   "cell_type": "markdown",
   "id": "9ce15cc1",
   "metadata": {
    "pycharm": {
     "name": "#%% md\n"
    }
   },
   "source": [
    "# AutoEDA XShiftDetection Tutorial"
   ]
  },
  {
   "cell_type": "markdown",
   "id": "b8dfae51",
   "metadata": {
    "pycharm": {
     "name": "#%% md\n"
    }
   },
   "source": [
    "## Introduction\n",
    "\n",
    "Distributional shift is when there is a difference between the training and test data in a prediction problem.  In this tutorial we introduce the `C2STShiftDetector` class which will detect and explain a change in the covariate (X) distributions, a phenomenon that we call XShift.  This is one of the ways in which distributional shift can manifest, but not the only one."
   ]
  },
  {
   "cell_type": "code",
   "execution_count": 1,
   "id": "6ab131e9",
   "metadata": {},
   "outputs": [],
   "source": [
    "%load_ext autoreload\n",
    "%autoreload 2\n",
    "%matplotlib inline "
   ]
  },
  {
   "cell_type": "code",
   "execution_count": 2,
   "id": "cdb99331",
   "metadata": {
    "pycharm": {
     "name": "#%%\n"
    }
   },
   "outputs": [],
   "source": [
    "import autogluon.eda.analysis as eda\n",
    "import autogluon.eda.auto as auto\n",
    "import autogluon.eda.visualization as viz"
   ]
  },
  {
   "cell_type": "code",
   "execution_count": 3,
   "id": "52103649",
   "metadata": {
    "pycharm": {
     "name": "#%%\n"
    }
   },
   "outputs": [],
   "source": [
    "from helpers import load_adult_data, sim_cov_shift\n",
    "from sklearn import metrics\n",
    "from autogluon.tabular import TabularPredictor\n",
    "import plotnine as p9\n",
    "import bisect"
   ]
  },
  {
   "cell_type": "markdown",
   "id": "5cd94353",
   "metadata": {
    "pycharm": {
     "name": "#%% md\n"
    }
   },
   "source": [
    "## Importing data\n",
    "\n",
    "We will import the adult dataset.  In the following analysis we will construct a dataset with covariate shift.  This means that we will need to identify a feature that can be used to bias the training sample, in order to make it not representative of the test population.  As we can see the marital status has a good mix of married and never-married, making it a potential candidate "
   ]
  },
  {
   "cell_type": "code",
   "execution_count": 4,
   "id": "b22fd8a4",
   "metadata": {
    "pycharm": {
     "name": "#%%\n"
    }
   },
   "outputs": [
    {
     "data": {
      "text/html": [
       "<div>\n",
       "<style scoped>\n",
       "    .dataframe tbody tr th:only-of-type {\n",
       "        vertical-align: middle;\n",
       "    }\n",
       "\n",
       "    .dataframe tbody tr th {\n",
       "        vertical-align: top;\n",
       "    }\n",
       "\n",
       "    .dataframe thead th {\n",
       "        text-align: right;\n",
       "    }\n",
       "</style>\n",
       "<table border=\"1\" class=\"dataframe\">\n",
       "  <thead>\n",
       "    <tr style=\"text-align: right;\">\n",
       "      <th></th>\n",
       "      <th>age</th>\n",
       "      <th>workclass</th>\n",
       "      <th>fnlwgt</th>\n",
       "      <th>education</th>\n",
       "      <th>education-num</th>\n",
       "      <th>marital-status</th>\n",
       "      <th>occupation</th>\n",
       "      <th>relationship</th>\n",
       "      <th>race</th>\n",
       "      <th>sex</th>\n",
       "      <th>capital-gain</th>\n",
       "      <th>capital-loss</th>\n",
       "      <th>hours-per-week</th>\n",
       "      <th>native-country</th>\n",
       "      <th>class</th>\n",
       "    </tr>\n",
       "  </thead>\n",
       "  <tbody>\n",
       "    <tr>\n",
       "      <th>0</th>\n",
       "      <td>25</td>\n",
       "      <td>Private</td>\n",
       "      <td>178478</td>\n",
       "      <td>Bachelors</td>\n",
       "      <td>13</td>\n",
       "      <td>Never-married</td>\n",
       "      <td>Tech-support</td>\n",
       "      <td>Own-child</td>\n",
       "      <td>White</td>\n",
       "      <td>Female</td>\n",
       "      <td>0</td>\n",
       "      <td>0</td>\n",
       "      <td>40</td>\n",
       "      <td>United-States</td>\n",
       "      <td>&lt;=50K</td>\n",
       "    </tr>\n",
       "    <tr>\n",
       "      <th>1</th>\n",
       "      <td>23</td>\n",
       "      <td>State-gov</td>\n",
       "      <td>61743</td>\n",
       "      <td>5th-6th</td>\n",
       "      <td>3</td>\n",
       "      <td>Never-married</td>\n",
       "      <td>Transport-moving</td>\n",
       "      <td>Not-in-family</td>\n",
       "      <td>White</td>\n",
       "      <td>Male</td>\n",
       "      <td>0</td>\n",
       "      <td>0</td>\n",
       "      <td>35</td>\n",
       "      <td>United-States</td>\n",
       "      <td>&lt;=50K</td>\n",
       "    </tr>\n",
       "    <tr>\n",
       "      <th>2</th>\n",
       "      <td>46</td>\n",
       "      <td>Private</td>\n",
       "      <td>376789</td>\n",
       "      <td>HS-grad</td>\n",
       "      <td>9</td>\n",
       "      <td>Never-married</td>\n",
       "      <td>Other-service</td>\n",
       "      <td>Not-in-family</td>\n",
       "      <td>White</td>\n",
       "      <td>Male</td>\n",
       "      <td>0</td>\n",
       "      <td>0</td>\n",
       "      <td>15</td>\n",
       "      <td>United-States</td>\n",
       "      <td>&lt;=50K</td>\n",
       "    </tr>\n",
       "    <tr>\n",
       "      <th>3</th>\n",
       "      <td>55</td>\n",
       "      <td>?</td>\n",
       "      <td>200235</td>\n",
       "      <td>HS-grad</td>\n",
       "      <td>9</td>\n",
       "      <td>Married-civ-spouse</td>\n",
       "      <td>?</td>\n",
       "      <td>Husband</td>\n",
       "      <td>White</td>\n",
       "      <td>Male</td>\n",
       "      <td>0</td>\n",
       "      <td>0</td>\n",
       "      <td>50</td>\n",
       "      <td>United-States</td>\n",
       "      <td>&gt;50K</td>\n",
       "    </tr>\n",
       "    <tr>\n",
       "      <th>4</th>\n",
       "      <td>36</td>\n",
       "      <td>Private</td>\n",
       "      <td>224541</td>\n",
       "      <td>7th-8th</td>\n",
       "      <td>4</td>\n",
       "      <td>Married-civ-spouse</td>\n",
       "      <td>Handlers-cleaners</td>\n",
       "      <td>Husband</td>\n",
       "      <td>White</td>\n",
       "      <td>Male</td>\n",
       "      <td>0</td>\n",
       "      <td>0</td>\n",
       "      <td>40</td>\n",
       "      <td>El-Salvador</td>\n",
       "      <td>&lt;=50K</td>\n",
       "    </tr>\n",
       "  </tbody>\n",
       "</table>\n",
       "</div>"
      ],
      "text/plain": [
       "   age   workclass  fnlwgt   education  education-num       marital-status  \\\n",
       "0   25     Private  178478   Bachelors             13        Never-married   \n",
       "1   23   State-gov   61743     5th-6th              3        Never-married   \n",
       "2   46     Private  376789     HS-grad              9        Never-married   \n",
       "3   55           ?  200235     HS-grad              9   Married-civ-spouse   \n",
       "4   36     Private  224541     7th-8th              4   Married-civ-spouse   \n",
       "\n",
       "           occupation    relationship    race      sex  capital-gain  \\\n",
       "0        Tech-support       Own-child   White   Female             0   \n",
       "1    Transport-moving   Not-in-family   White     Male             0   \n",
       "2       Other-service   Not-in-family   White     Male             0   \n",
       "3                   ?         Husband   White     Male             0   \n",
       "4   Handlers-cleaners         Husband   White     Male             0   \n",
       "\n",
       "   capital-loss  hours-per-week  native-country   class  \n",
       "0             0              40   United-States   <=50K  \n",
       "1             0              35   United-States   <=50K  \n",
       "2             0              15   United-States   <=50K  \n",
       "3             0              50   United-States    >50K  \n",
       "4             0              40     El-Salvador   <=50K  "
      ]
     },
     "execution_count": 4,
     "metadata": {},
     "output_type": "execute_result"
    }
   ],
   "source": [
    "train, test = load_adult_data()\n",
    "\n",
    "train.head()"
   ]
  },
  {
   "cell_type": "code",
   "execution_count": 5,
   "id": "8407c1f7",
   "metadata": {
    "pycharm": {
     "name": "#%%\n"
    }
   },
   "outputs": [
    {
     "data": {
      "text/plain": [
       "marital-status        \n",
       " Married-civ-spouse       0.458705\n",
       " Never-married            0.330586\n",
       " Divorced                 0.134338\n",
       " Separated                0.031787\n",
       " Widowed                  0.031377\n",
       " Married-spouse-absent    0.012592\n",
       " Married-AF-spouse        0.000614\n",
       "dtype: float64"
      ]
     },
     "execution_count": 5,
     "metadata": {},
     "output_type": "execute_result"
    }
   ],
   "source": [
    "train[['marital-status']].value_counts(normalize=True)"
   ]
  },
  {
   "cell_type": "markdown",
   "id": "797669c5",
   "metadata": {
    "pycharm": {
     "name": "#%% md\n"
    }
   },
   "source": [
    "## Detecting XShift\n",
    "\n",
    "First we will apply the XShift detector to the original adults dataset.  This detector uses the Classifier 2 Sample Test, hence it is `C2STShiftDetector`.  We see that our test does not detect a substantial difference between the training and test X distributions.  This was determined by calculating the balanced accuracy (50.02%) for a classifier, which predicts if a sample is in the test or training set.  This is so close to 50% (random guessing) that we suspect that the adults training/test sets are a random sample split."
   ]
  },
  {
   "cell_type": "code",
   "execution_count": 6,
   "id": "70fe47f5",
   "metadata": {},
   "outputs": [
    {
     "name": "stderr",
     "output_type": "stream",
     "text": [
      "Warning: path already exists! This predictor may overwrite an existing predictor! path=\"AutogluonModels\"\n",
      "/Users/jsharpna/opt/anaconda3/envs/eda_env/lib/python3.9/site-packages/xgboost/compat.py:31: FutureWarning: pandas.Int64Index is deprecated and will be removed from pandas in a future version. Use pandas.Index with the appropriate dtype instead.\n"
     ]
    },
    {
     "data": {
      "text/html": [
       "<h3>Detecting distribution shift</h3>"
      ],
      "text/plain": [
       "<IPython.core.display.HTML object>"
      ]
     },
     "metadata": {},
     "output_type": "display_data"
    },
    {
     "data": {
      "text/markdown": [
       "We did not detect a substantial difference between the training and test X distributions."
      ],
      "text/plain": [
       "<IPython.core.display.Markdown object>"
      ]
     },
     "metadata": {},
     "output_type": "display_data"
    }
   ],
   "source": [
    "analysis_args = dict(\n",
    "    train_data=train,\n",
    "    test_data=test,\n",
    "    label='class',\n",
    ")\n",
    "\n",
    "viz_args = dict(headers=True)\n",
    "\n",
    "auto.analyze(**analysis_args, anlz_facets=[\n",
    "    eda.shift.XShiftDetector(classifier_kwargs = {'path': 'AutogluonModels'})\n",
    "],\n",
    "viz_facets=[\n",
    "    viz.shift.XShiftSummary(**viz_args)\n",
    "]\n",
    ")"
   ]
  },
  {
   "cell_type": "markdown",
   "id": "8fc800d9",
   "metadata": {
    "pycharm": {
     "name": "#%% md\n"
    }
   },
   "source": [
    "## Simulating covariate shift\n",
    "\n",
    "In this section, we will simulate covariate shift for the adults dataset.  We do this by finding a variable that has both high enough entropy to be useful to bias the training data, but also has some bearing on the penultimate prediction.  We find that marital status is one such variable, and the function `sim_cov_shift` creates a biased sample based on this."
   ]
  },
  {
   "cell_type": "code",
   "execution_count": 7,
   "id": "5cf79566",
   "metadata": {
    "pycharm": {
     "name": "#%%\n"
    }
   },
   "outputs": [],
   "source": [
    "# pred = TabularPredictor(label='class', \n",
    "#                         verbosity=0, \n",
    "#                         problem_type='binary',\n",
    "#                         path='AutogluonModels').fit(train)"
   ]
  },
  {
   "cell_type": "code",
   "execution_count": 8,
   "id": "583cc8f9",
   "metadata": {
    "pycharm": {
     "name": "#%%\n"
    }
   },
   "outputs": [],
   "source": [
    "# yhat = pred.predict(test)\n",
    "# metrics.balanced_accuracy_score(yhat, test['class'])"
   ]
  },
  {
   "cell_type": "code",
   "execution_count": 9,
   "id": "c60da699",
   "metadata": {
    "pycharm": {
     "name": "#%%\n"
    }
   },
   "outputs": [],
   "source": [
    "# pred.feature_importance(test)"
   ]
  },
  {
   "cell_type": "code",
   "execution_count": 10,
   "id": "4d3bb8d9",
   "metadata": {
    "pycharm": {
     "name": "#%%\n"
    }
   },
   "outputs": [],
   "source": [
    "train_cs, test_cs = sim_cov_shift(train, test)"
   ]
  },
  {
   "cell_type": "markdown",
   "id": "a853d572",
   "metadata": {
    "pycharm": {
     "name": "#%% md\n"
    }
   },
   "source": [
    "We can see that the new training data underrepresents the 'Married-civ-spouse' status while the test data overrepresents it."
   ]
  },
  {
   "cell_type": "code",
   "execution_count": 11,
   "id": "183837e8",
   "metadata": {
    "pycharm": {
     "name": "#%%\n"
    }
   },
   "outputs": [
    {
     "data": {
      "text/plain": [
       "marital-status\n",
       "Never-married            0.403670\n",
       "Married-civ-spouse       0.340509\n",
       "Divorced                 0.163548\n",
       "Separated                0.038353\n",
       "Widowed                  0.037724\n",
       "Married-spouse-absent    0.015235\n",
       "Married-AF-spouse        0.000960\n",
       "dtype: float64"
      ]
     },
     "execution_count": 11,
     "metadata": {},
     "output_type": "execute_result"
    }
   ],
   "source": [
    "train_cs.value_counts('marital-status',normalize=True)"
   ]
  },
  {
   "cell_type": "code",
   "execution_count": 12,
   "id": "0a65d871",
   "metadata": {
    "pycharm": {
     "name": "#%%\n"
    }
   },
   "outputs": [
    {
     "data": {
      "text/plain": [
       "marital-status\n",
       "Married-civ-spouse       0.648721\n",
       "Never-married            0.210682\n",
       "Divorced                 0.090890\n",
       "Widowed                  0.020323\n",
       "Separated                0.019947\n",
       "Married-spouse-absent    0.009009\n",
       "Married-AF-spouse        0.000429\n",
       "dtype: float64"
      ]
     },
     "execution_count": 12,
     "metadata": {},
     "output_type": "execute_result"
    }
   ],
   "source": [
    "test_cs.value_counts('marital-status',normalize=True)"
   ]
  },
  {
   "cell_type": "markdown",
   "id": "137bf51a",
   "metadata": {
    "pycharm": {
     "name": "#%% md\n"
    }
   },
   "source": [
    "We now train the XShift detector on the shifted data."
   ]
  },
  {
   "cell_type": "code",
   "execution_count": 13,
   "id": "91b805b0",
   "metadata": {},
   "outputs": [
    {
     "name": "stderr",
     "output_type": "stream",
     "text": [
      "Warning: path already exists! This predictor may overwrite an existing predictor! path=\"AutogluonModels\"\n"
     ]
    },
    {
     "data": {
      "text/html": [
       "<h3>Detecting distribution shift</h3>"
      ],
      "text/plain": [
       "<IPython.core.display.HTML object>"
      ]
     },
     "metadata": {},
     "output_type": "display_data"
    },
    {
     "data": {
      "text/markdown": [
       "We detected a substantial difference between the training and test X distributions,\n",
       "a type of distribution shift.\n",
       "\n",
       "**Test results**: We can predict whether a sample is in the test vs. training set with a balanced_accuracy of\n",
       "0.6524 with a p-value of 0.0010 (smaller than the threshold of 0.0100).\n",
       "\n",
       "**Feature importances**: The variables that are the most responsible for this shift are those with high feature importance:\n",
       "\n",
       "|                |   importance |      stddev |     p_value |   n |    p99_high |      p99_low |\n",
       "|:---------------|-------------:|------------:|------------:|----:|------------:|-------------:|\n",
       "| marital-status |  0.118595    | 0.00888607  | 3.75415e-06 |   5 | 0.136891    |  0.100298    |\n",
       "| relationship   |  0.0289664   | 0.00348383  | 2.46319e-05 |   5 | 0.0361397   |  0.0217932   |\n",
       "| sex            |  0.00310872  | 0.00137286  | 0.00358182  |   5 | 0.00593546  |  0.000281973 |\n",
       "| fnlwgt         |  0.00071082  | 0.00295516  | 0.309604    |   5 | 0.00679553  | -0.00537389  |\n",
       "| occupation     |  0.000296461 | 0.00095199  | 0.26228     |   5 | 0.00225662  | -0.0016637   |\n",
       "| capital-loss   |  0.000225193 | 0.000764239 | 0.272983    |   5 | 0.00179877  | -0.00134839  |\n",
       "| education-num  |  0.000178889 | 0.00044286  | 0.208738    |   5 | 0.00109074  | -0.000732965 |\n",
       "| native-country |  6.38637e-05 | 0.000993005 | 0.446303    |   5 | 0.00210847  | -0.00198075  |\n",
       "| education      |  4.83311e-05 | 0.00090621  | 0.455411    |   5 | 0.00191423  | -0.00181757  |\n",
       "| race           |  2.99717e-05 | 0.000283847 | 0.412473    |   5 | 0.000614416 | -0.000554472 |\n",
       "| hours-per-week | -0.000184255 | 0.000757922 | 0.692203    |   5 | 0.00137632  | -0.00174483  |\n",
       "| capital-gain   | -0.000529886 | 0.000769248 | 0.900832    |   5 | 0.001054    | -0.00211378  |\n",
       "| workclass      | -0.000560566 | 0.000392398 | 0.983461    |   5 | 0.000247386 | -0.00136852  |\n",
       "| age            | -0.0011886   | 0.00166521  | 0.907146    |   5 | 0.00224009  | -0.00461728  |"
      ],
      "text/plain": [
       "<IPython.core.display.Markdown object>"
      ]
     },
     "metadata": {},
     "output_type": "display_data"
    }
   ],
   "source": [
    "analysis_args = dict(\n",
    "    train_data=train_cs,\n",
    "    test_data=test_cs,\n",
    "    label='class',\n",
    ")\n",
    "\n",
    "viz_args = dict(headers=True)\n",
    "\n",
    "auto.analyze(**analysis_args, anlz_facets=[\n",
    "    eda.shift.XShiftDetector(classifier_kwargs = {'path': 'AutogluonModels'})\n",
    "],\n",
    "viz_facets=[\n",
    "    viz.shift.XShiftSummary(**viz_args)\n",
    "]\n",
    ")"
   ]
  }
 ],
 "metadata": {
  "kernelspec": {
   "display_name": "eda_env",
   "language": "python",
   "name": "eda_env"
  },
  "language_info": {
   "codemirror_mode": {
    "name": "ipython",
    "version": 3
   },
   "file_extension": ".py",
   "mimetype": "text/x-python",
   "name": "python",
   "nbconvert_exporter": "python",
   "pygments_lexer": "ipython3",
   "version": "3.9.13"
  }
 },
 "nbformat": 4,
 "nbformat_minor": 5
}
