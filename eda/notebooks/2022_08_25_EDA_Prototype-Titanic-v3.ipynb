{
 "cells": [
  {
   "cell_type": "code",
   "execution_count": 1,
   "id": "17d2ba35",
   "metadata": {
    "ExecuteTime": {
     "end_time": "2022-08-25T00:09:40.825375Z",
     "start_time": "2022-08-25T00:09:40.805185Z"
    }
   },
   "outputs": [],
   "source": [
    "%load_ext autoreload\n",
    "%autoreload 2\n",
    "%matplotlib inline "
   ]
  },
  {
   "cell_type": "code",
   "execution_count": 2,
   "id": "6da9f656",
   "metadata": {
    "ExecuteTime": {
     "end_time": "2022-08-25T00:09:53.661768Z",
     "start_time": "2022-08-25T00:09:53.645767Z"
    }
   },
   "outputs": [
    {
     "ename": "ModuleNotFoundError",
     "evalue": "No module named 'altair'",
     "output_type": "error",
     "traceback": [
      "\u001b[0;31m---------------------------------------------------------------------------\u001b[0m",
      "\u001b[0;31mModuleNotFoundError\u001b[0m                       Traceback (most recent call last)",
      "Input \u001b[0;32mIn [2]\u001b[0m, in \u001b[0;36m<cell line: 6>\u001b[0;34m()\u001b[0m\n\u001b[1;32m      4\u001b[0m \u001b[38;5;28;01mimport\u001b[39;00m \u001b[38;5;21;01mnumpy\u001b[39;00m \u001b[38;5;28;01mas\u001b[39;00m \u001b[38;5;21;01mnp\u001b[39;00m\n\u001b[1;32m      5\u001b[0m \u001b[38;5;28;01mimport\u001b[39;00m \u001b[38;5;21;01mseaborn\u001b[39;00m \u001b[38;5;28;01mas\u001b[39;00m \u001b[38;5;21;01msns\u001b[39;00m\n\u001b[0;32m----> 6\u001b[0m \u001b[38;5;28;01mimport\u001b[39;00m \u001b[38;5;21;01maltair\u001b[39;00m \u001b[38;5;28;01mas\u001b[39;00m \u001b[38;5;21;01malt\u001b[39;00m\n\u001b[1;32m      7\u001b[0m \u001b[38;5;28;01mfrom\u001b[39;00m \u001b[38;5;21;01mpprint\u001b[39;00m \u001b[38;5;28;01mimport\u001b[39;00m pprint\n\u001b[1;32m      9\u001b[0m \u001b[38;5;28;01mimport\u001b[39;00m \u001b[38;5;21;01mautogluon\u001b[39;00m\u001b[38;5;21;01m.\u001b[39;00m\u001b[38;5;21;01meda\u001b[39;00m\u001b[38;5;21;01m.\u001b[39;00m\u001b[38;5;21;01manalysis\u001b[39;00m \u001b[38;5;28;01mas\u001b[39;00m \u001b[38;5;21;01meda\u001b[39;00m\n",
      "\u001b[0;31mModuleNotFoundError\u001b[0m: No module named 'altair'"
     ]
    }
   ],
   "source": [
    "import lightgbm\n",
    "\n",
    "import pandas as pd\n",
    "import numpy as np\n",
    "import seaborn as sns\n",
    "import altair as alt\n",
    "from pprint import pprint\n",
    "\n",
    "import autogluon.eda.analysis as eda\n",
    "import autogluon.eda.visualization as viz\n",
    "import autogluon.eda.auto as auto\n",
    "\n",
    "sns.set_theme(style='whitegrid')"
   ]
  },
  {
   "cell_type": "markdown",
   "id": "f32283f5",
   "metadata": {},
   "source": [
    "# EDA Sources\n",
    "- https://www.kaggle.com/code/masumrumi/a-statistical-analysis-ml-workflow-of-titanic"
   ]
  },
  {
   "cell_type": "code",
   "execution_count": 3,
   "id": "2117fc30",
   "metadata": {},
   "outputs": [],
   "source": [
    "df_train = pd.read_csv('/Users/ashyrkou/Projects/Datasets/titanic/train.csv')\n",
    "df_test = pd.read_csv('/Users/ashyrkou/Projects/Datasets/titanic/test.csv')\n",
    "target_col = 'Survived'\n",
    "\n",
    "common_args = dict(headers=True, fill=True)"
   ]
  },
  {
   "cell_type": "markdown",
   "id": "56a239fc",
   "metadata": {},
   "source": [
    "Let's take a look at sample datasets."
   ]
  },
  {
   "cell_type": "code",
   "execution_count": 4,
   "id": "d0956b74",
   "metadata": {},
   "outputs": [
    {
     "data": {
      "text/html": [
       "<div>\n",
       "<style scoped>\n",
       "    .dataframe tbody tr th:only-of-type {\n",
       "        vertical-align: middle;\n",
       "    }\n",
       "\n",
       "    .dataframe tbody tr th {\n",
       "        vertical-align: top;\n",
       "    }\n",
       "\n",
       "    .dataframe thead th {\n",
       "        text-align: right;\n",
       "    }\n",
       "</style>\n",
       "<table border=\"1\" class=\"dataframe\">\n",
       "  <thead>\n",
       "    <tr style=\"text-align: right;\">\n",
       "      <th></th>\n",
       "      <th>PassengerId</th>\n",
       "      <th>Survived</th>\n",
       "      <th>Pclass</th>\n",
       "      <th>Name</th>\n",
       "      <th>Sex</th>\n",
       "      <th>Age</th>\n",
       "      <th>SibSp</th>\n",
       "      <th>Parch</th>\n",
       "      <th>Ticket</th>\n",
       "      <th>Fare</th>\n",
       "      <th>Cabin</th>\n",
       "      <th>Embarked</th>\n",
       "    </tr>\n",
       "  </thead>\n",
       "  <tbody>\n",
       "    <tr>\n",
       "      <th>503</th>\n",
       "      <td>504</td>\n",
       "      <td>0</td>\n",
       "      <td>3</td>\n",
       "      <td>Laitinen, Miss. Kristina Sofia</td>\n",
       "      <td>female</td>\n",
       "      <td>37.0</td>\n",
       "      <td>0</td>\n",
       "      <td>0</td>\n",
       "      <td>4135</td>\n",
       "      <td>9.5875</td>\n",
       "      <td>NaN</td>\n",
       "      <td>S</td>\n",
       "    </tr>\n",
       "    <tr>\n",
       "      <th>381</th>\n",
       "      <td>382</td>\n",
       "      <td>1</td>\n",
       "      <td>3</td>\n",
       "      <td>Nakid, Miss. Maria (\"Mary\")</td>\n",
       "      <td>female</td>\n",
       "      <td>1.0</td>\n",
       "      <td>0</td>\n",
       "      <td>2</td>\n",
       "      <td>2653</td>\n",
       "      <td>15.7417</td>\n",
       "      <td>NaN</td>\n",
       "      <td>C</td>\n",
       "    </tr>\n",
       "    <tr>\n",
       "      <th>814</th>\n",
       "      <td>815</td>\n",
       "      <td>0</td>\n",
       "      <td>3</td>\n",
       "      <td>Tomlin, Mr. Ernest Portage</td>\n",
       "      <td>male</td>\n",
       "      <td>30.5</td>\n",
       "      <td>0</td>\n",
       "      <td>0</td>\n",
       "      <td>364499</td>\n",
       "      <td>8.0500</td>\n",
       "      <td>NaN</td>\n",
       "      <td>S</td>\n",
       "    </tr>\n",
       "    <tr>\n",
       "      <th>302</th>\n",
       "      <td>303</td>\n",
       "      <td>0</td>\n",
       "      <td>3</td>\n",
       "      <td>Johnson, Mr. William Cahoone Jr</td>\n",
       "      <td>male</td>\n",
       "      <td>19.0</td>\n",
       "      <td>0</td>\n",
       "      <td>0</td>\n",
       "      <td>LINE</td>\n",
       "      <td>0.0000</td>\n",
       "      <td>NaN</td>\n",
       "      <td>S</td>\n",
       "    </tr>\n",
       "    <tr>\n",
       "      <th>38</th>\n",
       "      <td>39</td>\n",
       "      <td>0</td>\n",
       "      <td>3</td>\n",
       "      <td>Vander Planke, Miss. Augusta Maria</td>\n",
       "      <td>female</td>\n",
       "      <td>18.0</td>\n",
       "      <td>2</td>\n",
       "      <td>0</td>\n",
       "      <td>345764</td>\n",
       "      <td>18.0000</td>\n",
       "      <td>NaN</td>\n",
       "      <td>S</td>\n",
       "    </tr>\n",
       "  </tbody>\n",
       "</table>\n",
       "</div>"
      ],
      "text/plain": [
       "     PassengerId  Survived  Pclass                                Name  \\\n",
       "503          504         0       3      Laitinen, Miss. Kristina Sofia   \n",
       "381          382         1       3         Nakid, Miss. Maria (\"Mary\")   \n",
       "814          815         0       3          Tomlin, Mr. Ernest Portage   \n",
       "302          303         0       3     Johnson, Mr. William Cahoone Jr   \n",
       "38            39         0       3  Vander Planke, Miss. Augusta Maria   \n",
       "\n",
       "        Sex   Age  SibSp  Parch  Ticket     Fare Cabin Embarked  \n",
       "503  female  37.0      0      0    4135   9.5875   NaN        S  \n",
       "381  female   1.0      0      2    2653  15.7417   NaN        C  \n",
       "814    male  30.5      0      0  364499   8.0500   NaN        S  \n",
       "302    male  19.0      0      0    LINE   0.0000   NaN        S  \n",
       "38   female  18.0      2      0  345764  18.0000   NaN        S  "
      ]
     },
     "execution_count": 4,
     "metadata": {},
     "output_type": "execute_result"
    }
   ],
   "source": [
    "df_train.sample(5)"
   ]
  },
  {
   "cell_type": "code",
   "execution_count": 5,
   "id": "9e551fef",
   "metadata": {},
   "outputs": [
    {
     "data": {
      "text/html": [
       "<h3>Feature interaction between SibSp/Survived in train_data</h3>"
      ],
      "text/plain": [
       "<IPython.core.display.HTML object>"
      ]
     },
     "metadata": {},
     "output_type": "display_data"
    },
    {
     "data": {
      "image/png": "[encoded data removed]",
      "text/plain": [
       "<Figure size 432x288 with 1 Axes>"
      ]
     },
     "metadata": {},
     "output_type": "display_data"
    }
   ],
   "source": [
    "viz_args = dict(headers=True)\n",
    "auto.analyze_interaction(\n",
    "    x='SibSp', y='Survived', train_data=df_train, test_data=df_test, viz_args=viz_args\n",
    ")"
   ]
  },
  {
   "cell_type": "markdown",
   "id": "d20bd01e",
   "metadata": {},
   "source": [
    "***\n",
    "\n",
    "# Overview and Cleaning the Data"
   ]
  },
  {
   "cell_type": "markdown",
   "id": "47c12647",
   "metadata": {},
   "source": [
    "Datasets in the real world are often messy, However, this dataset is almost clean. Lets analyze and see what we have here."
   ]
  },
  {
   "cell_type": "code",
   "execution_count": 6,
   "id": "1e2bbda7",
   "metadata": {
    "scrolled": false
   },
   "outputs": [
    {
     "data": {
      "text/html": [
       "<h3>train_data dataset summary</h3>"
      ],
      "text/plain": [
       "<IPython.core.display.HTML object>"
      ]
     },
     "metadata": {},
     "output_type": "display_data"
    },
    {
     "data": {
      "text/html": [
       "<div>\n",
       "<style scoped>\n",
       "    .dataframe tbody tr th:only-of-type {\n",
       "        vertical-align: middle;\n",
       "    }\n",
       "\n",
       "    .dataframe tbody tr th {\n",
       "        vertical-align: top;\n",
       "    }\n",
       "\n",
       "    .dataframe thead th {\n",
       "        text-align: right;\n",
       "    }\n",
       "</style>\n",
       "<table border=\"1\" class=\"dataframe\">\n",
       "  <thead>\n",
       "    <tr style=\"text-align: right;\">\n",
       "      <th></th>\n",
       "      <th>count</th>\n",
       "      <th>unique</th>\n",
       "      <th>top</th>\n",
       "      <th>freq</th>\n",
       "      <th>mean</th>\n",
       "      <th>std</th>\n",
       "      <th>min</th>\n",
       "      <th>25%</th>\n",
       "      <th>50%</th>\n",
       "      <th>75%</th>\n",
       "      <th>max</th>\n",
       "      <th>dtypes</th>\n",
       "      <th>missing_count</th>\n",
       "      <th>missing_ratio</th>\n",
       "      <th>raw_types</th>\n",
       "      <th>special_types</th>\n",
       "    </tr>\n",
       "  </thead>\n",
       "  <tbody>\n",
       "    <tr>\n",
       "      <th>Age</th>\n",
       "      <td>714</td>\n",
       "      <td>88</td>\n",
       "      <td></td>\n",
       "      <td></td>\n",
       "      <td>29.699118</td>\n",
       "      <td>14.526497</td>\n",
       "      <td>0.42</td>\n",
       "      <td>20.125</td>\n",
       "      <td>28.0</td>\n",
       "      <td>38.0</td>\n",
       "      <td>80.0</td>\n",
       "      <td>float64</td>\n",
       "      <td>177</td>\n",
       "      <td>0.198653</td>\n",
       "      <td>float</td>\n",
       "      <td></td>\n",
       "    </tr>\n",
       "    <tr>\n",
       "      <th>Cabin</th>\n",
       "      <td>204</td>\n",
       "      <td>147</td>\n",
       "      <td>B96 B98</td>\n",
       "      <td>4</td>\n",
       "      <td></td>\n",
       "      <td></td>\n",
       "      <td></td>\n",
       "      <td></td>\n",
       "      <td></td>\n",
       "      <td></td>\n",
       "      <td></td>\n",
       "      <td>object</td>\n",
       "      <td>687</td>\n",
       "      <td>0.771044</td>\n",
       "      <td>object</td>\n",
       "      <td></td>\n",
       "    </tr>\n",
       "    <tr>\n",
       "      <th>Embarked</th>\n",
       "      <td>889</td>\n",
       "      <td>3</td>\n",
       "      <td>S</td>\n",
       "      <td>644</td>\n",
       "      <td></td>\n",
       "      <td></td>\n",
       "      <td></td>\n",
       "      <td></td>\n",
       "      <td></td>\n",
       "      <td></td>\n",
       "      <td></td>\n",
       "      <td>object</td>\n",
       "      <td>2</td>\n",
       "      <td>0.002245</td>\n",
       "      <td>object</td>\n",
       "      <td></td>\n",
       "    </tr>\n",
       "    <tr>\n",
       "      <th>Fare</th>\n",
       "      <td>891</td>\n",
       "      <td>248</td>\n",
       "      <td></td>\n",
       "      <td></td>\n",
       "      <td>32.204208</td>\n",
       "      <td>49.693429</td>\n",
       "      <td>0.0</td>\n",
       "      <td>7.9104</td>\n",
       "      <td>14.4542</td>\n",
       "      <td>31.0</td>\n",
       "      <td>512.3292</td>\n",
       "      <td>float64</td>\n",
       "      <td></td>\n",
       "      <td></td>\n",
       "      <td>float</td>\n",
       "      <td></td>\n",
       "    </tr>\n",
       "    <tr>\n",
       "      <th>Name</th>\n",
       "      <td>891</td>\n",
       "      <td>891</td>\n",
       "      <td>Braund, Mr. Owen Harris</td>\n",
       "      <td>1</td>\n",
       "      <td></td>\n",
       "      <td></td>\n",
       "      <td></td>\n",
       "      <td></td>\n",
       "      <td></td>\n",
       "      <td></td>\n",
       "      <td></td>\n",
       "      <td>object</td>\n",
       "      <td></td>\n",
       "      <td></td>\n",
       "      <td>object</td>\n",
       "      <td>text</td>\n",
       "    </tr>\n",
       "    <tr>\n",
       "      <th>Parch</th>\n",
       "      <td>891</td>\n",
       "      <td>7</td>\n",
       "      <td></td>\n",
       "      <td></td>\n",
       "      <td>0.381594</td>\n",
       "      <td>0.806057</td>\n",
       "      <td>0.0</td>\n",
       "      <td>0.0</td>\n",
       "      <td>0.0</td>\n",
       "      <td>0.0</td>\n",
       "      <td>6.0</td>\n",
       "      <td>int64</td>\n",
       "      <td></td>\n",
       "      <td></td>\n",
       "      <td>int</td>\n",
       "      <td></td>\n",
       "    </tr>\n",
       "    <tr>\n",
       "      <th>PassengerId</th>\n",
       "      <td>891</td>\n",
       "      <td>891</td>\n",
       "      <td></td>\n",
       "      <td></td>\n",
       "      <td>446.0</td>\n",
       "      <td>257.353842</td>\n",
       "      <td>1.0</td>\n",
       "      <td>223.5</td>\n",
       "      <td>446.0</td>\n",
       "      <td>668.5</td>\n",
       "      <td>891.0</td>\n",
       "      <td>int64</td>\n",
       "      <td></td>\n",
       "      <td></td>\n",
       "      <td>int</td>\n",
       "      <td></td>\n",
       "    </tr>\n",
       "    <tr>\n",
       "      <th>Pclass</th>\n",
       "      <td>891</td>\n",
       "      <td>3</td>\n",
       "      <td></td>\n",
       "      <td></td>\n",
       "      <td>2.308642</td>\n",
       "      <td>0.836071</td>\n",
       "      <td>1.0</td>\n",
       "      <td>2.0</td>\n",
       "      <td>3.0</td>\n",
       "      <td>3.0</td>\n",
       "      <td>3.0</td>\n",
       "      <td>int64</td>\n",
       "      <td></td>\n",
       "      <td></td>\n",
       "      <td>int</td>\n",
       "      <td></td>\n",
       "    </tr>\n",
       "    <tr>\n",
       "      <th>Sex</th>\n",
       "      <td>891</td>\n",
       "      <td>2</td>\n",
       "      <td>male</td>\n",
       "      <td>577</td>\n",
       "      <td></td>\n",
       "      <td></td>\n",
       "      <td></td>\n",
       "      <td></td>\n",
       "      <td></td>\n",
       "      <td></td>\n",
       "      <td></td>\n",
       "      <td>object</td>\n",
       "      <td></td>\n",
       "      <td></td>\n",
       "      <td>object</td>\n",
       "      <td></td>\n",
       "    </tr>\n",
       "    <tr>\n",
       "      <th>SibSp</th>\n",
       "      <td>891</td>\n",
       "      <td>7</td>\n",
       "      <td></td>\n",
       "      <td></td>\n",
       "      <td>0.523008</td>\n",
       "      <td>1.102743</td>\n",
       "      <td>0.0</td>\n",
       "      <td>0.0</td>\n",
       "      <td>0.0</td>\n",
       "      <td>1.0</td>\n",
       "      <td>8.0</td>\n",
       "      <td>int64</td>\n",
       "      <td></td>\n",
       "      <td></td>\n",
       "      <td>int</td>\n",
       "      <td></td>\n",
       "    </tr>\n",
       "    <tr>\n",
       "      <th>Survived</th>\n",
       "      <td>891</td>\n",
       "      <td>2</td>\n",
       "      <td></td>\n",
       "      <td></td>\n",
       "      <td>0.383838</td>\n",
       "      <td>0.486592</td>\n",
       "      <td>0.0</td>\n",
       "      <td>0.0</td>\n",
       "      <td>0.0</td>\n",
       "      <td>1.0</td>\n",
       "      <td>1.0</td>\n",
       "      <td>int64</td>\n",
       "      <td></td>\n",
       "      <td></td>\n",
       "      <td>int</td>\n",
       "      <td></td>\n",
       "    </tr>\n",
       "    <tr>\n",
       "      <th>Ticket</th>\n",
       "      <td>891</td>\n",
       "      <td>681</td>\n",
       "      <td>347082</td>\n",
       "      <td>7</td>\n",
       "      <td></td>\n",
       "      <td></td>\n",
       "      <td></td>\n",
       "      <td></td>\n",
       "      <td></td>\n",
       "      <td></td>\n",
       "      <td></td>\n",
       "      <td>object</td>\n",
       "      <td></td>\n",
       "      <td></td>\n",
       "      <td>object</td>\n",
       "      <td></td>\n",
       "    </tr>\n",
       "  </tbody>\n",
       "</table>\n",
       "</div>"
      ],
      "text/plain": [
       "             count  unique                      top freq       mean  \\\n",
       "Age            714      88                                29.699118   \n",
       "Cabin          204     147                  B96 B98    4              \n",
       "Embarked       889       3                        S  644              \n",
       "Fare           891     248                                32.204208   \n",
       "Name           891     891  Braund, Mr. Owen Harris    1              \n",
       "Parch          891       7                                 0.381594   \n",
       "PassengerId    891     891                                    446.0   \n",
       "Pclass         891       3                                 2.308642   \n",
       "Sex            891       2                     male  577              \n",
       "SibSp          891       7                                 0.523008   \n",
       "Survived       891       2                                 0.383838   \n",
       "Ticket         891     681                   347082    7              \n",
       "\n",
       "                    std   min     25%      50%    75%       max   dtypes  \\\n",
       "Age           14.526497  0.42  20.125     28.0   38.0      80.0  float64   \n",
       "Cabin                                                             object   \n",
       "Embarked                                                          object   \n",
       "Fare          49.693429   0.0  7.9104  14.4542   31.0  512.3292  float64   \n",
       "Name                                                              object   \n",
       "Parch          0.806057   0.0     0.0      0.0    0.0       6.0    int64   \n",
       "PassengerId  257.353842   1.0   223.5    446.0  668.5     891.0    int64   \n",
       "Pclass         0.836071   1.0     2.0      3.0    3.0       3.0    int64   \n",
       "Sex                                                               object   \n",
       "SibSp          1.102743   0.0     0.0      0.0    1.0       8.0    int64   \n",
       "Survived       0.486592   0.0     0.0      0.0    1.0       1.0    int64   \n",
       "Ticket                                                            object   \n",
       "\n",
       "            missing_count missing_ratio raw_types special_types  \n",
       "Age                   177      0.198653     float                \n",
       "Cabin                 687      0.771044    object                \n",
       "Embarked                2      0.002245    object                \n",
       "Fare                                        float                \n",
       "Name                                       object          text  \n",
       "Parch                                         int                \n",
       "PassengerId                                   int                \n",
       "Pclass                                        int                \n",
       "Sex                                        object                \n",
       "SibSp                                         int                \n",
       "Survived                                      int                \n",
       "Ticket                                     object                "
      ]
     },
     "metadata": {},
     "output_type": "display_data"
    },
    {
     "data": {
      "text/html": [
       "<h3>test_data dataset summary</h3>"
      ],
      "text/plain": [
       "<IPython.core.display.HTML object>"
      ]
     },
     "metadata": {},
     "output_type": "display_data"
    },
    {
     "data": {
      "text/html": [
       "<div>\n",
       "<style scoped>\n",
       "    .dataframe tbody tr th:only-of-type {\n",
       "        vertical-align: middle;\n",
       "    }\n",
       "\n",
       "    .dataframe tbody tr th {\n",
       "        vertical-align: top;\n",
       "    }\n",
       "\n",
       "    .dataframe thead th {\n",
       "        text-align: right;\n",
       "    }\n",
       "</style>\n",
       "<table border=\"1\" class=\"dataframe\">\n",
       "  <thead>\n",
       "    <tr style=\"text-align: right;\">\n",
       "      <th></th>\n",
       "      <th>count</th>\n",
       "      <th>unique</th>\n",
       "      <th>top</th>\n",
       "      <th>freq</th>\n",
       "      <th>mean</th>\n",
       "      <th>std</th>\n",
       "      <th>min</th>\n",
       "      <th>25%</th>\n",
       "      <th>50%</th>\n",
       "      <th>75%</th>\n",
       "      <th>max</th>\n",
       "      <th>dtypes</th>\n",
       "      <th>missing_count</th>\n",
       "      <th>missing_ratio</th>\n",
       "      <th>raw_types</th>\n",
       "      <th>special_types</th>\n",
       "    </tr>\n",
       "  </thead>\n",
       "  <tbody>\n",
       "    <tr>\n",
       "      <th>Age</th>\n",
       "      <td>332</td>\n",
       "      <td>79</td>\n",
       "      <td></td>\n",
       "      <td></td>\n",
       "      <td>30.27259</td>\n",
       "      <td>14.181209</td>\n",
       "      <td>0.17</td>\n",
       "      <td>21.0</td>\n",
       "      <td>27.0</td>\n",
       "      <td>39.0</td>\n",
       "      <td>76.0</td>\n",
       "      <td>float64</td>\n",
       "      <td>86</td>\n",
       "      <td>0.205742</td>\n",
       "      <td>float</td>\n",
       "      <td></td>\n",
       "    </tr>\n",
       "    <tr>\n",
       "      <th>Cabin</th>\n",
       "      <td>91</td>\n",
       "      <td>76</td>\n",
       "      <td>B57 B59 B63 B66</td>\n",
       "      <td>3</td>\n",
       "      <td></td>\n",
       "      <td></td>\n",
       "      <td></td>\n",
       "      <td></td>\n",
       "      <td></td>\n",
       "      <td></td>\n",
       "      <td></td>\n",
       "      <td>object</td>\n",
       "      <td>327</td>\n",
       "      <td>0.782297</td>\n",
       "      <td>object</td>\n",
       "      <td></td>\n",
       "    </tr>\n",
       "    <tr>\n",
       "      <th>Embarked</th>\n",
       "      <td>418</td>\n",
       "      <td>3</td>\n",
       "      <td>S</td>\n",
       "      <td>270</td>\n",
       "      <td></td>\n",
       "      <td></td>\n",
       "      <td></td>\n",
       "      <td></td>\n",
       "      <td></td>\n",
       "      <td></td>\n",
       "      <td></td>\n",
       "      <td>object</td>\n",
       "      <td></td>\n",
       "      <td></td>\n",
       "      <td>object</td>\n",
       "      <td></td>\n",
       "    </tr>\n",
       "    <tr>\n",
       "      <th>Fare</th>\n",
       "      <td>417</td>\n",
       "      <td>169</td>\n",
       "      <td></td>\n",
       "      <td></td>\n",
       "      <td>35.627188</td>\n",
       "      <td>55.907576</td>\n",
       "      <td>0.0</td>\n",
       "      <td>7.8958</td>\n",
       "      <td>14.4542</td>\n",
       "      <td>31.5</td>\n",
       "      <td>512.3292</td>\n",
       "      <td>float64</td>\n",
       "      <td>1</td>\n",
       "      <td>0.002392</td>\n",
       "      <td>float</td>\n",
       "      <td></td>\n",
       "    </tr>\n",
       "    <tr>\n",
       "      <th>Name</th>\n",
       "      <td>418</td>\n",
       "      <td>418</td>\n",
       "      <td>Kelly, Mr. James</td>\n",
       "      <td>1</td>\n",
       "      <td></td>\n",
       "      <td></td>\n",
       "      <td></td>\n",
       "      <td></td>\n",
       "      <td></td>\n",
       "      <td></td>\n",
       "      <td></td>\n",
       "      <td>object</td>\n",
       "      <td></td>\n",
       "      <td></td>\n",
       "      <td>object</td>\n",
       "      <td>text</td>\n",
       "    </tr>\n",
       "    <tr>\n",
       "      <th>Parch</th>\n",
       "      <td>418</td>\n",
       "      <td>8</td>\n",
       "      <td></td>\n",
       "      <td></td>\n",
       "      <td>0.392344</td>\n",
       "      <td>0.981429</td>\n",
       "      <td>0.0</td>\n",
       "      <td>0.0</td>\n",
       "      <td>0.0</td>\n",
       "      <td>0.0</td>\n",
       "      <td>9.0</td>\n",
       "      <td>int64</td>\n",
       "      <td></td>\n",
       "      <td></td>\n",
       "      <td>int</td>\n",
       "      <td></td>\n",
       "    </tr>\n",
       "    <tr>\n",
       "      <th>PassengerId</th>\n",
       "      <td>418</td>\n",
       "      <td>418</td>\n",
       "      <td></td>\n",
       "      <td></td>\n",
       "      <td>1100.5</td>\n",
       "      <td>120.810458</td>\n",
       "      <td>892.0</td>\n",
       "      <td>996.25</td>\n",
       "      <td>1100.5</td>\n",
       "      <td>1204.75</td>\n",
       "      <td>1309.0</td>\n",
       "      <td>int64</td>\n",
       "      <td></td>\n",
       "      <td></td>\n",
       "      <td>int</td>\n",
       "      <td></td>\n",
       "    </tr>\n",
       "    <tr>\n",
       "      <th>Pclass</th>\n",
       "      <td>418</td>\n",
       "      <td>3</td>\n",
       "      <td></td>\n",
       "      <td></td>\n",
       "      <td>2.26555</td>\n",
       "      <td>0.841838</td>\n",
       "      <td>1.0</td>\n",
       "      <td>1.0</td>\n",
       "      <td>3.0</td>\n",
       "      <td>3.0</td>\n",
       "      <td>3.0</td>\n",
       "      <td>int64</td>\n",
       "      <td></td>\n",
       "      <td></td>\n",
       "      <td>int</td>\n",
       "      <td></td>\n",
       "    </tr>\n",
       "    <tr>\n",
       "      <th>Sex</th>\n",
       "      <td>418</td>\n",
       "      <td>2</td>\n",
       "      <td>male</td>\n",
       "      <td>266</td>\n",
       "      <td></td>\n",
       "      <td></td>\n",
       "      <td></td>\n",
       "      <td></td>\n",
       "      <td></td>\n",
       "      <td></td>\n",
       "      <td></td>\n",
       "      <td>object</td>\n",
       "      <td></td>\n",
       "      <td></td>\n",
       "      <td>object</td>\n",
       "      <td></td>\n",
       "    </tr>\n",
       "    <tr>\n",
       "      <th>SibSp</th>\n",
       "      <td>418</td>\n",
       "      <td>7</td>\n",
       "      <td></td>\n",
       "      <td></td>\n",
       "      <td>0.447368</td>\n",
       "      <td>0.89676</td>\n",
       "      <td>0.0</td>\n",
       "      <td>0.0</td>\n",
       "      <td>0.0</td>\n",
       "      <td>1.0</td>\n",
       "      <td>8.0</td>\n",
       "      <td>int64</td>\n",
       "      <td></td>\n",
       "      <td></td>\n",
       "      <td>int</td>\n",
       "      <td></td>\n",
       "    </tr>\n",
       "    <tr>\n",
       "      <th>Ticket</th>\n",
       "      <td>418</td>\n",
       "      <td>363</td>\n",
       "      <td>PC 17608</td>\n",
       "      <td>5</td>\n",
       "      <td></td>\n",
       "      <td></td>\n",
       "      <td></td>\n",
       "      <td></td>\n",
       "      <td></td>\n",
       "      <td></td>\n",
       "      <td></td>\n",
       "      <td>object</td>\n",
       "      <td></td>\n",
       "      <td></td>\n",
       "      <td>object</td>\n",
       "      <td></td>\n",
       "    </tr>\n",
       "  </tbody>\n",
       "</table>\n",
       "</div>"
      ],
      "text/plain": [
       "             count  unique               top freq       mean         std  \\\n",
       "Age            332      79                          30.27259   14.181209   \n",
       "Cabin           91      76   B57 B59 B63 B66    3                          \n",
       "Embarked       418       3                 S  270                          \n",
       "Fare           417     169                         35.627188   55.907576   \n",
       "Name           418     418  Kelly, Mr. James    1                          \n",
       "Parch          418       8                          0.392344    0.981429   \n",
       "PassengerId    418     418                            1100.5  120.810458   \n",
       "Pclass         418       3                           2.26555    0.841838   \n",
       "Sex            418       2              male  266                          \n",
       "SibSp          418       7                          0.447368     0.89676   \n",
       "Ticket         418     363          PC 17608    5                          \n",
       "\n",
       "               min     25%      50%      75%       max   dtypes missing_count  \\\n",
       "Age           0.17    21.0     27.0     39.0      76.0  float64            86   \n",
       "Cabin                                                    object           327   \n",
       "Embarked                                                 object                 \n",
       "Fare           0.0  7.8958  14.4542     31.5  512.3292  float64             1   \n",
       "Name                                                     object                 \n",
       "Parch          0.0     0.0      0.0      0.0       9.0    int64                 \n",
       "PassengerId  892.0  996.25   1100.5  1204.75    1309.0    int64                 \n",
       "Pclass         1.0     1.0      3.0      3.0       3.0    int64                 \n",
       "Sex                                                      object                 \n",
       "SibSp          0.0     0.0      0.0      1.0       8.0    int64                 \n",
       "Ticket                                                   object                 \n",
       "\n",
       "            missing_ratio raw_types special_types  \n",
       "Age              0.205742     float                \n",
       "Cabin            0.782297    object                \n",
       "Embarked                     object                \n",
       "Fare             0.002392     float                \n",
       "Name                         object          text  \n",
       "Parch                           int                \n",
       "PassengerId                     int                \n",
       "Pclass                          int                \n",
       "Sex                          object                \n",
       "SibSp                           int                \n",
       "Ticket                       object                "
      ]
     },
     "metadata": {},
     "output_type": "display_data"
    },
    {
     "data": {
      "text/html": [
       "<h3>Types warnings summary</h3>"
      ],
      "text/plain": [
       "<IPython.core.display.HTML object>"
      ]
     },
     "metadata": {},
     "output_type": "display_data"
    },
    {
     "data": {
      "text/html": [
       "<div>\n",
       "<style scoped>\n",
       "    .dataframe tbody tr th:only-of-type {\n",
       "        vertical-align: middle;\n",
       "    }\n",
       "\n",
       "    .dataframe tbody tr th {\n",
       "        vertical-align: top;\n",
       "    }\n",
       "\n",
       "    .dataframe thead th {\n",
       "        text-align: right;\n",
       "    }\n",
       "</style>\n",
       "<table border=\"1\" class=\"dataframe\">\n",
       "  <thead>\n",
       "    <tr style=\"text-align: right;\">\n",
       "      <th></th>\n",
       "      <th>train_data</th>\n",
       "      <th>test_data</th>\n",
       "      <th>warnings</th>\n",
       "    </tr>\n",
       "  </thead>\n",
       "  <tbody>\n",
       "    <tr>\n",
       "      <th>Age</th>\n",
       "      <td>float</td>\n",
       "      <td>float</td>\n",
       "      <td></td>\n",
       "    </tr>\n",
       "    <tr>\n",
       "      <th>Cabin</th>\n",
       "      <td>object</td>\n",
       "      <td>object</td>\n",
       "      <td></td>\n",
       "    </tr>\n",
       "    <tr>\n",
       "      <th>Embarked</th>\n",
       "      <td>object</td>\n",
       "      <td>object</td>\n",
       "      <td></td>\n",
       "    </tr>\n",
       "    <tr>\n",
       "      <th>Fare</th>\n",
       "      <td>float</td>\n",
       "      <td>float</td>\n",
       "      <td></td>\n",
       "    </tr>\n",
       "    <tr>\n",
       "      <th>Name</th>\n",
       "      <td>object</td>\n",
       "      <td>object</td>\n",
       "      <td></td>\n",
       "    </tr>\n",
       "    <tr>\n",
       "      <th>Parch</th>\n",
       "      <td>int</td>\n",
       "      <td>int</td>\n",
       "      <td></td>\n",
       "    </tr>\n",
       "    <tr>\n",
       "      <th>PassengerId</th>\n",
       "      <td>int</td>\n",
       "      <td>int</td>\n",
       "      <td></td>\n",
       "    </tr>\n",
       "    <tr>\n",
       "      <th>Pclass</th>\n",
       "      <td>int</td>\n",
       "      <td>int</td>\n",
       "      <td></td>\n",
       "    </tr>\n",
       "    <tr>\n",
       "      <th>Sex</th>\n",
       "      <td>object</td>\n",
       "      <td>object</td>\n",
       "      <td></td>\n",
       "    </tr>\n",
       "    <tr>\n",
       "      <th>SibSp</th>\n",
       "      <td>int</td>\n",
       "      <td>int</td>\n",
       "      <td></td>\n",
       "    </tr>\n",
       "    <tr>\n",
       "      <th>Survived</th>\n",
       "      <td>int</td>\n",
       "      <td>--</td>\n",
       "      <td>⚠️</td>\n",
       "    </tr>\n",
       "    <tr>\n",
       "      <th>Ticket</th>\n",
       "      <td>object</td>\n",
       "      <td>object</td>\n",
       "      <td></td>\n",
       "    </tr>\n",
       "  </tbody>\n",
       "</table>\n",
       "</div>"
      ],
      "text/plain": [
       "            train_data test_data warnings\n",
       "Age              float     float         \n",
       "Cabin           object    object         \n",
       "Embarked        object    object         \n",
       "Fare             float     float         \n",
       "Name            object    object         \n",
       "Parch              int       int         \n",
       "PassengerId        int       int         \n",
       "Pclass             int       int         \n",
       "Sex             object    object         \n",
       "SibSp              int       int         \n",
       "Survived           int        --       ⚠️\n",
       "Ticket          object    object         "
      ]
     },
     "metadata": {},
     "output_type": "display_data"
    }
   ],
   "source": [
    "analysis_args = dict(\n",
    "    train_data=df_train,\n",
    "    test_data=df_test,\n",
    "    label='Survived',\n",
    "    sample=None,\n",
    ")\n",
    "\n",
    "viz_args = dict(headers=True)\n",
    "\n",
    "auto.analyze(**analysis_args, anlz_facets=[\n",
    "    eda.dataset.DatasetSummary(),\n",
    "    eda.dataset.MissingValuesAnalysis(),\n",
    "    eda.dataset.RawTypesAnalysis(),\n",
    "    eda.dataset.SpecialTypesAnalysis(),    \n",
    "], viz_facets=[\n",
    "    viz.DatasetStatistics(**viz_args),\n",
    "    viz.DatasetTypeMismatch(**viz_args),\n",
    "])"
   ]
  },
  {
   "cell_type": "markdown",
   "id": "dd2077ed",
   "metadata": {},
   "source": [
    "It looks like, the features have unequal amount of data entries for every column and they have many different types of variables. This can happen for the following reasons...\n",
    "* We may have missing values in our features.\n",
    "* We may have categorical features. \n",
    "* We may have alphanumerical or/and text features. \n"
   ]
  },
  {
   "cell_type": "markdown",
   "id": "2203242a",
   "metadata": {},
   "source": [
    "## Dealing with Missing values"
   ]
  },
  {
   "cell_type": "markdown",
   "id": "a6f7c050",
   "metadata": {},
   "source": [
    "We see that in both **train**, and **test** dataset have missing values. Let's make an effort to fill these missing values starting with \"Embarked\" feature. "
   ]
  },
  {
   "cell_type": "code",
   "execution_count": 7,
   "id": "540ffd53",
   "metadata": {},
   "outputs": [
    {
     "data": {
      "text/html": [
       "<h3>train_data missing values analysis</h3>"
      ],
      "text/plain": [
       "<IPython.core.display.HTML object>"
      ]
     },
     "metadata": {},
     "output_type": "display_data"
    },
    {
     "data": {
      "application/vnd.jupyter.widget-view+json": {
       "model_id": "6c1dc5b555764496af17c236edb5d862",
       "version_major": 2,
       "version_minor": 0
      },
      "text/plain": [
       "Tab(children=(Output(), Output(), Output(), Output()), _titles={'0': 'matrix', '1': 'bar', '2': 'heatmap', '3'…"
      ]
     },
     "metadata": {},
     "output_type": "display_data"
    },
    {
     "data": {
      "text/html": [
       "<h3>test_data missing values analysis</h3>"
      ],
      "text/plain": [
       "<IPython.core.display.HTML object>"
      ]
     },
     "metadata": {},
     "output_type": "display_data"
    },
    {
     "data": {
      "application/vnd.jupyter.widget-view+json": {
       "model_id": "7f7804d413a64ab0b6228a1df4732f7f",
       "version_major": 2,
       "version_minor": 0
      },
      "text/plain": [
       "Tab(children=(Output(), Output(), Output(), Output()), _titles={'0': 'matrix', '1': 'bar', '2': 'heatmap', '3'…"
      ]
     },
     "metadata": {},
     "output_type": "display_data"
    },
    {
     "data": {
      "text/html": [
       "<h3>train_data dataset summary</h3>"
      ],
      "text/plain": [
       "<IPython.core.display.HTML object>"
      ]
     },
     "metadata": {},
     "output_type": "display_data"
    },
    {
     "data": {
      "text/html": [
       "<div>\n",
       "<style scoped>\n",
       "    .dataframe tbody tr th:only-of-type {\n",
       "        vertical-align: middle;\n",
       "    }\n",
       "\n",
       "    .dataframe tbody tr th {\n",
       "        vertical-align: top;\n",
       "    }\n",
       "\n",
       "    .dataframe thead th {\n",
       "        text-align: right;\n",
       "    }\n",
       "</style>\n",
       "<table border=\"1\" class=\"dataframe\">\n",
       "  <thead>\n",
       "    <tr style=\"text-align: right;\">\n",
       "      <th></th>\n",
       "      <th>missing_count</th>\n",
       "      <th>missing_ratio</th>\n",
       "    </tr>\n",
       "  </thead>\n",
       "  <tbody>\n",
       "    <tr>\n",
       "      <th>Age</th>\n",
       "      <td>177</td>\n",
       "      <td>0.198653</td>\n",
       "    </tr>\n",
       "    <tr>\n",
       "      <th>Cabin</th>\n",
       "      <td>687</td>\n",
       "      <td>0.771044</td>\n",
       "    </tr>\n",
       "    <tr>\n",
       "      <th>Embarked</th>\n",
       "      <td>2</td>\n",
       "      <td>0.002245</td>\n",
       "    </tr>\n",
       "  </tbody>\n",
       "</table>\n",
       "</div>"
      ],
      "text/plain": [
       "          missing_count  missing_ratio\n",
       "Age                 177       0.198653\n",
       "Cabin               687       0.771044\n",
       "Embarked              2       0.002245"
      ]
     },
     "metadata": {},
     "output_type": "display_data"
    },
    {
     "data": {
      "text/html": [
       "<h3>test_data dataset summary</h3>"
      ],
      "text/plain": [
       "<IPython.core.display.HTML object>"
      ]
     },
     "metadata": {},
     "output_type": "display_data"
    },
    {
     "data": {
      "text/html": [
       "<div>\n",
       "<style scoped>\n",
       "    .dataframe tbody tr th:only-of-type {\n",
       "        vertical-align: middle;\n",
       "    }\n",
       "\n",
       "    .dataframe tbody tr th {\n",
       "        vertical-align: top;\n",
       "    }\n",
       "\n",
       "    .dataframe thead th {\n",
       "        text-align: right;\n",
       "    }\n",
       "</style>\n",
       "<table border=\"1\" class=\"dataframe\">\n",
       "  <thead>\n",
       "    <tr style=\"text-align: right;\">\n",
       "      <th></th>\n",
       "      <th>missing_count</th>\n",
       "      <th>missing_ratio</th>\n",
       "    </tr>\n",
       "  </thead>\n",
       "  <tbody>\n",
       "    <tr>\n",
       "      <th>Age</th>\n",
       "      <td>86</td>\n",
       "      <td>0.205742</td>\n",
       "    </tr>\n",
       "    <tr>\n",
       "      <th>Fare</th>\n",
       "      <td>1</td>\n",
       "      <td>0.002392</td>\n",
       "    </tr>\n",
       "    <tr>\n",
       "      <th>Cabin</th>\n",
       "      <td>327</td>\n",
       "      <td>0.782297</td>\n",
       "    </tr>\n",
       "  </tbody>\n",
       "</table>\n",
       "</div>"
      ],
      "text/plain": [
       "       missing_count  missing_ratio\n",
       "Age               86       0.205742\n",
       "Fare               1       0.002392\n",
       "Cabin            327       0.782297"
      ]
     },
     "metadata": {},
     "output_type": "display_data"
    }
   ],
   "source": [
    "auto.analyze(**analysis_args, anlz_facets=[\n",
    "    eda.dataset.MissingValuesAnalysis(),\n",
    "], viz_facets=[\n",
    "    viz.dataset.MissingValues(**viz_args),\n",
    "    viz.DatasetStatistics(**viz_args),\n",
    "])"
   ]
  },
  {
   "cell_type": "markdown",
   "id": "77d019da",
   "metadata": {},
   "source": [
    "## Filling missing values in `Embarked`"
   ]
  },
  {
   "cell_type": "markdown",
   "id": "c989e985",
   "metadata": {},
   "source": [
    "It looks like there are only two null values( ~ 0.22 %) in the `Embarked` feature, we can replace these with the mode value \"S\". However, let's dig a little deeper. \n",
    "\n",
    "**Let's see what are those two null values**"
   ]
  },
  {
   "cell_type": "code",
   "execution_count": 8,
   "id": "238c711b",
   "metadata": {},
   "outputs": [
    {
     "data": {
      "text/html": [
       "<div>\n",
       "<style scoped>\n",
       "    .dataframe tbody tr th:only-of-type {\n",
       "        vertical-align: middle;\n",
       "    }\n",
       "\n",
       "    .dataframe tbody tr th {\n",
       "        vertical-align: top;\n",
       "    }\n",
       "\n",
       "    .dataframe thead th {\n",
       "        text-align: right;\n",
       "    }\n",
       "</style>\n",
       "<table border=\"1\" class=\"dataframe\">\n",
       "  <thead>\n",
       "    <tr style=\"text-align: right;\">\n",
       "      <th></th>\n",
       "      <th>PassengerId</th>\n",
       "      <th>Survived</th>\n",
       "      <th>Pclass</th>\n",
       "      <th>Name</th>\n",
       "      <th>Sex</th>\n",
       "      <th>Age</th>\n",
       "      <th>SibSp</th>\n",
       "      <th>Parch</th>\n",
       "      <th>Ticket</th>\n",
       "      <th>Fare</th>\n",
       "      <th>Cabin</th>\n",
       "      <th>Embarked</th>\n",
       "    </tr>\n",
       "  </thead>\n",
       "  <tbody>\n",
       "    <tr>\n",
       "      <th>61</th>\n",
       "      <td>62</td>\n",
       "      <td>1</td>\n",
       "      <td>1</td>\n",
       "      <td>Icard, Miss. Amelie</td>\n",
       "      <td>female</td>\n",
       "      <td>38.0</td>\n",
       "      <td>0</td>\n",
       "      <td>0</td>\n",
       "      <td>113572</td>\n",
       "      <td>80.0</td>\n",
       "      <td>B28</td>\n",
       "      <td>NaN</td>\n",
       "    </tr>\n",
       "    <tr>\n",
       "      <th>829</th>\n",
       "      <td>830</td>\n",
       "      <td>1</td>\n",
       "      <td>1</td>\n",
       "      <td>Stone, Mrs. George Nelson (Martha Evelyn)</td>\n",
       "      <td>female</td>\n",
       "      <td>62.0</td>\n",
       "      <td>0</td>\n",
       "      <td>0</td>\n",
       "      <td>113572</td>\n",
       "      <td>80.0</td>\n",
       "      <td>B28</td>\n",
       "      <td>NaN</td>\n",
       "    </tr>\n",
       "  </tbody>\n",
       "</table>\n",
       "</div>"
      ],
      "text/plain": [
       "     PassengerId  Survived  Pclass                                       Name  \\\n",
       "61            62         1       1                        Icard, Miss. Amelie   \n",
       "829          830         1       1  Stone, Mrs. George Nelson (Martha Evelyn)   \n",
       "\n",
       "        Sex   Age  SibSp  Parch  Ticket  Fare Cabin Embarked  \n",
       "61   female  38.0      0      0  113572  80.0   B28      NaN  \n",
       "829  female  62.0      0      0  113572  80.0   B28      NaN  "
      ]
     },
     "execution_count": 8,
     "metadata": {},
     "output_type": "execute_result"
    }
   ],
   "source": [
    "df_train[df_train.Embarked.isna()]"
   ]
  },
  {
   "cell_type": "markdown",
   "id": "376c3d18",
   "metadata": {},
   "source": [
    "We may be able to solve these two missing values by looking at other independent variables of the two raws. Both passengers paid a `Fare` of `$80`, are of `Pclass` `1` and `female` `Sex`. Let's see how the `Fare` is distributed among all `Pclass` and `Embarked` feature values"
   ]
  },
  {
   "cell_type": "code",
   "execution_count": 9,
   "id": "42639213",
   "metadata": {},
   "outputs": [
    {
     "data": {
      "text/html": [
       "<h3>Feature interaction between Embarked/Fare/Pclass in train_data</h3>"
      ],
      "text/plain": [
       "<IPython.core.display.HTML object>"
      ]
     },
     "metadata": {},
     "output_type": "display_data"
    },
    {
     "data": {
      "image/png": "[encoded data removed]",
      "text/plain": [
       "<Figure size 432x288 with 1 Axes>"
      ]
     },
     "metadata": {},
     "output_type": "display_data"
    },
    {
     "data": {
      "text/html": [
       "<h3>Feature interaction between Embarked/Fare/Pclass in test_data</h3>"
      ],
      "text/plain": [
       "<IPython.core.display.HTML object>"
      ]
     },
     "metadata": {},
     "output_type": "display_data"
    },
    {
     "data": {
      "image/png": "[encoded data removed]",
      "text/plain": [
       "<Figure size 432x288 with 1 Axes>"
      ]
     },
     "metadata": {},
     "output_type": "display_data"
    }
   ],
   "source": [
    "auto.analyze_interaction(x='Embarked', y='Fare', hue='Pclass', **analysis_args, viz_args=viz_args)"
   ]
  },
  {
   "cell_type": "markdown",
   "id": "0146d04b",
   "metadata": {},
   "source": [
    "Here, in both training set and test set, the average `Fare` closest to `$80` are in the `C` `Embarked` values where `Pclass` is `1`. So, let's fill in the missing values as `C` "
   ]
  },
  {
   "cell_type": "markdown",
   "id": "546a6669",
   "metadata": {},
   "source": [
    "## Filling missing values in `Cabin`"
   ]
  },
  {
   "cell_type": "markdown",
   "id": "154af958",
   "metadata": {},
   "source": [
    "Approximately 77% of `Cabin` feature is missing in the training data and 78% missing on the test data. We have two choices,\n",
    "* we can either get rid of the whole feature, or\n",
    "* we can brainstorm a little and find an appropriate way to put them in use. For example, We may say passengers with cabin record had a higher socio-economic-status then others. We may also say passengers with cabin record were more likely to be taken into consideration when loading into the boat.\n",
    "\n",
    "Let's combine train and test data first and for now, will assign all the null values as \"N\""
   ]
  },
  {
   "cell_type": "code",
   "execution_count": 10,
   "id": "f1f1b8ac",
   "metadata": {},
   "outputs": [],
   "source": [
    "all_data = pd.concat([df_train.drop(columns='Survived'), df_test], ignore_index=False).copy()\n",
    "all_data.Cabin.fillna(\"N\", inplace=True)"
   ]
  },
  {
   "cell_type": "markdown",
   "id": "c3aa3268",
   "metadata": {},
   "source": [
    "All the cabin names start with an English alphabet following by multiple digits. It seems like there are some passengers that had booked multiple cabin rooms in their name. This is because many of them travelled with family. However, they all seem to book under the same letter followed by different numbers. It seems like there is a significance with the letters rather than the numbers. Therefore, we can group these cabins according to the letter of the cabin name. "
   ]
  },
  {
   "cell_type": "code",
   "execution_count": 11,
   "id": "bae31e2c",
   "metadata": {},
   "outputs": [],
   "source": [
    "all_data.Cabin = all_data.Cabin.str[0]"
   ]
  },
  {
   "cell_type": "markdown",
   "id": "0c355dde",
   "metadata": {},
   "source": [
    "Now let's look at the value counts of the cabin features and see how it looks. "
   ]
  },
  {
   "cell_type": "code",
   "execution_count": 12,
   "id": "5b5774ea",
   "metadata": {},
   "outputs": [
    {
     "data": {
      "text/html": [
       "<div>\n",
       "<style scoped>\n",
       "    .dataframe tbody tr th:only-of-type {\n",
       "        vertical-align: middle;\n",
       "    }\n",
       "\n",
       "    .dataframe tbody tr th {\n",
       "        vertical-align: top;\n",
       "    }\n",
       "\n",
       "    .dataframe thead th {\n",
       "        text-align: right;\n",
       "    }\n",
       "</style>\n",
       "<table border=\"1\" class=\"dataframe\">\n",
       "  <thead>\n",
       "    <tr style=\"text-align: right;\">\n",
       "      <th></th>\n",
       "      <th>count</th>\n",
       "      <th>percent</th>\n",
       "    </tr>\n",
       "  </thead>\n",
       "  <tbody>\n",
       "    <tr>\n",
       "      <th>N</th>\n",
       "      <td>1014</td>\n",
       "      <td>77.46</td>\n",
       "    </tr>\n",
       "    <tr>\n",
       "      <th>C</th>\n",
       "      <td>94</td>\n",
       "      <td>7.18</td>\n",
       "    </tr>\n",
       "    <tr>\n",
       "      <th>B</th>\n",
       "      <td>65</td>\n",
       "      <td>4.97</td>\n",
       "    </tr>\n",
       "    <tr>\n",
       "      <th>D</th>\n",
       "      <td>46</td>\n",
       "      <td>3.51</td>\n",
       "    </tr>\n",
       "    <tr>\n",
       "      <th>E</th>\n",
       "      <td>41</td>\n",
       "      <td>3.13</td>\n",
       "    </tr>\n",
       "    <tr>\n",
       "      <th>A</th>\n",
       "      <td>22</td>\n",
       "      <td>1.68</td>\n",
       "    </tr>\n",
       "    <tr>\n",
       "      <th>F</th>\n",
       "      <td>21</td>\n",
       "      <td>1.60</td>\n",
       "    </tr>\n",
       "    <tr>\n",
       "      <th>G</th>\n",
       "      <td>5</td>\n",
       "      <td>0.38</td>\n",
       "    </tr>\n",
       "    <tr>\n",
       "      <th>T</th>\n",
       "      <td>1</td>\n",
       "      <td>0.08</td>\n",
       "    </tr>\n",
       "  </tbody>\n",
       "</table>\n",
       "</div>"
      ],
      "text/plain": [
       "   count  percent\n",
       "N   1014    77.46\n",
       "C     94     7.18\n",
       "B     65     4.97\n",
       "D     46     3.51\n",
       "E     41     3.13\n",
       "A     22     1.68\n",
       "F     21     1.60\n",
       "G      5     0.38\n",
       "T      1     0.08"
      ]
     },
     "execution_count": 12,
     "metadata": {},
     "output_type": "execute_result"
    }
   ],
   "source": [
    "pd.DataFrame({\n",
    "    'count': all_data.Cabin.value_counts(),\n",
    "    'percent': all_data.Cabin.value_counts(normalize=True).round(4)*100,\n",
    "})"
   ]
  },
  {
   "cell_type": "code",
   "execution_count": 13,
   "id": "f24af755",
   "metadata": {},
   "outputs": [
    {
     "data": {
      "text/html": [
       "<h3>Feature interaction between Cabin/Fare in train_data</h3>"
      ],
      "text/plain": [
       "<IPython.core.display.HTML object>"
      ]
     },
     "metadata": {},
     "output_type": "display_data"
    },
    {
     "data": {
      "image/png": "[encoded data removed]",
      "text/plain": [
       "<Figure size 432x288 with 1 Axes>"
      ]
     },
     "metadata": {},
     "output_type": "display_data"
    }
   ],
   "source": [
    "auto.analyze_interaction(x='Cabin', y='Fare', train_data=all_data, viz_args=viz_args)"
   ]
  },
  {
   "cell_type": "markdown",
   "id": "27f1db9f",
   "metadata": {},
   "source": [
    "The simplest approach would be to fill `Cabin` value the value closest to the `Fare` mean. It is recommended dropping `T` and `G` classes since they don't have enough samples."
   ]
  },
  {
   "cell_type": "code",
   "execution_count": 14,
   "id": "7751c25c",
   "metadata": {},
   "outputs": [
    {
     "data": {
      "text/html": [
       "<div>\n",
       "<style scoped>\n",
       "    .dataframe tbody tr th:only-of-type {\n",
       "        vertical-align: middle;\n",
       "    }\n",
       "\n",
       "    .dataframe tbody tr th {\n",
       "        vertical-align: top;\n",
       "    }\n",
       "\n",
       "    .dataframe thead th {\n",
       "        text-align: right;\n",
       "    }\n",
       "</style>\n",
       "<table border=\"1\" class=\"dataframe\">\n",
       "  <thead>\n",
       "    <tr style=\"text-align: right;\">\n",
       "      <th></th>\n",
       "      <th>count</th>\n",
       "      <th>percent</th>\n",
       "      <th>mean_Fare</th>\n",
       "    </tr>\n",
       "  </thead>\n",
       "  <tbody>\n",
       "    <tr>\n",
       "      <th>G</th>\n",
       "      <td>5</td>\n",
       "      <td>0.38</td>\n",
       "      <td>14.205000</td>\n",
       "    </tr>\n",
       "    <tr>\n",
       "      <th>F</th>\n",
       "      <td>21</td>\n",
       "      <td>1.60</td>\n",
       "      <td>18.079367</td>\n",
       "    </tr>\n",
       "    <tr>\n",
       "      <th>N</th>\n",
       "      <td>1014</td>\n",
       "      <td>77.46</td>\n",
       "      <td>19.132707</td>\n",
       "    </tr>\n",
       "    <tr>\n",
       "      <th>T</th>\n",
       "      <td>1</td>\n",
       "      <td>0.08</td>\n",
       "      <td>35.500000</td>\n",
       "    </tr>\n",
       "    <tr>\n",
       "      <th>A</th>\n",
       "      <td>22</td>\n",
       "      <td>1.68</td>\n",
       "      <td>41.244314</td>\n",
       "    </tr>\n",
       "    <tr>\n",
       "      <th>D</th>\n",
       "      <td>46</td>\n",
       "      <td>3.51</td>\n",
       "      <td>53.007339</td>\n",
       "    </tr>\n",
       "    <tr>\n",
       "      <th>E</th>\n",
       "      <td>41</td>\n",
       "      <td>3.13</td>\n",
       "      <td>54.564634</td>\n",
       "    </tr>\n",
       "    <tr>\n",
       "      <th>C</th>\n",
       "      <td>94</td>\n",
       "      <td>7.18</td>\n",
       "      <td>107.926598</td>\n",
       "    </tr>\n",
       "    <tr>\n",
       "      <th>B</th>\n",
       "      <td>65</td>\n",
       "      <td>4.97</td>\n",
       "      <td>122.383078</td>\n",
       "    </tr>\n",
       "  </tbody>\n",
       "</table>\n",
       "</div>"
      ],
      "text/plain": [
       "   count  percent   mean_Fare\n",
       "G      5     0.38   14.205000\n",
       "F     21     1.60   18.079367\n",
       "N   1014    77.46   19.132707\n",
       "T      1     0.08   35.500000\n",
       "A     22     1.68   41.244314\n",
       "D     46     3.51   53.007339\n",
       "E     41     3.13   54.564634\n",
       "C     94     7.18  107.926598\n",
       "B     65     4.97  122.383078"
      ]
     },
     "execution_count": 14,
     "metadata": {},
     "output_type": "execute_result"
    }
   ],
   "source": [
    "pd.DataFrame({\n",
    "    'count': all_data.Cabin.value_counts(),\n",
    "    'percent': all_data.Cabin.value_counts(normalize=True).round(4)*100,\n",
    "    'mean_Fare': all_data.groupby('Cabin').Fare.mean(),\n",
    "}).sort_values('mean_Fare')"
   ]
  },
  {
   "cell_type": "markdown",
   "id": "8c80c401",
   "metadata": {},
   "source": [
    "More advanced approach would be to fit an imputer and let it fill the values"
   ]
  },
  {
   "cell_type": "markdown",
   "id": "2be4a90b",
   "metadata": {},
   "source": [
    "Let's see what predictors are important for `Cabin`:"
   ]
  },
  {
   "cell_type": "code",
   "execution_count": 15,
   "id": "490eb3e5",
   "metadata": {},
   "outputs": [
    {
     "name": "stdout",
     "output_type": "stream",
     "text": [
      "Fitting using the following columns: ['Age', 'Cabin', 'Embarked', 'Fare', 'Parch', 'Pclass', 'Sex', 'SibSp']\n",
      "  -> ['Cabin', 'Embarked', 'Fare', 'Pclass']\n"
     ]
    },
    {
     "data": {
      "text/html": [
       "<div>\n",
       "<style scoped>\n",
       "    .dataframe tbody tr th:only-of-type {\n",
       "        vertical-align: middle;\n",
       "    }\n",
       "\n",
       "    .dataframe tbody tr th {\n",
       "        vertical-align: top;\n",
       "    }\n",
       "\n",
       "    .dataframe thead th {\n",
       "        text-align: right;\n",
       "    }\n",
       "</style>\n",
       "<table border=\"1\" class=\"dataframe\">\n",
       "  <thead>\n",
       "    <tr style=\"text-align: right;\">\n",
       "      <th></th>\n",
       "      <th>model</th>\n",
       "      <th>score_test</th>\n",
       "      <th>score_val</th>\n",
       "      <th>pred_time_test</th>\n",
       "      <th>pred_time_val</th>\n",
       "      <th>fit_time</th>\n",
       "      <th>pred_time_test_marginal</th>\n",
       "      <th>pred_time_val_marginal</th>\n",
       "      <th>fit_time_marginal</th>\n",
       "      <th>stack_level</th>\n",
       "      <th>can_infer</th>\n",
       "      <th>fit_order</th>\n",
       "    </tr>\n",
       "  </thead>\n",
       "  <tbody>\n",
       "    <tr>\n",
       "      <th>0</th>\n",
       "      <td>LightGBM</td>\n",
       "      <td>0.404494</td>\n",
       "      <td>0.560976</td>\n",
       "      <td>0.005010</td>\n",
       "      <td>0.002282</td>\n",
       "      <td>0.205134</td>\n",
       "      <td>0.005010</td>\n",
       "      <td>0.002282</td>\n",
       "      <td>0.205134</td>\n",
       "      <td>1</td>\n",
       "      <td>True</td>\n",
       "      <td>1</td>\n",
       "    </tr>\n",
       "    <tr>\n",
       "      <th>1</th>\n",
       "      <td>WeightedEnsemble_L2</td>\n",
       "      <td>0.404494</td>\n",
       "      <td>0.560976</td>\n",
       "      <td>0.007119</td>\n",
       "      <td>0.002670</td>\n",
       "      <td>0.207789</td>\n",
       "      <td>0.002109</td>\n",
       "      <td>0.000388</td>\n",
       "      <td>0.002655</td>\n",
       "      <td>2</td>\n",
       "      <td>True</td>\n",
       "      <td>2</td>\n",
       "    </tr>\n",
       "  </tbody>\n",
       "</table>\n",
       "</div>"
      ],
      "text/plain": [
       "                 model  score_test  score_val  pred_time_test  pred_time_val  \\\n",
       "0             LightGBM    0.404494   0.560976        0.005010       0.002282   \n",
       "1  WeightedEnsemble_L2    0.404494   0.560976        0.007119       0.002670   \n",
       "\n",
       "   fit_time  pred_time_test_marginal  pred_time_val_marginal  \\\n",
       "0  0.205134                 0.005010                0.002282   \n",
       "1  0.207789                 0.002109                0.000388   \n",
       "\n",
       "   fit_time_marginal  stack_level  can_infer  fit_order  \n",
       "0           0.205134            1       True          1  \n",
       "1           0.002655            2       True          2  "
      ]
     },
     "metadata": {},
     "output_type": "display_data"
    },
    {
     "data": {
      "text/plain": [
       "<AxesSubplot:xlabel='importance', ylabel='index'>"
      ]
     },
     "metadata": {},
     "output_type": "display_data"
    },
    {
     "data": {
      "image/png": "[encoded data removed]",
      "text/plain": [
       "<Figure size 432x288 with 1 Axes>"
      ]
     },
     "metadata": {},
     "output_type": "display_data"
    }
   ],
   "source": [
    "_data = all_data.copy()\n",
    "_data.Cabin = _data.Cabin.replace({'N': np.nan})\n",
    "cabin_imputer = auto.imputers.fit_imputer(\n",
    "    path='/Users/ashyrkou/Temp/ag-titanic-cabin',\n",
    "    df=_data,\n",
    "    columns=['Pclass', 'Sex', 'Age', 'Embarked', 'SibSp', 'Parch', 'Fare', 'Cabin'], \n",
    "#     columns=['Cabin', 'Fare', 'Pclass', 'SibSp'],\n",
    "    label='Cabin',\n",
    "#     show_all_stages=True,\n",
    "    show_leaderboards=True,\n",
    "    show_importance=True,\n",
    ")"
   ]
  },
  {
   "cell_type": "markdown",
   "id": "2828ade1",
   "metadata": {},
   "source": [
    "We can see the main predictors are `Pclass`, `Fare`, `SibSp` and `Embarked`; other features are not helpful. Let's refit only using the helpful ones."
   ]
  },
  {
   "cell_type": "markdown",
   "id": "f37c7b13",
   "metadata": {},
   "source": [
    "Let's see distribution of imputed values"
   ]
  },
  {
   "cell_type": "code",
   "execution_count": 16,
   "id": "70d3963d",
   "metadata": {},
   "outputs": [],
   "source": [
    "_data = all_data[all_data.Cabin == 'N'].copy()\n",
    "_data.Cabin = cabin_imputer.predict(_data)"
   ]
  },
  {
   "cell_type": "code",
   "execution_count": 17,
   "id": "b7ef8871",
   "metadata": {},
   "outputs": [
    {
     "data": {
      "text/html": [
       "<div>\n",
       "<style scoped>\n",
       "    .dataframe tbody tr th:only-of-type {\n",
       "        vertical-align: middle;\n",
       "    }\n",
       "\n",
       "    .dataframe tbody tr th {\n",
       "        vertical-align: top;\n",
       "    }\n",
       "\n",
       "    .dataframe thead th {\n",
       "        text-align: right;\n",
       "    }\n",
       "</style>\n",
       "<table border=\"1\" class=\"dataframe\">\n",
       "  <thead>\n",
       "    <tr style=\"text-align: right;\">\n",
       "      <th></th>\n",
       "      <th>count</th>\n",
       "      <th>percent</th>\n",
       "    </tr>\n",
       "  </thead>\n",
       "  <tbody>\n",
       "    <tr>\n",
       "      <th>F</th>\n",
       "      <td>947</td>\n",
       "      <td>93.39</td>\n",
       "    </tr>\n",
       "    <tr>\n",
       "      <th>C</th>\n",
       "      <td>37</td>\n",
       "      <td>3.65</td>\n",
       "    </tr>\n",
       "    <tr>\n",
       "      <th>B</th>\n",
       "      <td>11</td>\n",
       "      <td>1.08</td>\n",
       "    </tr>\n",
       "    <tr>\n",
       "      <th>A</th>\n",
       "      <td>9</td>\n",
       "      <td>0.89</td>\n",
       "    </tr>\n",
       "    <tr>\n",
       "      <th>D</th>\n",
       "      <td>7</td>\n",
       "      <td>0.69</td>\n",
       "    </tr>\n",
       "    <tr>\n",
       "      <th>E</th>\n",
       "      <td>3</td>\n",
       "      <td>0.30</td>\n",
       "    </tr>\n",
       "  </tbody>\n",
       "</table>\n",
       "</div>"
      ],
      "text/plain": [
       "   count  percent\n",
       "F    947    93.39\n",
       "C     37     3.65\n",
       "B     11     1.08\n",
       "A      9     0.89\n",
       "D      7     0.69\n",
       "E      3     0.30"
      ]
     },
     "execution_count": 17,
     "metadata": {},
     "output_type": "execute_result"
    }
   ],
   "source": [
    "pd.DataFrame({\n",
    "    'count': _data.Cabin.value_counts(),\n",
    "    'percent': _data.Cabin.value_counts(normalize=True).round(4)*100,\n",
    "})"
   ]
  },
  {
   "cell_type": "code",
   "execution_count": 18,
   "id": "30cd85c7",
   "metadata": {},
   "outputs": [
    {
     "data": {
      "text/html": [
       "<h3>Feature interaction between Cabin/Fare in train_data</h3>"
      ],
      "text/plain": [
       "<IPython.core.display.HTML object>"
      ]
     },
     "metadata": {},
     "output_type": "display_data"
    },
    {
     "data": {
      "image/png": "[encoded data removed]",
      "text/plain": [
       "<Figure size 432x288 with 1 Axes>"
      ]
     },
     "metadata": {},
     "output_type": "display_data"
    }
   ],
   "source": [
    "auto.analyze_interaction(x='Cabin', y='Fare', train_data=_data, viz_args=viz_args)"
   ]
  },
  {
   "cell_type": "markdown",
   "id": "b6ccbff8",
   "metadata": {},
   "source": [
    "## Filling missing values in `Fare`"
   ]
  },
  {
   "cell_type": "markdown",
   "id": "f06a0059",
   "metadata": {},
   "source": [
    "There is only one missing value in the fare column. Let's have it. "
   ]
  },
  {
   "cell_type": "code",
   "execution_count": 19,
   "id": "dc84f74c",
   "metadata": {},
   "outputs": [
    {
     "data": {
      "text/html": [
       "<div>\n",
       "<style scoped>\n",
       "    .dataframe tbody tr th:only-of-type {\n",
       "        vertical-align: middle;\n",
       "    }\n",
       "\n",
       "    .dataframe tbody tr th {\n",
       "        vertical-align: top;\n",
       "    }\n",
       "\n",
       "    .dataframe thead th {\n",
       "        text-align: right;\n",
       "    }\n",
       "</style>\n",
       "<table border=\"1\" class=\"dataframe\">\n",
       "  <thead>\n",
       "    <tr style=\"text-align: right;\">\n",
       "      <th></th>\n",
       "      <th>PassengerId</th>\n",
       "      <th>Pclass</th>\n",
       "      <th>Name</th>\n",
       "      <th>Sex</th>\n",
       "      <th>Age</th>\n",
       "      <th>SibSp</th>\n",
       "      <th>Parch</th>\n",
       "      <th>Ticket</th>\n",
       "      <th>Fare</th>\n",
       "      <th>Cabin</th>\n",
       "      <th>Embarked</th>\n",
       "    </tr>\n",
       "  </thead>\n",
       "  <tbody>\n",
       "    <tr>\n",
       "      <th>152</th>\n",
       "      <td>1044</td>\n",
       "      <td>3</td>\n",
       "      <td>Storey, Mr. Thomas</td>\n",
       "      <td>male</td>\n",
       "      <td>60.5</td>\n",
       "      <td>0</td>\n",
       "      <td>0</td>\n",
       "      <td>3701</td>\n",
       "      <td>NaN</td>\n",
       "      <td>NaN</td>\n",
       "      <td>S</td>\n",
       "    </tr>\n",
       "  </tbody>\n",
       "</table>\n",
       "</div>"
      ],
      "text/plain": [
       "     PassengerId  Pclass                Name   Sex   Age  SibSp  Parch Ticket  \\\n",
       "152         1044       3  Storey, Mr. Thomas  male  60.5      0      0   3701   \n",
       "\n",
       "     Fare Cabin Embarked  \n",
       "152   NaN   NaN        S  "
      ]
     },
     "execution_count": 19,
     "metadata": {},
     "output_type": "execute_result"
    }
   ],
   "source": [
    "df_test[df_test.Fare.isna()]"
   ]
  },
  {
   "cell_type": "markdown",
   "id": "7dc870b7",
   "metadata": {},
   "source": [
    "We can take the average of the `Fare` column to fill in the `NaN` value. However, for the sake of learning and practicing, we will try something else. We can take the average of the values where `Pclass` is `3`, `Sex` is `male` and `Embarked` is `S`"
   ]
  },
  {
   "cell_type": "code",
   "execution_count": 20,
   "id": "f092b8a9",
   "metadata": {},
   "outputs": [
    {
     "data": {
      "text/plain": [
       "13.145977260273972"
      ]
     },
     "execution_count": 20,
     "metadata": {},
     "output_type": "execute_result"
    }
   ],
   "source": [
    "_data = all_data[\n",
    "    (all_data.Pclass == 3) & \n",
    "    (all_data.Embarked == \"S\") & \n",
    "    (all_data.Sex == \"male\")\n",
    "]\n",
    "_data.Fare.mean()"
   ]
  },
  {
   "cell_type": "code",
   "execution_count": 21,
   "id": "f9a810a1",
   "metadata": {},
   "outputs": [
    {
     "data": {
      "text/html": [
       "<h3>Fare in train_data</h3>"
      ],
      "text/plain": [
       "<IPython.core.display.HTML object>"
      ]
     },
     "metadata": {},
     "output_type": "display_data"
    },
    {
     "data": {
      "image/png": "[encoded data removed]",
      "text/plain": [
       "<Figure size 432x288 with 1 Axes>"
      ]
     },
     "metadata": {},
     "output_type": "display_data"
    }
   ],
   "source": [
    "auto.analyze_interaction(x='Fare', train_data=all_data, viz_args=viz_args)"
   ]
  },
  {
   "cell_type": "markdown",
   "id": "5162bb62",
   "metadata": {},
   "source": [
    "## Filling missing values in `Age`\n",
    "We know that the feature \"Age\" is the one with most missing values, let's see it in terms of percentage. "
   ]
  },
  {
   "cell_type": "code",
   "execution_count": 22,
   "id": "cd5db1a5",
   "metadata": {},
   "outputs": [
    {
     "name": "stdout",
     "output_type": "stream",
     "text": [
      "Fitting using the following columns: ['Age', 'Cabin', 'Embarked', 'Fare', 'Parch', 'Pclass', 'Sex', 'SibSp']\n",
      "  -> ['Age', 'Fare', 'Parch', 'Pclass', 'Sex', 'SibSp']\n"
     ]
    },
    {
     "data": {
      "text/html": [
       "<div>\n",
       "<style scoped>\n",
       "    .dataframe tbody tr th:only-of-type {\n",
       "        vertical-align: middle;\n",
       "    }\n",
       "\n",
       "    .dataframe tbody tr th {\n",
       "        vertical-align: top;\n",
       "    }\n",
       "\n",
       "    .dataframe thead th {\n",
       "        text-align: right;\n",
       "    }\n",
       "</style>\n",
       "<table border=\"1\" class=\"dataframe\">\n",
       "  <thead>\n",
       "    <tr style=\"text-align: right;\">\n",
       "      <th></th>\n",
       "      <th>model</th>\n",
       "      <th>score_test</th>\n",
       "      <th>score_val</th>\n",
       "      <th>pred_time_test</th>\n",
       "      <th>pred_time_val</th>\n",
       "      <th>fit_time</th>\n",
       "      <th>pred_time_test_marginal</th>\n",
       "      <th>pred_time_val_marginal</th>\n",
       "      <th>fit_time_marginal</th>\n",
       "      <th>stack_level</th>\n",
       "      <th>can_infer</th>\n",
       "      <th>fit_order</th>\n",
       "    </tr>\n",
       "  </thead>\n",
       "  <tbody>\n",
       "    <tr>\n",
       "      <th>0</th>\n",
       "      <td>LightGBM</td>\n",
       "      <td>-12.091894</td>\n",
       "      <td>-12.923004</td>\n",
       "      <td>0.001409</td>\n",
       "      <td>0.001618</td>\n",
       "      <td>0.180463</td>\n",
       "      <td>0.001409</td>\n",
       "      <td>0.001618</td>\n",
       "      <td>0.180463</td>\n",
       "      <td>1</td>\n",
       "      <td>True</td>\n",
       "      <td>1</td>\n",
       "    </tr>\n",
       "    <tr>\n",
       "      <th>1</th>\n",
       "      <td>WeightedEnsemble_L2</td>\n",
       "      <td>-12.091894</td>\n",
       "      <td>-12.923004</td>\n",
       "      <td>0.002717</td>\n",
       "      <td>0.002026</td>\n",
       "      <td>0.183037</td>\n",
       "      <td>0.001308</td>\n",
       "      <td>0.000408</td>\n",
       "      <td>0.002574</td>\n",
       "      <td>2</td>\n",
       "      <td>True</td>\n",
       "      <td>2</td>\n",
       "    </tr>\n",
       "  </tbody>\n",
       "</table>\n",
       "</div>"
      ],
      "text/plain": [
       "                 model  score_test  score_val  pred_time_test  pred_time_val  \\\n",
       "0             LightGBM  -12.091894 -12.923004        0.001409       0.001618   \n",
       "1  WeightedEnsemble_L2  -12.091894 -12.923004        0.002717       0.002026   \n",
       "\n",
       "   fit_time  pred_time_test_marginal  pred_time_val_marginal  \\\n",
       "0  0.180463                 0.001409                0.001618   \n",
       "1  0.183037                 0.001308                0.000408   \n",
       "\n",
       "   fit_time_marginal  stack_level  can_infer  fit_order  \n",
       "0           0.180463            1       True          1  \n",
       "1           0.002574            2       True          2  "
      ]
     },
     "metadata": {},
     "output_type": "display_data"
    },
    {
     "data": {
      "text/plain": [
       "<AxesSubplot:xlabel='importance', ylabel='index'>"
      ]
     },
     "metadata": {},
     "output_type": "display_data"
    },
    {
     "data": {
      "image/png": "[encoded data removed]",
      "text/plain": [
       "<Figure size 432x288 with 1 Axes>"
      ]
     },
     "metadata": {},
     "output_type": "display_data"
    }
   ],
   "source": [
    "age_imputer = auto.imputers.fit_imputer(\n",
    "    path='/Users/ashyrkou/Temp/ag-titanic-age',\n",
    "    df=all_data,\n",
    "    columns=['Pclass', 'Sex', 'Age', 'Embarked', 'SibSp', 'Parch', 'Fare', 'Cabin'], \n",
    "    label='Age',\n",
    "    show_leaderboards=True,\n",
    "    show_importance=True,\n",
    ")"
   ]
  },
  {
   "cell_type": "code",
   "execution_count": 23,
   "id": "0451a6f5",
   "metadata": {},
   "outputs": [],
   "source": [
    "_data = all_data[all_data.Age.isna()].copy()\n",
    "_data.Age = age_imputer.predict(_data)"
   ]
  },
  {
   "cell_type": "code",
   "execution_count": 24,
   "id": "bd703f24",
   "metadata": {},
   "outputs": [
    {
     "data": {
      "image/png": "[encoded data removed]",
      "text/plain": [
       "<Figure size 432x288 with 1 Axes>"
      ]
     },
     "metadata": {},
     "output_type": "display_data"
    }
   ],
   "source": [
    "ax = sns.kdeplot(data=_data.Age)"
   ]
  },
  {
   "cell_type": "markdown",
   "id": "236af11a",
   "metadata": {},
   "source": [
    "***\n",
    "# Visualization and Feature Relations"
   ]
  },
  {
   "cell_type": "markdown",
   "id": "6c794cd2",
   "metadata": {},
   "source": [
    "Before we dive into finding relations between independent variables and our dependent variable(survivor), let us create some assumptions about how the relations may turn-out among features.\n",
    "\n",
    "**Assumptions:**\n",
    "- Gender: More female survived than male\n",
    "- Pclass: Higher socio-economic status passenger survived more than others. \n",
    "- Age: Younger passenger survived more than other passengers. \n",
    "- Fare: Passenger with higher fare survived more that other passengers. This can be quite correlated with Pclass. "
   ]
  },
  {
   "cell_type": "markdown",
   "id": "94301acb",
   "metadata": {},
   "source": [
    "## Gender and Survived"
   ]
  },
  {
   "cell_type": "code",
   "execution_count": 25,
   "id": "6d17da23",
   "metadata": {},
   "outputs": [
    {
     "data": {
      "image/png": "[encoded data removed]",
      "text/plain": [
       "<Figure size 432x288 with 1 Axes>"
      ]
     },
     "metadata": {},
     "output_type": "display_data"
    }
   ],
   "source": [
    "auto.analyze_interaction(x='Sex', hue='Survived', train_data=df_train, test_data=df_test)"
   ]
  },
  {
   "cell_type": "markdown",
   "id": "5c1828f3",
   "metadata": {},
   "source": [
    "- As we suspected, female passengers have survived at a much better rate than male passengers. \n",
    "- It seems about right since females and children were the priority. "
   ]
  },
  {
   "cell_type": "markdown",
   "id": "cc1a6090",
   "metadata": {},
   "source": [
    "## Pclass and Survived"
   ]
  },
  {
   "cell_type": "code",
   "execution_count": 26,
   "id": "0ea4fdda",
   "metadata": {},
   "outputs": [
    {
     "data": {
      "image/png": "[encoded data removed]",
      "text/plain": [
       "<Figure size 432x288 with 1 Axes>"
      ]
     },
     "metadata": {},
     "output_type": "display_data"
    }
   ],
   "source": [
    "auto.analyze_interaction(x='Pclass', hue='Survived', train_data=df_train, test_data=df_test)"
   ]
  },
  {
   "cell_type": "code",
   "execution_count": 27,
   "id": "5369cb0e",
   "metadata": {},
   "outputs": [
    {
     "data": {
      "image/png": "[encoded data removed]",
      "text/plain": [
       "<Figure size 432x288 with 1 Axes>"
      ]
     },
     "metadata": {},
     "output_type": "display_data"
    }
   ],
   "source": [
    "auto.analyze_interaction(x='Pclass', y='Survived', train_data=df_train, test_data=df_test)"
   ]
  },
  {
   "cell_type": "markdown",
   "id": "e6fffdb5",
   "metadata": {},
   "source": [
    "- It looks like ...\n",
    "    - ~ 63% first class passenger survived titanic tragedy, while \n",
    "    - ~ 48% second class and \n",
    "    - ~ only 24% third class passenger survived."
   ]
  },
  {
   "cell_type": "markdown",
   "id": "1e66e376",
   "metadata": {},
   "source": [
    "## Fare and Survived"
   ]
  },
  {
   "cell_type": "code",
   "execution_count": 28,
   "id": "03962726",
   "metadata": {},
   "outputs": [
    {
     "data": {
      "image/png": "[encoded data removed]",
      "text/plain": [
       "<Figure size 432x288 with 1 Axes>"
      ]
     },
     "metadata": {},
     "output_type": "display_data"
    }
   ],
   "source": [
    "auto.analyze_interaction(\n",
    "    x='Fare', hue='Survived', train_data=df_train, test_data=df_test, viz_args=dict(fill=True)\n",
    ")"
   ]
  },
  {
   "cell_type": "markdown",
   "id": "d4ac65c5",
   "metadata": {},
   "source": [
    "- The spike in the plot under 100 dollar represents that a lot of passengers who bought the ticket within that range did not survive\n",
    "- When fare is approximately more than 280 dollars, there is no blue shade which means, either everyone passed that fare point survived or maybe there is an outlier. Let's check"
   ]
  },
  {
   "cell_type": "code",
   "execution_count": 29,
   "id": "b2b1534c",
   "metadata": {},
   "outputs": [
    {
     "data": {
      "text/html": [
       "<div>\n",
       "<style scoped>\n",
       "    .dataframe tbody tr th:only-of-type {\n",
       "        vertical-align: middle;\n",
       "    }\n",
       "\n",
       "    .dataframe tbody tr th {\n",
       "        vertical-align: top;\n",
       "    }\n",
       "\n",
       "    .dataframe thead th {\n",
       "        text-align: right;\n",
       "    }\n",
       "</style>\n",
       "<table border=\"1\" class=\"dataframe\">\n",
       "  <thead>\n",
       "    <tr style=\"text-align: right;\">\n",
       "      <th></th>\n",
       "      <th>PassengerId</th>\n",
       "      <th>Survived</th>\n",
       "      <th>Pclass</th>\n",
       "      <th>Name</th>\n",
       "      <th>Sex</th>\n",
       "      <th>Age</th>\n",
       "      <th>SibSp</th>\n",
       "      <th>Parch</th>\n",
       "      <th>Ticket</th>\n",
       "      <th>Fare</th>\n",
       "      <th>Cabin</th>\n",
       "      <th>Embarked</th>\n",
       "    </tr>\n",
       "  </thead>\n",
       "  <tbody>\n",
       "    <tr>\n",
       "      <th>258</th>\n",
       "      <td>259</td>\n",
       "      <td>1</td>\n",
       "      <td>1</td>\n",
       "      <td>Ward, Miss. Anna</td>\n",
       "      <td>female</td>\n",
       "      <td>35.0</td>\n",
       "      <td>0</td>\n",
       "      <td>0</td>\n",
       "      <td>PC 17755</td>\n",
       "      <td>512.3292</td>\n",
       "      <td>NaN</td>\n",
       "      <td>C</td>\n",
       "    </tr>\n",
       "    <tr>\n",
       "      <th>679</th>\n",
       "      <td>680</td>\n",
       "      <td>1</td>\n",
       "      <td>1</td>\n",
       "      <td>Cardeza, Mr. Thomas Drake Martinez</td>\n",
       "      <td>male</td>\n",
       "      <td>36.0</td>\n",
       "      <td>0</td>\n",
       "      <td>1</td>\n",
       "      <td>PC 17755</td>\n",
       "      <td>512.3292</td>\n",
       "      <td>B51 B53 B55</td>\n",
       "      <td>C</td>\n",
       "    </tr>\n",
       "    <tr>\n",
       "      <th>737</th>\n",
       "      <td>738</td>\n",
       "      <td>1</td>\n",
       "      <td>1</td>\n",
       "      <td>Lesurer, Mr. Gustave J</td>\n",
       "      <td>male</td>\n",
       "      <td>35.0</td>\n",
       "      <td>0</td>\n",
       "      <td>0</td>\n",
       "      <td>PC 17755</td>\n",
       "      <td>512.3292</td>\n",
       "      <td>B101</td>\n",
       "      <td>C</td>\n",
       "    </tr>\n",
       "  </tbody>\n",
       "</table>\n",
       "</div>"
      ],
      "text/plain": [
       "     PassengerId  Survived  Pclass                                Name  \\\n",
       "258          259         1       1                    Ward, Miss. Anna   \n",
       "679          680         1       1  Cardeza, Mr. Thomas Drake Martinez   \n",
       "737          738         1       1              Lesurer, Mr. Gustave J   \n",
       "\n",
       "        Sex   Age  SibSp  Parch    Ticket      Fare        Cabin Embarked  \n",
       "258  female  35.0      0      0  PC 17755  512.3292          NaN        C  \n",
       "679    male  36.0      0      1  PC 17755  512.3292  B51 B53 B55        C  \n",
       "737    male  35.0      0      0  PC 17755  512.3292         B101        C  "
      ]
     },
     "execution_count": 29,
     "metadata": {},
     "output_type": "execute_result"
    }
   ],
   "source": [
    "df_train[df_train.Fare > 280]"
   ]
  },
  {
   "cell_type": "markdown",
   "id": "cb21076f",
   "metadata": {},
   "source": [
    "As we assumed, it looks like an outlier with a fare of $512. We sure can delete this point. However, we will keep it for now."
   ]
  },
  {
   "cell_type": "markdown",
   "id": "45c23b9f",
   "metadata": {},
   "source": [
    "## Age and Survived"
   ]
  },
  {
   "cell_type": "code",
   "execution_count": 30,
   "id": "647c773e",
   "metadata": {},
   "outputs": [
    {
     "data": {
      "image/png": "[encoded data removed]",
      "text/plain": [
       "<Figure size 432x288 with 1 Axes>"
      ]
     },
     "metadata": {},
     "output_type": "display_data"
    }
   ],
   "source": [
    "auto.analyze_interaction(\n",
    "    x='Age', hue='Survived', train_data=df_train, test_data=df_test, viz_args=dict(fill=True)\n",
    ")"
   ]
  },
  {
   "cell_type": "markdown",
   "id": "ebfb385f",
   "metadata": {},
   "source": [
    "There is nothing out of the ordinary about this plot, except the very left part of the distribution. This may hint on the posibility that children and infants were the priority."
   ]
  },
  {
   "cell_type": "code",
   "execution_count": 31,
   "id": "896f5cae",
   "metadata": {},
   "outputs": [
    {
     "data": {
      "image/png": "[encoded data removed]",
      "text/plain": [
       "<Figure size 432x288 with 1 Axes>"
      ]
     },
     "metadata": {},
     "output_type": "display_data"
    }
   ],
   "source": [
    "auto.analyze_interaction(\n",
    "    x='Fare', y='Age', hue='Survived', train_data=df_train, test_data=df_test, viz_args=dict(fill=True)\n",
    ")"
   ]
  },
  {
   "cell_type": "markdown",
   "id": "f55437b1",
   "metadata": {},
   "source": [
    "- The grid above clearly demonstrates the three outliers with Fare of over \\$500. At this point, I think we are quite confident that these outliers should be deleted.\n",
    "- Most of the passengers were with in the Fare range of \\$100."
   ]
  },
  {
   "cell_type": "code",
   "execution_count": 32,
   "id": "5f635cf2",
   "metadata": {},
   "outputs": [
    {
     "data": {
      "text/html": [
       "<h3>Feature interaction between Parch/Survived in train_data</h3>"
      ],
      "text/plain": [
       "<IPython.core.display.HTML object>"
      ]
     },
     "metadata": {},
     "output_type": "display_data"
    },
    {
     "data": {
      "image/png": "[encoded data removed]",
      "text/plain": [
       "<Figure size 432x288 with 1 Axes>"
      ]
     },
     "metadata": {},
     "output_type": "display_data"
    }
   ],
   "source": [
    "auto.analyze_interaction(\n",
    "    x='Parch', y='Survived', train_data=df_train, test_data=df_test, viz_args=viz_args\n",
    ")"
   ]
  },
  {
   "cell_type": "markdown",
   "id": "4f0b0428",
   "metadata": {},
   "source": [
    "Passenger who traveled in big groups with parents/children had less survival rate than other passengers."
   ]
  },
  {
   "cell_type": "code",
   "execution_count": 33,
   "id": "bebdb631",
   "metadata": {},
   "outputs": [
    {
     "data": {
      "text/html": [
       "<h3>Feature interaction between SibSp/Survived in train_data</h3>"
      ],
      "text/plain": [
       "<IPython.core.display.HTML object>"
      ]
     },
     "metadata": {},
     "output_type": "display_data"
    },
    {
     "data": {
      "image/png": "[encoded data removed]",
      "text/plain": [
       "<Figure size 432x288 with 1 Axes>"
      ]
     },
     "metadata": {},
     "output_type": "display_data"
    }
   ],
   "source": [
    "auto.analyze_interaction(\n",
    "    x='SibSp', y='Survived', train_data=df_train, test_data=df_test, viz_args=viz_args\n",
    ")"
   ]
  },
  {
   "cell_type": "markdown",
   "id": "3dedb546",
   "metadata": {},
   "source": [
    "Passengers who traveled in small groups with sibilings/spouses had better changes of survivint than other passengers."
   ]
  },
  {
   "cell_type": "markdown",
   "id": "fa1039ff",
   "metadata": {},
   "source": [
    "## Correlations"
   ]
  },
  {
   "cell_type": "code",
   "execution_count": 34,
   "id": "a3d3c849",
   "metadata": {},
   "outputs": [
    {
     "data": {
      "text/html": [
       "<h3>train_data - spearman correlation matrix</h3>"
      ],
      "text/plain": [
       "<IPython.core.display.HTML object>"
      ]
     },
     "metadata": {},
     "output_type": "display_data"
    },
    {
     "data": {
      "application/vnd.jupyter.widget-view+json": {
       "model_id": "6d3958c677a042e79d24567a3a31fbdc",
       "version_major": 2,
       "version_minor": 0
      },
      "text/plain": [
       "Tab(children=(Output(), Output()), _titles={'0': 'correlations', '1': 'significance matrix'})"
      ]
     },
     "metadata": {},
     "output_type": "display_data"
    },
    {
     "data": {
      "text/html": [
       "<h3>test_data - spearman correlation matrix</h3>"
      ],
      "text/plain": [
       "<IPython.core.display.HTML object>"
      ]
     },
     "metadata": {},
     "output_type": "display_data"
    },
    {
     "data": {
      "application/vnd.jupyter.widget-view+json": {
       "model_id": "6962ae817d9149129e5cf808148c8795",
       "version_major": 2,
       "version_minor": 0
      },
      "text/plain": [
       "Tab(children=(Output(), Output()), _titles={'0': 'correlations', '1': 'significance matrix'})"
      ]
     },
     "metadata": {},
     "output_type": "display_data"
    }
   ],
   "source": [
    "auto.analyze(train_data=df_train, test_data=df_test, label='Survived', anlz_facets=[\n",
    "    eda.interaction.Correlation(significance=True, method='spearman'),\n",
    "], viz_facets=[\n",
    "    viz.interaction.CorrelationVisualization(fig_args=dict(figsize=(12,8)), **common_args),\n",
    "])"
   ]
  },
  {
   "cell_type": "markdown",
   "id": "b59cae93",
   "metadata": {},
   "source": [
    "# First model fitting"
   ]
  },
  {
   "cell_type": "code",
   "execution_count": 35,
   "id": "6c74fad3",
   "metadata": {},
   "outputs": [],
   "source": [
    "from autogluon.tabular import TabularPredictor\n",
    "from sklearn.model_selection import train_test_split\n",
    "from IPython.display import display\n",
    "\n",
    "path='/Users/admin/Temp/ag-titanic-fit',\n",
    "\n",
    "\n",
    "def fit_model(_df_train, path, target, fit_args={}):\n",
    "    predictor = TabularPredictor(\n",
    "        label=target,\n",
    "        path=path,\n",
    "        verbosity=0\n",
    "    ).fit(\n",
    "        _df_train,\n",
    "        **fit_args,\n",
    "    )\n",
    "    return predictor\n",
    "\n",
    "\n",
    "def fit_and_display_results(path, df_train, df_val, target_col, fit_args = {'hyperparameters':{'GBM': {}}}):\n",
    "    predictor = fit_model(df_train[columns], path, target_col, fit_args)\n",
    "    display(predictor.leaderboard(df_val, silent=True))\n",
    "    if df_val is not None:\n",
    "        importance = predictor.feature_importance(df_val.reset_index(drop=True))\n",
    "        display(sns.barplot(data=importance.reset_index(), y='index', x='importance'))\n",
    "    return predictor\n",
    "\n",
    "    \n",
    "def split_data(df, label, columns):\n",
    "    _df_train = df[~df[label].isna()][columns].reset_index(drop=True)\n",
    "    (_df_train, _df_val) = train_test_split(_df_train, random_state=0, test_size=0.3)    \n",
    "    return _df_train, _df_val"
   ]
  },
  {
   "cell_type": "code",
   "execution_count": 36,
   "id": "6c1daa7d",
   "metadata": {},
   "outputs": [
    {
     "data": {
      "text/html": [
       "<div>\n",
       "<style scoped>\n",
       "    .dataframe tbody tr th:only-of-type {\n",
       "        vertical-align: middle;\n",
       "    }\n",
       "\n",
       "    .dataframe tbody tr th {\n",
       "        vertical-align: top;\n",
       "    }\n",
       "\n",
       "    .dataframe thead th {\n",
       "        text-align: right;\n",
       "    }\n",
       "</style>\n",
       "<table border=\"1\" class=\"dataframe\">\n",
       "  <thead>\n",
       "    <tr style=\"text-align: right;\">\n",
       "      <th></th>\n",
       "      <th>model</th>\n",
       "      <th>score_test</th>\n",
       "      <th>score_val</th>\n",
       "      <th>pred_time_test</th>\n",
       "      <th>pred_time_val</th>\n",
       "      <th>fit_time</th>\n",
       "      <th>pred_time_test_marginal</th>\n",
       "      <th>pred_time_val_marginal</th>\n",
       "      <th>fit_time_marginal</th>\n",
       "      <th>stack_level</th>\n",
       "      <th>can_infer</th>\n",
       "      <th>fit_order</th>\n",
       "    </tr>\n",
       "  </thead>\n",
       "  <tbody>\n",
       "    <tr>\n",
       "      <th>0</th>\n",
       "      <td>LightGBM</td>\n",
       "      <td>0.820896</td>\n",
       "      <td>0.784</td>\n",
       "      <td>0.003942</td>\n",
       "      <td>0.003226</td>\n",
       "      <td>0.204563</td>\n",
       "      <td>0.003942</td>\n",
       "      <td>0.003226</td>\n",
       "      <td>0.204563</td>\n",
       "      <td>1</td>\n",
       "      <td>True</td>\n",
       "      <td>1</td>\n",
       "    </tr>\n",
       "    <tr>\n",
       "      <th>1</th>\n",
       "      <td>WeightedEnsemble_L2</td>\n",
       "      <td>0.820896</td>\n",
       "      <td>0.784</td>\n",
       "      <td>0.005248</td>\n",
       "      <td>0.003767</td>\n",
       "      <td>0.206898</td>\n",
       "      <td>0.001306</td>\n",
       "      <td>0.000541</td>\n",
       "      <td>0.002335</td>\n",
       "      <td>2</td>\n",
       "      <td>True</td>\n",
       "      <td>2</td>\n",
       "    </tr>\n",
       "  </tbody>\n",
       "</table>\n",
       "</div>"
      ],
      "text/plain": [
       "                 model  score_test  score_val  pred_time_test  pred_time_val  \\\n",
       "0             LightGBM    0.820896      0.784        0.003942       0.003226   \n",
       "1  WeightedEnsemble_L2    0.820896      0.784        0.005248       0.003767   \n",
       "\n",
       "   fit_time  pred_time_test_marginal  pred_time_val_marginal  \\\n",
       "0  0.204563                 0.003942                0.003226   \n",
       "1  0.206898                 0.001306                0.000541   \n",
       "\n",
       "   fit_time_marginal  stack_level  can_infer  fit_order  \n",
       "0           0.204563            1       True          1  \n",
       "1           0.002335            2       True          2  "
      ]
     },
     "metadata": {},
     "output_type": "display_data"
    },
    {
     "data": {
      "text/plain": [
       "<AxesSubplot:xlabel='importance', ylabel='index'>"
      ]
     },
     "metadata": {},
     "output_type": "display_data"
    },
    {
     "data": {
      "text/plain": [
       "<autogluon.tabular.predictor.predictor.TabularPredictor at 0x7f78fe5ee5b0>"
      ]
     },
     "execution_count": 36,
     "metadata": {},
     "output_type": "execute_result"
    },
    {
     "data": {
      "image/png": "[encoded data removed]",
      "text/plain": [
       "<Figure size 432x288 with 1 Axes>"
      ]
     },
     "metadata": {},
     "output_type": "display_data"
    }
   ],
   "source": [
    "columns = df_train.columns\n",
    "_df_train, _df_val = split_data(df_train, target_col, columns)\n",
    "fit_and_display_results(path, _df_train, _df_val, target_col)"
   ]
  },
  {
   "cell_type": "markdown",
   "id": "8780d9f4",
   "metadata": {},
   "source": [
    "### Remove unhelpful columns"
   ]
  },
  {
   "cell_type": "code",
   "execution_count": 37,
   "id": "eaf4e32f",
   "metadata": {},
   "outputs": [],
   "source": [
    "drop_cols = ['Ticket', 'PassengerId']"
   ]
  },
  {
   "cell_type": "code",
   "execution_count": 38,
   "id": "0da56fec",
   "metadata": {},
   "outputs": [
    {
     "data": {
      "text/html": [
       "<div>\n",
       "<style scoped>\n",
       "    .dataframe tbody tr th:only-of-type {\n",
       "        vertical-align: middle;\n",
       "    }\n",
       "\n",
       "    .dataframe tbody tr th {\n",
       "        vertical-align: top;\n",
       "    }\n",
       "\n",
       "    .dataframe thead th {\n",
       "        text-align: right;\n",
       "    }\n",
       "</style>\n",
       "<table border=\"1\" class=\"dataframe\">\n",
       "  <thead>\n",
       "    <tr style=\"text-align: right;\">\n",
       "      <th></th>\n",
       "      <th>model</th>\n",
       "      <th>score_test</th>\n",
       "      <th>score_val</th>\n",
       "      <th>pred_time_test</th>\n",
       "      <th>pred_time_val</th>\n",
       "      <th>fit_time</th>\n",
       "      <th>pred_time_test_marginal</th>\n",
       "      <th>pred_time_val_marginal</th>\n",
       "      <th>fit_time_marginal</th>\n",
       "      <th>stack_level</th>\n",
       "      <th>can_infer</th>\n",
       "      <th>fit_order</th>\n",
       "    </tr>\n",
       "  </thead>\n",
       "  <tbody>\n",
       "    <tr>\n",
       "      <th>0</th>\n",
       "      <td>LightGBM</td>\n",
       "      <td>0.80597</td>\n",
       "      <td>0.784</td>\n",
       "      <td>0.006965</td>\n",
       "      <td>0.003969</td>\n",
       "      <td>0.265966</td>\n",
       "      <td>0.006965</td>\n",
       "      <td>0.003969</td>\n",
       "      <td>0.265966</td>\n",
       "      <td>1</td>\n",
       "      <td>True</td>\n",
       "      <td>1</td>\n",
       "    </tr>\n",
       "    <tr>\n",
       "      <th>1</th>\n",
       "      <td>WeightedEnsemble_L2</td>\n",
       "      <td>0.80597</td>\n",
       "      <td>0.784</td>\n",
       "      <td>0.008836</td>\n",
       "      <td>0.004599</td>\n",
       "      <td>0.268856</td>\n",
       "      <td>0.001871</td>\n",
       "      <td>0.000630</td>\n",
       "      <td>0.002890</td>\n",
       "      <td>2</td>\n",
       "      <td>True</td>\n",
       "      <td>2</td>\n",
       "    </tr>\n",
       "  </tbody>\n",
       "</table>\n",
       "</div>"
      ],
      "text/plain": [
       "                 model  score_test  score_val  pred_time_test  pred_time_val  \\\n",
       "0             LightGBM     0.80597      0.784        0.006965       0.003969   \n",
       "1  WeightedEnsemble_L2     0.80597      0.784        0.008836       0.004599   \n",
       "\n",
       "   fit_time  pred_time_test_marginal  pred_time_val_marginal  \\\n",
       "0  0.265966                 0.006965                0.003969   \n",
       "1  0.268856                 0.001871                0.000630   \n",
       "\n",
       "   fit_time_marginal  stack_level  can_infer  fit_order  \n",
       "0           0.265966            1       True          1  \n",
       "1           0.002890            2       True          2  "
      ]
     },
     "metadata": {},
     "output_type": "display_data"
    },
    {
     "data": {
      "text/plain": [
       "<AxesSubplot:xlabel='importance', ylabel='index'>"
      ]
     },
     "metadata": {},
     "output_type": "display_data"
    },
    {
     "data": {
      "text/plain": [
       "<autogluon.tabular.predictor.predictor.TabularPredictor at 0x7f78fb18fb20>"
      ]
     },
     "execution_count": 38,
     "metadata": {},
     "output_type": "execute_result"
    },
    {
     "data": {
      "image/png": "[encoded data removed]",
      "text/plain": [
       "<Figure size 432x288 with 1 Axes>"
      ]
     },
     "metadata": {},
     "output_type": "display_data"
    }
   ],
   "source": [
    "columns = [c for c in df_train.columns if c not in drop_cols]\n",
    "_df_train, _df_val = split_data(df_train, target_col, columns)\n",
    "fit_and_display_results(path, _df_train, _df_val, target_col)"
   ]
  },
  {
   "cell_type": "markdown",
   "id": "f044b920",
   "metadata": {},
   "source": [
    "### Filling missing"
   ]
  },
  {
   "cell_type": "code",
   "execution_count": 39,
   "id": "89db44b4",
   "metadata": {},
   "outputs": [],
   "source": [
    "def prepare_clean_data(df_train, df_test, columns):\n",
    "    _df_train = df_train.copy()\n",
    "    _df_test = df_test.copy()\n",
    "\n",
    "    cols_to_drop = ['Ticket', 'PassengerId']\n",
    "\n",
    "    for df in [_df_train, _df_test]:\n",
    "        df.loc[df.Embarked.isna(), 'Embarked'] = 'C'\n",
    "\n",
    "        df.Cabin = df.Cabin.str[0]\n",
    "        df.loc[df.Cabin.isna(), 'Cabin'] = cabin_imputer.predict(df[df.Cabin.isna()])\n",
    "\n",
    "        df.loc[df.Fare.isna(), 'Fare'] = 13.14\n",
    "\n",
    "        df.loc[df.Age.isna(), 'Age'] = age_imputer.predict(df[df.Age.isna()])\n",
    "    \n",
    "    _df_train, _df_val = split_data(_df_train, target_col, columns)\n",
    "    \n",
    "    return _df_train, _df_val, _df_test"
   ]
  },
  {
   "cell_type": "code",
   "execution_count": 40,
   "id": "b1d74ff0",
   "metadata": {},
   "outputs": [
    {
     "data": {
      "text/html": [
       "<div>\n",
       "<style scoped>\n",
       "    .dataframe tbody tr th:only-of-type {\n",
       "        vertical-align: middle;\n",
       "    }\n",
       "\n",
       "    .dataframe tbody tr th {\n",
       "        vertical-align: top;\n",
       "    }\n",
       "\n",
       "    .dataframe thead th {\n",
       "        text-align: right;\n",
       "    }\n",
       "</style>\n",
       "<table border=\"1\" class=\"dataframe\">\n",
       "  <thead>\n",
       "    <tr style=\"text-align: right;\">\n",
       "      <th></th>\n",
       "      <th>model</th>\n",
       "      <th>score_test</th>\n",
       "      <th>score_val</th>\n",
       "      <th>pred_time_test</th>\n",
       "      <th>pred_time_val</th>\n",
       "      <th>fit_time</th>\n",
       "      <th>pred_time_test_marginal</th>\n",
       "      <th>pred_time_val_marginal</th>\n",
       "      <th>fit_time_marginal</th>\n",
       "      <th>stack_level</th>\n",
       "      <th>can_infer</th>\n",
       "      <th>fit_order</th>\n",
       "    </tr>\n",
       "  </thead>\n",
       "  <tbody>\n",
       "    <tr>\n",
       "      <th>0</th>\n",
       "      <td>LightGBM</td>\n",
       "      <td>0.83209</td>\n",
       "      <td>0.768</td>\n",
       "      <td>0.004225</td>\n",
       "      <td>0.002729</td>\n",
       "      <td>0.199549</td>\n",
       "      <td>0.004225</td>\n",
       "      <td>0.002729</td>\n",
       "      <td>0.199549</td>\n",
       "      <td>1</td>\n",
       "      <td>True</td>\n",
       "      <td>1</td>\n",
       "    </tr>\n",
       "    <tr>\n",
       "      <th>1</th>\n",
       "      <td>WeightedEnsemble_L2</td>\n",
       "      <td>0.83209</td>\n",
       "      <td>0.768</td>\n",
       "      <td>0.005770</td>\n",
       "      <td>0.003282</td>\n",
       "      <td>0.202214</td>\n",
       "      <td>0.001545</td>\n",
       "      <td>0.000553</td>\n",
       "      <td>0.002665</td>\n",
       "      <td>2</td>\n",
       "      <td>True</td>\n",
       "      <td>2</td>\n",
       "    </tr>\n",
       "  </tbody>\n",
       "</table>\n",
       "</div>"
      ],
      "text/plain": [
       "                 model  score_test  score_val  pred_time_test  pred_time_val  \\\n",
       "0             LightGBM     0.83209      0.768        0.004225       0.002729   \n",
       "1  WeightedEnsemble_L2     0.83209      0.768        0.005770       0.003282   \n",
       "\n",
       "   fit_time  pred_time_test_marginal  pred_time_val_marginal  \\\n",
       "0  0.199549                 0.004225                0.002729   \n",
       "1  0.202214                 0.001545                0.000553   \n",
       "\n",
       "   fit_time_marginal  stack_level  can_infer  fit_order  \n",
       "0           0.199549            1       True          1  \n",
       "1           0.002665            2       True          2  "
      ]
     },
     "metadata": {},
     "output_type": "display_data"
    },
    {
     "data": {
      "text/plain": [
       "<AxesSubplot:xlabel='importance', ylabel='index'>"
      ]
     },
     "metadata": {},
     "output_type": "display_data"
    },
    {
     "data": {
      "text/plain": [
       "<autogluon.tabular.predictor.predictor.TabularPredictor at 0x7f78fef3edf0>"
      ]
     },
     "execution_count": 40,
     "metadata": {},
     "output_type": "execute_result"
    },
    {
     "data": {
      "image/png": "[encoded data removed]",
      "text/plain": [
       "<Figure size 432x288 with 1 Axes>"
      ]
     },
     "metadata": {},
     "output_type": "display_data"
    }
   ],
   "source": [
    "columns = [c for c in df_train.columns if c not in drop_cols]\n",
    "_df_train, _df_val, _df_test = prepare_clean_data(df_train, df_test, columns)\n",
    "fit_and_display_results(path, _df_train, _df_val, target_col)"
   ]
  },
  {
   "cell_type": "markdown",
   "id": "71cdf955",
   "metadata": {},
   "source": [
    "# Feature engineering"
   ]
  },
  {
   "cell_type": "markdown",
   "id": "96aeb09f",
   "metadata": {},
   "source": [
    "## Title"
   ]
  },
  {
   "cell_type": "code",
   "execution_count": 41,
   "id": "053e48fd",
   "metadata": {},
   "outputs": [
    {
     "data": {
      "text/plain": [
       "{'Mr': 'Mr',\n",
       " 'Miss': 'Miss',\n",
       " 'Mrs': 'Mrs',\n",
       " 'Master': 'Master',\n",
       " 'Rev': '--other--',\n",
       " 'Dr': '--other--',\n",
       " 'Col': '--other--',\n",
       " 'Mlle': 'Miss',\n",
       " 'Major': '--other--',\n",
       " 'Ms': 'Miss',\n",
       " 'Lady': '--other--',\n",
       " 'Sir': '--other--',\n",
       " 'Mme': '--other--',\n",
       " 'Don': '--other--',\n",
       " 'Capt': '--other--',\n",
       " 'the Countess': '--other--',\n",
       " 'Jonkheer': '--other--',\n",
       " 'Dona': '--other--'}"
      ]
     },
     "execution_count": 41,
     "metadata": {},
     "output_type": "execute_result"
    }
   ],
   "source": [
    "titles = all_data.Name.str.split('.').str[0].str.split(', ').str[1]\n",
    "counts = titles.value_counts()\n",
    "\n",
    "mapping = {k: k if v > 8 else '--other--' for k, v in counts.items()}\n",
    "mapping['Mlle'] = 'Miss'\n",
    "mapping['Ms'] = 'Miss'\n",
    "mapping"
   ]
  },
  {
   "cell_type": "code",
   "execution_count": 42,
   "id": "14352def",
   "metadata": {},
   "outputs": [],
   "source": [
    "for df in [_df_train, _df_val, _df_test]:\n",
    "    df['title'] = df.Name.str.split('.').str[0].str.split(', ').str[1].map(mapping)"
   ]
  },
  {
   "cell_type": "markdown",
   "id": "facf7840",
   "metadata": {},
   "source": [
    "## family_size"
   ]
  },
  {
   "cell_type": "code",
   "execution_count": 43,
   "id": "9c08db0b",
   "metadata": {},
   "outputs": [],
   "source": [
    "for df in [_df_train, _df_val, _df_test]:\n",
    "    df['family_size'] = df.SibSp + df.Parch + 1\n",
    "    df['is_alone'] = df['family_size'] == 1\n",
    "    df['calculated_fare'] = df.Fare / df.family_size"
   ]
  },
  {
   "cell_type": "markdown",
   "id": "0e248743",
   "metadata": {},
   "source": [
    "# Fit with new features and ensemble"
   ]
  },
  {
   "cell_type": "code",
   "execution_count": 44,
   "id": "2d917f75",
   "metadata": {},
   "outputs": [
    {
     "name": "stderr",
     "output_type": "stream",
     "text": [
      "/Users/ashyrkou/Projects/venv-ag/lib/python3.8/site-packages/xgboost/compat.py:31: FutureWarning: pandas.Int64Index is deprecated and will be removed from pandas in a future version. Use pandas.Index with the appropriate dtype instead.\n",
      "  from pandas import MultiIndex, Int64Index\n",
      "[W ParallelNative.cpp:229] Warning: Cannot set number of intraop threads after parallel work has started or after set_num_threads call when using native parallel backend (function set_num_threads)\n",
      "[W ParallelNative.cpp:229] Warning: Cannot set number of intraop threads after parallel work has started or after set_num_threads call when using native parallel backend (function set_num_threads)\n",
      "[W ParallelNative.cpp:229] Warning: Cannot set number of intraop threads after parallel work has started or after set_num_threads call when using native parallel backend (function set_num_threads)\n",
      "[W ParallelNative.cpp:229] Warning: Cannot set number of intraop threads after parallel work has started or after set_num_threads call when using native parallel backend (function set_num_threads)\n",
      "[W ParallelNative.cpp:229] Warning: Cannot set number of intraop threads after parallel work has started or after set_num_threads call when using native parallel backend (function set_num_threads)\n",
      "[W ParallelNative.cpp:229] Warning: Cannot set number of intraop threads after parallel work has started or after set_num_threads call when using native parallel backend (function set_num_threads)\n",
      "[W ParallelNative.cpp:229] Warning: Cannot set number of intraop threads after parallel work has started or after set_num_threads call when using native parallel backend (function set_num_threads)\n",
      "[W ParallelNative.cpp:229] Warning: Cannot set number of intraop threads after parallel work has started or after set_num_threads call when using native parallel backend (function set_num_threads)\n",
      "[W ParallelNative.cpp:229] Warning: Cannot set number of intraop threads after parallel work has started or after set_num_threads call when using native parallel backend (function set_num_threads)\n",
      "[W ParallelNative.cpp:229] Warning: Cannot set number of intraop threads after parallel work has started or after set_num_threads call when using native parallel backend (function set_num_threads)\n",
      "[W ParallelNative.cpp:229] Warning: Cannot set number of intraop threads after parallel work has started or after set_num_threads call when using native parallel backend (function set_num_threads)\n",
      "[W ParallelNative.cpp:229] Warning: Cannot set number of intraop threads after parallel work has started or after set_num_threads call when using native parallel backend (function set_num_threads)\n",
      "[W ParallelNative.cpp:229] Warning: Cannot set number of intraop threads after parallel work has started or after set_num_threads call when using native parallel backend (function set_num_threads)\n",
      "[W ParallelNative.cpp:229] Warning: Cannot set number of intraop threads after parallel work has started or after set_num_threads call when using native parallel backend (function set_num_threads)\n",
      "[W ParallelNative.cpp:229] Warning: Cannot set number of intraop threads after parallel work has started or after set_num_threads call when using native parallel backend (function set_num_threads)\n",
      "[W ParallelNative.cpp:229] Warning: Cannot set number of intraop threads after parallel work has started or after set_num_threads call when using native parallel backend (function set_num_threads)\n",
      "[W ParallelNative.cpp:229] Warning: Cannot set number of intraop threads after parallel work has started or after set_num_threads call when using native parallel backend (function set_num_threads)\n",
      "[W ParallelNative.cpp:229] Warning: Cannot set number of intraop threads after parallel work has started or after set_num_threads call when using native parallel backend (function set_num_threads)\n",
      "[W ParallelNative.cpp:229] Warning: Cannot set number of intraop threads after parallel work has started or after set_num_threads call when using native parallel backend (function set_num_threads)\n",
      "[W ParallelNative.cpp:229] Warning: Cannot set number of intraop threads after parallel work has started or after set_num_threads call when using native parallel backend (function set_num_threads)\n",
      "[W ParallelNative.cpp:229] Warning: Cannot set number of intraop threads after parallel work has started or after set_num_threads call when using native parallel backend (function set_num_threads)\n",
      "[W ParallelNative.cpp:229] Warning: Cannot set number of intraop threads after parallel work has started or after set_num_threads call when using native parallel backend (function set_num_threads)\n",
      "[W ParallelNative.cpp:229] Warning: Cannot set number of intraop threads after parallel work has started or after set_num_threads call when using native parallel backend (function set_num_threads)\n",
      "[W ParallelNative.cpp:229] Warning: Cannot set number of intraop threads after parallel work has started or after set_num_threads call when using native parallel backend (function set_num_threads)\n"
     ]
    },
    {
     "data": {
      "text/html": [
       "<div>\n",
       "<style scoped>\n",
       "    .dataframe tbody tr th:only-of-type {\n",
       "        vertical-align: middle;\n",
       "    }\n",
       "\n",
       "    .dataframe tbody tr th {\n",
       "        vertical-align: top;\n",
       "    }\n",
       "\n",
       "    .dataframe thead th {\n",
       "        text-align: right;\n",
       "    }\n",
       "</style>\n",
       "<table border=\"1\" class=\"dataframe\">\n",
       "  <thead>\n",
       "    <tr style=\"text-align: right;\">\n",
       "      <th></th>\n",
       "      <th>model</th>\n",
       "      <th>score_test</th>\n",
       "      <th>score_val</th>\n",
       "      <th>pred_time_test</th>\n",
       "      <th>pred_time_val</th>\n",
       "      <th>fit_time</th>\n",
       "      <th>pred_time_test_marginal</th>\n",
       "      <th>pred_time_val_marginal</th>\n",
       "      <th>fit_time_marginal</th>\n",
       "      <th>stack_level</th>\n",
       "      <th>can_infer</th>\n",
       "      <th>fit_order</th>\n",
       "    </tr>\n",
       "  </thead>\n",
       "  <tbody>\n",
       "    <tr>\n",
       "      <th>0</th>\n",
       "      <td>LightGBMLarge_BAG_L1</td>\n",
       "      <td>0.850746</td>\n",
       "      <td>0.831461</td>\n",
       "      <td>0.031159</td>\n",
       "      <td>0.016109</td>\n",
       "      <td>1.972014</td>\n",
       "      <td>0.031159</td>\n",
       "      <td>0.016109</td>\n",
       "      <td>1.972014</td>\n",
       "      <td>1</td>\n",
       "      <td>True</td>\n",
       "      <td>13</td>\n",
       "    </tr>\n",
       "    <tr>\n",
       "      <th>1</th>\n",
       "      <td>XGBoost_BAG_L1</td>\n",
       "      <td>0.847015</td>\n",
       "      <td>0.831461</td>\n",
       "      <td>0.048010</td>\n",
       "      <td>0.028031</td>\n",
       "      <td>1.190372</td>\n",
       "      <td>0.048010</td>\n",
       "      <td>0.028031</td>\n",
       "      <td>1.190372</td>\n",
       "      <td>1</td>\n",
       "      <td>True</td>\n",
       "      <td>11</td>\n",
       "    </tr>\n",
       "    <tr>\n",
       "      <th>2</th>\n",
       "      <td>LightGBM_BAG_L1</td>\n",
       "      <td>0.843284</td>\n",
       "      <td>0.841091</td>\n",
       "      <td>0.025233</td>\n",
       "      <td>0.018554</td>\n",
       "      <td>1.091738</td>\n",
       "      <td>0.025233</td>\n",
       "      <td>0.018554</td>\n",
       "      <td>1.091738</td>\n",
       "      <td>1</td>\n",
       "      <td>True</td>\n",
       "      <td>4</td>\n",
       "    </tr>\n",
       "    <tr>\n",
       "      <th>3</th>\n",
       "      <td>RandomForestGini_BAG_L1</td>\n",
       "      <td>0.835821</td>\n",
       "      <td>0.791332</td>\n",
       "      <td>0.057465</td>\n",
       "      <td>0.082567</td>\n",
       "      <td>0.429896</td>\n",
       "      <td>0.057465</td>\n",
       "      <td>0.082567</td>\n",
       "      <td>0.429896</td>\n",
       "      <td>1</td>\n",
       "      <td>True</td>\n",
       "      <td>5</td>\n",
       "    </tr>\n",
       "    <tr>\n",
       "      <th>4</th>\n",
       "      <td>RandomForestEntr_BAG_L1</td>\n",
       "      <td>0.832090</td>\n",
       "      <td>0.791332</td>\n",
       "      <td>0.059224</td>\n",
       "      <td>0.084254</td>\n",
       "      <td>0.335979</td>\n",
       "      <td>0.059224</td>\n",
       "      <td>0.084254</td>\n",
       "      <td>0.335979</td>\n",
       "      <td>1</td>\n",
       "      <td>True</td>\n",
       "      <td>6</td>\n",
       "    </tr>\n",
       "    <tr>\n",
       "      <th>5</th>\n",
       "      <td>ExtraTreesGini_BAG_L1</td>\n",
       "      <td>0.832090</td>\n",
       "      <td>0.799358</td>\n",
       "      <td>0.077333</td>\n",
       "      <td>0.081810</td>\n",
       "      <td>0.337128</td>\n",
       "      <td>0.077333</td>\n",
       "      <td>0.081810</td>\n",
       "      <td>0.337128</td>\n",
       "      <td>1</td>\n",
       "      <td>True</td>\n",
       "      <td>8</td>\n",
       "    </tr>\n",
       "    <tr>\n",
       "      <th>6</th>\n",
       "      <td>ExtraTreesEntr_BAG_L1</td>\n",
       "      <td>0.828358</td>\n",
       "      <td>0.797753</td>\n",
       "      <td>0.076134</td>\n",
       "      <td>0.134181</td>\n",
       "      <td>0.336390</td>\n",
       "      <td>0.076134</td>\n",
       "      <td>0.134181</td>\n",
       "      <td>0.336390</td>\n",
       "      <td>1</td>\n",
       "      <td>True</td>\n",
       "      <td>9</td>\n",
       "    </tr>\n",
       "    <tr>\n",
       "      <th>7</th>\n",
       "      <td>NeuralNetFastAI_BAG_L1</td>\n",
       "      <td>0.828358</td>\n",
       "      <td>0.841091</td>\n",
       "      <td>0.130079</td>\n",
       "      <td>0.065161</td>\n",
       "      <td>4.863758</td>\n",
       "      <td>0.130079</td>\n",
       "      <td>0.065161</td>\n",
       "      <td>4.863758</td>\n",
       "      <td>1</td>\n",
       "      <td>True</td>\n",
       "      <td>10</td>\n",
       "    </tr>\n",
       "    <tr>\n",
       "      <th>8</th>\n",
       "      <td>CatBoost_BAG_L1</td>\n",
       "      <td>0.820896</td>\n",
       "      <td>0.842697</td>\n",
       "      <td>0.015654</td>\n",
       "      <td>0.017525</td>\n",
       "      <td>2.770791</td>\n",
       "      <td>0.015654</td>\n",
       "      <td>0.017525</td>\n",
       "      <td>2.770791</td>\n",
       "      <td>1</td>\n",
       "      <td>True</td>\n",
       "      <td>7</td>\n",
       "    </tr>\n",
       "    <tr>\n",
       "      <th>9</th>\n",
       "      <td>WeightedEnsemble_L2</td>\n",
       "      <td>0.820896</td>\n",
       "      <td>0.842697</td>\n",
       "      <td>0.016962</td>\n",
       "      <td>0.018597</td>\n",
       "      <td>3.256540</td>\n",
       "      <td>0.001308</td>\n",
       "      <td>0.001072</td>\n",
       "      <td>0.485749</td>\n",
       "      <td>2</td>\n",
       "      <td>True</td>\n",
       "      <td>14</td>\n",
       "    </tr>\n",
       "    <tr>\n",
       "      <th>10</th>\n",
       "      <td>LightGBMXT_BAG_L1</td>\n",
       "      <td>0.820896</td>\n",
       "      <td>0.831461</td>\n",
       "      <td>0.026588</td>\n",
       "      <td>0.018706</td>\n",
       "      <td>0.979473</td>\n",
       "      <td>0.026588</td>\n",
       "      <td>0.018706</td>\n",
       "      <td>0.979473</td>\n",
       "      <td>1</td>\n",
       "      <td>True</td>\n",
       "      <td>3</td>\n",
       "    </tr>\n",
       "    <tr>\n",
       "      <th>11</th>\n",
       "      <td>NeuralNetTorch_BAG_L1</td>\n",
       "      <td>0.817164</td>\n",
       "      <td>0.837881</td>\n",
       "      <td>0.118240</td>\n",
       "      <td>0.067749</td>\n",
       "      <td>8.360592</td>\n",
       "      <td>0.118240</td>\n",
       "      <td>0.067749</td>\n",
       "      <td>8.360592</td>\n",
       "      <td>1</td>\n",
       "      <td>True</td>\n",
       "      <td>12</td>\n",
       "    </tr>\n",
       "    <tr>\n",
       "      <th>12</th>\n",
       "      <td>KNeighborsUnif_BAG_L1</td>\n",
       "      <td>0.694030</td>\n",
       "      <td>0.695024</td>\n",
       "      <td>0.006870</td>\n",
       "      <td>0.007675</td>\n",
       "      <td>0.004452</td>\n",
       "      <td>0.006870</td>\n",
       "      <td>0.007675</td>\n",
       "      <td>0.004452</td>\n",
       "      <td>1</td>\n",
       "      <td>True</td>\n",
       "      <td>1</td>\n",
       "    </tr>\n",
       "    <tr>\n",
       "      <th>13</th>\n",
       "      <td>KNeighborsDist_BAG_L1</td>\n",
       "      <td>0.682836</td>\n",
       "      <td>0.698234</td>\n",
       "      <td>0.006584</td>\n",
       "      <td>0.005235</td>\n",
       "      <td>0.002938</td>\n",
       "      <td>0.006584</td>\n",
       "      <td>0.005235</td>\n",
       "      <td>0.002938</td>\n",
       "      <td>1</td>\n",
       "      <td>True</td>\n",
       "      <td>2</td>\n",
       "    </tr>\n",
       "  </tbody>\n",
       "</table>\n",
       "</div>"
      ],
      "text/plain": [
       "                      model  score_test  score_val  pred_time_test  \\\n",
       "0      LightGBMLarge_BAG_L1    0.850746   0.831461        0.031159   \n",
       "1            XGBoost_BAG_L1    0.847015   0.831461        0.048010   \n",
       "2           LightGBM_BAG_L1    0.843284   0.841091        0.025233   \n",
       "3   RandomForestGini_BAG_L1    0.835821   0.791332        0.057465   \n",
       "4   RandomForestEntr_BAG_L1    0.832090   0.791332        0.059224   \n",
       "5     ExtraTreesGini_BAG_L1    0.832090   0.799358        0.077333   \n",
       "6     ExtraTreesEntr_BAG_L1    0.828358   0.797753        0.076134   \n",
       "7    NeuralNetFastAI_BAG_L1    0.828358   0.841091        0.130079   \n",
       "8           CatBoost_BAG_L1    0.820896   0.842697        0.015654   \n",
       "9       WeightedEnsemble_L2    0.820896   0.842697        0.016962   \n",
       "10        LightGBMXT_BAG_L1    0.820896   0.831461        0.026588   \n",
       "11    NeuralNetTorch_BAG_L1    0.817164   0.837881        0.118240   \n",
       "12    KNeighborsUnif_BAG_L1    0.694030   0.695024        0.006870   \n",
       "13    KNeighborsDist_BAG_L1    0.682836   0.698234        0.006584   \n",
       "\n",
       "    pred_time_val  fit_time  pred_time_test_marginal  pred_time_val_marginal  \\\n",
       "0        0.016109  1.972014                 0.031159                0.016109   \n",
       "1        0.028031  1.190372                 0.048010                0.028031   \n",
       "2        0.018554  1.091738                 0.025233                0.018554   \n",
       "3        0.082567  0.429896                 0.057465                0.082567   \n",
       "4        0.084254  0.335979                 0.059224                0.084254   \n",
       "5        0.081810  0.337128                 0.077333                0.081810   \n",
       "6        0.134181  0.336390                 0.076134                0.134181   \n",
       "7        0.065161  4.863758                 0.130079                0.065161   \n",
       "8        0.017525  2.770791                 0.015654                0.017525   \n",
       "9        0.018597  3.256540                 0.001308                0.001072   \n",
       "10       0.018706  0.979473                 0.026588                0.018706   \n",
       "11       0.067749  8.360592                 0.118240                0.067749   \n",
       "12       0.007675  0.004452                 0.006870                0.007675   \n",
       "13       0.005235  0.002938                 0.006584                0.005235   \n",
       "\n",
       "    fit_time_marginal  stack_level  can_infer  fit_order  \n",
       "0            1.972014            1       True         13  \n",
       "1            1.190372            1       True         11  \n",
       "2            1.091738            1       True          4  \n",
       "3            0.429896            1       True          5  \n",
       "4            0.335979            1       True          6  \n",
       "5            0.337128            1       True          8  \n",
       "6            0.336390            1       True          9  \n",
       "7            4.863758            1       True         10  \n",
       "8            2.770791            1       True          7  \n",
       "9            0.485749            2       True         14  \n",
       "10           0.979473            1       True          3  \n",
       "11           8.360592            1       True         12  \n",
       "12           0.004452            1       True          1  \n",
       "13           0.002938            1       True          2  "
      ]
     },
     "metadata": {},
     "output_type": "display_data"
    },
    {
     "data": {
      "text/plain": [
       "<AxesSubplot:xlabel='importance', ylabel='index'>"
      ]
     },
     "metadata": {},
     "output_type": "display_data"
    },
    {
     "data": {
      "text/plain": [
       "<autogluon.tabular.predictor.predictor.TabularPredictor at 0x7f78fb4ab340>"
      ]
     },
     "execution_count": 44,
     "metadata": {},
     "output_type": "execute_result"
    },
    {
     "data": {
      "image/png": "[encoded data removed]",
      "text/plain": [
       "<Figure size 432x288 with 1 Axes>"
      ]
     },
     "metadata": {},
     "output_type": "display_data"
    }
   ],
   "source": [
    "columns = [c for c in _df_train.columns if c not in ['Name', *drop_cols]]\n",
    "fit_and_display_results(\n",
    "    path, _df_train[columns], _df_val[columns], target_col, \n",
    "    fit_args={'presets': 'best_quality'}\n",
    ")"
   ]
  },
  {
   "cell_type": "markdown",
   "id": "01a23aa6",
   "metadata": {},
   "source": [
    "### Refit on all training data"
   ]
  },
  {
   "cell_type": "code",
   "execution_count": 45,
   "id": "6e804e2e",
   "metadata": {},
   "outputs": [
    {
     "name": "stderr",
     "output_type": "stream",
     "text": [
      "[W ParallelNative.cpp:229] Warning: Cannot set number of intraop threads after parallel work has started or after set_num_threads call when using native parallel backend (function set_num_threads)\n",
      "[W ParallelNative.cpp:229] Warning: Cannot set number of intraop threads after parallel work has started or after set_num_threads call when using native parallel backend (function set_num_threads)\n",
      "[W ParallelNative.cpp:229] Warning: Cannot set number of intraop threads after parallel work has started or after set_num_threads call when using native parallel backend (function set_num_threads)\n",
      "[W ParallelNative.cpp:229] Warning: Cannot set number of intraop threads after parallel work has started or after set_num_threads call when using native parallel backend (function set_num_threads)\n",
      "[W ParallelNative.cpp:229] Warning: Cannot set number of intraop threads after parallel work has started or after set_num_threads call when using native parallel backend (function set_num_threads)\n",
      "[W ParallelNative.cpp:229] Warning: Cannot set number of intraop threads after parallel work has started or after set_num_threads call when using native parallel backend (function set_num_threads)\n",
      "[W ParallelNative.cpp:229] Warning: Cannot set number of intraop threads after parallel work has started or after set_num_threads call when using native parallel backend (function set_num_threads)\n",
      "[W ParallelNative.cpp:229] Warning: Cannot set number of intraop threads after parallel work has started or after set_num_threads call when using native parallel backend (function set_num_threads)\n",
      "[W ParallelNative.cpp:229] Warning: Cannot set number of intraop threads after parallel work has started or after set_num_threads call when using native parallel backend (function set_num_threads)\n",
      "[W ParallelNative.cpp:229] Warning: Cannot set number of intraop threads after parallel work has started or after set_num_threads call when using native parallel backend (function set_num_threads)\n",
      "[W ParallelNative.cpp:229] Warning: Cannot set number of intraop threads after parallel work has started or after set_num_threads call when using native parallel backend (function set_num_threads)\n",
      "[W ParallelNative.cpp:229] Warning: Cannot set number of intraop threads after parallel work has started or after set_num_threads call when using native parallel backend (function set_num_threads)\n",
      "[W ParallelNative.cpp:229] Warning: Cannot set number of intraop threads after parallel work has started or after set_num_threads call when using native parallel backend (function set_num_threads)\n",
      "[W ParallelNative.cpp:229] Warning: Cannot set number of intraop threads after parallel work has started or after set_num_threads call when using native parallel backend (function set_num_threads)\n",
      "[W ParallelNative.cpp:229] Warning: Cannot set number of intraop threads after parallel work has started or after set_num_threads call when using native parallel backend (function set_num_threads)\n",
      "[W ParallelNative.cpp:229] Warning: Cannot set number of intraop threads after parallel work has started or after set_num_threads call when using native parallel backend (function set_num_threads)\n"
     ]
    },
    {
     "data": {
      "text/html": [
       "<div>\n",
       "<style scoped>\n",
       "    .dataframe tbody tr th:only-of-type {\n",
       "        vertical-align: middle;\n",
       "    }\n",
       "\n",
       "    .dataframe tbody tr th {\n",
       "        vertical-align: top;\n",
       "    }\n",
       "\n",
       "    .dataframe thead th {\n",
       "        text-align: right;\n",
       "    }\n",
       "</style>\n",
       "<table border=\"1\" class=\"dataframe\">\n",
       "  <thead>\n",
       "    <tr style=\"text-align: right;\">\n",
       "      <th></th>\n",
       "      <th>model</th>\n",
       "      <th>score_val</th>\n",
       "      <th>pred_time_val</th>\n",
       "      <th>fit_time</th>\n",
       "      <th>pred_time_val_marginal</th>\n",
       "      <th>fit_time_marginal</th>\n",
       "      <th>stack_level</th>\n",
       "      <th>can_infer</th>\n",
       "      <th>fit_order</th>\n",
       "    </tr>\n",
       "  </thead>\n",
       "  <tbody>\n",
       "    <tr>\n",
       "      <th>0</th>\n",
       "      <td>WeightedEnsemble_L2</td>\n",
       "      <td>0.855219</td>\n",
       "      <td>0.104064</td>\n",
       "      <td>8.258434</td>\n",
       "      <td>0.001402</td>\n",
       "      <td>0.551211</td>\n",
       "      <td>2</td>\n",
       "      <td>True</td>\n",
       "      <td>14</td>\n",
       "    </tr>\n",
       "    <tr>\n",
       "      <th>1</th>\n",
       "      <td>LightGBM_BAG_L1</td>\n",
       "      <td>0.852974</td>\n",
       "      <td>0.022157</td>\n",
       "      <td>1.717012</td>\n",
       "      <td>0.022157</td>\n",
       "      <td>1.717012</td>\n",
       "      <td>1</td>\n",
       "      <td>True</td>\n",
       "      <td>4</td>\n",
       "    </tr>\n",
       "    <tr>\n",
       "      <th>2</th>\n",
       "      <td>XGBoost_BAG_L1</td>\n",
       "      <td>0.850730</td>\n",
       "      <td>0.041654</td>\n",
       "      <td>1.803677</td>\n",
       "      <td>0.041654</td>\n",
       "      <td>1.803677</td>\n",
       "      <td>1</td>\n",
       "      <td>True</td>\n",
       "      <td>11</td>\n",
       "    </tr>\n",
       "    <tr>\n",
       "      <th>3</th>\n",
       "      <td>NeuralNetTorch_BAG_L1</td>\n",
       "      <td>0.846240</td>\n",
       "      <td>0.089587</td>\n",
       "      <td>15.689412</td>\n",
       "      <td>0.089587</td>\n",
       "      <td>15.689412</td>\n",
       "      <td>1</td>\n",
       "      <td>True</td>\n",
       "      <td>12</td>\n",
       "    </tr>\n",
       "    <tr>\n",
       "      <th>4</th>\n",
       "      <td>NeuralNetFastAI_BAG_L1</td>\n",
       "      <td>0.838384</td>\n",
       "      <td>0.080505</td>\n",
       "      <td>5.990211</td>\n",
       "      <td>0.080505</td>\n",
       "      <td>5.990211</td>\n",
       "      <td>1</td>\n",
       "      <td>True</td>\n",
       "      <td>10</td>\n",
       "    </tr>\n",
       "    <tr>\n",
       "      <th>5</th>\n",
       "      <td>CatBoost_BAG_L1</td>\n",
       "      <td>0.837262</td>\n",
       "      <td>0.018500</td>\n",
       "      <td>3.658270</td>\n",
       "      <td>0.018500</td>\n",
       "      <td>3.658270</td>\n",
       "      <td>1</td>\n",
       "      <td>True</td>\n",
       "      <td>7</td>\n",
       "    </tr>\n",
       "    <tr>\n",
       "      <th>6</th>\n",
       "      <td>LightGBMLarge_BAG_L1</td>\n",
       "      <td>0.835017</td>\n",
       "      <td>0.023165</td>\n",
       "      <td>3.396240</td>\n",
       "      <td>0.023165</td>\n",
       "      <td>3.396240</td>\n",
       "      <td>1</td>\n",
       "      <td>True</td>\n",
       "      <td>13</td>\n",
       "    </tr>\n",
       "    <tr>\n",
       "      <th>7</th>\n",
       "      <td>LightGBMXT_BAG_L1</td>\n",
       "      <td>0.813692</td>\n",
       "      <td>0.024235</td>\n",
       "      <td>1.510813</td>\n",
       "      <td>0.024235</td>\n",
       "      <td>1.510813</td>\n",
       "      <td>1</td>\n",
       "      <td>True</td>\n",
       "      <td>3</td>\n",
       "    </tr>\n",
       "    <tr>\n",
       "      <th>8</th>\n",
       "      <td>ExtraTreesEntr_BAG_L1</td>\n",
       "      <td>0.804714</td>\n",
       "      <td>0.088706</td>\n",
       "      <td>0.342178</td>\n",
       "      <td>0.088706</td>\n",
       "      <td>0.342178</td>\n",
       "      <td>1</td>\n",
       "      <td>True</td>\n",
       "      <td>9</td>\n",
       "    </tr>\n",
       "    <tr>\n",
       "      <th>9</th>\n",
       "      <td>RandomForestEntr_BAG_L1</td>\n",
       "      <td>0.803591</td>\n",
       "      <td>0.091503</td>\n",
       "      <td>0.343468</td>\n",
       "      <td>0.091503</td>\n",
       "      <td>0.343468</td>\n",
       "      <td>1</td>\n",
       "      <td>True</td>\n",
       "      <td>6</td>\n",
       "    </tr>\n",
       "    <tr>\n",
       "      <th>10</th>\n",
       "      <td>RandomForestGini_BAG_L1</td>\n",
       "      <td>0.800224</td>\n",
       "      <td>0.088527</td>\n",
       "      <td>0.396124</td>\n",
       "      <td>0.088527</td>\n",
       "      <td>0.396124</td>\n",
       "      <td>1</td>\n",
       "      <td>True</td>\n",
       "      <td>5</td>\n",
       "    </tr>\n",
       "    <tr>\n",
       "      <th>11</th>\n",
       "      <td>ExtraTreesGini_BAG_L1</td>\n",
       "      <td>0.796857</td>\n",
       "      <td>0.092037</td>\n",
       "      <td>0.340887</td>\n",
       "      <td>0.092037</td>\n",
       "      <td>0.340887</td>\n",
       "      <td>1</td>\n",
       "      <td>True</td>\n",
       "      <td>8</td>\n",
       "    </tr>\n",
       "    <tr>\n",
       "      <th>12</th>\n",
       "      <td>KNeighborsUnif_BAG_L1</td>\n",
       "      <td>0.668911</td>\n",
       "      <td>0.005550</td>\n",
       "      <td>0.003147</td>\n",
       "      <td>0.005550</td>\n",
       "      <td>0.003147</td>\n",
       "      <td>1</td>\n",
       "      <td>True</td>\n",
       "      <td>1</td>\n",
       "    </tr>\n",
       "    <tr>\n",
       "      <th>13</th>\n",
       "      <td>KNeighborsDist_BAG_L1</td>\n",
       "      <td>0.667789</td>\n",
       "      <td>0.006090</td>\n",
       "      <td>0.003562</td>\n",
       "      <td>0.006090</td>\n",
       "      <td>0.003562</td>\n",
       "      <td>1</td>\n",
       "      <td>True</td>\n",
       "      <td>2</td>\n",
       "    </tr>\n",
       "  </tbody>\n",
       "</table>\n",
       "</div>"
      ],
      "text/plain": [
       "                      model  score_val  pred_time_val   fit_time  \\\n",
       "0       WeightedEnsemble_L2   0.855219       0.104064   8.258434   \n",
       "1           LightGBM_BAG_L1   0.852974       0.022157   1.717012   \n",
       "2            XGBoost_BAG_L1   0.850730       0.041654   1.803677   \n",
       "3     NeuralNetTorch_BAG_L1   0.846240       0.089587  15.689412   \n",
       "4    NeuralNetFastAI_BAG_L1   0.838384       0.080505   5.990211   \n",
       "5           CatBoost_BAG_L1   0.837262       0.018500   3.658270   \n",
       "6      LightGBMLarge_BAG_L1   0.835017       0.023165   3.396240   \n",
       "7         LightGBMXT_BAG_L1   0.813692       0.024235   1.510813   \n",
       "8     ExtraTreesEntr_BAG_L1   0.804714       0.088706   0.342178   \n",
       "9   RandomForestEntr_BAG_L1   0.803591       0.091503   0.343468   \n",
       "10  RandomForestGini_BAG_L1   0.800224       0.088527   0.396124   \n",
       "11    ExtraTreesGini_BAG_L1   0.796857       0.092037   0.340887   \n",
       "12    KNeighborsUnif_BAG_L1   0.668911       0.005550   0.003147   \n",
       "13    KNeighborsDist_BAG_L1   0.667789       0.006090   0.003562   \n",
       "\n",
       "    pred_time_val_marginal  fit_time_marginal  stack_level  can_infer  \\\n",
       "0                 0.001402           0.551211            2       True   \n",
       "1                 0.022157           1.717012            1       True   \n",
       "2                 0.041654           1.803677            1       True   \n",
       "3                 0.089587          15.689412            1       True   \n",
       "4                 0.080505           5.990211            1       True   \n",
       "5                 0.018500           3.658270            1       True   \n",
       "6                 0.023165           3.396240            1       True   \n",
       "7                 0.024235           1.510813            1       True   \n",
       "8                 0.088706           0.342178            1       True   \n",
       "9                 0.091503           0.343468            1       True   \n",
       "10                0.088527           0.396124            1       True   \n",
       "11                0.092037           0.340887            1       True   \n",
       "12                0.005550           0.003147            1       True   \n",
       "13                0.006090           0.003562            1       True   \n",
       "\n",
       "    fit_order  \n",
       "0          14  \n",
       "1           4  \n",
       "2          11  \n",
       "3          12  \n",
       "4          10  \n",
       "5           7  \n",
       "6          13  \n",
       "7           3  \n",
       "8           9  \n",
       "9           6  \n",
       "10          5  \n",
       "11          8  \n",
       "12          1  \n",
       "13          2  "
      ]
     },
     "metadata": {},
     "output_type": "display_data"
    }
   ],
   "source": [
    "columns = [c for c in _df_train.columns if c not in ['Name', 'SibSp', 'family_size', 'calculated_fare', *drop_cols]]\n",
    "\n",
    "predictor = fit_and_display_results(\n",
    "    path, pd.concat([_df_train, _df_val], ignore_index=True)[columns], None, target_col, \n",
    "    fit_args={'presets': 'best_quality'}\n",
    ")"
   ]
  },
  {
   "cell_type": "code",
   "execution_count": 46,
   "id": "16826069",
   "metadata": {},
   "outputs": [
    {
     "name": "stderr",
     "output_type": "stream",
     "text": [
      "[W ParallelNative.cpp:229] Warning: Cannot set number of intraop threads after parallel work has started or after set_num_threads call when using native parallel backend (function set_num_threads)\n",
      "[W ParallelNative.cpp:229] Warning: Cannot set number of intraop threads after parallel work has started or after set_num_threads call when using native parallel backend (function set_num_threads)\n",
      "[W ParallelNative.cpp:229] Warning: Cannot set number of intraop threads after parallel work has started or after set_num_threads call when using native parallel backend (function set_num_threads)\n",
      "[W ParallelNative.cpp:229] Warning: Cannot set number of intraop threads after parallel work has started or after set_num_threads call when using native parallel backend (function set_num_threads)\n",
      "[W ParallelNative.cpp:229] Warning: Cannot set number of intraop threads after parallel work has started or after set_num_threads call when using native parallel backend (function set_num_threads)\n",
      "[W ParallelNative.cpp:229] Warning: Cannot set number of intraop threads after parallel work has started or after set_num_threads call when using native parallel backend (function set_num_threads)\n",
      "[W ParallelNative.cpp:229] Warning: Cannot set number of intraop threads after parallel work has started or after set_num_threads call when using native parallel backend (function set_num_threads)\n",
      "[W ParallelNative.cpp:229] Warning: Cannot set number of intraop threads after parallel work has started or after set_num_threads call when using native parallel backend (function set_num_threads)\n"
     ]
    }
   ],
   "source": [
    "df_submission = _df_test[['PassengerId']].copy()\n",
    "df_submission[target_col] = predictor.predict(_df_test)"
   ]
  },
  {
   "cell_type": "markdown",
   "id": "94bacb4a",
   "metadata": {},
   "source": [
    "# Model Analysis"
   ]
  },
  {
   "cell_type": "code",
   "execution_count": 47,
   "id": "0e86bda1",
   "metadata": {},
   "outputs": [],
   "source": [
    "import autogluon.eda.visualization"
   ]
  },
  {
   "cell_type": "code",
   "execution_count": 48,
   "id": "0d2a9568",
   "metadata": {},
   "outputs": [],
   "source": [
    "import autogluon.eda.analysis as eda\n",
    "import autogluon.eda.visualization as viz"
   ]
  },
  {
   "cell_type": "code",
   "execution_count": 85,
   "id": "06ac4412",
   "metadata": {
    "scrolled": false
   },
   "outputs": [
    {
     "name": "stderr",
     "output_type": "stream",
     "text": [
      "[W ParallelNative.cpp:229] Warning: Cannot set number of intraop threads after parallel work has started or after set_num_threads call when using native parallel backend (function set_num_threads)\n",
      "[W ParallelNative.cpp:229] Warning: Cannot set number of intraop threads after parallel work has started or after set_num_threads call when using native parallel backend (function set_num_threads)\n",
      "[W ParallelNative.cpp:229] Warning: Cannot set number of intraop threads after parallel work has started or after set_num_threads call when using native parallel backend (function set_num_threads)\n",
      "[W ParallelNative.cpp:229] Warning: Cannot set number of intraop threads after parallel work has started or after set_num_threads call when using native parallel backend (function set_num_threads)\n",
      "[W ParallelNative.cpp:229] Warning: Cannot set number of intraop threads after parallel work has started or after set_num_threads call when using native parallel backend (function set_num_threads)\n",
      "[W ParallelNative.cpp:229] Warning: Cannot set number of intraop threads after parallel work has started or after set_num_threads call when using native parallel backend (function set_num_threads)\n",
      "[W ParallelNative.cpp:229] Warning: Cannot set number of intraop threads after parallel work has started or after set_num_threads call when using native parallel backend (function set_num_threads)\n",
      "[W ParallelNative.cpp:229] Warning: Cannot set number of intraop threads after parallel work has started or after set_num_threads call when using native parallel backend (function set_num_threads)\n",
      "[W ParallelNative.cpp:229] Warning: Cannot set number of intraop threads after parallel work has started or after set_num_threads call when using native parallel backend (function set_num_threads)\n",
      "[W ParallelNative.cpp:229] Warning: Cannot set number of intraop threads after parallel work has started or after set_num_threads call when using native parallel backend (function set_num_threads)\n",
      "[W ParallelNative.cpp:229] Warning: Cannot set number of intraop threads after parallel work has started or after set_num_threads call when using native parallel backend (function set_num_threads)\n",
      "[W ParallelNative.cpp:229] Warning: Cannot set number of intraop threads after parallel work has started or after set_num_threads call when using native parallel backend (function set_num_threads)\n",
      "[W ParallelNative.cpp:229] Warning: Cannot set number of intraop threads after parallel work has started or after set_num_threads call when using native parallel backend (function set_num_threads)\n",
      "[W ParallelNative.cpp:229] Warning: Cannot set number of intraop threads after parallel work has started or after set_num_threads call when using native parallel backend (function set_num_threads)\n",
      "[W ParallelNative.cpp:229] Warning: Cannot set number of intraop threads after parallel work has started or after set_num_threads call when using native parallel backend (function set_num_threads)\n",
      "[W ParallelNative.cpp:229] Warning: Cannot set number of intraop threads after parallel work has started or after set_num_threads call when using native parallel backend (function set_num_threads)\n",
      "[W ParallelNative.cpp:229] Warning: Cannot set number of intraop threads after parallel work has started or after set_num_threads call when using native parallel backend (function set_num_threads)\n",
      "[W ParallelNative.cpp:229] Warning: Cannot set number of intraop threads after parallel work has started or after set_num_threads call when using native parallel backend (function set_num_threads)\n",
      "[W ParallelNative.cpp:229] Warning: Cannot set number of intraop threads after parallel work has started or after set_num_threads call when using native parallel backend (function set_num_threads)\n",
      "[W ParallelNative.cpp:229] Warning: Cannot set number of intraop threads after parallel work has started or after set_num_threads call when using native parallel backend (function set_num_threads)\n",
      "[W ParallelNative.cpp:229] Warning: Cannot set number of intraop threads after parallel work has started or after set_num_threads call when using native parallel backend (function set_num_threads)\n",
      "[W ParallelNative.cpp:229] Warning: Cannot set number of intraop threads after parallel work has started or after set_num_threads call when using native parallel backend (function set_num_threads)\n",
      "[W ParallelNative.cpp:229] Warning: Cannot set number of intraop threads after parallel work has started or after set_num_threads call when using native parallel backend (function set_num_threads)\n",
      "[W ParallelNative.cpp:229] Warning: Cannot set number of intraop threads after parallel work has started or after set_num_threads call when using native parallel backend (function set_num_threads)\n",
      "[W ParallelNative.cpp:229] Warning: Cannot set number of intraop threads after parallel work has started or after set_num_threads call when using native parallel backend (function set_num_threads)\n",
      "[W ParallelNative.cpp:229] Warning: Cannot set number of intraop threads after parallel work has started or after set_num_threads call when using native parallel backend (function set_num_threads)\n",
      "[W ParallelNative.cpp:229] Warning: Cannot set number of intraop threads after parallel work has started or after set_num_threads call when using native parallel backend (function set_num_threads)\n",
      "[W ParallelNative.cpp:229] Warning: Cannot set number of intraop threads after parallel work has started or after set_num_threads call when using native parallel backend (function set_num_threads)\n",
      "[W ParallelNative.cpp:229] Warning: Cannot set number of intraop threads after parallel work has started or after set_num_threads call when using native parallel backend (function set_num_threads)\n",
      "[W ParallelNative.cpp:229] Warning: Cannot set number of intraop threads after parallel work has started or after set_num_threads call when using native parallel backend (function set_num_threads)\n",
      "[W ParallelNative.cpp:229] Warning: Cannot set number of intraop threads after parallel work has started or after set_num_threads call when using native parallel backend (function set_num_threads)\n",
      "[W ParallelNative.cpp:229] Warning: Cannot set number of intraop threads after parallel work has started or after set_num_threads call when using native parallel backend (function set_num_threads)\n",
      "[W ParallelNative.cpp:229] Warning: Cannot set number of intraop threads after parallel work has started or after set_num_threads call when using native parallel backend (function set_num_threads)\n",
      "[W ParallelNative.cpp:229] Warning: Cannot set number of intraop threads after parallel work has started or after set_num_threads call when using native parallel backend (function set_num_threads)\n",
      "[W ParallelNative.cpp:229] Warning: Cannot set number of intraop threads after parallel work has started or after set_num_threads call when using native parallel backend (function set_num_threads)\n",
      "[W ParallelNative.cpp:229] Warning: Cannot set number of intraop threads after parallel work has started or after set_num_threads call when using native parallel backend (function set_num_threads)\n",
      "[W ParallelNative.cpp:229] Warning: Cannot set number of intraop threads after parallel work has started or after set_num_threads call when using native parallel backend (function set_num_threads)\n",
      "[W ParallelNative.cpp:229] Warning: Cannot set number of intraop threads after parallel work has started or after set_num_threads call when using native parallel backend (function set_num_threads)\n",
      "[W ParallelNative.cpp:229] Warning: Cannot set number of intraop threads after parallel work has started or after set_num_threads call when using native parallel backend (function set_num_threads)\n",
      "[W ParallelNative.cpp:229] Warning: Cannot set number of intraop threads after parallel work has started or after set_num_threads call when using native parallel backend (function set_num_threads)\n",
      "[W ParallelNative.cpp:229] Warning: Cannot set number of intraop threads after parallel work has started or after set_num_threads call when using native parallel backend (function set_num_threads)\n",
      "[W ParallelNative.cpp:229] Warning: Cannot set number of intraop threads after parallel work has started or after set_num_threads call when using native parallel backend (function set_num_threads)\n",
      "[W ParallelNative.cpp:229] Warning: Cannot set number of intraop threads after parallel work has started or after set_num_threads call when using native parallel backend (function set_num_threads)\n",
      "[W ParallelNative.cpp:229] Warning: Cannot set number of intraop threads after parallel work has started or after set_num_threads call when using native parallel backend (function set_num_threads)\n",
      "[W ParallelNative.cpp:229] Warning: Cannot set number of intraop threads after parallel work has started or after set_num_threads call when using native parallel backend (function set_num_threads)\n",
      "[W ParallelNative.cpp:229] Warning: Cannot set number of intraop threads after parallel work has started or after set_num_threads call when using native parallel backend (function set_num_threads)\n"
     ]
    },
    {
     "name": "stderr",
     "output_type": "stream",
     "text": [
      "[W ParallelNative.cpp:229] Warning: Cannot set number of intraop threads after parallel work has started or after set_num_threads call when using native parallel backend (function set_num_threads)\n",
      "[W ParallelNative.cpp:229] Warning: Cannot set number of intraop threads after parallel work has started or after set_num_threads call when using native parallel backend (function set_num_threads)\n",
      "[W ParallelNative.cpp:229] Warning: Cannot set number of intraop threads after parallel work has started or after set_num_threads call when using native parallel backend (function set_num_threads)\n",
      "[W ParallelNative.cpp:229] Warning: Cannot set number of intraop threads after parallel work has started or after set_num_threads call when using native parallel backend (function set_num_threads)\n",
      "[W ParallelNative.cpp:229] Warning: Cannot set number of intraop threads after parallel work has started or after set_num_threads call when using native parallel backend (function set_num_threads)\n",
      "[W ParallelNative.cpp:229] Warning: Cannot set number of intraop threads after parallel work has started or after set_num_threads call when using native parallel backend (function set_num_threads)\n",
      "[W ParallelNative.cpp:229] Warning: Cannot set number of intraop threads after parallel work has started or after set_num_threads call when using native parallel backend (function set_num_threads)\n",
      "[W ParallelNative.cpp:229] Warning: Cannot set number of intraop threads after parallel work has started or after set_num_threads call when using native parallel backend (function set_num_threads)\n",
      "[W ParallelNative.cpp:229] Warning: Cannot set number of intraop threads after parallel work has started or after set_num_threads call when using native parallel backend (function set_num_threads)\n",
      "[W ParallelNative.cpp:229] Warning: Cannot set number of intraop threads after parallel work has started or after set_num_threads call when using native parallel backend (function set_num_threads)\n"
     ]
    },
    {
     "data": {
      "text/html": [
       "<h3>Confusion matrix</h3>"
      ],
      "text/plain": [
       "<IPython.core.display.HTML object>"
      ]
     },
     "metadata": {},
     "output_type": "display_data"
    },
    {
     "data": {
      "image/png": "[encoded data removed]",
      "text/plain": [
       "<Figure size 288x288 with 1 Axes>"
      ]
     },
     "metadata": {},
     "output_type": "display_data"
    },
    {
     "data": {
      "text/html": [
       "<h3>Feature importance</h3>"
      ],
      "text/plain": [
       "<IPython.core.display.HTML object>"
      ]
     },
     "metadata": {},
     "output_type": "display_data"
    },
    {
     "data": {
      "text/html": [
       "<div>\n",
       "<style scoped>\n",
       "    .dataframe tbody tr th:only-of-type {\n",
       "        vertical-align: middle;\n",
       "    }\n",
       "\n",
       "    .dataframe tbody tr th {\n",
       "        vertical-align: top;\n",
       "    }\n",
       "\n",
       "    .dataframe thead th {\n",
       "        text-align: right;\n",
       "    }\n",
       "</style>\n",
       "<table border=\"1\" class=\"dataframe\">\n",
       "  <thead>\n",
       "    <tr style=\"text-align: right;\">\n",
       "      <th></th>\n",
       "      <th>importance</th>\n",
       "      <th>stddev</th>\n",
       "      <th>p_value</th>\n",
       "      <th>n</th>\n",
       "      <th>p99_high</th>\n",
       "      <th>p99_low</th>\n",
       "    </tr>\n",
       "  </thead>\n",
       "  <tbody>\n",
       "    <tr>\n",
       "      <th>Pclass</th>\n",
       "      <td>0.138806</td>\n",
       "      <td>0.008908</td>\n",
       "      <td>2.024780e-06</td>\n",
       "      <td>5</td>\n",
       "      <td>0.157149</td>\n",
       "      <td>0.120463</td>\n",
       "    </tr>\n",
       "    <tr>\n",
       "      <th>Sex</th>\n",
       "      <td>0.103731</td>\n",
       "      <td>0.015475</td>\n",
       "      <td>5.771389e-05</td>\n",
       "      <td>5</td>\n",
       "      <td>0.135594</td>\n",
       "      <td>0.071868</td>\n",
       "    </tr>\n",
       "    <tr>\n",
       "      <th>Age</th>\n",
       "      <td>0.081343</td>\n",
       "      <td>0.016561</td>\n",
       "      <td>1.952799e-04</td>\n",
       "      <td>5</td>\n",
       "      <td>0.115444</td>\n",
       "      <td>0.047243</td>\n",
       "    </tr>\n",
       "    <tr>\n",
       "      <th>Fare</th>\n",
       "      <td>0.080597</td>\n",
       "      <td>0.004254</td>\n",
       "      <td>9.281992e-07</td>\n",
       "      <td>5</td>\n",
       "      <td>0.089357</td>\n",
       "      <td>0.071837</td>\n",
       "    </tr>\n",
       "    <tr>\n",
       "      <th>title</th>\n",
       "      <td>0.053731</td>\n",
       "      <td>0.008986</td>\n",
       "      <td>9.048191e-05</td>\n",
       "      <td>5</td>\n",
       "      <td>0.072234</td>\n",
       "      <td>0.035229</td>\n",
       "    </tr>\n",
       "    <tr>\n",
       "      <th>Cabin</th>\n",
       "      <td>0.011940</td>\n",
       "      <td>0.003122</td>\n",
       "      <td>5.130916e-04</td>\n",
       "      <td>5</td>\n",
       "      <td>0.018368</td>\n",
       "      <td>0.005512</td>\n",
       "    </tr>\n",
       "    <tr>\n",
       "      <th>is_alone</th>\n",
       "      <td>0.011194</td>\n",
       "      <td>0.003731</td>\n",
       "      <td>1.285130e-03</td>\n",
       "      <td>5</td>\n",
       "      <td>0.018877</td>\n",
       "      <td>0.003511</td>\n",
       "    </tr>\n",
       "    <tr>\n",
       "      <th>Parch</th>\n",
       "      <td>0.009701</td>\n",
       "      <td>0.003337</td>\n",
       "      <td>1.445004e-03</td>\n",
       "      <td>5</td>\n",
       "      <td>0.016573</td>\n",
       "      <td>0.002830</td>\n",
       "    </tr>\n",
       "    <tr>\n",
       "      <th>Embarked</th>\n",
       "      <td>0.007463</td>\n",
       "      <td>0.007463</td>\n",
       "      <td>4.450467e-02</td>\n",
       "      <td>5</td>\n",
       "      <td>0.022828</td>\n",
       "      <td>-0.007903</td>\n",
       "    </tr>\n",
       "  </tbody>\n",
       "</table>\n",
       "</div>"
      ],
      "text/plain": [
       "          importance    stddev       p_value  n  p99_high   p99_low\n",
       "Pclass      0.138806  0.008908  2.024780e-06  5  0.157149  0.120463\n",
       "Sex         0.103731  0.015475  5.771389e-05  5  0.135594  0.071868\n",
       "Age         0.081343  0.016561  1.952799e-04  5  0.115444  0.047243\n",
       "Fare        0.080597  0.004254  9.281992e-07  5  0.089357  0.071837\n",
       "title       0.053731  0.008986  9.048191e-05  5  0.072234  0.035229\n",
       "Cabin       0.011940  0.003122  5.130916e-04  5  0.018368  0.005512\n",
       "is_alone    0.011194  0.003731  1.285130e-03  5  0.018877  0.003511\n",
       "Parch       0.009701  0.003337  1.445004e-03  5  0.016573  0.002830\n",
       "Embarked    0.007463  0.007463  4.450467e-02  5  0.022828 -0.007903"
      ]
     },
     "metadata": {},
     "output_type": "display_data"
    },
    {
     "data": {
      "image/png": "[encoded data removed]",
      "text/plain": [
       "<Figure size 432x288 with 1 Axes>"
      ]
     },
     "metadata": {},
     "output_type": "display_data"
    }
   ],
   "source": [
    "analysis_args = dict(\n",
    "    model=predictor,\n",
    "    label='Survived',\n",
    "    val_data=_df_val,\n",
    "    sample=None,\n",
    ")\n",
    "\n",
    "viz_args = dict(headers=True)\n",
    "\n",
    "auto.analyze(**analysis_args, anlz_facets=[\n",
    "    eda.model.AutoGluonModelEvaluator(),\n",
    "], viz_facets=[\n",
    "    viz.model.ConfusionMatrix(fig_args=dict(figsize=(4,4)), annot_kws={\"size\": 16}, **viz_args),\n",
    "    viz.model.FeatureImportance(show_barplots=True, **viz_args)\n",
    "])"
   ]
  },
  {
   "cell_type": "code",
   "execution_count": 88,
   "id": "6ad1b9c5",
   "metadata": {},
   "outputs": [
    {
     "name": "stdout",
     "output_type": "stream",
     "text": [
      "/Users/ashyrkou\r\n"
     ]
    }
   ],
   "source": [
    "!pwd"
   ]
  },
  {
   "cell_type": "code",
   "execution_count": null,
   "id": "2ecea54e",
   "metadata": {},
   "outputs": [],
   "source": []
  }
 ],
 "metadata": {
  "kernelspec": {
   "display_name": "eda_env",
   "language": "python",
   "name": "eda_env"
  },
  "language_info": {
   "codemirror_mode": {
    "name": "ipython",
    "version": 3
   },
   "file_extension": ".py",
   "mimetype": "text/x-python",
   "name": "python",
   "nbconvert_exporter": "python",
   "pygments_lexer": "ipython3",
   "version": "3.9.12"
  }
 },
 "nbformat": 4,
 "nbformat_minor": 5
}
