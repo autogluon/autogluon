{
  "cells": [
    {
      "cell_type": "code",
      "execution_count": null,
      "metadata": {
        "colab": {
          "base_uri": "https://localhost:8080/"
        },
        "id": "1teF3Qg9W-Ru",
        "outputId": "f3599521-2857-4c73-c46e-a798e80599f0"
      },
      "outputs": [
        {
          "name": "stdout",
          "output_type": "stream",
          "text": [
            "Note: switching to '7d5a8c89c0ba3b8de06c80c3ded61783401c4843'.\n",
            "\n",
            "You are in 'detached HEAD' state. You can look around, make experimental\n",
            "changes and commit them, and you can discard any commits you make in this\n",
            "state without impacting any branches by switching back to a branch.\n",
            "\n",
            "If you want to create a new branch to retain commits you create, you may\n",
            "do so (now or later) by using -c with the switch command. Example:\n",
            "\n",
            "  git switch -c <new-branch-name>\n",
            "\n",
            "Or undo this operation with:\n",
            "\n",
            "  git switch -\n",
            "\n",
            "Turn off this advice by setting config variable advice.detachedHead to false\n",
            "\n",
            "HEAD is now at 7d5a8c89 add notebook env check for colab and fix the source installation issue (#4943)\n",
            "Detected colab environment. Using --system flag with uv.\n",
            "\u001b[2mUsing Python 3.11.11 environment at: /usr\u001b[0m\n",
            "\u001b[2mAudited \u001b[1m1 package\u001b[0m \u001b[2min 100ms\u001b[0m\u001b[0m\n",
            "\u001b[2mUsing Python 3.11.11 environment at: /usr\u001b[0m\n",
            "\u001b[2K\u001b[2mResolved \u001b[1m296 packages\u001b[0m \u001b[2min 1.67s\u001b[0m\u001b[0m\n",
            "\u001b[2K   \u001b[36m\u001b[1mBuilding\u001b[0m\u001b[39m autogluon-tabular\u001b[2m @ file:///content/autogluon/tabular\u001b[0m\n",
            "\u001b[2K\u001b[1A   \u001b[36m\u001b[1mBuilding\u001b[0m\u001b[39m autogluon-tabular\u001b[2m @ file:///content/autogluon/tabular\u001b[0m\n",
            "   \u001b[36m\u001b[1mBuilding\u001b[0m\u001b[39m autogluon-multimodal\u001b[2m @ file:///content/autogluon/multimodal\u001b[0m\n",
            "\u001b[2K\u001b[2A   \u001b[36m\u001b[1mBuilding\u001b[0m\u001b[39m autogluon-tabular\u001b[2m @ file:///content/autogluon/tabular\u001b[0m\n",
            "   \u001b[36m\u001b[1mBuilding\u001b[0m\u001b[39m autogluon-multimodal\u001b[2m @ file:///content/autogluon/multimodal\u001b[0m\n",
            "\u001b[37m⠙\u001b[0m \u001b[2mPreparing packages...\u001b[0m (0/6)\n",
            "\u001b[2K\u001b[3A   \u001b[36m\u001b[1mBuilding\u001b[0m\u001b[39m autogluon-tabular\u001b[2m @ file:///content/autogluon/tabular\u001b[0m\n",
            "   \u001b[36m\u001b[1mBuilding\u001b[0m\u001b[39m autogluon-multimodal\u001b[2m @ file:///content/autogluon/multimodal\u001b[0m\n",
            "\u001b[37m⠙\u001b[0m \u001b[2mPreparing packages...\u001b[0m (0/6)\n",
            "\u001b[2K\u001b[3A   \u001b[36m\u001b[1mBuilding\u001b[0m\u001b[39m autogluon-tabular\u001b[2m @ file:///content/autogluon/tabular\u001b[0m\n",
            "   \u001b[36m\u001b[1mBuilding\u001b[0m\u001b[39m autogluon-multimodal\u001b[2m @ file:///content/autogluon/multimodal\u001b[0m\n",
            "\u001b[37m⠙\u001b[0m \u001b[2mPreparing packages...\u001b[0m (0/6)\n",
            "\u001b[2mdill      \u001b[0m \u001b[32m----\u001b[2m--------------------------\u001b[0m\u001b[0m 14.96 KiB/112.55 KiB\n",
            "\u001b[2K\u001b[4A   \u001b[36m\u001b[1mBuilding\u001b[0m\u001b[39m autogluon-tabular\u001b[2m @ file:///content/autogluon/tabular\u001b[0m\n",
            "   \u001b[36m\u001b[1mBuilding\u001b[0m\u001b[39m autogluon-multimodal\u001b[2m @ file:///content/autogluon/multimodal\u001b[0m\n",
            "\u001b[37m⠙\u001b[0m \u001b[2mPreparing packages...\u001b[0m (0/6)\n",
            "\u001b[2mdill      \u001b[0m \u001b[32m---------\u001b[2m---------------------\u001b[0m\u001b[0m 30.96 KiB/112.55 KiB\n",
            "\u001b[2K\u001b[4A   \u001b[36m\u001b[1mBuilding\u001b[0m\u001b[39m autogluon-tabular\u001b[2m @ file:///content/autogluon/tabular\u001b[0m\n",
            "   \u001b[36m\u001b[1mBuilding\u001b[0m\u001b[39m autogluon-multimodal\u001b[2m @ file:///content/autogluon/multimodal\u001b[0m\n",
            "\u001b[37m⠙\u001b[0m \u001b[2mPreparing packages...\u001b[0m (0/6)\n",
            "\u001b[2mdill      \u001b[0m \u001b[32m-------------\u001b[2m-----------------\u001b[0m\u001b[0m 46.96 KiB/112.55 KiB\n",
            "\u001b[2K\u001b[4A   \u001b[36m\u001b[1mBuilding\u001b[0m\u001b[39m autogluon-tabular\u001b[2m @ file:///content/autogluon/tabular\u001b[0m\n",
            "   \u001b[36m\u001b[1mBuilding\u001b[0m\u001b[39m autogluon-multimodal\u001b[2m @ file:///content/autogluon/multimodal\u001b[0m\n",
            "\u001b[37m⠙\u001b[0m \u001b[2mPreparing packages...\u001b[0m (0/6)\n",
            "\u001b[2mdill      \u001b[0m \u001b[32m-----------------\u001b[2m-------------\u001b[0m\u001b[0m 62.96 KiB/112.55 KiB\n",
            "\u001b[2K\u001b[4A   \u001b[36m\u001b[1mBuilding\u001b[0m\u001b[39m autogluon-tabular\u001b[2m @ file:///content/autogluon/tabular\u001b[0m\n",
            "   \u001b[36m\u001b[1mBuilding\u001b[0m\u001b[39m autogluon-multimodal\u001b[2m @ file:///content/autogluon/multimodal\u001b[0m\n",
            "\u001b[37m⠙\u001b[0m \u001b[2mPreparing packages...\u001b[0m (0/6)\n",
            "\u001b[2mdill      \u001b[0m \u001b[32m-----------------\u001b[2m-------------\u001b[0m\u001b[0m 62.96 KiB/112.55 KiB\n",
            "\u001b[2K\u001b[4A   \u001b[36m\u001b[1mBuilding\u001b[0m\u001b[39m autogluon-tabular\u001b[2m @ file:///content/autogluon/tabular\u001b[0m\n",
            "   \u001b[36m\u001b[1mBuilding\u001b[0m\u001b[39m autogluon-multimodal\u001b[2m @ file:///content/autogluon/multimodal\u001b[0m\n",
            "\u001b[37m⠙\u001b[0m \u001b[2mPreparing packages...\u001b[0m (0/6)\n",
            "\u001b[2mdill      \u001b[0m \u001b[32m-----------------\u001b[2m-------------\u001b[0m\u001b[0m 62.96 KiB/112.55 KiB\n",
            "\u001b[2mfsspec    \u001b[0m \u001b[32m---\u001b[2m---------------------------\u001b[0m\u001b[0m 16.00 KiB/162.48 KiB\n",
            "\u001b[2K\u001b[5A   \u001b[36m\u001b[1mBuilding\u001b[0m\u001b[39m autogluon-tabular\u001b[2m @ file:///content/autogluon/tabular\u001b[0m\n",
            "   \u001b[36m\u001b[1mBuilding\u001b[0m\u001b[39m autogluon-multimodal\u001b[2m @ file:///content/autogluon/multimodal\u001b[0m\n",
            "\u001b[37m⠙\u001b[0m \u001b[2mPreparing packages...\u001b[0m (0/6)\n",
            "\u001b[2mdill      \u001b[0m \u001b[32m-----------------\u001b[2m-------------\u001b[0m\u001b[0m 62.96 KiB/112.55 KiB\n",
            "\u001b[2mfsspec    \u001b[0m \u001b[32m---\u001b[2m---------------------------\u001b[0m\u001b[0m 16.00 KiB/162.48 KiB\n",
            "\u001b[2K\u001b[5A   \u001b[36m\u001b[1mBuilding\u001b[0m\u001b[39m autogluon-tabular\u001b[2m @ file:///content/autogluon/tabular\u001b[0m\n",
            "   \u001b[36m\u001b[1mBuilding\u001b[0m\u001b[39m autogluon-multimodal\u001b[2m @ file:///content/autogluon/multimodal\u001b[0m\n",
            "\u001b[37m⠙\u001b[0m \u001b[2mPreparing packages...\u001b[0m (0/6)\n",
            "\u001b[2mdill      \u001b[0m \u001b[32m-----------------\u001b[2m-------------\u001b[0m\u001b[0m 62.96 KiB/112.55 KiB\n",
            "\u001b[2mmultiprocess\u001b[0m \u001b[32m\u001b[2m------------------------------\u001b[0m\u001b[0m     0 B/132.22 KiB\n",
            "\u001b[2mfsspec    \u001b[0m \u001b[32m---\u001b[2m---------------------------\u001b[0m\u001b[0m 16.00 KiB/162.48 KiB\n",
            "\u001b[2K\u001b[6A   \u001b[36m\u001b[1mBuilding\u001b[0m\u001b[39m autogluon-tabular\u001b[2m @ file:///content/autogluon/tabular\u001b[0m\n",
            "   \u001b[36m\u001b[1mBuilding\u001b[0m\u001b[39m autogluon-multimodal\u001b[2m @ file:///content/autogluon/multimodal\u001b[0m\n",
            "\u001b[37m⠙\u001b[0m \u001b[2mPreparing packages...\u001b[0m (0/6)\n",
            "\u001b[2mdill      \u001b[0m \u001b[32m-----------------\u001b[2m-------------\u001b[0m\u001b[0m 62.96 KiB/112.55 KiB\n",
            "\u001b[2mmultiprocess\u001b[0m \u001b[32m----\u001b[2m--------------------------\u001b[0m\u001b[0m 16.00 KiB/132.22 KiB\n",
            "\u001b[2mfsspec    \u001b[0m \u001b[32m---\u001b[2m---------------------------\u001b[0m\u001b[0m 16.00 KiB/162.48 KiB\n",
            "\u001b[2K\u001b[6A   \u001b[36m\u001b[1mBuilding\u001b[0m\u001b[39m autogluon-tabular\u001b[2m @ file:///content/autogluon/tabular\u001b[0m\n",
            "   \u001b[36m\u001b[1mBuilding\u001b[0m\u001b[39m autogluon-multimodal\u001b[2m @ file:///content/autogluon/multimodal\u001b[0m\n",
            "\u001b[37m⠙\u001b[0m \u001b[2mPreparing packages...\u001b[0m (0/6)\n",
            "\u001b[2mdill      \u001b[0m \u001b[32m-----------------\u001b[2m-------------\u001b[0m\u001b[0m 62.96 KiB/112.55 KiB\n",
            "\u001b[2mmultiprocess\u001b[0m \u001b[32m----\u001b[2m--------------------------\u001b[0m\u001b[0m 16.00 KiB/132.22 KiB\n",
            "\u001b[2mfsspec    \u001b[0m \u001b[32m---\u001b[2m---------------------------\u001b[0m\u001b[0m 16.00 KiB/162.48 KiB\n",
            "\u001b[2K\u001b[6A   \u001b[36m\u001b[1mBuilding\u001b[0m\u001b[39m autogluon-tabular\u001b[2m @ file:///content/autogluon/tabular\u001b[0m\n",
            "   \u001b[36m\u001b[1mBuilding\u001b[0m\u001b[39m autogluon-multimodal\u001b[2m @ file:///content/autogluon/multimodal\u001b[0m\n",
            "\u001b[37m⠙\u001b[0m \u001b[2mPreparing packages...\u001b[0m (0/6)\n",
            "\u001b[2mdill      \u001b[0m \u001b[32m-----------------\u001b[2m-------------\u001b[0m\u001b[0m 62.96 KiB/112.55 KiB\n",
            "\u001b[2mmultiprocess\u001b[0m \u001b[32m----\u001b[2m--------------------------\u001b[0m\u001b[0m 16.00 KiB/132.22 KiB\n",
            "\u001b[2mfsspec    \u001b[0m \u001b[32m---\u001b[2m---------------------------\u001b[0m\u001b[0m 16.00 KiB/162.48 KiB\n",
            "\u001b[2K\u001b[6A   \u001b[36m\u001b[1mBuilding\u001b[0m\u001b[39m autogluon-tabular\u001b[2m @ file:///content/autogluon/tabular\u001b[0m\n",
            "   \u001b[36m\u001b[1mBuilding\u001b[0m\u001b[39m autogluon-multimodal\u001b[2m @ file:///content/autogluon/multimodal\u001b[0m\n",
            "\u001b[37m⠙\u001b[0m \u001b[2mPreparing packages...\u001b[0m (0/6)\n",
            "\u001b[2mdill      \u001b[0m \u001b[32m-----------------\u001b[2m-------------\u001b[0m\u001b[0m 62.96 KiB/112.55 KiB\n",
            "\u001b[2mmultiprocess\u001b[0m \u001b[32m----\u001b[2m--------------------------\u001b[0m\u001b[0m 16.00 KiB/132.22 KiB\n",
            "\u001b[2mfsspec    \u001b[0m \u001b[32m---\u001b[2m---------------------------\u001b[0m\u001b[0m 16.00 KiB/162.48 KiB\n",
            "\u001b[2K\u001b[6A   \u001b[36m\u001b[1mBuilding\u001b[0m\u001b[39m autogluon-tabular\u001b[2m @ file:///content/autogluon/tabular\u001b[0m\n",
            "   \u001b[36m\u001b[1mBuilding\u001b[0m\u001b[39m autogluon-multimodal\u001b[2m @ file:///content/autogluon/multimodal\u001b[0m\n",
            "\u001b[37m⠙\u001b[0m \u001b[2mPreparing packages...\u001b[0m (0/6)\n",
            "\u001b[2mdill      \u001b[0m \u001b[32m----------------------\u001b[2m--------\u001b[0m\u001b[0m 78.96 KiB/112.55 KiB\n",
            "\u001b[2mmultiprocess\u001b[0m \u001b[32m----\u001b[2m--------------------------\u001b[0m\u001b[0m 16.00 KiB/132.22 KiB\n",
            "\u001b[2mfsspec    \u001b[0m \u001b[32m---\u001b[2m---------------------------\u001b[0m\u001b[0m 16.00 KiB/162.48 KiB\n",
            "\u001b[2K\u001b[6A   \u001b[36m\u001b[1mBuilding\u001b[0m\u001b[39m autogluon-tabular\u001b[2m @ file:///content/autogluon/tabular\u001b[0m\n",
            "   \u001b[36m\u001b[1mBuilding\u001b[0m\u001b[39m autogluon-multimodal\u001b[2m @ file:///content/autogluon/multimodal\u001b[0m\n",
            "\u001b[37m⠙\u001b[0m \u001b[2mPreparing packages...\u001b[0m (0/6)\n",
            "\u001b[2mdill      \u001b[0m \u001b[32m----------------------\u001b[2m--------\u001b[0m\u001b[0m 78.96 KiB/112.55 KiB\n",
            "\u001b[2mmultiprocess\u001b[0m \u001b[32m-------------------\u001b[2m-----------\u001b[0m\u001b[0m 80.00 KiB/132.22 KiB\n",
            "\u001b[2mfsspec    \u001b[0m \u001b[32m------------\u001b[2m------------------\u001b[0m\u001b[0m 60.18 KiB/162.48 KiB\n",
            "\u001b[2K\u001b[6A   \u001b[36m\u001b[1mBuilding\u001b[0m\u001b[39m autogluon-tabular\u001b[2m @ file:///content/autogluon/tabular\u001b[0m\n",
            "   \u001b[36m\u001b[1mBuilding\u001b[0m\u001b[39m autogluon-multimodal\u001b[2m @ file:///content/autogluon/multimodal\u001b[0m\n",
            "\u001b[37m⠙\u001b[0m \u001b[2mPreparing packages...\u001b[0m (0/6)\n",
            "\u001b[2mdill      \u001b[0m \u001b[32m------------------------------\u001b[2m\u001b[0m\u001b[0m 110.96 KiB/112.55 KiB\n",
            "\u001b[2mfsspec    \u001b[0m \u001b[32m-----------------------------\u001b[2m-\u001b[0m\u001b[0m 156.18 KiB/162.48 KiB\n",
            "\u001b[2K\u001b[5A   \u001b[36m\u001b[1mBuilding\u001b[0m\u001b[39m autogluon-tabular\u001b[2m @ file:///content/autogluon/tabular\u001b[0m\n",
            "   \u001b[36m\u001b[1mBuilding\u001b[0m\u001b[39m autogluon-multimodal\u001b[2m @ file:///content/autogluon/multimodal\u001b[0m\n",
            "\u001b[37m⠙\u001b[0m \u001b[2mPreparing packages...\u001b[0m (0/6)\n",
            "\u001b[2mfsspec    \u001b[0m \u001b[32m------------------------------\u001b[2m\u001b[0m\u001b[0m 162.48 KiB/162.48 KiB\n",
            "\u001b[2K\u001b[4A   \u001b[36m\u001b[1mBuilding\u001b[0m\u001b[39m autogluon-tabular\u001b[2m @ file:///content/autogluon/tabular\u001b[0m\n",
            "   \u001b[36m\u001b[1mBuilding\u001b[0m\u001b[39m autogluon-multimodal\u001b[2m @ file:///content/autogluon/multimodal\u001b[0m\n",
            "\u001b[37m⠙\u001b[0m \u001b[2mPreparing packages...\u001b[0m (0/6)\n",
            "\u001b[2K\u001b[3A   \u001b[36m\u001b[1mBuilding\u001b[0m\u001b[39m autogluon-tabular\u001b[2m @ file:///content/autogluon/tabular\u001b[0m\n",
            "   \u001b[36m\u001b[1mBuilding\u001b[0m\u001b[39m autogluon-multimodal\u001b[2m @ file:///content/autogluon/multimodal\u001b[0m\n",
            "\u001b[37m⠙\u001b[0m \u001b[2mPreparing packages...\u001b[0m (0/6)\n",
            "\u001b[2K\u001b[3A   \u001b[36m\u001b[1mBuilding\u001b[0m\u001b[39m autogluon-tabular\u001b[2m @ file:///content/autogluon/tabular\u001b[0m\n",
            "   \u001b[36m\u001b[1mBuilding\u001b[0m\u001b[39m autogluon-multimodal\u001b[2m @ file:///content/autogluon/multimodal\u001b[0m\n",
            "\u001b[2K\u001b[2A   \u001b[36m\u001b[1mBuilding\u001b[0m\u001b[39m autogluon-tabular\u001b[2m @ file:///content/autogluon/tabular\u001b[0m\n",
            "   \u001b[36m\u001b[1mBuilding\u001b[0m\u001b[39m autogluon-multimodal\u001b[2m @ file:///content/autogluon/multimodal\u001b[0m\n",
            "\u001b[2K\u001b[2A   \u001b[36m\u001b[1mBuilding\u001b[0m\u001b[39m autogluon-tabular\u001b[2m @ file:///content/autogluon/tabular\u001b[0m\n",
            "   \u001b[36m\u001b[1mBuilding\u001b[0m\u001b[39m autogluon-multimodal\u001b[2m @ file:///content/autogluon/multimodal\u001b[0m\n",
            "\u001b[2K\u001b[2A   \u001b[36m\u001b[1mBuilding\u001b[0m\u001b[39m autogluon-tabular\u001b[2m @ file:///content/autogluon/tabular\u001b[0m\n",
            "   \u001b[36m\u001b[1mBuilding\u001b[0m\u001b[39m autogluon-multimodal\u001b[2m @ file:///content/autogluon/multimodal\u001b[0m\n",
            "\u001b[2K\u001b[2A   \u001b[36m\u001b[1mBuilding\u001b[0m\u001b[39m autogluon-tabular\u001b[2m @ file:///content/autogluon/tabular\u001b[0m\n",
            "   \u001b[36m\u001b[1mBuilding\u001b[0m\u001b[39m autogluon-multimodal\u001b[2m @ file:///content/autogluon/multimodal\u001b[0m\n",
            "\u001b[2K\u001b[2A   \u001b[36m\u001b[1mBuilding\u001b[0m\u001b[39m autogluon-tabular\u001b[2m @ file:///content/autogluon/tabular\u001b[0m\n",
            "   \u001b[36m\u001b[1mBuilding\u001b[0m\u001b[39m autogluon-multimodal\u001b[2m @ file:///content/autogluon/multimodal\u001b[0m\n",
            "\u001b[2K\u001b[2A   \u001b[36m\u001b[1mBuilding\u001b[0m\u001b[39m autogluon-tabular\u001b[2m @ file:///content/autogluon/tabular\u001b[0m\n",
            "   \u001b[36m\u001b[1mBuilding\u001b[0m\u001b[39m autogluon-multimodal\u001b[2m @ file:///content/autogluon/multimodal\u001b[0m\n",
            "\u001b[2K\u001b[2A   \u001b[36m\u001b[1mBuilding\u001b[0m\u001b[39m autogluon-tabular\u001b[2m @ file:///content/autogluon/tabular\u001b[0m\n",
            "   \u001b[36m\u001b[1mBuilding\u001b[0m\u001b[39m autogluon-multimodal\u001b[2m @ file:///content/autogluon/multimodal\u001b[0m\n",
            "\u001b[2K\u001b[2A   \u001b[36m\u001b[1mBuilding\u001b[0m\u001b[39m autogluon-tabular\u001b[2m @ file:///content/autogluon/tabular\u001b[0m\n",
            "   \u001b[36m\u001b[1mBuilding\u001b[0m\u001b[39m autogluon-multimodal\u001b[2m @ file:///content/autogluon/multimodal\u001b[0m\n",
            "\u001b[2K\u001b[2A   \u001b[36m\u001b[1mBuilding\u001b[0m\u001b[39m autogluon-tabular\u001b[2m @ file:///content/autogluon/tabular\u001b[0m\n",
            "      \u001b[32m\u001b[1mBuilt\u001b[0m\u001b[39m autogluon-multimodal\u001b[2m @ file:///content/autogluon/multimodal\u001b[0m\n",
            "\u001b[2K\u001b[2A      \u001b[32m\u001b[1mBuilt\u001b[0m\u001b[39m autogluon-tabular\u001b[2m @ file:///content/autogluon/tabular\u001b[0m\n",
            "      \u001b[32m\u001b[1mBuilt\u001b[0m\u001b[39m autogluon-multimodal\u001b[2m @ file:///content/autogluon/multimodal\u001b[0m\n",
            "\u001b[2K\u001b[1A      \u001b[32m\u001b[1mBuilt\u001b[0m\u001b[39m autogluon-multimodal\u001b[2m @ file:///content/autogluon/multimodal\u001b[0m\n",
            "\u001b[2K\u001b[2mPrepared \u001b[1m6 packages\u001b[0m \u001b[2min 1.68s\u001b[0m\u001b[0m\n",
            "\u001b[2mUninstalled \u001b[1m6 packages\u001b[0m \u001b[2min 15ms\u001b[0m\u001b[0m\n",
            "\u001b[2K\u001b[2mInstalled \u001b[1m6 packages\u001b[0m \u001b[2min 14ms\u001b[0m\u001b[0m\n",
            " \u001b[33m~\u001b[39m \u001b[1mautogluon-multimodal\u001b[0m\u001b[2m==1.2.1b20250310 (from file:///content/autogluon/multimodal)\u001b[0m\n",
            " \u001b[33m~\u001b[39m \u001b[1mautogluon-tabular\u001b[0m\u001b[2m==1.2.1b20250310 (from file:///content/autogluon/tabular)\u001b[0m\n",
            " \u001b[31m-\u001b[39m \u001b[1mdatasets\u001b[0m\u001b[2m==2.19.2\u001b[0m\n",
            " \u001b[32m+\u001b[39m \u001b[1mdatasets\u001b[0m\u001b[2m==2.14.7\u001b[0m\n",
            " \u001b[31m-\u001b[39m \u001b[1mdill\u001b[0m\u001b[2m==0.3.8\u001b[0m\n",
            " \u001b[32m+\u001b[39m \u001b[1mdill\u001b[0m\u001b[2m==0.3.7\u001b[0m\n",
            " \u001b[31m-\u001b[39m \u001b[1mfsspec\u001b[0m\u001b[2m==2024.3.1\u001b[0m\n",
            " \u001b[32m+\u001b[39m \u001b[1mfsspec\u001b[0m\u001b[2m==2023.10.0\u001b[0m\n",
            " \u001b[31m-\u001b[39m \u001b[1mmultiprocess\u001b[0m\u001b[2m==0.70.16\u001b[0m\n",
            " \u001b[32m+\u001b[39m \u001b[1mmultiprocess\u001b[0m\u001b[2m==0.70.15\u001b[0m\n"
          ]
        }
      ],
      "source": [
        "!cd autogluon/ && git checkout 7d5a8c89c0ba3b8de06c80c3ded61783401c4843 && ./full_install.sh"
      ]
    },
    {
      "cell_type": "markdown",
      "metadata": {
        "id": "084yubX9Y-5c"
      },
      "source": [
        "# Restart the Runtime"
      ]
    },
    {
      "cell_type": "code",
      "execution_count": null,
      "metadata": {
        "colab": {
          "base_uri": "https://localhost:8080/"
        },
        "id": "Ql8QZQNDW_nF",
        "outputId": "9efe6aba-b8a0-454c-e12d-602faac34550"
      },
      "outputs": [
        {
          "name": "stdout",
          "output_type": "stream",
          "text": [
            "\n",
            "INSTALLED VERSIONS\n",
            "------------------\n",
            "date: 2025-03-10\n",
            "time: 18:50:06.142538\n",
            "python: 3.11.11.final.0\n",
            "OS: Linux\n",
            "OS-release: 6.1.85+\n",
            "Version: #1 SMP PREEMPT_DYNAMIC Thu Jun 27 21:05:47 UTC 2024\n",
            "machine: x86_64\n",
            "processor: x86_64\n",
            "num_cores: 2\n",
            "cpu_ram_mb: 12978.96484375\n",
            "cuda version: None\n",
            "num_gpus: 0\n",
            "gpu_ram_mb: []\n",
            "avail_disk_size_mb: 70217\n",
            "\n"
          ]
        }
      ],
      "source": [
        "from autogluon.core.utils import show_versions\n",
        "\n",
        "show_versions()"
      ]
    },
    {
      "cell_type": "code",
      "execution_count": null,
      "metadata": {
        "colab": {
          "base_uri": "https://localhost:8080/",
          "height": 315
        },
        "id": "HBsxfiUmXn7s",
        "outputId": "89408e4f-576c-477d-826a-b4b4d54305d8"
      },
      "outputs": [
        {
          "ename": "ImportError",
          "evalue": "cannot import name 'TabularPredictor' from 'autogluon.tabular' (unknown location)",
          "output_type": "error",
          "traceback": [
            "\u001b[0;31m---------------------------------------------------------------------------\u001b[0m",
            "\u001b[0;31mImportError\u001b[0m                               Traceback (most recent call last)",
            "\u001b[0;32m<ipython-input-2-3ec414456b8e>\u001b[0m in \u001b[0;36m<cell line: 0>\u001b[0;34m()\u001b[0m\n\u001b[0;32m----> 1\u001b[0;31m \u001b[0;32mfrom\u001b[0m \u001b[0mautogluon\u001b[0m\u001b[0;34m.\u001b[0m\u001b[0mtabular\u001b[0m \u001b[0;32mimport\u001b[0m \u001b[0mTabularPredictor\u001b[0m\u001b[0;34m\u001b[0m\u001b[0;34m\u001b[0m\u001b[0m\n\u001b[0m",
            "\u001b[0;31mImportError\u001b[0m: cannot import name 'TabularPredictor' from 'autogluon.tabular' (unknown location)",
            "",
            "\u001b[0;31m---------------------------------------------------------------------------\u001b[0;32m\nNOTE: If your import is failing due to a missing package, you can\nmanually install dependencies using either !pip or !apt.\n\nTo view examples of installing some common dependencies, click the\n\"Open Examples\" button below.\n\u001b[0;31m---------------------------------------------------------------------------\u001b[0m\n"
          ]
        }
      ],
      "source": [
        "from autogluon.tabular import TabularPredictor"
      ]
    },
    {
      "cell_type": "code",
      "execution_count": null,
      "metadata": {
        "colab": {
          "base_uri": "https://localhost:8080/"
        },
        "id": "B4m8yZobYIwq",
        "outputId": "e52ccc6e-933c-4130-d968-80d205dfce49"
      },
      "outputs": [
        {
          "name": "stdout",
          "output_type": "stream",
          "text": [
            "Name: autogluon.tabular\n",
            "Version: 1.2.1b20250310\n",
            "Summary: Fast and Accurate ML in 3 Lines of Code\n",
            "Home-page: https://github.com/autogluon/autogluon\n",
            "Author: AutoGluon Community\n",
            "Author-email: \n",
            "License: Apache-2.0\n",
            "Location: /usr/local/lib/python3.11/dist-packages\n",
            "Editable project location: /content/autogluon/tabular\n",
            "Requires: autogluon.core, autogluon.features, networkx, numpy, pandas, scikit-learn, scipy\n",
            "Required-by: autogluon, autogluon.eda, autogluon.timeseries\n"
          ]
        }
      ],
      "source": [
        "!pip show autogluon.tabular"
      ]
    },
    {
      "cell_type": "code",
      "execution_count": null,
      "metadata": {
        "id": "2PiUSBDiYNxZ"
      },
      "outputs": [],
      "source": []
    }
  ],
  "metadata": {
    "colab": {
      "provenance": []
    },
    "kernelspec": {
      "display_name": "Python 3",
      "name": "python3"
    },
    "language_info": {
      "name": "python"
    }
  },
  "nbformat": 4,
  "nbformat_minor": 0
}
